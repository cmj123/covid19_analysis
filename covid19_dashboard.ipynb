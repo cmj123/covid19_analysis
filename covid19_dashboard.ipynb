{
 "cells": [
  {
   "cell_type": "markdown",
   "metadata": {},
   "source": [
    "# COVID-19 Data Analysis & Visualization\n",
    "\n",
    "## What is COVID-19?"
   ]
  },
  {
   "cell_type": "markdown",
   "metadata": {},
   "source": [
    ">Coronavirus (COVID-19) symptoms are similar to colds and flu. They include a high temperature, a cough and a loss or change to your smell or taste. You can help stop the spread of coronavirus (COVID-19) by getting vaccinated and taking care when meeting other people. While you’re staying at home with coronavirus (COVID-19), you can ease mild symptoms by resting, drinking plenty of fluids and taking painkillers. Treatments for coronavirus (COVID-19) include antibody and antiviral medicines. They are only for people at highest risk of becoming seriously ill."
   ]
  },
  {
   "cell_type": "markdown",
   "metadata": {},
   "source": [
    "![Coronavirus Image](https://www.imperial.ac.uk/stories/two-years-of-covid/assets/JeG4hqRj7c/covid-imperial-story-title-image-wide-2560x1440.jpeg)"
   ]
  },
  {
   "cell_type": "code",
   "execution_count": 1,
   "metadata": {},
   "outputs": [],
   "source": [
    "# Importing the library\n",
    "import numpy as np\n",
    "import pandas as pd\n",
    "import matplotlib.pyplot as plt \n",
    "\n",
    "import plotly.express as px\n",
    "import plotly.graph_objects as go \n",
    "\n",
    "from IPython.core.display import display, HTML\n",
    "from ipywidgets import interact\n",
    "from ipywidgets import widgets \n",
    "import folium"
   ]
  },
  {
   "cell_type": "code",
   "execution_count": 2,
   "metadata": {},
   "outputs": [],
   "source": [
    "# loading data right from the source:\n",
    "death_df = pd.read_csv('https://raw.githubusercontent.com/CSSEGISandData/COVID-19/master/csse_covid_19_data/csse_covid_19_time_series/time_series_covid19_deaths_global.csv')\n",
    "confirmed_df = pd.read_csv('https://raw.githubusercontent.com/CSSEGISandData/COVID-19/master/csse_covid_19_data/csse_covid_19_time_series/time_series_covid19_confirmed_global.csv')\n",
    "recovered_df = pd.read_csv('https://raw.githubusercontent.com/CSSEGISandData/COVID-19/master/csse_covid_19_data/csse_covid_19_time_series/time_series_covid19_recovered_global.csv')\n",
    "country_df = pd.read_csv('https://raw.githubusercontent.com/CSSEGISandData/COVID-19/web-data/data/cases_country.csv')"
   ]
  },
  {
   "cell_type": "code",
   "execution_count": 3,
   "metadata": {},
   "outputs": [],
   "source": [
    "death_df.columns = map(str.lower, death_df.columns)\n",
    "confirmed_df.columns = map(str.lower, confirmed_df.columns)\n",
    "recovered_df.columns = map(str.lower, recovered_df.columns)\n",
    "country_df.columns = map(str.lower, country_df.columns)"
   ]
  },
  {
   "cell_type": "code",
   "execution_count": 4,
   "metadata": {},
   "outputs": [],
   "source": [
    "# Renaming some of the columns for ease of handling\n",
    "death_df = death_df.rename(columns={'province/state':'state', 'country/region':'country'})\n",
    "confirmed_df = confirmed_df.rename(columns={'province/state':'state', 'country/region':'country'})\n",
    "recovered_df= recovered_df.rename(columns={'province/state':'state', 'country/region':'country'})\n",
    "country_df = country_df.rename(columns={ 'country_region':'country'})"
   ]
  },
  {
   "cell_type": "code",
   "execution_count": 5,
   "metadata": {},
   "outputs": [],
   "source": [
    "# Creating a new feature \"NewCases\" to capture the difference between the last/latest day count and 2nd last day count\n",
    "try:\n",
    "    confirmed_df.insert(4,'NewCases',0)\n",
    "except:\n",
    "    pass\n",
    "confirmed_df['NewCases'] = confirmed_df.iloc[:,-1] - confirmed_df.iloc[:,-2]"
   ]
  },
  {
   "cell_type": "code",
   "execution_count": 6,
   "metadata": {},
   "outputs": [],
   "source": [
    "# Creating a new feature \"NewCases\" to capture the difference between the last/latest day count and 2nd last day count\n",
    "try:\n",
    "    death_df.insert(4,'NewCases',0)\n",
    "except:\n",
    "    pass\n",
    "death_df['NewCases'] = death_df.iloc[:,-1] - death_df.iloc[:,-2]"
   ]
  },
  {
   "cell_type": "code",
   "execution_count": 7,
   "metadata": {},
   "outputs": [],
   "source": [
    "# Creating a new feature \"NewCases\" to capture the difference between the last/latest day count and 2nd last day count\n",
    "try:\n",
    "    recovered_df.insert(4,'NewCases',0)\n",
    "except:\n",
    "    pass\n",
    "recovered_df['NewCases'] = recovered_df.iloc[:,-1] - recovered_df.iloc[:,-2]"
   ]
  },
  {
   "cell_type": "code",
   "execution_count": 8,
   "metadata": {},
   "outputs": [],
   "source": [
    "# Summing up the total confiremed cases acrons countries\n",
    "confirmed_total = country_df['confirmed'].sum()\n"
   ]
  },
  {
   "cell_type": "code",
   "execution_count": 9,
   "metadata": {},
   "outputs": [],
   "source": [
    "# Summing up the total deaths across countries\n",
    "deaths_total = country_df['deaths'].sum()\n"
   ]
  },
  {
   "cell_type": "code",
   "execution_count": 10,
   "metadata": {},
   "outputs": [],
   "source": [
    "# Summing up the total recovered cases across countries\n",
    "recovered_total = country_df['recovered'].sum()\n"
   ]
  },
  {
   "cell_type": "code",
   "execution_count": 11,
   "metadata": {},
   "outputs": [],
   "source": [
    "# Summing up the total active cases across countries\n",
    "active_total = country_df['active'].sum()\n"
   ]
  },
  {
   "cell_type": "code",
   "execution_count": 12,
   "metadata": {},
   "outputs": [
    {
     "data": {
      "text/html": [
       "<div style = 'background-color: #504e4e; padding:32px '><span style='color: #fff; font-size:32px;'> Confirmed: 643445487</span><br><span style='color: red; font-size:32px;'> Deaths: 6635741</span><br><span style='color: lightgreen; font-size:32px;'> Recovered: 0.0</span><br><span style='color: lightblue; font-size:32px;'> Active: 0.0</span><br></div>"
      ],
      "text/plain": [
       "<IPython.core.display.HTML object>"
      ]
     },
     "metadata": {},
     "output_type": "display_data"
    }
   ],
   "source": [
    "# display the current total stats\n",
    "\n",
    "display(\n",
    "    HTML(\n",
    "        \"<div style = 'background-color: #504e4e; padding:32px '>\"+\n",
    "        \"<span style='color: #fff; font-size:32px;'> Confirmed: \" + str(confirmed_total) + \"</span>\" + \"<br>\" +\n",
    "        \"<span style='color: red; font-size:32px;'> Deaths: \" + str(deaths_total) + \"</span>\" + \"<br>\" +\n",
    "        \"<span style='color: lightgreen; font-size:32px;'> Recovered: \" + str(recovered_total) + \"</span>\" + \"<br>\" +\n",
    "        \"<span style='color: lightblue; font-size:32px;'> Active: \" + str(active_total) + \"</span>\" + \"<br>\" +\n",
    "        \"</div>\"\n",
    "    )\n",
    ")"
   ]
  },
  {
   "cell_type": "markdown",
   "metadata": {},
   "source": [
    "### Data Visualization through Bubble Chars\n",
    "\n",
    "#### Latest Count of Confirmed New Cases"
   ]
  },
  {
   "cell_type": "code",
   "execution_count": 13,
   "metadata": {},
   "outputs": [],
   "source": [
    "# Aggregation the confirmed new cases againt each country\n",
    "country_confirmed_newcases = confirmed_df.groupby(\"country\")['NewCases'].sum().reset_index(name = \"TotalNewCases\")\n",
    "country_confirmed_newcases = country_confirmed_newcases.sort_values(by='TotalNewCases', ascending=False)\n"
   ]
  },
  {
   "cell_type": "code",
   "execution_count": 14,
   "metadata": {},
   "outputs": [
    {
     "data": {
      "application/vnd.plotly.v1+json": {
       "config": {
        "plotlyServerURL": "https://plot.ly"
       },
       "data": [
        {
         "hovertemplate": "<b>%{hovertext}</b><br><br>country=%{x}<br>TotalNewCases=%{marker.size}<extra></extra>",
         "hovertext": [
          "Japan"
         ],
         "legendgroup": "Japan",
         "marker": {
          "color": "#636efa",
          "size": [
           138396
          ],
          "sizemode": "area",
          "sizeref": 38.443333333333335,
          "symbol": "circle"
         },
         "mode": "markers",
         "name": "Japan",
         "orientation": "v",
         "showlegend": true,
         "type": "scatter",
         "x": [
          "Japan"
         ],
         "xaxis": "x",
         "y": [
          138396
         ],
         "yaxis": "y"
        },
        {
         "hovertemplate": "<b>%{hovertext}</b><br><br>country=%{x}<br>TotalNewCases=%{marker.size}<extra></extra>",
         "hovertext": [
          "US"
         ],
         "legendgroup": "US",
         "marker": {
          "color": "#EF553B",
          "size": [
           109986
          ],
          "sizemode": "area",
          "sizeref": 38.443333333333335,
          "symbol": "circle"
         },
         "mode": "markers",
         "name": "US",
         "orientation": "v",
         "showlegend": true,
         "type": "scatter",
         "x": [
          "US"
         ],
         "xaxis": "x",
         "y": [
          109986
         ],
         "yaxis": "y"
        },
        {
         "hovertemplate": "<b>%{hovertext}</b><br><br>country=%{x}<br>TotalNewCases=%{marker.size}<extra></extra>",
         "hovertext": [
          "France"
         ],
         "legendgroup": "France",
         "marker": {
          "color": "#00cc96",
          "size": [
           67200
          ],
          "sizemode": "area",
          "sizeref": 38.443333333333335,
          "symbol": "circle"
         },
         "mode": "markers",
         "name": "France",
         "orientation": "v",
         "showlegend": true,
         "type": "scatter",
         "x": [
          "France"
         ],
         "xaxis": "x",
         "y": [
          67200
         ],
         "yaxis": "y"
        },
        {
         "hovertemplate": "<b>%{hovertext}</b><br><br>country=%{x}<br>TotalNewCases=%{marker.size}<extra></extra>",
         "hovertext": [
          "Korea, South"
         ],
         "legendgroup": "Korea, South",
         "marker": {
          "color": "#ab63fa",
          "size": [
           57079
          ],
          "sizemode": "area",
          "sizeref": 38.443333333333335,
          "symbol": "circle"
         },
         "mode": "markers",
         "name": "Korea, South",
         "orientation": "v",
         "showlegend": true,
         "type": "scatter",
         "x": [
          "Korea, South"
         ],
         "xaxis": "x",
         "y": [
          57079
         ],
         "yaxis": "y"
        },
        {
         "hovertemplate": "<b>%{hovertext}</b><br><br>country=%{x}<br>TotalNewCases=%{marker.size}<extra></extra>",
         "hovertext": [
          "Germany"
         ],
         "legendgroup": "Germany",
         "marker": {
          "color": "#FFA15A",
          "size": [
           36115
          ],
          "sizemode": "area",
          "sizeref": 38.443333333333335,
          "symbol": "circle"
         },
         "mode": "markers",
         "name": "Germany",
         "orientation": "v",
         "showlegend": true,
         "type": "scatter",
         "x": [
          "Germany"
         ],
         "xaxis": "x",
         "y": [
          36115
         ],
         "yaxis": "y"
        },
        {
         "hovertemplate": "<b>%{hovertext}</b><br><br>country=%{x}<br>TotalNewCases=%{marker.size}<extra></extra>",
         "hovertext": [
          "Taiwan*"
         ],
         "legendgroup": "Taiwan*",
         "marker": {
          "color": "#19d3f3",
          "size": [
           17714
          ],
          "sizemode": "area",
          "sizeref": 38.443333333333335,
          "symbol": "circle"
         },
         "mode": "markers",
         "name": "Taiwan*",
         "orientation": "v",
         "showlegend": true,
         "type": "scatter",
         "x": [
          "Taiwan*"
         ],
         "xaxis": "x",
         "y": [
          17714
         ],
         "yaxis": "y"
        },
        {
         "hovertemplate": "<b>%{hovertext}</b><br><br>country=%{x}<br>TotalNewCases=%{marker.size}<extra></extra>",
         "hovertext": [
          "Peru"
         ],
         "legendgroup": "Peru",
         "marker": {
          "color": "#FF6692",
          "size": [
           14341
          ],
          "sizemode": "area",
          "sizeref": 38.443333333333335,
          "symbol": "circle"
         },
         "mode": "markers",
         "name": "Peru",
         "orientation": "v",
         "showlegend": true,
         "type": "scatter",
         "x": [
          "Peru"
         ],
         "xaxis": "x",
         "y": [
          14341
         ],
         "yaxis": "y"
        },
        {
         "hovertemplate": "<b>%{hovertext}</b><br><br>country=%{x}<br>TotalNewCases=%{marker.size}<extra></extra>",
         "hovertext": [
          "China"
         ],
         "legendgroup": "China",
         "marker": {
          "color": "#B6E880",
          "size": [
           13262
          ],
          "sizemode": "area",
          "sizeref": 38.443333333333335,
          "symbol": "circle"
         },
         "mode": "markers",
         "name": "China",
         "orientation": "v",
         "showlegend": true,
         "type": "scatter",
         "x": [
          "China"
         ],
         "xaxis": "x",
         "y": [
          13262
         ],
         "yaxis": "y"
        },
        {
         "hovertemplate": "<b>%{hovertext}</b><br><br>country=%{x}<br>TotalNewCases=%{marker.size}<extra></extra>",
         "hovertext": [
          "Austria"
         ],
         "legendgroup": "Austria",
         "marker": {
          "color": "#FF97FF",
          "size": [
           6658
          ],
          "sizemode": "area",
          "sizeref": 38.443333333333335,
          "symbol": "circle"
         },
         "mode": "markers",
         "name": "Austria",
         "orientation": "v",
         "showlegend": true,
         "type": "scatter",
         "x": [
          "Austria"
         ],
         "xaxis": "x",
         "y": [
          6658
         ],
         "yaxis": "y"
        },
        {
         "hovertemplate": "<b>%{hovertext}</b><br><br>country=%{x}<br>TotalNewCases=%{marker.size}<extra></extra>",
         "hovertext": [
          "Russia"
         ],
         "legendgroup": "Russia",
         "marker": {
          "color": "#FECB52",
          "size": [
           6043
          ],
          "sizemode": "area",
          "sizeref": 38.443333333333335,
          "symbol": "circle"
         },
         "mode": "markers",
         "name": "Russia",
         "orientation": "v",
         "showlegend": true,
         "type": "scatter",
         "x": [
          "Russia"
         ],
         "xaxis": "x",
         "y": [
          6043
         ],
         "yaxis": "y"
        }
       ],
       "layout": {
        "legend": {
         "itemsizing": "constant",
         "title": {
          "text": "country"
         },
         "tracegroupgap": 0
        },
        "margin": {
         "t": 60
        },
        "template": {
         "data": {
          "bar": [
           {
            "error_x": {
             "color": "#2a3f5f"
            },
            "error_y": {
             "color": "#2a3f5f"
            },
            "marker": {
             "line": {
              "color": "#E5ECF6",
              "width": 0.5
             },
             "pattern": {
              "fillmode": "overlay",
              "size": 10,
              "solidity": 0.2
             }
            },
            "type": "bar"
           }
          ],
          "barpolar": [
           {
            "marker": {
             "line": {
              "color": "#E5ECF6",
              "width": 0.5
             },
             "pattern": {
              "fillmode": "overlay",
              "size": 10,
              "solidity": 0.2
             }
            },
            "type": "barpolar"
           }
          ],
          "carpet": [
           {
            "aaxis": {
             "endlinecolor": "#2a3f5f",
             "gridcolor": "white",
             "linecolor": "white",
             "minorgridcolor": "white",
             "startlinecolor": "#2a3f5f"
            },
            "baxis": {
             "endlinecolor": "#2a3f5f",
             "gridcolor": "white",
             "linecolor": "white",
             "minorgridcolor": "white",
             "startlinecolor": "#2a3f5f"
            },
            "type": "carpet"
           }
          ],
          "choropleth": [
           {
            "colorbar": {
             "outlinewidth": 0,
             "ticks": ""
            },
            "type": "choropleth"
           }
          ],
          "contour": [
           {
            "colorbar": {
             "outlinewidth": 0,
             "ticks": ""
            },
            "colorscale": [
             [
              0,
              "#0d0887"
             ],
             [
              0.1111111111111111,
              "#46039f"
             ],
             [
              0.2222222222222222,
              "#7201a8"
             ],
             [
              0.3333333333333333,
              "#9c179e"
             ],
             [
              0.4444444444444444,
              "#bd3786"
             ],
             [
              0.5555555555555556,
              "#d8576b"
             ],
             [
              0.6666666666666666,
              "#ed7953"
             ],
             [
              0.7777777777777778,
              "#fb9f3a"
             ],
             [
              0.8888888888888888,
              "#fdca26"
             ],
             [
              1,
              "#f0f921"
             ]
            ],
            "type": "contour"
           }
          ],
          "contourcarpet": [
           {
            "colorbar": {
             "outlinewidth": 0,
             "ticks": ""
            },
            "type": "contourcarpet"
           }
          ],
          "heatmap": [
           {
            "colorbar": {
             "outlinewidth": 0,
             "ticks": ""
            },
            "colorscale": [
             [
              0,
              "#0d0887"
             ],
             [
              0.1111111111111111,
              "#46039f"
             ],
             [
              0.2222222222222222,
              "#7201a8"
             ],
             [
              0.3333333333333333,
              "#9c179e"
             ],
             [
              0.4444444444444444,
              "#bd3786"
             ],
             [
              0.5555555555555556,
              "#d8576b"
             ],
             [
              0.6666666666666666,
              "#ed7953"
             ],
             [
              0.7777777777777778,
              "#fb9f3a"
             ],
             [
              0.8888888888888888,
              "#fdca26"
             ],
             [
              1,
              "#f0f921"
             ]
            ],
            "type": "heatmap"
           }
          ],
          "heatmapgl": [
           {
            "colorbar": {
             "outlinewidth": 0,
             "ticks": ""
            },
            "colorscale": [
             [
              0,
              "#0d0887"
             ],
             [
              0.1111111111111111,
              "#46039f"
             ],
             [
              0.2222222222222222,
              "#7201a8"
             ],
             [
              0.3333333333333333,
              "#9c179e"
             ],
             [
              0.4444444444444444,
              "#bd3786"
             ],
             [
              0.5555555555555556,
              "#d8576b"
             ],
             [
              0.6666666666666666,
              "#ed7953"
             ],
             [
              0.7777777777777778,
              "#fb9f3a"
             ],
             [
              0.8888888888888888,
              "#fdca26"
             ],
             [
              1,
              "#f0f921"
             ]
            ],
            "type": "heatmapgl"
           }
          ],
          "histogram": [
           {
            "marker": {
             "pattern": {
              "fillmode": "overlay",
              "size": 10,
              "solidity": 0.2
             }
            },
            "type": "histogram"
           }
          ],
          "histogram2d": [
           {
            "colorbar": {
             "outlinewidth": 0,
             "ticks": ""
            },
            "colorscale": [
             [
              0,
              "#0d0887"
             ],
             [
              0.1111111111111111,
              "#46039f"
             ],
             [
              0.2222222222222222,
              "#7201a8"
             ],
             [
              0.3333333333333333,
              "#9c179e"
             ],
             [
              0.4444444444444444,
              "#bd3786"
             ],
             [
              0.5555555555555556,
              "#d8576b"
             ],
             [
              0.6666666666666666,
              "#ed7953"
             ],
             [
              0.7777777777777778,
              "#fb9f3a"
             ],
             [
              0.8888888888888888,
              "#fdca26"
             ],
             [
              1,
              "#f0f921"
             ]
            ],
            "type": "histogram2d"
           }
          ],
          "histogram2dcontour": [
           {
            "colorbar": {
             "outlinewidth": 0,
             "ticks": ""
            },
            "colorscale": [
             [
              0,
              "#0d0887"
             ],
             [
              0.1111111111111111,
              "#46039f"
             ],
             [
              0.2222222222222222,
              "#7201a8"
             ],
             [
              0.3333333333333333,
              "#9c179e"
             ],
             [
              0.4444444444444444,
              "#bd3786"
             ],
             [
              0.5555555555555556,
              "#d8576b"
             ],
             [
              0.6666666666666666,
              "#ed7953"
             ],
             [
              0.7777777777777778,
              "#fb9f3a"
             ],
             [
              0.8888888888888888,
              "#fdca26"
             ],
             [
              1,
              "#f0f921"
             ]
            ],
            "type": "histogram2dcontour"
           }
          ],
          "mesh3d": [
           {
            "colorbar": {
             "outlinewidth": 0,
             "ticks": ""
            },
            "type": "mesh3d"
           }
          ],
          "parcoords": [
           {
            "line": {
             "colorbar": {
              "outlinewidth": 0,
              "ticks": ""
             }
            },
            "type": "parcoords"
           }
          ],
          "pie": [
           {
            "automargin": true,
            "type": "pie"
           }
          ],
          "scatter": [
           {
            "fillpattern": {
             "fillmode": "overlay",
             "size": 10,
             "solidity": 0.2
            },
            "type": "scatter"
           }
          ],
          "scatter3d": [
           {
            "line": {
             "colorbar": {
              "outlinewidth": 0,
              "ticks": ""
             }
            },
            "marker": {
             "colorbar": {
              "outlinewidth": 0,
              "ticks": ""
             }
            },
            "type": "scatter3d"
           }
          ],
          "scattercarpet": [
           {
            "marker": {
             "colorbar": {
              "outlinewidth": 0,
              "ticks": ""
             }
            },
            "type": "scattercarpet"
           }
          ],
          "scattergeo": [
           {
            "marker": {
             "colorbar": {
              "outlinewidth": 0,
              "ticks": ""
             }
            },
            "type": "scattergeo"
           }
          ],
          "scattergl": [
           {
            "marker": {
             "colorbar": {
              "outlinewidth": 0,
              "ticks": ""
             }
            },
            "type": "scattergl"
           }
          ],
          "scattermapbox": [
           {
            "marker": {
             "colorbar": {
              "outlinewidth": 0,
              "ticks": ""
             }
            },
            "type": "scattermapbox"
           }
          ],
          "scatterpolar": [
           {
            "marker": {
             "colorbar": {
              "outlinewidth": 0,
              "ticks": ""
             }
            },
            "type": "scatterpolar"
           }
          ],
          "scatterpolargl": [
           {
            "marker": {
             "colorbar": {
              "outlinewidth": 0,
              "ticks": ""
             }
            },
            "type": "scatterpolargl"
           }
          ],
          "scatterternary": [
           {
            "marker": {
             "colorbar": {
              "outlinewidth": 0,
              "ticks": ""
             }
            },
            "type": "scatterternary"
           }
          ],
          "surface": [
           {
            "colorbar": {
             "outlinewidth": 0,
             "ticks": ""
            },
            "colorscale": [
             [
              0,
              "#0d0887"
             ],
             [
              0.1111111111111111,
              "#46039f"
             ],
             [
              0.2222222222222222,
              "#7201a8"
             ],
             [
              0.3333333333333333,
              "#9c179e"
             ],
             [
              0.4444444444444444,
              "#bd3786"
             ],
             [
              0.5555555555555556,
              "#d8576b"
             ],
             [
              0.6666666666666666,
              "#ed7953"
             ],
             [
              0.7777777777777778,
              "#fb9f3a"
             ],
             [
              0.8888888888888888,
              "#fdca26"
             ],
             [
              1,
              "#f0f921"
             ]
            ],
            "type": "surface"
           }
          ],
          "table": [
           {
            "cells": {
             "fill": {
              "color": "#EBF0F8"
             },
             "line": {
              "color": "white"
             }
            },
            "header": {
             "fill": {
              "color": "#C8D4E3"
             },
             "line": {
              "color": "white"
             }
            },
            "type": "table"
           }
          ]
         },
         "layout": {
          "annotationdefaults": {
           "arrowcolor": "#2a3f5f",
           "arrowhead": 0,
           "arrowwidth": 1
          },
          "autotypenumbers": "strict",
          "coloraxis": {
           "colorbar": {
            "outlinewidth": 0,
            "ticks": ""
           }
          },
          "colorscale": {
           "diverging": [
            [
             0,
             "#8e0152"
            ],
            [
             0.1,
             "#c51b7d"
            ],
            [
             0.2,
             "#de77ae"
            ],
            [
             0.3,
             "#f1b6da"
            ],
            [
             0.4,
             "#fde0ef"
            ],
            [
             0.5,
             "#f7f7f7"
            ],
            [
             0.6,
             "#e6f5d0"
            ],
            [
             0.7,
             "#b8e186"
            ],
            [
             0.8,
             "#7fbc41"
            ],
            [
             0.9,
             "#4d9221"
            ],
            [
             1,
             "#276419"
            ]
           ],
           "sequential": [
            [
             0,
             "#0d0887"
            ],
            [
             0.1111111111111111,
             "#46039f"
            ],
            [
             0.2222222222222222,
             "#7201a8"
            ],
            [
             0.3333333333333333,
             "#9c179e"
            ],
            [
             0.4444444444444444,
             "#bd3786"
            ],
            [
             0.5555555555555556,
             "#d8576b"
            ],
            [
             0.6666666666666666,
             "#ed7953"
            ],
            [
             0.7777777777777778,
             "#fb9f3a"
            ],
            [
             0.8888888888888888,
             "#fdca26"
            ],
            [
             1,
             "#f0f921"
            ]
           ],
           "sequentialminus": [
            [
             0,
             "#0d0887"
            ],
            [
             0.1111111111111111,
             "#46039f"
            ],
            [
             0.2222222222222222,
             "#7201a8"
            ],
            [
             0.3333333333333333,
             "#9c179e"
            ],
            [
             0.4444444444444444,
             "#bd3786"
            ],
            [
             0.5555555555555556,
             "#d8576b"
            ],
            [
             0.6666666666666666,
             "#ed7953"
            ],
            [
             0.7777777777777778,
             "#fb9f3a"
            ],
            [
             0.8888888888888888,
             "#fdca26"
            ],
            [
             1,
             "#f0f921"
            ]
           ]
          },
          "colorway": [
           "#636efa",
           "#EF553B",
           "#00cc96",
           "#ab63fa",
           "#FFA15A",
           "#19d3f3",
           "#FF6692",
           "#B6E880",
           "#FF97FF",
           "#FECB52"
          ],
          "font": {
           "color": "#2a3f5f"
          },
          "geo": {
           "bgcolor": "white",
           "lakecolor": "white",
           "landcolor": "#E5ECF6",
           "showlakes": true,
           "showland": true,
           "subunitcolor": "white"
          },
          "hoverlabel": {
           "align": "left"
          },
          "hovermode": "closest",
          "mapbox": {
           "style": "light"
          },
          "paper_bgcolor": "white",
          "plot_bgcolor": "#E5ECF6",
          "polar": {
           "angularaxis": {
            "gridcolor": "white",
            "linecolor": "white",
            "ticks": ""
           },
           "bgcolor": "#E5ECF6",
           "radialaxis": {
            "gridcolor": "white",
            "linecolor": "white",
            "ticks": ""
           }
          },
          "scene": {
           "xaxis": {
            "backgroundcolor": "#E5ECF6",
            "gridcolor": "white",
            "gridwidth": 2,
            "linecolor": "white",
            "showbackground": true,
            "ticks": "",
            "zerolinecolor": "white"
           },
           "yaxis": {
            "backgroundcolor": "#E5ECF6",
            "gridcolor": "white",
            "gridwidth": 2,
            "linecolor": "white",
            "showbackground": true,
            "ticks": "",
            "zerolinecolor": "white"
           },
           "zaxis": {
            "backgroundcolor": "#E5ECF6",
            "gridcolor": "white",
            "gridwidth": 2,
            "linecolor": "white",
            "showbackground": true,
            "ticks": "",
            "zerolinecolor": "white"
           }
          },
          "shapedefaults": {
           "line": {
            "color": "#2a3f5f"
           }
          },
          "ternary": {
           "aaxis": {
            "gridcolor": "white",
            "linecolor": "white",
            "ticks": ""
           },
           "baxis": {
            "gridcolor": "white",
            "linecolor": "white",
            "ticks": ""
           },
           "bgcolor": "#E5ECF6",
           "caxis": {
            "gridcolor": "white",
            "linecolor": "white",
            "ticks": ""
           }
          },
          "title": {
           "x": 0.05
          },
          "xaxis": {
           "automargin": true,
           "gridcolor": "white",
           "linecolor": "white",
           "ticks": "",
           "title": {
            "standoff": 15
           },
           "zerolinecolor": "white",
           "zerolinewidth": 2
          },
          "yaxis": {
           "automargin": true,
           "gridcolor": "white",
           "linecolor": "white",
           "ticks": "",
           "title": {
            "standoff": 15
           },
           "zerolinecolor": "white",
           "zerolinewidth": 2
          }
         }
        },
        "title": {
         "text": "10 countries with highest number of confirmed new cases. <br> (Last updated on 11/30/22)"
        },
        "width": 900,
        "xaxis": {
         "anchor": "y",
         "categoryarray": [
          "Japan",
          "US",
          "France",
          "Korea, South",
          "Germany",
          "Taiwan*",
          "Peru",
          "China",
          "Austria",
          "Russia"
         ],
         "categoryorder": "array",
         "domain": [
          0,
          1
         ],
         "title": {
          "text": "Countries"
         }
        },
        "yaxis": {
         "anchor": "x",
         "domain": [
          0,
          1
         ],
         "title": {
          "text": "Confirmed New Cases"
         }
        }
       }
      }
     },
     "metadata": {},
     "output_type": "display_data"
    },
    {
     "data": {
      "application/vnd.jupyter.widget-view+json": {
       "model_id": "b7be85061b114031ba2bb26b8665a632",
       "version_major": 2,
       "version_minor": 0
      },
      "text/plain": [
       "interactive(children=(IntSlider(value=10, description='n', max=30, min=-10), Output()), _dom_classes=('widget-…"
      ]
     },
     "metadata": {},
     "output_type": "display_data"
    }
   ],
   "source": [
    "# Visualizing the new confirmed cases against each country using plotly\n",
    "def bubble_chart(n):\n",
    "    fig = px.scatter(country_confirmed_newcases.head(n), x=\"country\", y=\"TotalNewCases\", size=\"TotalNewCases\", color=\"country\", \n",
    "        hover_name=\"country\", size_max=60\n",
    "        )\n",
    "    fig.update_layout(\n",
    "        title = str(n) + \" countries with highest number of confirmed new cases. <br> (Last updated on \" + (confirmed_df.columns)[-1] + \")\",\n",
    "        xaxis_title=\"Countries\",\n",
    "        yaxis_title=\"Confirmed New Cases\",\n",
    "        width = 900\n",
    "    )\n",
    "    fig.show();\n",
    "\n",
    "interact(bubble_chart, n=10)\n",
    "ipywLayout= widgets.Layout()\n",
    "ipywLayout.display='none'\n"
   ]
  },
  {
   "cell_type": "markdown",
   "metadata": {},
   "source": [
    "#### Latest Count of New Death Cases"
   ]
  },
  {
   "cell_type": "code",
   "execution_count": 15,
   "metadata": {},
   "outputs": [],
   "source": [
    "# Aggregating the new death cases against each country\n",
    "country_death_newcases = death_df.groupby(\"country\")['NewCases'].sum().reset_index(name ='TotalNewCases')\n",
    "country_death_newcases = country_death_newcases.sort_values(by='TotalNewCases', ascending=False)\n"
   ]
  },
  {
   "cell_type": "code",
   "execution_count": 16,
   "metadata": {},
   "outputs": [
    {
     "data": {
      "application/vnd.plotly.v1+json": {
       "config": {
        "plotlyServerURL": "https://plot.ly"
       },
       "data": [
        {
         "hovertemplate": "<b>%{hovertext}</b><br><br>country=%{x}<br>TotalNewCases=%{marker.size}<extra></extra>",
         "hovertext": [
          "US"
         ],
         "legendgroup": "US",
         "marker": {
          "color": "#636efa",
          "size": [
           567
          ],
          "sizemode": "area",
          "sizeref": 0.1575,
          "symbol": "circle"
         },
         "mode": "markers",
         "name": "US",
         "orientation": "v",
         "showlegend": true,
         "type": "scatter",
         "x": [
          "US"
         ],
         "xaxis": "x",
         "y": [
          567
         ],
         "yaxis": "y"
        },
        {
         "hovertemplate": "<b>%{hovertext}</b><br><br>country=%{x}<br>TotalNewCases=%{marker.size}<extra></extra>",
         "hovertext": [
          "Japan"
         ],
         "legendgroup": "Japan",
         "marker": {
          "color": "#EF553B",
          "size": [
           210
          ],
          "sizemode": "area",
          "sizeref": 0.1575,
          "symbol": "circle"
         },
         "mode": "markers",
         "name": "Japan",
         "orientation": "v",
         "showlegend": true,
         "type": "scatter",
         "x": [
          "Japan"
         ],
         "xaxis": "x",
         "y": [
          210
         ],
         "yaxis": "y"
        },
        {
         "hovertemplate": "<b>%{hovertext}</b><br><br>country=%{x}<br>TotalNewCases=%{marker.size}<extra></extra>",
         "hovertext": [
          "Germany"
         ],
         "legendgroup": "Germany",
         "marker": {
          "color": "#00cc96",
          "size": [
           152
          ],
          "sizemode": "area",
          "sizeref": 0.1575,
          "symbol": "circle"
         },
         "mode": "markers",
         "name": "Germany",
         "orientation": "v",
         "showlegend": true,
         "type": "scatter",
         "x": [
          "Germany"
         ],
         "xaxis": "x",
         "y": [
          152
         ],
         "yaxis": "y"
        },
        {
         "hovertemplate": "<b>%{hovertext}</b><br><br>country=%{x}<br>TotalNewCases=%{marker.size}<extra></extra>",
         "hovertext": [
          "Canada"
         ],
         "legendgroup": "Canada",
         "marker": {
          "color": "#ab63fa",
          "size": [
           79
          ],
          "sizemode": "area",
          "sizeref": 0.1575,
          "symbol": "circle"
         },
         "mode": "markers",
         "name": "Canada",
         "orientation": "v",
         "showlegend": true,
         "type": "scatter",
         "x": [
          "Canada"
         ],
         "xaxis": "x",
         "y": [
          79
         ],
         "yaxis": "y"
        },
        {
         "hovertemplate": "<b>%{hovertext}</b><br><br>country=%{x}<br>TotalNewCases=%{marker.size}<extra></extra>",
         "hovertext": [
          "France"
         ],
         "legendgroup": "France",
         "marker": {
          "color": "#FFA15A",
          "size": [
           75
          ],
          "sizemode": "area",
          "sizeref": 0.1575,
          "symbol": "circle"
         },
         "mode": "markers",
         "name": "France",
         "orientation": "v",
         "showlegend": true,
         "type": "scatter",
         "x": [
          "France"
         ],
         "xaxis": "x",
         "y": [
          75
         ],
         "yaxis": "y"
        },
        {
         "hovertemplate": "<b>%{hovertext}</b><br><br>country=%{x}<br>TotalNewCases=%{marker.size}<extra></extra>",
         "hovertext": [
          "Czechia"
         ],
         "legendgroup": "Czechia",
         "marker": {
          "color": "#19d3f3",
          "size": [
           68
          ],
          "sizemode": "area",
          "sizeref": 0.1575,
          "symbol": "circle"
         },
         "mode": "markers",
         "name": "Czechia",
         "orientation": "v",
         "showlegend": true,
         "type": "scatter",
         "x": [
          "Czechia"
         ],
         "xaxis": "x",
         "y": [
          68
         ],
         "yaxis": "y"
        },
        {
         "hovertemplate": "<b>%{hovertext}</b><br><br>country=%{x}<br>TotalNewCases=%{marker.size}<extra></extra>",
         "hovertext": [
          "Korea, South"
         ],
         "legendgroup": "Korea, South",
         "marker": {
          "color": "#FF6692",
          "size": [
           62
          ],
          "sizemode": "area",
          "sizeref": 0.1575,
          "symbol": "circle"
         },
         "mode": "markers",
         "name": "Korea, South",
         "orientation": "v",
         "showlegend": true,
         "type": "scatter",
         "x": [
          "Korea, South"
         ],
         "xaxis": "x",
         "y": [
          62
         ],
         "yaxis": "y"
        },
        {
         "hovertemplate": "<b>%{hovertext}</b><br><br>country=%{x}<br>TotalNewCases=%{marker.size}<extra></extra>",
         "hovertext": [
          "Russia"
         ],
         "legendgroup": "Russia",
         "marker": {
          "color": "#B6E880",
          "size": [
           59
          ],
          "sizemode": "area",
          "sizeref": 0.1575,
          "symbol": "circle"
         },
         "mode": "markers",
         "name": "Russia",
         "orientation": "v",
         "showlegend": true,
         "type": "scatter",
         "x": [
          "Russia"
         ],
         "xaxis": "x",
         "y": [
          59
         ],
         "yaxis": "y"
        },
        {
         "hovertemplate": "<b>%{hovertext}</b><br><br>country=%{x}<br>TotalNewCases=%{marker.size}<extra></extra>",
         "hovertext": [
          "Hungary"
         ],
         "legendgroup": "Hungary",
         "marker": {
          "color": "#FF97FF",
          "size": [
           42
          ],
          "sizemode": "area",
          "sizeref": 0.1575,
          "symbol": "circle"
         },
         "mode": "markers",
         "name": "Hungary",
         "orientation": "v",
         "showlegend": true,
         "type": "scatter",
         "x": [
          "Hungary"
         ],
         "xaxis": "x",
         "y": [
          42
         ],
         "yaxis": "y"
        },
        {
         "hovertemplate": "<b>%{hovertext}</b><br><br>country=%{x}<br>TotalNewCases=%{marker.size}<extra></extra>",
         "hovertext": [
          "Indonesia"
         ],
         "legendgroup": "Indonesia",
         "marker": {
          "color": "#FECB52",
          "size": [
           41
          ],
          "sizemode": "area",
          "sizeref": 0.1575,
          "symbol": "circle"
         },
         "mode": "markers",
         "name": "Indonesia",
         "orientation": "v",
         "showlegend": true,
         "type": "scatter",
         "x": [
          "Indonesia"
         ],
         "xaxis": "x",
         "y": [
          41
         ],
         "yaxis": "y"
        }
       ],
       "layout": {
        "legend": {
         "itemsizing": "constant",
         "title": {
          "text": "country"
         },
         "tracegroupgap": 0
        },
        "margin": {
         "t": 60
        },
        "template": {
         "data": {
          "bar": [
           {
            "error_x": {
             "color": "#2a3f5f"
            },
            "error_y": {
             "color": "#2a3f5f"
            },
            "marker": {
             "line": {
              "color": "#E5ECF6",
              "width": 0.5
             },
             "pattern": {
              "fillmode": "overlay",
              "size": 10,
              "solidity": 0.2
             }
            },
            "type": "bar"
           }
          ],
          "barpolar": [
           {
            "marker": {
             "line": {
              "color": "#E5ECF6",
              "width": 0.5
             },
             "pattern": {
              "fillmode": "overlay",
              "size": 10,
              "solidity": 0.2
             }
            },
            "type": "barpolar"
           }
          ],
          "carpet": [
           {
            "aaxis": {
             "endlinecolor": "#2a3f5f",
             "gridcolor": "white",
             "linecolor": "white",
             "minorgridcolor": "white",
             "startlinecolor": "#2a3f5f"
            },
            "baxis": {
             "endlinecolor": "#2a3f5f",
             "gridcolor": "white",
             "linecolor": "white",
             "minorgridcolor": "white",
             "startlinecolor": "#2a3f5f"
            },
            "type": "carpet"
           }
          ],
          "choropleth": [
           {
            "colorbar": {
             "outlinewidth": 0,
             "ticks": ""
            },
            "type": "choropleth"
           }
          ],
          "contour": [
           {
            "colorbar": {
             "outlinewidth": 0,
             "ticks": ""
            },
            "colorscale": [
             [
              0,
              "#0d0887"
             ],
             [
              0.1111111111111111,
              "#46039f"
             ],
             [
              0.2222222222222222,
              "#7201a8"
             ],
             [
              0.3333333333333333,
              "#9c179e"
             ],
             [
              0.4444444444444444,
              "#bd3786"
             ],
             [
              0.5555555555555556,
              "#d8576b"
             ],
             [
              0.6666666666666666,
              "#ed7953"
             ],
             [
              0.7777777777777778,
              "#fb9f3a"
             ],
             [
              0.8888888888888888,
              "#fdca26"
             ],
             [
              1,
              "#f0f921"
             ]
            ],
            "type": "contour"
           }
          ],
          "contourcarpet": [
           {
            "colorbar": {
             "outlinewidth": 0,
             "ticks": ""
            },
            "type": "contourcarpet"
           }
          ],
          "heatmap": [
           {
            "colorbar": {
             "outlinewidth": 0,
             "ticks": ""
            },
            "colorscale": [
             [
              0,
              "#0d0887"
             ],
             [
              0.1111111111111111,
              "#46039f"
             ],
             [
              0.2222222222222222,
              "#7201a8"
             ],
             [
              0.3333333333333333,
              "#9c179e"
             ],
             [
              0.4444444444444444,
              "#bd3786"
             ],
             [
              0.5555555555555556,
              "#d8576b"
             ],
             [
              0.6666666666666666,
              "#ed7953"
             ],
             [
              0.7777777777777778,
              "#fb9f3a"
             ],
             [
              0.8888888888888888,
              "#fdca26"
             ],
             [
              1,
              "#f0f921"
             ]
            ],
            "type": "heatmap"
           }
          ],
          "heatmapgl": [
           {
            "colorbar": {
             "outlinewidth": 0,
             "ticks": ""
            },
            "colorscale": [
             [
              0,
              "#0d0887"
             ],
             [
              0.1111111111111111,
              "#46039f"
             ],
             [
              0.2222222222222222,
              "#7201a8"
             ],
             [
              0.3333333333333333,
              "#9c179e"
             ],
             [
              0.4444444444444444,
              "#bd3786"
             ],
             [
              0.5555555555555556,
              "#d8576b"
             ],
             [
              0.6666666666666666,
              "#ed7953"
             ],
             [
              0.7777777777777778,
              "#fb9f3a"
             ],
             [
              0.8888888888888888,
              "#fdca26"
             ],
             [
              1,
              "#f0f921"
             ]
            ],
            "type": "heatmapgl"
           }
          ],
          "histogram": [
           {
            "marker": {
             "pattern": {
              "fillmode": "overlay",
              "size": 10,
              "solidity": 0.2
             }
            },
            "type": "histogram"
           }
          ],
          "histogram2d": [
           {
            "colorbar": {
             "outlinewidth": 0,
             "ticks": ""
            },
            "colorscale": [
             [
              0,
              "#0d0887"
             ],
             [
              0.1111111111111111,
              "#46039f"
             ],
             [
              0.2222222222222222,
              "#7201a8"
             ],
             [
              0.3333333333333333,
              "#9c179e"
             ],
             [
              0.4444444444444444,
              "#bd3786"
             ],
             [
              0.5555555555555556,
              "#d8576b"
             ],
             [
              0.6666666666666666,
              "#ed7953"
             ],
             [
              0.7777777777777778,
              "#fb9f3a"
             ],
             [
              0.8888888888888888,
              "#fdca26"
             ],
             [
              1,
              "#f0f921"
             ]
            ],
            "type": "histogram2d"
           }
          ],
          "histogram2dcontour": [
           {
            "colorbar": {
             "outlinewidth": 0,
             "ticks": ""
            },
            "colorscale": [
             [
              0,
              "#0d0887"
             ],
             [
              0.1111111111111111,
              "#46039f"
             ],
             [
              0.2222222222222222,
              "#7201a8"
             ],
             [
              0.3333333333333333,
              "#9c179e"
             ],
             [
              0.4444444444444444,
              "#bd3786"
             ],
             [
              0.5555555555555556,
              "#d8576b"
             ],
             [
              0.6666666666666666,
              "#ed7953"
             ],
             [
              0.7777777777777778,
              "#fb9f3a"
             ],
             [
              0.8888888888888888,
              "#fdca26"
             ],
             [
              1,
              "#f0f921"
             ]
            ],
            "type": "histogram2dcontour"
           }
          ],
          "mesh3d": [
           {
            "colorbar": {
             "outlinewidth": 0,
             "ticks": ""
            },
            "type": "mesh3d"
           }
          ],
          "parcoords": [
           {
            "line": {
             "colorbar": {
              "outlinewidth": 0,
              "ticks": ""
             }
            },
            "type": "parcoords"
           }
          ],
          "pie": [
           {
            "automargin": true,
            "type": "pie"
           }
          ],
          "scatter": [
           {
            "fillpattern": {
             "fillmode": "overlay",
             "size": 10,
             "solidity": 0.2
            },
            "type": "scatter"
           }
          ],
          "scatter3d": [
           {
            "line": {
             "colorbar": {
              "outlinewidth": 0,
              "ticks": ""
             }
            },
            "marker": {
             "colorbar": {
              "outlinewidth": 0,
              "ticks": ""
             }
            },
            "type": "scatter3d"
           }
          ],
          "scattercarpet": [
           {
            "marker": {
             "colorbar": {
              "outlinewidth": 0,
              "ticks": ""
             }
            },
            "type": "scattercarpet"
           }
          ],
          "scattergeo": [
           {
            "marker": {
             "colorbar": {
              "outlinewidth": 0,
              "ticks": ""
             }
            },
            "type": "scattergeo"
           }
          ],
          "scattergl": [
           {
            "marker": {
             "colorbar": {
              "outlinewidth": 0,
              "ticks": ""
             }
            },
            "type": "scattergl"
           }
          ],
          "scattermapbox": [
           {
            "marker": {
             "colorbar": {
              "outlinewidth": 0,
              "ticks": ""
             }
            },
            "type": "scattermapbox"
           }
          ],
          "scatterpolar": [
           {
            "marker": {
             "colorbar": {
              "outlinewidth": 0,
              "ticks": ""
             }
            },
            "type": "scatterpolar"
           }
          ],
          "scatterpolargl": [
           {
            "marker": {
             "colorbar": {
              "outlinewidth": 0,
              "ticks": ""
             }
            },
            "type": "scatterpolargl"
           }
          ],
          "scatterternary": [
           {
            "marker": {
             "colorbar": {
              "outlinewidth": 0,
              "ticks": ""
             }
            },
            "type": "scatterternary"
           }
          ],
          "surface": [
           {
            "colorbar": {
             "outlinewidth": 0,
             "ticks": ""
            },
            "colorscale": [
             [
              0,
              "#0d0887"
             ],
             [
              0.1111111111111111,
              "#46039f"
             ],
             [
              0.2222222222222222,
              "#7201a8"
             ],
             [
              0.3333333333333333,
              "#9c179e"
             ],
             [
              0.4444444444444444,
              "#bd3786"
             ],
             [
              0.5555555555555556,
              "#d8576b"
             ],
             [
              0.6666666666666666,
              "#ed7953"
             ],
             [
              0.7777777777777778,
              "#fb9f3a"
             ],
             [
              0.8888888888888888,
              "#fdca26"
             ],
             [
              1,
              "#f0f921"
             ]
            ],
            "type": "surface"
           }
          ],
          "table": [
           {
            "cells": {
             "fill": {
              "color": "#EBF0F8"
             },
             "line": {
              "color": "white"
             }
            },
            "header": {
             "fill": {
              "color": "#C8D4E3"
             },
             "line": {
              "color": "white"
             }
            },
            "type": "table"
           }
          ]
         },
         "layout": {
          "annotationdefaults": {
           "arrowcolor": "#2a3f5f",
           "arrowhead": 0,
           "arrowwidth": 1
          },
          "autotypenumbers": "strict",
          "coloraxis": {
           "colorbar": {
            "outlinewidth": 0,
            "ticks": ""
           }
          },
          "colorscale": {
           "diverging": [
            [
             0,
             "#8e0152"
            ],
            [
             0.1,
             "#c51b7d"
            ],
            [
             0.2,
             "#de77ae"
            ],
            [
             0.3,
             "#f1b6da"
            ],
            [
             0.4,
             "#fde0ef"
            ],
            [
             0.5,
             "#f7f7f7"
            ],
            [
             0.6,
             "#e6f5d0"
            ],
            [
             0.7,
             "#b8e186"
            ],
            [
             0.8,
             "#7fbc41"
            ],
            [
             0.9,
             "#4d9221"
            ],
            [
             1,
             "#276419"
            ]
           ],
           "sequential": [
            [
             0,
             "#0d0887"
            ],
            [
             0.1111111111111111,
             "#46039f"
            ],
            [
             0.2222222222222222,
             "#7201a8"
            ],
            [
             0.3333333333333333,
             "#9c179e"
            ],
            [
             0.4444444444444444,
             "#bd3786"
            ],
            [
             0.5555555555555556,
             "#d8576b"
            ],
            [
             0.6666666666666666,
             "#ed7953"
            ],
            [
             0.7777777777777778,
             "#fb9f3a"
            ],
            [
             0.8888888888888888,
             "#fdca26"
            ],
            [
             1,
             "#f0f921"
            ]
           ],
           "sequentialminus": [
            [
             0,
             "#0d0887"
            ],
            [
             0.1111111111111111,
             "#46039f"
            ],
            [
             0.2222222222222222,
             "#7201a8"
            ],
            [
             0.3333333333333333,
             "#9c179e"
            ],
            [
             0.4444444444444444,
             "#bd3786"
            ],
            [
             0.5555555555555556,
             "#d8576b"
            ],
            [
             0.6666666666666666,
             "#ed7953"
            ],
            [
             0.7777777777777778,
             "#fb9f3a"
            ],
            [
             0.8888888888888888,
             "#fdca26"
            ],
            [
             1,
             "#f0f921"
            ]
           ]
          },
          "colorway": [
           "#636efa",
           "#EF553B",
           "#00cc96",
           "#ab63fa",
           "#FFA15A",
           "#19d3f3",
           "#FF6692",
           "#B6E880",
           "#FF97FF",
           "#FECB52"
          ],
          "font": {
           "color": "#2a3f5f"
          },
          "geo": {
           "bgcolor": "white",
           "lakecolor": "white",
           "landcolor": "#E5ECF6",
           "showlakes": true,
           "showland": true,
           "subunitcolor": "white"
          },
          "hoverlabel": {
           "align": "left"
          },
          "hovermode": "closest",
          "mapbox": {
           "style": "light"
          },
          "paper_bgcolor": "white",
          "plot_bgcolor": "#E5ECF6",
          "polar": {
           "angularaxis": {
            "gridcolor": "white",
            "linecolor": "white",
            "ticks": ""
           },
           "bgcolor": "#E5ECF6",
           "radialaxis": {
            "gridcolor": "white",
            "linecolor": "white",
            "ticks": ""
           }
          },
          "scene": {
           "xaxis": {
            "backgroundcolor": "#E5ECF6",
            "gridcolor": "white",
            "gridwidth": 2,
            "linecolor": "white",
            "showbackground": true,
            "ticks": "",
            "zerolinecolor": "white"
           },
           "yaxis": {
            "backgroundcolor": "#E5ECF6",
            "gridcolor": "white",
            "gridwidth": 2,
            "linecolor": "white",
            "showbackground": true,
            "ticks": "",
            "zerolinecolor": "white"
           },
           "zaxis": {
            "backgroundcolor": "#E5ECF6",
            "gridcolor": "white",
            "gridwidth": 2,
            "linecolor": "white",
            "showbackground": true,
            "ticks": "",
            "zerolinecolor": "white"
           }
          },
          "shapedefaults": {
           "line": {
            "color": "#2a3f5f"
           }
          },
          "ternary": {
           "aaxis": {
            "gridcolor": "white",
            "linecolor": "white",
            "ticks": ""
           },
           "baxis": {
            "gridcolor": "white",
            "linecolor": "white",
            "ticks": ""
           },
           "bgcolor": "#E5ECF6",
           "caxis": {
            "gridcolor": "white",
            "linecolor": "white",
            "ticks": ""
           }
          },
          "title": {
           "x": 0.05
          },
          "xaxis": {
           "automargin": true,
           "gridcolor": "white",
           "linecolor": "white",
           "ticks": "",
           "title": {
            "standoff": 15
           },
           "zerolinecolor": "white",
           "zerolinewidth": 2
          },
          "yaxis": {
           "automargin": true,
           "gridcolor": "white",
           "linecolor": "white",
           "ticks": "",
           "title": {
            "standoff": 15
           },
           "zerolinecolor": "white",
           "zerolinewidth": 2
          }
         }
        },
        "title": {
         "text": "10 countries with highest number of new death cases. <br> (Last updated on 11/30/22)"
        },
        "width": 900,
        "xaxis": {
         "anchor": "y",
         "categoryarray": [
          "US",
          "Japan",
          "Germany",
          "Canada",
          "France",
          "Czechia",
          "Korea, South",
          "Russia",
          "Hungary",
          "Indonesia"
         ],
         "categoryorder": "array",
         "domain": [
          0,
          1
         ],
         "title": {
          "text": "Countries"
         }
        },
        "yaxis": {
         "anchor": "x",
         "domain": [
          0,
          1
         ],
         "title": {
          "text": "New Death Cases"
         }
        }
       }
      }
     },
     "metadata": {},
     "output_type": "display_data"
    },
    {
     "data": {
      "application/vnd.jupyter.widget-view+json": {
       "model_id": "1ea9983c473a4d9c99d4f44b6e9ec16d",
       "version_major": 2,
       "version_minor": 0
      },
      "text/plain": [
       "interactive(children=(IntSlider(value=10, description='n', max=30, min=-10), Output()), _dom_classes=('widget-…"
      ]
     },
     "metadata": {},
     "output_type": "display_data"
    }
   ],
   "source": [
    "# Visualizing the new death cases against each country using plotly\n",
    "def bubble_chart(n):\n",
    "    fig = px.scatter(country_death_newcases.head(n), x=\"country\", y=\"TotalNewCases\", size=\"TotalNewCases\", color=\"country\",\n",
    "               hover_name=\"country\", size_max=60)\n",
    "    fig.update_layout(\n",
    "    title=str(n) +\" countries with highest number of new death cases. <br> (Last updated on \"+(death_df.columns)[-1]+\")\",\n",
    "    xaxis_title=\"Countries\",\n",
    "    yaxis_title=\"New Death Cases\",\n",
    "    width = 900\n",
    "    )\n",
    "    fig.show();\n",
    "\n",
    "    \n",
    "interact(bubble_chart, n=10)\n",
    "ipywLayout = widgets.Layout()\n",
    "ipywLayout.display='none'"
   ]
  },
  {
   "cell_type": "markdown",
   "metadata": {},
   "source": [
    "#### Latest Count of New Recovered Cases"
   ]
  },
  {
   "cell_type": "code",
   "execution_count": 17,
   "metadata": {},
   "outputs": [],
   "source": [
    "# Aggregating the recovered new cases against each country\n",
    "country_recovered_newcases = recovered_df.groupby(\"country\")['NewCases'].sum().reset_index(name ='TotalNewCases')\n",
    "country_recovered_newcases = country_recovered_newcases.sort_values(by='TotalNewCases', ascending=False)\n"
   ]
  },
  {
   "cell_type": "code",
   "execution_count": 18,
   "metadata": {},
   "outputs": [
    {
     "data": {
      "application/vnd.plotly.v1+json": {
       "config": {
        "plotlyServerURL": "https://plot.ly"
       },
       "data": [
        {
         "hovertemplate": "<b>%{hovertext}</b><br><br>country=%{x}<br>TotalNewCases=%{marker.size}<extra></extra>",
         "hovertext": [
          "Afghanistan"
         ],
         "legendgroup": "Afghanistan",
         "marker": {
          "color": "#636efa",
          "size": [
           0
          ],
          "sizemode": "area",
          "sizeref": 0,
          "symbol": "circle"
         },
         "mode": "markers",
         "name": "Afghanistan",
         "orientation": "v",
         "showlegend": true,
         "type": "scatter",
         "x": [
          "Afghanistan"
         ],
         "xaxis": "x",
         "y": [
          0
         ],
         "yaxis": "y"
        },
        {
         "hovertemplate": "<b>%{hovertext}</b><br><br>country=%{x}<br>TotalNewCases=%{marker.size}<extra></extra>",
         "hovertext": [
          "Panama"
         ],
         "legendgroup": "Panama",
         "marker": {
          "color": "#EF553B",
          "size": [
           0
          ],
          "sizemode": "area",
          "sizeref": 0,
          "symbol": "circle"
         },
         "mode": "markers",
         "name": "Panama",
         "orientation": "v",
         "showlegend": true,
         "type": "scatter",
         "x": [
          "Panama"
         ],
         "xaxis": "x",
         "y": [
          0
         ],
         "yaxis": "y"
        },
        {
         "hovertemplate": "<b>%{hovertext}</b><br><br>country=%{x}<br>TotalNewCases=%{marker.size}<extra></extra>",
         "hovertext": [
          "Netherlands"
         ],
         "legendgroup": "Netherlands",
         "marker": {
          "color": "#00cc96",
          "size": [
           0
          ],
          "sizemode": "area",
          "sizeref": 0,
          "symbol": "circle"
         },
         "mode": "markers",
         "name": "Netherlands",
         "orientation": "v",
         "showlegend": true,
         "type": "scatter",
         "x": [
          "Netherlands"
         ],
         "xaxis": "x",
         "y": [
          0
         ],
         "yaxis": "y"
        },
        {
         "hovertemplate": "<b>%{hovertext}</b><br><br>country=%{x}<br>TotalNewCases=%{marker.size}<extra></extra>",
         "hovertext": [
          "New Zealand"
         ],
         "legendgroup": "New Zealand",
         "marker": {
          "color": "#ab63fa",
          "size": [
           0
          ],
          "sizemode": "area",
          "sizeref": 0,
          "symbol": "circle"
         },
         "mode": "markers",
         "name": "New Zealand",
         "orientation": "v",
         "showlegend": true,
         "type": "scatter",
         "x": [
          "New Zealand"
         ],
         "xaxis": "x",
         "y": [
          0
         ],
         "yaxis": "y"
        },
        {
         "hovertemplate": "<b>%{hovertext}</b><br><br>country=%{x}<br>TotalNewCases=%{marker.size}<extra></extra>",
         "hovertext": [
          "Nicaragua"
         ],
         "legendgroup": "Nicaragua",
         "marker": {
          "color": "#FFA15A",
          "size": [
           0
          ],
          "sizemode": "area",
          "sizeref": 0,
          "symbol": "circle"
         },
         "mode": "markers",
         "name": "Nicaragua",
         "orientation": "v",
         "showlegend": true,
         "type": "scatter",
         "x": [
          "Nicaragua"
         ],
         "xaxis": "x",
         "y": [
          0
         ],
         "yaxis": "y"
        },
        {
         "hovertemplate": "<b>%{hovertext}</b><br><br>country=%{x}<br>TotalNewCases=%{marker.size}<extra></extra>",
         "hovertext": [
          "Niger"
         ],
         "legendgroup": "Niger",
         "marker": {
          "color": "#19d3f3",
          "size": [
           0
          ],
          "sizemode": "area",
          "sizeref": 0,
          "symbol": "circle"
         },
         "mode": "markers",
         "name": "Niger",
         "orientation": "v",
         "showlegend": true,
         "type": "scatter",
         "x": [
          "Niger"
         ],
         "xaxis": "x",
         "y": [
          0
         ],
         "yaxis": "y"
        },
        {
         "hovertemplate": "<b>%{hovertext}</b><br><br>country=%{x}<br>TotalNewCases=%{marker.size}<extra></extra>",
         "hovertext": [
          "Nigeria"
         ],
         "legendgroup": "Nigeria",
         "marker": {
          "color": "#FF6692",
          "size": [
           0
          ],
          "sizemode": "area",
          "sizeref": 0,
          "symbol": "circle"
         },
         "mode": "markers",
         "name": "Nigeria",
         "orientation": "v",
         "showlegend": true,
         "type": "scatter",
         "x": [
          "Nigeria"
         ],
         "xaxis": "x",
         "y": [
          0
         ],
         "yaxis": "y"
        },
        {
         "hovertemplate": "<b>%{hovertext}</b><br><br>country=%{x}<br>TotalNewCases=%{marker.size}<extra></extra>",
         "hovertext": [
          "North Macedonia"
         ],
         "legendgroup": "North Macedonia",
         "marker": {
          "color": "#B6E880",
          "size": [
           0
          ],
          "sizemode": "area",
          "sizeref": 0,
          "symbol": "circle"
         },
         "mode": "markers",
         "name": "North Macedonia",
         "orientation": "v",
         "showlegend": true,
         "type": "scatter",
         "x": [
          "North Macedonia"
         ],
         "xaxis": "x",
         "y": [
          0
         ],
         "yaxis": "y"
        },
        {
         "hovertemplate": "<b>%{hovertext}</b><br><br>country=%{x}<br>TotalNewCases=%{marker.size}<extra></extra>",
         "hovertext": [
          "Norway"
         ],
         "legendgroup": "Norway",
         "marker": {
          "color": "#FF97FF",
          "size": [
           0
          ],
          "sizemode": "area",
          "sizeref": 0,
          "symbol": "circle"
         },
         "mode": "markers",
         "name": "Norway",
         "orientation": "v",
         "showlegend": true,
         "type": "scatter",
         "x": [
          "Norway"
         ],
         "xaxis": "x",
         "y": [
          0
         ],
         "yaxis": "y"
        },
        {
         "hovertemplate": "<b>%{hovertext}</b><br><br>country=%{x}<br>TotalNewCases=%{marker.size}<extra></extra>",
         "hovertext": [
          "Oman"
         ],
         "legendgroup": "Oman",
         "marker": {
          "color": "#FECB52",
          "size": [
           0
          ],
          "sizemode": "area",
          "sizeref": 0,
          "symbol": "circle"
         },
         "mode": "markers",
         "name": "Oman",
         "orientation": "v",
         "showlegend": true,
         "type": "scatter",
         "x": [
          "Oman"
         ],
         "xaxis": "x",
         "y": [
          0
         ],
         "yaxis": "y"
        }
       ],
       "layout": {
        "legend": {
         "itemsizing": "constant",
         "title": {
          "text": "country"
         },
         "tracegroupgap": 0
        },
        "margin": {
         "t": 60
        },
        "template": {
         "data": {
          "bar": [
           {
            "error_x": {
             "color": "#2a3f5f"
            },
            "error_y": {
             "color": "#2a3f5f"
            },
            "marker": {
             "line": {
              "color": "#E5ECF6",
              "width": 0.5
             },
             "pattern": {
              "fillmode": "overlay",
              "size": 10,
              "solidity": 0.2
             }
            },
            "type": "bar"
           }
          ],
          "barpolar": [
           {
            "marker": {
             "line": {
              "color": "#E5ECF6",
              "width": 0.5
             },
             "pattern": {
              "fillmode": "overlay",
              "size": 10,
              "solidity": 0.2
             }
            },
            "type": "barpolar"
           }
          ],
          "carpet": [
           {
            "aaxis": {
             "endlinecolor": "#2a3f5f",
             "gridcolor": "white",
             "linecolor": "white",
             "minorgridcolor": "white",
             "startlinecolor": "#2a3f5f"
            },
            "baxis": {
             "endlinecolor": "#2a3f5f",
             "gridcolor": "white",
             "linecolor": "white",
             "minorgridcolor": "white",
             "startlinecolor": "#2a3f5f"
            },
            "type": "carpet"
           }
          ],
          "choropleth": [
           {
            "colorbar": {
             "outlinewidth": 0,
             "ticks": ""
            },
            "type": "choropleth"
           }
          ],
          "contour": [
           {
            "colorbar": {
             "outlinewidth": 0,
             "ticks": ""
            },
            "colorscale": [
             [
              0,
              "#0d0887"
             ],
             [
              0.1111111111111111,
              "#46039f"
             ],
             [
              0.2222222222222222,
              "#7201a8"
             ],
             [
              0.3333333333333333,
              "#9c179e"
             ],
             [
              0.4444444444444444,
              "#bd3786"
             ],
             [
              0.5555555555555556,
              "#d8576b"
             ],
             [
              0.6666666666666666,
              "#ed7953"
             ],
             [
              0.7777777777777778,
              "#fb9f3a"
             ],
             [
              0.8888888888888888,
              "#fdca26"
             ],
             [
              1,
              "#f0f921"
             ]
            ],
            "type": "contour"
           }
          ],
          "contourcarpet": [
           {
            "colorbar": {
             "outlinewidth": 0,
             "ticks": ""
            },
            "type": "contourcarpet"
           }
          ],
          "heatmap": [
           {
            "colorbar": {
             "outlinewidth": 0,
             "ticks": ""
            },
            "colorscale": [
             [
              0,
              "#0d0887"
             ],
             [
              0.1111111111111111,
              "#46039f"
             ],
             [
              0.2222222222222222,
              "#7201a8"
             ],
             [
              0.3333333333333333,
              "#9c179e"
             ],
             [
              0.4444444444444444,
              "#bd3786"
             ],
             [
              0.5555555555555556,
              "#d8576b"
             ],
             [
              0.6666666666666666,
              "#ed7953"
             ],
             [
              0.7777777777777778,
              "#fb9f3a"
             ],
             [
              0.8888888888888888,
              "#fdca26"
             ],
             [
              1,
              "#f0f921"
             ]
            ],
            "type": "heatmap"
           }
          ],
          "heatmapgl": [
           {
            "colorbar": {
             "outlinewidth": 0,
             "ticks": ""
            },
            "colorscale": [
             [
              0,
              "#0d0887"
             ],
             [
              0.1111111111111111,
              "#46039f"
             ],
             [
              0.2222222222222222,
              "#7201a8"
             ],
             [
              0.3333333333333333,
              "#9c179e"
             ],
             [
              0.4444444444444444,
              "#bd3786"
             ],
             [
              0.5555555555555556,
              "#d8576b"
             ],
             [
              0.6666666666666666,
              "#ed7953"
             ],
             [
              0.7777777777777778,
              "#fb9f3a"
             ],
             [
              0.8888888888888888,
              "#fdca26"
             ],
             [
              1,
              "#f0f921"
             ]
            ],
            "type": "heatmapgl"
           }
          ],
          "histogram": [
           {
            "marker": {
             "pattern": {
              "fillmode": "overlay",
              "size": 10,
              "solidity": 0.2
             }
            },
            "type": "histogram"
           }
          ],
          "histogram2d": [
           {
            "colorbar": {
             "outlinewidth": 0,
             "ticks": ""
            },
            "colorscale": [
             [
              0,
              "#0d0887"
             ],
             [
              0.1111111111111111,
              "#46039f"
             ],
             [
              0.2222222222222222,
              "#7201a8"
             ],
             [
              0.3333333333333333,
              "#9c179e"
             ],
             [
              0.4444444444444444,
              "#bd3786"
             ],
             [
              0.5555555555555556,
              "#d8576b"
             ],
             [
              0.6666666666666666,
              "#ed7953"
             ],
             [
              0.7777777777777778,
              "#fb9f3a"
             ],
             [
              0.8888888888888888,
              "#fdca26"
             ],
             [
              1,
              "#f0f921"
             ]
            ],
            "type": "histogram2d"
           }
          ],
          "histogram2dcontour": [
           {
            "colorbar": {
             "outlinewidth": 0,
             "ticks": ""
            },
            "colorscale": [
             [
              0,
              "#0d0887"
             ],
             [
              0.1111111111111111,
              "#46039f"
             ],
             [
              0.2222222222222222,
              "#7201a8"
             ],
             [
              0.3333333333333333,
              "#9c179e"
             ],
             [
              0.4444444444444444,
              "#bd3786"
             ],
             [
              0.5555555555555556,
              "#d8576b"
             ],
             [
              0.6666666666666666,
              "#ed7953"
             ],
             [
              0.7777777777777778,
              "#fb9f3a"
             ],
             [
              0.8888888888888888,
              "#fdca26"
             ],
             [
              1,
              "#f0f921"
             ]
            ],
            "type": "histogram2dcontour"
           }
          ],
          "mesh3d": [
           {
            "colorbar": {
             "outlinewidth": 0,
             "ticks": ""
            },
            "type": "mesh3d"
           }
          ],
          "parcoords": [
           {
            "line": {
             "colorbar": {
              "outlinewidth": 0,
              "ticks": ""
             }
            },
            "type": "parcoords"
           }
          ],
          "pie": [
           {
            "automargin": true,
            "type": "pie"
           }
          ],
          "scatter": [
           {
            "fillpattern": {
             "fillmode": "overlay",
             "size": 10,
             "solidity": 0.2
            },
            "type": "scatter"
           }
          ],
          "scatter3d": [
           {
            "line": {
             "colorbar": {
              "outlinewidth": 0,
              "ticks": ""
             }
            },
            "marker": {
             "colorbar": {
              "outlinewidth": 0,
              "ticks": ""
             }
            },
            "type": "scatter3d"
           }
          ],
          "scattercarpet": [
           {
            "marker": {
             "colorbar": {
              "outlinewidth": 0,
              "ticks": ""
             }
            },
            "type": "scattercarpet"
           }
          ],
          "scattergeo": [
           {
            "marker": {
             "colorbar": {
              "outlinewidth": 0,
              "ticks": ""
             }
            },
            "type": "scattergeo"
           }
          ],
          "scattergl": [
           {
            "marker": {
             "colorbar": {
              "outlinewidth": 0,
              "ticks": ""
             }
            },
            "type": "scattergl"
           }
          ],
          "scattermapbox": [
           {
            "marker": {
             "colorbar": {
              "outlinewidth": 0,
              "ticks": ""
             }
            },
            "type": "scattermapbox"
           }
          ],
          "scatterpolar": [
           {
            "marker": {
             "colorbar": {
              "outlinewidth": 0,
              "ticks": ""
             }
            },
            "type": "scatterpolar"
           }
          ],
          "scatterpolargl": [
           {
            "marker": {
             "colorbar": {
              "outlinewidth": 0,
              "ticks": ""
             }
            },
            "type": "scatterpolargl"
           }
          ],
          "scatterternary": [
           {
            "marker": {
             "colorbar": {
              "outlinewidth": 0,
              "ticks": ""
             }
            },
            "type": "scatterternary"
           }
          ],
          "surface": [
           {
            "colorbar": {
             "outlinewidth": 0,
             "ticks": ""
            },
            "colorscale": [
             [
              0,
              "#0d0887"
             ],
             [
              0.1111111111111111,
              "#46039f"
             ],
             [
              0.2222222222222222,
              "#7201a8"
             ],
             [
              0.3333333333333333,
              "#9c179e"
             ],
             [
              0.4444444444444444,
              "#bd3786"
             ],
             [
              0.5555555555555556,
              "#d8576b"
             ],
             [
              0.6666666666666666,
              "#ed7953"
             ],
             [
              0.7777777777777778,
              "#fb9f3a"
             ],
             [
              0.8888888888888888,
              "#fdca26"
             ],
             [
              1,
              "#f0f921"
             ]
            ],
            "type": "surface"
           }
          ],
          "table": [
           {
            "cells": {
             "fill": {
              "color": "#EBF0F8"
             },
             "line": {
              "color": "white"
             }
            },
            "header": {
             "fill": {
              "color": "#C8D4E3"
             },
             "line": {
              "color": "white"
             }
            },
            "type": "table"
           }
          ]
         },
         "layout": {
          "annotationdefaults": {
           "arrowcolor": "#2a3f5f",
           "arrowhead": 0,
           "arrowwidth": 1
          },
          "autotypenumbers": "strict",
          "coloraxis": {
           "colorbar": {
            "outlinewidth": 0,
            "ticks": ""
           }
          },
          "colorscale": {
           "diverging": [
            [
             0,
             "#8e0152"
            ],
            [
             0.1,
             "#c51b7d"
            ],
            [
             0.2,
             "#de77ae"
            ],
            [
             0.3,
             "#f1b6da"
            ],
            [
             0.4,
             "#fde0ef"
            ],
            [
             0.5,
             "#f7f7f7"
            ],
            [
             0.6,
             "#e6f5d0"
            ],
            [
             0.7,
             "#b8e186"
            ],
            [
             0.8,
             "#7fbc41"
            ],
            [
             0.9,
             "#4d9221"
            ],
            [
             1,
             "#276419"
            ]
           ],
           "sequential": [
            [
             0,
             "#0d0887"
            ],
            [
             0.1111111111111111,
             "#46039f"
            ],
            [
             0.2222222222222222,
             "#7201a8"
            ],
            [
             0.3333333333333333,
             "#9c179e"
            ],
            [
             0.4444444444444444,
             "#bd3786"
            ],
            [
             0.5555555555555556,
             "#d8576b"
            ],
            [
             0.6666666666666666,
             "#ed7953"
            ],
            [
             0.7777777777777778,
             "#fb9f3a"
            ],
            [
             0.8888888888888888,
             "#fdca26"
            ],
            [
             1,
             "#f0f921"
            ]
           ],
           "sequentialminus": [
            [
             0,
             "#0d0887"
            ],
            [
             0.1111111111111111,
             "#46039f"
            ],
            [
             0.2222222222222222,
             "#7201a8"
            ],
            [
             0.3333333333333333,
             "#9c179e"
            ],
            [
             0.4444444444444444,
             "#bd3786"
            ],
            [
             0.5555555555555556,
             "#d8576b"
            ],
            [
             0.6666666666666666,
             "#ed7953"
            ],
            [
             0.7777777777777778,
             "#fb9f3a"
            ],
            [
             0.8888888888888888,
             "#fdca26"
            ],
            [
             1,
             "#f0f921"
            ]
           ]
          },
          "colorway": [
           "#636efa",
           "#EF553B",
           "#00cc96",
           "#ab63fa",
           "#FFA15A",
           "#19d3f3",
           "#FF6692",
           "#B6E880",
           "#FF97FF",
           "#FECB52"
          ],
          "font": {
           "color": "#2a3f5f"
          },
          "geo": {
           "bgcolor": "white",
           "lakecolor": "white",
           "landcolor": "#E5ECF6",
           "showlakes": true,
           "showland": true,
           "subunitcolor": "white"
          },
          "hoverlabel": {
           "align": "left"
          },
          "hovermode": "closest",
          "mapbox": {
           "style": "light"
          },
          "paper_bgcolor": "white",
          "plot_bgcolor": "#E5ECF6",
          "polar": {
           "angularaxis": {
            "gridcolor": "white",
            "linecolor": "white",
            "ticks": ""
           },
           "bgcolor": "#E5ECF6",
           "radialaxis": {
            "gridcolor": "white",
            "linecolor": "white",
            "ticks": ""
           }
          },
          "scene": {
           "xaxis": {
            "backgroundcolor": "#E5ECF6",
            "gridcolor": "white",
            "gridwidth": 2,
            "linecolor": "white",
            "showbackground": true,
            "ticks": "",
            "zerolinecolor": "white"
           },
           "yaxis": {
            "backgroundcolor": "#E5ECF6",
            "gridcolor": "white",
            "gridwidth": 2,
            "linecolor": "white",
            "showbackground": true,
            "ticks": "",
            "zerolinecolor": "white"
           },
           "zaxis": {
            "backgroundcolor": "#E5ECF6",
            "gridcolor": "white",
            "gridwidth": 2,
            "linecolor": "white",
            "showbackground": true,
            "ticks": "",
            "zerolinecolor": "white"
           }
          },
          "shapedefaults": {
           "line": {
            "color": "#2a3f5f"
           }
          },
          "ternary": {
           "aaxis": {
            "gridcolor": "white",
            "linecolor": "white",
            "ticks": ""
           },
           "baxis": {
            "gridcolor": "white",
            "linecolor": "white",
            "ticks": ""
           },
           "bgcolor": "#E5ECF6",
           "caxis": {
            "gridcolor": "white",
            "linecolor": "white",
            "ticks": ""
           }
          },
          "title": {
           "x": 0.05
          },
          "xaxis": {
           "automargin": true,
           "gridcolor": "white",
           "linecolor": "white",
           "ticks": "",
           "title": {
            "standoff": 15
           },
           "zerolinecolor": "white",
           "zerolinewidth": 2
          },
          "yaxis": {
           "automargin": true,
           "gridcolor": "white",
           "linecolor": "white",
           "ticks": "",
           "title": {
            "standoff": 15
           },
           "zerolinecolor": "white",
           "zerolinewidth": 2
          }
         }
        },
        "title": {
         "text": "10 countries with highest number of new recovered cases. <br> (Last updated on 11/30/22)"
        },
        "width": 900,
        "xaxis": {
         "anchor": "y",
         "categoryarray": [
          "Afghanistan",
          "Panama",
          "Netherlands",
          "New Zealand",
          "Nicaragua",
          "Niger",
          "Nigeria",
          "North Macedonia",
          "Norway",
          "Oman"
         ],
         "categoryorder": "array",
         "domain": [
          0,
          1
         ],
         "title": {
          "text": "Countries"
         }
        },
        "yaxis": {
         "anchor": "x",
         "domain": [
          0,
          1
         ],
         "title": {
          "text": "New Recovered Cases"
         }
        }
       }
      }
     },
     "metadata": {},
     "output_type": "display_data"
    },
    {
     "data": {
      "application/vnd.jupyter.widget-view+json": {
       "model_id": "982cbbdcf4ab4563b5f2400afc77839d",
       "version_major": 2,
       "version_minor": 0
      },
      "text/plain": [
       "interactive(children=(IntSlider(value=10, description='n', max=30, min=-10), Output()), _dom_classes=('widget-…"
      ]
     },
     "metadata": {},
     "output_type": "display_data"
    }
   ],
   "source": [
    "# Visualizing the recovered new cases against each country using plotly\n",
    "def bubble_chart(n):\n",
    "    fig = px.scatter(country_recovered_newcases.head(n), x=\"country\", y=\"TotalNewCases\", size=\"TotalNewCases\", color=\"country\",\n",
    "               hover_name=\"country\", size_max=60)\n",
    "    fig.update_layout(\n",
    "    title=str(n) +\" countries with highest number of new recovered cases. <br> (Last updated on \"+(recovered_df.columns)[-1]+\")\",\n",
    "    xaxis_title=\"Countries\",\n",
    "    yaxis_title=\"New Recovered Cases\",\n",
    "    width = 900\n",
    "    )\n",
    "    fig.show();\n",
    "\n",
    "    \n",
    "interact(bubble_chart, n=10)\n",
    "ipywLayout = widgets.Layout()\n",
    "ipywLayout.display='none'"
   ]
  },
  {
   "cell_type": "markdown",
   "metadata": {},
   "source": [
    "### Data Visualisation through Line Charts\n",
    "#### Trend of Confirmed Case"
   ]
  },
  {
   "cell_type": "code",
   "execution_count": 19,
   "metadata": {},
   "outputs": [
    {
     "data": {
      "application/vnd.plotly.v1+json": {
       "config": {
        "plotlyServerURL": "https://plot.ly"
       },
       "data": [
        {
         "mode": "markers",
         "name": "markers",
         "type": "scatter",
         "x": [
          "1/22/20",
          "1/23/20",
          "1/24/20",
          "1/25/20",
          "1/26/20",
          "1/27/20",
          "1/28/20",
          "1/29/20",
          "1/30/20",
          "1/31/20",
          "2/1/20",
          "2/2/20",
          "2/3/20",
          "2/4/20",
          "2/5/20",
          "2/6/20",
          "2/7/20",
          "2/8/20",
          "2/9/20",
          "2/10/20",
          "2/11/20",
          "2/12/20",
          "2/13/20",
          "2/14/20",
          "2/15/20",
          "2/16/20",
          "2/17/20",
          "2/18/20",
          "2/19/20",
          "2/20/20",
          "2/21/20",
          "2/22/20",
          "2/23/20",
          "2/24/20",
          "2/25/20",
          "2/26/20",
          "2/27/20",
          "2/28/20",
          "2/29/20",
          "3/1/20",
          "3/2/20",
          "3/3/20",
          "3/4/20",
          "3/5/20",
          "3/6/20",
          "3/7/20",
          "3/8/20",
          "3/9/20",
          "3/10/20",
          "3/11/20",
          "3/12/20",
          "3/13/20",
          "3/14/20",
          "3/15/20",
          "3/16/20",
          "3/17/20",
          "3/18/20",
          "3/19/20",
          "3/20/20",
          "3/21/20",
          "3/22/20",
          "3/23/20",
          "3/24/20",
          "3/25/20",
          "3/26/20",
          "3/27/20",
          "3/28/20",
          "3/29/20",
          "3/30/20",
          "3/31/20",
          "4/1/20",
          "4/2/20",
          "4/3/20",
          "4/4/20",
          "4/5/20",
          "4/6/20",
          "4/7/20",
          "4/8/20",
          "4/9/20",
          "4/10/20",
          "4/11/20",
          "4/12/20",
          "4/13/20",
          "4/14/20",
          "4/15/20",
          "4/16/20",
          "4/17/20",
          "4/18/20",
          "4/19/20",
          "4/20/20",
          "4/21/20",
          "4/22/20",
          "4/23/20",
          "4/24/20",
          "4/25/20",
          "4/26/20",
          "4/27/20",
          "4/28/20",
          "4/29/20",
          "4/30/20",
          "5/1/20",
          "5/2/20",
          "5/3/20",
          "5/4/20",
          "5/5/20",
          "5/6/20",
          "5/7/20",
          "5/8/20",
          "5/9/20",
          "5/10/20",
          "5/11/20",
          "5/12/20",
          "5/13/20",
          "5/14/20",
          "5/15/20",
          "5/16/20",
          "5/17/20",
          "5/18/20",
          "5/19/20",
          "5/20/20",
          "5/21/20",
          "5/22/20",
          "5/23/20",
          "5/24/20",
          "5/25/20",
          "5/26/20",
          "5/27/20",
          "5/28/20",
          "5/29/20",
          "5/30/20",
          "5/31/20",
          "6/1/20",
          "6/2/20",
          "6/3/20",
          "6/4/20",
          "6/5/20",
          "6/6/20",
          "6/7/20",
          "6/8/20",
          "6/9/20",
          "6/10/20",
          "6/11/20",
          "6/12/20",
          "6/13/20",
          "6/14/20",
          "6/15/20",
          "6/16/20",
          "6/17/20",
          "6/18/20",
          "6/19/20",
          "6/20/20",
          "6/21/20",
          "6/22/20",
          "6/23/20",
          "6/24/20",
          "6/25/20",
          "6/26/20",
          "6/27/20",
          "6/28/20",
          "6/29/20",
          "6/30/20",
          "7/1/20",
          "7/2/20",
          "7/3/20",
          "7/4/20",
          "7/5/20",
          "7/6/20",
          "7/7/20",
          "7/8/20",
          "7/9/20",
          "7/10/20",
          "7/11/20",
          "7/12/20",
          "7/13/20",
          "7/14/20",
          "7/15/20",
          "7/16/20",
          "7/17/20",
          "7/18/20",
          "7/19/20",
          "7/20/20",
          "7/21/20",
          "7/22/20",
          "7/23/20",
          "7/24/20",
          "7/25/20",
          "7/26/20",
          "7/27/20",
          "7/28/20",
          "7/29/20",
          "7/30/20",
          "7/31/20",
          "8/1/20",
          "8/2/20",
          "8/3/20",
          "8/4/20",
          "8/5/20",
          "8/6/20",
          "8/7/20",
          "8/8/20",
          "8/9/20",
          "8/10/20",
          "8/11/20",
          "8/12/20",
          "8/13/20",
          "8/14/20",
          "8/15/20",
          "8/16/20",
          "8/17/20",
          "8/18/20",
          "8/19/20",
          "8/20/20",
          "8/21/20",
          "8/22/20",
          "8/23/20",
          "8/24/20",
          "8/25/20",
          "8/26/20",
          "8/27/20",
          "8/28/20",
          "8/29/20",
          "8/30/20",
          "8/31/20",
          "9/1/20",
          "9/2/20",
          "9/3/20",
          "9/4/20",
          "9/5/20",
          "9/6/20",
          "9/7/20",
          "9/8/20",
          "9/9/20",
          "9/10/20",
          "9/11/20",
          "9/12/20",
          "9/13/20",
          "9/14/20",
          "9/15/20",
          "9/16/20",
          "9/17/20",
          "9/18/20",
          "9/19/20",
          "9/20/20",
          "9/21/20",
          "9/22/20",
          "9/23/20",
          "9/24/20",
          "9/25/20",
          "9/26/20",
          "9/27/20",
          "9/28/20",
          "9/29/20",
          "9/30/20",
          "10/1/20",
          "10/2/20",
          "10/3/20",
          "10/4/20",
          "10/5/20",
          "10/6/20",
          "10/7/20",
          "10/8/20",
          "10/9/20",
          "10/10/20",
          "10/11/20",
          "10/12/20",
          "10/13/20",
          "10/14/20",
          "10/15/20",
          "10/16/20",
          "10/17/20",
          "10/18/20",
          "10/19/20",
          "10/20/20",
          "10/21/20",
          "10/22/20",
          "10/23/20",
          "10/24/20",
          "10/25/20",
          "10/26/20",
          "10/27/20",
          "10/28/20",
          "10/29/20",
          "10/30/20",
          "10/31/20",
          "11/1/20",
          "11/2/20",
          "11/3/20",
          "11/4/20",
          "11/5/20",
          "11/6/20",
          "11/7/20",
          "11/8/20",
          "11/9/20",
          "11/10/20",
          "11/11/20",
          "11/12/20",
          "11/13/20",
          "11/14/20",
          "11/15/20",
          "11/16/20",
          "11/17/20",
          "11/18/20",
          "11/19/20",
          "11/20/20",
          "11/21/20",
          "11/22/20",
          "11/23/20",
          "11/24/20",
          "11/25/20",
          "11/26/20",
          "11/27/20",
          "11/28/20",
          "11/29/20",
          "11/30/20",
          "12/1/20",
          "12/2/20",
          "12/3/20",
          "12/4/20",
          "12/5/20",
          "12/6/20",
          "12/7/20",
          "12/8/20",
          "12/9/20",
          "12/10/20",
          "12/11/20",
          "12/12/20",
          "12/13/20",
          "12/14/20",
          "12/15/20",
          "12/16/20",
          "12/17/20",
          "12/18/20",
          "12/19/20",
          "12/20/20",
          "12/21/20",
          "12/22/20",
          "12/23/20",
          "12/24/20",
          "12/25/20",
          "12/26/20",
          "12/27/20",
          "12/28/20",
          "12/29/20",
          "12/30/20",
          "12/31/20",
          "1/1/21",
          "1/2/21",
          "1/3/21",
          "1/4/21",
          "1/5/21",
          "1/6/21",
          "1/7/21",
          "1/8/21",
          "1/9/21",
          "1/10/21",
          "1/11/21",
          "1/12/21",
          "1/13/21",
          "1/14/21",
          "1/15/21",
          "1/16/21",
          "1/17/21",
          "1/18/21",
          "1/19/21",
          "1/20/21",
          "1/21/21",
          "1/22/21",
          "1/23/21",
          "1/24/21",
          "1/25/21",
          "1/26/21",
          "1/27/21",
          "1/28/21",
          "1/29/21",
          "1/30/21",
          "1/31/21",
          "2/1/21",
          "2/2/21",
          "2/3/21",
          "2/4/21",
          "2/5/21",
          "2/6/21",
          "2/7/21",
          "2/8/21",
          "2/9/21",
          "2/10/21",
          "2/11/21",
          "2/12/21",
          "2/13/21",
          "2/14/21",
          "2/15/21",
          "2/16/21",
          "2/17/21",
          "2/18/21",
          "2/19/21",
          "2/20/21",
          "2/21/21",
          "2/22/21",
          "2/23/21",
          "2/24/21",
          "2/25/21",
          "2/26/21",
          "2/27/21",
          "2/28/21",
          "3/1/21",
          "3/2/21",
          "3/3/21",
          "3/4/21",
          "3/5/21",
          "3/6/21",
          "3/7/21",
          "3/8/21",
          "3/9/21",
          "3/10/21",
          "3/11/21",
          "3/12/21",
          "3/13/21",
          "3/14/21",
          "3/15/21",
          "3/16/21",
          "3/17/21",
          "3/18/21",
          "3/19/21",
          "3/20/21",
          "3/21/21",
          "3/22/21",
          "3/23/21",
          "3/24/21",
          "3/25/21",
          "3/26/21",
          "3/27/21",
          "3/28/21",
          "3/29/21",
          "3/30/21",
          "3/31/21",
          "4/1/21",
          "4/2/21",
          "4/3/21",
          "4/4/21",
          "4/5/21",
          "4/6/21",
          "4/7/21",
          "4/8/21",
          "4/9/21",
          "4/10/21",
          "4/11/21",
          "4/12/21",
          "4/13/21",
          "4/14/21",
          "4/15/21",
          "4/16/21",
          "4/17/21",
          "4/18/21",
          "4/19/21",
          "4/20/21",
          "4/21/21",
          "4/22/21",
          "4/23/21",
          "4/24/21",
          "4/25/21",
          "4/26/21",
          "4/27/21",
          "4/28/21",
          "4/29/21",
          "4/30/21",
          "5/1/21",
          "5/2/21",
          "5/3/21",
          "5/4/21",
          "5/5/21",
          "5/6/21",
          "5/7/21",
          "5/8/21",
          "5/9/21",
          "5/10/21",
          "5/11/21",
          "5/12/21",
          "5/13/21",
          "5/14/21",
          "5/15/21",
          "5/16/21",
          "5/17/21",
          "5/18/21",
          "5/19/21",
          "5/20/21",
          "5/21/21",
          "5/22/21",
          "5/23/21",
          "5/24/21",
          "5/25/21",
          "5/26/21",
          "5/27/21",
          "5/28/21",
          "5/29/21",
          "5/30/21",
          "5/31/21",
          "6/1/21",
          "6/2/21",
          "6/3/21",
          "6/4/21",
          "6/5/21",
          "6/6/21",
          "6/7/21",
          "6/8/21",
          "6/9/21",
          "6/10/21",
          "6/11/21",
          "6/12/21",
          "6/13/21",
          "6/14/21",
          "6/15/21",
          "6/16/21",
          "6/17/21",
          "6/18/21",
          "6/19/21",
          "6/20/21",
          "6/21/21",
          "6/22/21",
          "6/23/21",
          "6/24/21",
          "6/25/21",
          "6/26/21",
          "6/27/21",
          "6/28/21",
          "6/29/21",
          "6/30/21",
          "7/1/21",
          "7/2/21",
          "7/3/21",
          "7/4/21",
          "7/5/21",
          "7/6/21",
          "7/7/21",
          "7/8/21",
          "7/9/21",
          "7/10/21",
          "7/11/21",
          "7/12/21",
          "7/13/21",
          "7/14/21",
          "7/15/21",
          "7/16/21",
          "7/17/21",
          "7/18/21",
          "7/19/21",
          "7/20/21",
          "7/21/21",
          "7/22/21",
          "7/23/21",
          "7/24/21",
          "7/25/21",
          "7/26/21",
          "7/27/21",
          "7/28/21",
          "7/29/21",
          "7/30/21",
          "7/31/21",
          "8/1/21",
          "8/2/21",
          "8/3/21",
          "8/4/21",
          "8/5/21",
          "8/6/21",
          "8/7/21",
          "8/8/21",
          "8/9/21",
          "8/10/21",
          "8/11/21",
          "8/12/21",
          "8/13/21",
          "8/14/21",
          "8/15/21",
          "8/16/21",
          "8/17/21",
          "8/18/21",
          "8/19/21",
          "8/20/21",
          "8/21/21",
          "8/22/21",
          "8/23/21",
          "8/24/21",
          "8/25/21",
          "8/26/21",
          "8/27/21",
          "8/28/21",
          "8/29/21",
          "8/30/21",
          "8/31/21",
          "9/1/21",
          "9/2/21",
          "9/3/21",
          "9/4/21",
          "9/5/21",
          "9/6/21",
          "9/7/21",
          "9/8/21",
          "9/9/21",
          "9/10/21",
          "9/11/21",
          "9/12/21",
          "9/13/21",
          "9/14/21",
          "9/15/21",
          "9/16/21",
          "9/17/21",
          "9/18/21",
          "9/19/21",
          "9/20/21",
          "9/21/21",
          "9/22/21",
          "9/23/21",
          "9/24/21",
          "9/25/21",
          "9/26/21",
          "9/27/21",
          "9/28/21",
          "9/29/21",
          "9/30/21",
          "10/1/21",
          "10/2/21",
          "10/3/21",
          "10/4/21",
          "10/5/21",
          "10/6/21",
          "10/7/21",
          "10/8/21",
          "10/9/21",
          "10/10/21",
          "10/11/21",
          "10/12/21",
          "10/13/21",
          "10/14/21",
          "10/15/21",
          "10/16/21",
          "10/17/21",
          "10/18/21",
          "10/19/21",
          "10/20/21",
          "10/21/21",
          "10/22/21",
          "10/23/21",
          "10/24/21",
          "10/25/21",
          "10/26/21",
          "10/27/21",
          "10/28/21",
          "10/29/21",
          "10/30/21",
          "10/31/21",
          "11/1/21",
          "11/2/21",
          "11/3/21",
          "11/4/21",
          "11/5/21",
          "11/6/21",
          "11/7/21",
          "11/8/21",
          "11/9/21",
          "11/10/21",
          "11/11/21",
          "11/12/21",
          "11/13/21",
          "11/14/21",
          "11/15/21",
          "11/16/21",
          "11/17/21",
          "11/18/21",
          "11/19/21",
          "11/20/21",
          "11/21/21",
          "11/22/21",
          "11/23/21",
          "11/24/21",
          "11/25/21",
          "11/26/21",
          "11/27/21",
          "11/28/21",
          "11/29/21",
          "11/30/21",
          "12/1/21",
          "12/2/21",
          "12/3/21",
          "12/4/21",
          "12/5/21",
          "12/6/21",
          "12/7/21",
          "12/8/21",
          "12/9/21",
          "12/10/21",
          "12/11/21",
          "12/12/21",
          "12/13/21",
          "12/14/21",
          "12/15/21",
          "12/16/21",
          "12/17/21",
          "12/18/21",
          "12/19/21",
          "12/20/21",
          "12/21/21",
          "12/22/21",
          "12/23/21",
          "12/24/21",
          "12/25/21",
          "12/26/21",
          "12/27/21",
          "12/28/21",
          "12/29/21",
          "12/30/21",
          "12/31/21",
          "1/1/22",
          "1/2/22",
          "1/3/22",
          "1/4/22",
          "1/5/22",
          "1/6/22",
          "1/7/22",
          "1/8/22",
          "1/9/22",
          "1/10/22",
          "1/11/22",
          "1/12/22",
          "1/13/22",
          "1/14/22",
          "1/15/22",
          "1/16/22",
          "1/17/22",
          "1/18/22",
          "1/19/22",
          "1/20/22",
          "1/21/22",
          "1/22/22",
          "1/23/22",
          "1/24/22",
          "1/25/22",
          "1/26/22",
          "1/27/22",
          "1/28/22",
          "1/29/22",
          "1/30/22",
          "1/31/22",
          "2/1/22",
          "2/2/22",
          "2/3/22",
          "2/4/22",
          "2/5/22",
          "2/6/22",
          "2/7/22",
          "2/8/22",
          "2/9/22",
          "2/10/22",
          "2/11/22",
          "2/12/22",
          "2/13/22",
          "2/14/22",
          "2/15/22",
          "2/16/22",
          "2/17/22",
          "2/18/22",
          "2/19/22",
          "2/20/22",
          "2/21/22",
          "2/22/22",
          "2/23/22",
          "2/24/22",
          "2/25/22",
          "2/26/22",
          "2/27/22",
          "2/28/22",
          "3/1/22",
          "3/2/22",
          "3/3/22",
          "3/4/22",
          "3/5/22",
          "3/6/22",
          "3/7/22",
          "3/8/22",
          "3/9/22",
          "3/10/22",
          "3/11/22",
          "3/12/22",
          "3/13/22",
          "3/14/22",
          "3/15/22",
          "3/16/22",
          "3/17/22",
          "3/18/22",
          "3/19/22",
          "3/20/22",
          "3/21/22",
          "3/22/22",
          "3/23/22",
          "3/24/22",
          "3/25/22",
          "3/26/22",
          "3/27/22",
          "3/28/22",
          "3/29/22",
          "3/30/22",
          "3/31/22",
          "4/1/22",
          "4/2/22",
          "4/3/22",
          "4/4/22",
          "4/5/22",
          "4/6/22",
          "4/7/22",
          "4/8/22",
          "4/9/22",
          "4/10/22",
          "4/11/22",
          "4/12/22",
          "4/13/22",
          "4/14/22",
          "4/15/22",
          "4/16/22",
          "4/17/22",
          "4/18/22",
          "4/19/22",
          "4/20/22",
          "4/21/22",
          "4/22/22",
          "4/23/22",
          "4/24/22",
          "4/25/22",
          "4/26/22",
          "4/27/22",
          "4/28/22",
          "4/29/22",
          "4/30/22",
          "5/1/22",
          "5/2/22",
          "5/3/22",
          "5/4/22",
          "5/5/22",
          "5/6/22",
          "5/7/22",
          "5/8/22",
          "5/9/22",
          "5/10/22",
          "5/11/22",
          "5/12/22",
          "5/13/22",
          "5/14/22",
          "5/15/22",
          "5/16/22",
          "5/17/22",
          "5/18/22",
          "5/19/22",
          "5/20/22",
          "5/21/22",
          "5/22/22",
          "5/23/22",
          "5/24/22",
          "5/25/22",
          "5/26/22",
          "5/27/22",
          "5/28/22",
          "5/29/22",
          "5/30/22",
          "5/31/22",
          "6/1/22",
          "6/2/22",
          "6/3/22",
          "6/4/22",
          "6/5/22",
          "6/6/22",
          "6/7/22",
          "6/8/22",
          "6/9/22",
          "6/10/22",
          "6/11/22",
          "6/12/22",
          "6/13/22",
          "6/14/22",
          "6/15/22",
          "6/16/22",
          "6/17/22",
          "6/18/22",
          "6/19/22",
          "6/20/22",
          "6/21/22",
          "6/22/22",
          "6/23/22",
          "6/24/22",
          "6/25/22",
          "6/26/22",
          "6/27/22",
          "6/28/22",
          "6/29/22",
          "6/30/22",
          "7/1/22",
          "7/2/22",
          "7/3/22",
          "7/4/22",
          "7/5/22",
          "7/6/22",
          "7/7/22",
          "7/8/22",
          "7/9/22",
          "7/10/22",
          "7/11/22",
          "7/12/22",
          "7/13/22",
          "7/14/22",
          "7/15/22",
          "7/16/22",
          "7/17/22",
          "7/18/22",
          "7/19/22",
          "7/20/22",
          "7/21/22",
          "7/22/22",
          "7/23/22",
          "7/24/22",
          "7/25/22",
          "7/26/22",
          "7/27/22",
          "7/28/22",
          "7/29/22",
          "7/30/22",
          "7/31/22",
          "8/1/22",
          "8/2/22",
          "8/3/22",
          "8/4/22",
          "8/5/22",
          "8/6/22",
          "8/7/22",
          "8/8/22",
          "8/9/22",
          "8/10/22",
          "8/11/22",
          "8/12/22",
          "8/13/22",
          "8/14/22",
          "8/15/22",
          "8/16/22",
          "8/17/22",
          "8/18/22",
          "8/19/22",
          "8/20/22",
          "8/21/22",
          "8/22/22",
          "8/23/22",
          "8/24/22",
          "8/25/22",
          "8/26/22",
          "8/27/22",
          "8/28/22",
          "8/29/22",
          "8/30/22",
          "8/31/22",
          "9/1/22",
          "9/2/22",
          "9/3/22",
          "9/4/22",
          "9/5/22",
          "9/6/22",
          "9/7/22",
          "9/8/22",
          "9/9/22",
          "9/10/22",
          "9/11/22",
          "9/12/22",
          "9/13/22",
          "9/14/22",
          "9/15/22",
          "9/16/22",
          "9/17/22",
          "9/18/22",
          "9/19/22",
          "9/20/22",
          "9/21/22",
          "9/22/22",
          "9/23/22",
          "9/24/22",
          "9/25/22",
          "9/26/22",
          "9/27/22",
          "9/28/22",
          "9/29/22",
          "9/30/22",
          "10/1/22",
          "10/2/22",
          "10/3/22",
          "10/4/22",
          "10/5/22",
          "10/6/22",
          "10/7/22",
          "10/8/22",
          "10/9/22",
          "10/10/22",
          "10/11/22",
          "10/12/22",
          "10/13/22",
          "10/14/22",
          "10/15/22",
          "10/16/22",
          "10/17/22",
          "10/18/22",
          "10/19/22",
          "10/20/22",
          "10/21/22",
          "10/22/22",
          "10/23/22",
          "10/24/22",
          "10/25/22",
          "10/26/22",
          "10/27/22",
          "10/28/22",
          "10/29/22",
          "10/30/22",
          "10/31/22",
          "11/1/22",
          "11/2/22",
          "11/3/22",
          "11/4/22",
          "11/5/22",
          "11/6/22",
          "11/7/22",
          "11/8/22",
          "11/9/22",
          "11/10/22",
          "11/11/22",
          "11/12/22",
          "11/13/22",
          "11/14/22",
          "11/15/22",
          "11/16/22",
          "11/17/22",
          "11/18/22",
          "11/19/22",
          "11/20/22",
          "11/21/22",
          "11/22/22",
          "11/23/22",
          "11/24/22",
          "11/25/22",
          "11/26/22",
          "11/27/22",
          "11/28/22",
          "11/29/22",
          "11/30/22"
         ],
         "y": [
          0,
          0,
          0,
          0,
          0,
          0,
          0,
          0,
          0,
          0,
          0,
          0,
          0,
          0,
          0,
          0,
          0,
          0,
          0,
          0,
          0,
          0,
          0,
          0,
          0,
          0,
          0,
          0,
          0,
          0,
          0,
          0,
          0,
          0,
          0,
          0,
          0,
          1,
          1,
          1,
          1,
          1,
          1,
          1,
          1,
          1,
          1,
          2,
          2,
          2,
          2,
          2,
          2,
          2,
          2,
          3,
          8,
          8,
          12,
          22,
          30,
          40,
          44,
          51,
          65,
          70,
          89,
          111,
          131,
          135,
          174,
          184,
          210,
          214,
          232,
          238,
          254,
          276,
          288,
          305,
          318,
          323,
          343,
          373,
          407,
          442,
          493,
          542,
          627,
          665,
          665,
          873,
          981,
          1095,
          1182,
          1273,
          1337,
          1532,
          1728,
          1932,
          2170,
          2388,
          2558,
          2802,
          2950,
          3145,
          3526,
          3912,
          4151,
          4399,
          4641,
          4787,
          4971,
          5162,
          5450,
          5621,
          5959,
          6175,
          6401,
          6677,
          7016,
          7261,
          7526,
          7839,
          8068,
          8344,
          8733,
          8915,
          9302,
          9855,
          10162,
          10578,
          10819,
          11166,
          11516,
          11844,
          12233,
          12486,
          12801,
          13464,
          13873,
          14554,
          15181,
          15682,
          16085,
          16658,
          17148,
          17735,
          18480,
          19147,
          19808,
          20244,
          20919,
          21371,
          22020,
          22614,
          23298,
          24077,
          24567,
          25133,
          25694,
          26484,
          27110,
          27564,
          28167,
          28711,
          29286,
          29789,
          30249,
          30748,
          31323,
          31987,
          32558,
          33153,
          33616,
          34259,
          34854,
          35454,
          36107,
          36663,
          37225,
          37801,
          38344,
          38948,
          39539,
          39977,
          40532,
          41180,
          41804,
          42208,
          42689,
          43151,
          43537,
          43841,
          44129,
          44433,
          44890,
          45244,
          45687,
          46140,
          46577,
          46867,
          47290,
          47743,
          48116,
          48445,
          48770,
          49068,
          49485,
          49895,
          50488,
          50964,
          51304,
          51905,
          52227,
          52548,
          52800,
          53021,
          53317,
          53477,
          53727,
          53865,
          54008,
          54247,
          54463,
          54588,
          54743,
          54905,
          55005,
          55160,
          55456,
          55632,
          55829,
          56017,
          56177,
          56256,
          56388,
          56478,
          56604,
          56735,
          56956,
          57145,
          57242,
          57437,
          57613,
          57724,
          57849,
          58062,
          58198,
          58324,
          58460,
          58647,
          58848,
          59001,
          59127,
          59287,
          59345,
          59465,
          59583,
          59738,
          59841,
          59992,
          60103,
          60266,
          60430,
          60655,
          60834,
          60982,
          61194,
          61307,
          61440,
          61558,
          61630,
          61667,
          61805,
          61882,
          61930,
          61992,
          62111,
          62224,
          62371,
          62521,
          62691,
          62853,
          62964,
          63036,
          63173,
          63328,
          63508,
          63731,
          63790,
          64090,
          64184,
          64336,
          64516,
          64728,
          64884,
          64996,
          65148,
          65305,
          65457,
          65693,
          65839,
          65982,
          66228,
          66383,
          66439,
          66607,
          66805,
          66974,
          67220,
          67330,
          67412,
          67557,
          67838,
          67960,
          68303,
          68627,
          68937,
          69255,
          69645,
          70195,
          70669,
          71344,
          72140,
          72757,
          73175,
          73374,
          74132,
          75062,
          76207,
          77013,
          77933,
          78434,
          78790,
          79789,
          80922,
          81963,
          82747,
          83576,
          84414,
          84811,
          85560,
          86576,
          87607,
          88587,
          89163,
          90080,
          91351,
          92705,
          94369,
          95934,
          97478,
          99063,
          100087,
          101331,
          102601,
          103999,
          105478,
          107345,
          108943,
          110387,
          112004,
          113305,
          114691,
          116655,
          118138,
          120602,
          121566,
          122996,
          124299,
          126160,
          127024,
          128674,
          130557,
          131242,
          131918,
          133552,
          134690,
          136030,
          137654,
          139242,
          139748,
          140391,
          141447,
          142578,
          143516,
          144521,
          145664,
          146184,
          146928,
          148296,
          149369,
          150246,
          150908,
          151553,
          152074,
          152616,
          153187,
          153842,
          154476,
          155076,
          155417,
          155657,
          156017,
          156496,
          156960,
          157671,
          158042,
          158237,
          158506,
          158906,
          159252,
          159646,
          159933,
          160332,
          160537,
          160657,
          160895,
          161074,
          161261,
          161409,
          161539,
          161651,
          161737,
          161868,
          162076,
          162178,
          162275,
          162388,
          162489,
          162593,
          162641,
          162762,
          162891,
          162997,
          163063,
          163113,
          163195,
          163330,
          163388,
          163498,
          163581,
          163652,
          163736,
          163799,
          163837,
          163911,
          164000,
          164080,
          164147,
          164207,
          164233,
          164303,
          164423,
          164488,
          164588,
          164633,
          164684,
          164719,
          164756,
          164912,
          164993,
          165055,
          165110,
          165110,
          165153,
          165199,
          165215,
          165273,
          165301,
          165340,
          165370,
          165419,
          165468,
          165515,
          165559,
          165612,
          165661,
          165702,
          165709,
          165778,
          165778,
          165852,
          165901,
          165944,
          165979,
          166019,
          166061,
          166098,
          166146,
          166191,
          166254,
          166285,
          166315,
          166518,
          166534,
          166560,
          166682,
          166730,
          166756,
          166767,
          166816,
          166918,
          166982,
          166982,
          167051,
          167059,
          167066,
          167078,
          167095,
          167103,
          167142,
          167155,
          167206,
          167206,
          167292,
          167331,
          167375,
          167401,
          167430,
          167465,
          167467,
          167532,
          167543,
          167618,
          167692,
          167732,
          167803,
          167859,
          167909,
          168000,
          168110,
          168256,
          168442,
          168540,
          168552,
          168713,
          168867,
          168915,
          169074,
          169206,
          169329,
          169532,
          169678,
          169884,
          169884,
          170306,
          170306,
          170895,
          171111,
          171324,
          171728,
          172263,
          172821,
          173411,
          173908,
          174315,
          174759,
          175264,
          176011,
          176577,
          177142,
          177615,
          178086,
          178508,
          179118,
          179908,
          180661,
          181297,
          181962,
          182503,
          183087,
          183444,
          183444,
          185267,
          185571,
          185571,
          187023,
          187588,
          188243,
          188880,
          189715,
          190333,
          190983,
          191345,
          191805,
          192431,
          193013,
          193644,
          194088,
          195052,
          195511,
          195890,
          196487,
          197046,
          197773,
          198239,
          198786,
          199151,
          199538,
          200057,
          200356,
          200356,
          201294,
          201630,
          201798,
          202191,
          202704,
          203081,
          203514,
          203991,
          204201,
          204456,
          204752,
          205047,
          205484,
          205779,
          205940,
          206064,
          206138,
          206279,
          206561,
          206561,
          207167,
          207479,
          207618,
          207694,
          207978,
          207979,
          208404,
          208404,
          208797,
          209173,
          209298,
          209387,
          209546,
          209713,
          209960,
          210136,
          210295,
          210460,
          211171,
          211330,
          211496,
          211678,
          211798,
          211887,
          211961,
          212051,
          212150,
          212359,
          212446,
          212511,
          212627,
          212713,
          212765,
          212829,
          212894,
          212947,
          213076,
          213127,
          213147,
          213177,
          213177,
          213403,
          213464,
          213487,
          213532,
          213589,
          213589,
          213677,
          213677,
          213883,
          213883,
          213924,
          213982,
          214113,
          214218,
          214270,
          214270,
          214513,
          214567,
          214622,
          214789,
          214896,
          215164,
          215164,
          216451,
          217063,
          217481,
          217481,
          218596,
          220020,
          221071,
          222655,
          222655,
          223483,
          225255,
          225255,
          231413,
          233353,
          234709,
          236014,
          237561,
          238420,
          239019,
          240387,
          241513,
          241513,
          242877,
          242877,
          244120,
          244548,
          245404,
          246195,
          247009,
          247775,
          248312,
          248732,
          249154,
          249586,
          250009,
          250009,
          250628,
          250929,
          251178,
          251341,
          251571,
          251571,
          251930,
          251959,
          252187,
          252428,
          252678,
          252753,
          252753,
          252912,
          253001,
          253023,
          253181,
          253340,
          253405,
          253405,
          253540,
          253685,
          253727,
          253780,
          253838,
          253875,
          253875,
          253923,
          253978,
          254016,
          254016,
          254124,
          254137,
          254137,
          254221,
          254243,
          254243,
          254293,
          254352,
          254352,
          254428,
          254428,
          254501,
          254525,
          254560,
          254570,
          254598,
          254606,
          254637,
          254637,
          254640,
          254659,
          254777,
          254777,
          254861,
          254894,
          254953,
          254953,
          254989,
          255001,
          255001,
          255092,
          255103,
          255103,
          255103,
          255103,
          255190,
          255244,
          255244,
          255244,
          255296,
          255296,
          255341,
          255341,
          255415,
          255415,
          255468,
          255468,
          255468,
          255468,
          255516,
          255516,
          255575,
          255575,
          255606,
          255606,
          255633,
          255663,
          255633,
          255646,
          255646,
          255648,
          255648,
          255648,
          255670,
          255670,
          255679,
          255685,
          255685,
          255685,
          255685,
          255685,
          255685,
          255716,
          255716,
          255716,
          255753,
          255753,
          255766,
          255766,
          255766,
          255766,
          255766,
          255766,
          255766,
          255802,
          255802,
          255836,
          255836,
          255859,
          255859,
          255859,
          255859,
          255889,
          255924,
          255924,
          255937,
          255937,
          255937,
          255972,
          255972,
          256004,
          256028,
          256028,
          256028,
          256028,
          256028,
          256028,
          256113,
          256113,
          256148,
          256148,
          256148,
          256227,
          256227,
          256264,
          256264,
          256352,
          256352,
          256352,
          256404,
          256404,
          256467,
          256467,
          256573,
          256573,
          256573,
          256711,
          256711,
          256711,
          256711,
          256958,
          256958,
          256958,
          256958,
          256958,
          257290,
          257290,
          257637,
          257637,
          257637,
          257637,
          257637,
          257637,
          257637,
          258517,
          258517,
          258517,
          258874,
          258874,
          258934,
          258934,
          259007,
          259007,
          259007,
          259485,
          259485,
          259720,
          259720,
          260339,
          260339,
          260339,
          260764,
          260764,
          260977,
          260977,
          260977,
          260977,
          260977,
          261473,
          261473,
          261473,
          261473,
          261473,
          261885,
          261885,
          261885,
          261885,
          262402,
          262402,
          262520,
          262520,
          262520,
          262664,
          262664,
          262748,
          262748,
          262912,
          262912,
          262912,
          263090,
          263090,
          263322,
          263322,
          263407,
          263407,
          263407,
          263526,
          263526,
          263694,
          263694,
          263867,
          263867,
          263867,
          264014,
          264014,
          264299,
          264299,
          264299,
          264450,
          264450,
          264617,
          264617,
          264744,
          264744,
          264933,
          264933,
          264933,
          265008,
          265008,
          265090,
          265090,
          265186,
          265186,
          265186,
          265316,
          265316,
          265382,
          265382,
          265431,
          265431,
          265431,
          265505,
          265505,
          265741,
          265741,
          265816,
          265816,
          265816,
          265816,
          265816,
          265816,
          265816,
          265937,
          265937,
          265937,
          265937,
          265937,
          265937,
          265937,
          266043,
          266043,
          266043,
          266043,
          266043,
          266043,
          266043,
          266138,
          266138,
          266138,
          266138,
          266138,
          266138,
          266138,
          266192,
          266192,
          266192,
          266192,
          266192,
          266192,
          266192,
          266242,
          266242,
          266242,
          266242,
          266242,
          266242,
          266242,
          266283,
          266283,
          266283,
          266283,
          266283,
          266283,
          266283,
          266283,
          266283,
          266283,
          266283,
          266283
         ]
        }
       ],
       "layout": {
        "template": {
         "data": {
          "bar": [
           {
            "error_x": {
             "color": "#2a3f5f"
            },
            "error_y": {
             "color": "#2a3f5f"
            },
            "marker": {
             "line": {
              "color": "#E5ECF6",
              "width": 0.5
             },
             "pattern": {
              "fillmode": "overlay",
              "size": 10,
              "solidity": 0.2
             }
            },
            "type": "bar"
           }
          ],
          "barpolar": [
           {
            "marker": {
             "line": {
              "color": "#E5ECF6",
              "width": 0.5
             },
             "pattern": {
              "fillmode": "overlay",
              "size": 10,
              "solidity": 0.2
             }
            },
            "type": "barpolar"
           }
          ],
          "carpet": [
           {
            "aaxis": {
             "endlinecolor": "#2a3f5f",
             "gridcolor": "white",
             "linecolor": "white",
             "minorgridcolor": "white",
             "startlinecolor": "#2a3f5f"
            },
            "baxis": {
             "endlinecolor": "#2a3f5f",
             "gridcolor": "white",
             "linecolor": "white",
             "minorgridcolor": "white",
             "startlinecolor": "#2a3f5f"
            },
            "type": "carpet"
           }
          ],
          "choropleth": [
           {
            "colorbar": {
             "outlinewidth": 0,
             "ticks": ""
            },
            "type": "choropleth"
           }
          ],
          "contour": [
           {
            "colorbar": {
             "outlinewidth": 0,
             "ticks": ""
            },
            "colorscale": [
             [
              0,
              "#0d0887"
             ],
             [
              0.1111111111111111,
              "#46039f"
             ],
             [
              0.2222222222222222,
              "#7201a8"
             ],
             [
              0.3333333333333333,
              "#9c179e"
             ],
             [
              0.4444444444444444,
              "#bd3786"
             ],
             [
              0.5555555555555556,
              "#d8576b"
             ],
             [
              0.6666666666666666,
              "#ed7953"
             ],
             [
              0.7777777777777778,
              "#fb9f3a"
             ],
             [
              0.8888888888888888,
              "#fdca26"
             ],
             [
              1,
              "#f0f921"
             ]
            ],
            "type": "contour"
           }
          ],
          "contourcarpet": [
           {
            "colorbar": {
             "outlinewidth": 0,
             "ticks": ""
            },
            "type": "contourcarpet"
           }
          ],
          "heatmap": [
           {
            "colorbar": {
             "outlinewidth": 0,
             "ticks": ""
            },
            "colorscale": [
             [
              0,
              "#0d0887"
             ],
             [
              0.1111111111111111,
              "#46039f"
             ],
             [
              0.2222222222222222,
              "#7201a8"
             ],
             [
              0.3333333333333333,
              "#9c179e"
             ],
             [
              0.4444444444444444,
              "#bd3786"
             ],
             [
              0.5555555555555556,
              "#d8576b"
             ],
             [
              0.6666666666666666,
              "#ed7953"
             ],
             [
              0.7777777777777778,
              "#fb9f3a"
             ],
             [
              0.8888888888888888,
              "#fdca26"
             ],
             [
              1,
              "#f0f921"
             ]
            ],
            "type": "heatmap"
           }
          ],
          "heatmapgl": [
           {
            "colorbar": {
             "outlinewidth": 0,
             "ticks": ""
            },
            "colorscale": [
             [
              0,
              "#0d0887"
             ],
             [
              0.1111111111111111,
              "#46039f"
             ],
             [
              0.2222222222222222,
              "#7201a8"
             ],
             [
              0.3333333333333333,
              "#9c179e"
             ],
             [
              0.4444444444444444,
              "#bd3786"
             ],
             [
              0.5555555555555556,
              "#d8576b"
             ],
             [
              0.6666666666666666,
              "#ed7953"
             ],
             [
              0.7777777777777778,
              "#fb9f3a"
             ],
             [
              0.8888888888888888,
              "#fdca26"
             ],
             [
              1,
              "#f0f921"
             ]
            ],
            "type": "heatmapgl"
           }
          ],
          "histogram": [
           {
            "marker": {
             "pattern": {
              "fillmode": "overlay",
              "size": 10,
              "solidity": 0.2
             }
            },
            "type": "histogram"
           }
          ],
          "histogram2d": [
           {
            "colorbar": {
             "outlinewidth": 0,
             "ticks": ""
            },
            "colorscale": [
             [
              0,
              "#0d0887"
             ],
             [
              0.1111111111111111,
              "#46039f"
             ],
             [
              0.2222222222222222,
              "#7201a8"
             ],
             [
              0.3333333333333333,
              "#9c179e"
             ],
             [
              0.4444444444444444,
              "#bd3786"
             ],
             [
              0.5555555555555556,
              "#d8576b"
             ],
             [
              0.6666666666666666,
              "#ed7953"
             ],
             [
              0.7777777777777778,
              "#fb9f3a"
             ],
             [
              0.8888888888888888,
              "#fdca26"
             ],
             [
              1,
              "#f0f921"
             ]
            ],
            "type": "histogram2d"
           }
          ],
          "histogram2dcontour": [
           {
            "colorbar": {
             "outlinewidth": 0,
             "ticks": ""
            },
            "colorscale": [
             [
              0,
              "#0d0887"
             ],
             [
              0.1111111111111111,
              "#46039f"
             ],
             [
              0.2222222222222222,
              "#7201a8"
             ],
             [
              0.3333333333333333,
              "#9c179e"
             ],
             [
              0.4444444444444444,
              "#bd3786"
             ],
             [
              0.5555555555555556,
              "#d8576b"
             ],
             [
              0.6666666666666666,
              "#ed7953"
             ],
             [
              0.7777777777777778,
              "#fb9f3a"
             ],
             [
              0.8888888888888888,
              "#fdca26"
             ],
             [
              1,
              "#f0f921"
             ]
            ],
            "type": "histogram2dcontour"
           }
          ],
          "mesh3d": [
           {
            "colorbar": {
             "outlinewidth": 0,
             "ticks": ""
            },
            "type": "mesh3d"
           }
          ],
          "parcoords": [
           {
            "line": {
             "colorbar": {
              "outlinewidth": 0,
              "ticks": ""
             }
            },
            "type": "parcoords"
           }
          ],
          "pie": [
           {
            "automargin": true,
            "type": "pie"
           }
          ],
          "scatter": [
           {
            "fillpattern": {
             "fillmode": "overlay",
             "size": 10,
             "solidity": 0.2
            },
            "type": "scatter"
           }
          ],
          "scatter3d": [
           {
            "line": {
             "colorbar": {
              "outlinewidth": 0,
              "ticks": ""
             }
            },
            "marker": {
             "colorbar": {
              "outlinewidth": 0,
              "ticks": ""
             }
            },
            "type": "scatter3d"
           }
          ],
          "scattercarpet": [
           {
            "marker": {
             "colorbar": {
              "outlinewidth": 0,
              "ticks": ""
             }
            },
            "type": "scattercarpet"
           }
          ],
          "scattergeo": [
           {
            "marker": {
             "colorbar": {
              "outlinewidth": 0,
              "ticks": ""
             }
            },
            "type": "scattergeo"
           }
          ],
          "scattergl": [
           {
            "marker": {
             "colorbar": {
              "outlinewidth": 0,
              "ticks": ""
             }
            },
            "type": "scattergl"
           }
          ],
          "scattermapbox": [
           {
            "marker": {
             "colorbar": {
              "outlinewidth": 0,
              "ticks": ""
             }
            },
            "type": "scattermapbox"
           }
          ],
          "scatterpolar": [
           {
            "marker": {
             "colorbar": {
              "outlinewidth": 0,
              "ticks": ""
             }
            },
            "type": "scatterpolar"
           }
          ],
          "scatterpolargl": [
           {
            "marker": {
             "colorbar": {
              "outlinewidth": 0,
              "ticks": ""
             }
            },
            "type": "scatterpolargl"
           }
          ],
          "scatterternary": [
           {
            "marker": {
             "colorbar": {
              "outlinewidth": 0,
              "ticks": ""
             }
            },
            "type": "scatterternary"
           }
          ],
          "surface": [
           {
            "colorbar": {
             "outlinewidth": 0,
             "ticks": ""
            },
            "colorscale": [
             [
              0,
              "#0d0887"
             ],
             [
              0.1111111111111111,
              "#46039f"
             ],
             [
              0.2222222222222222,
              "#7201a8"
             ],
             [
              0.3333333333333333,
              "#9c179e"
             ],
             [
              0.4444444444444444,
              "#bd3786"
             ],
             [
              0.5555555555555556,
              "#d8576b"
             ],
             [
              0.6666666666666666,
              "#ed7953"
             ],
             [
              0.7777777777777778,
              "#fb9f3a"
             ],
             [
              0.8888888888888888,
              "#fdca26"
             ],
             [
              1,
              "#f0f921"
             ]
            ],
            "type": "surface"
           }
          ],
          "table": [
           {
            "cells": {
             "fill": {
              "color": "#EBF0F8"
             },
             "line": {
              "color": "white"
             }
            },
            "header": {
             "fill": {
              "color": "#C8D4E3"
             },
             "line": {
              "color": "white"
             }
            },
            "type": "table"
           }
          ]
         },
         "layout": {
          "annotationdefaults": {
           "arrowcolor": "#2a3f5f",
           "arrowhead": 0,
           "arrowwidth": 1
          },
          "autotypenumbers": "strict",
          "coloraxis": {
           "colorbar": {
            "outlinewidth": 0,
            "ticks": ""
           }
          },
          "colorscale": {
           "diverging": [
            [
             0,
             "#8e0152"
            ],
            [
             0.1,
             "#c51b7d"
            ],
            [
             0.2,
             "#de77ae"
            ],
            [
             0.3,
             "#f1b6da"
            ],
            [
             0.4,
             "#fde0ef"
            ],
            [
             0.5,
             "#f7f7f7"
            ],
            [
             0.6,
             "#e6f5d0"
            ],
            [
             0.7,
             "#b8e186"
            ],
            [
             0.8,
             "#7fbc41"
            ],
            [
             0.9,
             "#4d9221"
            ],
            [
             1,
             "#276419"
            ]
           ],
           "sequential": [
            [
             0,
             "#0d0887"
            ],
            [
             0.1111111111111111,
             "#46039f"
            ],
            [
             0.2222222222222222,
             "#7201a8"
            ],
            [
             0.3333333333333333,
             "#9c179e"
            ],
            [
             0.4444444444444444,
             "#bd3786"
            ],
            [
             0.5555555555555556,
             "#d8576b"
            ],
            [
             0.6666666666666666,
             "#ed7953"
            ],
            [
             0.7777777777777778,
             "#fb9f3a"
            ],
            [
             0.8888888888888888,
             "#fdca26"
            ],
            [
             1,
             "#f0f921"
            ]
           ],
           "sequentialminus": [
            [
             0,
             "#0d0887"
            ],
            [
             0.1111111111111111,
             "#46039f"
            ],
            [
             0.2222222222222222,
             "#7201a8"
            ],
            [
             0.3333333333333333,
             "#9c179e"
            ],
            [
             0.4444444444444444,
             "#bd3786"
            ],
            [
             0.5555555555555556,
             "#d8576b"
            ],
            [
             0.6666666666666666,
             "#ed7953"
            ],
            [
             0.7777777777777778,
             "#fb9f3a"
            ],
            [
             0.8888888888888888,
             "#fdca26"
            ],
            [
             1,
             "#f0f921"
            ]
           ]
          },
          "colorway": [
           "#636efa",
           "#EF553B",
           "#00cc96",
           "#ab63fa",
           "#FFA15A",
           "#19d3f3",
           "#FF6692",
           "#B6E880",
           "#FF97FF",
           "#FECB52"
          ],
          "font": {
           "color": "#2a3f5f"
          },
          "geo": {
           "bgcolor": "white",
           "lakecolor": "white",
           "landcolor": "#E5ECF6",
           "showlakes": true,
           "showland": true,
           "subunitcolor": "white"
          },
          "hoverlabel": {
           "align": "left"
          },
          "hovermode": "closest",
          "mapbox": {
           "style": "light"
          },
          "paper_bgcolor": "white",
          "plot_bgcolor": "#E5ECF6",
          "polar": {
           "angularaxis": {
            "gridcolor": "white",
            "linecolor": "white",
            "ticks": ""
           },
           "bgcolor": "#E5ECF6",
           "radialaxis": {
            "gridcolor": "white",
            "linecolor": "white",
            "ticks": ""
           }
          },
          "scene": {
           "xaxis": {
            "backgroundcolor": "#E5ECF6",
            "gridcolor": "white",
            "gridwidth": 2,
            "linecolor": "white",
            "showbackground": true,
            "ticks": "",
            "zerolinecolor": "white"
           },
           "yaxis": {
            "backgroundcolor": "#E5ECF6",
            "gridcolor": "white",
            "gridwidth": 2,
            "linecolor": "white",
            "showbackground": true,
            "ticks": "",
            "zerolinecolor": "white"
           },
           "zaxis": {
            "backgroundcolor": "#E5ECF6",
            "gridcolor": "white",
            "gridwidth": 2,
            "linecolor": "white",
            "showbackground": true,
            "ticks": "",
            "zerolinecolor": "white"
           }
          },
          "shapedefaults": {
           "line": {
            "color": "#2a3f5f"
           }
          },
          "ternary": {
           "aaxis": {
            "gridcolor": "white",
            "linecolor": "white",
            "ticks": ""
           },
           "baxis": {
            "gridcolor": "white",
            "linecolor": "white",
            "ticks": ""
           },
           "bgcolor": "#E5ECF6",
           "caxis": {
            "gridcolor": "white",
            "linecolor": "white",
            "ticks": ""
           }
          },
          "title": {
           "x": 0.05
          },
          "xaxis": {
           "automargin": true,
           "gridcolor": "white",
           "linecolor": "white",
           "ticks": "",
           "title": {
            "standoff": 15
           },
           "zerolinecolor": "white",
           "zerolinewidth": 2
          },
          "yaxis": {
           "automargin": true,
           "gridcolor": "white",
           "linecolor": "white",
           "ticks": "",
           "title": {
            "standoff": 15
           },
           "zerolinecolor": "white",
           "zerolinewidth": 2
          }
         }
        },
        "title": {
         "text": "Nigeria's trend on confirmed cases. <br> (Last updated on 11/30/22)"
        },
        "width": 800,
        "xaxis": {
         "title": {
          "text": "Date"
         }
        },
        "yaxis": {
         "title": {
          "text": "Confirmed Cases"
         }
        }
       }
      }
     },
     "metadata": {},
     "output_type": "display_data"
    },
    {
     "data": {
      "application/vnd.jupyter.widget-view+json": {
       "model_id": "24e1c6f1dd514509ab09bb313f4a6f33",
       "version_major": 2,
       "version_minor": 0
      },
      "text/plain": [
       "interactive(children=(Text(value='Nigeria', description='name'), Output()), _dom_classes=('widget-interact',))"
      ]
     },
     "metadata": {},
     "output_type": "display_data"
    }
   ],
   "source": [
    "# Visualizing the trend of confirmed cases over time using Plotly\n",
    "def confirmedCases_trend(name):\n",
    "    x_data = confirmed_df.iloc[:, 5:].columns\n",
    "    y_data = confirmed_df[confirmed_df['country'] == name].iloc[:, 5:].sum(axis=0)\n",
    "\n",
    "    fig = go.Figure()\n",
    "    fig.add_trace(\n",
    "        go.Scatter(\n",
    "            x=x_data, y=y_data, mode='markers', name='markers'\n",
    "        )\n",
    "    )\n",
    "\n",
    "    fig.update_layout(\n",
    "        title=str(name) + \"'s trend on confirmed cases. <br> (Last updated on \" + (confirmed_df.columns)[-1]+\")\",\n",
    "        xaxis_title=\"Date\",\n",
    "        yaxis_title=\"Confirmed Cases\",\n",
    "        width=800\n",
    "    )\n",
    "\n",
    "    fig.show()\n",
    "\n",
    "interact(confirmedCases_trend, name='Nigeria')\n",
    "ipywLayout = widgets.Layout()\n",
    "ipywLayout.display='none'"
   ]
  },
  {
   "cell_type": "markdown",
   "metadata": {},
   "source": [
    "#### Trend of Death Cases"
   ]
  },
  {
   "cell_type": "code",
   "execution_count": 20,
   "metadata": {},
   "outputs": [
    {
     "data": {
      "application/vnd.plotly.v1+json": {
       "config": {
        "plotlyServerURL": "https://plot.ly"
       },
       "data": [
        {
         "mode": "markers",
         "name": "markers",
         "type": "scatter",
         "x": [
          "1/22/20",
          "1/23/20",
          "1/24/20",
          "1/25/20",
          "1/26/20",
          "1/27/20",
          "1/28/20",
          "1/29/20",
          "1/30/20",
          "1/31/20",
          "2/1/20",
          "2/2/20",
          "2/3/20",
          "2/4/20",
          "2/5/20",
          "2/6/20",
          "2/7/20",
          "2/8/20",
          "2/9/20",
          "2/10/20",
          "2/11/20",
          "2/12/20",
          "2/13/20",
          "2/14/20",
          "2/15/20",
          "2/16/20",
          "2/17/20",
          "2/18/20",
          "2/19/20",
          "2/20/20",
          "2/21/20",
          "2/22/20",
          "2/23/20",
          "2/24/20",
          "2/25/20",
          "2/26/20",
          "2/27/20",
          "2/28/20",
          "2/29/20",
          "3/1/20",
          "3/2/20",
          "3/3/20",
          "3/4/20",
          "3/5/20",
          "3/6/20",
          "3/7/20",
          "3/8/20",
          "3/9/20",
          "3/10/20",
          "3/11/20",
          "3/12/20",
          "3/13/20",
          "3/14/20",
          "3/15/20",
          "3/16/20",
          "3/17/20",
          "3/18/20",
          "3/19/20",
          "3/20/20",
          "3/21/20",
          "3/22/20",
          "3/23/20",
          "3/24/20",
          "3/25/20",
          "3/26/20",
          "3/27/20",
          "3/28/20",
          "3/29/20",
          "3/30/20",
          "3/31/20",
          "4/1/20",
          "4/2/20",
          "4/3/20",
          "4/4/20",
          "4/5/20",
          "4/6/20",
          "4/7/20",
          "4/8/20",
          "4/9/20",
          "4/10/20",
          "4/11/20",
          "4/12/20",
          "4/13/20",
          "4/14/20",
          "4/15/20",
          "4/16/20",
          "4/17/20",
          "4/18/20",
          "4/19/20",
          "4/20/20",
          "4/21/20",
          "4/22/20",
          "4/23/20",
          "4/24/20",
          "4/25/20",
          "4/26/20",
          "4/27/20",
          "4/28/20",
          "4/29/20",
          "4/30/20",
          "5/1/20",
          "5/2/20",
          "5/3/20",
          "5/4/20",
          "5/5/20",
          "5/6/20",
          "5/7/20",
          "5/8/20",
          "5/9/20",
          "5/10/20",
          "5/11/20",
          "5/12/20",
          "5/13/20",
          "5/14/20",
          "5/15/20",
          "5/16/20",
          "5/17/20",
          "5/18/20",
          "5/19/20",
          "5/20/20",
          "5/21/20",
          "5/22/20",
          "5/23/20",
          "5/24/20",
          "5/25/20",
          "5/26/20",
          "5/27/20",
          "5/28/20",
          "5/29/20",
          "5/30/20",
          "5/31/20",
          "6/1/20",
          "6/2/20",
          "6/3/20",
          "6/4/20",
          "6/5/20",
          "6/6/20",
          "6/7/20",
          "6/8/20",
          "6/9/20",
          "6/10/20",
          "6/11/20",
          "6/12/20",
          "6/13/20",
          "6/14/20",
          "6/15/20",
          "6/16/20",
          "6/17/20",
          "6/18/20",
          "6/19/20",
          "6/20/20",
          "6/21/20",
          "6/22/20",
          "6/23/20",
          "6/24/20",
          "6/25/20",
          "6/26/20",
          "6/27/20",
          "6/28/20",
          "6/29/20",
          "6/30/20",
          "7/1/20",
          "7/2/20",
          "7/3/20",
          "7/4/20",
          "7/5/20",
          "7/6/20",
          "7/7/20",
          "7/8/20",
          "7/9/20",
          "7/10/20",
          "7/11/20",
          "7/12/20",
          "7/13/20",
          "7/14/20",
          "7/15/20",
          "7/16/20",
          "7/17/20",
          "7/18/20",
          "7/19/20",
          "7/20/20",
          "7/21/20",
          "7/22/20",
          "7/23/20",
          "7/24/20",
          "7/25/20",
          "7/26/20",
          "7/27/20",
          "7/28/20",
          "7/29/20",
          "7/30/20",
          "7/31/20",
          "8/1/20",
          "8/2/20",
          "8/3/20",
          "8/4/20",
          "8/5/20",
          "8/6/20",
          "8/7/20",
          "8/8/20",
          "8/9/20",
          "8/10/20",
          "8/11/20",
          "8/12/20",
          "8/13/20",
          "8/14/20",
          "8/15/20",
          "8/16/20",
          "8/17/20",
          "8/18/20",
          "8/19/20",
          "8/20/20",
          "8/21/20",
          "8/22/20",
          "8/23/20",
          "8/24/20",
          "8/25/20",
          "8/26/20",
          "8/27/20",
          "8/28/20",
          "8/29/20",
          "8/30/20",
          "8/31/20",
          "9/1/20",
          "9/2/20",
          "9/3/20",
          "9/4/20",
          "9/5/20",
          "9/6/20",
          "9/7/20",
          "9/8/20",
          "9/9/20",
          "9/10/20",
          "9/11/20",
          "9/12/20",
          "9/13/20",
          "9/14/20",
          "9/15/20",
          "9/16/20",
          "9/17/20",
          "9/18/20",
          "9/19/20",
          "9/20/20",
          "9/21/20",
          "9/22/20",
          "9/23/20",
          "9/24/20",
          "9/25/20",
          "9/26/20",
          "9/27/20",
          "9/28/20",
          "9/29/20",
          "9/30/20",
          "10/1/20",
          "10/2/20",
          "10/3/20",
          "10/4/20",
          "10/5/20",
          "10/6/20",
          "10/7/20",
          "10/8/20",
          "10/9/20",
          "10/10/20",
          "10/11/20",
          "10/12/20",
          "10/13/20",
          "10/14/20",
          "10/15/20",
          "10/16/20",
          "10/17/20",
          "10/18/20",
          "10/19/20",
          "10/20/20",
          "10/21/20",
          "10/22/20",
          "10/23/20",
          "10/24/20",
          "10/25/20",
          "10/26/20",
          "10/27/20",
          "10/28/20",
          "10/29/20",
          "10/30/20",
          "10/31/20",
          "11/1/20",
          "11/2/20",
          "11/3/20",
          "11/4/20",
          "11/5/20",
          "11/6/20",
          "11/7/20",
          "11/8/20",
          "11/9/20",
          "11/10/20",
          "11/11/20",
          "11/12/20",
          "11/13/20",
          "11/14/20",
          "11/15/20",
          "11/16/20",
          "11/17/20",
          "11/18/20",
          "11/19/20",
          "11/20/20",
          "11/21/20",
          "11/22/20",
          "11/23/20",
          "11/24/20",
          "11/25/20",
          "11/26/20",
          "11/27/20",
          "11/28/20",
          "11/29/20",
          "11/30/20",
          "12/1/20",
          "12/2/20",
          "12/3/20",
          "12/4/20",
          "12/5/20",
          "12/6/20",
          "12/7/20",
          "12/8/20",
          "12/9/20",
          "12/10/20",
          "12/11/20",
          "12/12/20",
          "12/13/20",
          "12/14/20",
          "12/15/20",
          "12/16/20",
          "12/17/20",
          "12/18/20",
          "12/19/20",
          "12/20/20",
          "12/21/20",
          "12/22/20",
          "12/23/20",
          "12/24/20",
          "12/25/20",
          "12/26/20",
          "12/27/20",
          "12/28/20",
          "12/29/20",
          "12/30/20",
          "12/31/20",
          "1/1/21",
          "1/2/21",
          "1/3/21",
          "1/4/21",
          "1/5/21",
          "1/6/21",
          "1/7/21",
          "1/8/21",
          "1/9/21",
          "1/10/21",
          "1/11/21",
          "1/12/21",
          "1/13/21",
          "1/14/21",
          "1/15/21",
          "1/16/21",
          "1/17/21",
          "1/18/21",
          "1/19/21",
          "1/20/21",
          "1/21/21",
          "1/22/21",
          "1/23/21",
          "1/24/21",
          "1/25/21",
          "1/26/21",
          "1/27/21",
          "1/28/21",
          "1/29/21",
          "1/30/21",
          "1/31/21",
          "2/1/21",
          "2/2/21",
          "2/3/21",
          "2/4/21",
          "2/5/21",
          "2/6/21",
          "2/7/21",
          "2/8/21",
          "2/9/21",
          "2/10/21",
          "2/11/21",
          "2/12/21",
          "2/13/21",
          "2/14/21",
          "2/15/21",
          "2/16/21",
          "2/17/21",
          "2/18/21",
          "2/19/21",
          "2/20/21",
          "2/21/21",
          "2/22/21",
          "2/23/21",
          "2/24/21",
          "2/25/21",
          "2/26/21",
          "2/27/21",
          "2/28/21",
          "3/1/21",
          "3/2/21",
          "3/3/21",
          "3/4/21",
          "3/5/21",
          "3/6/21",
          "3/7/21",
          "3/8/21",
          "3/9/21",
          "3/10/21",
          "3/11/21",
          "3/12/21",
          "3/13/21",
          "3/14/21",
          "3/15/21",
          "3/16/21",
          "3/17/21",
          "3/18/21",
          "3/19/21",
          "3/20/21",
          "3/21/21",
          "3/22/21",
          "3/23/21",
          "3/24/21",
          "3/25/21",
          "3/26/21",
          "3/27/21",
          "3/28/21",
          "3/29/21",
          "3/30/21",
          "3/31/21",
          "4/1/21",
          "4/2/21",
          "4/3/21",
          "4/4/21",
          "4/5/21",
          "4/6/21",
          "4/7/21",
          "4/8/21",
          "4/9/21",
          "4/10/21",
          "4/11/21",
          "4/12/21",
          "4/13/21",
          "4/14/21",
          "4/15/21",
          "4/16/21",
          "4/17/21",
          "4/18/21",
          "4/19/21",
          "4/20/21",
          "4/21/21",
          "4/22/21",
          "4/23/21",
          "4/24/21",
          "4/25/21",
          "4/26/21",
          "4/27/21",
          "4/28/21",
          "4/29/21",
          "4/30/21",
          "5/1/21",
          "5/2/21",
          "5/3/21",
          "5/4/21",
          "5/5/21",
          "5/6/21",
          "5/7/21",
          "5/8/21",
          "5/9/21",
          "5/10/21",
          "5/11/21",
          "5/12/21",
          "5/13/21",
          "5/14/21",
          "5/15/21",
          "5/16/21",
          "5/17/21",
          "5/18/21",
          "5/19/21",
          "5/20/21",
          "5/21/21",
          "5/22/21",
          "5/23/21",
          "5/24/21",
          "5/25/21",
          "5/26/21",
          "5/27/21",
          "5/28/21",
          "5/29/21",
          "5/30/21",
          "5/31/21",
          "6/1/21",
          "6/2/21",
          "6/3/21",
          "6/4/21",
          "6/5/21",
          "6/6/21",
          "6/7/21",
          "6/8/21",
          "6/9/21",
          "6/10/21",
          "6/11/21",
          "6/12/21",
          "6/13/21",
          "6/14/21",
          "6/15/21",
          "6/16/21",
          "6/17/21",
          "6/18/21",
          "6/19/21",
          "6/20/21",
          "6/21/21",
          "6/22/21",
          "6/23/21",
          "6/24/21",
          "6/25/21",
          "6/26/21",
          "6/27/21",
          "6/28/21",
          "6/29/21",
          "6/30/21",
          "7/1/21",
          "7/2/21",
          "7/3/21",
          "7/4/21",
          "7/5/21",
          "7/6/21",
          "7/7/21",
          "7/8/21",
          "7/9/21",
          "7/10/21",
          "7/11/21",
          "7/12/21",
          "7/13/21",
          "7/14/21",
          "7/15/21",
          "7/16/21",
          "7/17/21",
          "7/18/21",
          "7/19/21",
          "7/20/21",
          "7/21/21",
          "7/22/21",
          "7/23/21",
          "7/24/21",
          "7/25/21",
          "7/26/21",
          "7/27/21",
          "7/28/21",
          "7/29/21",
          "7/30/21",
          "7/31/21",
          "8/1/21",
          "8/2/21",
          "8/3/21",
          "8/4/21",
          "8/5/21",
          "8/6/21",
          "8/7/21",
          "8/8/21",
          "8/9/21",
          "8/10/21",
          "8/11/21",
          "8/12/21",
          "8/13/21",
          "8/14/21",
          "8/15/21",
          "8/16/21",
          "8/17/21",
          "8/18/21",
          "8/19/21",
          "8/20/21",
          "8/21/21",
          "8/22/21",
          "8/23/21",
          "8/24/21",
          "8/25/21",
          "8/26/21",
          "8/27/21",
          "8/28/21",
          "8/29/21",
          "8/30/21",
          "8/31/21",
          "9/1/21",
          "9/2/21",
          "9/3/21",
          "9/4/21",
          "9/5/21",
          "9/6/21",
          "9/7/21",
          "9/8/21",
          "9/9/21",
          "9/10/21",
          "9/11/21",
          "9/12/21",
          "9/13/21",
          "9/14/21",
          "9/15/21",
          "9/16/21",
          "9/17/21",
          "9/18/21",
          "9/19/21",
          "9/20/21",
          "9/21/21",
          "9/22/21",
          "9/23/21",
          "9/24/21",
          "9/25/21",
          "9/26/21",
          "9/27/21",
          "9/28/21",
          "9/29/21",
          "9/30/21",
          "10/1/21",
          "10/2/21",
          "10/3/21",
          "10/4/21",
          "10/5/21",
          "10/6/21",
          "10/7/21",
          "10/8/21",
          "10/9/21",
          "10/10/21",
          "10/11/21",
          "10/12/21",
          "10/13/21",
          "10/14/21",
          "10/15/21",
          "10/16/21",
          "10/17/21",
          "10/18/21",
          "10/19/21",
          "10/20/21",
          "10/21/21",
          "10/22/21",
          "10/23/21",
          "10/24/21",
          "10/25/21",
          "10/26/21",
          "10/27/21",
          "10/28/21",
          "10/29/21",
          "10/30/21",
          "10/31/21",
          "11/1/21",
          "11/2/21",
          "11/3/21",
          "11/4/21",
          "11/5/21",
          "11/6/21",
          "11/7/21",
          "11/8/21",
          "11/9/21",
          "11/10/21",
          "11/11/21",
          "11/12/21",
          "11/13/21",
          "11/14/21",
          "11/15/21",
          "11/16/21",
          "11/17/21",
          "11/18/21",
          "11/19/21",
          "11/20/21",
          "11/21/21",
          "11/22/21",
          "11/23/21",
          "11/24/21",
          "11/25/21",
          "11/26/21",
          "11/27/21",
          "11/28/21",
          "11/29/21",
          "11/30/21",
          "12/1/21",
          "12/2/21",
          "12/3/21",
          "12/4/21",
          "12/5/21",
          "12/6/21",
          "12/7/21",
          "12/8/21",
          "12/9/21",
          "12/10/21",
          "12/11/21",
          "12/12/21",
          "12/13/21",
          "12/14/21",
          "12/15/21",
          "12/16/21",
          "12/17/21",
          "12/18/21",
          "12/19/21",
          "12/20/21",
          "12/21/21",
          "12/22/21",
          "12/23/21",
          "12/24/21",
          "12/25/21",
          "12/26/21",
          "12/27/21",
          "12/28/21",
          "12/29/21",
          "12/30/21",
          "12/31/21",
          "1/1/22",
          "1/2/22",
          "1/3/22",
          "1/4/22",
          "1/5/22",
          "1/6/22",
          "1/7/22",
          "1/8/22",
          "1/9/22",
          "1/10/22",
          "1/11/22",
          "1/12/22",
          "1/13/22",
          "1/14/22",
          "1/15/22",
          "1/16/22",
          "1/17/22",
          "1/18/22",
          "1/19/22",
          "1/20/22",
          "1/21/22",
          "1/22/22",
          "1/23/22",
          "1/24/22",
          "1/25/22",
          "1/26/22",
          "1/27/22",
          "1/28/22",
          "1/29/22",
          "1/30/22",
          "1/31/22",
          "2/1/22",
          "2/2/22",
          "2/3/22",
          "2/4/22",
          "2/5/22",
          "2/6/22",
          "2/7/22",
          "2/8/22",
          "2/9/22",
          "2/10/22",
          "2/11/22",
          "2/12/22",
          "2/13/22",
          "2/14/22",
          "2/15/22",
          "2/16/22",
          "2/17/22",
          "2/18/22",
          "2/19/22",
          "2/20/22",
          "2/21/22",
          "2/22/22",
          "2/23/22",
          "2/24/22",
          "2/25/22",
          "2/26/22",
          "2/27/22",
          "2/28/22",
          "3/1/22",
          "3/2/22",
          "3/3/22",
          "3/4/22",
          "3/5/22",
          "3/6/22",
          "3/7/22",
          "3/8/22",
          "3/9/22",
          "3/10/22",
          "3/11/22",
          "3/12/22",
          "3/13/22",
          "3/14/22",
          "3/15/22",
          "3/16/22",
          "3/17/22",
          "3/18/22",
          "3/19/22",
          "3/20/22",
          "3/21/22",
          "3/22/22",
          "3/23/22",
          "3/24/22",
          "3/25/22",
          "3/26/22",
          "3/27/22",
          "3/28/22",
          "3/29/22",
          "3/30/22",
          "3/31/22",
          "4/1/22",
          "4/2/22",
          "4/3/22",
          "4/4/22",
          "4/5/22",
          "4/6/22",
          "4/7/22",
          "4/8/22",
          "4/9/22",
          "4/10/22",
          "4/11/22",
          "4/12/22",
          "4/13/22",
          "4/14/22",
          "4/15/22",
          "4/16/22",
          "4/17/22",
          "4/18/22",
          "4/19/22",
          "4/20/22",
          "4/21/22",
          "4/22/22",
          "4/23/22",
          "4/24/22",
          "4/25/22",
          "4/26/22",
          "4/27/22",
          "4/28/22",
          "4/29/22",
          "4/30/22",
          "5/1/22",
          "5/2/22",
          "5/3/22",
          "5/4/22",
          "5/5/22",
          "5/6/22",
          "5/7/22",
          "5/8/22",
          "5/9/22",
          "5/10/22",
          "5/11/22",
          "5/12/22",
          "5/13/22",
          "5/14/22",
          "5/15/22",
          "5/16/22",
          "5/17/22",
          "5/18/22",
          "5/19/22",
          "5/20/22",
          "5/21/22",
          "5/22/22",
          "5/23/22",
          "5/24/22",
          "5/25/22",
          "5/26/22",
          "5/27/22",
          "5/28/22",
          "5/29/22",
          "5/30/22",
          "5/31/22",
          "6/1/22",
          "6/2/22",
          "6/3/22",
          "6/4/22",
          "6/5/22",
          "6/6/22",
          "6/7/22",
          "6/8/22",
          "6/9/22",
          "6/10/22",
          "6/11/22",
          "6/12/22",
          "6/13/22",
          "6/14/22",
          "6/15/22",
          "6/16/22",
          "6/17/22",
          "6/18/22",
          "6/19/22",
          "6/20/22",
          "6/21/22",
          "6/22/22",
          "6/23/22",
          "6/24/22",
          "6/25/22",
          "6/26/22",
          "6/27/22",
          "6/28/22",
          "6/29/22",
          "6/30/22",
          "7/1/22",
          "7/2/22",
          "7/3/22",
          "7/4/22",
          "7/5/22",
          "7/6/22",
          "7/7/22",
          "7/8/22",
          "7/9/22",
          "7/10/22",
          "7/11/22",
          "7/12/22",
          "7/13/22",
          "7/14/22",
          "7/15/22",
          "7/16/22",
          "7/17/22",
          "7/18/22",
          "7/19/22",
          "7/20/22",
          "7/21/22",
          "7/22/22",
          "7/23/22",
          "7/24/22",
          "7/25/22",
          "7/26/22",
          "7/27/22",
          "7/28/22",
          "7/29/22",
          "7/30/22",
          "7/31/22",
          "8/1/22",
          "8/2/22",
          "8/3/22",
          "8/4/22",
          "8/5/22",
          "8/6/22",
          "8/7/22",
          "8/8/22",
          "8/9/22",
          "8/10/22",
          "8/11/22",
          "8/12/22",
          "8/13/22",
          "8/14/22",
          "8/15/22",
          "8/16/22",
          "8/17/22",
          "8/18/22",
          "8/19/22",
          "8/20/22",
          "8/21/22",
          "8/22/22",
          "8/23/22",
          "8/24/22",
          "8/25/22",
          "8/26/22",
          "8/27/22",
          "8/28/22",
          "8/29/22",
          "8/30/22",
          "8/31/22",
          "9/1/22",
          "9/2/22",
          "9/3/22",
          "9/4/22",
          "9/5/22",
          "9/6/22",
          "9/7/22",
          "9/8/22",
          "9/9/22",
          "9/10/22",
          "9/11/22",
          "9/12/22",
          "9/13/22",
          "9/14/22",
          "9/15/22",
          "9/16/22",
          "9/17/22",
          "9/18/22",
          "9/19/22",
          "9/20/22",
          "9/21/22",
          "9/22/22",
          "9/23/22",
          "9/24/22",
          "9/25/22",
          "9/26/22",
          "9/27/22",
          "9/28/22",
          "9/29/22",
          "9/30/22",
          "10/1/22",
          "10/2/22",
          "10/3/22",
          "10/4/22",
          "10/5/22",
          "10/6/22",
          "10/7/22",
          "10/8/22",
          "10/9/22",
          "10/10/22",
          "10/11/22",
          "10/12/22",
          "10/13/22",
          "10/14/22",
          "10/15/22",
          "10/16/22",
          "10/17/22",
          "10/18/22",
          "10/19/22",
          "10/20/22",
          "10/21/22",
          "10/22/22",
          "10/23/22",
          "10/24/22",
          "10/25/22",
          "10/26/22",
          "10/27/22",
          "10/28/22",
          "10/29/22",
          "10/30/22",
          "10/31/22",
          "11/1/22",
          "11/2/22",
          "11/3/22",
          "11/4/22",
          "11/5/22",
          "11/6/22",
          "11/7/22",
          "11/8/22",
          "11/9/22",
          "11/10/22",
          "11/11/22",
          "11/12/22",
          "11/13/22",
          "11/14/22",
          "11/15/22",
          "11/16/22",
          "11/17/22",
          "11/18/22",
          "11/19/22",
          "11/20/22",
          "11/21/22",
          "11/22/22",
          "11/23/22",
          "11/24/22",
          "11/25/22",
          "11/26/22",
          "11/27/22",
          "11/28/22",
          "11/29/22",
          "11/30/22"
         ],
         "y": [
          0,
          0,
          0,
          0,
          0,
          0,
          0,
          0,
          0,
          0,
          0,
          0,
          0,
          0,
          0,
          0,
          0,
          0,
          0,
          0,
          0,
          0,
          0,
          0,
          0,
          0,
          0,
          0,
          0,
          0,
          0,
          0,
          0,
          0,
          0,
          0,
          0,
          0,
          0,
          0,
          0,
          0,
          0,
          0,
          0,
          0,
          0,
          0,
          0,
          0,
          0,
          0,
          0,
          0,
          0,
          0,
          0,
          0,
          0,
          0,
          0,
          1,
          1,
          1,
          1,
          1,
          1,
          1,
          2,
          2,
          2,
          2,
          4,
          4,
          5,
          5,
          6,
          6,
          7,
          7,
          10,
          10,
          10,
          11,
          12,
          13,
          17,
          19,
          21,
          22,
          22,
          28,
          31,
          32,
          35,
          40,
          40,
          44,
          51,
          58,
          68,
          85,
          87,
          93,
          98,
          103,
          107,
          117,
          128,
          143,
          150,
          158,
          164,
          167,
          171,
          176,
          182,
          191,
          192,
          200,
          211,
          221,
          221,
          226,
          233,
          249,
          254,
          259,
          261,
          273,
          287,
          299,
          314,
          315,
          323,
          333,
          342,
          354,
          361,
          365,
          382,
          387,
          399,
          407,
          420,
          424,
          455,
          469,
          475,
          487,
          506,
          518,
          525,
          533,
          542,
          549,
          554,
          558,
          565,
          573,
          590,
          603,
          616,
          628,
          634,
          645,
          654,
          669,
          684,
          689,
          709,
          724,
          740,
          744,
          754,
          760,
          769,
          772,
          778,
          789,
          801,
          805,
          813,
          833,
          845,
          856,
          858,
          860,
          868,
          873,
          878,
          879,
          883,
          888,
          896,
          910,
          927,
          930,
          936,
          942,
          945,
          950,
          956,
          956,
          966,
          973,
          974,
          975,
          977,
          981,
          985,
          992,
          996,
          997,
          1002,
          1004,
          1007,
          1010,
          1011,
          1011,
          1011,
          1013,
          1013,
          1023,
          1027,
          1048,
          1051,
          1054,
          1057,
          1061,
          1067,
          1070,
          1075,
          1076,
          1078,
          1082,
          1083,
          1088,
          1091,
          1093,
          1094,
          1095,
          1098,
          1100,
          1100,
          1102,
          1102,
          1103,
          1106,
          1108,
          1111,
          1111,
          1112,
          1112,
          1112,
          1113,
          1113,
          1113,
          1113,
          1113,
          1113,
          1113,
          1115,
          1115,
          1115,
          1116,
          1116,
          1116,
          1119,
          1123,
          1125,
          1125,
          1125,
          1125,
          1127,
          1129,
          1129,
          1130,
          1132,
          1135,
          1139,
          1141,
          1144,
          1144,
          1146,
          1147,
          1151,
          1155,
          1155,
          1155,
          1155,
          1154,
          1158,
          1160,
          1162,
          1162,
          1163,
          1163,
          1163,
          1163,
          1163,
          1163,
          1165,
          1165,
          1166,
          1167,
          1168,
          1169,
          1169,
          1169,
          1171,
          1171,
          1173,
          1173,
          1176,
          1177,
          1179,
          1179,
          1180,
          1180,
          1181,
          1182,
          1184,
          1190,
          1190,
          1194,
          1197,
          1197,
          1200,
          1200,
          1201,
          1212,
          1218,
          1221,
          1227,
          1231,
          1236,
          1242,
          1246,
          1247,
          1254,
          1264,
          1267,
          1278,
          1289,
          1294,
          1302,
          1311,
          1318,
          1319,
          1324,
          1330,
          1342,
          1350,
          1358,
          1361,
          1373,
          1382,
          1405,
          1413,
          1420,
          1435,
          1449,
          1464,
          1478,
          1485,
          1490,
          1502,
          1504,
          1507,
          1522,
          1543,
          1547,
          1577,
          1578,
          1586,
          1607,
          1613,
          1618,
          1632,
          1641,
          1647,
          1667,
          1673,
          1694,
          1702,
          1710,
          1734,
          1747,
          1752,
          1761,
          1777,
          1787,
          1803,
          1813,
          1831,
          1839,
          1862,
          1874,
          1885,
          1891,
          1902,
          1905,
          1907,
          1915,
          1923,
          1939,
          1951,
          1954,
          1964,
          1969,
          1982,
          1988,
          1993,
          2001,
          2009,
          2013,
          2013,
          2016,
          2018,
          2027,
          2027,
          2027,
          2030,
          2030,
          2030,
          2031,
          2031,
          2036,
          2039,
          2041,
          2048,
          2049,
          2056,
          2057,
          2058,
          2058,
          2058,
          2058,
          2058,
          2058,
          2058,
          2058,
          2059,
          2060,
          2060,
          2061,
          2061,
          2061,
          2061,
          2061,
          2061,
          2061,
          2061,
          2061,
          2061,
          2061,
          2061,
          2061,
          2062,
          2062,
          2063,
          2063,
          2063,
          2063,
          2063,
          2063,
          2063,
          2063,
          2065,
          2065,
          2065,
          2065,
          2065,
          2065,
          2065,
          2066,
          2066,
          2066,
          2066,
          2066,
          2067,
          2067,
          2067,
          2067,
          2067,
          2067,
          2067,
          2067,
          2071,
          2071,
          2071,
          2071,
          2071,
          2071,
          2099,
          2099,
          2099,
          2117,
          2117,
          2117,
          2117,
          2117,
          2117,
          2117,
          2117,
          2117,
          2117,
          2117,
          2117,
          2117,
          2117,
          2117,
          2117,
          2117,
          2117,
          2118,
          2118,
          2118,
          2118,
          2119,
          2119,
          2119,
          2119,
          2120,
          2120,
          2121,
          2121,
          2121,
          2121,
          2122,
          2122,
          2122,
          2122,
          2122,
          2122,
          2124,
          2124,
          2125,
          2125,
          2126,
          2126,
          2126,
          2127,
          2128,
          2128,
          2128,
          2130,
          2130,
          2132,
          2132,
          2134,
          2134,
          2139,
          2141,
          2149,
          2149,
          2149,
          2160,
          2163,
          2167,
          2178,
          2181,
          2185,
          2187,
          2192,
          2194,
          2195,
          2200,
          2211,
          2219,
          2219,
          2223,
          2229,
          2229,
          2244,
          2247,
          2247,
          2268,
          2276,
          2281,
          2288,
          2298,
          2308,
          2361,
          2454,
          2455,
          2469,
          2480,
          2488,
          2495,
          2522,
          2552,
          2556,
          2573,
          2578,
          2585,
          2588,
          2590,
          2598,
          2619,
          2637,
          2640,
          2640,
          2649,
          2654,
          2655,
          2661,
          2664,
          2666,
          2668,
          2671,
          2673,
          2677,
          2690,
          2695,
          2701,
          2721,
          2724,
          2724,
          2724,
          2724,
          2731,
          2731,
          2742,
          2743,
          2745,
          2747,
          2756,
          2756,
          2761,
          2761,
          2769,
          2804,
          2837,
          2838,
          2838,
          2840,
          2850,
          2855,
          2856,
          2882,
          2884,
          2884,
          2886,
          2892,
          2895,
          2895,
          2896,
          2898,
          2899,
          2900,
          2902,
          2902,
          2905,
          2906,
          2906,
          2914,
          2922,
          2933,
          2949,
          2960,
          2968,
          2968,
          2968,
          2973,
          2973,
          2973,
          2973,
          2974,
          2974,
          2974,
          2974,
          2975,
          2975,
          2975,
          2975,
          2976,
          2977,
          2978,
          2978,
          2980,
          2980,
          2980,
          2980,
          2980,
          2980,
          2980,
          2981,
          2981,
          2981,
          2981,
          2983,
          2983,
          2983,
          2984,
          2984,
          2984,
          2985,
          2985,
          2991,
          2991,
          2993,
          3014,
          3022,
          3024,
          3027,
          3030,
          3030,
          3030,
          3033,
          3033,
          3045,
          3053,
          3058,
          3066,
          3070,
          3071,
          3077,
          3085,
          3086,
          3092,
          3092,
          3092,
          3095,
          3103,
          3110,
          3116,
          3117,
          3117,
          3124,
          3124,
          3124,
          3126,
          3133,
          3134,
          3134,
          3134,
          3135,
          3135,
          3136,
          3136,
          3136,
          3136,
          3136,
          3139,
          3139,
          3139,
          3139,
          3139,
          3139,
          3139,
          3141,
          3141,
          3141,
          3141,
          3141,
          3141,
          3142,
          3142,
          3142,
          3142,
          3142,
          3142,
          3142,
          3142,
          3142,
          3142,
          3142,
          3142,
          3142,
          3142,
          3142,
          3142,
          3142,
          3142,
          3142,
          3142,
          3142,
          3142,
          3142,
          3142,
          3142,
          3142,
          3142,
          3142,
          3142,
          3142,
          3142,
          3142,
          3142,
          3142,
          3142,
          3142,
          3142,
          3142,
          3142,
          3142,
          3142,
          3142,
          3142,
          3142,
          3142,
          3142,
          3142,
          3142,
          3142,
          3142,
          3142,
          3142,
          3142,
          3142,
          3142,
          3143,
          3143,
          3143,
          3143,
          3143,
          3143,
          3143,
          3143,
          3143,
          3143,
          3143,
          3143,
          3143,
          3143,
          3143,
          3143,
          3143,
          3143,
          3143,
          3143,
          3143,
          3143,
          3143,
          3143,
          3143,
          3143,
          3143,
          3143,
          3143,
          3143,
          3143,
          3143,
          3143,
          3143,
          3143,
          3143,
          3143,
          3143,
          3143,
          3143,
          3143,
          3143,
          3143,
          3143,
          3143,
          3143,
          3143,
          3143,
          3143,
          3143,
          3143,
          3143,
          3143,
          3148,
          3148,
          3148,
          3148,
          3144,
          3144,
          3144,
          3144,
          3144,
          3144,
          3144,
          3144,
          3144,
          3144,
          3144,
          3144,
          3144,
          3144,
          3144,
          3144,
          3144,
          3144,
          3144,
          3144,
          3144,
          3144,
          3144,
          3144,
          3144,
          3144,
          3144,
          3144,
          3144,
          3144,
          3144,
          3144,
          3144,
          3144,
          3144,
          3144,
          3144,
          3144,
          3144,
          3146,
          3146,
          3146,
          3146,
          3147,
          3147,
          3147,
          3147,
          3147,
          3147,
          3147,
          3147,
          3147,
          3147,
          3147,
          3147,
          3147,
          3147,
          3147,
          3147,
          3147,
          3147,
          3147,
          3147,
          3147,
          3147,
          3147,
          3147,
          3147,
          3147,
          3147,
          3147,
          3147,
          3147,
          3147,
          3148,
          3148,
          3148,
          3148,
          3148,
          3148,
          3148,
          3148,
          3148,
          3148,
          3148,
          3148,
          3148,
          3148,
          3148,
          3148,
          3154,
          3154,
          3154,
          3154,
          3154,
          3155,
          3155,
          3155,
          3155,
          3155,
          3155,
          3155,
          3155,
          3155,
          3155,
          3155,
          3155,
          3155,
          3155,
          3155,
          3155,
          3155,
          3155,
          3155,
          3155,
          3155,
          3155,
          3155,
          3155,
          3155,
          3155,
          3155,
          3155,
          3155,
          3155,
          3155,
          3155,
          3155,
          3155,
          3155,
          3155,
          3155,
          3155,
          3155,
          3155,
          3155,
          3155,
          3155,
          3155,
          3155,
          3155,
          3155,
          3155,
          3155,
          3155,
          3155,
          3155,
          3155,
          3155,
          3155,
          3155,
          3155,
          3155,
          3155,
          3155,
          3155,
          3155,
          3155,
          3155,
          3155,
          3155,
          3155,
          3155,
          3155,
          3155,
          3155,
          3155,
          3155,
          3155,
          3155,
          3155,
          3155,
          3155,
          3155
         ]
        }
       ],
       "layout": {
        "template": {
         "data": {
          "bar": [
           {
            "error_x": {
             "color": "#2a3f5f"
            },
            "error_y": {
             "color": "#2a3f5f"
            },
            "marker": {
             "line": {
              "color": "#E5ECF6",
              "width": 0.5
             },
             "pattern": {
              "fillmode": "overlay",
              "size": 10,
              "solidity": 0.2
             }
            },
            "type": "bar"
           }
          ],
          "barpolar": [
           {
            "marker": {
             "line": {
              "color": "#E5ECF6",
              "width": 0.5
             },
             "pattern": {
              "fillmode": "overlay",
              "size": 10,
              "solidity": 0.2
             }
            },
            "type": "barpolar"
           }
          ],
          "carpet": [
           {
            "aaxis": {
             "endlinecolor": "#2a3f5f",
             "gridcolor": "white",
             "linecolor": "white",
             "minorgridcolor": "white",
             "startlinecolor": "#2a3f5f"
            },
            "baxis": {
             "endlinecolor": "#2a3f5f",
             "gridcolor": "white",
             "linecolor": "white",
             "minorgridcolor": "white",
             "startlinecolor": "#2a3f5f"
            },
            "type": "carpet"
           }
          ],
          "choropleth": [
           {
            "colorbar": {
             "outlinewidth": 0,
             "ticks": ""
            },
            "type": "choropleth"
           }
          ],
          "contour": [
           {
            "colorbar": {
             "outlinewidth": 0,
             "ticks": ""
            },
            "colorscale": [
             [
              0,
              "#0d0887"
             ],
             [
              0.1111111111111111,
              "#46039f"
             ],
             [
              0.2222222222222222,
              "#7201a8"
             ],
             [
              0.3333333333333333,
              "#9c179e"
             ],
             [
              0.4444444444444444,
              "#bd3786"
             ],
             [
              0.5555555555555556,
              "#d8576b"
             ],
             [
              0.6666666666666666,
              "#ed7953"
             ],
             [
              0.7777777777777778,
              "#fb9f3a"
             ],
             [
              0.8888888888888888,
              "#fdca26"
             ],
             [
              1,
              "#f0f921"
             ]
            ],
            "type": "contour"
           }
          ],
          "contourcarpet": [
           {
            "colorbar": {
             "outlinewidth": 0,
             "ticks": ""
            },
            "type": "contourcarpet"
           }
          ],
          "heatmap": [
           {
            "colorbar": {
             "outlinewidth": 0,
             "ticks": ""
            },
            "colorscale": [
             [
              0,
              "#0d0887"
             ],
             [
              0.1111111111111111,
              "#46039f"
             ],
             [
              0.2222222222222222,
              "#7201a8"
             ],
             [
              0.3333333333333333,
              "#9c179e"
             ],
             [
              0.4444444444444444,
              "#bd3786"
             ],
             [
              0.5555555555555556,
              "#d8576b"
             ],
             [
              0.6666666666666666,
              "#ed7953"
             ],
             [
              0.7777777777777778,
              "#fb9f3a"
             ],
             [
              0.8888888888888888,
              "#fdca26"
             ],
             [
              1,
              "#f0f921"
             ]
            ],
            "type": "heatmap"
           }
          ],
          "heatmapgl": [
           {
            "colorbar": {
             "outlinewidth": 0,
             "ticks": ""
            },
            "colorscale": [
             [
              0,
              "#0d0887"
             ],
             [
              0.1111111111111111,
              "#46039f"
             ],
             [
              0.2222222222222222,
              "#7201a8"
             ],
             [
              0.3333333333333333,
              "#9c179e"
             ],
             [
              0.4444444444444444,
              "#bd3786"
             ],
             [
              0.5555555555555556,
              "#d8576b"
             ],
             [
              0.6666666666666666,
              "#ed7953"
             ],
             [
              0.7777777777777778,
              "#fb9f3a"
             ],
             [
              0.8888888888888888,
              "#fdca26"
             ],
             [
              1,
              "#f0f921"
             ]
            ],
            "type": "heatmapgl"
           }
          ],
          "histogram": [
           {
            "marker": {
             "pattern": {
              "fillmode": "overlay",
              "size": 10,
              "solidity": 0.2
             }
            },
            "type": "histogram"
           }
          ],
          "histogram2d": [
           {
            "colorbar": {
             "outlinewidth": 0,
             "ticks": ""
            },
            "colorscale": [
             [
              0,
              "#0d0887"
             ],
             [
              0.1111111111111111,
              "#46039f"
             ],
             [
              0.2222222222222222,
              "#7201a8"
             ],
             [
              0.3333333333333333,
              "#9c179e"
             ],
             [
              0.4444444444444444,
              "#bd3786"
             ],
             [
              0.5555555555555556,
              "#d8576b"
             ],
             [
              0.6666666666666666,
              "#ed7953"
             ],
             [
              0.7777777777777778,
              "#fb9f3a"
             ],
             [
              0.8888888888888888,
              "#fdca26"
             ],
             [
              1,
              "#f0f921"
             ]
            ],
            "type": "histogram2d"
           }
          ],
          "histogram2dcontour": [
           {
            "colorbar": {
             "outlinewidth": 0,
             "ticks": ""
            },
            "colorscale": [
             [
              0,
              "#0d0887"
             ],
             [
              0.1111111111111111,
              "#46039f"
             ],
             [
              0.2222222222222222,
              "#7201a8"
             ],
             [
              0.3333333333333333,
              "#9c179e"
             ],
             [
              0.4444444444444444,
              "#bd3786"
             ],
             [
              0.5555555555555556,
              "#d8576b"
             ],
             [
              0.6666666666666666,
              "#ed7953"
             ],
             [
              0.7777777777777778,
              "#fb9f3a"
             ],
             [
              0.8888888888888888,
              "#fdca26"
             ],
             [
              1,
              "#f0f921"
             ]
            ],
            "type": "histogram2dcontour"
           }
          ],
          "mesh3d": [
           {
            "colorbar": {
             "outlinewidth": 0,
             "ticks": ""
            },
            "type": "mesh3d"
           }
          ],
          "parcoords": [
           {
            "line": {
             "colorbar": {
              "outlinewidth": 0,
              "ticks": ""
             }
            },
            "type": "parcoords"
           }
          ],
          "pie": [
           {
            "automargin": true,
            "type": "pie"
           }
          ],
          "scatter": [
           {
            "fillpattern": {
             "fillmode": "overlay",
             "size": 10,
             "solidity": 0.2
            },
            "type": "scatter"
           }
          ],
          "scatter3d": [
           {
            "line": {
             "colorbar": {
              "outlinewidth": 0,
              "ticks": ""
             }
            },
            "marker": {
             "colorbar": {
              "outlinewidth": 0,
              "ticks": ""
             }
            },
            "type": "scatter3d"
           }
          ],
          "scattercarpet": [
           {
            "marker": {
             "colorbar": {
              "outlinewidth": 0,
              "ticks": ""
             }
            },
            "type": "scattercarpet"
           }
          ],
          "scattergeo": [
           {
            "marker": {
             "colorbar": {
              "outlinewidth": 0,
              "ticks": ""
             }
            },
            "type": "scattergeo"
           }
          ],
          "scattergl": [
           {
            "marker": {
             "colorbar": {
              "outlinewidth": 0,
              "ticks": ""
             }
            },
            "type": "scattergl"
           }
          ],
          "scattermapbox": [
           {
            "marker": {
             "colorbar": {
              "outlinewidth": 0,
              "ticks": ""
             }
            },
            "type": "scattermapbox"
           }
          ],
          "scatterpolar": [
           {
            "marker": {
             "colorbar": {
              "outlinewidth": 0,
              "ticks": ""
             }
            },
            "type": "scatterpolar"
           }
          ],
          "scatterpolargl": [
           {
            "marker": {
             "colorbar": {
              "outlinewidth": 0,
              "ticks": ""
             }
            },
            "type": "scatterpolargl"
           }
          ],
          "scatterternary": [
           {
            "marker": {
             "colorbar": {
              "outlinewidth": 0,
              "ticks": ""
             }
            },
            "type": "scatterternary"
           }
          ],
          "surface": [
           {
            "colorbar": {
             "outlinewidth": 0,
             "ticks": ""
            },
            "colorscale": [
             [
              0,
              "#0d0887"
             ],
             [
              0.1111111111111111,
              "#46039f"
             ],
             [
              0.2222222222222222,
              "#7201a8"
             ],
             [
              0.3333333333333333,
              "#9c179e"
             ],
             [
              0.4444444444444444,
              "#bd3786"
             ],
             [
              0.5555555555555556,
              "#d8576b"
             ],
             [
              0.6666666666666666,
              "#ed7953"
             ],
             [
              0.7777777777777778,
              "#fb9f3a"
             ],
             [
              0.8888888888888888,
              "#fdca26"
             ],
             [
              1,
              "#f0f921"
             ]
            ],
            "type": "surface"
           }
          ],
          "table": [
           {
            "cells": {
             "fill": {
              "color": "#EBF0F8"
             },
             "line": {
              "color": "white"
             }
            },
            "header": {
             "fill": {
              "color": "#C8D4E3"
             },
             "line": {
              "color": "white"
             }
            },
            "type": "table"
           }
          ]
         },
         "layout": {
          "annotationdefaults": {
           "arrowcolor": "#2a3f5f",
           "arrowhead": 0,
           "arrowwidth": 1
          },
          "autotypenumbers": "strict",
          "coloraxis": {
           "colorbar": {
            "outlinewidth": 0,
            "ticks": ""
           }
          },
          "colorscale": {
           "diverging": [
            [
             0,
             "#8e0152"
            ],
            [
             0.1,
             "#c51b7d"
            ],
            [
             0.2,
             "#de77ae"
            ],
            [
             0.3,
             "#f1b6da"
            ],
            [
             0.4,
             "#fde0ef"
            ],
            [
             0.5,
             "#f7f7f7"
            ],
            [
             0.6,
             "#e6f5d0"
            ],
            [
             0.7,
             "#b8e186"
            ],
            [
             0.8,
             "#7fbc41"
            ],
            [
             0.9,
             "#4d9221"
            ],
            [
             1,
             "#276419"
            ]
           ],
           "sequential": [
            [
             0,
             "#0d0887"
            ],
            [
             0.1111111111111111,
             "#46039f"
            ],
            [
             0.2222222222222222,
             "#7201a8"
            ],
            [
             0.3333333333333333,
             "#9c179e"
            ],
            [
             0.4444444444444444,
             "#bd3786"
            ],
            [
             0.5555555555555556,
             "#d8576b"
            ],
            [
             0.6666666666666666,
             "#ed7953"
            ],
            [
             0.7777777777777778,
             "#fb9f3a"
            ],
            [
             0.8888888888888888,
             "#fdca26"
            ],
            [
             1,
             "#f0f921"
            ]
           ],
           "sequentialminus": [
            [
             0,
             "#0d0887"
            ],
            [
             0.1111111111111111,
             "#46039f"
            ],
            [
             0.2222222222222222,
             "#7201a8"
            ],
            [
             0.3333333333333333,
             "#9c179e"
            ],
            [
             0.4444444444444444,
             "#bd3786"
            ],
            [
             0.5555555555555556,
             "#d8576b"
            ],
            [
             0.6666666666666666,
             "#ed7953"
            ],
            [
             0.7777777777777778,
             "#fb9f3a"
            ],
            [
             0.8888888888888888,
             "#fdca26"
            ],
            [
             1,
             "#f0f921"
            ]
           ]
          },
          "colorway": [
           "#636efa",
           "#EF553B",
           "#00cc96",
           "#ab63fa",
           "#FFA15A",
           "#19d3f3",
           "#FF6692",
           "#B6E880",
           "#FF97FF",
           "#FECB52"
          ],
          "font": {
           "color": "#2a3f5f"
          },
          "geo": {
           "bgcolor": "white",
           "lakecolor": "white",
           "landcolor": "#E5ECF6",
           "showlakes": true,
           "showland": true,
           "subunitcolor": "white"
          },
          "hoverlabel": {
           "align": "left"
          },
          "hovermode": "closest",
          "mapbox": {
           "style": "light"
          },
          "paper_bgcolor": "white",
          "plot_bgcolor": "#E5ECF6",
          "polar": {
           "angularaxis": {
            "gridcolor": "white",
            "linecolor": "white",
            "ticks": ""
           },
           "bgcolor": "#E5ECF6",
           "radialaxis": {
            "gridcolor": "white",
            "linecolor": "white",
            "ticks": ""
           }
          },
          "scene": {
           "xaxis": {
            "backgroundcolor": "#E5ECF6",
            "gridcolor": "white",
            "gridwidth": 2,
            "linecolor": "white",
            "showbackground": true,
            "ticks": "",
            "zerolinecolor": "white"
           },
           "yaxis": {
            "backgroundcolor": "#E5ECF6",
            "gridcolor": "white",
            "gridwidth": 2,
            "linecolor": "white",
            "showbackground": true,
            "ticks": "",
            "zerolinecolor": "white"
           },
           "zaxis": {
            "backgroundcolor": "#E5ECF6",
            "gridcolor": "white",
            "gridwidth": 2,
            "linecolor": "white",
            "showbackground": true,
            "ticks": "",
            "zerolinecolor": "white"
           }
          },
          "shapedefaults": {
           "line": {
            "color": "#2a3f5f"
           }
          },
          "ternary": {
           "aaxis": {
            "gridcolor": "white",
            "linecolor": "white",
            "ticks": ""
           },
           "baxis": {
            "gridcolor": "white",
            "linecolor": "white",
            "ticks": ""
           },
           "bgcolor": "#E5ECF6",
           "caxis": {
            "gridcolor": "white",
            "linecolor": "white",
            "ticks": ""
           }
          },
          "title": {
           "x": 0.05
          },
          "xaxis": {
           "automargin": true,
           "gridcolor": "white",
           "linecolor": "white",
           "ticks": "",
           "title": {
            "standoff": 15
           },
           "zerolinecolor": "white",
           "zerolinewidth": 2
          },
          "yaxis": {
           "automargin": true,
           "gridcolor": "white",
           "linecolor": "white",
           "ticks": "",
           "title": {
            "standoff": 15
           },
           "zerolinecolor": "white",
           "zerolinewidth": 2
          }
         }
        },
        "title": {
         "text": "Nigeria's trend on death cases. <br> (Last updated on 11/30/22)"
        },
        "width": 800,
        "xaxis": {
         "title": {
          "text": "Date"
         }
        },
        "yaxis": {
         "title": {
          "text": "Death Cases"
         }
        }
       }
      }
     },
     "metadata": {},
     "output_type": "display_data"
    },
    {
     "data": {
      "application/vnd.jupyter.widget-view+json": {
       "model_id": "7d133e3aa0ab4f528d54d0f845a5e987",
       "version_major": 2,
       "version_minor": 0
      },
      "text/plain": [
       "interactive(children=(Text(value='Nigeria', description='name'), Output()), _dom_classes=('widget-interact',))"
      ]
     },
     "metadata": {},
     "output_type": "display_data"
    }
   ],
   "source": [
    "# Visualizing the trend of death cases over time using Plotly\n",
    "def deathCases_trend(name):\n",
    "    x_data = death_df.iloc[:, 5:].columns\n",
    "    y_data = death_df[death_df['country'] == name].iloc[:,5:].sum(axis=0)\n",
    "    \n",
    "    fig = go.Figure()\n",
    "    fig.add_trace(go.Scatter(x=x_data, y=y_data,\n",
    "                    mode='markers',\n",
    "                    name='markers'))\n",
    "\n",
    "    fig.update_layout(\n",
    "        title=str(name) +\"'s trend on death cases. <br> (Last updated on \"+(death_df.columns)[-1]+\")\",\n",
    "        xaxis_title=\"Date\",\n",
    "        yaxis_title=\"Death Cases\",\n",
    "        width = 800\n",
    "        )\n",
    "\n",
    "    fig.show()\n",
    "    \n",
    "\n",
    "interact(deathCases_trend, name='Nigeria')\n",
    "ipywLayout = widgets.Layout()\n",
    "ipywLayout.display='none'"
   ]
  },
  {
   "cell_type": "markdown",
   "metadata": {},
   "source": [
    "#### Trend of Recovered Case"
   ]
  },
  {
   "cell_type": "code",
   "execution_count": 21,
   "metadata": {},
   "outputs": [
    {
     "data": {
      "application/vnd.plotly.v1+json": {
       "config": {
        "plotlyServerURL": "https://plot.ly"
       },
       "data": [
        {
         "mode": "markers",
         "name": "markers",
         "type": "scatter",
         "x": [
          "1/22/20",
          "1/23/20",
          "1/24/20",
          "1/25/20",
          "1/26/20",
          "1/27/20",
          "1/28/20",
          "1/29/20",
          "1/30/20",
          "1/31/20",
          "2/1/20",
          "2/2/20",
          "2/3/20",
          "2/4/20",
          "2/5/20",
          "2/6/20",
          "2/7/20",
          "2/8/20",
          "2/9/20",
          "2/10/20",
          "2/11/20",
          "2/12/20",
          "2/13/20",
          "2/14/20",
          "2/15/20",
          "2/16/20",
          "2/17/20",
          "2/18/20",
          "2/19/20",
          "2/20/20",
          "2/21/20",
          "2/22/20",
          "2/23/20",
          "2/24/20",
          "2/25/20",
          "2/26/20",
          "2/27/20",
          "2/28/20",
          "2/29/20",
          "3/1/20",
          "3/2/20",
          "3/3/20",
          "3/4/20",
          "3/5/20",
          "3/6/20",
          "3/7/20",
          "3/8/20",
          "3/9/20",
          "3/10/20",
          "3/11/20",
          "3/12/20",
          "3/13/20",
          "3/14/20",
          "3/15/20",
          "3/16/20",
          "3/17/20",
          "3/18/20",
          "3/19/20",
          "3/20/20",
          "3/21/20",
          "3/22/20",
          "3/23/20",
          "3/24/20",
          "3/25/20",
          "3/26/20",
          "3/27/20",
          "3/28/20",
          "3/29/20",
          "3/30/20",
          "3/31/20",
          "4/1/20",
          "4/2/20",
          "4/3/20",
          "4/4/20",
          "4/5/20",
          "4/6/20",
          "4/7/20",
          "4/8/20",
          "4/9/20",
          "4/10/20",
          "4/11/20",
          "4/12/20",
          "4/13/20",
          "4/14/20",
          "4/15/20",
          "4/16/20",
          "4/17/20",
          "4/18/20",
          "4/19/20",
          "4/20/20",
          "4/21/20",
          "4/22/20",
          "4/23/20",
          "4/24/20",
          "4/25/20",
          "4/26/20",
          "4/27/20",
          "4/28/20",
          "4/29/20",
          "4/30/20",
          "5/1/20",
          "5/2/20",
          "5/3/20",
          "5/4/20",
          "5/5/20",
          "5/6/20",
          "5/7/20",
          "5/8/20",
          "5/9/20",
          "5/10/20",
          "5/11/20",
          "5/12/20",
          "5/13/20",
          "5/14/20",
          "5/15/20",
          "5/16/20",
          "5/17/20",
          "5/18/20",
          "5/19/20",
          "5/20/20",
          "5/21/20",
          "5/22/20",
          "5/23/20",
          "5/24/20",
          "5/25/20",
          "5/26/20",
          "5/27/20",
          "5/28/20",
          "5/29/20",
          "5/30/20",
          "5/31/20",
          "6/1/20",
          "6/2/20",
          "6/3/20",
          "6/4/20",
          "6/5/20",
          "6/6/20",
          "6/7/20",
          "6/8/20",
          "6/9/20",
          "6/10/20",
          "6/11/20",
          "6/12/20",
          "6/13/20",
          "6/14/20",
          "6/15/20",
          "6/16/20",
          "6/17/20",
          "6/18/20",
          "6/19/20",
          "6/20/20",
          "6/21/20",
          "6/22/20",
          "6/23/20",
          "6/24/20",
          "6/25/20",
          "6/26/20",
          "6/27/20",
          "6/28/20",
          "6/29/20",
          "6/30/20",
          "7/1/20",
          "7/2/20",
          "7/3/20",
          "7/4/20",
          "7/5/20",
          "7/6/20",
          "7/7/20",
          "7/8/20",
          "7/9/20",
          "7/10/20",
          "7/11/20",
          "7/12/20",
          "7/13/20",
          "7/14/20",
          "7/15/20",
          "7/16/20",
          "7/17/20",
          "7/18/20",
          "7/19/20",
          "7/20/20",
          "7/21/20",
          "7/22/20",
          "7/23/20",
          "7/24/20",
          "7/25/20",
          "7/26/20",
          "7/27/20",
          "7/28/20",
          "7/29/20",
          "7/30/20",
          "7/31/20",
          "8/1/20",
          "8/2/20",
          "8/3/20",
          "8/4/20",
          "8/5/20",
          "8/6/20",
          "8/7/20",
          "8/8/20",
          "8/9/20",
          "8/10/20",
          "8/11/20",
          "8/12/20",
          "8/13/20",
          "8/14/20",
          "8/15/20",
          "8/16/20",
          "8/17/20",
          "8/18/20",
          "8/19/20",
          "8/20/20",
          "8/21/20",
          "8/22/20",
          "8/23/20",
          "8/24/20",
          "8/25/20",
          "8/26/20",
          "8/27/20",
          "8/28/20",
          "8/29/20",
          "8/30/20",
          "8/31/20",
          "9/1/20",
          "9/2/20",
          "9/3/20",
          "9/4/20",
          "9/5/20",
          "9/6/20",
          "9/7/20",
          "9/8/20",
          "9/9/20",
          "9/10/20",
          "9/11/20",
          "9/12/20",
          "9/13/20",
          "9/14/20",
          "9/15/20",
          "9/16/20",
          "9/17/20",
          "9/18/20",
          "9/19/20",
          "9/20/20",
          "9/21/20",
          "9/22/20",
          "9/23/20",
          "9/24/20",
          "9/25/20",
          "9/26/20",
          "9/27/20",
          "9/28/20",
          "9/29/20",
          "9/30/20",
          "10/1/20",
          "10/2/20",
          "10/3/20",
          "10/4/20",
          "10/5/20",
          "10/6/20",
          "10/7/20",
          "10/8/20",
          "10/9/20",
          "10/10/20",
          "10/11/20",
          "10/12/20",
          "10/13/20",
          "10/14/20",
          "10/15/20",
          "10/16/20",
          "10/17/20",
          "10/18/20",
          "10/19/20",
          "10/20/20",
          "10/21/20",
          "10/22/20",
          "10/23/20",
          "10/24/20",
          "10/25/20",
          "10/26/20",
          "10/27/20",
          "10/28/20",
          "10/29/20",
          "10/30/20",
          "10/31/20",
          "11/1/20",
          "11/2/20",
          "11/3/20",
          "11/4/20",
          "11/5/20",
          "11/6/20",
          "11/7/20",
          "11/8/20",
          "11/9/20",
          "11/10/20",
          "11/11/20",
          "11/12/20",
          "11/13/20",
          "11/14/20",
          "11/15/20",
          "11/16/20",
          "11/17/20",
          "11/18/20",
          "11/19/20",
          "11/20/20",
          "11/21/20",
          "11/22/20",
          "11/23/20",
          "11/24/20",
          "11/25/20",
          "11/26/20",
          "11/27/20",
          "11/28/20",
          "11/29/20",
          "11/30/20",
          "12/1/20",
          "12/2/20",
          "12/3/20",
          "12/4/20",
          "12/5/20",
          "12/6/20",
          "12/7/20",
          "12/8/20",
          "12/9/20",
          "12/10/20",
          "12/11/20",
          "12/12/20",
          "12/13/20",
          "12/14/20",
          "12/15/20",
          "12/16/20",
          "12/17/20",
          "12/18/20",
          "12/19/20",
          "12/20/20",
          "12/21/20",
          "12/22/20",
          "12/23/20",
          "12/24/20",
          "12/25/20",
          "12/26/20",
          "12/27/20",
          "12/28/20",
          "12/29/20",
          "12/30/20",
          "12/31/20",
          "1/1/21",
          "1/2/21",
          "1/3/21",
          "1/4/21",
          "1/5/21",
          "1/6/21",
          "1/7/21",
          "1/8/21",
          "1/9/21",
          "1/10/21",
          "1/11/21",
          "1/12/21",
          "1/13/21",
          "1/14/21",
          "1/15/21",
          "1/16/21",
          "1/17/21",
          "1/18/21",
          "1/19/21",
          "1/20/21",
          "1/21/21",
          "1/22/21",
          "1/23/21",
          "1/24/21",
          "1/25/21",
          "1/26/21",
          "1/27/21",
          "1/28/21",
          "1/29/21",
          "1/30/21",
          "1/31/21",
          "2/1/21",
          "2/2/21",
          "2/3/21",
          "2/4/21",
          "2/5/21",
          "2/6/21",
          "2/7/21",
          "2/8/21",
          "2/9/21",
          "2/10/21",
          "2/11/21",
          "2/12/21",
          "2/13/21",
          "2/14/21",
          "2/15/21",
          "2/16/21",
          "2/17/21",
          "2/18/21",
          "2/19/21",
          "2/20/21",
          "2/21/21",
          "2/22/21",
          "2/23/21",
          "2/24/21",
          "2/25/21",
          "2/26/21",
          "2/27/21",
          "2/28/21",
          "3/1/21",
          "3/2/21",
          "3/3/21",
          "3/4/21",
          "3/5/21",
          "3/6/21",
          "3/7/21",
          "3/8/21",
          "3/9/21",
          "3/10/21",
          "3/11/21",
          "3/12/21",
          "3/13/21",
          "3/14/21",
          "3/15/21",
          "3/16/21",
          "3/17/21",
          "3/18/21",
          "3/19/21",
          "3/20/21",
          "3/21/21",
          "3/22/21",
          "3/23/21",
          "3/24/21",
          "3/25/21",
          "3/26/21",
          "3/27/21",
          "3/28/21",
          "3/29/21",
          "3/30/21",
          "3/31/21",
          "4/1/21",
          "4/2/21",
          "4/3/21",
          "4/4/21",
          "4/5/21",
          "4/6/21",
          "4/7/21",
          "4/8/21",
          "4/9/21",
          "4/10/21",
          "4/11/21",
          "4/12/21",
          "4/13/21",
          "4/14/21",
          "4/15/21",
          "4/16/21",
          "4/17/21",
          "4/18/21",
          "4/19/21",
          "4/20/21",
          "4/21/21",
          "4/22/21",
          "4/23/21",
          "4/24/21",
          "4/25/21",
          "4/26/21",
          "4/27/21",
          "4/28/21",
          "4/29/21",
          "4/30/21",
          "5/1/21",
          "5/2/21",
          "5/3/21",
          "5/4/21",
          "5/5/21",
          "5/6/21",
          "5/7/21",
          "5/8/21",
          "5/9/21",
          "5/10/21",
          "5/11/21",
          "5/12/21",
          "5/13/21",
          "5/14/21",
          "5/15/21",
          "5/16/21",
          "5/17/21",
          "5/18/21",
          "5/19/21",
          "5/20/21",
          "5/21/21",
          "5/22/21",
          "5/23/21",
          "5/24/21",
          "5/25/21",
          "5/26/21",
          "5/27/21",
          "5/28/21",
          "5/29/21",
          "5/30/21",
          "5/31/21",
          "6/1/21",
          "6/2/21",
          "6/3/21",
          "6/4/21",
          "6/5/21",
          "6/6/21",
          "6/7/21",
          "6/8/21",
          "6/9/21",
          "6/10/21",
          "6/11/21",
          "6/12/21",
          "6/13/21",
          "6/14/21",
          "6/15/21",
          "6/16/21",
          "6/17/21",
          "6/18/21",
          "6/19/21",
          "6/20/21",
          "6/21/21",
          "6/22/21",
          "6/23/21",
          "6/24/21",
          "6/25/21",
          "6/26/21",
          "6/27/21",
          "6/28/21",
          "6/29/21",
          "6/30/21",
          "7/1/21",
          "7/2/21",
          "7/3/21",
          "7/4/21",
          "7/5/21",
          "7/6/21",
          "7/7/21",
          "7/8/21",
          "7/9/21",
          "7/10/21",
          "7/11/21",
          "7/12/21",
          "7/13/21",
          "7/14/21",
          "7/15/21",
          "7/16/21",
          "7/17/21",
          "7/18/21",
          "7/19/21",
          "7/20/21",
          "7/21/21",
          "7/22/21",
          "7/23/21",
          "7/24/21",
          "7/25/21",
          "7/26/21",
          "7/27/21",
          "7/28/21",
          "7/29/21",
          "7/30/21",
          "7/31/21",
          "8/1/21",
          "8/2/21",
          "8/3/21",
          "8/4/21",
          "8/5/21",
          "8/6/21",
          "8/7/21",
          "8/8/21",
          "8/9/21",
          "8/10/21",
          "8/11/21",
          "8/12/21",
          "8/13/21",
          "8/14/21",
          "8/15/21",
          "8/16/21",
          "8/17/21",
          "8/18/21",
          "8/19/21",
          "8/20/21",
          "8/21/21",
          "8/22/21",
          "8/23/21",
          "8/24/21",
          "8/25/21",
          "8/26/21",
          "8/27/21",
          "8/28/21",
          "8/29/21",
          "8/30/21",
          "8/31/21",
          "9/1/21",
          "9/2/21",
          "9/3/21",
          "9/4/21",
          "9/5/21",
          "9/6/21",
          "9/7/21",
          "9/8/21",
          "9/9/21",
          "9/10/21",
          "9/11/21",
          "9/12/21",
          "9/13/21",
          "9/14/21",
          "9/15/21",
          "9/16/21",
          "9/17/21",
          "9/18/21",
          "9/19/21",
          "9/20/21",
          "9/21/21",
          "9/22/21",
          "9/23/21",
          "9/24/21",
          "9/25/21",
          "9/26/21",
          "9/27/21",
          "9/28/21",
          "9/29/21",
          "9/30/21",
          "10/1/21",
          "10/2/21",
          "10/3/21",
          "10/4/21",
          "10/5/21",
          "10/6/21",
          "10/7/21",
          "10/8/21",
          "10/9/21",
          "10/10/21",
          "10/11/21",
          "10/12/21",
          "10/13/21",
          "10/14/21",
          "10/15/21",
          "10/16/21",
          "10/17/21",
          "10/18/21",
          "10/19/21",
          "10/20/21",
          "10/21/21",
          "10/22/21",
          "10/23/21",
          "10/24/21",
          "10/25/21",
          "10/26/21",
          "10/27/21",
          "10/28/21",
          "10/29/21",
          "10/30/21",
          "10/31/21",
          "11/1/21",
          "11/2/21",
          "11/3/21",
          "11/4/21",
          "11/5/21",
          "11/6/21",
          "11/7/21",
          "11/8/21",
          "11/9/21",
          "11/10/21",
          "11/11/21",
          "11/12/21",
          "11/13/21",
          "11/14/21",
          "11/15/21",
          "11/16/21",
          "11/17/21",
          "11/18/21",
          "11/19/21",
          "11/20/21",
          "11/21/21",
          "11/22/21",
          "11/23/21",
          "11/24/21",
          "11/25/21",
          "11/26/21",
          "11/27/21",
          "11/28/21",
          "11/29/21",
          "11/30/21",
          "12/1/21",
          "12/2/21",
          "12/3/21",
          "12/4/21",
          "12/5/21",
          "12/6/21",
          "12/7/21",
          "12/8/21",
          "12/9/21",
          "12/10/21",
          "12/11/21",
          "12/12/21",
          "12/13/21",
          "12/14/21",
          "12/15/21",
          "12/16/21",
          "12/17/21",
          "12/18/21",
          "12/19/21",
          "12/20/21",
          "12/21/21",
          "12/22/21",
          "12/23/21",
          "12/24/21",
          "12/25/21",
          "12/26/21",
          "12/27/21",
          "12/28/21",
          "12/29/21",
          "12/30/21",
          "12/31/21",
          "1/1/22",
          "1/2/22",
          "1/3/22",
          "1/4/22",
          "1/5/22",
          "1/6/22",
          "1/7/22",
          "1/8/22",
          "1/9/22",
          "1/10/22",
          "1/11/22",
          "1/12/22",
          "1/13/22",
          "1/14/22",
          "1/15/22",
          "1/16/22",
          "1/17/22",
          "1/18/22",
          "1/19/22",
          "1/20/22",
          "1/21/22",
          "1/22/22",
          "1/23/22",
          "1/24/22",
          "1/25/22",
          "1/26/22",
          "1/27/22",
          "1/28/22",
          "1/29/22",
          "1/30/22",
          "1/31/22",
          "2/1/22",
          "2/2/22",
          "2/3/22",
          "2/4/22",
          "2/5/22",
          "2/6/22",
          "2/7/22",
          "2/8/22",
          "2/9/22",
          "2/10/22",
          "2/11/22",
          "2/12/22",
          "2/13/22",
          "2/14/22",
          "2/15/22",
          "2/16/22",
          "2/17/22",
          "2/18/22",
          "2/19/22",
          "2/20/22",
          "2/21/22",
          "2/22/22",
          "2/23/22",
          "2/24/22",
          "2/25/22",
          "2/26/22",
          "2/27/22",
          "2/28/22",
          "3/1/22",
          "3/2/22",
          "3/3/22",
          "3/4/22",
          "3/5/22",
          "3/6/22",
          "3/7/22",
          "3/8/22",
          "3/9/22",
          "3/10/22",
          "3/11/22",
          "3/12/22",
          "3/13/22",
          "3/14/22",
          "3/15/22",
          "3/16/22",
          "3/17/22",
          "3/18/22",
          "3/19/22",
          "3/20/22",
          "3/21/22",
          "3/22/22",
          "3/23/22",
          "3/24/22",
          "3/25/22",
          "3/26/22",
          "3/27/22",
          "3/28/22",
          "3/29/22",
          "3/30/22",
          "3/31/22",
          "4/1/22",
          "4/2/22",
          "4/3/22",
          "4/4/22",
          "4/5/22",
          "4/6/22",
          "4/7/22",
          "4/8/22",
          "4/9/22",
          "4/10/22",
          "4/11/22",
          "4/12/22",
          "4/13/22",
          "4/14/22",
          "4/15/22",
          "4/16/22",
          "4/17/22",
          "4/18/22",
          "4/19/22",
          "4/20/22",
          "4/21/22",
          "4/22/22",
          "4/23/22",
          "4/24/22",
          "4/25/22",
          "4/26/22",
          "4/27/22",
          "4/28/22",
          "4/29/22",
          "4/30/22",
          "5/1/22",
          "5/2/22",
          "5/3/22",
          "5/4/22",
          "5/5/22",
          "5/6/22",
          "5/7/22",
          "5/8/22",
          "5/9/22",
          "5/10/22",
          "5/11/22",
          "5/12/22",
          "5/13/22",
          "5/14/22",
          "5/15/22",
          "5/16/22",
          "5/17/22",
          "5/18/22",
          "5/19/22",
          "5/20/22",
          "5/21/22",
          "5/22/22",
          "5/23/22",
          "5/24/22",
          "5/25/22",
          "5/26/22",
          "5/27/22",
          "5/28/22",
          "5/29/22",
          "5/30/22",
          "5/31/22",
          "6/1/22",
          "6/2/22",
          "6/3/22",
          "6/4/22",
          "6/5/22",
          "6/6/22",
          "6/7/22",
          "6/8/22",
          "6/9/22",
          "6/10/22",
          "6/11/22",
          "6/12/22",
          "6/13/22",
          "6/14/22",
          "6/15/22",
          "6/16/22",
          "6/17/22",
          "6/18/22",
          "6/19/22",
          "6/20/22",
          "6/21/22",
          "6/22/22",
          "6/23/22",
          "6/24/22",
          "6/25/22",
          "6/26/22",
          "6/27/22",
          "6/28/22",
          "6/29/22",
          "6/30/22",
          "7/1/22",
          "7/2/22",
          "7/3/22",
          "7/4/22",
          "7/5/22",
          "7/6/22",
          "7/7/22",
          "7/8/22",
          "7/9/22",
          "7/10/22",
          "7/11/22",
          "7/12/22",
          "7/13/22",
          "7/14/22",
          "7/15/22",
          "7/16/22",
          "7/17/22",
          "7/18/22",
          "7/19/22",
          "7/20/22",
          "7/21/22",
          "7/22/22",
          "7/23/22",
          "7/24/22",
          "7/25/22",
          "7/26/22",
          "7/27/22",
          "7/28/22",
          "7/29/22",
          "7/30/22",
          "7/31/22",
          "8/1/22",
          "8/2/22",
          "8/3/22",
          "8/4/22",
          "8/5/22",
          "8/6/22",
          "8/7/22",
          "8/8/22",
          "8/9/22",
          "8/10/22",
          "8/11/22",
          "8/12/22",
          "8/13/22",
          "8/14/22",
          "8/15/22",
          "8/16/22",
          "8/17/22",
          "8/18/22",
          "8/19/22",
          "8/20/22",
          "8/21/22",
          "8/22/22",
          "8/23/22",
          "8/24/22",
          "8/25/22",
          "8/26/22",
          "8/27/22",
          "8/28/22",
          "8/29/22",
          "8/30/22",
          "8/31/22",
          "9/1/22",
          "9/2/22",
          "9/3/22",
          "9/4/22",
          "9/5/22",
          "9/6/22",
          "9/7/22",
          "9/8/22",
          "9/9/22",
          "9/10/22",
          "9/11/22",
          "9/12/22",
          "9/13/22",
          "9/14/22",
          "9/15/22",
          "9/16/22",
          "9/17/22",
          "9/18/22",
          "9/19/22",
          "9/20/22",
          "9/21/22",
          "9/22/22",
          "9/23/22",
          "9/24/22",
          "9/25/22",
          "9/26/22",
          "9/27/22",
          "9/28/22",
          "9/29/22",
          "9/30/22",
          "10/1/22",
          "10/2/22",
          "10/3/22",
          "10/4/22",
          "10/5/22",
          "10/6/22",
          "10/7/22",
          "10/8/22",
          "10/9/22",
          "10/10/22",
          "10/11/22",
          "10/12/22",
          "10/13/22",
          "10/14/22",
          "10/15/22",
          "10/16/22",
          "10/17/22",
          "10/18/22",
          "10/19/22",
          "10/20/22",
          "10/21/22",
          "10/22/22",
          "10/23/22",
          "10/24/22",
          "10/25/22",
          "10/26/22",
          "10/27/22",
          "10/28/22",
          "10/29/22",
          "10/30/22",
          "10/31/22",
          "11/1/22",
          "11/2/22",
          "11/3/22",
          "11/4/22",
          "11/5/22",
          "11/6/22",
          "11/7/22",
          "11/8/22",
          "11/9/22",
          "11/10/22",
          "11/11/22",
          "11/12/22",
          "11/13/22",
          "11/14/22",
          "11/15/22",
          "11/16/22",
          "11/17/22",
          "11/18/22",
          "11/19/22",
          "11/20/22",
          "11/21/22",
          "11/22/22",
          "11/23/22",
          "11/24/22",
          "11/25/22",
          "11/26/22",
          "11/27/22",
          "11/28/22",
          "11/29/22",
          "11/30/22"
         ],
         "y": [
          0,
          0,
          0,
          0,
          0,
          0,
          0,
          0,
          0,
          0,
          0,
          0,
          0,
          0,
          0,
          0,
          0,
          0,
          0,
          0,
          0,
          0,
          0,
          0,
          0,
          0,
          0,
          0,
          0,
          0,
          0,
          0,
          0,
          0,
          0,
          0,
          0,
          0,
          0,
          0,
          0,
          0,
          0,
          0,
          0,
          0,
          0,
          0,
          0,
          0,
          0,
          0,
          0,
          0,
          0,
          0,
          1,
          1,
          1,
          1,
          2,
          2,
          2,
          2,
          2,
          3,
          3,
          3,
          8,
          8,
          9,
          20,
          25,
          25,
          33,
          35,
          44,
          44,
          51,
          58,
          70,
          85,
          91,
          99,
          128,
          152,
          159,
          166,
          170,
          188,
          188,
          197,
          197,
          208,
          222,
          239,
          255,
          255,
          307,
          319,
          351,
          351,
          400,
          417,
          481,
          534,
          601,
          679,
          745,
          778,
          902,
          959,
          1070,
          1180,
          1320,
          1472,
          1594,
          1644,
          1734,
          1840,
          1907,
          2007,
          2174,
          2263,
          2311,
          2385,
          2501,
          2592,
          2697,
          2856,
          3007,
          3122,
          3240,
          3329,
          3535,
          3696,
          3826,
          3959,
          4040,
          4206,
          4351,
          4494,
          4891,
          5101,
          5220,
          5349,
          5623,
          5967,
          6307,
          6581,
          6718,
          6879,
          7109,
          7338,
          7613,
          7822,
          8253,
          8625,
          9007,
          9402,
          9746,
          10152,
          10801,
          11069,
          11462,
          11665,
          11828,
          12108,
          12373,
          12546,
          12795,
          13103,
          13447,
          13671,
          13792,
          13999,
          14292,
          14633,
          14938,
          15105,
          15333,
          15677,
          15815,
          16061,
          16559,
          16948,
          17374,
          18203,
          18764,
          19004,
          19270,
          19565,
          20087,
          20308,
          20663,
          31851,
          32165,
          32430,
          32637,
          33044,
          33186,
          33346,
          33609,
          33943,
          34309,
          35998,
          36290,
          36497,
          36834,
          37051,
          37304,
          37569,
          37885,
          38767,
          38945,
          39257,
          39964,
          40281,
          40726,
          41017,
          41314,
          41513,
          41638,
          42010,
          42439,
          42627,
          42816,
          42922,
          43013,
          43231,
          43334,
          43610,
          43810,
          43998,
          44088,
          44152,
          44337,
          44430,
          47872,
          48092,
          48305,
          48431,
          48569,
          48674,
          48836,
          48985,
          49098,
          49606,
          49722,
          49794,
          49895,
          49937,
          50358,
          50452,
          50593,
          50718,
          50768,
          50951,
          51308,
          51403,
          51551,
          51614,
          51711,
          51735,
          51943,
          52006,
          52143,
          52194,
          52304,
          56557,
          56611,
          56697,
          56797,
          56880,
          56985,
          57190,
          57285,
          57465,
          57571,
          57916,
          58095,
          58249,
          58430,
          58675,
          58790,
          59328,
          59634,
          59675,
          59748,
          59844,
          59884,
          59910,
          60069,
          60333,
          60737,
          60790,
          60936,
          61029,
          61073,
          61162,
          61337,
          61457,
          61573,
          61782,
          61884,
          62076,
          62241,
          62311,
          62493,
          62585,
          62686,
          62819,
          63055,
          63282,
          63430,
          63839,
          64291,
          64467,
          64650,
          64774,
          64947,
          65110,
          65242,
          65474,
          65722,
          65850,
          66090,
          66314,
          66494,
          66775,
          67110,
          67484,
          67784,
          68303,
          68493,
          68879,
          69274,
          69651,
          70248,
          70495,
          71034,
          71357,
          71937,
          73322,
          73713,
          74373,
          74789,
          75044,
          75699,
          76396,
          77299,
          77982,
          78552,
          79417,
          80030,
          80491,
          81574,
          82555,
          83830,
          84535,
          85367,
          89317,
          89939,
          91200,
          92336,
          93646,
          94130,
          95901,
          97228,
          98359,
          99276,
          100365,
          100853,
          102780,
          103712,
          104989,
          106275,
          107551,
          108657,
          110449,
          111639,
          112557,
          113525,
          114635,
          115755,
          116947,
          118012,
          118866,
          120399,
          120838,
          123009,
          124483,
          125722,
          126417,
          127524,
          128005,
          128619,
          129300,
          129943,
          130818,
          131699,
          132544,
          133256,
          133768,
          133904,
          134551,
          135812,
          136335,
          137025,
          137645,
          137890,
          138502,
          139056,
          139983,
          142404,
          144059,
          144714,
          145399,
          145752,
          146072,
          146395,
          146890,
          147581,
          147775,
          147899,
          148125,
          148530,
          148726,
          149882,
          149986,
          150205,
          150308,
          150466,
          151532,
          151648,
          151708,
          151835,
          151853,
          151998,
          152045,
          153630,
          153788,
          154005,
          154073,
          154098,
          154107,
          154177,
          154225,
          154270,
          154285,
          154304,
          154325,
          154332,
          154384,
          154406,
          154441,
          154578,
          154643,
          154687,
          154926,
          154963,
          155012,
          155021,
          155041,
          155101,
          155101,
          155109,
          155371,
          155371,
          155403,
          155424,
          155454,
          156250,
          156297,
          156318,
          156358,
          156374,
          156387,
          156399,
          156412,
          156413,
          156415,
          156415,
          156456,
          156459,
          156462,
          156468,
          156476,
          156492,
          156528,
          156529,
          156535,
          156546,
          156557,
          156558,
          158781,
          159935,
          159946,
          162521,
          162584,
          162994,
          163096,
          163190,
          163259,
          163331,
          163331,
          163430,
          163436,
          163463,
          163469,
          163483,
          163528,
          163535,
          163540,
          163550,
          163557,
          163797,
          163913,
          163917,
          163933,
          163937,
          163946,
          163949,
          163984,
          163985,
          164244,
          164273,
          164369,
          164378,
          164382,
          164400,
          164405,
          164408,
          164415,
          164423,
          164431,
          164439,
          164476,
          164623,
          164652,
          164662,
          164666,
          164672,
          164699,
          164720,
          164733,
          164733,
          164772,
          164772,
          164788,
          164789,
          164798,
          164837,
          164886,
          164930,
          164978,
          164994,
          165005,
          165037,
          165122,
          165208,
          0,
          0,
          0,
          0,
          0,
          0,
          0,
          0,
          0,
          0,
          0,
          0,
          0,
          0,
          0,
          0,
          0,
          0,
          0,
          0,
          0,
          0,
          0,
          0,
          0,
          0,
          0,
          0,
          0,
          0,
          0,
          0,
          0,
          0,
          0,
          0,
          0,
          0,
          0,
          0,
          0,
          0,
          0,
          0,
          0,
          0,
          0,
          0,
          0,
          0,
          0,
          0,
          0,
          0,
          0,
          0,
          0,
          0,
          0,
          0,
          0,
          0,
          0,
          0,
          0,
          0,
          0,
          0,
          0,
          0,
          0,
          0,
          0,
          0,
          0,
          0,
          0,
          0,
          0,
          0,
          0,
          0,
          0,
          0,
          0,
          0,
          0,
          0,
          0,
          0,
          0,
          0,
          0,
          0,
          0,
          0,
          0,
          0,
          0,
          0,
          0,
          0,
          0,
          0,
          0,
          0,
          0,
          0,
          0,
          0,
          0,
          0,
          0,
          0,
          0,
          0,
          0,
          0,
          0,
          0,
          0,
          0,
          0,
          0,
          0,
          0,
          0,
          0,
          0,
          0,
          0,
          0,
          0,
          0,
          0,
          0,
          0,
          0,
          0,
          0,
          0,
          0,
          0,
          0,
          0,
          0,
          0,
          0,
          0,
          0,
          0,
          0,
          0,
          0,
          0,
          0,
          0,
          0,
          0,
          0,
          0,
          0,
          0,
          0,
          0,
          0,
          0,
          0,
          0,
          0,
          0,
          0,
          0,
          0,
          0,
          0,
          0,
          0,
          0,
          0,
          0,
          0,
          0,
          0,
          0,
          0,
          0,
          0,
          0,
          0,
          0,
          0,
          0,
          0,
          0,
          0,
          0,
          0,
          0,
          0,
          0,
          0,
          0,
          0,
          0,
          0,
          0,
          0,
          0,
          0,
          0,
          0,
          0,
          0,
          0,
          0,
          0,
          0,
          0,
          0,
          0,
          0,
          0,
          0,
          0,
          0,
          0,
          0,
          0,
          0,
          0,
          0,
          0,
          0,
          0,
          0,
          0,
          0,
          0,
          0,
          0,
          0,
          0,
          0,
          0,
          0,
          0,
          0,
          0,
          0,
          0,
          0,
          0,
          0,
          0,
          0,
          0,
          0,
          0,
          0,
          0,
          0,
          0,
          0,
          0,
          0,
          0,
          0,
          0,
          0,
          0,
          0,
          0,
          0,
          0,
          0,
          0,
          0,
          0,
          0,
          0,
          0,
          0,
          0,
          0,
          0,
          0,
          0,
          0,
          0,
          0,
          0,
          0,
          0,
          0,
          0,
          0,
          0,
          0,
          0,
          0,
          0,
          0,
          0,
          0,
          0,
          0,
          0,
          0,
          0,
          0,
          0,
          0,
          0,
          0,
          0,
          0,
          0,
          0,
          0,
          0,
          0,
          0,
          0,
          0,
          0,
          0,
          0,
          0,
          0,
          0,
          0,
          0,
          0,
          0,
          0,
          0,
          0,
          0,
          0,
          0,
          0,
          0,
          0,
          0,
          0,
          0,
          0,
          0,
          0,
          0,
          0,
          0,
          0,
          0,
          0,
          0,
          0,
          0,
          0,
          0,
          0,
          0,
          0,
          0,
          0,
          0,
          0,
          0,
          0,
          0,
          0,
          0,
          0,
          0,
          0,
          0,
          0,
          0,
          0,
          0,
          0,
          0,
          0,
          0,
          0,
          0,
          0,
          0,
          0,
          0,
          0,
          0,
          0,
          0,
          0,
          0,
          0,
          0,
          0,
          0,
          0,
          0,
          0,
          0,
          0,
          0,
          0,
          0,
          0,
          0,
          0,
          0,
          0,
          0,
          0,
          0,
          0,
          0,
          0,
          0,
          0,
          0,
          0,
          0,
          0,
          0,
          0,
          0,
          0,
          0,
          0,
          0,
          0,
          0,
          0,
          0,
          0,
          0,
          0,
          0,
          0,
          0,
          0,
          0,
          0,
          0,
          0,
          0,
          0,
          0,
          0,
          0,
          0,
          0,
          0,
          0,
          0,
          0,
          0,
          0,
          0,
          0,
          0,
          0,
          0,
          0,
          0,
          0,
          0,
          0,
          0,
          0,
          0,
          0,
          0,
          0,
          0,
          0,
          0,
          0,
          0,
          0
         ]
        }
       ],
       "layout": {
        "template": {
         "data": {
          "bar": [
           {
            "error_x": {
             "color": "#2a3f5f"
            },
            "error_y": {
             "color": "#2a3f5f"
            },
            "marker": {
             "line": {
              "color": "#E5ECF6",
              "width": 0.5
             },
             "pattern": {
              "fillmode": "overlay",
              "size": 10,
              "solidity": 0.2
             }
            },
            "type": "bar"
           }
          ],
          "barpolar": [
           {
            "marker": {
             "line": {
              "color": "#E5ECF6",
              "width": 0.5
             },
             "pattern": {
              "fillmode": "overlay",
              "size": 10,
              "solidity": 0.2
             }
            },
            "type": "barpolar"
           }
          ],
          "carpet": [
           {
            "aaxis": {
             "endlinecolor": "#2a3f5f",
             "gridcolor": "white",
             "linecolor": "white",
             "minorgridcolor": "white",
             "startlinecolor": "#2a3f5f"
            },
            "baxis": {
             "endlinecolor": "#2a3f5f",
             "gridcolor": "white",
             "linecolor": "white",
             "minorgridcolor": "white",
             "startlinecolor": "#2a3f5f"
            },
            "type": "carpet"
           }
          ],
          "choropleth": [
           {
            "colorbar": {
             "outlinewidth": 0,
             "ticks": ""
            },
            "type": "choropleth"
           }
          ],
          "contour": [
           {
            "colorbar": {
             "outlinewidth": 0,
             "ticks": ""
            },
            "colorscale": [
             [
              0,
              "#0d0887"
             ],
             [
              0.1111111111111111,
              "#46039f"
             ],
             [
              0.2222222222222222,
              "#7201a8"
             ],
             [
              0.3333333333333333,
              "#9c179e"
             ],
             [
              0.4444444444444444,
              "#bd3786"
             ],
             [
              0.5555555555555556,
              "#d8576b"
             ],
             [
              0.6666666666666666,
              "#ed7953"
             ],
             [
              0.7777777777777778,
              "#fb9f3a"
             ],
             [
              0.8888888888888888,
              "#fdca26"
             ],
             [
              1,
              "#f0f921"
             ]
            ],
            "type": "contour"
           }
          ],
          "contourcarpet": [
           {
            "colorbar": {
             "outlinewidth": 0,
             "ticks": ""
            },
            "type": "contourcarpet"
           }
          ],
          "heatmap": [
           {
            "colorbar": {
             "outlinewidth": 0,
             "ticks": ""
            },
            "colorscale": [
             [
              0,
              "#0d0887"
             ],
             [
              0.1111111111111111,
              "#46039f"
             ],
             [
              0.2222222222222222,
              "#7201a8"
             ],
             [
              0.3333333333333333,
              "#9c179e"
             ],
             [
              0.4444444444444444,
              "#bd3786"
             ],
             [
              0.5555555555555556,
              "#d8576b"
             ],
             [
              0.6666666666666666,
              "#ed7953"
             ],
             [
              0.7777777777777778,
              "#fb9f3a"
             ],
             [
              0.8888888888888888,
              "#fdca26"
             ],
             [
              1,
              "#f0f921"
             ]
            ],
            "type": "heatmap"
           }
          ],
          "heatmapgl": [
           {
            "colorbar": {
             "outlinewidth": 0,
             "ticks": ""
            },
            "colorscale": [
             [
              0,
              "#0d0887"
             ],
             [
              0.1111111111111111,
              "#46039f"
             ],
             [
              0.2222222222222222,
              "#7201a8"
             ],
             [
              0.3333333333333333,
              "#9c179e"
             ],
             [
              0.4444444444444444,
              "#bd3786"
             ],
             [
              0.5555555555555556,
              "#d8576b"
             ],
             [
              0.6666666666666666,
              "#ed7953"
             ],
             [
              0.7777777777777778,
              "#fb9f3a"
             ],
             [
              0.8888888888888888,
              "#fdca26"
             ],
             [
              1,
              "#f0f921"
             ]
            ],
            "type": "heatmapgl"
           }
          ],
          "histogram": [
           {
            "marker": {
             "pattern": {
              "fillmode": "overlay",
              "size": 10,
              "solidity": 0.2
             }
            },
            "type": "histogram"
           }
          ],
          "histogram2d": [
           {
            "colorbar": {
             "outlinewidth": 0,
             "ticks": ""
            },
            "colorscale": [
             [
              0,
              "#0d0887"
             ],
             [
              0.1111111111111111,
              "#46039f"
             ],
             [
              0.2222222222222222,
              "#7201a8"
             ],
             [
              0.3333333333333333,
              "#9c179e"
             ],
             [
              0.4444444444444444,
              "#bd3786"
             ],
             [
              0.5555555555555556,
              "#d8576b"
             ],
             [
              0.6666666666666666,
              "#ed7953"
             ],
             [
              0.7777777777777778,
              "#fb9f3a"
             ],
             [
              0.8888888888888888,
              "#fdca26"
             ],
             [
              1,
              "#f0f921"
             ]
            ],
            "type": "histogram2d"
           }
          ],
          "histogram2dcontour": [
           {
            "colorbar": {
             "outlinewidth": 0,
             "ticks": ""
            },
            "colorscale": [
             [
              0,
              "#0d0887"
             ],
             [
              0.1111111111111111,
              "#46039f"
             ],
             [
              0.2222222222222222,
              "#7201a8"
             ],
             [
              0.3333333333333333,
              "#9c179e"
             ],
             [
              0.4444444444444444,
              "#bd3786"
             ],
             [
              0.5555555555555556,
              "#d8576b"
             ],
             [
              0.6666666666666666,
              "#ed7953"
             ],
             [
              0.7777777777777778,
              "#fb9f3a"
             ],
             [
              0.8888888888888888,
              "#fdca26"
             ],
             [
              1,
              "#f0f921"
             ]
            ],
            "type": "histogram2dcontour"
           }
          ],
          "mesh3d": [
           {
            "colorbar": {
             "outlinewidth": 0,
             "ticks": ""
            },
            "type": "mesh3d"
           }
          ],
          "parcoords": [
           {
            "line": {
             "colorbar": {
              "outlinewidth": 0,
              "ticks": ""
             }
            },
            "type": "parcoords"
           }
          ],
          "pie": [
           {
            "automargin": true,
            "type": "pie"
           }
          ],
          "scatter": [
           {
            "fillpattern": {
             "fillmode": "overlay",
             "size": 10,
             "solidity": 0.2
            },
            "type": "scatter"
           }
          ],
          "scatter3d": [
           {
            "line": {
             "colorbar": {
              "outlinewidth": 0,
              "ticks": ""
             }
            },
            "marker": {
             "colorbar": {
              "outlinewidth": 0,
              "ticks": ""
             }
            },
            "type": "scatter3d"
           }
          ],
          "scattercarpet": [
           {
            "marker": {
             "colorbar": {
              "outlinewidth": 0,
              "ticks": ""
             }
            },
            "type": "scattercarpet"
           }
          ],
          "scattergeo": [
           {
            "marker": {
             "colorbar": {
              "outlinewidth": 0,
              "ticks": ""
             }
            },
            "type": "scattergeo"
           }
          ],
          "scattergl": [
           {
            "marker": {
             "colorbar": {
              "outlinewidth": 0,
              "ticks": ""
             }
            },
            "type": "scattergl"
           }
          ],
          "scattermapbox": [
           {
            "marker": {
             "colorbar": {
              "outlinewidth": 0,
              "ticks": ""
             }
            },
            "type": "scattermapbox"
           }
          ],
          "scatterpolar": [
           {
            "marker": {
             "colorbar": {
              "outlinewidth": 0,
              "ticks": ""
             }
            },
            "type": "scatterpolar"
           }
          ],
          "scatterpolargl": [
           {
            "marker": {
             "colorbar": {
              "outlinewidth": 0,
              "ticks": ""
             }
            },
            "type": "scatterpolargl"
           }
          ],
          "scatterternary": [
           {
            "marker": {
             "colorbar": {
              "outlinewidth": 0,
              "ticks": ""
             }
            },
            "type": "scatterternary"
           }
          ],
          "surface": [
           {
            "colorbar": {
             "outlinewidth": 0,
             "ticks": ""
            },
            "colorscale": [
             [
              0,
              "#0d0887"
             ],
             [
              0.1111111111111111,
              "#46039f"
             ],
             [
              0.2222222222222222,
              "#7201a8"
             ],
             [
              0.3333333333333333,
              "#9c179e"
             ],
             [
              0.4444444444444444,
              "#bd3786"
             ],
             [
              0.5555555555555556,
              "#d8576b"
             ],
             [
              0.6666666666666666,
              "#ed7953"
             ],
             [
              0.7777777777777778,
              "#fb9f3a"
             ],
             [
              0.8888888888888888,
              "#fdca26"
             ],
             [
              1,
              "#f0f921"
             ]
            ],
            "type": "surface"
           }
          ],
          "table": [
           {
            "cells": {
             "fill": {
              "color": "#EBF0F8"
             },
             "line": {
              "color": "white"
             }
            },
            "header": {
             "fill": {
              "color": "#C8D4E3"
             },
             "line": {
              "color": "white"
             }
            },
            "type": "table"
           }
          ]
         },
         "layout": {
          "annotationdefaults": {
           "arrowcolor": "#2a3f5f",
           "arrowhead": 0,
           "arrowwidth": 1
          },
          "autotypenumbers": "strict",
          "coloraxis": {
           "colorbar": {
            "outlinewidth": 0,
            "ticks": ""
           }
          },
          "colorscale": {
           "diverging": [
            [
             0,
             "#8e0152"
            ],
            [
             0.1,
             "#c51b7d"
            ],
            [
             0.2,
             "#de77ae"
            ],
            [
             0.3,
             "#f1b6da"
            ],
            [
             0.4,
             "#fde0ef"
            ],
            [
             0.5,
             "#f7f7f7"
            ],
            [
             0.6,
             "#e6f5d0"
            ],
            [
             0.7,
             "#b8e186"
            ],
            [
             0.8,
             "#7fbc41"
            ],
            [
             0.9,
             "#4d9221"
            ],
            [
             1,
             "#276419"
            ]
           ],
           "sequential": [
            [
             0,
             "#0d0887"
            ],
            [
             0.1111111111111111,
             "#46039f"
            ],
            [
             0.2222222222222222,
             "#7201a8"
            ],
            [
             0.3333333333333333,
             "#9c179e"
            ],
            [
             0.4444444444444444,
             "#bd3786"
            ],
            [
             0.5555555555555556,
             "#d8576b"
            ],
            [
             0.6666666666666666,
             "#ed7953"
            ],
            [
             0.7777777777777778,
             "#fb9f3a"
            ],
            [
             0.8888888888888888,
             "#fdca26"
            ],
            [
             1,
             "#f0f921"
            ]
           ],
           "sequentialminus": [
            [
             0,
             "#0d0887"
            ],
            [
             0.1111111111111111,
             "#46039f"
            ],
            [
             0.2222222222222222,
             "#7201a8"
            ],
            [
             0.3333333333333333,
             "#9c179e"
            ],
            [
             0.4444444444444444,
             "#bd3786"
            ],
            [
             0.5555555555555556,
             "#d8576b"
            ],
            [
             0.6666666666666666,
             "#ed7953"
            ],
            [
             0.7777777777777778,
             "#fb9f3a"
            ],
            [
             0.8888888888888888,
             "#fdca26"
            ],
            [
             1,
             "#f0f921"
            ]
           ]
          },
          "colorway": [
           "#636efa",
           "#EF553B",
           "#00cc96",
           "#ab63fa",
           "#FFA15A",
           "#19d3f3",
           "#FF6692",
           "#B6E880",
           "#FF97FF",
           "#FECB52"
          ],
          "font": {
           "color": "#2a3f5f"
          },
          "geo": {
           "bgcolor": "white",
           "lakecolor": "white",
           "landcolor": "#E5ECF6",
           "showlakes": true,
           "showland": true,
           "subunitcolor": "white"
          },
          "hoverlabel": {
           "align": "left"
          },
          "hovermode": "closest",
          "mapbox": {
           "style": "light"
          },
          "paper_bgcolor": "white",
          "plot_bgcolor": "#E5ECF6",
          "polar": {
           "angularaxis": {
            "gridcolor": "white",
            "linecolor": "white",
            "ticks": ""
           },
           "bgcolor": "#E5ECF6",
           "radialaxis": {
            "gridcolor": "white",
            "linecolor": "white",
            "ticks": ""
           }
          },
          "scene": {
           "xaxis": {
            "backgroundcolor": "#E5ECF6",
            "gridcolor": "white",
            "gridwidth": 2,
            "linecolor": "white",
            "showbackground": true,
            "ticks": "",
            "zerolinecolor": "white"
           },
           "yaxis": {
            "backgroundcolor": "#E5ECF6",
            "gridcolor": "white",
            "gridwidth": 2,
            "linecolor": "white",
            "showbackground": true,
            "ticks": "",
            "zerolinecolor": "white"
           },
           "zaxis": {
            "backgroundcolor": "#E5ECF6",
            "gridcolor": "white",
            "gridwidth": 2,
            "linecolor": "white",
            "showbackground": true,
            "ticks": "",
            "zerolinecolor": "white"
           }
          },
          "shapedefaults": {
           "line": {
            "color": "#2a3f5f"
           }
          },
          "ternary": {
           "aaxis": {
            "gridcolor": "white",
            "linecolor": "white",
            "ticks": ""
           },
           "baxis": {
            "gridcolor": "white",
            "linecolor": "white",
            "ticks": ""
           },
           "bgcolor": "#E5ECF6",
           "caxis": {
            "gridcolor": "white",
            "linecolor": "white",
            "ticks": ""
           }
          },
          "title": {
           "x": 0.05
          },
          "xaxis": {
           "automargin": true,
           "gridcolor": "white",
           "linecolor": "white",
           "ticks": "",
           "title": {
            "standoff": 15
           },
           "zerolinecolor": "white",
           "zerolinewidth": 2
          },
          "yaxis": {
           "automargin": true,
           "gridcolor": "white",
           "linecolor": "white",
           "ticks": "",
           "title": {
            "standoff": 15
           },
           "zerolinecolor": "white",
           "zerolinewidth": 2
          }
         }
        },
        "title": {
         "text": "Nigeria's trend on recovered casess. <br> (Last updated on 11/30/22)"
        },
        "width": 800,
        "xaxis": {
         "title": {
          "text": "Date"
         }
        },
        "yaxis": {
         "title": {
          "text": "Recovered Cases"
         }
        }
       }
      }
     },
     "metadata": {},
     "output_type": "display_data"
    },
    {
     "data": {
      "application/vnd.jupyter.widget-view+json": {
       "model_id": "4667e8fe5f1e415fa75997580e57e769",
       "version_major": 2,
       "version_minor": 0
      },
      "text/plain": [
       "interactive(children=(Text(value='Nigeria', description='name'), Output()), _dom_classes=('widget-interact',))"
      ]
     },
     "metadata": {},
     "output_type": "display_data"
    }
   ],
   "source": [
    "# Visualizing the trend of recovered cases over time using Plotly\n",
    "def recoveredCases_trend(name):\n",
    "    x_data = recovered_df.iloc[:, 5:].columns\n",
    "    y_data = recovered_df[recovered_df['country'] == name].iloc[:,5:].sum(axis=0)\n",
    "    \n",
    "    fig = go.Figure()\n",
    "    fig.add_trace(go.Scatter(x=x_data, y=y_data,\n",
    "                    mode='markers',\n",
    "                    name='markers'))\n",
    "\n",
    "    fig.update_layout(\n",
    "        title=str(name) +\"'s trend on recovered casess. <br> (Last updated on \"+(recovered_df.columns)[-1]+\")\",\n",
    "        xaxis_title=\"Date\",\n",
    "        yaxis_title=\"Recovered Cases\",\n",
    "        width = 800\n",
    "        )\n",
    "\n",
    "    fig.show()\n",
    "    \n",
    "    \n",
    "interact(recoveredCases_trend, name='Nigeria')\n",
    "ipywLayout = widgets.Layout()\n",
    "ipywLayout.display='none'"
   ]
  },
  {
   "cell_type": "markdown",
   "metadata": {},
   "source": [
    "### Data Visualization through Bar Charts\n",
    "#### Worst Hit Countries - Confirmed Cases"
   ]
  },
  {
   "cell_type": "code",
   "execution_count": 22,
   "metadata": {},
   "outputs": [
    {
     "data": {
      "application/vnd.plotly.v1+json": {
       "config": {
        "plotlyServerURL": "https://plot.ly"
       },
       "data": [
        {
         "alignmentgroup": "True",
         "hovertemplate": "country=%{x}<br>deaths=%{y}<extra></extra>",
         "legendgroup": "",
         "marker": {
          "color": "#636efa",
          "pattern": {
           "shape": ""
          }
         },
         "name": "",
         "offsetgroup": "",
         "orientation": "v",
         "showlegend": false,
         "textposition": "auto",
         "type": "bar",
         "x": [
          "US",
          "Brazil",
          "India",
          "Russia",
          "Mexico",
          "Peru",
          "United Kingdom",
          "Italy",
          "France",
          "Indonesia"
         ],
         "xaxis": "x",
         "y": [
          1080464,
          689665,
          530622,
          384159,
          330495,
          217414,
          212585,
          181098,
          159990,
          159884
         ],
         "yaxis": "y"
        }
       ],
       "layout": {
        "barmode": "relative",
        "legend": {
         "tracegroupgap": 0
        },
        "margin": {
         "t": 60
        },
        "template": {
         "data": {
          "bar": [
           {
            "error_x": {
             "color": "#2a3f5f"
            },
            "error_y": {
             "color": "#2a3f5f"
            },
            "marker": {
             "line": {
              "color": "#E5ECF6",
              "width": 0.5
             },
             "pattern": {
              "fillmode": "overlay",
              "size": 10,
              "solidity": 0.2
             }
            },
            "type": "bar"
           }
          ],
          "barpolar": [
           {
            "marker": {
             "line": {
              "color": "#E5ECF6",
              "width": 0.5
             },
             "pattern": {
              "fillmode": "overlay",
              "size": 10,
              "solidity": 0.2
             }
            },
            "type": "barpolar"
           }
          ],
          "carpet": [
           {
            "aaxis": {
             "endlinecolor": "#2a3f5f",
             "gridcolor": "white",
             "linecolor": "white",
             "minorgridcolor": "white",
             "startlinecolor": "#2a3f5f"
            },
            "baxis": {
             "endlinecolor": "#2a3f5f",
             "gridcolor": "white",
             "linecolor": "white",
             "minorgridcolor": "white",
             "startlinecolor": "#2a3f5f"
            },
            "type": "carpet"
           }
          ],
          "choropleth": [
           {
            "colorbar": {
             "outlinewidth": 0,
             "ticks": ""
            },
            "type": "choropleth"
           }
          ],
          "contour": [
           {
            "colorbar": {
             "outlinewidth": 0,
             "ticks": ""
            },
            "colorscale": [
             [
              0,
              "#0d0887"
             ],
             [
              0.1111111111111111,
              "#46039f"
             ],
             [
              0.2222222222222222,
              "#7201a8"
             ],
             [
              0.3333333333333333,
              "#9c179e"
             ],
             [
              0.4444444444444444,
              "#bd3786"
             ],
             [
              0.5555555555555556,
              "#d8576b"
             ],
             [
              0.6666666666666666,
              "#ed7953"
             ],
             [
              0.7777777777777778,
              "#fb9f3a"
             ],
             [
              0.8888888888888888,
              "#fdca26"
             ],
             [
              1,
              "#f0f921"
             ]
            ],
            "type": "contour"
           }
          ],
          "contourcarpet": [
           {
            "colorbar": {
             "outlinewidth": 0,
             "ticks": ""
            },
            "type": "contourcarpet"
           }
          ],
          "heatmap": [
           {
            "colorbar": {
             "outlinewidth": 0,
             "ticks": ""
            },
            "colorscale": [
             [
              0,
              "#0d0887"
             ],
             [
              0.1111111111111111,
              "#46039f"
             ],
             [
              0.2222222222222222,
              "#7201a8"
             ],
             [
              0.3333333333333333,
              "#9c179e"
             ],
             [
              0.4444444444444444,
              "#bd3786"
             ],
             [
              0.5555555555555556,
              "#d8576b"
             ],
             [
              0.6666666666666666,
              "#ed7953"
             ],
             [
              0.7777777777777778,
              "#fb9f3a"
             ],
             [
              0.8888888888888888,
              "#fdca26"
             ],
             [
              1,
              "#f0f921"
             ]
            ],
            "type": "heatmap"
           }
          ],
          "heatmapgl": [
           {
            "colorbar": {
             "outlinewidth": 0,
             "ticks": ""
            },
            "colorscale": [
             [
              0,
              "#0d0887"
             ],
             [
              0.1111111111111111,
              "#46039f"
             ],
             [
              0.2222222222222222,
              "#7201a8"
             ],
             [
              0.3333333333333333,
              "#9c179e"
             ],
             [
              0.4444444444444444,
              "#bd3786"
             ],
             [
              0.5555555555555556,
              "#d8576b"
             ],
             [
              0.6666666666666666,
              "#ed7953"
             ],
             [
              0.7777777777777778,
              "#fb9f3a"
             ],
             [
              0.8888888888888888,
              "#fdca26"
             ],
             [
              1,
              "#f0f921"
             ]
            ],
            "type": "heatmapgl"
           }
          ],
          "histogram": [
           {
            "marker": {
             "pattern": {
              "fillmode": "overlay",
              "size": 10,
              "solidity": 0.2
             }
            },
            "type": "histogram"
           }
          ],
          "histogram2d": [
           {
            "colorbar": {
             "outlinewidth": 0,
             "ticks": ""
            },
            "colorscale": [
             [
              0,
              "#0d0887"
             ],
             [
              0.1111111111111111,
              "#46039f"
             ],
             [
              0.2222222222222222,
              "#7201a8"
             ],
             [
              0.3333333333333333,
              "#9c179e"
             ],
             [
              0.4444444444444444,
              "#bd3786"
             ],
             [
              0.5555555555555556,
              "#d8576b"
             ],
             [
              0.6666666666666666,
              "#ed7953"
             ],
             [
              0.7777777777777778,
              "#fb9f3a"
             ],
             [
              0.8888888888888888,
              "#fdca26"
             ],
             [
              1,
              "#f0f921"
             ]
            ],
            "type": "histogram2d"
           }
          ],
          "histogram2dcontour": [
           {
            "colorbar": {
             "outlinewidth": 0,
             "ticks": ""
            },
            "colorscale": [
             [
              0,
              "#0d0887"
             ],
             [
              0.1111111111111111,
              "#46039f"
             ],
             [
              0.2222222222222222,
              "#7201a8"
             ],
             [
              0.3333333333333333,
              "#9c179e"
             ],
             [
              0.4444444444444444,
              "#bd3786"
             ],
             [
              0.5555555555555556,
              "#d8576b"
             ],
             [
              0.6666666666666666,
              "#ed7953"
             ],
             [
              0.7777777777777778,
              "#fb9f3a"
             ],
             [
              0.8888888888888888,
              "#fdca26"
             ],
             [
              1,
              "#f0f921"
             ]
            ],
            "type": "histogram2dcontour"
           }
          ],
          "mesh3d": [
           {
            "colorbar": {
             "outlinewidth": 0,
             "ticks": ""
            },
            "type": "mesh3d"
           }
          ],
          "parcoords": [
           {
            "line": {
             "colorbar": {
              "outlinewidth": 0,
              "ticks": ""
             }
            },
            "type": "parcoords"
           }
          ],
          "pie": [
           {
            "automargin": true,
            "type": "pie"
           }
          ],
          "scatter": [
           {
            "fillpattern": {
             "fillmode": "overlay",
             "size": 10,
             "solidity": 0.2
            },
            "type": "scatter"
           }
          ],
          "scatter3d": [
           {
            "line": {
             "colorbar": {
              "outlinewidth": 0,
              "ticks": ""
             }
            },
            "marker": {
             "colorbar": {
              "outlinewidth": 0,
              "ticks": ""
             }
            },
            "type": "scatter3d"
           }
          ],
          "scattercarpet": [
           {
            "marker": {
             "colorbar": {
              "outlinewidth": 0,
              "ticks": ""
             }
            },
            "type": "scattercarpet"
           }
          ],
          "scattergeo": [
           {
            "marker": {
             "colorbar": {
              "outlinewidth": 0,
              "ticks": ""
             }
            },
            "type": "scattergeo"
           }
          ],
          "scattergl": [
           {
            "marker": {
             "colorbar": {
              "outlinewidth": 0,
              "ticks": ""
             }
            },
            "type": "scattergl"
           }
          ],
          "scattermapbox": [
           {
            "marker": {
             "colorbar": {
              "outlinewidth": 0,
              "ticks": ""
             }
            },
            "type": "scattermapbox"
           }
          ],
          "scatterpolar": [
           {
            "marker": {
             "colorbar": {
              "outlinewidth": 0,
              "ticks": ""
             }
            },
            "type": "scatterpolar"
           }
          ],
          "scatterpolargl": [
           {
            "marker": {
             "colorbar": {
              "outlinewidth": 0,
              "ticks": ""
             }
            },
            "type": "scatterpolargl"
           }
          ],
          "scatterternary": [
           {
            "marker": {
             "colorbar": {
              "outlinewidth": 0,
              "ticks": ""
             }
            },
            "type": "scatterternary"
           }
          ],
          "surface": [
           {
            "colorbar": {
             "outlinewidth": 0,
             "ticks": ""
            },
            "colorscale": [
             [
              0,
              "#0d0887"
             ],
             [
              0.1111111111111111,
              "#46039f"
             ],
             [
              0.2222222222222222,
              "#7201a8"
             ],
             [
              0.3333333333333333,
              "#9c179e"
             ],
             [
              0.4444444444444444,
              "#bd3786"
             ],
             [
              0.5555555555555556,
              "#d8576b"
             ],
             [
              0.6666666666666666,
              "#ed7953"
             ],
             [
              0.7777777777777778,
              "#fb9f3a"
             ],
             [
              0.8888888888888888,
              "#fdca26"
             ],
             [
              1,
              "#f0f921"
             ]
            ],
            "type": "surface"
           }
          ],
          "table": [
           {
            "cells": {
             "fill": {
              "color": "#EBF0F8"
             },
             "line": {
              "color": "white"
             }
            },
            "header": {
             "fill": {
              "color": "#C8D4E3"
             },
             "line": {
              "color": "white"
             }
            },
            "type": "table"
           }
          ]
         },
         "layout": {
          "annotationdefaults": {
           "arrowcolor": "#2a3f5f",
           "arrowhead": 0,
           "arrowwidth": 1
          },
          "autotypenumbers": "strict",
          "coloraxis": {
           "colorbar": {
            "outlinewidth": 0,
            "ticks": ""
           }
          },
          "colorscale": {
           "diverging": [
            [
             0,
             "#8e0152"
            ],
            [
             0.1,
             "#c51b7d"
            ],
            [
             0.2,
             "#de77ae"
            ],
            [
             0.3,
             "#f1b6da"
            ],
            [
             0.4,
             "#fde0ef"
            ],
            [
             0.5,
             "#f7f7f7"
            ],
            [
             0.6,
             "#e6f5d0"
            ],
            [
             0.7,
             "#b8e186"
            ],
            [
             0.8,
             "#7fbc41"
            ],
            [
             0.9,
             "#4d9221"
            ],
            [
             1,
             "#276419"
            ]
           ],
           "sequential": [
            [
             0,
             "#0d0887"
            ],
            [
             0.1111111111111111,
             "#46039f"
            ],
            [
             0.2222222222222222,
             "#7201a8"
            ],
            [
             0.3333333333333333,
             "#9c179e"
            ],
            [
             0.4444444444444444,
             "#bd3786"
            ],
            [
             0.5555555555555556,
             "#d8576b"
            ],
            [
             0.6666666666666666,
             "#ed7953"
            ],
            [
             0.7777777777777778,
             "#fb9f3a"
            ],
            [
             0.8888888888888888,
             "#fdca26"
            ],
            [
             1,
             "#f0f921"
            ]
           ],
           "sequentialminus": [
            [
             0,
             "#0d0887"
            ],
            [
             0.1111111111111111,
             "#46039f"
            ],
            [
             0.2222222222222222,
             "#7201a8"
            ],
            [
             0.3333333333333333,
             "#9c179e"
            ],
            [
             0.4444444444444444,
             "#bd3786"
            ],
            [
             0.5555555555555556,
             "#d8576b"
            ],
            [
             0.6666666666666666,
             "#ed7953"
            ],
            [
             0.7777777777777778,
             "#fb9f3a"
            ],
            [
             0.8888888888888888,
             "#fdca26"
            ],
            [
             1,
             "#f0f921"
            ]
           ]
          },
          "colorway": [
           "#636efa",
           "#EF553B",
           "#00cc96",
           "#ab63fa",
           "#FFA15A",
           "#19d3f3",
           "#FF6692",
           "#B6E880",
           "#FF97FF",
           "#FECB52"
          ],
          "font": {
           "color": "#2a3f5f"
          },
          "geo": {
           "bgcolor": "white",
           "lakecolor": "white",
           "landcolor": "#E5ECF6",
           "showlakes": true,
           "showland": true,
           "subunitcolor": "white"
          },
          "hoverlabel": {
           "align": "left"
          },
          "hovermode": "closest",
          "mapbox": {
           "style": "light"
          },
          "paper_bgcolor": "white",
          "plot_bgcolor": "#E5ECF6",
          "polar": {
           "angularaxis": {
            "gridcolor": "white",
            "linecolor": "white",
            "ticks": ""
           },
           "bgcolor": "#E5ECF6",
           "radialaxis": {
            "gridcolor": "white",
            "linecolor": "white",
            "ticks": ""
           }
          },
          "scene": {
           "xaxis": {
            "backgroundcolor": "#E5ECF6",
            "gridcolor": "white",
            "gridwidth": 2,
            "linecolor": "white",
            "showbackground": true,
            "ticks": "",
            "zerolinecolor": "white"
           },
           "yaxis": {
            "backgroundcolor": "#E5ECF6",
            "gridcolor": "white",
            "gridwidth": 2,
            "linecolor": "white",
            "showbackground": true,
            "ticks": "",
            "zerolinecolor": "white"
           },
           "zaxis": {
            "backgroundcolor": "#E5ECF6",
            "gridcolor": "white",
            "gridwidth": 2,
            "linecolor": "white",
            "showbackground": true,
            "ticks": "",
            "zerolinecolor": "white"
           }
          },
          "shapedefaults": {
           "line": {
            "color": "#2a3f5f"
           }
          },
          "ternary": {
           "aaxis": {
            "gridcolor": "white",
            "linecolor": "white",
            "ticks": ""
           },
           "baxis": {
            "gridcolor": "white",
            "linecolor": "white",
            "ticks": ""
           },
           "bgcolor": "#E5ECF6",
           "caxis": {
            "gridcolor": "white",
            "linecolor": "white",
            "ticks": ""
           }
          },
          "title": {
           "x": 0.05
          },
          "xaxis": {
           "automargin": true,
           "gridcolor": "white",
           "linecolor": "white",
           "ticks": "",
           "title": {
            "standoff": 15
           },
           "zerolinecolor": "white",
           "zerolinewidth": 2
          },
          "yaxis": {
           "automargin": true,
           "gridcolor": "white",
           "linecolor": "white",
           "ticks": "",
           "title": {
            "standoff": 15
           },
           "zerolinecolor": "white",
           "zerolinewidth": 2
          }
         }
        },
        "title": {
         "text": "10 countries with highest number of death cases. <br> (Last updated on 2022-12-01 14:20:42)"
        },
        "width": 800,
        "xaxis": {
         "anchor": "y",
         "domain": [
          0,
          1
         ],
         "title": {
          "text": "Countries"
         }
        },
        "yaxis": {
         "anchor": "x",
         "domain": [
          0,
          1
         ],
         "title": {
          "text": "Death Cases"
         }
        }
       }
      }
     },
     "metadata": {},
     "output_type": "display_data"
    },
    {
     "data": {
      "application/vnd.jupyter.widget-view+json": {
       "model_id": "13c23c6914a54aadafa9dddf74dab227",
       "version_major": 2,
       "version_minor": 0
      },
      "text/plain": [
       "interactive(children=(IntSlider(value=10, description='n', max=30, min=-10), Output()), _dom_classes=('widget-…"
      ]
     },
     "metadata": {},
     "output_type": "display_data"
    }
   ],
   "source": [
    "def deathCases_bar_chart(n):\n",
    "    df1 = country_df.sort_values(by='deaths', ascending=False)\n",
    "    fig = px.bar(df1.head(n), x=\"country\", y=\"deaths\")\n",
    "\n",
    "    fig.update_layout(\n",
    "    title=str(n) +\" countries with highest number of death cases. <br> (Last updated on \"+ df1.last_update[1] +\")\",\n",
    "    xaxis_title=\"Countries\",\n",
    "    yaxis_title=\"Death Cases\",\n",
    "    width = 800\n",
    "    )\n",
    "    \n",
    "    fig.show();\n",
    "\n",
    "\n",
    "interact(deathCases_bar_chart, n=10)\n",
    "ipywLayout = widgets.Layout()\n",
    "ipywLayout.display='none'"
   ]
  },
  {
   "cell_type": "markdown",
   "metadata": {},
   "source": [
    "#### Countries - Recovered Cases"
   ]
  },
  {
   "cell_type": "code",
   "execution_count": 23,
   "metadata": {},
   "outputs": [
    {
     "data": {
      "application/vnd.plotly.v1+json": {
       "config": {
        "plotlyServerURL": "https://plot.ly"
       },
       "data": [
        {
         "alignmentgroup": "True",
         "hovertemplate": "country=%{x}<br>recovered=%{y}<extra></extra>",
         "legendgroup": "",
         "marker": {
          "color": "#636efa",
          "pattern": {
           "shape": ""
          }
         },
         "name": "",
         "offsetgroup": "",
         "orientation": "v",
         "showlegend": false,
         "textposition": "auto",
         "type": "bar",
         "x": [
          "Afghanistan",
          "Albania",
          "Algeria",
          "Andorra",
          "Angola",
          "Antarctica",
          "Antigua and Barbuda",
          "Argentina",
          "Armenia",
          "Australia"
         ],
         "xaxis": "x",
         "y": [
          null,
          null,
          null,
          null,
          null,
          null,
          null,
          null,
          null,
          null
         ],
         "yaxis": "y"
        }
       ],
       "layout": {
        "barmode": "relative",
        "legend": {
         "tracegroupgap": 0
        },
        "margin": {
         "t": 60
        },
        "template": {
         "data": {
          "bar": [
           {
            "error_x": {
             "color": "#2a3f5f"
            },
            "error_y": {
             "color": "#2a3f5f"
            },
            "marker": {
             "line": {
              "color": "#E5ECF6",
              "width": 0.5
             },
             "pattern": {
              "fillmode": "overlay",
              "size": 10,
              "solidity": 0.2
             }
            },
            "type": "bar"
           }
          ],
          "barpolar": [
           {
            "marker": {
             "line": {
              "color": "#E5ECF6",
              "width": 0.5
             },
             "pattern": {
              "fillmode": "overlay",
              "size": 10,
              "solidity": 0.2
             }
            },
            "type": "barpolar"
           }
          ],
          "carpet": [
           {
            "aaxis": {
             "endlinecolor": "#2a3f5f",
             "gridcolor": "white",
             "linecolor": "white",
             "minorgridcolor": "white",
             "startlinecolor": "#2a3f5f"
            },
            "baxis": {
             "endlinecolor": "#2a3f5f",
             "gridcolor": "white",
             "linecolor": "white",
             "minorgridcolor": "white",
             "startlinecolor": "#2a3f5f"
            },
            "type": "carpet"
           }
          ],
          "choropleth": [
           {
            "colorbar": {
             "outlinewidth": 0,
             "ticks": ""
            },
            "type": "choropleth"
           }
          ],
          "contour": [
           {
            "colorbar": {
             "outlinewidth": 0,
             "ticks": ""
            },
            "colorscale": [
             [
              0,
              "#0d0887"
             ],
             [
              0.1111111111111111,
              "#46039f"
             ],
             [
              0.2222222222222222,
              "#7201a8"
             ],
             [
              0.3333333333333333,
              "#9c179e"
             ],
             [
              0.4444444444444444,
              "#bd3786"
             ],
             [
              0.5555555555555556,
              "#d8576b"
             ],
             [
              0.6666666666666666,
              "#ed7953"
             ],
             [
              0.7777777777777778,
              "#fb9f3a"
             ],
             [
              0.8888888888888888,
              "#fdca26"
             ],
             [
              1,
              "#f0f921"
             ]
            ],
            "type": "contour"
           }
          ],
          "contourcarpet": [
           {
            "colorbar": {
             "outlinewidth": 0,
             "ticks": ""
            },
            "type": "contourcarpet"
           }
          ],
          "heatmap": [
           {
            "colorbar": {
             "outlinewidth": 0,
             "ticks": ""
            },
            "colorscale": [
             [
              0,
              "#0d0887"
             ],
             [
              0.1111111111111111,
              "#46039f"
             ],
             [
              0.2222222222222222,
              "#7201a8"
             ],
             [
              0.3333333333333333,
              "#9c179e"
             ],
             [
              0.4444444444444444,
              "#bd3786"
             ],
             [
              0.5555555555555556,
              "#d8576b"
             ],
             [
              0.6666666666666666,
              "#ed7953"
             ],
             [
              0.7777777777777778,
              "#fb9f3a"
             ],
             [
              0.8888888888888888,
              "#fdca26"
             ],
             [
              1,
              "#f0f921"
             ]
            ],
            "type": "heatmap"
           }
          ],
          "heatmapgl": [
           {
            "colorbar": {
             "outlinewidth": 0,
             "ticks": ""
            },
            "colorscale": [
             [
              0,
              "#0d0887"
             ],
             [
              0.1111111111111111,
              "#46039f"
             ],
             [
              0.2222222222222222,
              "#7201a8"
             ],
             [
              0.3333333333333333,
              "#9c179e"
             ],
             [
              0.4444444444444444,
              "#bd3786"
             ],
             [
              0.5555555555555556,
              "#d8576b"
             ],
             [
              0.6666666666666666,
              "#ed7953"
             ],
             [
              0.7777777777777778,
              "#fb9f3a"
             ],
             [
              0.8888888888888888,
              "#fdca26"
             ],
             [
              1,
              "#f0f921"
             ]
            ],
            "type": "heatmapgl"
           }
          ],
          "histogram": [
           {
            "marker": {
             "pattern": {
              "fillmode": "overlay",
              "size": 10,
              "solidity": 0.2
             }
            },
            "type": "histogram"
           }
          ],
          "histogram2d": [
           {
            "colorbar": {
             "outlinewidth": 0,
             "ticks": ""
            },
            "colorscale": [
             [
              0,
              "#0d0887"
             ],
             [
              0.1111111111111111,
              "#46039f"
             ],
             [
              0.2222222222222222,
              "#7201a8"
             ],
             [
              0.3333333333333333,
              "#9c179e"
             ],
             [
              0.4444444444444444,
              "#bd3786"
             ],
             [
              0.5555555555555556,
              "#d8576b"
             ],
             [
              0.6666666666666666,
              "#ed7953"
             ],
             [
              0.7777777777777778,
              "#fb9f3a"
             ],
             [
              0.8888888888888888,
              "#fdca26"
             ],
             [
              1,
              "#f0f921"
             ]
            ],
            "type": "histogram2d"
           }
          ],
          "histogram2dcontour": [
           {
            "colorbar": {
             "outlinewidth": 0,
             "ticks": ""
            },
            "colorscale": [
             [
              0,
              "#0d0887"
             ],
             [
              0.1111111111111111,
              "#46039f"
             ],
             [
              0.2222222222222222,
              "#7201a8"
             ],
             [
              0.3333333333333333,
              "#9c179e"
             ],
             [
              0.4444444444444444,
              "#bd3786"
             ],
             [
              0.5555555555555556,
              "#d8576b"
             ],
             [
              0.6666666666666666,
              "#ed7953"
             ],
             [
              0.7777777777777778,
              "#fb9f3a"
             ],
             [
              0.8888888888888888,
              "#fdca26"
             ],
             [
              1,
              "#f0f921"
             ]
            ],
            "type": "histogram2dcontour"
           }
          ],
          "mesh3d": [
           {
            "colorbar": {
             "outlinewidth": 0,
             "ticks": ""
            },
            "type": "mesh3d"
           }
          ],
          "parcoords": [
           {
            "line": {
             "colorbar": {
              "outlinewidth": 0,
              "ticks": ""
             }
            },
            "type": "parcoords"
           }
          ],
          "pie": [
           {
            "automargin": true,
            "type": "pie"
           }
          ],
          "scatter": [
           {
            "fillpattern": {
             "fillmode": "overlay",
             "size": 10,
             "solidity": 0.2
            },
            "type": "scatter"
           }
          ],
          "scatter3d": [
           {
            "line": {
             "colorbar": {
              "outlinewidth": 0,
              "ticks": ""
             }
            },
            "marker": {
             "colorbar": {
              "outlinewidth": 0,
              "ticks": ""
             }
            },
            "type": "scatter3d"
           }
          ],
          "scattercarpet": [
           {
            "marker": {
             "colorbar": {
              "outlinewidth": 0,
              "ticks": ""
             }
            },
            "type": "scattercarpet"
           }
          ],
          "scattergeo": [
           {
            "marker": {
             "colorbar": {
              "outlinewidth": 0,
              "ticks": ""
             }
            },
            "type": "scattergeo"
           }
          ],
          "scattergl": [
           {
            "marker": {
             "colorbar": {
              "outlinewidth": 0,
              "ticks": ""
             }
            },
            "type": "scattergl"
           }
          ],
          "scattermapbox": [
           {
            "marker": {
             "colorbar": {
              "outlinewidth": 0,
              "ticks": ""
             }
            },
            "type": "scattermapbox"
           }
          ],
          "scatterpolar": [
           {
            "marker": {
             "colorbar": {
              "outlinewidth": 0,
              "ticks": ""
             }
            },
            "type": "scatterpolar"
           }
          ],
          "scatterpolargl": [
           {
            "marker": {
             "colorbar": {
              "outlinewidth": 0,
              "ticks": ""
             }
            },
            "type": "scatterpolargl"
           }
          ],
          "scatterternary": [
           {
            "marker": {
             "colorbar": {
              "outlinewidth": 0,
              "ticks": ""
             }
            },
            "type": "scatterternary"
           }
          ],
          "surface": [
           {
            "colorbar": {
             "outlinewidth": 0,
             "ticks": ""
            },
            "colorscale": [
             [
              0,
              "#0d0887"
             ],
             [
              0.1111111111111111,
              "#46039f"
             ],
             [
              0.2222222222222222,
              "#7201a8"
             ],
             [
              0.3333333333333333,
              "#9c179e"
             ],
             [
              0.4444444444444444,
              "#bd3786"
             ],
             [
              0.5555555555555556,
              "#d8576b"
             ],
             [
              0.6666666666666666,
              "#ed7953"
             ],
             [
              0.7777777777777778,
              "#fb9f3a"
             ],
             [
              0.8888888888888888,
              "#fdca26"
             ],
             [
              1,
              "#f0f921"
             ]
            ],
            "type": "surface"
           }
          ],
          "table": [
           {
            "cells": {
             "fill": {
              "color": "#EBF0F8"
             },
             "line": {
              "color": "white"
             }
            },
            "header": {
             "fill": {
              "color": "#C8D4E3"
             },
             "line": {
              "color": "white"
             }
            },
            "type": "table"
           }
          ]
         },
         "layout": {
          "annotationdefaults": {
           "arrowcolor": "#2a3f5f",
           "arrowhead": 0,
           "arrowwidth": 1
          },
          "autotypenumbers": "strict",
          "coloraxis": {
           "colorbar": {
            "outlinewidth": 0,
            "ticks": ""
           }
          },
          "colorscale": {
           "diverging": [
            [
             0,
             "#8e0152"
            ],
            [
             0.1,
             "#c51b7d"
            ],
            [
             0.2,
             "#de77ae"
            ],
            [
             0.3,
             "#f1b6da"
            ],
            [
             0.4,
             "#fde0ef"
            ],
            [
             0.5,
             "#f7f7f7"
            ],
            [
             0.6,
             "#e6f5d0"
            ],
            [
             0.7,
             "#b8e186"
            ],
            [
             0.8,
             "#7fbc41"
            ],
            [
             0.9,
             "#4d9221"
            ],
            [
             1,
             "#276419"
            ]
           ],
           "sequential": [
            [
             0,
             "#0d0887"
            ],
            [
             0.1111111111111111,
             "#46039f"
            ],
            [
             0.2222222222222222,
             "#7201a8"
            ],
            [
             0.3333333333333333,
             "#9c179e"
            ],
            [
             0.4444444444444444,
             "#bd3786"
            ],
            [
             0.5555555555555556,
             "#d8576b"
            ],
            [
             0.6666666666666666,
             "#ed7953"
            ],
            [
             0.7777777777777778,
             "#fb9f3a"
            ],
            [
             0.8888888888888888,
             "#fdca26"
            ],
            [
             1,
             "#f0f921"
            ]
           ],
           "sequentialminus": [
            [
             0,
             "#0d0887"
            ],
            [
             0.1111111111111111,
             "#46039f"
            ],
            [
             0.2222222222222222,
             "#7201a8"
            ],
            [
             0.3333333333333333,
             "#9c179e"
            ],
            [
             0.4444444444444444,
             "#bd3786"
            ],
            [
             0.5555555555555556,
             "#d8576b"
            ],
            [
             0.6666666666666666,
             "#ed7953"
            ],
            [
             0.7777777777777778,
             "#fb9f3a"
            ],
            [
             0.8888888888888888,
             "#fdca26"
            ],
            [
             1,
             "#f0f921"
            ]
           ]
          },
          "colorway": [
           "#636efa",
           "#EF553B",
           "#00cc96",
           "#ab63fa",
           "#FFA15A",
           "#19d3f3",
           "#FF6692",
           "#B6E880",
           "#FF97FF",
           "#FECB52"
          ],
          "font": {
           "color": "#2a3f5f"
          },
          "geo": {
           "bgcolor": "white",
           "lakecolor": "white",
           "landcolor": "#E5ECF6",
           "showlakes": true,
           "showland": true,
           "subunitcolor": "white"
          },
          "hoverlabel": {
           "align": "left"
          },
          "hovermode": "closest",
          "mapbox": {
           "style": "light"
          },
          "paper_bgcolor": "white",
          "plot_bgcolor": "#E5ECF6",
          "polar": {
           "angularaxis": {
            "gridcolor": "white",
            "linecolor": "white",
            "ticks": ""
           },
           "bgcolor": "#E5ECF6",
           "radialaxis": {
            "gridcolor": "white",
            "linecolor": "white",
            "ticks": ""
           }
          },
          "scene": {
           "xaxis": {
            "backgroundcolor": "#E5ECF6",
            "gridcolor": "white",
            "gridwidth": 2,
            "linecolor": "white",
            "showbackground": true,
            "ticks": "",
            "zerolinecolor": "white"
           },
           "yaxis": {
            "backgroundcolor": "#E5ECF6",
            "gridcolor": "white",
            "gridwidth": 2,
            "linecolor": "white",
            "showbackground": true,
            "ticks": "",
            "zerolinecolor": "white"
           },
           "zaxis": {
            "backgroundcolor": "#E5ECF6",
            "gridcolor": "white",
            "gridwidth": 2,
            "linecolor": "white",
            "showbackground": true,
            "ticks": "",
            "zerolinecolor": "white"
           }
          },
          "shapedefaults": {
           "line": {
            "color": "#2a3f5f"
           }
          },
          "ternary": {
           "aaxis": {
            "gridcolor": "white",
            "linecolor": "white",
            "ticks": ""
           },
           "baxis": {
            "gridcolor": "white",
            "linecolor": "white",
            "ticks": ""
           },
           "bgcolor": "#E5ECF6",
           "caxis": {
            "gridcolor": "white",
            "linecolor": "white",
            "ticks": ""
           }
          },
          "title": {
           "x": 0.05
          },
          "xaxis": {
           "automargin": true,
           "gridcolor": "white",
           "linecolor": "white",
           "ticks": "",
           "title": {
            "standoff": 15
           },
           "zerolinecolor": "white",
           "zerolinewidth": 2
          },
          "yaxis": {
           "automargin": true,
           "gridcolor": "white",
           "linecolor": "white",
           "ticks": "",
           "title": {
            "standoff": 15
           },
           "zerolinecolor": "white",
           "zerolinewidth": 2
          }
         }
        },
        "title": {
         "text": "10 countries with highest number of active cases. <br> (Last updated on 2022-12-01 14:20:42)"
        },
        "width": 800,
        "xaxis": {
         "anchor": "y",
         "domain": [
          0,
          1
         ],
         "title": {
          "text": "Countries"
         }
        },
        "yaxis": {
         "anchor": "x",
         "domain": [
          0,
          1
         ],
         "title": {
          "text": "Active Cases"
         }
        }
       }
      }
     },
     "metadata": {},
     "output_type": "display_data"
    },
    {
     "data": {
      "application/vnd.jupyter.widget-view+json": {
       "model_id": "468ea3ae553946e49ab43a77d30e296b",
       "version_major": 2,
       "version_minor": 0
      },
      "text/plain": [
       "interactive(children=(IntSlider(value=10, description='n', max=30, min=-10), Output()), _dom_classes=('widget-…"
      ]
     },
     "metadata": {},
     "output_type": "display_data"
    }
   ],
   "source": [
    "# Visualizing the top n countries with respect to active cases using Plotly\n",
    "def activeCases_bar_chart(n):\n",
    "    df1 = country_df.sort_values(by ='active', ascending=False)\n",
    "    fig = px.bar(df1.head(n), x=\"country\", y=\"recovered\")\n",
    "    \n",
    "    fig.update_layout(\n",
    "    title=str(n) +\" countries with highest number of active cases. <br> (Last updated on \"+ df1.last_update[1] +\")\",\n",
    "    xaxis_title=\"Countries\",\n",
    "    yaxis_title=\"Active Cases\",\n",
    "    width = 800\n",
    "    )\n",
    "    \n",
    "    fig.show();\n",
    "\n",
    "    \n",
    "interact(activeCases_bar_chart, n=10)\n",
    "ipywLayout = widgets.Layout()\n",
    "ipywLayout.display='none'"
   ]
  },
  {
   "cell_type": "markdown",
   "metadata": {},
   "source": [
    "### Data Visualization on Maps\n",
    "#### Global spread of COVID-19 using Folium"
   ]
  },
  {
   "cell_type": "code",
   "execution_count": 24,
   "metadata": {},
   "outputs": [],
   "source": [
    "# Removing the null values from confirmed_df\n",
    "confirmed_df = confirmed_df[~confirmed_df['lat'].isnull()]"
   ]
  },
  {
   "cell_type": "code",
   "execution_count": 25,
   "metadata": {},
   "outputs": [
    {
     "data": {
      "text/html": [
       "<div style=\"width:100%;\"><div style=\"position:relative;width:100%;height:0;padding-bottom:60%;\"><span style=\"color:#565656\">Make this Notebook Trusted to load map: File -> Trust Notebook</span><iframe srcdoc=\"&lt;!DOCTYPE html&gt;\n",
       "&lt;html&gt;\n",
       "&lt;head&gt;\n",
       "    \n",
       "    &lt;meta http-equiv=&quot;content-type&quot; content=&quot;text/html; charset=UTF-8&quot; /&gt;\n",
       "    \n",
       "        &lt;script&gt;\n",
       "            L_NO_TOUCH = false;\n",
       "            L_DISABLE_3D = false;\n",
       "        &lt;/script&gt;\n",
       "    \n",
       "    &lt;style&gt;html, body {width: 100%;height: 100%;margin: 0;padding: 0;}&lt;/style&gt;\n",
       "    &lt;style&gt;#map {position:absolute;top:0;bottom:0;right:0;left:0;}&lt;/style&gt;\n",
       "    &lt;script src=&quot;https://cdn.jsdelivr.net/npm/leaflet@1.6.0/dist/leaflet.js&quot;&gt;&lt;/script&gt;\n",
       "    &lt;script src=&quot;https://code.jquery.com/jquery-1.12.4.min.js&quot;&gt;&lt;/script&gt;\n",
       "    &lt;script src=&quot;https://maxcdn.bootstrapcdn.com/bootstrap/3.2.0/js/bootstrap.min.js&quot;&gt;&lt;/script&gt;\n",
       "    &lt;script src=&quot;https://cdnjs.cloudflare.com/ajax/libs/Leaflet.awesome-markers/2.0.2/leaflet.awesome-markers.js&quot;&gt;&lt;/script&gt;\n",
       "    &lt;link rel=&quot;stylesheet&quot; href=&quot;https://cdn.jsdelivr.net/npm/leaflet@1.6.0/dist/leaflet.css&quot;/&gt;\n",
       "    &lt;link rel=&quot;stylesheet&quot; href=&quot;https://maxcdn.bootstrapcdn.com/bootstrap/3.2.0/css/bootstrap.min.css&quot;/&gt;\n",
       "    &lt;link rel=&quot;stylesheet&quot; href=&quot;https://maxcdn.bootstrapcdn.com/bootstrap/3.2.0/css/bootstrap-theme.min.css&quot;/&gt;\n",
       "    &lt;link rel=&quot;stylesheet&quot; href=&quot;https://maxcdn.bootstrapcdn.com/font-awesome/4.6.3/css/font-awesome.min.css&quot;/&gt;\n",
       "    &lt;link rel=&quot;stylesheet&quot; href=&quot;https://cdnjs.cloudflare.com/ajax/libs/Leaflet.awesome-markers/2.0.2/leaflet.awesome-markers.css&quot;/&gt;\n",
       "    &lt;link rel=&quot;stylesheet&quot; href=&quot;https://cdn.jsdelivr.net/gh/python-visualization/folium/folium/templates/leaflet.awesome.rotate.min.css&quot;/&gt;\n",
       "    \n",
       "            &lt;meta name=&quot;viewport&quot; content=&quot;width=device-width,\n",
       "                initial-scale=1.0, maximum-scale=1.0, user-scalable=no&quot; /&gt;\n",
       "            &lt;style&gt;\n",
       "                #map_01f8206293aa103112e128106147057e {\n",
       "                    position: relative;\n",
       "                    width: 100.0%;\n",
       "                    height: 100.0%;\n",
       "                    left: 0.0%;\n",
       "                    top: 0.0%;\n",
       "                }\n",
       "            &lt;/style&gt;\n",
       "        \n",
       "&lt;/head&gt;\n",
       "&lt;body&gt;\n",
       "    \n",
       "    \n",
       "            &lt;div class=&quot;folium-map&quot; id=&quot;map_01f8206293aa103112e128106147057e&quot; &gt;&lt;/div&gt;\n",
       "        \n",
       "&lt;/body&gt;\n",
       "&lt;script&gt;\n",
       "    \n",
       "    \n",
       "            var map_01f8206293aa103112e128106147057e = L.map(\n",
       "                &quot;map_01f8206293aa103112e128106147057e&quot;,\n",
       "                {\n",
       "                    center: [11.0, 0.0],\n",
       "                    crs: L.CRS.EPSG3857,\n",
       "                    zoom: 2,\n",
       "                    zoomControl: true,\n",
       "                    preferCanvas: false,\n",
       "                }\n",
       "            );\n",
       "\n",
       "            \n",
       "\n",
       "        \n",
       "    \n",
       "            var tile_layer_7ca798433057d8a1822e699a00f58366 = L.tileLayer(\n",
       "                &quot;https://cartodb-basemaps-{s}.global.ssl.fastly.net/light_all/{z}/{x}/{y}.png&quot;,\n",
       "                {&quot;attribution&quot;: &quot;\\u0026copy; \\u003ca href=\\&quot;http://www.openstreetmap.org/copyright\\&quot;\\u003eOpenStreetMap\\u003c/a\\u003e contributors \\u0026copy; \\u003ca href=\\&quot;http://cartodb.com/attributions\\&quot;\\u003eCartoDB\\u003c/a\\u003e, CartoDB \\u003ca href =\\&quot;http://cartodb.com/attributions\\&quot;\\u003eattributions\\u003c/a\\u003e&quot;, &quot;detectRetina&quot;: false, &quot;maxNativeZoom&quot;: 6, &quot;maxZoom&quot;: 6, &quot;minZoom&quot;: 2, &quot;noWrap&quot;: false, &quot;opacity&quot;: 1, &quot;subdomains&quot;: &quot;abc&quot;, &quot;tms&quot;: false}\n",
       "            ).addTo(map_01f8206293aa103112e128106147057e);\n",
       "        \n",
       "    \n",
       "            var circle_0ceaeada33d8612d1d551ad24aeb173d = L.circle(\n",
       "                [33.93911, 67.709953],\n",
       "                {&quot;bubblingMouseEvents&quot;: true, &quot;color&quot;: &quot;red&quot;, &quot;dashArray&quot;: null, &quot;dashOffset&quot;: null, &quot;fill&quot;: true, &quot;fillColor&quot;: &quot;indigo&quot;, &quot;fillOpacity&quot;: 0.2, &quot;fillRule&quot;: &quot;evenodd&quot;, &quot;lineCap&quot;: &quot;round&quot;, &quot;lineJoin&quot;: &quot;round&quot;, &quot;opacity&quot;: 1.0, &quot;radius&quot;: 61000.0, &quot;stroke&quot;: true, &quot;weight&quot;: 3}\n",
       "            ).addTo(map_01f8206293aa103112e128106147057e);\n",
       "        \n",
       "    \n",
       "            circle_0ceaeada33d8612d1d551ad24aeb173d.bindTooltip(\n",
       "                `&lt;div&gt;\n",
       "                     &lt;div style=&#x27;margin: 0; background-color: black; color: white;&#x27;&gt;&lt;h4 style=&#x27;text-align:center;font-weight: bold&#x27;&gt;Afghanistan&lt;/h4&gt;&lt;hr style=&#x27;margin:10px;color: white;&#x27;&gt;&lt;ul style=&#x27;color: white;;list-style-type:circle;align-item:left;padding-left:20px;padding-right:20px&#x27;&gt;&lt;li&gt;Confirmed: 205907&lt;/li&gt;&lt;li&gt;Deaths:   7833&lt;/li&gt;&lt;li&gt;Death Rate: 3.8&lt;/li&gt;&lt;/ul&gt;&lt;/div&gt;\n",
       "                 &lt;/div&gt;`,\n",
       "                {&quot;sticky&quot;: true}\n",
       "            );\n",
       "        \n",
       "    \n",
       "            var circle_07c90dba8234d6f8962cf61df09d4ccc = L.circle(\n",
       "                [41.1533, 20.1683],\n",
       "                {&quot;bubblingMouseEvents&quot;: true, &quot;color&quot;: &quot;red&quot;, &quot;dashArray&quot;: null, &quot;dashOffset&quot;: null, &quot;fill&quot;: true, &quot;fillColor&quot;: &quot;indigo&quot;, &quot;fillOpacity&quot;: 0.2, &quot;fillRule&quot;: &quot;evenodd&quot;, &quot;lineCap&quot;: &quot;round&quot;, &quot;lineJoin&quot;: &quot;round&quot;, &quot;opacity&quot;: 1.0, &quot;radius&quot;: 61000.0, &quot;stroke&quot;: true, &quot;weight&quot;: 3}\n",
       "            ).addTo(map_01f8206293aa103112e128106147057e);\n",
       "        \n",
       "    \n",
       "            circle_07c90dba8234d6f8962cf61df09d4ccc.bindTooltip(\n",
       "                `&lt;div&gt;\n",
       "                     &lt;div style=&#x27;margin: 0; background-color: black; color: white;&#x27;&gt;&lt;h4 style=&#x27;text-align:center;font-weight: bold&#x27;&gt;Albania&lt;/h4&gt;&lt;hr style=&#x27;margin:10px;color: white;&#x27;&gt;&lt;ul style=&#x27;color: white;;list-style-type:circle;align-item:left;padding-left:20px;padding-right:20px&#x27;&gt;&lt;li&gt;Confirmed: 333343&lt;/li&gt;&lt;li&gt;Deaths:   3594&lt;/li&gt;&lt;li&gt;Death Rate: 1.08&lt;/li&gt;&lt;/ul&gt;&lt;/div&gt;\n",
       "                 &lt;/div&gt;`,\n",
       "                {&quot;sticky&quot;: true}\n",
       "            );\n",
       "        \n",
       "    \n",
       "            var circle_dc2bb78eeda021be80c6c5bf0ceb0189 = L.circle(\n",
       "                [28.0339, 1.6596],\n",
       "                {&quot;bubblingMouseEvents&quot;: true, &quot;color&quot;: &quot;red&quot;, &quot;dashArray&quot;: null, &quot;dashOffset&quot;: null, &quot;fill&quot;: true, &quot;fillColor&quot;: &quot;indigo&quot;, &quot;fillOpacity&quot;: 0.2, &quot;fillRule&quot;: &quot;evenodd&quot;, &quot;lineCap&quot;: &quot;round&quot;, &quot;lineJoin&quot;: &quot;round&quot;, &quot;opacity&quot;: 1.0, &quot;radius&quot;: 61000.0, &quot;stroke&quot;: true, &quot;weight&quot;: 3}\n",
       "            ).addTo(map_01f8206293aa103112e128106147057e);\n",
       "        \n",
       "    \n",
       "            circle_dc2bb78eeda021be80c6c5bf0ceb0189.bindTooltip(\n",
       "                `&lt;div&gt;\n",
       "                     &lt;div style=&#x27;margin: 0; background-color: black; color: white;&#x27;&gt;&lt;h4 style=&#x27;text-align:center;font-weight: bold&#x27;&gt;Algeria&lt;/h4&gt;&lt;hr style=&#x27;margin:10px;color: white;&#x27;&gt;&lt;ul style=&#x27;color: white;;list-style-type:circle;align-item:left;padding-left:20px;padding-right:20px&#x27;&gt;&lt;li&gt;Confirmed: 271090&lt;/li&gt;&lt;li&gt;Deaths:   6881&lt;/li&gt;&lt;li&gt;Death Rate: 2.54&lt;/li&gt;&lt;/ul&gt;&lt;/div&gt;\n",
       "                 &lt;/div&gt;`,\n",
       "                {&quot;sticky&quot;: true}\n",
       "            );\n",
       "        \n",
       "    \n",
       "            var circle_1ceea9291c23807fd411bedcff04c575 = L.circle(\n",
       "                [42.5063, 1.5218],\n",
       "                {&quot;bubblingMouseEvents&quot;: true, &quot;color&quot;: &quot;red&quot;, &quot;dashArray&quot;: null, &quot;dashOffset&quot;: null, &quot;fill&quot;: true, &quot;fillColor&quot;: &quot;indigo&quot;, &quot;fillOpacity&quot;: 0.2, &quot;fillRule&quot;: &quot;evenodd&quot;, &quot;lineCap&quot;: &quot;round&quot;, &quot;lineJoin&quot;: &quot;round&quot;, &quot;opacity&quot;: 1.0, &quot;radius&quot;: 51000.0, &quot;stroke&quot;: true, &quot;weight&quot;: 3}\n",
       "            ).addTo(map_01f8206293aa103112e128106147057e);\n",
       "        \n",
       "    \n",
       "            circle_1ceea9291c23807fd411bedcff04c575.bindTooltip(\n",
       "                `&lt;div&gt;\n",
       "                     &lt;div style=&#x27;margin: 0; background-color: black; color: white;&#x27;&gt;&lt;h4 style=&#x27;text-align:center;font-weight: bold&#x27;&gt;Andorra&lt;/h4&gt;&lt;hr style=&#x27;margin:10px;color: white;&#x27;&gt;&lt;ul style=&#x27;color: white;;list-style-type:circle;align-item:left;padding-left:20px;padding-right:20px&#x27;&gt;&lt;li&gt;Confirmed: 47219&lt;/li&gt;&lt;li&gt;Deaths:   157&lt;/li&gt;&lt;li&gt;Death Rate: 0.33&lt;/li&gt;&lt;/ul&gt;&lt;/div&gt;\n",
       "                 &lt;/div&gt;`,\n",
       "                {&quot;sticky&quot;: true}\n",
       "            );\n",
       "        \n",
       "    \n",
       "            var circle_2a07706aeb7a6af4589b53ca46ac1715 = L.circle(\n",
       "                [-11.2027, 17.8739],\n",
       "                {&quot;bubblingMouseEvents&quot;: true, &quot;color&quot;: &quot;red&quot;, &quot;dashArray&quot;: null, &quot;dashOffset&quot;: null, &quot;fill&quot;: true, &quot;fillColor&quot;: &quot;indigo&quot;, &quot;fillOpacity&quot;: 0.2, &quot;fillRule&quot;: &quot;evenodd&quot;, &quot;lineCap&quot;: &quot;round&quot;, &quot;lineJoin&quot;: &quot;round&quot;, &quot;opacity&quot;: 1.0, &quot;radius&quot;: 56000.0, &quot;stroke&quot;: true, &quot;weight&quot;: 3}\n",
       "            ).addTo(map_01f8206293aa103112e128106147057e);\n",
       "        \n",
       "    \n",
       "            circle_2a07706aeb7a6af4589b53ca46ac1715.bindTooltip(\n",
       "                `&lt;div&gt;\n",
       "                     &lt;div style=&#x27;margin: 0; background-color: black; color: white;&#x27;&gt;&lt;h4 style=&#x27;text-align:center;font-weight: bold&#x27;&gt;Angola&lt;/h4&gt;&lt;hr style=&#x27;margin:10px;color: white;&#x27;&gt;&lt;ul style=&#x27;color: white;;list-style-type:circle;align-item:left;padding-left:20px;padding-right:20px&#x27;&gt;&lt;li&gt;Confirmed: 104676&lt;/li&gt;&lt;li&gt;Deaths:   1924&lt;/li&gt;&lt;li&gt;Death Rate: 1.84&lt;/li&gt;&lt;/ul&gt;&lt;/div&gt;\n",
       "                 &lt;/div&gt;`,\n",
       "                {&quot;sticky&quot;: true}\n",
       "            );\n",
       "        \n",
       "    \n",
       "            var circle_fe9acad5605d1eaa2ad4d70d4830837a = L.circle(\n",
       "                [-71.9499, 23.347],\n",
       "                {&quot;bubblingMouseEvents&quot;: true, &quot;color&quot;: &quot;red&quot;, &quot;dashArray&quot;: null, &quot;dashOffset&quot;: null, &quot;fill&quot;: true, &quot;fillColor&quot;: &quot;indigo&quot;, &quot;fillOpacity&quot;: 0.2, &quot;fillRule&quot;: &quot;evenodd&quot;, &quot;lineCap&quot;: &quot;round&quot;, &quot;lineJoin&quot;: &quot;round&quot;, &quot;opacity&quot;: 1.0, &quot;radius&quot;: 11000.0, &quot;stroke&quot;: true, &quot;weight&quot;: 3}\n",
       "            ).addTo(map_01f8206293aa103112e128106147057e);\n",
       "        \n",
       "    \n",
       "            circle_fe9acad5605d1eaa2ad4d70d4830837a.bindTooltip(\n",
       "                `&lt;div&gt;\n",
       "                     &lt;div style=&#x27;margin: 0; background-color: black; color: white;&#x27;&gt;&lt;h4 style=&#x27;text-align:center;font-weight: bold&#x27;&gt;Antarctica&lt;/h4&gt;&lt;hr style=&#x27;margin:10px;color: white;&#x27;&gt;&lt;ul style=&#x27;color: white;;list-style-type:circle;align-item:left;padding-left:20px;padding-right:20px&#x27;&gt;&lt;li&gt;Confirmed: 11&lt;/li&gt;&lt;li&gt;Deaths:   0&lt;/li&gt;&lt;li&gt;Death Rate: 0.0&lt;/li&gt;&lt;/ul&gt;&lt;/div&gt;\n",
       "                 &lt;/div&gt;`,\n",
       "                {&quot;sticky&quot;: true}\n",
       "            );\n",
       "        \n",
       "    \n",
       "            var circle_726b7a6629c65f9ad9a6dfd52f6d96ac = L.circle(\n",
       "                [17.0608, -61.7964],\n",
       "                {&quot;bubblingMouseEvents&quot;: true, &quot;color&quot;: &quot;red&quot;, &quot;dashArray&quot;: null, &quot;dashOffset&quot;: null, &quot;fill&quot;: true, &quot;fillColor&quot;: &quot;indigo&quot;, &quot;fillOpacity&quot;: 0.2, &quot;fillRule&quot;: &quot;evenodd&quot;, &quot;lineCap&quot;: &quot;round&quot;, &quot;lineJoin&quot;: &quot;round&quot;, &quot;opacity&quot;: 1.0, &quot;radius&quot;: 46000.0, &quot;stroke&quot;: true, &quot;weight&quot;: 3}\n",
       "            ).addTo(map_01f8206293aa103112e128106147057e);\n",
       "        \n",
       "    \n",
       "            circle_726b7a6629c65f9ad9a6dfd52f6d96ac.bindTooltip(\n",
       "                `&lt;div&gt;\n",
       "                     &lt;div style=&#x27;margin: 0; background-color: black; color: white;&#x27;&gt;&lt;h4 style=&#x27;text-align:center;font-weight: bold&#x27;&gt;Antigua and Barbuda&lt;/h4&gt;&lt;hr style=&#x27;margin:10px;color: white;&#x27;&gt;&lt;ul style=&#x27;color: white;;list-style-type:circle;align-item:left;padding-left:20px;padding-right:20px&#x27;&gt;&lt;li&gt;Confirmed: 9106&lt;/li&gt;&lt;li&gt;Deaths:   146&lt;/li&gt;&lt;li&gt;Death Rate: 1.6&lt;/li&gt;&lt;/ul&gt;&lt;/div&gt;\n",
       "                 &lt;/div&gt;`,\n",
       "                {&quot;sticky&quot;: true}\n",
       "            );\n",
       "        \n",
       "    \n",
       "            var circle_43497d47c3df68c04021cfb41abd72a7 = L.circle(\n",
       "                [-38.4161, -63.6167],\n",
       "                {&quot;bubblingMouseEvents&quot;: true, &quot;color&quot;: &quot;red&quot;, &quot;dashArray&quot;: null, &quot;dashOffset&quot;: null, &quot;fill&quot;: true, &quot;fillColor&quot;: &quot;indigo&quot;, &quot;fillOpacity&quot;: 0.2, &quot;fillRule&quot;: &quot;evenodd&quot;, &quot;lineCap&quot;: &quot;round&quot;, &quot;lineJoin&quot;: &quot;round&quot;, &quot;opacity&quot;: 1.0, &quot;radius&quot;: 81000.0, &quot;stroke&quot;: true, &quot;weight&quot;: 3}\n",
       "            ).addTo(map_01f8206293aa103112e128106147057e);\n",
       "        \n",
       "    \n",
       "            circle_43497d47c3df68c04021cfb41abd72a7.bindTooltip(\n",
       "                `&lt;div&gt;\n",
       "                     &lt;div style=&#x27;margin: 0; background-color: black; color: white;&#x27;&gt;&lt;h4 style=&#x27;text-align:center;font-weight: bold&#x27;&gt;Argentina&lt;/h4&gt;&lt;hr style=&#x27;margin:10px;color: white;&#x27;&gt;&lt;ul style=&#x27;color: white;;list-style-type:circle;align-item:left;padding-left:20px;padding-right:20px&#x27;&gt;&lt;li&gt;Confirmed: 9727247&lt;/li&gt;&lt;li&gt;Deaths:   130025&lt;/li&gt;&lt;li&gt;Death Rate: 1.34&lt;/li&gt;&lt;/ul&gt;&lt;/div&gt;\n",
       "                 &lt;/div&gt;`,\n",
       "                {&quot;sticky&quot;: true}\n",
       "            );\n",
       "        \n",
       "    \n",
       "            var circle_d915d0125b1a6b59c7dd49ee2b7aed6f = L.circle(\n",
       "                [40.0691, 45.0382],\n",
       "                {&quot;bubblingMouseEvents&quot;: true, &quot;color&quot;: &quot;red&quot;, &quot;dashArray&quot;: null, &quot;dashOffset&quot;: null, &quot;fill&quot;: true, &quot;fillColor&quot;: &quot;indigo&quot;, &quot;fillOpacity&quot;: 0.2, &quot;fillRule&quot;: &quot;evenodd&quot;, &quot;lineCap&quot;: &quot;round&quot;, &quot;lineJoin&quot;: &quot;round&quot;, &quot;opacity&quot;: 1.0, &quot;radius&quot;: 66000.0, &quot;stroke&quot;: true, &quot;weight&quot;: 3}\n",
       "            ).addTo(map_01f8206293aa103112e128106147057e);\n",
       "        \n",
       "    \n",
       "            circle_d915d0125b1a6b59c7dd49ee2b7aed6f.bindTooltip(\n",
       "                `&lt;div&gt;\n",
       "                     &lt;div style=&#x27;margin: 0; background-color: black; color: white;&#x27;&gt;&lt;h4 style=&#x27;text-align:center;font-weight: bold&#x27;&gt;Armenia&lt;/h4&gt;&lt;hr style=&#x27;margin:10px;color: white;&#x27;&gt;&lt;ul style=&#x27;color: white;;list-style-type:circle;align-item:left;padding-left:20px;padding-right:20px&#x27;&gt;&lt;li&gt;Confirmed: 445737&lt;/li&gt;&lt;li&gt;Deaths:   8710&lt;/li&gt;&lt;li&gt;Death Rate: 1.95&lt;/li&gt;&lt;/ul&gt;&lt;/div&gt;\n",
       "                 &lt;/div&gt;`,\n",
       "                {&quot;sticky&quot;: true}\n",
       "            );\n",
       "        \n",
       "    \n",
       "            var circle_cdaa56b4b24c732c1d33f4ab7c922f3d = L.circle(\n",
       "                [-35.4735, 149.0124],\n",
       "                {&quot;bubblingMouseEvents&quot;: true, &quot;color&quot;: &quot;red&quot;, &quot;dashArray&quot;: null, &quot;dashOffset&quot;: null, &quot;fill&quot;: true, &quot;fillColor&quot;: &quot;indigo&quot;, &quot;fillOpacity&quot;: 0.2, &quot;fillRule&quot;: &quot;evenodd&quot;, &quot;lineCap&quot;: &quot;round&quot;, &quot;lineJoin&quot;: &quot;round&quot;, &quot;opacity&quot;: 1.0, &quot;radius&quot;: 61000.0, &quot;stroke&quot;: true, &quot;weight&quot;: 3}\n",
       "            ).addTo(map_01f8206293aa103112e128106147057e);\n",
       "        \n",
       "    \n",
       "            circle_cdaa56b4b24c732c1d33f4ab7c922f3d.bindTooltip(\n",
       "                `&lt;div&gt;\n",
       "                     &lt;div style=&#x27;margin: 0; background-color: black; color: white;&#x27;&gt;&lt;h4 style=&#x27;text-align:center;font-weight: bold&#x27;&gt;Australia&lt;/h4&gt;&lt;hr style=&#x27;margin:10px;color: white;&#x27;&gt;&lt;ul style=&#x27;color: white;;list-style-type:circle;align-item:left;padding-left:20px;padding-right:20px&#x27;&gt;&lt;li&gt;Confirmed: 209414&lt;/li&gt;&lt;li&gt;Deaths:   129&lt;/li&gt;&lt;li&gt;Death Rate: 0.06&lt;/li&gt;&lt;/ul&gt;&lt;/div&gt;\n",
       "                 &lt;/div&gt;`,\n",
       "                {&quot;sticky&quot;: true}\n",
       "            );\n",
       "        \n",
       "    \n",
       "            var circle_b6f75d458ce28100045f4ae5d505b225 = L.circle(\n",
       "                [-33.8688, 151.2093],\n",
       "                {&quot;bubblingMouseEvents&quot;: true, &quot;color&quot;: &quot;red&quot;, &quot;dashArray&quot;: null, &quot;dashOffset&quot;: null, &quot;fill&quot;: true, &quot;fillColor&quot;: &quot;indigo&quot;, &quot;fillOpacity&quot;: 0.2, &quot;fillRule&quot;: &quot;evenodd&quot;, &quot;lineCap&quot;: &quot;round&quot;, &quot;lineJoin&quot;: &quot;round&quot;, &quot;opacity&quot;: 1.0, &quot;radius&quot;: 76000.0, &quot;stroke&quot;: true, &quot;weight&quot;: 3}\n",
       "            ).addTo(map_01f8206293aa103112e128106147057e);\n",
       "        \n",
       "    \n",
       "            circle_b6f75d458ce28100045f4ae5d505b225.bindTooltip(\n",
       "                `&lt;div&gt;\n",
       "                     &lt;div style=&#x27;margin: 0; background-color: black; color: white;&#x27;&gt;&lt;h4 style=&#x27;text-align:center;font-weight: bold&#x27;&gt;Australia&lt;/h4&gt;&lt;hr style=&#x27;margin:10px;color: white;&#x27;&gt;&lt;ul style=&#x27;color: white;;list-style-type:circle;align-item:left;padding-left:20px;padding-right:20px&#x27;&gt;&lt;li&gt;Confirmed: 3640480&lt;/li&gt;&lt;li&gt;Deaths:   5540&lt;/li&gt;&lt;li&gt;Death Rate: 0.15&lt;/li&gt;&lt;/ul&gt;&lt;/div&gt;\n",
       "                 &lt;/div&gt;`,\n",
       "                {&quot;sticky&quot;: true}\n",
       "            );\n",
       "        \n",
       "    \n",
       "            var circle_9731bcb3684fc0f31f433c24c4c01746 = L.circle(\n",
       "                [-12.4634, 130.8456],\n",
       "                {&quot;bubblingMouseEvents&quot;: true, &quot;color&quot;: &quot;red&quot;, &quot;dashArray&quot;: null, &quot;dashOffset&quot;: null, &quot;fill&quot;: true, &quot;fillColor&quot;: &quot;indigo&quot;, &quot;fillOpacity&quot;: 0.2, &quot;fillRule&quot;: &quot;evenodd&quot;, &quot;lineCap&quot;: &quot;round&quot;, &quot;lineJoin&quot;: &quot;round&quot;, &quot;opacity&quot;: 1.0, &quot;radius&quot;: 56000.0, &quot;stroke&quot;: true, &quot;weight&quot;: 3}\n",
       "            ).addTo(map_01f8206293aa103112e128106147057e);\n",
       "        \n",
       "    \n",
       "            circle_9731bcb3684fc0f31f433c24c4c01746.bindTooltip(\n",
       "                `&lt;div&gt;\n",
       "                     &lt;div style=&#x27;margin: 0; background-color: black; color: white;&#x27;&gt;&lt;h4 style=&#x27;text-align:center;font-weight: bold&#x27;&gt;Australia&lt;/h4&gt;&lt;hr style=&#x27;margin:10px;color: white;&#x27;&gt;&lt;ul style=&#x27;color: white;;list-style-type:circle;align-item:left;padding-left:20px;padding-right:20px&#x27;&gt;&lt;li&gt;Confirmed: 99737&lt;/li&gt;&lt;li&gt;Deaths:   79&lt;/li&gt;&lt;li&gt;Death Rate: 0.08&lt;/li&gt;&lt;/ul&gt;&lt;/div&gt;\n",
       "                 &lt;/div&gt;`,\n",
       "                {&quot;sticky&quot;: true}\n",
       "            );\n",
       "        \n",
       "    \n",
       "            var circle_3c916a482256e7474336050f5586faa1 = L.circle(\n",
       "                [-27.4698, 153.0251],\n",
       "                {&quot;bubblingMouseEvents&quot;: true, &quot;color&quot;: &quot;red&quot;, &quot;dashArray&quot;: null, &quot;dashOffset&quot;: null, &quot;fill&quot;: true, &quot;fillColor&quot;: &quot;indigo&quot;, &quot;fillOpacity&quot;: 0.2, &quot;fillRule&quot;: &quot;evenodd&quot;, &quot;lineCap&quot;: &quot;round&quot;, &quot;lineJoin&quot;: &quot;round&quot;, &quot;opacity&quot;: 1.0, &quot;radius&quot;: 71000.0, &quot;stroke&quot;: true, &quot;weight&quot;: 3}\n",
       "            ).addTo(map_01f8206293aa103112e128106147057e);\n",
       "        \n",
       "    \n",
       "            circle_3c916a482256e7474336050f5586faa1.bindTooltip(\n",
       "                `&lt;div&gt;\n",
       "                     &lt;div style=&#x27;margin: 0; background-color: black; color: white;&#x27;&gt;&lt;h4 style=&#x27;text-align:center;font-weight: bold&#x27;&gt;Australia&lt;/h4&gt;&lt;hr style=&#x27;margin:10px;color: white;&#x27;&gt;&lt;ul style=&#x27;color: white;;list-style-type:circle;align-item:left;padding-left:20px;padding-right:20px&#x27;&gt;&lt;li&gt;Confirmed: 1693178&lt;/li&gt;&lt;li&gt;Deaths:   2331&lt;/li&gt;&lt;li&gt;Death Rate: 0.14&lt;/li&gt;&lt;/ul&gt;&lt;/div&gt;\n",
       "                 &lt;/div&gt;`,\n",
       "                {&quot;sticky&quot;: true}\n",
       "            );\n",
       "        \n",
       "    \n",
       "            var circle_8d62696973bb02da823cf1e9941fffd5 = L.circle(\n",
       "                [-34.9285, 138.6007],\n",
       "                {&quot;bubblingMouseEvents&quot;: true, &quot;color&quot;: &quot;red&quot;, &quot;dashArray&quot;: null, &quot;dashOffset&quot;: null, &quot;fill&quot;: true, &quot;fillColor&quot;: &quot;indigo&quot;, &quot;fillOpacity&quot;: 0.2, &quot;fillRule&quot;: &quot;evenodd&quot;, &quot;lineCap&quot;: &quot;round&quot;, &quot;lineJoin&quot;: &quot;round&quot;, &quot;opacity&quot;: 1.0, &quot;radius&quot;: 66000.0, &quot;stroke&quot;: true, &quot;weight&quot;: 3}\n",
       "            ).addTo(map_01f8206293aa103112e128106147057e);\n",
       "        \n",
       "    \n",
       "            circle_8d62696973bb02da823cf1e9941fffd5.bindTooltip(\n",
       "                `&lt;div&gt;\n",
       "                     &lt;div style=&#x27;margin: 0; background-color: black; color: white;&#x27;&gt;&lt;h4 style=&#x27;text-align:center;font-weight: bold&#x27;&gt;Australia&lt;/h4&gt;&lt;hr style=&#x27;margin:10px;color: white;&#x27;&gt;&lt;ul style=&#x27;color: white;;list-style-type:circle;align-item:left;padding-left:20px;padding-right:20px&#x27;&gt;&lt;li&gt;Confirmed: 809861&lt;/li&gt;&lt;li&gt;Deaths:   1067&lt;/li&gt;&lt;li&gt;Death Rate: 0.13&lt;/li&gt;&lt;/ul&gt;&lt;/div&gt;\n",
       "                 &lt;/div&gt;`,\n",
       "                {&quot;sticky&quot;: true}\n",
       "            );\n",
       "        \n",
       "    \n",
       "            var circle_957d24ba21c241e3a04342e53a22f09e = L.circle(\n",
       "                [-42.8821, 147.3272],\n",
       "                {&quot;bubblingMouseEvents&quot;: true, &quot;color&quot;: &quot;red&quot;, &quot;dashArray&quot;: null, &quot;dashOffset&quot;: null, &quot;fill&quot;: true, &quot;fillColor&quot;: &quot;indigo&quot;, &quot;fillOpacity&quot;: 0.2, &quot;fillRule&quot;: &quot;evenodd&quot;, &quot;lineCap&quot;: &quot;round&quot;, &quot;lineJoin&quot;: &quot;round&quot;, &quot;opacity&quot;: 1.0, &quot;radius&quot;: 61000.0, &quot;stroke&quot;: true, &quot;weight&quot;: 3}\n",
       "            ).addTo(map_01f8206293aa103112e128106147057e);\n",
       "        \n",
       "    \n",
       "            circle_957d24ba21c241e3a04342e53a22f09e.bindTooltip(\n",
       "                `&lt;div&gt;\n",
       "                     &lt;div style=&#x27;margin: 0; background-color: black; color: white;&#x27;&gt;&lt;h4 style=&#x27;text-align:center;font-weight: bold&#x27;&gt;Australia&lt;/h4&gt;&lt;hr style=&#x27;margin:10px;color: white;&#x27;&gt;&lt;ul style=&#x27;color: white;;list-style-type:circle;align-item:left;padding-left:20px;padding-right:20px&#x27;&gt;&lt;li&gt;Confirmed: 260950&lt;/li&gt;&lt;li&gt;Deaths:   201&lt;/li&gt;&lt;li&gt;Death Rate: 0.08&lt;/li&gt;&lt;/ul&gt;&lt;/div&gt;\n",
       "                 &lt;/div&gt;`,\n",
       "                {&quot;sticky&quot;: true}\n",
       "            );\n",
       "        \n",
       "    \n",
       "            var circle_141609990ab7f32b9aef85a39e3bb172 = L.circle(\n",
       "                [-37.8136, 144.9631],\n",
       "                {&quot;bubblingMouseEvents&quot;: true, &quot;color&quot;: &quot;red&quot;, &quot;dashArray&quot;: null, &quot;dashOffset&quot;: null, &quot;fill&quot;: true, &quot;fillColor&quot;: &quot;indigo&quot;, &quot;fillOpacity&quot;: 0.2, &quot;fillRule&quot;: &quot;evenodd&quot;, &quot;lineCap&quot;: &quot;round&quot;, &quot;lineJoin&quot;: &quot;round&quot;, &quot;opacity&quot;: 1.0, &quot;radius&quot;: 71000.0, &quot;stroke&quot;: true, &quot;weight&quot;: 3}\n",
       "            ).addTo(map_01f8206293aa103112e128106147057e);\n",
       "        \n",
       "    \n",
       "            circle_141609990ab7f32b9aef85a39e3bb172.bindTooltip(\n",
       "                `&lt;div&gt;\n",
       "                     &lt;div style=&#x27;margin: 0; background-color: black; color: white;&#x27;&gt;&lt;h4 style=&#x27;text-align:center;font-weight: bold&#x27;&gt;Australia&lt;/h4&gt;&lt;hr style=&#x27;margin:10px;color: white;&#x27;&gt;&lt;ul style=&#x27;color: white;;list-style-type:circle;align-item:left;padding-left:20px;padding-right:20px&#x27;&gt;&lt;li&gt;Confirmed: 2737064&lt;/li&gt;&lt;li&gt;Deaths:   6040&lt;/li&gt;&lt;li&gt;Death Rate: 0.22&lt;/li&gt;&lt;/ul&gt;&lt;/div&gt;\n",
       "                 &lt;/div&gt;`,\n",
       "                {&quot;sticky&quot;: true}\n",
       "            );\n",
       "        \n",
       "    \n",
       "            var circle_00d5a4cfc8d9a100c707dc2e1cad8984 = L.circle(\n",
       "                [-31.9505, 115.8605],\n",
       "                {&quot;bubblingMouseEvents&quot;: true, &quot;color&quot;: &quot;red&quot;, &quot;dashArray&quot;: null, &quot;dashOffset&quot;: null, &quot;fill&quot;: true, &quot;fillColor&quot;: &quot;indigo&quot;, &quot;fillOpacity&quot;: 0.2, &quot;fillRule&quot;: &quot;evenodd&quot;, &quot;lineCap&quot;: &quot;round&quot;, &quot;lineJoin&quot;: &quot;round&quot;, &quot;opacity&quot;: 1.0, &quot;radius&quot;: 71000.0, &quot;stroke&quot;: true, &quot;weight&quot;: 3}\n",
       "            ).addTo(map_01f8206293aa103112e128106147057e);\n",
       "        \n",
       "    \n",
       "            circle_00d5a4cfc8d9a100c707dc2e1cad8984.bindTooltip(\n",
       "                `&lt;div&gt;\n",
       "                     &lt;div style=&#x27;margin: 0; background-color: black; color: white;&#x27;&gt;&lt;h4 style=&#x27;text-align:center;font-weight: bold&#x27;&gt;Australia&lt;/h4&gt;&lt;hr style=&#x27;margin:10px;color: white;&#x27;&gt;&lt;ul style=&#x27;color: white;;list-style-type:circle;align-item:left;padding-left:20px;padding-right:20px&#x27;&gt;&lt;li&gt;Confirmed: 1209214&lt;/li&gt;&lt;li&gt;Deaths:   750&lt;/li&gt;&lt;li&gt;Death Rate: 0.06&lt;/li&gt;&lt;/ul&gt;&lt;/div&gt;\n",
       "                 &lt;/div&gt;`,\n",
       "                {&quot;sticky&quot;: true}\n",
       "            );\n",
       "        \n",
       "    \n",
       "            var circle_3154e262f4994b8e919900a48cc6c8fa = L.circle(\n",
       "                [47.5162, 14.5501],\n",
       "                {&quot;bubblingMouseEvents&quot;: true, &quot;color&quot;: &quot;red&quot;, &quot;dashArray&quot;: null, &quot;dashOffset&quot;: null, &quot;fill&quot;: true, &quot;fillColor&quot;: &quot;indigo&quot;, &quot;fillOpacity&quot;: 0.2, &quot;fillRule&quot;: &quot;evenodd&quot;, &quot;lineCap&quot;: &quot;round&quot;, &quot;lineJoin&quot;: &quot;round&quot;, &quot;opacity&quot;: 1.0, &quot;radius&quot;: 76000.0, &quot;stroke&quot;: true, &quot;weight&quot;: 3}\n",
       "            ).addTo(map_01f8206293aa103112e128106147057e);\n",
       "        \n",
       "    \n",
       "            circle_3154e262f4994b8e919900a48cc6c8fa.bindTooltip(\n",
       "                `&lt;div&gt;\n",
       "                     &lt;div style=&#x27;margin: 0; background-color: black; color: white;&#x27;&gt;&lt;h4 style=&#x27;text-align:center;font-weight: bold&#x27;&gt;Austria&lt;/h4&gt;&lt;hr style=&#x27;margin:10px;color: white;&#x27;&gt;&lt;ul style=&#x27;color: white;;list-style-type:circle;align-item:left;padding-left:20px;padding-right:20px&#x27;&gt;&lt;li&gt;Confirmed: 5561633&lt;/li&gt;&lt;li&gt;Deaths:   21210&lt;/li&gt;&lt;li&gt;Death Rate: 0.38&lt;/li&gt;&lt;/ul&gt;&lt;/div&gt;\n",
       "                 &lt;/div&gt;`,\n",
       "                {&quot;sticky&quot;: true}\n",
       "            );\n",
       "        \n",
       "    \n",
       "            var circle_ab30a633c0a452b30387d970a544f6ed = L.circle(\n",
       "                [40.1431, 47.5769],\n",
       "                {&quot;bubblingMouseEvents&quot;: true, &quot;color&quot;: &quot;red&quot;, &quot;dashArray&quot;: null, &quot;dashOffset&quot;: null, &quot;fill&quot;: true, &quot;fillColor&quot;: &quot;indigo&quot;, &quot;fillOpacity&quot;: 0.2, &quot;fillRule&quot;: &quot;evenodd&quot;, &quot;lineCap&quot;: &quot;round&quot;, &quot;lineJoin&quot;: &quot;round&quot;, &quot;opacity&quot;: 1.0, &quot;radius&quot;: 66000.0, &quot;stroke&quot;: true, &quot;weight&quot;: 3}\n",
       "            ).addTo(map_01f8206293aa103112e128106147057e);\n",
       "        \n",
       "    \n",
       "            circle_ab30a633c0a452b30387d970a544f6ed.bindTooltip(\n",
       "                `&lt;div&gt;\n",
       "                     &lt;div style=&#x27;margin: 0; background-color: black; color: white;&#x27;&gt;&lt;h4 style=&#x27;text-align:center;font-weight: bold&#x27;&gt;Azerbaijan&lt;/h4&gt;&lt;hr style=&#x27;margin:10px;color: white;&#x27;&gt;&lt;ul style=&#x27;color: white;;list-style-type:circle;align-item:left;padding-left:20px;padding-right:20px&#x27;&gt;&lt;li&gt;Confirmed: 824337&lt;/li&gt;&lt;li&gt;Deaths:   9980&lt;/li&gt;&lt;li&gt;Death Rate: 1.21&lt;/li&gt;&lt;/ul&gt;&lt;/div&gt;\n",
       "                 &lt;/div&gt;`,\n",
       "                {&quot;sticky&quot;: true}\n",
       "            );\n",
       "        \n",
       "    \n",
       "            var circle_f06e64385a8c33e5f20b247b3c05e615 = L.circle(\n",
       "                [25.025885, -78.035889],\n",
       "                {&quot;bubblingMouseEvents&quot;: true, &quot;color&quot;: &quot;red&quot;, &quot;dashArray&quot;: null, &quot;dashOffset&quot;: null, &quot;fill&quot;: true, &quot;fillColor&quot;: &quot;indigo&quot;, &quot;fillOpacity&quot;: 0.2, &quot;fillRule&quot;: &quot;evenodd&quot;, &quot;lineCap&quot;: &quot;round&quot;, &quot;lineJoin&quot;: &quot;round&quot;, &quot;opacity&quot;: 1.0, &quot;radius&quot;: 51000.0, &quot;stroke&quot;: true, &quot;weight&quot;: 3}\n",
       "            ).addTo(map_01f8206293aa103112e128106147057e);\n",
       "        \n",
       "    \n",
       "            circle_f06e64385a8c33e5f20b247b3c05e615.bindTooltip(\n",
       "                `&lt;div&gt;\n",
       "                     &lt;div style=&#x27;margin: 0; background-color: black; color: white;&#x27;&gt;&lt;h4 style=&#x27;text-align:center;font-weight: bold&#x27;&gt;Bahamas&lt;/h4&gt;&lt;hr style=&#x27;margin:10px;color: white;&#x27;&gt;&lt;ul style=&#x27;color: white;;list-style-type:circle;align-item:left;padding-left:20px;padding-right:20px&#x27;&gt;&lt;li&gt;Confirmed: 37483&lt;/li&gt;&lt;li&gt;Deaths:   833&lt;/li&gt;&lt;li&gt;Death Rate: 2.22&lt;/li&gt;&lt;/ul&gt;&lt;/div&gt;\n",
       "                 &lt;/div&gt;`,\n",
       "                {&quot;sticky&quot;: true}\n",
       "            );\n",
       "        \n",
       "    \n",
       "            var circle_9c0d95d30ae203fc5cc0054794e82882 = L.circle(\n",
       "                [26.0275, 50.55],\n",
       "                {&quot;bubblingMouseEvents&quot;: true, &quot;color&quot;: &quot;red&quot;, &quot;dashArray&quot;: null, &quot;dashOffset&quot;: null, &quot;fill&quot;: true, &quot;fillColor&quot;: &quot;indigo&quot;, &quot;fillOpacity&quot;: 0.2, &quot;fillRule&quot;: &quot;evenodd&quot;, &quot;lineCap&quot;: &quot;round&quot;, &quot;lineJoin&quot;: &quot;round&quot;, &quot;opacity&quot;: 1.0, &quot;radius&quot;: 66000.0, &quot;stroke&quot;: true, &quot;weight&quot;: 3}\n",
       "            ).addTo(map_01f8206293aa103112e128106147057e);\n",
       "        \n",
       "    \n",
       "            circle_9c0d95d30ae203fc5cc0054794e82882.bindTooltip(\n",
       "                `&lt;div&gt;\n",
       "                     &lt;div style=&#x27;margin: 0; background-color: black; color: white;&#x27;&gt;&lt;h4 style=&#x27;text-align:center;font-weight: bold&#x27;&gt;Bahrain&lt;/h4&gt;&lt;hr style=&#x27;margin:10px;color: white;&#x27;&gt;&lt;ul style=&#x27;color: white;;list-style-type:circle;align-item:left;padding-left:20px;padding-right:20px&#x27;&gt;&lt;li&gt;Confirmed: 696332&lt;/li&gt;&lt;li&gt;Deaths:   1536&lt;/li&gt;&lt;li&gt;Death Rate: 0.22&lt;/li&gt;&lt;/ul&gt;&lt;/div&gt;\n",
       "                 &lt;/div&gt;`,\n",
       "                {&quot;sticky&quot;: true}\n",
       "            );\n",
       "        \n",
       "    \n",
       "            var circle_b82bd37497d2744793ef07c5b656de1f = L.circle(\n",
       "                [23.685, 90.3563],\n",
       "                {&quot;bubblingMouseEvents&quot;: true, &quot;color&quot;: &quot;red&quot;, &quot;dashArray&quot;: null, &quot;dashOffset&quot;: null, &quot;fill&quot;: true, &quot;fillColor&quot;: &quot;indigo&quot;, &quot;fillOpacity&quot;: 0.2, &quot;fillRule&quot;: &quot;evenodd&quot;, &quot;lineCap&quot;: &quot;round&quot;, &quot;lineJoin&quot;: &quot;round&quot;, &quot;opacity&quot;: 1.0, &quot;radius&quot;: 71000.0, &quot;stroke&quot;: true, &quot;weight&quot;: 3}\n",
       "            ).addTo(map_01f8206293aa103112e128106147057e);\n",
       "        \n",
       "    \n",
       "            circle_b82bd37497d2744793ef07c5b656de1f.bindTooltip(\n",
       "                `&lt;div&gt;\n",
       "                     &lt;div style=&#x27;margin: 0; background-color: black; color: white;&#x27;&gt;&lt;h4 style=&#x27;text-align:center;font-weight: bold&#x27;&gt;Bangladesh&lt;/h4&gt;&lt;hr style=&#x27;margin:10px;color: white;&#x27;&gt;&lt;ul style=&#x27;color: white;;list-style-type:circle;align-item:left;padding-left:20px;padding-right:20px&#x27;&gt;&lt;li&gt;Confirmed: 2036585&lt;/li&gt;&lt;li&gt;Deaths:   29433&lt;/li&gt;&lt;li&gt;Death Rate: 1.45&lt;/li&gt;&lt;/ul&gt;&lt;/div&gt;\n",
       "                 &lt;/div&gt;`,\n",
       "                {&quot;sticky&quot;: true}\n",
       "            );\n",
       "        \n",
       "    \n",
       "            var circle_607b7f5b038231a79025f3d3744fdfc3 = L.circle(\n",
       "                [13.1939, -59.5432],\n",
       "                {&quot;bubblingMouseEvents&quot;: true, &quot;color&quot;: &quot;red&quot;, &quot;dashArray&quot;: null, &quot;dashOffset&quot;: null, &quot;fill&quot;: true, &quot;fillColor&quot;: &quot;indigo&quot;, &quot;fillOpacity&quot;: 0.2, &quot;fillRule&quot;: &quot;evenodd&quot;, &quot;lineCap&quot;: &quot;round&quot;, &quot;lineJoin&quot;: &quot;round&quot;, &quot;opacity&quot;: 1.0, &quot;radius&quot;: 56000.0, &quot;stroke&quot;: true, &quot;weight&quot;: 3}\n",
       "            ).addTo(map_01f8206293aa103112e128106147057e);\n",
       "        \n",
       "    \n",
       "            circle_607b7f5b038231a79025f3d3744fdfc3.bindTooltip(\n",
       "                `&lt;div&gt;\n",
       "                     &lt;div style=&#x27;margin: 0; background-color: black; color: white;&#x27;&gt;&lt;h4 style=&#x27;text-align:center;font-weight: bold&#x27;&gt;Barbados&lt;/h4&gt;&lt;hr style=&#x27;margin:10px;color: white;&#x27;&gt;&lt;ul style=&#x27;color: white;;list-style-type:circle;align-item:left;padding-left:20px;padding-right:20px&#x27;&gt;&lt;li&gt;Confirmed: 104416&lt;/li&gt;&lt;li&gt;Deaths:   567&lt;/li&gt;&lt;li&gt;Death Rate: 0.54&lt;/li&gt;&lt;/ul&gt;&lt;/div&gt;\n",
       "                 &lt;/div&gt;`,\n",
       "                {&quot;sticky&quot;: true}\n",
       "            );\n",
       "        \n",
       "    \n",
       "            var circle_bf91da07690b8665ba99e5dfbea7c8c3 = L.circle(\n",
       "                [53.7098, 27.9534],\n",
       "                {&quot;bubblingMouseEvents&quot;: true, &quot;color&quot;: &quot;red&quot;, &quot;dashArray&quot;: null, &quot;dashOffset&quot;: null, &quot;fill&quot;: true, &quot;fillColor&quot;: &quot;indigo&quot;, &quot;fillOpacity&quot;: 0.2, &quot;fillRule&quot;: &quot;evenodd&quot;, &quot;lineCap&quot;: &quot;round&quot;, &quot;lineJoin&quot;: &quot;round&quot;, &quot;opacity&quot;: 1.0, &quot;radius&quot;: 66000.0, &quot;stroke&quot;: true, &quot;weight&quot;: 3}\n",
       "            ).addTo(map_01f8206293aa103112e128106147057e);\n",
       "        \n",
       "    \n",
       "            circle_bf91da07690b8665ba99e5dfbea7c8c3.bindTooltip(\n",
       "                `&lt;div&gt;\n",
       "                     &lt;div style=&#x27;margin: 0; background-color: black; color: white;&#x27;&gt;&lt;h4 style=&#x27;text-align:center;font-weight: bold&#x27;&gt;Belarus&lt;/h4&gt;&lt;hr style=&#x27;margin:10px;color: white;&#x27;&gt;&lt;ul style=&#x27;color: white;;list-style-type:circle;align-item:left;padding-left:20px;padding-right:20px&#x27;&gt;&lt;li&gt;Confirmed: 994037&lt;/li&gt;&lt;li&gt;Deaths:   7118&lt;/li&gt;&lt;li&gt;Death Rate: 0.72&lt;/li&gt;&lt;/ul&gt;&lt;/div&gt;\n",
       "                 &lt;/div&gt;`,\n",
       "                {&quot;sticky&quot;: true}\n",
       "            );\n",
       "        \n",
       "    \n",
       "            var circle_b6288bc0f5b02ff260041a5fbc2fb5d3 = L.circle(\n",
       "                [50.8333, 4.469936],\n",
       "                {&quot;bubblingMouseEvents&quot;: true, &quot;color&quot;: &quot;red&quot;, &quot;dashArray&quot;: null, &quot;dashOffset&quot;: null, &quot;fill&quot;: true, &quot;fillColor&quot;: &quot;indigo&quot;, &quot;fillOpacity&quot;: 0.2, &quot;fillRule&quot;: &quot;evenodd&quot;, &quot;lineCap&quot;: &quot;round&quot;, &quot;lineJoin&quot;: &quot;round&quot;, &quot;opacity&quot;: 1.0, &quot;radius&quot;: 76000.0, &quot;stroke&quot;: true, &quot;weight&quot;: 3}\n",
       "            ).addTo(map_01f8206293aa103112e128106147057e);\n",
       "        \n",
       "    \n",
       "            circle_b6288bc0f5b02ff260041a5fbc2fb5d3.bindTooltip(\n",
       "                `&lt;div&gt;\n",
       "                     &lt;div style=&#x27;margin: 0; background-color: black; color: white;&#x27;&gt;&lt;h4 style=&#x27;text-align:center;font-weight: bold&#x27;&gt;Belgium&lt;/h4&gt;&lt;hr style=&#x27;margin:10px;color: white;&#x27;&gt;&lt;ul style=&#x27;color: white;;list-style-type:circle;align-item:left;padding-left:20px;padding-right:20px&#x27;&gt;&lt;li&gt;Confirmed: 4639411&lt;/li&gt;&lt;li&gt;Deaths:   33061&lt;/li&gt;&lt;li&gt;Death Rate: 0.71&lt;/li&gt;&lt;/ul&gt;&lt;/div&gt;\n",
       "                 &lt;/div&gt;`,\n",
       "                {&quot;sticky&quot;: true}\n",
       "            );\n",
       "        \n",
       "    \n",
       "            var circle_cd2467647d17fc7a97e17f02b08505a6 = L.circle(\n",
       "                [17.1899, -88.4976],\n",
       "                {&quot;bubblingMouseEvents&quot;: true, &quot;color&quot;: &quot;red&quot;, &quot;dashArray&quot;: null, &quot;dashOffset&quot;: null, &quot;fill&quot;: true, &quot;fillColor&quot;: &quot;indigo&quot;, &quot;fillOpacity&quot;: 0.2, &quot;fillRule&quot;: &quot;evenodd&quot;, &quot;lineCap&quot;: &quot;round&quot;, &quot;lineJoin&quot;: &quot;round&quot;, &quot;opacity&quot;: 1.0, &quot;radius&quot;: 56000.0, &quot;stroke&quot;: true, &quot;weight&quot;: 3}\n",
       "            ).addTo(map_01f8206293aa103112e128106147057e);\n",
       "        \n",
       "    \n",
       "            circle_cd2467647d17fc7a97e17f02b08505a6.bindTooltip(\n",
       "                `&lt;div&gt;\n",
       "                     &lt;div style=&#x27;margin: 0; background-color: black; color: white;&#x27;&gt;&lt;h4 style=&#x27;text-align:center;font-weight: bold&#x27;&gt;Belize&lt;/h4&gt;&lt;hr style=&#x27;margin:10px;color: white;&#x27;&gt;&lt;ul style=&#x27;color: white;;list-style-type:circle;align-item:left;padding-left:20px;padding-right:20px&#x27;&gt;&lt;li&gt;Confirmed: 69048&lt;/li&gt;&lt;li&gt;Deaths:   688&lt;/li&gt;&lt;li&gt;Death Rate: 1.0&lt;/li&gt;&lt;/ul&gt;&lt;/div&gt;\n",
       "                 &lt;/div&gt;`,\n",
       "                {&quot;sticky&quot;: true}\n",
       "            );\n",
       "        \n",
       "    \n",
       "            var circle_f3fb92a22daee01a1232de45d9a24e8d = L.circle(\n",
       "                [9.3077, 2.3158],\n",
       "                {&quot;bubblingMouseEvents&quot;: true, &quot;color&quot;: &quot;red&quot;, &quot;dashArray&quot;: null, &quot;dashOffset&quot;: null, &quot;fill&quot;: true, &quot;fillColor&quot;: &quot;indigo&quot;, &quot;fillOpacity&quot;: 0.2, &quot;fillRule&quot;: &quot;evenodd&quot;, &quot;lineCap&quot;: &quot;round&quot;, &quot;lineJoin&quot;: &quot;round&quot;, &quot;opacity&quot;: 1.0, &quot;radius&quot;: 51000.0, &quot;stroke&quot;: true, &quot;weight&quot;: 3}\n",
       "            ).addTo(map_01f8206293aa103112e128106147057e);\n",
       "        \n",
       "    \n",
       "            circle_f3fb92a22daee01a1232de45d9a24e8d.bindTooltip(\n",
       "                `&lt;div&gt;\n",
       "                     &lt;div style=&#x27;margin: 0; background-color: black; color: white;&#x27;&gt;&lt;h4 style=&#x27;text-align:center;font-weight: bold&#x27;&gt;Benin&lt;/h4&gt;&lt;hr style=&#x27;margin:10px;color: white;&#x27;&gt;&lt;ul style=&#x27;color: white;;list-style-type:circle;align-item:left;padding-left:20px;padding-right:20px&#x27;&gt;&lt;li&gt;Confirmed: 27980&lt;/li&gt;&lt;li&gt;Deaths:   163&lt;/li&gt;&lt;li&gt;Death Rate: 0.58&lt;/li&gt;&lt;/ul&gt;&lt;/div&gt;\n",
       "                 &lt;/div&gt;`,\n",
       "                {&quot;sticky&quot;: true}\n",
       "            );\n",
       "        \n",
       "    \n",
       "            var circle_171fb587a165a9a49a713b5c220912b4 = L.circle(\n",
       "                [27.5142, 90.4336],\n",
       "                {&quot;bubblingMouseEvents&quot;: true, &quot;color&quot;: &quot;red&quot;, &quot;dashArray&quot;: null, &quot;dashOffset&quot;: null, &quot;fill&quot;: true, &quot;fillColor&quot;: &quot;indigo&quot;, &quot;fillOpacity&quot;: 0.2, &quot;fillRule&quot;: &quot;evenodd&quot;, &quot;lineCap&quot;: &quot;round&quot;, &quot;lineJoin&quot;: &quot;round&quot;, &quot;opacity&quot;: 1.0, &quot;radius&quot;: 56000.0, &quot;stroke&quot;: true, &quot;weight&quot;: 3}\n",
       "            ).addTo(map_01f8206293aa103112e128106147057e);\n",
       "        \n",
       "    \n",
       "            circle_171fb587a165a9a49a713b5c220912b4.bindTooltip(\n",
       "                `&lt;div&gt;\n",
       "                     &lt;div style=&#x27;margin: 0; background-color: black; color: white;&#x27;&gt;&lt;h4 style=&#x27;text-align:center;font-weight: bold&#x27;&gt;Bhutan&lt;/h4&gt;&lt;hr style=&#x27;margin:10px;color: white;&#x27;&gt;&lt;ul style=&#x27;color: white;;list-style-type:circle;align-item:left;padding-left:20px;padding-right:20px&#x27;&gt;&lt;li&gt;Confirmed: 62503&lt;/li&gt;&lt;li&gt;Deaths:   21&lt;/li&gt;&lt;li&gt;Death Rate: 0.03&lt;/li&gt;&lt;/ul&gt;&lt;/div&gt;\n",
       "                 &lt;/div&gt;`,\n",
       "                {&quot;sticky&quot;: true}\n",
       "            );\n",
       "        \n",
       "    \n",
       "            var circle_7517bec01e18b3a88efb5a051e6e17b0 = L.circle(\n",
       "                [-16.2902, -63.5887],\n",
       "                {&quot;bubblingMouseEvents&quot;: true, &quot;color&quot;: &quot;red&quot;, &quot;dashArray&quot;: null, &quot;dashOffset&quot;: null, &quot;fill&quot;: true, &quot;fillColor&quot;: &quot;indigo&quot;, &quot;fillOpacity&quot;: 0.2, &quot;fillRule&quot;: &quot;evenodd&quot;, &quot;lineCap&quot;: &quot;round&quot;, &quot;lineJoin&quot;: &quot;round&quot;, &quot;opacity&quot;: 1.0, &quot;radius&quot;: 66000.0, &quot;stroke&quot;: true, &quot;weight&quot;: 3}\n",
       "            ).addTo(map_01f8206293aa103112e128106147057e);\n",
       "        \n",
       "    \n",
       "            circle_7517bec01e18b3a88efb5a051e6e17b0.bindTooltip(\n",
       "                `&lt;div&gt;\n",
       "                     &lt;div style=&#x27;margin: 0; background-color: black; color: white;&#x27;&gt;&lt;h4 style=&#x27;text-align:center;font-weight: bold&#x27;&gt;Bolivia&lt;/h4&gt;&lt;hr style=&#x27;margin:10px;color: white;&#x27;&gt;&lt;ul style=&#x27;color: white;;list-style-type:circle;align-item:left;padding-left:20px;padding-right:20px&#x27;&gt;&lt;li&gt;Confirmed: 1111086&lt;/li&gt;&lt;li&gt;Deaths:   22247&lt;/li&gt;&lt;li&gt;Death Rate: 2.0&lt;/li&gt;&lt;/ul&gt;&lt;/div&gt;\n",
       "                 &lt;/div&gt;`,\n",
       "                {&quot;sticky&quot;: true}\n",
       "            );\n",
       "        \n",
       "    \n",
       "            var circle_8dfd7441b9f8461de9f381f2b794b060 = L.circle(\n",
       "                [43.9159, 17.6791],\n",
       "                {&quot;bubblingMouseEvents&quot;: true, &quot;color&quot;: &quot;red&quot;, &quot;dashArray&quot;: null, &quot;dashOffset&quot;: null, &quot;fill&quot;: true, &quot;fillColor&quot;: &quot;indigo&quot;, &quot;fillOpacity&quot;: 0.2, &quot;fillRule&quot;: &quot;evenodd&quot;, &quot;lineCap&quot;: &quot;round&quot;, &quot;lineJoin&quot;: &quot;round&quot;, &quot;opacity&quot;: 1.0, &quot;radius&quot;: 61000.0, &quot;stroke&quot;: true, &quot;weight&quot;: 3}\n",
       "            ).addTo(map_01f8206293aa103112e128106147057e);\n",
       "        \n",
       "    \n",
       "            circle_8dfd7441b9f8461de9f381f2b794b060.bindTooltip(\n",
       "                `&lt;div&gt;\n",
       "                     &lt;div style=&#x27;margin: 0; background-color: black; color: white;&#x27;&gt;&lt;h4 style=&#x27;text-align:center;font-weight: bold&#x27;&gt;Bosnia and Herzegovina&lt;/h4&gt;&lt;hr style=&#x27;margin:10px;color: white;&#x27;&gt;&lt;ul style=&#x27;color: white;;list-style-type:circle;align-item:left;padding-left:20px;padding-right:20px&#x27;&gt;&lt;li&gt;Confirmed: 400548&lt;/li&gt;&lt;li&gt;Deaths:   16202&lt;/li&gt;&lt;li&gt;Death Rate: 4.04&lt;/li&gt;&lt;/ul&gt;&lt;/div&gt;\n",
       "                 &lt;/div&gt;`,\n",
       "                {&quot;sticky&quot;: true}\n",
       "            );\n",
       "        \n",
       "    \n",
       "            var circle_61df3d0d1e5e30f9bf06ceed706b0a71 = L.circle(\n",
       "                [-22.3285, 24.6849],\n",
       "                {&quot;bubblingMouseEvents&quot;: true, &quot;color&quot;: &quot;red&quot;, &quot;dashArray&quot;: null, &quot;dashOffset&quot;: null, &quot;fill&quot;: true, &quot;fillColor&quot;: &quot;indigo&quot;, &quot;fillOpacity&quot;: 0.2, &quot;fillRule&quot;: &quot;evenodd&quot;, &quot;lineCap&quot;: &quot;round&quot;, &quot;lineJoin&quot;: &quot;round&quot;, &quot;opacity&quot;: 1.0, &quot;radius&quot;: 61000.0, &quot;stroke&quot;: true, &quot;weight&quot;: 3}\n",
       "            ).addTo(map_01f8206293aa103112e128106147057e);\n",
       "        \n",
       "    \n",
       "            circle_61df3d0d1e5e30f9bf06ceed706b0a71.bindTooltip(\n",
       "                `&lt;div&gt;\n",
       "                     &lt;div style=&#x27;margin: 0; background-color: black; color: white;&#x27;&gt;&lt;h4 style=&#x27;text-align:center;font-weight: bold&#x27;&gt;Botswana&lt;/h4&gt;&lt;hr style=&#x27;margin:10px;color: white;&#x27;&gt;&lt;ul style=&#x27;color: white;;list-style-type:circle;align-item:left;padding-left:20px;padding-right:20px&#x27;&gt;&lt;li&gt;Confirmed: 326633&lt;/li&gt;&lt;li&gt;Deaths:   2790&lt;/li&gt;&lt;li&gt;Death Rate: 0.85&lt;/li&gt;&lt;/ul&gt;&lt;/div&gt;\n",
       "                 &lt;/div&gt;`,\n",
       "                {&quot;sticky&quot;: true}\n",
       "            );\n",
       "        \n",
       "    \n",
       "            var circle_0d20cab7c5f4c130b0ffbba9f02c7dc7 = L.circle(\n",
       "                [-14.235, -51.9253],\n",
       "                {&quot;bubblingMouseEvents&quot;: true, &quot;color&quot;: &quot;red&quot;, &quot;dashArray&quot;: null, &quot;dashOffset&quot;: null, &quot;fill&quot;: true, &quot;fillColor&quot;: &quot;indigo&quot;, &quot;fillOpacity&quot;: 0.2, &quot;fillRule&quot;: &quot;evenodd&quot;, &quot;lineCap&quot;: &quot;round&quot;, &quot;lineJoin&quot;: &quot;round&quot;, &quot;opacity&quot;: 1.0, &quot;radius&quot;: 86000.0, &quot;stroke&quot;: true, &quot;weight&quot;: 3}\n",
       "            ).addTo(map_01f8206293aa103112e128106147057e);\n",
       "        \n",
       "    \n",
       "            circle_0d20cab7c5f4c130b0ffbba9f02c7dc7.bindTooltip(\n",
       "                `&lt;div&gt;\n",
       "                     &lt;div style=&#x27;margin: 0; background-color: black; color: white;&#x27;&gt;&lt;h4 style=&#x27;text-align:center;font-weight: bold&#x27;&gt;Brazil&lt;/h4&gt;&lt;hr style=&#x27;margin:10px;color: white;&#x27;&gt;&lt;ul style=&#x27;color: white;;list-style-type:circle;align-item:left;padding-left:20px;padding-right:20px&#x27;&gt;&lt;li&gt;Confirmed: 35227599&lt;/li&gt;&lt;li&gt;Deaths:   689665&lt;/li&gt;&lt;li&gt;Death Rate: 1.96&lt;/li&gt;&lt;/ul&gt;&lt;/div&gt;\n",
       "                 &lt;/div&gt;`,\n",
       "                {&quot;sticky&quot;: true}\n",
       "            );\n",
       "        \n",
       "    \n",
       "            var circle_e54981f2bd3391f2a4a78796bcd7e235 = L.circle(\n",
       "                [4.5353, 114.7277],\n",
       "                {&quot;bubblingMouseEvents&quot;: true, &quot;color&quot;: &quot;red&quot;, &quot;dashArray&quot;: null, &quot;dashOffset&quot;: null, &quot;fill&quot;: true, &quot;fillColor&quot;: &quot;indigo&quot;, &quot;fillOpacity&quot;: 0.2, &quot;fillRule&quot;: &quot;evenodd&quot;, &quot;lineCap&quot;: &quot;round&quot;, &quot;lineJoin&quot;: &quot;round&quot;, &quot;opacity&quot;: 1.0, &quot;radius&quot;: 61000.0, &quot;stroke&quot;: true, &quot;weight&quot;: 3}\n",
       "            ).addTo(map_01f8206293aa103112e128106147057e);\n",
       "        \n",
       "    \n",
       "            circle_e54981f2bd3391f2a4a78796bcd7e235.bindTooltip(\n",
       "                `&lt;div&gt;\n",
       "                     &lt;div style=&#x27;margin: 0; background-color: black; color: white;&#x27;&gt;&lt;h4 style=&#x27;text-align:center;font-weight: bold&#x27;&gt;Brunei&lt;/h4&gt;&lt;hr style=&#x27;margin:10px;color: white;&#x27;&gt;&lt;ul style=&#x27;color: white;;list-style-type:circle;align-item:left;padding-left:20px;padding-right:20px&#x27;&gt;&lt;li&gt;Confirmed: 257921&lt;/li&gt;&lt;li&gt;Deaths:   225&lt;/li&gt;&lt;li&gt;Death Rate: 0.09&lt;/li&gt;&lt;/ul&gt;&lt;/div&gt;\n",
       "                 &lt;/div&gt;`,\n",
       "                {&quot;sticky&quot;: true}\n",
       "            );\n",
       "        \n",
       "    \n",
       "            var circle_5afb7d946b1e0b72baeb9be65b665fc0 = L.circle(\n",
       "                [42.7339, 25.4858],\n",
       "                {&quot;bubblingMouseEvents&quot;: true, &quot;color&quot;: &quot;red&quot;, &quot;dashArray&quot;: null, &quot;dashOffset&quot;: null, &quot;fill&quot;: true, &quot;fillColor&quot;: &quot;indigo&quot;, &quot;fillOpacity&quot;: 0.2, &quot;fillRule&quot;: &quot;evenodd&quot;, &quot;lineCap&quot;: &quot;round&quot;, &quot;lineJoin&quot;: &quot;round&quot;, &quot;opacity&quot;: 1.0, &quot;radius&quot;: 71000.0, &quot;stroke&quot;: true, &quot;weight&quot;: 3}\n",
       "            ).addTo(map_01f8206293aa103112e128106147057e);\n",
       "        \n",
       "    \n",
       "            circle_5afb7d946b1e0b72baeb9be65b665fc0.bindTooltip(\n",
       "                `&lt;div&gt;\n",
       "                     &lt;div style=&#x27;margin: 0; background-color: black; color: white;&#x27;&gt;&lt;h4 style=&#x27;text-align:center;font-weight: bold&#x27;&gt;Bulgaria&lt;/h4&gt;&lt;hr style=&#x27;margin:10px;color: white;&#x27;&gt;&lt;ul style=&#x27;color: white;;list-style-type:circle;align-item:left;padding-left:20px;padding-right:20px&#x27;&gt;&lt;li&gt;Confirmed: 1287256&lt;/li&gt;&lt;li&gt;Deaths:   38039&lt;/li&gt;&lt;li&gt;Death Rate: 2.96&lt;/li&gt;&lt;/ul&gt;&lt;/div&gt;\n",
       "                 &lt;/div&gt;`,\n",
       "                {&quot;sticky&quot;: true}\n",
       "            );\n",
       "        \n",
       "    \n",
       "            var circle_f02648a7d8e8c6f3e367ee7118a0c0be = L.circle(\n",
       "                [12.2383, -1.5616],\n",
       "                {&quot;bubblingMouseEvents&quot;: true, &quot;color&quot;: &quot;red&quot;, &quot;dashArray&quot;: null, &quot;dashOffset&quot;: null, &quot;fill&quot;: true, &quot;fillColor&quot;: &quot;indigo&quot;, &quot;fillOpacity&quot;: 0.2, &quot;fillRule&quot;: &quot;evenodd&quot;, &quot;lineCap&quot;: &quot;round&quot;, &quot;lineJoin&quot;: &quot;round&quot;, &quot;opacity&quot;: 1.0, &quot;radius&quot;: 46000.0, &quot;stroke&quot;: true, &quot;weight&quot;: 3}\n",
       "            ).addTo(map_01f8206293aa103112e128106147057e);\n",
       "        \n",
       "    \n",
       "            circle_f02648a7d8e8c6f3e367ee7118a0c0be.bindTooltip(\n",
       "                `&lt;div&gt;\n",
       "                     &lt;div style=&#x27;margin: 0; background-color: black; color: white;&#x27;&gt;&lt;h4 style=&#x27;text-align:center;font-weight: bold&#x27;&gt;Burkina Faso&lt;/h4&gt;&lt;hr style=&#x27;margin:10px;color: white;&#x27;&gt;&lt;ul style=&#x27;color: white;;list-style-type:circle;align-item:left;padding-left:20px;padding-right:20px&#x27;&gt;&lt;li&gt;Confirmed: 21631&lt;/li&gt;&lt;li&gt;Deaths:   387&lt;/li&gt;&lt;li&gt;Death Rate: 1.79&lt;/li&gt;&lt;/ul&gt;&lt;/div&gt;\n",
       "                 &lt;/div&gt;`,\n",
       "                {&quot;sticky&quot;: true}\n",
       "            );\n",
       "        \n",
       "    \n",
       "            var circle_47dc5f054d9df61e61d17a1c5ed3fa21 = L.circle(\n",
       "                [21.9162, 95.956],\n",
       "                {&quot;bubblingMouseEvents&quot;: true, &quot;color&quot;: &quot;red&quot;, &quot;dashArray&quot;: null, &quot;dashOffset&quot;: null, &quot;fill&quot;: true, &quot;fillColor&quot;: &quot;indigo&quot;, &quot;fillOpacity&quot;: 0.2, &quot;fillRule&quot;: &quot;evenodd&quot;, &quot;lineCap&quot;: &quot;round&quot;, &quot;lineJoin&quot;: &quot;round&quot;, &quot;opacity&quot;: 1.0, &quot;radius&quot;: 66000.0, &quot;stroke&quot;: true, &quot;weight&quot;: 3}\n",
       "            ).addTo(map_01f8206293aa103112e128106147057e);\n",
       "        \n",
       "    \n",
       "            circle_47dc5f054d9df61e61d17a1c5ed3fa21.bindTooltip(\n",
       "                `&lt;div&gt;\n",
       "                     &lt;div style=&#x27;margin: 0; background-color: black; color: white;&#x27;&gt;&lt;h4 style=&#x27;text-align:center;font-weight: bold&#x27;&gt;Burma&lt;/h4&gt;&lt;hr style=&#x27;margin:10px;color: white;&#x27;&gt;&lt;ul style=&#x27;color: white;;list-style-type:circle;align-item:left;padding-left:20px;padding-right:20px&#x27;&gt;&lt;li&gt;Confirmed: 633245&lt;/li&gt;&lt;li&gt;Deaths:   19488&lt;/li&gt;&lt;li&gt;Death Rate: 3.08&lt;/li&gt;&lt;/ul&gt;&lt;/div&gt;\n",
       "                 &lt;/div&gt;`,\n",
       "                {&quot;sticky&quot;: true}\n",
       "            );\n",
       "        \n",
       "    \n",
       "            var circle_771b536742d33e44670df5b173367192 = L.circle(\n",
       "                [-3.3731, 29.9189],\n",
       "                {&quot;bubblingMouseEvents&quot;: true, &quot;color&quot;: &quot;red&quot;, &quot;dashArray&quot;: null, &quot;dashOffset&quot;: null, &quot;fill&quot;: true, &quot;fillColor&quot;: &quot;indigo&quot;, &quot;fillOpacity&quot;: 0.2, &quot;fillRule&quot;: &quot;evenodd&quot;, &quot;lineCap&quot;: &quot;round&quot;, &quot;lineJoin&quot;: &quot;round&quot;, &quot;opacity&quot;: 1.0, &quot;radius&quot;: 51000.0, &quot;stroke&quot;: true, &quot;weight&quot;: 3}\n",
       "            ).addTo(map_01f8206293aa103112e128106147057e);\n",
       "        \n",
       "    \n",
       "            circle_771b536742d33e44670df5b173367192.bindTooltip(\n",
       "                `&lt;div&gt;\n",
       "                     &lt;div style=&#x27;margin: 0; background-color: black; color: white;&#x27;&gt;&lt;h4 style=&#x27;text-align:center;font-weight: bold&#x27;&gt;Burundi&lt;/h4&gt;&lt;hr style=&#x27;margin:10px;color: white;&#x27;&gt;&lt;ul style=&#x27;color: white;;list-style-type:circle;align-item:left;padding-left:20px;padding-right:20px&#x27;&gt;&lt;li&gt;Confirmed: 51018&lt;/li&gt;&lt;li&gt;Deaths:   38&lt;/li&gt;&lt;li&gt;Death Rate: 0.07&lt;/li&gt;&lt;/ul&gt;&lt;/div&gt;\n",
       "                 &lt;/div&gt;`,\n",
       "                {&quot;sticky&quot;: true}\n",
       "            );\n",
       "        \n",
       "    \n",
       "            var circle_db46569a352560d4611ac0bb581e6c1a = L.circle(\n",
       "                [16.5388, -23.0418],\n",
       "                {&quot;bubblingMouseEvents&quot;: true, &quot;color&quot;: &quot;red&quot;, &quot;dashArray&quot;: null, &quot;dashOffset&quot;: null, &quot;fill&quot;: true, &quot;fillColor&quot;: &quot;indigo&quot;, &quot;fillOpacity&quot;: 0.2, &quot;fillRule&quot;: &quot;evenodd&quot;, &quot;lineCap&quot;: &quot;round&quot;, &quot;lineJoin&quot;: &quot;round&quot;, &quot;opacity&quot;: 1.0, &quot;radius&quot;: 56000.0, &quot;stroke&quot;: true, &quot;weight&quot;: 3}\n",
       "            ).addTo(map_01f8206293aa103112e128106147057e);\n",
       "        \n",
       "    \n",
       "            circle_db46569a352560d4611ac0bb581e6c1a.bindTooltip(\n",
       "                `&lt;div&gt;\n",
       "                     &lt;div style=&#x27;margin: 0; background-color: black; color: white;&#x27;&gt;&lt;h4 style=&#x27;text-align:center;font-weight: bold&#x27;&gt;Cabo Verde&lt;/h4&gt;&lt;hr style=&#x27;margin:10px;color: white;&#x27;&gt;&lt;ul style=&#x27;color: white;;list-style-type:circle;align-item:left;padding-left:20px;padding-right:20px&#x27;&gt;&lt;li&gt;Confirmed: 63037&lt;/li&gt;&lt;li&gt;Deaths:   412&lt;/li&gt;&lt;li&gt;Death Rate: 0.65&lt;/li&gt;&lt;/ul&gt;&lt;/div&gt;\n",
       "                 &lt;/div&gt;`,\n",
       "                {&quot;sticky&quot;: true}\n",
       "            );\n",
       "        \n",
       "    \n",
       "            var circle_e63b6e391c82e72db16cb9b2b29b33c5 = L.circle(\n",
       "                [11.55, 104.9167],\n",
       "                {&quot;bubblingMouseEvents&quot;: true, &quot;color&quot;: &quot;red&quot;, &quot;dashArray&quot;: null, &quot;dashOffset&quot;: null, &quot;fill&quot;: true, &quot;fillColor&quot;: &quot;indigo&quot;, &quot;fillOpacity&quot;: 0.2, &quot;fillRule&quot;: &quot;evenodd&quot;, &quot;lineCap&quot;: &quot;round&quot;, &quot;lineJoin&quot;: &quot;round&quot;, &quot;opacity&quot;: 1.0, &quot;radius&quot;: 56000.0, &quot;stroke&quot;: true, &quot;weight&quot;: 3}\n",
       "            ).addTo(map_01f8206293aa103112e128106147057e);\n",
       "        \n",
       "    \n",
       "            circle_e63b6e391c82e72db16cb9b2b29b33c5.bindTooltip(\n",
       "                `&lt;div&gt;\n",
       "                     &lt;div style=&#x27;margin: 0; background-color: black; color: white;&#x27;&gt;&lt;h4 style=&#x27;text-align:center;font-weight: bold&#x27;&gt;Cambodia&lt;/h4&gt;&lt;hr style=&#x27;margin:10px;color: white;&#x27;&gt;&lt;ul style=&#x27;color: white;;list-style-type:circle;align-item:left;padding-left:20px;padding-right:20px&#x27;&gt;&lt;li&gt;Confirmed: 138099&lt;/li&gt;&lt;li&gt;Deaths:   3056&lt;/li&gt;&lt;li&gt;Death Rate: 2.21&lt;/li&gt;&lt;/ul&gt;&lt;/div&gt;\n",
       "                 &lt;/div&gt;`,\n",
       "                {&quot;sticky&quot;: true}\n",
       "            );\n",
       "        \n",
       "    \n",
       "            var circle_78e86705048c80384a6348d290278b4e = L.circle(\n",
       "                [3.848, 11.5021],\n",
       "                {&quot;bubblingMouseEvents&quot;: true, &quot;color&quot;: &quot;red&quot;, &quot;dashArray&quot;: null, &quot;dashOffset&quot;: null, &quot;fill&quot;: true, &quot;fillColor&quot;: &quot;indigo&quot;, &quot;fillOpacity&quot;: 0.2, &quot;fillRule&quot;: &quot;evenodd&quot;, &quot;lineCap&quot;: &quot;round&quot;, &quot;lineJoin&quot;: &quot;round&quot;, &quot;opacity&quot;: 1.0, &quot;radius&quot;: 56000.0, &quot;stroke&quot;: true, &quot;weight&quot;: 3}\n",
       "            ).addTo(map_01f8206293aa103112e128106147057e);\n",
       "        \n",
       "    \n",
       "            circle_78e86705048c80384a6348d290278b4e.bindTooltip(\n",
       "                `&lt;div&gt;\n",
       "                     &lt;div style=&#x27;margin: 0; background-color: black; color: white;&#x27;&gt;&lt;h4 style=&#x27;text-align:center;font-weight: bold&#x27;&gt;Cameroon&lt;/h4&gt;&lt;hr style=&#x27;margin:10px;color: white;&#x27;&gt;&lt;ul style=&#x27;color: white;;list-style-type:circle;align-item:left;padding-left:20px;padding-right:20px&#x27;&gt;&lt;li&gt;Confirmed: 123993&lt;/li&gt;&lt;li&gt;Deaths:   1965&lt;/li&gt;&lt;li&gt;Death Rate: 1.58&lt;/li&gt;&lt;/ul&gt;&lt;/div&gt;\n",
       "                 &lt;/div&gt;`,\n",
       "                {&quot;sticky&quot;: true}\n",
       "            );\n",
       "        \n",
       "    \n",
       "            var circle_28f566b6f40f08c1cba0bd0c21eabf16 = L.circle(\n",
       "                [53.9333, -116.5765],\n",
       "                {&quot;bubblingMouseEvents&quot;: true, &quot;color&quot;: &quot;red&quot;, &quot;dashArray&quot;: null, &quot;dashOffset&quot;: null, &quot;fill&quot;: true, &quot;fillColor&quot;: &quot;indigo&quot;, &quot;fillOpacity&quot;: 0.2, &quot;fillRule&quot;: &quot;evenodd&quot;, &quot;lineCap&quot;: &quot;round&quot;, &quot;lineJoin&quot;: &quot;round&quot;, &quot;opacity&quot;: 1.0, &quot;radius&quot;: 66000.0, &quot;stroke&quot;: true, &quot;weight&quot;: 3}\n",
       "            ).addTo(map_01f8206293aa103112e128106147057e);\n",
       "        \n",
       "    \n",
       "            circle_28f566b6f40f08c1cba0bd0c21eabf16.bindTooltip(\n",
       "                `&lt;div&gt;\n",
       "                     &lt;div style=&#x27;margin: 0; background-color: black; color: white;&#x27;&gt;&lt;h4 style=&#x27;text-align:center;font-weight: bold&#x27;&gt;Canada&lt;/h4&gt;&lt;hr style=&#x27;margin:10px;color: white;&#x27;&gt;&lt;ul style=&#x27;color: white;;list-style-type:circle;align-item:left;padding-left:20px;padding-right:20px&#x27;&gt;&lt;li&gt;Confirmed: 619345&lt;/li&gt;&lt;li&gt;Deaths:   5216&lt;/li&gt;&lt;li&gt;Death Rate: 0.84&lt;/li&gt;&lt;/ul&gt;&lt;/div&gt;\n",
       "                 &lt;/div&gt;`,\n",
       "                {&quot;sticky&quot;: true}\n",
       "            );\n",
       "        \n",
       "    \n",
       "            var circle_c6ac41bf90f999bcae988f5d79aa192f = L.circle(\n",
       "                [53.7267, -127.6476],\n",
       "                {&quot;bubblingMouseEvents&quot;: true, &quot;color&quot;: &quot;red&quot;, &quot;dashArray&quot;: null, &quot;dashOffset&quot;: null, &quot;fill&quot;: true, &quot;fillColor&quot;: &quot;indigo&quot;, &quot;fillOpacity&quot;: 0.2, &quot;fillRule&quot;: &quot;evenodd&quot;, &quot;lineCap&quot;: &quot;round&quot;, &quot;lineJoin&quot;: &quot;round&quot;, &quot;opacity&quot;: 1.0, &quot;radius&quot;: 61000.0, &quot;stroke&quot;: true, &quot;weight&quot;: 3}\n",
       "            ).addTo(map_01f8206293aa103112e128106147057e);\n",
       "        \n",
       "    \n",
       "            circle_c6ac41bf90f999bcae988f5d79aa192f.bindTooltip(\n",
       "                `&lt;div&gt;\n",
       "                     &lt;div style=&#x27;margin: 0; background-color: black; color: white;&#x27;&gt;&lt;h4 style=&#x27;text-align:center;font-weight: bold&#x27;&gt;Canada&lt;/h4&gt;&lt;hr style=&#x27;margin:10px;color: white;&#x27;&gt;&lt;ul style=&#x27;color: white;;list-style-type:circle;align-item:left;padding-left:20px;padding-right:20px&#x27;&gt;&lt;li&gt;Confirmed: 389479&lt;/li&gt;&lt;li&gt;Deaths:   4642&lt;/li&gt;&lt;li&gt;Death Rate: 1.19&lt;/li&gt;&lt;/ul&gt;&lt;/div&gt;\n",
       "                 &lt;/div&gt;`,\n",
       "                {&quot;sticky&quot;: true}\n",
       "            );\n",
       "        \n",
       "    \n",
       "            var circle_bcfeacb44ea36f4ddac430b879e8d322 = L.circle(\n",
       "                [0.0, 0.0],\n",
       "                {&quot;bubblingMouseEvents&quot;: true, &quot;color&quot;: &quot;red&quot;, &quot;dashArray&quot;: null, &quot;dashOffset&quot;: null, &quot;fill&quot;: true, &quot;fillColor&quot;: &quot;indigo&quot;, &quot;fillOpacity&quot;: 0.2, &quot;fillRule&quot;: &quot;evenodd&quot;, &quot;lineCap&quot;: &quot;round&quot;, &quot;lineJoin&quot;: &quot;round&quot;, &quot;opacity&quot;: 1.0, &quot;radius&quot;: 1000.0, &quot;stroke&quot;: true, &quot;weight&quot;: 3}\n",
       "            ).addTo(map_01f8206293aa103112e128106147057e);\n",
       "        \n",
       "    \n",
       "            circle_bcfeacb44ea36f4ddac430b879e8d322.bindTooltip(\n",
       "                `&lt;div&gt;\n",
       "                     &lt;div style=&#x27;margin: 0; background-color: black; color: white;&#x27;&gt;&lt;h4 style=&#x27;text-align:center;font-weight: bold&#x27;&gt;Canada&lt;/h4&gt;&lt;hr style=&#x27;margin:10px;color: white;&#x27;&gt;&lt;ul style=&#x27;color: white;;list-style-type:circle;align-item:left;padding-left:20px;padding-right:20px&#x27;&gt;&lt;li&gt;Confirmed: 0&lt;/li&gt;&lt;li&gt;Deaths:   1&lt;/li&gt;&lt;li&gt;Death Rate: 100.0&lt;/li&gt;&lt;/ul&gt;&lt;/div&gt;\n",
       "                 &lt;/div&gt;`,\n",
       "                {&quot;sticky&quot;: true}\n",
       "            );\n",
       "        \n",
       "    \n",
       "            var circle_d78938fa4e4d3a1ad9d9e9dc57e13cb3 = L.circle(\n",
       "                [0.0, 0.0],\n",
       "                {&quot;bubblingMouseEvents&quot;: true, &quot;color&quot;: &quot;red&quot;, &quot;dashArray&quot;: null, &quot;dashOffset&quot;: null, &quot;fill&quot;: true, &quot;fillColor&quot;: &quot;indigo&quot;, &quot;fillOpacity&quot;: 0.2, &quot;fillRule&quot;: &quot;evenodd&quot;, &quot;lineCap&quot;: &quot;round&quot;, &quot;lineJoin&quot;: &quot;round&quot;, &quot;opacity&quot;: 1.0, &quot;radius&quot;: 11000.0, &quot;stroke&quot;: true, &quot;weight&quot;: 3}\n",
       "            ).addTo(map_01f8206293aa103112e128106147057e);\n",
       "        \n",
       "    \n",
       "            circle_d78938fa4e4d3a1ad9d9e9dc57e13cb3.bindTooltip(\n",
       "                `&lt;div&gt;\n",
       "                     &lt;div style=&#x27;margin: 0; background-color: black; color: white;&#x27;&gt;&lt;h4 style=&#x27;text-align:center;font-weight: bold&#x27;&gt;Canada&lt;/h4&gt;&lt;hr style=&#x27;margin:10px;color: white;&#x27;&gt;&lt;ul style=&#x27;color: white;;list-style-type:circle;align-item:left;padding-left:20px;padding-right:20px&#x27;&gt;&lt;li&gt;Confirmed: 13&lt;/li&gt;&lt;li&gt;Deaths:   0&lt;/li&gt;&lt;li&gt;Death Rate: 0.0&lt;/li&gt;&lt;/ul&gt;&lt;/div&gt;\n",
       "                 &lt;/div&gt;`,\n",
       "                {&quot;sticky&quot;: true}\n",
       "            );\n",
       "        \n",
       "    \n",
       "            var circle_21c77847eb1bd3705097d8cea7e3ead7 = L.circle(\n",
       "                [53.7609, -98.8139],\n",
       "                {&quot;bubblingMouseEvents&quot;: true, &quot;color&quot;: &quot;red&quot;, &quot;dashArray&quot;: null, &quot;dashOffset&quot;: null, &quot;fill&quot;: true, &quot;fillColor&quot;: &quot;indigo&quot;, &quot;fillOpacity&quot;: 0.2, &quot;fillRule&quot;: &quot;evenodd&quot;, &quot;lineCap&quot;: &quot;round&quot;, &quot;lineJoin&quot;: &quot;round&quot;, &quot;opacity&quot;: 1.0, &quot;radius&quot;: 56000.0, &quot;stroke&quot;: true, &quot;weight&quot;: 3}\n",
       "            ).addTo(map_01f8206293aa103112e128106147057e);\n",
       "        \n",
       "    \n",
       "            circle_21c77847eb1bd3705097d8cea7e3ead7.bindTooltip(\n",
       "                `&lt;div&gt;\n",
       "                     &lt;div style=&#x27;margin: 0; background-color: black; color: white;&#x27;&gt;&lt;h4 style=&#x27;text-align:center;font-weight: bold&#x27;&gt;Canada&lt;/h4&gt;&lt;hr style=&#x27;margin:10px;color: white;&#x27;&gt;&lt;ul style=&#x27;color: white;;list-style-type:circle;align-item:left;padding-left:20px;padding-right:20px&#x27;&gt;&lt;li&gt;Confirmed: 152072&lt;/li&gt;&lt;li&gt;Deaths:   2256&lt;/li&gt;&lt;li&gt;Death Rate: 1.48&lt;/li&gt;&lt;/ul&gt;&lt;/div&gt;\n",
       "                 &lt;/div&gt;`,\n",
       "                {&quot;sticky&quot;: true}\n",
       "            );\n",
       "        \n",
       "    \n",
       "            var circle_b74f622c81c44dfd13a4ae3af236286c = L.circle(\n",
       "                [46.5653, -66.4619],\n",
       "                {&quot;bubblingMouseEvents&quot;: true, &quot;color&quot;: &quot;red&quot;, &quot;dashArray&quot;: null, &quot;dashOffset&quot;: null, &quot;fill&quot;: true, &quot;fillColor&quot;: &quot;indigo&quot;, &quot;fillOpacity&quot;: 0.2, &quot;fillRule&quot;: &quot;evenodd&quot;, &quot;lineCap&quot;: &quot;round&quot;, &quot;lineJoin&quot;: &quot;round&quot;, &quot;opacity&quot;: 1.0, &quot;radius&quot;: 56000.0, &quot;stroke&quot;: true, &quot;weight&quot;: 3}\n",
       "            ).addTo(map_01f8206293aa103112e128106147057e);\n",
       "        \n",
       "    \n",
       "            circle_b74f622c81c44dfd13a4ae3af236286c.bindTooltip(\n",
       "                `&lt;div&gt;\n",
       "                     &lt;div style=&#x27;margin: 0; background-color: black; color: white;&#x27;&gt;&lt;h4 style=&#x27;text-align:center;font-weight: bold&#x27;&gt;Canada&lt;/h4&gt;&lt;hr style=&#x27;margin:10px;color: white;&#x27;&gt;&lt;ul style=&#x27;color: white;;list-style-type:circle;align-item:left;padding-left:20px;padding-right:20px&#x27;&gt;&lt;li&gt;Confirmed: 82223&lt;/li&gt;&lt;li&gt;Deaths:   609&lt;/li&gt;&lt;li&gt;Death Rate: 0.74&lt;/li&gt;&lt;/ul&gt;&lt;/div&gt;\n",
       "                 &lt;/div&gt;`,\n",
       "                {&quot;sticky&quot;: true}\n",
       "            );\n",
       "        \n",
       "    \n",
       "            var circle_748322a31c3951345bce50199ff3f01c = L.circle(\n",
       "                [53.1355, -57.6604],\n",
       "                {&quot;bubblingMouseEvents&quot;: true, &quot;color&quot;: &quot;red&quot;, &quot;dashArray&quot;: null, &quot;dashOffset&quot;: null, &quot;fill&quot;: true, &quot;fillColor&quot;: &quot;indigo&quot;, &quot;fillOpacity&quot;: 0.2, &quot;fillRule&quot;: &quot;evenodd&quot;, &quot;lineCap&quot;: &quot;round&quot;, &quot;lineJoin&quot;: &quot;round&quot;, &quot;opacity&quot;: 1.0, &quot;radius&quot;: 51000.0, &quot;stroke&quot;: true, &quot;weight&quot;: 3}\n",
       "            ).addTo(map_01f8206293aa103112e128106147057e);\n",
       "        \n",
       "    \n",
       "            circle_748322a31c3951345bce50199ff3f01c.bindTooltip(\n",
       "                `&lt;div&gt;\n",
       "                     &lt;div style=&#x27;margin: 0; background-color: black; color: white;&#x27;&gt;&lt;h4 style=&#x27;text-align:center;font-weight: bold&#x27;&gt;Canada&lt;/h4&gt;&lt;hr style=&#x27;margin:10px;color: white;&#x27;&gt;&lt;ul style=&#x27;color: white;;list-style-type:circle;align-item:left;padding-left:20px;padding-right:20px&#x27;&gt;&lt;li&gt;Confirmed: 53299&lt;/li&gt;&lt;li&gt;Deaths:   271&lt;/li&gt;&lt;li&gt;Death Rate: 0.51&lt;/li&gt;&lt;/ul&gt;&lt;/div&gt;\n",
       "                 &lt;/div&gt;`,\n",
       "                {&quot;sticky&quot;: true}\n",
       "            );\n",
       "        \n",
       "    \n",
       "            var circle_1db5be751e60eb3c45470c504f15201b = L.circle(\n",
       "                [64.8255, -124.8457],\n",
       "                {&quot;bubblingMouseEvents&quot;: true, &quot;color&quot;: &quot;red&quot;, &quot;dashArray&quot;: null, &quot;dashOffset&quot;: null, &quot;fill&quot;: true, &quot;fillColor&quot;: &quot;indigo&quot;, &quot;fillOpacity&quot;: 0.2, &quot;fillRule&quot;: &quot;evenodd&quot;, &quot;lineCap&quot;: &quot;round&quot;, &quot;lineJoin&quot;: &quot;round&quot;, &quot;opacity&quot;: 1.0, &quot;radius&quot;: 46000.0, &quot;stroke&quot;: true, &quot;weight&quot;: 3}\n",
       "            ).addTo(map_01f8206293aa103112e128106147057e);\n",
       "        \n",
       "    \n",
       "            circle_1db5be751e60eb3c45470c504f15201b.bindTooltip(\n",
       "                `&lt;div&gt;\n",
       "                     &lt;div style=&#x27;margin: 0; background-color: black; color: white;&#x27;&gt;&lt;h4 style=&#x27;text-align:center;font-weight: bold&#x27;&gt;Canada&lt;/h4&gt;&lt;hr style=&#x27;margin:10px;color: white;&#x27;&gt;&lt;ul style=&#x27;color: white;;list-style-type:circle;align-item:left;padding-left:20px;padding-right:20px&#x27;&gt;&lt;li&gt;Confirmed: 11511&lt;/li&gt;&lt;li&gt;Deaths:   22&lt;/li&gt;&lt;li&gt;Death Rate: 0.19&lt;/li&gt;&lt;/ul&gt;&lt;/div&gt;\n",
       "                 &lt;/div&gt;`,\n",
       "                {&quot;sticky&quot;: true}\n",
       "            );\n",
       "        \n",
       "    \n",
       "            var circle_a6e4de788d7d9b14f95d7339ac7e4cb3 = L.circle(\n",
       "                [44.682, -63.7443],\n",
       "                {&quot;bubblingMouseEvents&quot;: true, &quot;color&quot;: &quot;red&quot;, &quot;dashArray&quot;: null, &quot;dashOffset&quot;: null, &quot;fill&quot;: true, &quot;fillColor&quot;: &quot;indigo&quot;, &quot;fillOpacity&quot;: 0.2, &quot;fillRule&quot;: &quot;evenodd&quot;, &quot;lineCap&quot;: &quot;round&quot;, &quot;lineJoin&quot;: &quot;round&quot;, &quot;opacity&quot;: 1.0, &quot;radius&quot;: 56000.0, &quot;stroke&quot;: true, &quot;weight&quot;: 3}\n",
       "            ).addTo(map_01f8206293aa103112e128106147057e);\n",
       "        \n",
       "    \n",
       "            circle_a6e4de788d7d9b14f95d7339ac7e4cb3.bindTooltip(\n",
       "                `&lt;div&gt;\n",
       "                     &lt;div style=&#x27;margin: 0; background-color: black; color: white;&#x27;&gt;&lt;h4 style=&#x27;text-align:center;font-weight: bold&#x27;&gt;Canada&lt;/h4&gt;&lt;hr style=&#x27;margin:10px;color: white;&#x27;&gt;&lt;ul style=&#x27;color: white;;list-style-type:circle;align-item:left;padding-left:20px;padding-right:20px&#x27;&gt;&lt;li&gt;Confirmed: 132351&lt;/li&gt;&lt;li&gt;Deaths:   639&lt;/li&gt;&lt;li&gt;Death Rate: 0.48&lt;/li&gt;&lt;/ul&gt;&lt;/div&gt;\n",
       "                 &lt;/div&gt;`,\n",
       "                {&quot;sticky&quot;: true}\n",
       "            );\n",
       "        \n",
       "    \n",
       "            var circle_802e1a9080ccf00749f35e02191b5efc = L.circle(\n",
       "                [70.2998, -83.1076],\n",
       "                {&quot;bubblingMouseEvents&quot;: true, &quot;color&quot;: &quot;red&quot;, &quot;dashArray&quot;: null, &quot;dashOffset&quot;: null, &quot;fill&quot;: true, &quot;fillColor&quot;: &quot;indigo&quot;, &quot;fillOpacity&quot;: 0.2, &quot;fillRule&quot;: &quot;evenodd&quot;, &quot;lineCap&quot;: &quot;round&quot;, &quot;lineJoin&quot;: &quot;round&quot;, &quot;opacity&quot;: 1.0, &quot;radius&quot;: 41000.0, &quot;stroke&quot;: true, &quot;weight&quot;: 3}\n",
       "            ).addTo(map_01f8206293aa103112e128106147057e);\n",
       "        \n",
       "    \n",
       "            circle_802e1a9080ccf00749f35e02191b5efc.bindTooltip(\n",
       "                `&lt;div&gt;\n",
       "                     &lt;div style=&#x27;margin: 0; background-color: black; color: white;&#x27;&gt;&lt;h4 style=&#x27;text-align:center;font-weight: bold&#x27;&gt;Canada&lt;/h4&gt;&lt;hr style=&#x27;margin:10px;color: white;&#x27;&gt;&lt;ul style=&#x27;color: white;;list-style-type:circle;align-item:left;padding-left:20px;padding-right:20px&#x27;&gt;&lt;li&gt;Confirmed: 3531&lt;/li&gt;&lt;li&gt;Deaths:   7&lt;/li&gt;&lt;li&gt;Death Rate: 0.2&lt;/li&gt;&lt;/ul&gt;&lt;/div&gt;\n",
       "                 &lt;/div&gt;`,\n",
       "                {&quot;sticky&quot;: true}\n",
       "            );\n",
       "        \n",
       "    \n",
       "            var circle_ec8f87e981bf50a216d84c352bdae2f0 = L.circle(\n",
       "                [51.2538, -85.3232],\n",
       "                {&quot;bubblingMouseEvents&quot;: true, &quot;color&quot;: &quot;red&quot;, &quot;dashArray&quot;: null, &quot;dashOffset&quot;: null, &quot;fill&quot;: true, &quot;fillColor&quot;: &quot;indigo&quot;, &quot;fillOpacity&quot;: 0.2, &quot;fillRule&quot;: &quot;evenodd&quot;, &quot;lineCap&quot;: &quot;round&quot;, &quot;lineJoin&quot;: &quot;round&quot;, &quot;opacity&quot;: 1.0, &quot;radius&quot;: 71000.0, &quot;stroke&quot;: true, &quot;weight&quot;: 3}\n",
       "            ).addTo(map_01f8206293aa103112e128106147057e);\n",
       "        \n",
       "    \n",
       "            circle_ec8f87e981bf50a216d84c352bdae2f0.bindTooltip(\n",
       "                `&lt;div&gt;\n",
       "                     &lt;div style=&#x27;margin: 0; background-color: black; color: white;&#x27;&gt;&lt;h4 style=&#x27;text-align:center;font-weight: bold&#x27;&gt;Canada&lt;/h4&gt;&lt;hr style=&#x27;margin:10px;color: white;&#x27;&gt;&lt;ul style=&#x27;color: white;;list-style-type:circle;align-item:left;padding-left:20px;padding-right:20px&#x27;&gt;&lt;li&gt;Confirmed: 1531652&lt;/li&gt;&lt;li&gt;Deaths:   15176&lt;/li&gt;&lt;li&gt;Death Rate: 0.99&lt;/li&gt;&lt;/ul&gt;&lt;/div&gt;\n",
       "                 &lt;/div&gt;`,\n",
       "                {&quot;sticky&quot;: true}\n",
       "            );\n",
       "        \n",
       "    \n",
       "            var circle_e80f899ba783f855467cd15f1caf9df6 = L.circle(\n",
       "                [46.5107, -63.4168],\n",
       "                {&quot;bubblingMouseEvents&quot;: true, &quot;color&quot;: &quot;red&quot;, &quot;dashArray&quot;: null, &quot;dashOffset&quot;: null, &quot;fill&quot;: true, &quot;fillColor&quot;: &quot;indigo&quot;, &quot;fillOpacity&quot;: 0.2, &quot;fillRule&quot;: &quot;evenodd&quot;, &quot;lineCap&quot;: &quot;round&quot;, &quot;lineJoin&quot;: &quot;round&quot;, &quot;opacity&quot;: 1.0, &quot;radius&quot;: 51000.0, &quot;stroke&quot;: true, &quot;weight&quot;: 3}\n",
       "            ).addTo(map_01f8206293aa103112e128106147057e);\n",
       "        \n",
       "    \n",
       "            circle_e80f899ba783f855467cd15f1caf9df6.bindTooltip(\n",
       "                `&lt;div&gt;\n",
       "                     &lt;div style=&#x27;margin: 0; background-color: black; color: white;&#x27;&gt;&lt;h4 style=&#x27;text-align:center;font-weight: bold&#x27;&gt;Canada&lt;/h4&gt;&lt;hr style=&#x27;margin:10px;color: white;&#x27;&gt;&lt;ul style=&#x27;color: white;;list-style-type:circle;align-item:left;padding-left:20px;padding-right:20px&#x27;&gt;&lt;li&gt;Confirmed: 54559&lt;/li&gt;&lt;li&gt;Deaths:   76&lt;/li&gt;&lt;li&gt;Death Rate: 0.14&lt;/li&gt;&lt;/ul&gt;&lt;/div&gt;\n",
       "                 &lt;/div&gt;`,\n",
       "                {&quot;sticky&quot;: true}\n",
       "            );\n",
       "        \n",
       "    \n",
       "            var circle_e6c0cfb8d15d958d9105248df4503525 = L.circle(\n",
       "                [52.9399, -73.5491],\n",
       "                {&quot;bubblingMouseEvents&quot;: true, &quot;color&quot;: &quot;red&quot;, &quot;dashArray&quot;: null, &quot;dashOffset&quot;: null, &quot;fill&quot;: true, &quot;fillColor&quot;: &quot;indigo&quot;, &quot;fillOpacity&quot;: 0.2, &quot;fillRule&quot;: &quot;evenodd&quot;, &quot;lineCap&quot;: &quot;round&quot;, &quot;lineJoin&quot;: &quot;round&quot;, &quot;opacity&quot;: 1.0, &quot;radius&quot;: 71000.0, &quot;stroke&quot;: true, &quot;weight&quot;: 3}\n",
       "            ).addTo(map_01f8206293aa103112e128106147057e);\n",
       "        \n",
       "    \n",
       "            circle_e6c0cfb8d15d958d9105248df4503525.bindTooltip(\n",
       "                `&lt;div&gt;\n",
       "                     &lt;div style=&#x27;margin: 0; background-color: black; color: white;&#x27;&gt;&lt;h4 style=&#x27;text-align:center;font-weight: bold&#x27;&gt;Canada&lt;/h4&gt;&lt;hr style=&#x27;margin:10px;color: white;&#x27;&gt;&lt;ul style=&#x27;color: white;;list-style-type:circle;align-item:left;padding-left:20px;padding-right:20px&#x27;&gt;&lt;li&gt;Confirmed: 1248200&lt;/li&gt;&lt;li&gt;Deaths:   17354&lt;/li&gt;&lt;li&gt;Death Rate: 1.39&lt;/li&gt;&lt;/ul&gt;&lt;/div&gt;\n",
       "                 &lt;/div&gt;`,\n",
       "                {&quot;sticky&quot;: true}\n",
       "            );\n",
       "        \n",
       "    \n",
       "            var circle_4e5b843695a74fc2414043acaaf898db = L.circle(\n",
       "                [52.9399, -106.4509],\n",
       "                {&quot;bubblingMouseEvents&quot;: true, &quot;color&quot;: &quot;red&quot;, &quot;dashArray&quot;: null, &quot;dashOffset&quot;: null, &quot;fill&quot;: true, &quot;fillColor&quot;: &quot;indigo&quot;, &quot;fillOpacity&quot;: 0.2, &quot;fillRule&quot;: &quot;evenodd&quot;, &quot;lineCap&quot;: &quot;round&quot;, &quot;lineJoin&quot;: &quot;round&quot;, &quot;opacity&quot;: 1.0, &quot;radius&quot;: 56000.0, &quot;stroke&quot;: true, &quot;weight&quot;: 3}\n",
       "            ).addTo(map_01f8206293aa103112e128106147057e);\n",
       "        \n",
       "    \n",
       "            circle_4e5b843695a74fc2414043acaaf898db.bindTooltip(\n",
       "                `&lt;div&gt;\n",
       "                     &lt;div style=&#x27;margin: 0; background-color: black; color: white;&#x27;&gt;&lt;h4 style=&#x27;text-align:center;font-weight: bold&#x27;&gt;Canada&lt;/h4&gt;&lt;hr style=&#x27;margin:10px;color: white;&#x27;&gt;&lt;ul style=&#x27;color: white;;list-style-type:circle;align-item:left;padding-left:20px;padding-right:20px&#x27;&gt;&lt;li&gt;Confirmed: 149189&lt;/li&gt;&lt;li&gt;Deaths:   0&lt;/li&gt;&lt;li&gt;Death Rate: 0.0&lt;/li&gt;&lt;/ul&gt;&lt;/div&gt;\n",
       "                 &lt;/div&gt;`,\n",
       "                {&quot;sticky&quot;: true}\n",
       "            );\n",
       "        \n",
       "    \n",
       "            var circle_5a3dd98d229dc15525e4ce938e02e8d6 = L.circle(\n",
       "                [64.2823, -135.0],\n",
       "                {&quot;bubblingMouseEvents&quot;: true, &quot;color&quot;: &quot;red&quot;, &quot;dashArray&quot;: null, &quot;dashOffset&quot;: null, &quot;fill&quot;: true, &quot;fillColor&quot;: &quot;indigo&quot;, &quot;fillOpacity&quot;: 0.2, &quot;fillRule&quot;: &quot;evenodd&quot;, &quot;lineCap&quot;: &quot;round&quot;, &quot;lineJoin&quot;: &quot;round&quot;, &quot;opacity&quot;: 1.0, &quot;radius&quot;: 41000.0, &quot;stroke&quot;: true, &quot;weight&quot;: 3}\n",
       "            ).addTo(map_01f8206293aa103112e128106147057e);\n",
       "        \n",
       "    \n",
       "            circle_5a3dd98d229dc15525e4ce938e02e8d6.bindTooltip(\n",
       "                `&lt;div&gt;\n",
       "                     &lt;div style=&#x27;margin: 0; background-color: black; color: white;&#x27;&gt;&lt;h4 style=&#x27;text-align:center;font-weight: bold&#x27;&gt;Canada&lt;/h4&gt;&lt;hr style=&#x27;margin:10px;color: white;&#x27;&gt;&lt;ul style=&#x27;color: white;;list-style-type:circle;align-item:left;padding-left:20px;padding-right:20px&#x27;&gt;&lt;li&gt;Confirmed: 4989&lt;/li&gt;&lt;li&gt;Deaths:   1701&lt;/li&gt;&lt;li&gt;Death Rate: 34.09&lt;/li&gt;&lt;/ul&gt;&lt;/div&gt;\n",
       "                 &lt;/div&gt;`,\n",
       "                {&quot;sticky&quot;: true}\n",
       "            );\n",
       "        \n",
       "    \n",
       "            var circle_67e79765298fa5bceb9625f3b1e58bd8 = L.circle(\n",
       "                [6.6111, 20.9394],\n",
       "                {&quot;bubblingMouseEvents&quot;: true, &quot;color&quot;: &quot;red&quot;, &quot;dashArray&quot;: null, &quot;dashOffset&quot;: null, &quot;fill&quot;: true, &quot;fillColor&quot;: &quot;indigo&quot;, &quot;fillOpacity&quot;: 0.2, &quot;fillRule&quot;: &quot;evenodd&quot;, &quot;lineCap&quot;: &quot;round&quot;, &quot;lineJoin&quot;: &quot;round&quot;, &quot;opacity&quot;: 1.0, &quot;radius&quot;: 46000.0, &quot;stroke&quot;: true, &quot;weight&quot;: 3}\n",
       "            ).addTo(map_01f8206293aa103112e128106147057e);\n",
       "        \n",
       "    \n",
       "            circle_67e79765298fa5bceb9625f3b1e58bd8.bindTooltip(\n",
       "                `&lt;div&gt;\n",
       "                     &lt;div style=&#x27;margin: 0; background-color: black; color: white;&#x27;&gt;&lt;h4 style=&#x27;text-align:center;font-weight: bold&#x27;&gt;Central African Republic&lt;/h4&gt;&lt;hr style=&#x27;margin:10px;color: white;&#x27;&gt;&lt;ul style=&#x27;color: white;;list-style-type:circle;align-item:left;padding-left:20px;padding-right:20px&#x27;&gt;&lt;li&gt;Confirmed: 15311&lt;/li&gt;&lt;li&gt;Deaths:   32&lt;/li&gt;&lt;li&gt;Death Rate: 0.21&lt;/li&gt;&lt;/ul&gt;&lt;/div&gt;\n",
       "                 &lt;/div&gt;`,\n",
       "                {&quot;sticky&quot;: true}\n",
       "            );\n",
       "        \n",
       "    \n",
       "            var circle_62a6f5bf894c72f75fbd2744d3b1d874 = L.circle(\n",
       "                [15.4542, 18.7322],\n",
       "                {&quot;bubblingMouseEvents&quot;: true, &quot;color&quot;: &quot;red&quot;, &quot;dashArray&quot;: null, &quot;dashOffset&quot;: null, &quot;fill&quot;: true, &quot;fillColor&quot;: &quot;indigo&quot;, &quot;fillOpacity&quot;: 0.2, &quot;fillRule&quot;: &quot;evenodd&quot;, &quot;lineCap&quot;: &quot;round&quot;, &quot;lineJoin&quot;: &quot;round&quot;, &quot;opacity&quot;: 1.0, &quot;radius&quot;: 41000.0, &quot;stroke&quot;: true, &quot;weight&quot;: 3}\n",
       "            ).addTo(map_01f8206293aa103112e128106147057e);\n",
       "        \n",
       "    \n",
       "            circle_62a6f5bf894c72f75fbd2744d3b1d874.bindTooltip(\n",
       "                `&lt;div&gt;\n",
       "                     &lt;div style=&#x27;margin: 0; background-color: black; color: white;&#x27;&gt;&lt;h4 style=&#x27;text-align:center;font-weight: bold&#x27;&gt;Chad&lt;/h4&gt;&lt;hr style=&#x27;margin:10px;color: white;&#x27;&gt;&lt;ul style=&#x27;color: white;;list-style-type:circle;align-item:left;padding-left:20px;padding-right:20px&#x27;&gt;&lt;li&gt;Confirmed: 7646&lt;/li&gt;&lt;li&gt;Deaths:   113&lt;/li&gt;&lt;li&gt;Death Rate: 1.48&lt;/li&gt;&lt;/ul&gt;&lt;/div&gt;\n",
       "                 &lt;/div&gt;`,\n",
       "                {&quot;sticky&quot;: true}\n",
       "            );\n",
       "        \n",
       "    \n",
       "            var circle_a5ad9d344f33d224b99dbd24377760f9 = L.circle(\n",
       "                [-35.6751, -71.543],\n",
       "                {&quot;bubblingMouseEvents&quot;: true, &quot;color&quot;: &quot;red&quot;, &quot;dashArray&quot;: null, &quot;dashOffset&quot;: null, &quot;fill&quot;: true, &quot;fillColor&quot;: &quot;indigo&quot;, &quot;fillOpacity&quot;: 0.2, &quot;fillRule&quot;: &quot;evenodd&quot;, &quot;lineCap&quot;: &quot;round&quot;, &quot;lineJoin&quot;: &quot;round&quot;, &quot;opacity&quot;: 1.0, &quot;radius&quot;: 76000.0, &quot;stroke&quot;: true, &quot;weight&quot;: 3}\n",
       "            ).addTo(map_01f8206293aa103112e128106147057e);\n",
       "        \n",
       "    \n",
       "            circle_a5ad9d344f33d224b99dbd24377760f9.bindTooltip(\n",
       "                `&lt;div&gt;\n",
       "                     &lt;div style=&#x27;margin: 0; background-color: black; color: white;&#x27;&gt;&lt;h4 style=&#x27;text-align:center;font-weight: bold&#x27;&gt;Chile&lt;/h4&gt;&lt;hr style=&#x27;margin:10px;color: white;&#x27;&gt;&lt;ul style=&#x27;color: white;;list-style-type:circle;align-item:left;padding-left:20px;padding-right:20px&#x27;&gt;&lt;li&gt;Confirmed: 4920010&lt;/li&gt;&lt;li&gt;Deaths:   194&lt;/li&gt;&lt;li&gt;Death Rate: 0.0&lt;/li&gt;&lt;/ul&gt;&lt;/div&gt;\n",
       "                 &lt;/div&gt;`,\n",
       "                {&quot;sticky&quot;: true}\n",
       "            );\n",
       "        \n",
       "    \n",
       "            var circle_03c00f2b9db59834a0b21896cc6484d2 = L.circle(\n",
       "                [31.8257, 117.2264],\n",
       "                {&quot;bubblingMouseEvents&quot;: true, &quot;color&quot;: &quot;red&quot;, &quot;dashArray&quot;: null, &quot;dashOffset&quot;: null, &quot;fill&quot;: true, &quot;fillColor&quot;: &quot;indigo&quot;, &quot;fillOpacity&quot;: 0.2, &quot;fillRule&quot;: &quot;evenodd&quot;, &quot;lineCap&quot;: &quot;round&quot;, &quot;lineJoin&quot;: &quot;round&quot;, &quot;opacity&quot;: 1.0, &quot;radius&quot;: 36000.0, &quot;stroke&quot;: true, &quot;weight&quot;: 3}\n",
       "            ).addTo(map_01f8206293aa103112e128106147057e);\n",
       "        \n",
       "    \n",
       "            circle_03c00f2b9db59834a0b21896cc6484d2.bindTooltip(\n",
       "                `&lt;div&gt;\n",
       "                     &lt;div style=&#x27;margin: 0; background-color: black; color: white;&#x27;&gt;&lt;h4 style=&#x27;text-align:center;font-weight: bold&#x27;&gt;China&lt;/h4&gt;&lt;hr style=&#x27;margin:10px;color: white;&#x27;&gt;&lt;ul style=&#x27;color: white;;list-style-type:circle;align-item:left;padding-left:20px;padding-right:20px&#x27;&gt;&lt;li&gt;Confirmed: 1614&lt;/li&gt;&lt;li&gt;Deaths:   62422&lt;/li&gt;&lt;li&gt;Death Rate: 3865.14&lt;/li&gt;&lt;/ul&gt;&lt;/div&gt;\n",
       "                 &lt;/div&gt;`,\n",
       "                {&quot;sticky&quot;: true}\n",
       "            );\n",
       "        \n",
       "    \n",
       "            var circle_402ad9a2d0bf6b7005ba88c40c50bf69 = L.circle(\n",
       "                [40.1824, 116.4142],\n",
       "                {&quot;bubblingMouseEvents&quot;: true, &quot;color&quot;: &quot;red&quot;, &quot;dashArray&quot;: null, &quot;dashOffset&quot;: null, &quot;fill&quot;: true, &quot;fillColor&quot;: &quot;indigo&quot;, &quot;fillOpacity&quot;: 0.2, &quot;fillRule&quot;: &quot;evenodd&quot;, &quot;lineCap&quot;: &quot;round&quot;, &quot;lineJoin&quot;: &quot;round&quot;, &quot;opacity&quot;: 1.0, &quot;radius&quot;: 46000.0, &quot;stroke&quot;: true, &quot;weight&quot;: 3}\n",
       "            ).addTo(map_01f8206293aa103112e128106147057e);\n",
       "        \n",
       "    \n",
       "            circle_402ad9a2d0bf6b7005ba88c40c50bf69.bindTooltip(\n",
       "                `&lt;div&gt;\n",
       "                     &lt;div style=&#x27;margin: 0; background-color: black; color: white;&#x27;&gt;&lt;h4 style=&#x27;text-align:center;font-weight: bold&#x27;&gt;China&lt;/h4&gt;&lt;hr style=&#x27;margin:10px;color: white;&#x27;&gt;&lt;ul style=&#x27;color: white;;list-style-type:circle;align-item:left;padding-left:20px;padding-right:20px&#x27;&gt;&lt;li&gt;Confirmed: 13840&lt;/li&gt;&lt;li&gt;Deaths:   6&lt;/li&gt;&lt;li&gt;Death Rate: 0.04&lt;/li&gt;&lt;/ul&gt;&lt;/div&gt;\n",
       "                 &lt;/div&gt;`,\n",
       "                {&quot;sticky&quot;: true}\n",
       "            );\n",
       "        \n",
       "    \n",
       "            var circle_2bece28783f344a2ee0de693b9e2027a = L.circle(\n",
       "                [30.0572, 107.874],\n",
       "                {&quot;bubblingMouseEvents&quot;: true, &quot;color&quot;: &quot;red&quot;, &quot;dashArray&quot;: null, &quot;dashOffset&quot;: null, &quot;fill&quot;: true, &quot;fillColor&quot;: &quot;indigo&quot;, &quot;fillOpacity&quot;: 0.2, &quot;fillRule&quot;: &quot;evenodd&quot;, &quot;lineCap&quot;: &quot;round&quot;, &quot;lineJoin&quot;: &quot;round&quot;, &quot;opacity&quot;: 1.0, &quot;radius&quot;: 41000.0, &quot;stroke&quot;: true, &quot;weight&quot;: 3}\n",
       "            ).addTo(map_01f8206293aa103112e128106147057e);\n",
       "        \n",
       "    \n",
       "            circle_2bece28783f344a2ee0de693b9e2027a.bindTooltip(\n",
       "                `&lt;div&gt;\n",
       "                     &lt;div style=&#x27;margin: 0; background-color: black; color: white;&#x27;&gt;&lt;h4 style=&#x27;text-align:center;font-weight: bold&#x27;&gt;China&lt;/h4&gt;&lt;hr style=&#x27;margin:10px;color: white;&#x27;&gt;&lt;ul style=&#x27;color: white;;list-style-type:circle;align-item:left;padding-left:20px;padding-right:20px&#x27;&gt;&lt;li&gt;Confirmed: 5829&lt;/li&gt;&lt;li&gt;Deaths:   13&lt;/li&gt;&lt;li&gt;Death Rate: 0.22&lt;/li&gt;&lt;/ul&gt;&lt;/div&gt;\n",
       "                 &lt;/div&gt;`,\n",
       "                {&quot;sticky&quot;: true}\n",
       "            );\n",
       "        \n",
       "    \n",
       "            var circle_22453ccb7f2ecaab16775c21f5847f3f = L.circle(\n",
       "                [26.0789, 117.9874],\n",
       "                {&quot;bubblingMouseEvents&quot;: true, &quot;color&quot;: &quot;red&quot;, &quot;dashArray&quot;: null, &quot;dashOffset&quot;: null, &quot;fill&quot;: true, &quot;fillColor&quot;: &quot;indigo&quot;, &quot;fillOpacity&quot;: 0.2, &quot;fillRule&quot;: &quot;evenodd&quot;, &quot;lineCap&quot;: &quot;round&quot;, &quot;lineJoin&quot;: &quot;round&quot;, &quot;opacity&quot;: 1.0, &quot;radius&quot;: 41000.0, &quot;stroke&quot;: true, &quot;weight&quot;: 3}\n",
       "            ).addTo(map_01f8206293aa103112e128106147057e);\n",
       "        \n",
       "    \n",
       "            circle_22453ccb7f2ecaab16775c21f5847f3f.bindTooltip(\n",
       "                `&lt;div&gt;\n",
       "                     &lt;div style=&#x27;margin: 0; background-color: black; color: white;&#x27;&gt;&lt;h4 style=&#x27;text-align:center;font-weight: bold&#x27;&gt;China&lt;/h4&gt;&lt;hr style=&#x27;margin:10px;color: white;&#x27;&gt;&lt;ul style=&#x27;color: white;;list-style-type:circle;align-item:left;padding-left:20px;padding-right:20px&#x27;&gt;&lt;li&gt;Confirmed: 6085&lt;/li&gt;&lt;li&gt;Deaths:   7&lt;/li&gt;&lt;li&gt;Death Rate: 0.12&lt;/li&gt;&lt;/ul&gt;&lt;/div&gt;\n",
       "                 &lt;/div&gt;`,\n",
       "                {&quot;sticky&quot;: true}\n",
       "            );\n",
       "        \n",
       "    \n",
       "            var circle_78ba7d81085645307cb336f377e317c1 = L.circle(\n",
       "                [35.7518, 104.2861],\n",
       "                {&quot;bubblingMouseEvents&quot;: true, &quot;color&quot;: &quot;red&quot;, &quot;dashArray&quot;: null, &quot;dashOffset&quot;: null, &quot;fill&quot;: true, &quot;fillColor&quot;: &quot;indigo&quot;, &quot;fillOpacity&quot;: 0.2, &quot;fillRule&quot;: &quot;evenodd&quot;, &quot;lineCap&quot;: &quot;round&quot;, &quot;lineJoin&quot;: &quot;round&quot;, &quot;opacity&quot;: 1.0, &quot;radius&quot;: 36000.0, &quot;stroke&quot;: true, &quot;weight&quot;: 3}\n",
       "            ).addTo(map_01f8206293aa103112e128106147057e);\n",
       "        \n",
       "    \n",
       "            circle_78ba7d81085645307cb336f377e317c1.bindTooltip(\n",
       "                `&lt;div&gt;\n",
       "                     &lt;div style=&#x27;margin: 0; background-color: black; color: white;&#x27;&gt;&lt;h4 style=&#x27;text-align:center;font-weight: bold&#x27;&gt;China&lt;/h4&gt;&lt;hr style=&#x27;margin:10px;color: white;&#x27;&gt;&lt;ul style=&#x27;color: white;;list-style-type:circle;align-item:left;padding-left:20px;padding-right:20px&#x27;&gt;&lt;li&gt;Confirmed: 1551&lt;/li&gt;&lt;li&gt;Deaths:   1&lt;/li&gt;&lt;li&gt;Death Rate: 0.06&lt;/li&gt;&lt;/ul&gt;&lt;/div&gt;\n",
       "                 &lt;/div&gt;`,\n",
       "                {&quot;sticky&quot;: true}\n",
       "            );\n",
       "        \n",
       "    \n",
       "            var circle_9fb24eb8d625659bb4c975d3b764d5c3 = L.circle(\n",
       "                [23.3417, 113.4244],\n",
       "                {&quot;bubblingMouseEvents&quot;: true, &quot;color&quot;: &quot;red&quot;, &quot;dashArray&quot;: null, &quot;dashOffset&quot;: null, &quot;fill&quot;: true, &quot;fillColor&quot;: &quot;indigo&quot;, &quot;fillOpacity&quot;: 0.2, &quot;fillRule&quot;: &quot;evenodd&quot;, &quot;lineCap&quot;: &quot;round&quot;, &quot;lineJoin&quot;: &quot;round&quot;, &quot;opacity&quot;: 1.0, &quot;radius&quot;: 51000.0, &quot;stroke&quot;: true, &quot;weight&quot;: 3}\n",
       "            ).addTo(map_01f8206293aa103112e128106147057e);\n",
       "        \n",
       "    \n",
       "            circle_9fb24eb8d625659bb4c975d3b764d5c3.bindTooltip(\n",
       "                `&lt;div&gt;\n",
       "                     &lt;div style=&#x27;margin: 0; background-color: black; color: white;&#x27;&gt;&lt;h4 style=&#x27;text-align:center;font-weight: bold&#x27;&gt;China&lt;/h4&gt;&lt;hr style=&#x27;margin:10px;color: white;&#x27;&gt;&lt;ul style=&#x27;color: white;;list-style-type:circle;align-item:left;padding-left:20px;padding-right:20px&#x27;&gt;&lt;li&gt;Confirmed: 37254&lt;/li&gt;&lt;li&gt;Deaths:   2&lt;/li&gt;&lt;li&gt;Death Rate: 0.01&lt;/li&gt;&lt;/ul&gt;&lt;/div&gt;\n",
       "                 &lt;/div&gt;`,\n",
       "                {&quot;sticky&quot;: true}\n",
       "            );\n",
       "        \n",
       "    \n",
       "            var circle_960429595f9d2e84164beb47cacefa26 = L.circle(\n",
       "                [23.8298, 108.7881],\n",
       "                {&quot;bubblingMouseEvents&quot;: true, &quot;color&quot;: &quot;red&quot;, &quot;dashArray&quot;: null, &quot;dashOffset&quot;: null, &quot;fill&quot;: true, &quot;fillColor&quot;: &quot;indigo&quot;, &quot;fillOpacity&quot;: 0.2, &quot;fillRule&quot;: &quot;evenodd&quot;, &quot;lineCap&quot;: &quot;round&quot;, &quot;lineJoin&quot;: &quot;round&quot;, &quot;opacity&quot;: 1.0, &quot;radius&quot;: 36000.0, &quot;stroke&quot;: true, &quot;weight&quot;: 3}\n",
       "            ).addTo(map_01f8206293aa103112e128106147057e);\n",
       "        \n",
       "    \n",
       "            circle_960429595f9d2e84164beb47cacefa26.bindTooltip(\n",
       "                `&lt;div&gt;\n",
       "                     &lt;div style=&#x27;margin: 0; background-color: black; color: white;&#x27;&gt;&lt;h4 style=&#x27;text-align:center;font-weight: bold&#x27;&gt;China&lt;/h4&gt;&lt;hr style=&#x27;margin:10px;color: white;&#x27;&gt;&lt;ul style=&#x27;color: white;;list-style-type:circle;align-item:left;padding-left:20px;padding-right:20px&#x27;&gt;&lt;li&gt;Confirmed: 2395&lt;/li&gt;&lt;li&gt;Deaths:   8&lt;/li&gt;&lt;li&gt;Death Rate: 0.33&lt;/li&gt;&lt;/ul&gt;&lt;/div&gt;\n",
       "                 &lt;/div&gt;`,\n",
       "                {&quot;sticky&quot;: true}\n",
       "            );\n",
       "        \n",
       "    \n",
       "            var circle_ae25984a6baee6e6f0eb2d57a05f44df = L.circle(\n",
       "                [26.8154, 106.8748],\n",
       "                {&quot;bubblingMouseEvents&quot;: true, &quot;color&quot;: &quot;red&quot;, &quot;dashArray&quot;: null, &quot;dashOffset&quot;: null, &quot;fill&quot;: true, &quot;fillColor&quot;: &quot;indigo&quot;, &quot;fillOpacity&quot;: 0.2, &quot;fillRule&quot;: &quot;evenodd&quot;, &quot;lineCap&quot;: &quot;round&quot;, &quot;lineJoin&quot;: &quot;round&quot;, &quot;opacity&quot;: 1.0, &quot;radius&quot;: 36000.0, &quot;stroke&quot;: true, &quot;weight&quot;: 3}\n",
       "            ).addTo(map_01f8206293aa103112e128106147057e);\n",
       "        \n",
       "    \n",
       "            circle_ae25984a6baee6e6f0eb2d57a05f44df.bindTooltip(\n",
       "                `&lt;div&gt;\n",
       "                     &lt;div style=&#x27;margin: 0; background-color: black; color: white;&#x27;&gt;&lt;h4 style=&#x27;text-align:center;font-weight: bold&#x27;&gt;China&lt;/h4&gt;&lt;hr style=&#x27;margin:10px;color: white;&#x27;&gt;&lt;ul style=&#x27;color: white;;list-style-type:circle;align-item:left;padding-left:20px;padding-right:20px&#x27;&gt;&lt;li&gt;Confirmed: 1297&lt;/li&gt;&lt;li&gt;Deaths:   2&lt;/li&gt;&lt;li&gt;Death Rate: 0.15&lt;/li&gt;&lt;/ul&gt;&lt;/div&gt;\n",
       "                 &lt;/div&gt;`,\n",
       "                {&quot;sticky&quot;: true}\n",
       "            );\n",
       "        \n",
       "    \n",
       "            var circle_15cfbab5b52508a5a642465805c02d50 = L.circle(\n",
       "                [19.1959, 109.7453],\n",
       "                {&quot;bubblingMouseEvents&quot;: true, &quot;color&quot;: &quot;red&quot;, &quot;dashArray&quot;: null, &quot;dashOffset&quot;: null, &quot;fill&quot;: true, &quot;fillColor&quot;: &quot;indigo&quot;, &quot;fillOpacity&quot;: 0.2, &quot;fillRule&quot;: &quot;evenodd&quot;, &quot;lineCap&quot;: &quot;round&quot;, &quot;lineJoin&quot;: &quot;round&quot;, &quot;opacity&quot;: 1.0, &quot;radius&quot;: 46000.0, &quot;stroke&quot;: true, &quot;weight&quot;: 3}\n",
       "            ).addTo(map_01f8206293aa103112e128106147057e);\n",
       "        \n",
       "    \n",
       "            circle_15cfbab5b52508a5a642465805c02d50.bindTooltip(\n",
       "                `&lt;div&gt;\n",
       "                     &lt;div style=&#x27;margin: 0; background-color: black; color: white;&#x27;&gt;&lt;h4 style=&#x27;text-align:center;font-weight: bold&#x27;&gt;China&lt;/h4&gt;&lt;hr style=&#x27;margin:10px;color: white;&#x27;&gt;&lt;ul style=&#x27;color: white;;list-style-type:circle;align-item:left;padding-left:20px;padding-right:20px&#x27;&gt;&lt;li&gt;Confirmed: 9092&lt;/li&gt;&lt;li&gt;Deaths:   2&lt;/li&gt;&lt;li&gt;Death Rate: 0.02&lt;/li&gt;&lt;/ul&gt;&lt;/div&gt;\n",
       "                 &lt;/div&gt;`,\n",
       "                {&quot;sticky&quot;: true}\n",
       "            );\n",
       "        \n",
       "    \n",
       "            var circle_6dbee97a034629184be0a84aaa36293d = L.circle(\n",
       "                [39.549, 116.1306],\n",
       "                {&quot;bubblingMouseEvents&quot;: true, &quot;color&quot;: &quot;red&quot;, &quot;dashArray&quot;: null, &quot;dashOffset&quot;: null, &quot;fill&quot;: true, &quot;fillColor&quot;: &quot;indigo&quot;, &quot;fillOpacity&quot;: 0.2, &quot;fillRule&quot;: &quot;evenodd&quot;, &quot;lineCap&quot;: &quot;round&quot;, &quot;lineJoin&quot;: &quot;round&quot;, &quot;opacity&quot;: 1.0, &quot;radius&quot;: 36000.0, &quot;stroke&quot;: true, &quot;weight&quot;: 3}\n",
       "            ).addTo(map_01f8206293aa103112e128106147057e);\n",
       "        \n",
       "    \n",
       "            circle_6dbee97a034629184be0a84aaa36293d.bindTooltip(\n",
       "                `&lt;div&gt;\n",
       "                     &lt;div style=&#x27;margin: 0; background-color: black; color: white;&#x27;&gt;&lt;h4 style=&#x27;text-align:center;font-weight: bold&#x27;&gt;China&lt;/h4&gt;&lt;hr style=&#x27;margin:10px;color: white;&#x27;&gt;&lt;ul style=&#x27;color: white;;list-style-type:circle;align-item:left;padding-left:20px;padding-right:20px&#x27;&gt;&lt;li&gt;Confirmed: 2767&lt;/li&gt;&lt;li&gt;Deaths:   6&lt;/li&gt;&lt;li&gt;Death Rate: 0.22&lt;/li&gt;&lt;/ul&gt;&lt;/div&gt;\n",
       "                 &lt;/div&gt;`,\n",
       "                {&quot;sticky&quot;: true}\n",
       "            );\n",
       "        \n",
       "    \n",
       "            var circle_68e295f47aec9d401247995c9cb9ffa6 = L.circle(\n",
       "                [47.862, 127.7615],\n",
       "                {&quot;bubblingMouseEvents&quot;: true, &quot;color&quot;: &quot;red&quot;, &quot;dashArray&quot;: null, &quot;dashOffset&quot;: null, &quot;fill&quot;: true, &quot;fillColor&quot;: &quot;indigo&quot;, &quot;fillOpacity&quot;: 0.2, &quot;fillRule&quot;: &quot;evenodd&quot;, &quot;lineCap&quot;: &quot;round&quot;, &quot;lineJoin&quot;: &quot;round&quot;, &quot;opacity&quot;: 1.0, &quot;radius&quot;: 41000.0, &quot;stroke&quot;: true, &quot;weight&quot;: 3}\n",
       "            ).addTo(map_01f8206293aa103112e128106147057e);\n",
       "        \n",
       "    \n",
       "            circle_68e295f47aec9d401247995c9cb9ffa6.bindTooltip(\n",
       "                `&lt;div&gt;\n",
       "                     &lt;div style=&#x27;margin: 0; background-color: black; color: white;&#x27;&gt;&lt;h4 style=&#x27;text-align:center;font-weight: bold&#x27;&gt;China&lt;/h4&gt;&lt;hr style=&#x27;margin:10px;color: white;&#x27;&gt;&lt;ul style=&#x27;color: white;;list-style-type:circle;align-item:left;padding-left:20px;padding-right:20px&#x27;&gt;&lt;li&gt;Confirmed: 4434&lt;/li&gt;&lt;li&gt;Deaths:   7&lt;/li&gt;&lt;li&gt;Death Rate: 0.16&lt;/li&gt;&lt;/ul&gt;&lt;/div&gt;\n",
       "                 &lt;/div&gt;`,\n",
       "                {&quot;sticky&quot;: true}\n",
       "            );\n",
       "        \n",
       "    \n",
       "            var circle_7623452c9fc29d6e5f67367ee5b33353 = L.circle(\n",
       "                [37.8957, 114.9042],\n",
       "                {&quot;bubblingMouseEvents&quot;: true, &quot;color&quot;: &quot;red&quot;, &quot;dashArray&quot;: null, &quot;dashOffset&quot;: null, &quot;fill&quot;: true, &quot;fillColor&quot;: &quot;indigo&quot;, &quot;fillOpacity&quot;: 0.2, &quot;fillRule&quot;: &quot;evenodd&quot;, &quot;lineCap&quot;: &quot;round&quot;, &quot;lineJoin&quot;: &quot;round&quot;, &quot;opacity&quot;: 1.0, &quot;radius&quot;: 41000.0, &quot;stroke&quot;: true, &quot;weight&quot;: 3}\n",
       "            ).addTo(map_01f8206293aa103112e128106147057e);\n",
       "        \n",
       "    \n",
       "            circle_7623452c9fc29d6e5f67367ee5b33353.bindTooltip(\n",
       "                `&lt;div&gt;\n",
       "                     &lt;div style=&#x27;margin: 0; background-color: black; color: white;&#x27;&gt;&lt;h4 style=&#x27;text-align:center;font-weight: bold&#x27;&gt;China&lt;/h4&gt;&lt;hr style=&#x27;margin:10px;color: white;&#x27;&gt;&lt;ul style=&#x27;color: white;;list-style-type:circle;align-item:left;padding-left:20px;padding-right:20px&#x27;&gt;&lt;li&gt;Confirmed: 7277&lt;/li&gt;&lt;li&gt;Deaths:   13&lt;/li&gt;&lt;li&gt;Death Rate: 0.18&lt;/li&gt;&lt;/ul&gt;&lt;/div&gt;\n",
       "                 &lt;/div&gt;`,\n",
       "                {&quot;sticky&quot;: true}\n",
       "            );\n",
       "        \n",
       "    \n",
       "            var circle_6c80256beb737d8c9040c10e9639c9dd = L.circle(\n",
       "                [22.3, 114.2],\n",
       "                {&quot;bubblingMouseEvents&quot;: true, &quot;color&quot;: &quot;red&quot;, &quot;dashArray&quot;: null, &quot;dashOffset&quot;: null, &quot;fill&quot;: true, &quot;fillColor&quot;: &quot;indigo&quot;, &quot;fillOpacity&quot;: 0.2, &quot;fillRule&quot;: &quot;evenodd&quot;, &quot;lineCap&quot;: &quot;round&quot;, &quot;lineJoin&quot;: &quot;round&quot;, &quot;opacity&quot;: 1.0, &quot;radius&quot;: 71000.0, &quot;stroke&quot;: true, &quot;weight&quot;: 3}\n",
       "            ).addTo(map_01f8206293aa103112e128106147057e);\n",
       "        \n",
       "    \n",
       "            circle_6c80256beb737d8c9040c10e9639c9dd.bindTooltip(\n",
       "                `&lt;div&gt;\n",
       "                     &lt;div style=&#x27;margin: 0; background-color: black; color: white;&#x27;&gt;&lt;h4 style=&#x27;text-align:center;font-weight: bold&#x27;&gt;China&lt;/h4&gt;&lt;hr style=&#x27;margin:10px;color: white;&#x27;&gt;&lt;ul style=&#x27;color: white;;list-style-type:circle;align-item:left;padding-left:20px;padding-right:20px&#x27;&gt;&lt;li&gt;Confirmed: 2118245&lt;/li&gt;&lt;li&gt;Deaths:   23&lt;/li&gt;&lt;li&gt;Death Rate: 0.0&lt;/li&gt;&lt;/ul&gt;&lt;/div&gt;\n",
       "                 &lt;/div&gt;`,\n",
       "                {&quot;sticky&quot;: true}\n",
       "            );\n",
       "        \n",
       "    \n",
       "            var circle_1677833b12289ae6ba68336425859bf4 = L.circle(\n",
       "                [30.9756, 112.2707],\n",
       "                {&quot;bubblingMouseEvents&quot;: true, &quot;color&quot;: &quot;red&quot;, &quot;dashArray&quot;: null, &quot;dashOffset&quot;: null, &quot;fill&quot;: true, &quot;fillColor&quot;: &quot;indigo&quot;, &quot;fillOpacity&quot;: 0.2, &quot;fillRule&quot;: &quot;evenodd&quot;, &quot;lineCap&quot;: &quot;round&quot;, &quot;lineJoin&quot;: &quot;round&quot;, &quot;opacity&quot;: 1.0, &quot;radius&quot;: 56000.0, &quot;stroke&quot;: true, &quot;weight&quot;: 3}\n",
       "            ).addTo(map_01f8206293aa103112e128106147057e);\n",
       "        \n",
       "    \n",
       "            circle_1677833b12289ae6ba68336425859bf4.bindTooltip(\n",
       "                `&lt;div&gt;\n",
       "                     &lt;div style=&#x27;margin: 0; background-color: black; color: white;&#x27;&gt;&lt;h4 style=&#x27;text-align:center;font-weight: bold&#x27;&gt;China&lt;/h4&gt;&lt;hr style=&#x27;margin:10px;color: white;&#x27;&gt;&lt;ul style=&#x27;color: white;;list-style-type:circle;align-item:left;padding-left:20px;padding-right:20px&#x27;&gt;&lt;li&gt;Confirmed: 68609&lt;/li&gt;&lt;li&gt;Deaths:   10747&lt;/li&gt;&lt;li&gt;Death Rate: 15.66&lt;/li&gt;&lt;/ul&gt;&lt;/div&gt;\n",
       "                 &lt;/div&gt;`,\n",
       "                {&quot;sticky&quot;: true}\n",
       "            );\n",
       "        \n",
       "    \n",
       "            var circle_ab6cc43a050f489483da2c809d41ee73 = L.circle(\n",
       "                [27.6104, 111.7088],\n",
       "                {&quot;bubblingMouseEvents&quot;: true, &quot;color&quot;: &quot;red&quot;, &quot;dashArray&quot;: null, &quot;dashOffset&quot;: null, &quot;fill&quot;: true, &quot;fillColor&quot;: &quot;indigo&quot;, &quot;fillOpacity&quot;: 0.2, &quot;fillRule&quot;: &quot;evenodd&quot;, &quot;lineCap&quot;: &quot;round&quot;, &quot;lineJoin&quot;: &quot;round&quot;, &quot;opacity&quot;: 1.0, &quot;radius&quot;: 36000.0, &quot;stroke&quot;: true, &quot;weight&quot;: 3}\n",
       "            ).addTo(map_01f8206293aa103112e128106147057e);\n",
       "        \n",
       "    \n",
       "            circle_ab6cc43a050f489483da2c809d41ee73.bindTooltip(\n",
       "                `&lt;div&gt;\n",
       "                     &lt;div style=&#x27;margin: 0; background-color: black; color: white;&#x27;&gt;&lt;h4 style=&#x27;text-align:center;font-weight: bold&#x27;&gt;China&lt;/h4&gt;&lt;hr style=&#x27;margin:10px;color: white;&#x27;&gt;&lt;ul style=&#x27;color: white;;list-style-type:circle;align-item:left;padding-left:20px;padding-right:20px&#x27;&gt;&lt;li&gt;Confirmed: 2129&lt;/li&gt;&lt;li&gt;Deaths:   4512&lt;/li&gt;&lt;li&gt;Death Rate: 211.83&lt;/li&gt;&lt;/ul&gt;&lt;/div&gt;\n",
       "                 &lt;/div&gt;`,\n",
       "                {&quot;sticky&quot;: true}\n",
       "            );\n",
       "        \n",
       "    \n",
       "            var circle_b1709efb40fbde7ae2109dc5636b904b = L.circle(\n",
       "                [44.0935, 113.9448],\n",
       "                {&quot;bubblingMouseEvents&quot;: true, &quot;color&quot;: &quot;red&quot;, &quot;dashArray&quot;: null, &quot;dashOffset&quot;: null, &quot;fill&quot;: true, &quot;fillColor&quot;: &quot;indigo&quot;, &quot;fillOpacity&quot;: 0.2, &quot;fillRule&quot;: &quot;evenodd&quot;, &quot;lineCap&quot;: &quot;round&quot;, &quot;lineJoin&quot;: &quot;round&quot;, &quot;opacity&quot;: 1.0, &quot;radius&quot;: 41000.0, &quot;stroke&quot;: true, &quot;weight&quot;: 3}\n",
       "            ).addTo(map_01f8206293aa103112e128106147057e);\n",
       "        \n",
       "    \n",
       "            circle_b1709efb40fbde7ae2109dc5636b904b.bindTooltip(\n",
       "                `&lt;div&gt;\n",
       "                     &lt;div style=&#x27;margin: 0; background-color: black; color: white;&#x27;&gt;&lt;h4 style=&#x27;text-align:center;font-weight: bold&#x27;&gt;China&lt;/h4&gt;&lt;hr style=&#x27;margin:10px;color: white;&#x27;&gt;&lt;ul style=&#x27;color: white;;list-style-type:circle;align-item:left;padding-left:20px;padding-right:20px&#x27;&gt;&lt;li&gt;Confirmed: 7664&lt;/li&gt;&lt;li&gt;Deaths:   4&lt;/li&gt;&lt;li&gt;Death Rate: 0.05&lt;/li&gt;&lt;/ul&gt;&lt;/div&gt;\n",
       "                 &lt;/div&gt;`,\n",
       "                {&quot;sticky&quot;: true}\n",
       "            );\n",
       "        \n",
       "    \n",
       "            var circle_fdb9a192137ad907a44100eb924d1b62 = L.circle(\n",
       "                [32.9711, 119.455],\n",
       "                {&quot;bubblingMouseEvents&quot;: true, &quot;color&quot;: &quot;red&quot;, &quot;dashArray&quot;: null, &quot;dashOffset&quot;: null, &quot;fill&quot;: true, &quot;fillColor&quot;: &quot;indigo&quot;, &quot;fillOpacity&quot;: 0.2, &quot;fillRule&quot;: &quot;evenodd&quot;, &quot;lineCap&quot;: &quot;round&quot;, &quot;lineJoin&quot;: &quot;round&quot;, &quot;opacity&quot;: 1.0, &quot;radius&quot;: 41000.0, &quot;stroke&quot;: true, &quot;weight&quot;: 3}\n",
       "            ).addTo(map_01f8206293aa103112e128106147057e);\n",
       "        \n",
       "    \n",
       "            circle_fdb9a192137ad907a44100eb924d1b62.bindTooltip(\n",
       "                `&lt;div&gt;\n",
       "                     &lt;div style=&#x27;margin: 0; background-color: black; color: white;&#x27;&gt;&lt;h4 style=&#x27;text-align:center;font-weight: bold&#x27;&gt;China&lt;/h4&gt;&lt;hr style=&#x27;margin:10px;color: white;&#x27;&gt;&lt;ul style=&#x27;color: white;;list-style-type:circle;align-item:left;padding-left:20px;padding-right:20px&#x27;&gt;&lt;li&gt;Confirmed: 3417&lt;/li&gt;&lt;li&gt;Deaths:   1&lt;/li&gt;&lt;li&gt;Death Rate: 0.03&lt;/li&gt;&lt;/ul&gt;&lt;/div&gt;\n",
       "                 &lt;/div&gt;`,\n",
       "                {&quot;sticky&quot;: true}\n",
       "            );\n",
       "        \n",
       "    \n",
       "            var circle_7a864dedc94603aa25bbccb207f03435 = L.circle(\n",
       "                [27.614, 115.7221],\n",
       "                {&quot;bubblingMouseEvents&quot;: true, &quot;color&quot;: &quot;red&quot;, &quot;dashArray&quot;: null, &quot;dashOffset&quot;: null, &quot;fill&quot;: true, &quot;fillColor&quot;: &quot;indigo&quot;, &quot;fillOpacity&quot;: 0.2, &quot;fillRule&quot;: &quot;evenodd&quot;, &quot;lineCap&quot;: &quot;round&quot;, &quot;lineJoin&quot;: &quot;round&quot;, &quot;opacity&quot;: 1.0, &quot;radius&quot;: 36000.0, &quot;stroke&quot;: true, &quot;weight&quot;: 3}\n",
       "            ).addTo(map_01f8206293aa103112e128106147057e);\n",
       "        \n",
       "    \n",
       "            circle_7a864dedc94603aa25bbccb207f03435.bindTooltip(\n",
       "                `&lt;div&gt;\n",
       "                     &lt;div style=&#x27;margin: 0; background-color: black; color: white;&#x27;&gt;&lt;h4 style=&#x27;text-align:center;font-weight: bold&#x27;&gt;China&lt;/h4&gt;&lt;hr style=&#x27;margin:10px;color: white;&#x27;&gt;&lt;ul style=&#x27;color: white;;list-style-type:circle;align-item:left;padding-left:20px;padding-right:20px&#x27;&gt;&lt;li&gt;Confirmed: 1533&lt;/li&gt;&lt;li&gt;Deaths:   0&lt;/li&gt;&lt;li&gt;Death Rate: 0.0&lt;/li&gt;&lt;/ul&gt;&lt;/div&gt;\n",
       "                 &lt;/div&gt;`,\n",
       "                {&quot;sticky&quot;: true}\n",
       "            );\n",
       "        \n",
       "    \n",
       "            var circle_e4b7a7a2ddcb838f8e93d61aeca4f58a = L.circle(\n",
       "                [43.6661, 126.1923],\n",
       "                {&quot;bubblingMouseEvents&quot;: true, &quot;color&quot;: &quot;red&quot;, &quot;dashArray&quot;: null, &quot;dashOffset&quot;: null, &quot;fill&quot;: true, &quot;fillColor&quot;: &quot;indigo&quot;, &quot;fillOpacity&quot;: 0.2, &quot;fillRule&quot;: &quot;evenodd&quot;, &quot;lineCap&quot;: &quot;round&quot;, &quot;lineJoin&quot;: &quot;round&quot;, &quot;opacity&quot;: 1.0, &quot;radius&quot;: 51000.0, &quot;stroke&quot;: true, &quot;weight&quot;: 3}\n",
       "            ).addTo(map_01f8206293aa103112e128106147057e);\n",
       "        \n",
       "    \n",
       "            circle_e4b7a7a2ddcb838f8e93d61aeca4f58a.bindTooltip(\n",
       "                `&lt;div&gt;\n",
       "                     &lt;div style=&#x27;margin: 0; background-color: black; color: white;&#x27;&gt;&lt;h4 style=&#x27;text-align:center;font-weight: bold&#x27;&gt;China&lt;/h4&gt;&lt;hr style=&#x27;margin:10px;color: white;&#x27;&gt;&lt;ul style=&#x27;color: white;;list-style-type:circle;align-item:left;padding-left:20px;padding-right:20px&#x27;&gt;&lt;li&gt;Confirmed: 40418&lt;/li&gt;&lt;li&gt;Deaths:   1&lt;/li&gt;&lt;li&gt;Death Rate: 0.0&lt;/li&gt;&lt;/ul&gt;&lt;/div&gt;\n",
       "                 &lt;/div&gt;`,\n",
       "                {&quot;sticky&quot;: true}\n",
       "            );\n",
       "        \n",
       "    \n",
       "            var circle_c4001940275c760a68bd8ae0a3834b2c = L.circle(\n",
       "                [41.2956, 122.6085],\n",
       "                {&quot;bubblingMouseEvents&quot;: true, &quot;color&quot;: &quot;red&quot;, &quot;dashArray&quot;: null, &quot;dashOffset&quot;: null, &quot;fill&quot;: true, &quot;fillColor&quot;: &quot;indigo&quot;, &quot;fillOpacity&quot;: 0.2, &quot;fillRule&quot;: &quot;evenodd&quot;, &quot;lineCap&quot;: &quot;round&quot;, &quot;lineJoin&quot;: &quot;round&quot;, &quot;opacity&quot;: 1.0, &quot;radius&quot;: 36000.0, &quot;stroke&quot;: true, &quot;weight&quot;: 3}\n",
       "            ).addTo(map_01f8206293aa103112e128106147057e);\n",
       "        \n",
       "    \n",
       "            circle_c4001940275c760a68bd8ae0a3834b2c.bindTooltip(\n",
       "                `&lt;div&gt;\n",
       "                     &lt;div style=&#x27;margin: 0; background-color: black; color: white;&#x27;&gt;&lt;h4 style=&#x27;text-align:center;font-weight: bold&#x27;&gt;China&lt;/h4&gt;&lt;hr style=&#x27;margin:10px;color: white;&#x27;&gt;&lt;ul style=&#x27;color: white;;list-style-type:circle;align-item:left;padding-left:20px;padding-right:20px&#x27;&gt;&lt;li&gt;Confirmed: 2512&lt;/li&gt;&lt;li&gt;Deaths:   5&lt;/li&gt;&lt;li&gt;Death Rate: 0.2&lt;/li&gt;&lt;/ul&gt;&lt;/div&gt;\n",
       "                 &lt;/div&gt;`,\n",
       "                {&quot;sticky&quot;: true}\n",
       "            );\n",
       "        \n",
       "    \n",
       "            var circle_c212199b4c217ea556824fa965bf6e73 = L.circle(\n",
       "                [22.1667, 113.55],\n",
       "                {&quot;bubblingMouseEvents&quot;: true, &quot;color&quot;: &quot;red&quot;, &quot;dashArray&quot;: null, &quot;dashOffset&quot;: null, &quot;fill&quot;: true, &quot;fillColor&quot;: &quot;indigo&quot;, &quot;fillOpacity&quot;: 0.2, &quot;fillRule&quot;: &quot;evenodd&quot;, &quot;lineCap&quot;: &quot;round&quot;, &quot;lineJoin&quot;: &quot;round&quot;, &quot;opacity&quot;: 1.0, &quot;radius&quot;: 31000.0, &quot;stroke&quot;: true, &quot;weight&quot;: 3}\n",
       "            ).addTo(map_01f8206293aa103112e128106147057e);\n",
       "        \n",
       "    \n",
       "            circle_c212199b4c217ea556824fa965bf6e73.bindTooltip(\n",
       "                `&lt;div&gt;\n",
       "                     &lt;div style=&#x27;margin: 0; background-color: black; color: white;&#x27;&gt;&lt;h4 style=&#x27;text-align:center;font-weight: bold&#x27;&gt;China&lt;/h4&gt;&lt;hr style=&#x27;margin:10px;color: white;&#x27;&gt;&lt;ul style=&#x27;color: white;;list-style-type:circle;align-item:left;padding-left:20px;padding-right:20px&#x27;&gt;&lt;li&gt;Confirmed: 806&lt;/li&gt;&lt;li&gt;Deaths:   2&lt;/li&gt;&lt;li&gt;Death Rate: 0.25&lt;/li&gt;&lt;/ul&gt;&lt;/div&gt;\n",
       "                 &lt;/div&gt;`,\n",
       "                {&quot;sticky&quot;: true}\n",
       "            );\n",
       "        \n",
       "    \n",
       "            var circle_8c4c80e37621fa8f81f47bcef662e90d = L.circle(\n",
       "                [37.2692, 106.1655],\n",
       "                {&quot;bubblingMouseEvents&quot;: true, &quot;color&quot;: &quot;red&quot;, &quot;dashArray&quot;: null, &quot;dashOffset&quot;: null, &quot;fill&quot;: true, &quot;fillColor&quot;: &quot;indigo&quot;, &quot;fillOpacity&quot;: 0.2, &quot;fillRule&quot;: &quot;evenodd&quot;, &quot;lineCap&quot;: &quot;round&quot;, &quot;lineJoin&quot;: &quot;round&quot;, &quot;opacity&quot;: 1.0, &quot;radius&quot;: 26000.0, &quot;stroke&quot;: true, &quot;weight&quot;: 3}\n",
       "            ).addTo(map_01f8206293aa103112e128106147057e);\n",
       "        \n",
       "    \n",
       "            circle_8c4c80e37621fa8f81f47bcef662e90d.bindTooltip(\n",
       "                `&lt;div&gt;\n",
       "                     &lt;div style=&#x27;margin: 0; background-color: black; color: white;&#x27;&gt;&lt;h4 style=&#x27;text-align:center;font-weight: bold&#x27;&gt;China&lt;/h4&gt;&lt;hr style=&#x27;margin:10px;color: white;&#x27;&gt;&lt;ul style=&#x27;color: white;;list-style-type:circle;align-item:left;padding-left:20px;padding-right:20px&#x27;&gt;&lt;li&gt;Confirmed: 230&lt;/li&gt;&lt;li&gt;Deaths:   6&lt;/li&gt;&lt;li&gt;Death Rate: 2.6&lt;/li&gt;&lt;/ul&gt;&lt;/div&gt;\n",
       "                 &lt;/div&gt;`,\n",
       "                {&quot;sticky&quot;: true}\n",
       "            );\n",
       "        \n",
       "    \n",
       "            var circle_7784aa9d5de1438b86f8f7a8969ef0d8 = L.circle(\n",
       "                [35.7452, 95.9956],\n",
       "                {&quot;bubblingMouseEvents&quot;: true, &quot;color&quot;: &quot;red&quot;, &quot;dashArray&quot;: null, &quot;dashOffset&quot;: null, &quot;fill&quot;: true, &quot;fillColor&quot;: &quot;indigo&quot;, &quot;fillOpacity&quot;: 0.2, &quot;fillRule&quot;: &quot;evenodd&quot;, &quot;lineCap&quot;: &quot;round&quot;, &quot;lineJoin&quot;: &quot;round&quot;, &quot;opacity&quot;: 1.0, &quot;radius&quot;: 31000.0, &quot;stroke&quot;: true, &quot;weight&quot;: 3}\n",
       "            ).addTo(map_01f8206293aa103112e128106147057e);\n",
       "        \n",
       "    \n",
       "            circle_7784aa9d5de1438b86f8f7a8969ef0d8.bindTooltip(\n",
       "                `&lt;div&gt;\n",
       "                     &lt;div style=&#x27;margin: 0; background-color: black; color: white;&#x27;&gt;&lt;h4 style=&#x27;text-align:center;font-weight: bold&#x27;&gt;China&lt;/h4&gt;&lt;hr style=&#x27;margin:10px;color: white;&#x27;&gt;&lt;ul style=&#x27;color: white;;list-style-type:circle;align-item:left;padding-left:20px;padding-right:20px&#x27;&gt;&lt;li&gt;Confirmed: 422&lt;/li&gt;&lt;li&gt;Deaths:   0&lt;/li&gt;&lt;li&gt;Death Rate: 0.0&lt;/li&gt;&lt;/ul&gt;&lt;/div&gt;\n",
       "                 &lt;/div&gt;`,\n",
       "                {&quot;sticky&quot;: true}\n",
       "            );\n",
       "        \n",
       "    \n",
       "            var circle_fc76b513ee208732b925a617ca5cd377 = L.circle(\n",
       "                [35.1917, 108.8701],\n",
       "                {&quot;bubblingMouseEvents&quot;: true, &quot;color&quot;: &quot;red&quot;, &quot;dashArray&quot;: null, &quot;dashOffset&quot;: null, &quot;fill&quot;: true, &quot;fillColor&quot;: &quot;indigo&quot;, &quot;fillOpacity&quot;: 0.2, &quot;fillRule&quot;: &quot;evenodd&quot;, &quot;lineCap&quot;: &quot;round&quot;, &quot;lineJoin&quot;: &quot;round&quot;, &quot;opacity&quot;: 1.0, &quot;radius&quot;: 41000.0, &quot;stroke&quot;: true, &quot;weight&quot;: 3}\n",
       "            ).addTo(map_01f8206293aa103112e128106147057e);\n",
       "        \n",
       "    \n",
       "            circle_fc76b513ee208732b925a617ca5cd377.bindTooltip(\n",
       "                `&lt;div&gt;\n",
       "                     &lt;div style=&#x27;margin: 0; background-color: black; color: white;&#x27;&gt;&lt;h4 style=&#x27;text-align:center;font-weight: bold&#x27;&gt;China&lt;/h4&gt;&lt;hr style=&#x27;margin:10px;color: white;&#x27;&gt;&lt;ul style=&#x27;color: white;;list-style-type:circle;align-item:left;padding-left:20px;padding-right:20px&#x27;&gt;&lt;li&gt;Confirmed: 5049&lt;/li&gt;&lt;li&gt;Deaths:   0&lt;/li&gt;&lt;li&gt;Death Rate: 0.0&lt;/li&gt;&lt;/ul&gt;&lt;/div&gt;\n",
       "                 &lt;/div&gt;`,\n",
       "                {&quot;sticky&quot;: true}\n",
       "            );\n",
       "        \n",
       "    \n",
       "            var circle_197c87865de75943acbcf02e9d93891e = L.circle(\n",
       "                [36.3427, 118.1498],\n",
       "                {&quot;bubblingMouseEvents&quot;: true, &quot;color&quot;: &quot;red&quot;, &quot;dashArray&quot;: null, &quot;dashOffset&quot;: null, &quot;fill&quot;: true, &quot;fillColor&quot;: &quot;indigo&quot;, &quot;fillOpacity&quot;: 0.2, &quot;fillRule&quot;: &quot;evenodd&quot;, &quot;lineCap&quot;: &quot;round&quot;, &quot;lineJoin&quot;: &quot;round&quot;, &quot;opacity&quot;: 1.0, &quot;radius&quot;: 41000.0, &quot;stroke&quot;: true, &quot;weight&quot;: 3}\n",
       "            ).addTo(map_01f8206293aa103112e128106147057e);\n",
       "        \n",
       "    \n",
       "            circle_197c87865de75943acbcf02e9d93891e.bindTooltip(\n",
       "                `&lt;div&gt;\n",
       "                     &lt;div style=&#x27;margin: 0; background-color: black; color: white;&#x27;&gt;&lt;h4 style=&#x27;text-align:center;font-weight: bold&#x27;&gt;China&lt;/h4&gt;&lt;hr style=&#x27;margin:10px;color: white;&#x27;&gt;&lt;ul style=&#x27;color: white;;list-style-type:circle;align-item:left;padding-left:20px;padding-right:20px&#x27;&gt;&lt;li&gt;Confirmed: 4043&lt;/li&gt;&lt;li&gt;Deaths:   3&lt;/li&gt;&lt;li&gt;Death Rate: 0.07&lt;/li&gt;&lt;/ul&gt;&lt;/div&gt;\n",
       "                 &lt;/div&gt;`,\n",
       "                {&quot;sticky&quot;: true}\n",
       "            );\n",
       "        \n",
       "    \n",
       "            var circle_f33a53e4a781d1d103413b5b3e1a1963 = L.circle(\n",
       "                [31.202, 121.4491],\n",
       "                {&quot;bubblingMouseEvents&quot;: true, &quot;color&quot;: &quot;red&quot;, &quot;dashArray&quot;: null, &quot;dashOffset&quot;: null, &quot;fill&quot;: true, &quot;fillColor&quot;: &quot;indigo&quot;, &quot;fillOpacity&quot;: 0.2, &quot;fillRule&quot;: &quot;evenodd&quot;, &quot;lineCap&quot;: &quot;round&quot;, &quot;lineJoin&quot;: &quot;round&quot;, &quot;opacity&quot;: 1.0, &quot;radius&quot;: 56000.0, &quot;stroke&quot;: true, &quot;weight&quot;: 3}\n",
       "            ).addTo(map_01f8206293aa103112e128106147057e);\n",
       "        \n",
       "    \n",
       "            circle_f33a53e4a781d1d103413b5b3e1a1963.bindTooltip(\n",
       "                `&lt;div&gt;\n",
       "                     &lt;div style=&#x27;margin: 0; background-color: black; color: white;&#x27;&gt;&lt;h4 style=&#x27;text-align:center;font-weight: bold&#x27;&gt;China&lt;/h4&gt;&lt;hr style=&#x27;margin:10px;color: white;&#x27;&gt;&lt;ul style=&#x27;color: white;;list-style-type:circle;align-item:left;padding-left:20px;padding-right:20px&#x27;&gt;&lt;li&gt;Confirmed: 64581&lt;/li&gt;&lt;li&gt;Deaths:   7&lt;/li&gt;&lt;li&gt;Death Rate: 0.01&lt;/li&gt;&lt;/ul&gt;&lt;/div&gt;\n",
       "                 &lt;/div&gt;`,\n",
       "                {&quot;sticky&quot;: true}\n",
       "            );\n",
       "        \n",
       "    \n",
       "            var circle_3902ee02eaed2e445a3f276fc6f50f19 = L.circle(\n",
       "                [37.5777, 112.2922],\n",
       "                {&quot;bubblingMouseEvents&quot;: true, &quot;color&quot;: &quot;red&quot;, &quot;dashArray&quot;: null, &quot;dashOffset&quot;: null, &quot;fill&quot;: true, &quot;fillColor&quot;: &quot;indigo&quot;, &quot;fillOpacity&quot;: 0.2, &quot;fillRule&quot;: &quot;evenodd&quot;, &quot;lineCap&quot;: &quot;round&quot;, &quot;lineJoin&quot;: &quot;round&quot;, &quot;opacity&quot;: 1.0, &quot;radius&quot;: 41000.0, &quot;stroke&quot;: true, &quot;weight&quot;: 3}\n",
       "            ).addTo(map_01f8206293aa103112e128106147057e);\n",
       "        \n",
       "    \n",
       "            circle_3902ee02eaed2e445a3f276fc6f50f19.bindTooltip(\n",
       "                `&lt;div&gt;\n",
       "                     &lt;div style=&#x27;margin: 0; background-color: black; color: white;&#x27;&gt;&lt;h4 style=&#x27;text-align:center;font-weight: bold&#x27;&gt;China&lt;/h4&gt;&lt;hr style=&#x27;margin:10px;color: white;&#x27;&gt;&lt;ul style=&#x27;color: white;;list-style-type:circle;align-item:left;padding-left:20px;padding-right:20px&#x27;&gt;&lt;li&gt;Confirmed: 4076&lt;/li&gt;&lt;li&gt;Deaths:   595&lt;/li&gt;&lt;li&gt;Death Rate: 14.59&lt;/li&gt;&lt;/ul&gt;&lt;/div&gt;\n",
       "                 &lt;/div&gt;`,\n",
       "                {&quot;sticky&quot;: true}\n",
       "            );\n",
       "        \n",
       "    \n",
       "            var circle_2837bf78c334bc76cb4ec5ee0835abf0 = L.circle(\n",
       "                [30.6171, 102.7103],\n",
       "                {&quot;bubblingMouseEvents&quot;: true, &quot;color&quot;: &quot;red&quot;, &quot;dashArray&quot;: null, &quot;dashOffset&quot;: null, &quot;fill&quot;: true, &quot;fillColor&quot;: &quot;indigo&quot;, &quot;fillOpacity&quot;: 0.2, &quot;fillRule&quot;: &quot;evenodd&quot;, &quot;lineCap&quot;: &quot;round&quot;, &quot;lineJoin&quot;: &quot;round&quot;, &quot;opacity&quot;: 1.0, &quot;radius&quot;: 46000.0, &quot;stroke&quot;: true, &quot;weight&quot;: 3}\n",
       "            ).addTo(map_01f8206293aa103112e128106147057e);\n",
       "        \n",
       "    \n",
       "            circle_2837bf78c334bc76cb4ec5ee0835abf0.bindTooltip(\n",
       "                `&lt;div&gt;\n",
       "                     &lt;div style=&#x27;margin: 0; background-color: black; color: white;&#x27;&gt;&lt;h4 style=&#x27;text-align:center;font-weight: bold&#x27;&gt;China&lt;/h4&gt;&lt;hr style=&#x27;margin:10px;color: white;&#x27;&gt;&lt;ul style=&#x27;color: white;;list-style-type:circle;align-item:left;padding-left:20px;padding-right:20px&#x27;&gt;&lt;li&gt;Confirmed: 9453&lt;/li&gt;&lt;li&gt;Deaths:   0&lt;/li&gt;&lt;li&gt;Death Rate: 0.0&lt;/li&gt;&lt;/ul&gt;&lt;/div&gt;\n",
       "                 &lt;/div&gt;`,\n",
       "                {&quot;sticky&quot;: true}\n",
       "            );\n",
       "        \n",
       "    \n",
       "            var circle_0f4a2a8d2475d67fc11610fa063dbed8 = L.circle(\n",
       "                [39.3054, 117.323],\n",
       "                {&quot;bubblingMouseEvents&quot;: true, &quot;color&quot;: &quot;red&quot;, &quot;dashArray&quot;: null, &quot;dashOffset&quot;: null, &quot;fill&quot;: true, &quot;fillColor&quot;: &quot;indigo&quot;, &quot;fillOpacity&quot;: 0.2, &quot;fillRule&quot;: &quot;evenodd&quot;, &quot;lineCap&quot;: &quot;round&quot;, &quot;lineJoin&quot;: &quot;round&quot;, &quot;opacity&quot;: 1.0, &quot;radius&quot;: 36000.0, &quot;stroke&quot;: true, &quot;weight&quot;: 3}\n",
       "            ).addTo(map_01f8206293aa103112e128106147057e);\n",
       "        \n",
       "    \n",
       "            circle_0f4a2a8d2475d67fc11610fa063dbed8.bindTooltip(\n",
       "                `&lt;div&gt;\n",
       "                     &lt;div style=&#x27;margin: 0; background-color: black; color: white;&#x27;&gt;&lt;h4 style=&#x27;text-align:center;font-weight: bold&#x27;&gt;China&lt;/h4&gt;&lt;hr style=&#x27;margin:10px;color: white;&#x27;&gt;&lt;ul style=&#x27;color: white;;list-style-type:circle;align-item:left;padding-left:20px;padding-right:20px&#x27;&gt;&lt;li&gt;Confirmed: 2602&lt;/li&gt;&lt;li&gt;Deaths:   4&lt;/li&gt;&lt;li&gt;Death Rate: 0.15&lt;/li&gt;&lt;/ul&gt;&lt;/div&gt;\n",
       "                 &lt;/div&gt;`,\n",
       "                {&quot;sticky&quot;: true}\n",
       "            );\n",
       "        \n",
       "    \n",
       "            var circle_0155d3bb7e5280feb9025b8e404714c0 = L.circle(\n",
       "                [31.6927, 88.0924],\n",
       "                {&quot;bubblingMouseEvents&quot;: true, &quot;color&quot;: &quot;red&quot;, &quot;dashArray&quot;: null, &quot;dashOffset&quot;: null, &quot;fill&quot;: true, &quot;fillColor&quot;: &quot;indigo&quot;, &quot;fillOpacity&quot;: 0.2, &quot;fillRule&quot;: &quot;evenodd&quot;, &quot;lineCap&quot;: &quot;round&quot;, &quot;lineJoin&quot;: &quot;round&quot;, &quot;opacity&quot;: 1.0, &quot;radius&quot;: 36000.0, &quot;stroke&quot;: true, &quot;weight&quot;: 3}\n",
       "            ).addTo(map_01f8206293aa103112e128106147057e);\n",
       "        \n",
       "    \n",
       "            circle_0155d3bb7e5280feb9025b8e404714c0.bindTooltip(\n",
       "                `&lt;div&gt;\n",
       "                     &lt;div style=&#x27;margin: 0; background-color: black; color: white;&#x27;&gt;&lt;h4 style=&#x27;text-align:center;font-weight: bold&#x27;&gt;China&lt;/h4&gt;&lt;hr style=&#x27;margin:10px;color: white;&#x27;&gt;&lt;ul style=&#x27;color: white;;list-style-type:circle;align-item:left;padding-left:20px;padding-right:20px&#x27;&gt;&lt;li&gt;Confirmed: 1513&lt;/li&gt;&lt;li&gt;Deaths:   3&lt;/li&gt;&lt;li&gt;Death Rate: 0.2&lt;/li&gt;&lt;/ul&gt;&lt;/div&gt;\n",
       "                 &lt;/div&gt;`,\n",
       "                {&quot;sticky&quot;: true}\n",
       "            );\n",
       "        \n",
       "    \n",
       "            var circle_0b06d1787b6f20dcb6e188f162121ce8 = L.circle(\n",
       "                [41.1129, 85.2401],\n",
       "                {&quot;bubblingMouseEvents&quot;: true, &quot;color&quot;: &quot;red&quot;, &quot;dashArray&quot;: null, &quot;dashOffset&quot;: null, &quot;fill&quot;: true, &quot;fillColor&quot;: &quot;indigo&quot;, &quot;fillOpacity&quot;: 0.2, &quot;fillRule&quot;: &quot;evenodd&quot;, &quot;lineCap&quot;: &quot;round&quot;, &quot;lineJoin&quot;: &quot;round&quot;, &quot;opacity&quot;: 1.0, &quot;radius&quot;: 36000.0, &quot;stroke&quot;: true, &quot;weight&quot;: 3}\n",
       "            ).addTo(map_01f8206293aa103112e128106147057e);\n",
       "        \n",
       "    \n",
       "            circle_0b06d1787b6f20dcb6e188f162121ce8.bindTooltip(\n",
       "                `&lt;div&gt;\n",
       "                     &lt;div style=&#x27;margin: 0; background-color: black; color: white;&#x27;&gt;&lt;h4 style=&#x27;text-align:center;font-weight: bold&#x27;&gt;China&lt;/h4&gt;&lt;hr style=&#x27;margin:10px;color: white;&#x27;&gt;&lt;ul style=&#x27;color: white;;list-style-type:circle;align-item:left;padding-left:20px;padding-right:20px&#x27;&gt;&lt;li&gt;Confirmed: 2545&lt;/li&gt;&lt;li&gt;Deaths:   0&lt;/li&gt;&lt;li&gt;Death Rate: 0.0&lt;/li&gt;&lt;/ul&gt;&lt;/div&gt;\n",
       "                 &lt;/div&gt;`,\n",
       "                {&quot;sticky&quot;: true}\n",
       "            );\n",
       "        \n",
       "    \n",
       "            var circle_e36bd56b202406e93f82ff45a95ccfca = L.circle(\n",
       "                [24.974, 101.487],\n",
       "                {&quot;bubblingMouseEvents&quot;: true, &quot;color&quot;: &quot;red&quot;, &quot;dashArray&quot;: null, &quot;dashOffset&quot;: null, &quot;fill&quot;: true, &quot;fillColor&quot;: &quot;indigo&quot;, &quot;fillOpacity&quot;: 0.2, &quot;fillRule&quot;: &quot;evenodd&quot;, &quot;lineCap&quot;: &quot;round&quot;, &quot;lineJoin&quot;: &quot;round&quot;, &quot;opacity&quot;: 1.0, &quot;radius&quot;: 41000.0, &quot;stroke&quot;: true, &quot;weight&quot;: 3}\n",
       "            ).addTo(map_01f8206293aa103112e128106147057e);\n",
       "        \n",
       "    \n",
       "            circle_e36bd56b202406e93f82ff45a95ccfca.bindTooltip(\n",
       "                `&lt;div&gt;\n",
       "                     &lt;div style=&#x27;margin: 0; background-color: black; color: white;&#x27;&gt;&lt;h4 style=&#x27;text-align:center;font-weight: bold&#x27;&gt;China&lt;/h4&gt;&lt;hr style=&#x27;margin:10px;color: white;&#x27;&gt;&lt;ul style=&#x27;color: white;;list-style-type:circle;align-item:left;padding-left:20px;padding-right:20px&#x27;&gt;&lt;li&gt;Confirmed: 4092&lt;/li&gt;&lt;li&gt;Deaths:   0&lt;/li&gt;&lt;li&gt;Death Rate: 0.0&lt;/li&gt;&lt;/ul&gt;&lt;/div&gt;\n",
       "                 &lt;/div&gt;`,\n",
       "                {&quot;sticky&quot;: true}\n",
       "            );\n",
       "        \n",
       "    \n",
       "            var circle_774b3322bba16b533d9607b1c4dbc04b = L.circle(\n",
       "                [29.1832, 120.0934],\n",
       "                {&quot;bubblingMouseEvents&quot;: true, &quot;color&quot;: &quot;red&quot;, &quot;dashArray&quot;: null, &quot;dashOffset&quot;: null, &quot;fill&quot;: true, &quot;fillColor&quot;: &quot;indigo&quot;, &quot;fillOpacity&quot;: 0.2, &quot;fillRule&quot;: &quot;evenodd&quot;, &quot;lineCap&quot;: &quot;round&quot;, &quot;lineJoin&quot;: &quot;round&quot;, &quot;opacity&quot;: 1.0, &quot;radius&quot;: 41000.0, &quot;stroke&quot;: true, &quot;weight&quot;: 3}\n",
       "            ).addTo(map_01f8206293aa103112e128106147057e);\n",
       "        \n",
       "    \n",
       "            circle_774b3322bba16b533d9607b1c4dbc04b.bindTooltip(\n",
       "                `&lt;div&gt;\n",
       "                     &lt;div style=&#x27;margin: 0; background-color: black; color: white;&#x27;&gt;&lt;h4 style=&#x27;text-align:center;font-weight: bold&#x27;&gt;China&lt;/h4&gt;&lt;hr style=&#x27;margin:10px;color: white;&#x27;&gt;&lt;ul style=&#x27;color: white;;list-style-type:circle;align-item:left;padding-left:20px;padding-right:20px&#x27;&gt;&lt;li&gt;Confirmed: 4239&lt;/li&gt;&lt;li&gt;Deaths:   3&lt;/li&gt;&lt;li&gt;Death Rate: 0.07&lt;/li&gt;&lt;/ul&gt;&lt;/div&gt;\n",
       "                 &lt;/div&gt;`,\n",
       "                {&quot;sticky&quot;: true}\n",
       "            );\n",
       "        \n",
       "    \n",
       "            var circle_9bd751b2d08c56584d4d59b9932b1a63 = L.circle(\n",
       "                [4.5709, -74.2973],\n",
       "                {&quot;bubblingMouseEvents&quot;: true, &quot;color&quot;: &quot;red&quot;, &quot;dashArray&quot;: null, &quot;dashOffset&quot;: null, &quot;fill&quot;: true, &quot;fillColor&quot;: &quot;indigo&quot;, &quot;fillOpacity&quot;: 0.2, &quot;fillRule&quot;: &quot;evenodd&quot;, &quot;lineCap&quot;: &quot;round&quot;, &quot;lineJoin&quot;: &quot;round&quot;, &quot;opacity&quot;: 1.0, &quot;radius&quot;: 76000.0, &quot;stroke&quot;: true, &quot;weight&quot;: 3}\n",
       "            ).addTo(map_01f8206293aa103112e128106147057e);\n",
       "        \n",
       "    \n",
       "            circle_9bd751b2d08c56584d4d59b9932b1a63.bindTooltip(\n",
       "                `&lt;div&gt;\n",
       "                     &lt;div style=&#x27;margin: 0; background-color: black; color: white;&#x27;&gt;&lt;h4 style=&#x27;text-align:center;font-weight: bold&#x27;&gt;Colombia&lt;/h4&gt;&lt;hr style=&#x27;margin:10px;color: white;&#x27;&gt;&lt;ul style=&#x27;color: white;;list-style-type:circle;align-item:left;padding-left:20px;padding-right:20px&#x27;&gt;&lt;li&gt;Confirmed: 6312657&lt;/li&gt;&lt;li&gt;Deaths:   2&lt;/li&gt;&lt;li&gt;Death Rate: 0.0&lt;/li&gt;&lt;/ul&gt;&lt;/div&gt;\n",
       "                 &lt;/div&gt;`,\n",
       "                {&quot;sticky&quot;: true}\n",
       "            );\n",
       "        \n",
       "    \n",
       "            var circle_bf7f0ba486dc962a549c2fd344ac8c27 = L.circle(\n",
       "                [-11.6455, 43.3333],\n",
       "                {&quot;bubblingMouseEvents&quot;: true, &quot;color&quot;: &quot;red&quot;, &quot;dashArray&quot;: null, &quot;dashOffset&quot;: null, &quot;fill&quot;: true, &quot;fillColor&quot;: &quot;indigo&quot;, &quot;fillOpacity&quot;: 0.2, &quot;fillRule&quot;: &quot;evenodd&quot;, &quot;lineCap&quot;: &quot;round&quot;, &quot;lineJoin&quot;: &quot;round&quot;, &quot;opacity&quot;: 1.0, &quot;radius&quot;: 46000.0, &quot;stroke&quot;: true, &quot;weight&quot;: 3}\n",
       "            ).addTo(map_01f8206293aa103112e128106147057e);\n",
       "        \n",
       "    \n",
       "            circle_bf7f0ba486dc962a549c2fd344ac8c27.bindTooltip(\n",
       "                `&lt;div&gt;\n",
       "                     &lt;div style=&#x27;margin: 0; background-color: black; color: white;&#x27;&gt;&lt;h4 style=&#x27;text-align:center;font-weight: bold&#x27;&gt;Comoros&lt;/h4&gt;&lt;hr style=&#x27;margin:10px;color: white;&#x27;&gt;&lt;ul style=&#x27;color: white;;list-style-type:circle;align-item:left;padding-left:20px;padding-right:20px&#x27;&gt;&lt;li&gt;Confirmed: 8965&lt;/li&gt;&lt;li&gt;Deaths:   1&lt;/li&gt;&lt;li&gt;Death Rate: 0.01&lt;/li&gt;&lt;/ul&gt;&lt;/div&gt;\n",
       "                 &lt;/div&gt;`,\n",
       "                {&quot;sticky&quot;: true}\n",
       "            );\n",
       "        \n",
       "    \n",
       "            var circle_853ab38701c3e41d1e3542c636fd6a3c = L.circle(\n",
       "                [-0.228, 15.8277],\n",
       "                {&quot;bubblingMouseEvents&quot;: true, &quot;color&quot;: &quot;red&quot;, &quot;dashArray&quot;: null, &quot;dashOffset&quot;: null, &quot;fill&quot;: true, &quot;fillColor&quot;: &quot;indigo&quot;, &quot;fillOpacity&quot;: 0.2, &quot;fillRule&quot;: &quot;evenodd&quot;, &quot;lineCap&quot;: &quot;round&quot;, &quot;lineJoin&quot;: &quot;round&quot;, &quot;opacity&quot;: 1.0, &quot;radius&quot;: 51000.0, &quot;stroke&quot;: true, &quot;weight&quot;: 3}\n",
       "            ).addTo(map_01f8206293aa103112e128106147057e);\n",
       "        \n",
       "    \n",
       "            circle_853ab38701c3e41d1e3542c636fd6a3c.bindTooltip(\n",
       "                `&lt;div&gt;\n",
       "                     &lt;div style=&#x27;margin: 0; background-color: black; color: white;&#x27;&gt;&lt;h4 style=&#x27;text-align:center;font-weight: bold&#x27;&gt;Congo (Brazzaville)&lt;/h4&gt;&lt;hr style=&#x27;margin:10px;color: white;&#x27;&gt;&lt;ul style=&#x27;color: white;;list-style-type:circle;align-item:left;padding-left:20px;padding-right:20px&#x27;&gt;&lt;li&gt;Confirmed: 25375&lt;/li&gt;&lt;li&gt;Deaths:   141881&lt;/li&gt;&lt;li&gt;Death Rate: 559.11&lt;/li&gt;&lt;/ul&gt;&lt;/div&gt;\n",
       "                 &lt;/div&gt;`,\n",
       "                {&quot;sticky&quot;: true}\n",
       "            );\n",
       "        \n",
       "    \n",
       "            var circle_cb540580f9161fa64a4d277eb45fb015 = L.circle(\n",
       "                [-4.0383, 21.7587],\n",
       "                {&quot;bubblingMouseEvents&quot;: true, &quot;color&quot;: &quot;red&quot;, &quot;dashArray&quot;: null, &quot;dashOffset&quot;: null, &quot;fill&quot;: true, &quot;fillColor&quot;: &quot;indigo&quot;, &quot;fillOpacity&quot;: 0.2, &quot;fillRule&quot;: &quot;evenodd&quot;, &quot;lineCap&quot;: &quot;round&quot;, &quot;lineJoin&quot;: &quot;round&quot;, &quot;opacity&quot;: 1.0, &quot;radius&quot;: 56000.0, &quot;stroke&quot;: true, &quot;weight&quot;: 3}\n",
       "            ).addTo(map_01f8206293aa103112e128106147057e);\n",
       "        \n",
       "    \n",
       "            circle_cb540580f9161fa64a4d277eb45fb015.bindTooltip(\n",
       "                `&lt;div&gt;\n",
       "                     &lt;div style=&#x27;margin: 0; background-color: black; color: white;&#x27;&gt;&lt;h4 style=&#x27;text-align:center;font-weight: bold&#x27;&gt;Congo (Kinshasa)&lt;/h4&gt;&lt;hr style=&#x27;margin:10px;color: white;&#x27;&gt;&lt;ul style=&#x27;color: white;;list-style-type:circle;align-item:left;padding-left:20px;padding-right:20px&#x27;&gt;&lt;li&gt;Confirmed: 94204&lt;/li&gt;&lt;li&gt;Deaths:   161&lt;/li&gt;&lt;li&gt;Death Rate: 0.17&lt;/li&gt;&lt;/ul&gt;&lt;/div&gt;\n",
       "                 &lt;/div&gt;`,\n",
       "                {&quot;sticky&quot;: true}\n",
       "            );\n",
       "        \n",
       "    \n",
       "            var circle_cfa5ee5e19978fb4bf785087d916db9a = L.circle(\n",
       "                [9.7489, -83.7534],\n",
       "                {&quot;bubblingMouseEvents&quot;: true, &quot;color&quot;: &quot;red&quot;, &quot;dashArray&quot;: null, &quot;dashOffset&quot;: null, &quot;fill&quot;: true, &quot;fillColor&quot;: &quot;indigo&quot;, &quot;fillOpacity&quot;: 0.2, &quot;fillRule&quot;: &quot;evenodd&quot;, &quot;lineCap&quot;: &quot;round&quot;, &quot;lineJoin&quot;: &quot;round&quot;, &quot;opacity&quot;: 1.0, &quot;radius&quot;: 66000.0, &quot;stroke&quot;: true, &quot;weight&quot;: 3}\n",
       "            ).addTo(map_01f8206293aa103112e128106147057e);\n",
       "        \n",
       "    \n",
       "            circle_cfa5ee5e19978fb4bf785087d916db9a.bindTooltip(\n",
       "                `&lt;div&gt;\n",
       "                     &lt;div style=&#x27;margin: 0; background-color: black; color: white;&#x27;&gt;&lt;h4 style=&#x27;text-align:center;font-weight: bold&#x27;&gt;Costa Rica&lt;/h4&gt;&lt;hr style=&#x27;margin:10px;color: white;&#x27;&gt;&lt;ul style=&#x27;color: white;;list-style-type:circle;align-item:left;padding-left:20px;padding-right:20px&#x27;&gt;&lt;li&gt;Confirmed: 1146135&lt;/li&gt;&lt;li&gt;Deaths:   386&lt;/li&gt;&lt;li&gt;Death Rate: 0.03&lt;/li&gt;&lt;/ul&gt;&lt;/div&gt;\n",
       "                 &lt;/div&gt;`,\n",
       "                {&quot;sticky&quot;: true}\n",
       "            );\n",
       "        \n",
       "    \n",
       "            var circle_8e768f769b6fdf7cb1e9b07c98baf257 = L.circle(\n",
       "                [7.54, -5.5471],\n",
       "                {&quot;bubblingMouseEvents&quot;: true, &quot;color&quot;: &quot;red&quot;, &quot;dashArray&quot;: null, &quot;dashOffset&quot;: null, &quot;fill&quot;: true, &quot;fillColor&quot;: &quot;indigo&quot;, &quot;fillOpacity&quot;: 0.2, &quot;fillRule&quot;: &quot;evenodd&quot;, &quot;lineCap&quot;: &quot;round&quot;, &quot;lineJoin&quot;: &quot;round&quot;, &quot;opacity&quot;: 1.0, &quot;radius&quot;: 56000.0, &quot;stroke&quot;: true, &quot;weight&quot;: 3}\n",
       "            ).addTo(map_01f8206293aa103112e128106147057e);\n",
       "        \n",
       "    \n",
       "            circle_8e768f769b6fdf7cb1e9b07c98baf257.bindTooltip(\n",
       "                `&lt;div&gt;\n",
       "                     &lt;div style=&#x27;margin: 0; background-color: black; color: white;&#x27;&gt;&lt;h4 style=&#x27;text-align:center;font-weight: bold&#x27;&gt;Cote d&#x27;Ivoire&lt;/h4&gt;&lt;hr style=&#x27;margin:10px;color: white;&#x27;&gt;&lt;ul style=&#x27;color: white;;list-style-type:circle;align-item:left;padding-left:20px;padding-right:20px&#x27;&gt;&lt;li&gt;Confirmed: 87885&lt;/li&gt;&lt;li&gt;Deaths:   1455&lt;/li&gt;&lt;li&gt;Death Rate: 1.66&lt;/li&gt;&lt;/ul&gt;&lt;/div&gt;\n",
       "                 &lt;/div&gt;`,\n",
       "                {&quot;sticky&quot;: true}\n",
       "            );\n",
       "        \n",
       "    \n",
       "            var circle_bb17813b26271a16c21f3359421755e0 = L.circle(\n",
       "                [45.1, 15.2],\n",
       "                {&quot;bubblingMouseEvents&quot;: true, &quot;color&quot;: &quot;red&quot;, &quot;dashArray&quot;: null, &quot;dashOffset&quot;: null, &quot;fill&quot;: true, &quot;fillColor&quot;: &quot;indigo&quot;, &quot;fillOpacity&quot;: 0.2, &quot;fillRule&quot;: &quot;evenodd&quot;, &quot;lineCap&quot;: &quot;round&quot;, &quot;lineJoin&quot;: &quot;round&quot;, &quot;opacity&quot;: 1.0, &quot;radius&quot;: 71000.0, &quot;stroke&quot;: true, &quot;weight&quot;: 3}\n",
       "            ).addTo(map_01f8206293aa103112e128106147057e);\n",
       "        \n",
       "    \n",
       "            circle_bb17813b26271a16c21f3359421755e0.bindTooltip(\n",
       "                `&lt;div&gt;\n",
       "                     &lt;div style=&#x27;margin: 0; background-color: black; color: white;&#x27;&gt;&lt;h4 style=&#x27;text-align:center;font-weight: bold&#x27;&gt;Croatia&lt;/h4&gt;&lt;hr style=&#x27;margin:10px;color: white;&#x27;&gt;&lt;ul style=&#x27;color: white;;list-style-type:circle;align-item:left;padding-left:20px;padding-right:20px&#x27;&gt;&lt;li&gt;Confirmed: 1253761&lt;/li&gt;&lt;li&gt;Deaths:   9038&lt;/li&gt;&lt;li&gt;Death Rate: 0.72&lt;/li&gt;&lt;/ul&gt;&lt;/div&gt;\n",
       "                 &lt;/div&gt;`,\n",
       "                {&quot;sticky&quot;: true}\n",
       "            );\n",
       "        \n",
       "    \n",
       "            var circle_3637be76d0c26f8d2d99be9c11b508fb = L.circle(\n",
       "                [21.521757, -77.781167],\n",
       "                {&quot;bubblingMouseEvents&quot;: true, &quot;color&quot;: &quot;red&quot;, &quot;dashArray&quot;: null, &quot;dashOffset&quot;: null, &quot;fill&quot;: true, &quot;fillColor&quot;: &quot;indigo&quot;, &quot;fillOpacity&quot;: 0.2, &quot;fillRule&quot;: &quot;evenodd&quot;, &quot;lineCap&quot;: &quot;round&quot;, &quot;lineJoin&quot;: &quot;round&quot;, &quot;opacity&quot;: 1.0, &quot;radius&quot;: 66000.0, &quot;stroke&quot;: true, &quot;weight&quot;: 3}\n",
       "            ).addTo(map_01f8206293aa103112e128106147057e);\n",
       "        \n",
       "    \n",
       "            circle_3637be76d0c26f8d2d99be9c11b508fb.bindTooltip(\n",
       "                `&lt;div&gt;\n",
       "                     &lt;div style=&#x27;margin: 0; background-color: black; color: white;&#x27;&gt;&lt;h4 style=&#x27;text-align:center;font-weight: bold&#x27;&gt;Cuba&lt;/h4&gt;&lt;hr style=&#x27;margin:10px;color: white;&#x27;&gt;&lt;ul style=&#x27;color: white;;list-style-type:circle;align-item:left;padding-left:20px;padding-right:20px&#x27;&gt;&lt;li&gt;Confirmed: 1111392&lt;/li&gt;&lt;li&gt;Deaths:   830&lt;/li&gt;&lt;li&gt;Death Rate: 0.07&lt;/li&gt;&lt;/ul&gt;&lt;/div&gt;\n",
       "                 &lt;/div&gt;`,\n",
       "                {&quot;sticky&quot;: true}\n",
       "            );\n",
       "        \n",
       "    \n",
       "            var circle_05fa6c0a6c6cc829c2ccc6fb86d0c4f6 = L.circle(\n",
       "                [35.1264, 33.4299],\n",
       "                {&quot;bubblingMouseEvents&quot;: true, &quot;color&quot;: &quot;red&quot;, &quot;dashArray&quot;: null, &quot;dashOffset&quot;: null, &quot;fill&quot;: true, &quot;fillColor&quot;: &quot;indigo&quot;, &quot;fillOpacity&quot;: 0.2, &quot;fillRule&quot;: &quot;evenodd&quot;, &quot;lineCap&quot;: &quot;round&quot;, &quot;lineJoin&quot;: &quot;round&quot;, &quot;opacity&quot;: 1.0, &quot;radius&quot;: 66000.0, &quot;stroke&quot;: true, &quot;weight&quot;: 3}\n",
       "            ).addTo(map_01f8206293aa103112e128106147057e);\n",
       "        \n",
       "    \n",
       "            circle_05fa6c0a6c6cc829c2ccc6fb86d0c4f6.bindTooltip(\n",
       "                `&lt;div&gt;\n",
       "                     &lt;div style=&#x27;margin: 0; background-color: black; color: white;&#x27;&gt;&lt;h4 style=&#x27;text-align:center;font-weight: bold&#x27;&gt;Cyprus&lt;/h4&gt;&lt;hr style=&#x27;margin:10px;color: white;&#x27;&gt;&lt;ul style=&#x27;color: white;;list-style-type:circle;align-item:left;padding-left:20px;padding-right:20px&#x27;&gt;&lt;li&gt;Confirmed: 614237&lt;/li&gt;&lt;li&gt;Deaths:   17316&lt;/li&gt;&lt;li&gt;Death Rate: 2.82&lt;/li&gt;&lt;/ul&gt;&lt;/div&gt;\n",
       "                 &lt;/div&gt;`,\n",
       "                {&quot;sticky&quot;: true}\n",
       "            );\n",
       "        \n",
       "    \n",
       "            var circle_6392bdaba7a82905298d0618fae9a60d = L.circle(\n",
       "                [49.8175, 15.473],\n",
       "                {&quot;bubblingMouseEvents&quot;: true, &quot;color&quot;: &quot;red&quot;, &quot;dashArray&quot;: null, &quot;dashOffset&quot;: null, &quot;fill&quot;: true, &quot;fillColor&quot;: &quot;indigo&quot;, &quot;fillOpacity&quot;: 0.2, &quot;fillRule&quot;: &quot;evenodd&quot;, &quot;lineCap&quot;: &quot;round&quot;, &quot;lineJoin&quot;: &quot;round&quot;, &quot;opacity&quot;: 1.0, &quot;radius&quot;: 76000.0, &quot;stroke&quot;: true, &quot;weight&quot;: 3}\n",
       "            ).addTo(map_01f8206293aa103112e128106147057e);\n",
       "        \n",
       "    \n",
       "            circle_6392bdaba7a82905298d0618fae9a60d.bindTooltip(\n",
       "                `&lt;div&gt;\n",
       "                     &lt;div style=&#x27;margin: 0; background-color: black; color: white;&#x27;&gt;&lt;h4 style=&#x27;text-align:center;font-weight: bold&#x27;&gt;Czechia&lt;/h4&gt;&lt;hr style=&#x27;margin:10px;color: white;&#x27;&gt;&lt;ul style=&#x27;color: white;;list-style-type:circle;align-item:left;padding-left:20px;padding-right:20px&#x27;&gt;&lt;li&gt;Confirmed: 4558202&lt;/li&gt;&lt;li&gt;Deaths:   8530&lt;/li&gt;&lt;li&gt;Death Rate: 0.19&lt;/li&gt;&lt;/ul&gt;&lt;/div&gt;\n",
       "                 &lt;/div&gt;`,\n",
       "                {&quot;sticky&quot;: true}\n",
       "            );\n",
       "        \n",
       "    \n",
       "            var circle_f62470f99d357e46b8f9168fe5e2d590 = L.circle(\n",
       "                [61.8926, -6.9118],\n",
       "                {&quot;bubblingMouseEvents&quot;: true, &quot;color&quot;: &quot;red&quot;, &quot;dashArray&quot;: null, &quot;dashOffset&quot;: null, &quot;fill&quot;: true, &quot;fillColor&quot;: &quot;indigo&quot;, &quot;fillOpacity&quot;: 0.2, &quot;fillRule&quot;: &quot;evenodd&quot;, &quot;lineCap&quot;: &quot;round&quot;, &quot;lineJoin&quot;: &quot;round&quot;, &quot;opacity&quot;: 1.0, &quot;radius&quot;: 51000.0, &quot;stroke&quot;: true, &quot;weight&quot;: 3}\n",
       "            ).addTo(map_01f8206293aa103112e128106147057e);\n",
       "        \n",
       "    \n",
       "            circle_f62470f99d357e46b8f9168fe5e2d590.bindTooltip(\n",
       "                `&lt;div&gt;\n",
       "                     &lt;div style=&#x27;margin: 0; background-color: black; color: white;&#x27;&gt;&lt;h4 style=&#x27;text-align:center;font-weight: bold&#x27;&gt;Denmark&lt;/h4&gt;&lt;hr style=&#x27;margin:10px;color: white;&#x27;&gt;&lt;ul style=&#x27;color: white;;list-style-type:circle;align-item:left;padding-left:20px;padding-right:20px&#x27;&gt;&lt;li&gt;Confirmed: 34658&lt;/li&gt;&lt;li&gt;Deaths:   1226&lt;/li&gt;&lt;li&gt;Death Rate: 3.54&lt;/li&gt;&lt;/ul&gt;&lt;/div&gt;\n",
       "                 &lt;/div&gt;`,\n",
       "                {&quot;sticky&quot;: true}\n",
       "            );\n",
       "        \n",
       "    \n",
       "            var circle_4167398f6c38e04f00a1f0d01ff9426a = L.circle(\n",
       "                [71.7069, -42.6043],\n",
       "                {&quot;bubblingMouseEvents&quot;: true, &quot;color&quot;: &quot;red&quot;, &quot;dashArray&quot;: null, &quot;dashOffset&quot;: null, &quot;fill&quot;: true, &quot;fillColor&quot;: &quot;indigo&quot;, &quot;fillOpacity&quot;: 0.2, &quot;fillRule&quot;: &quot;evenodd&quot;, &quot;lineCap&quot;: &quot;round&quot;, &quot;lineJoin&quot;: &quot;round&quot;, &quot;opacity&quot;: 1.0, &quot;radius&quot;: 46000.0, &quot;stroke&quot;: true, &quot;weight&quot;: 3}\n",
       "            ).addTo(map_01f8206293aa103112e128106147057e);\n",
       "        \n",
       "    \n",
       "            circle_4167398f6c38e04f00a1f0d01ff9426a.bindTooltip(\n",
       "                `&lt;div&gt;\n",
       "                     &lt;div style=&#x27;margin: 0; background-color: black; color: white;&#x27;&gt;&lt;h4 style=&#x27;text-align:center;font-weight: bold&#x27;&gt;Denmark&lt;/h4&gt;&lt;hr style=&#x27;margin:10px;color: white;&#x27;&gt;&lt;ul style=&#x27;color: white;;list-style-type:circle;align-item:left;padding-left:20px;padding-right:20px&#x27;&gt;&lt;li&gt;Confirmed: 11971&lt;/li&gt;&lt;li&gt;Deaths:   41882&lt;/li&gt;&lt;li&gt;Death Rate: 349.83&lt;/li&gt;&lt;/ul&gt;&lt;/div&gt;\n",
       "                 &lt;/div&gt;`,\n",
       "                {&quot;sticky&quot;: true}\n",
       "            );\n",
       "        \n",
       "    \n",
       "            var circle_079471cb23f6f79426f4dc0ce90a3250 = L.circle(\n",
       "                [56.2639, 9.5018],\n",
       "                {&quot;bubblingMouseEvents&quot;: true, &quot;color&quot;: &quot;red&quot;, &quot;dashArray&quot;: null, &quot;dashOffset&quot;: null, &quot;fill&quot;: true, &quot;fillColor&quot;: &quot;indigo&quot;, &quot;fillOpacity&quot;: 0.2, &quot;fillRule&quot;: &quot;evenodd&quot;, &quot;lineCap&quot;: &quot;round&quot;, &quot;lineJoin&quot;: &quot;round&quot;, &quot;opacity&quot;: 1.0, &quot;radius&quot;: 76000.0, &quot;stroke&quot;: true, &quot;weight&quot;: 3}\n",
       "            ).addTo(map_01f8206293aa103112e128106147057e);\n",
       "        \n",
       "    \n",
       "            circle_079471cb23f6f79426f4dc0ce90a3250.bindTooltip(\n",
       "                `&lt;div&gt;\n",
       "                     &lt;div style=&#x27;margin: 0; background-color: black; color: white;&#x27;&gt;&lt;h4 style=&#x27;text-align:center;font-weight: bold&#x27;&gt;Denmark&lt;/h4&gt;&lt;hr style=&#x27;margin:10px;color: white;&#x27;&gt;&lt;ul style=&#x27;color: white;;list-style-type:circle;align-item:left;padding-left:20px;padding-right:20px&#x27;&gt;&lt;li&gt;Confirmed: 3353700&lt;/li&gt;&lt;li&gt;Deaths:   28&lt;/li&gt;&lt;li&gt;Death Rate: 0.0&lt;/li&gt;&lt;/ul&gt;&lt;/div&gt;\n",
       "                 &lt;/div&gt;`,\n",
       "                {&quot;sticky&quot;: true}\n",
       "            );\n",
       "        \n",
       "    \n",
       "            var circle_079f281cb8e29256cb4b9a8fc54edf28 = L.circle(\n",
       "                [0.0, 0.0],\n",
       "                {&quot;bubblingMouseEvents&quot;: true, &quot;color&quot;: &quot;red&quot;, &quot;dashArray&quot;: null, &quot;dashOffset&quot;: null, &quot;fill&quot;: true, &quot;fillColor&quot;: &quot;indigo&quot;, &quot;fillOpacity&quot;: 0.2, &quot;fillRule&quot;: &quot;evenodd&quot;, &quot;lineCap&quot;: &quot;round&quot;, &quot;lineJoin&quot;: &quot;round&quot;, &quot;opacity&quot;: 1.0, &quot;radius&quot;: 31000.0, &quot;stroke&quot;: true, &quot;weight&quot;: 3}\n",
       "            ).addTo(map_01f8206293aa103112e128106147057e);\n",
       "        \n",
       "    \n",
       "            circle_079f281cb8e29256cb4b9a8fc54edf28.bindTooltip(\n",
       "                `&lt;div&gt;\n",
       "                     &lt;div style=&#x27;margin: 0; background-color: black; color: white;&#x27;&gt;&lt;h4 style=&#x27;text-align:center;font-weight: bold&#x27;&gt;Diamond Princess&lt;/h4&gt;&lt;hr style=&#x27;margin:10px;color: white;&#x27;&gt;&lt;ul style=&#x27;color: white;;list-style-type:circle;align-item:left;padding-left:20px;padding-right:20px&#x27;&gt;&lt;li&gt;Confirmed: 712&lt;/li&gt;&lt;li&gt;Deaths:   21&lt;/li&gt;&lt;li&gt;Death Rate: 2.95&lt;/li&gt;&lt;/ul&gt;&lt;/div&gt;\n",
       "                 &lt;/div&gt;`,\n",
       "                {&quot;sticky&quot;: true}\n",
       "            );\n",
       "        \n",
       "    \n",
       "            var circle_6e9472de71dea37ee17d5e31f34989b3 = L.circle(\n",
       "                [11.8251, 42.5903],\n",
       "                {&quot;bubblingMouseEvents&quot;: true, &quot;color&quot;: &quot;red&quot;, &quot;dashArray&quot;: null, &quot;dashOffset&quot;: null, &quot;fill&quot;: true, &quot;fillColor&quot;: &quot;indigo&quot;, &quot;fillOpacity&quot;: 0.2, &quot;fillRule&quot;: &quot;evenodd&quot;, &quot;lineCap&quot;: &quot;round&quot;, &quot;lineJoin&quot;: &quot;round&quot;, &quot;opacity&quot;: 1.0, &quot;radius&quot;: 46000.0, &quot;stroke&quot;: true, &quot;weight&quot;: 3}\n",
       "            ).addTo(map_01f8206293aa103112e128106147057e);\n",
       "        \n",
       "    \n",
       "            circle_6e9472de71dea37ee17d5e31f34989b3.bindTooltip(\n",
       "                `&lt;div&gt;\n",
       "                     &lt;div style=&#x27;margin: 0; background-color: black; color: white;&#x27;&gt;&lt;h4 style=&#x27;text-align:center;font-weight: bold&#x27;&gt;Djibouti&lt;/h4&gt;&lt;hr style=&#x27;margin:10px;color: white;&#x27;&gt;&lt;ul style=&#x27;color: white;;list-style-type:circle;align-item:left;padding-left:20px;padding-right:20px&#x27;&gt;&lt;li&gt;Confirmed: 15690&lt;/li&gt;&lt;li&gt;Deaths:   7532&lt;/li&gt;&lt;li&gt;Death Rate: 48.0&lt;/li&gt;&lt;/ul&gt;&lt;/div&gt;\n",
       "                 &lt;/div&gt;`,\n",
       "                {&quot;sticky&quot;: true}\n",
       "            );\n",
       "        \n",
       "    \n",
       "            var circle_30b336f12ee237defdf0e6320bf176df = L.circle(\n",
       "                [15.415, -61.371],\n",
       "                {&quot;bubblingMouseEvents&quot;: true, &quot;color&quot;: &quot;red&quot;, &quot;dashArray&quot;: null, &quot;dashOffset&quot;: null, &quot;fill&quot;: true, &quot;fillColor&quot;: &quot;indigo&quot;, &quot;fillOpacity&quot;: 0.2, &quot;fillRule&quot;: &quot;evenodd&quot;, &quot;lineCap&quot;: &quot;round&quot;, &quot;lineJoin&quot;: &quot;round&quot;, &quot;opacity&quot;: 1.0, &quot;radius&quot;: 46000.0, &quot;stroke&quot;: true, &quot;weight&quot;: 3}\n",
       "            ).addTo(map_01f8206293aa103112e128106147057e);\n",
       "        \n",
       "    \n",
       "            circle_30b336f12ee237defdf0e6320bf176df.bindTooltip(\n",
       "                `&lt;div&gt;\n",
       "                     &lt;div style=&#x27;margin: 0; background-color: black; color: white;&#x27;&gt;&lt;h4 style=&#x27;text-align:center;font-weight: bold&#x27;&gt;Dominica&lt;/h4&gt;&lt;hr style=&#x27;margin:10px;color: white;&#x27;&gt;&lt;ul style=&#x27;color: white;;list-style-type:circle;align-item:left;padding-left:20px;padding-right:20px&#x27;&gt;&lt;li&gt;Confirmed: 15760&lt;/li&gt;&lt;li&gt;Deaths:   13&lt;/li&gt;&lt;li&gt;Death Rate: 0.08&lt;/li&gt;&lt;/ul&gt;&lt;/div&gt;\n",
       "                 &lt;/div&gt;`,\n",
       "                {&quot;sticky&quot;: true}\n",
       "            );\n",
       "        \n",
       "    \n",
       "            var circle_779d2595483aed0f165c2a5a079fbd85 = L.circle(\n",
       "                [18.7357, -70.1627],\n",
       "                {&quot;bubblingMouseEvents&quot;: true, &quot;color&quot;: &quot;red&quot;, &quot;dashArray&quot;: null, &quot;dashOffset&quot;: null, &quot;fill&quot;: true, &quot;fillColor&quot;: &quot;indigo&quot;, &quot;fillOpacity&quot;: 0.2, &quot;fillRule&quot;: &quot;evenodd&quot;, &quot;lineCap&quot;: &quot;round&quot;, &quot;lineJoin&quot;: &quot;round&quot;, &quot;opacity&quot;: 1.0, &quot;radius&quot;: 66000.0, &quot;stroke&quot;: true, &quot;weight&quot;: 3}\n",
       "            ).addTo(map_01f8206293aa103112e128106147057e);\n",
       "        \n",
       "    \n",
       "            circle_779d2595483aed0f165c2a5a079fbd85.bindTooltip(\n",
       "                `&lt;div&gt;\n",
       "                     &lt;div style=&#x27;margin: 0; background-color: black; color: white;&#x27;&gt;&lt;h4 style=&#x27;text-align:center;font-weight: bold&#x27;&gt;Dominican Republic&lt;/h4&gt;&lt;hr style=&#x27;margin:10px;color: white;&#x27;&gt;&lt;ul style=&#x27;color: white;;list-style-type:circle;align-item:left;padding-left:20px;padding-right:20px&#x27;&gt;&lt;li&gt;Confirmed: 650381&lt;/li&gt;&lt;li&gt;Deaths:   189&lt;/li&gt;&lt;li&gt;Death Rate: 0.03&lt;/li&gt;&lt;/ul&gt;&lt;/div&gt;\n",
       "                 &lt;/div&gt;`,\n",
       "                {&quot;sticky&quot;: true}\n",
       "            );\n",
       "        \n",
       "    \n",
       "            var circle_4b799091e733e62a0a488f71e9a2aa70 = L.circle(\n",
       "                [-1.8312, -78.1834],\n",
       "                {&quot;bubblingMouseEvents&quot;: true, &quot;color&quot;: &quot;red&quot;, &quot;dashArray&quot;: null, &quot;dashOffset&quot;: null, &quot;fill&quot;: true, &quot;fillColor&quot;: &quot;indigo&quot;, &quot;fillOpacity&quot;: 0.2, &quot;fillRule&quot;: &quot;evenodd&quot;, &quot;lineCap&quot;: &quot;round&quot;, &quot;lineJoin&quot;: &quot;round&quot;, &quot;opacity&quot;: 1.0, &quot;radius&quot;: 66000.0, &quot;stroke&quot;: true, &quot;weight&quot;: 3}\n",
       "            ).addTo(map_01f8206293aa103112e128106147057e);\n",
       "        \n",
       "    \n",
       "            circle_4b799091e733e62a0a488f71e9a2aa70.bindTooltip(\n",
       "                `&lt;div&gt;\n",
       "                     &lt;div style=&#x27;margin: 0; background-color: black; color: white;&#x27;&gt;&lt;h4 style=&#x27;text-align:center;font-weight: bold&#x27;&gt;Ecuador&lt;/h4&gt;&lt;hr style=&#x27;margin:10px;color: white;&#x27;&gt;&lt;ul style=&#x27;color: white;;list-style-type:circle;align-item:left;padding-left:20px;padding-right:20px&#x27;&gt;&lt;li&gt;Confirmed: 1011132&lt;/li&gt;&lt;li&gt;Deaths:   74&lt;/li&gt;&lt;li&gt;Death Rate: 0.01&lt;/li&gt;&lt;/ul&gt;&lt;/div&gt;\n",
       "                 &lt;/div&gt;`,\n",
       "                {&quot;sticky&quot;: true}\n",
       "            );\n",
       "        \n",
       "    \n",
       "            var circle_1f4537830b74e4d52d4e3eedf09b705e = L.circle(\n",
       "                [26.820553, 30.802498],\n",
       "                {&quot;bubblingMouseEvents&quot;: true, &quot;color&quot;: &quot;red&quot;, &quot;dashArray&quot;: null, &quot;dashOffset&quot;: null, &quot;fill&quot;: true, &quot;fillColor&quot;: &quot;indigo&quot;, &quot;fillOpacity&quot;: 0.2, &quot;fillRule&quot;: &quot;evenodd&quot;, &quot;lineCap&quot;: &quot;round&quot;, &quot;lineJoin&quot;: &quot;round&quot;, &quot;opacity&quot;: 1.0, &quot;radius&quot;: 66000.0, &quot;stroke&quot;: true, &quot;weight&quot;: 3}\n",
       "            ).addTo(map_01f8206293aa103112e128106147057e);\n",
       "        \n",
       "    \n",
       "            circle_1f4537830b74e4d52d4e3eedf09b705e.bindTooltip(\n",
       "                `&lt;div&gt;\n",
       "                     &lt;div style=&#x27;margin: 0; background-color: black; color: white;&#x27;&gt;&lt;h4 style=&#x27;text-align:center;font-weight: bold&#x27;&gt;Egypt&lt;/h4&gt;&lt;hr style=&#x27;margin:10px;color: white;&#x27;&gt;&lt;ul style=&#x27;color: white;;list-style-type:circle;align-item:left;padding-left:20px;padding-right:20px&#x27;&gt;&lt;li&gt;Confirmed: 515645&lt;/li&gt;&lt;li&gt;Deaths:   4384&lt;/li&gt;&lt;li&gt;Death Rate: 0.85&lt;/li&gt;&lt;/ul&gt;&lt;/div&gt;\n",
       "                 &lt;/div&gt;`,\n",
       "                {&quot;sticky&quot;: true}\n",
       "            );\n",
       "        \n",
       "    \n",
       "            var circle_d2dbb4438ce12445b8e3341a61f804ba = L.circle(\n",
       "                [13.7942, -88.8965],\n",
       "                {&quot;bubblingMouseEvents&quot;: true, &quot;color&quot;: &quot;red&quot;, &quot;dashArray&quot;: null, &quot;dashOffset&quot;: null, &quot;fill&quot;: true, &quot;fillColor&quot;: &quot;indigo&quot;, &quot;fillOpacity&quot;: 0.2, &quot;fillRule&quot;: &quot;evenodd&quot;, &quot;lineCap&quot;: &quot;round&quot;, &quot;lineJoin&quot;: &quot;round&quot;, &quot;opacity&quot;: 1.0, &quot;radius&quot;: 61000.0, &quot;stroke&quot;: true, &quot;weight&quot;: 3}\n",
       "            ).addTo(map_01f8206293aa103112e128106147057e);\n",
       "        \n",
       "    \n",
       "            circle_d2dbb4438ce12445b8e3341a61f804ba.bindTooltip(\n",
       "                `&lt;div&gt;\n",
       "                     &lt;div style=&#x27;margin: 0; background-color: black; color: white;&#x27;&gt;&lt;h4 style=&#x27;text-align:center;font-weight: bold&#x27;&gt;El Salvador&lt;/h4&gt;&lt;hr style=&#x27;margin:10px;color: white;&#x27;&gt;&lt;ul style=&#x27;color: white;;list-style-type:circle;align-item:left;padding-left:20px;padding-right:20px&#x27;&gt;&lt;li&gt;Confirmed: 201785&lt;/li&gt;&lt;li&gt;Deaths:   35940&lt;/li&gt;&lt;li&gt;Death Rate: 17.81&lt;/li&gt;&lt;/ul&gt;&lt;/div&gt;\n",
       "                 &lt;/div&gt;`,\n",
       "                {&quot;sticky&quot;: true}\n",
       "            );\n",
       "        \n",
       "    \n",
       "            var circle_b0043e10b8f6bc82d1c07f5814fb9847 = L.circle(\n",
       "                [1.6508, 10.2679],\n",
       "                {&quot;bubblingMouseEvents&quot;: true, &quot;color&quot;: &quot;red&quot;, &quot;dashArray&quot;: null, &quot;dashOffset&quot;: null, &quot;fill&quot;: true, &quot;fillColor&quot;: &quot;indigo&quot;, &quot;fillOpacity&quot;: 0.2, &quot;fillRule&quot;: &quot;evenodd&quot;, &quot;lineCap&quot;: &quot;round&quot;, &quot;lineJoin&quot;: &quot;round&quot;, &quot;opacity&quot;: 1.0, &quot;radius&quot;: 46000.0, &quot;stroke&quot;: true, &quot;weight&quot;: 3}\n",
       "            ).addTo(map_01f8206293aa103112e128106147057e);\n",
       "        \n",
       "    \n",
       "            circle_b0043e10b8f6bc82d1c07f5814fb9847.bindTooltip(\n",
       "                `&lt;div&gt;\n",
       "                     &lt;div style=&#x27;margin: 0; background-color: black; color: white;&#x27;&gt;&lt;h4 style=&#x27;text-align:center;font-weight: bold&#x27;&gt;Equatorial Guinea&lt;/h4&gt;&lt;hr style=&#x27;margin:10px;color: white;&#x27;&gt;&lt;ul style=&#x27;color: white;;list-style-type:circle;align-item:left;padding-left:20px;padding-right:20px&#x27;&gt;&lt;li&gt;Confirmed: 17183&lt;/li&gt;&lt;li&gt;Deaths:   24798&lt;/li&gt;&lt;li&gt;Death Rate: 144.31&lt;/li&gt;&lt;/ul&gt;&lt;/div&gt;\n",
       "                 &lt;/div&gt;`,\n",
       "                {&quot;sticky&quot;: true}\n",
       "            );\n",
       "        \n",
       "    \n",
       "            var circle_3e5129b55c7de272eee5dfd712eeb127 = L.circle(\n",
       "                [15.1794, 39.7823],\n",
       "                {&quot;bubblingMouseEvents&quot;: true, &quot;color&quot;: &quot;red&quot;, &quot;dashArray&quot;: null, &quot;dashOffset&quot;: null, &quot;fill&quot;: true, &quot;fillColor&quot;: &quot;indigo&quot;, &quot;fillOpacity&quot;: 0.2, &quot;fillRule&quot;: &quot;evenodd&quot;, &quot;lineCap&quot;: &quot;round&quot;, &quot;lineJoin&quot;: &quot;round&quot;, &quot;opacity&quot;: 1.0, &quot;radius&quot;: 46000.0, &quot;stroke&quot;: true, &quot;weight&quot;: 3}\n",
       "            ).addTo(map_01f8206293aa103112e128106147057e);\n",
       "        \n",
       "    \n",
       "            circle_3e5129b55c7de272eee5dfd712eeb127.bindTooltip(\n",
       "                `&lt;div&gt;\n",
       "                     &lt;div style=&#x27;margin: 0; background-color: black; color: white;&#x27;&gt;&lt;h4 style=&#x27;text-align:center;font-weight: bold&#x27;&gt;Eritrea&lt;/h4&gt;&lt;hr style=&#x27;margin:10px;color: white;&#x27;&gt;&lt;ul style=&#x27;color: white;;list-style-type:circle;align-item:left;padding-left:20px;padding-right:20px&#x27;&gt;&lt;li&gt;Confirmed: 10189&lt;/li&gt;&lt;li&gt;Deaths:   4230&lt;/li&gt;&lt;li&gt;Death Rate: 41.51&lt;/li&gt;&lt;/ul&gt;&lt;/div&gt;\n",
       "                 &lt;/div&gt;`,\n",
       "                {&quot;sticky&quot;: true}\n",
       "            );\n",
       "        \n",
       "    \n",
       "            var circle_d48b93c98c88c6cd6768cda4d6923be8 = L.circle(\n",
       "                [58.5953, 25.0136],\n",
       "                {&quot;bubblingMouseEvents&quot;: true, &quot;color&quot;: &quot;red&quot;, &quot;dashArray&quot;: null, &quot;dashOffset&quot;: null, &quot;fill&quot;: true, &quot;fillColor&quot;: &quot;indigo&quot;, &quot;fillOpacity&quot;: 0.2, &quot;fillRule&quot;: &quot;evenodd&quot;, &quot;lineCap&quot;: &quot;round&quot;, &quot;lineJoin&quot;: &quot;round&quot;, &quot;opacity&quot;: 1.0, &quot;radius&quot;: 66000.0, &quot;stroke&quot;: true, &quot;weight&quot;: 3}\n",
       "            ).addTo(map_01f8206293aa103112e128106147057e);\n",
       "        \n",
       "    \n",
       "            circle_d48b93c98c88c6cd6768cda4d6923be8.bindTooltip(\n",
       "                `&lt;div&gt;\n",
       "                     &lt;div style=&#x27;margin: 0; background-color: black; color: white;&#x27;&gt;&lt;h4 style=&#x27;text-align:center;font-weight: bold&#x27;&gt;Estonia&lt;/h4&gt;&lt;hr style=&#x27;margin:10px;color: white;&#x27;&gt;&lt;ul style=&#x27;color: white;;list-style-type:circle;align-item:left;padding-left:20px;padding-right:20px&#x27;&gt;&lt;li&gt;Confirmed: 609297&lt;/li&gt;&lt;li&gt;Deaths:   183&lt;/li&gt;&lt;li&gt;Death Rate: 0.03&lt;/li&gt;&lt;/ul&gt;&lt;/div&gt;\n",
       "                 &lt;/div&gt;`,\n",
       "                {&quot;sticky&quot;: true}\n",
       "            );\n",
       "        \n",
       "    \n",
       "            var circle_c2861cf58495190f8c573d0b67fd0e36 = L.circle(\n",
       "                [-26.5225, 31.4659],\n",
       "                {&quot;bubblingMouseEvents&quot;: true, &quot;color&quot;: &quot;red&quot;, &quot;dashArray&quot;: null, &quot;dashOffset&quot;: null, &quot;fill&quot;: true, &quot;fillColor&quot;: &quot;indigo&quot;, &quot;fillOpacity&quot;: 0.2, &quot;fillRule&quot;: &quot;evenodd&quot;, &quot;lineCap&quot;: &quot;round&quot;, &quot;lineJoin&quot;: &quot;round&quot;, &quot;opacity&quot;: 1.0, &quot;radius&quot;: 56000.0, &quot;stroke&quot;: true, &quot;weight&quot;: 3}\n",
       "            ).addTo(map_01f8206293aa103112e128106147057e);\n",
       "        \n",
       "    \n",
       "            circle_c2861cf58495190f8c573d0b67fd0e36.bindTooltip(\n",
       "                `&lt;div&gt;\n",
       "                     &lt;div style=&#x27;margin: 0; background-color: black; color: white;&#x27;&gt;&lt;h4 style=&#x27;text-align:center;font-weight: bold&#x27;&gt;Eswatini&lt;/h4&gt;&lt;hr style=&#x27;margin:10px;color: white;&#x27;&gt;&lt;ul style=&#x27;color: white;;list-style-type:circle;align-item:left;padding-left:20px;padding-right:20px&#x27;&gt;&lt;li&gt;Confirmed: 73770&lt;/li&gt;&lt;li&gt;Deaths:   103&lt;/li&gt;&lt;li&gt;Death Rate: 0.14&lt;/li&gt;&lt;/ul&gt;&lt;/div&gt;\n",
       "                 &lt;/div&gt;`,\n",
       "                {&quot;sticky&quot;: true}\n",
       "            );\n",
       "        \n",
       "    \n",
       "            var circle_e2dd5bcb795db15b4299b6a694cf6f10 = L.circle(\n",
       "                [9.145, 40.4897],\n",
       "                {&quot;bubblingMouseEvents&quot;: true, &quot;color&quot;: &quot;red&quot;, &quot;dashArray&quot;: null, &quot;dashOffset&quot;: null, &quot;fill&quot;: true, &quot;fillColor&quot;: &quot;indigo&quot;, &quot;fillOpacity&quot;: 0.2, &quot;fillRule&quot;: &quot;evenodd&quot;, &quot;lineCap&quot;: &quot;round&quot;, &quot;lineJoin&quot;: &quot;round&quot;, &quot;opacity&quot;: 1.0, &quot;radius&quot;: 66000.0, &quot;stroke&quot;: true, &quot;weight&quot;: 3}\n",
       "            ).addTo(map_01f8206293aa103112e128106147057e);\n",
       "        \n",
       "    \n",
       "            circle_e2dd5bcb795db15b4299b6a694cf6f10.bindTooltip(\n",
       "                `&lt;div&gt;\n",
       "                     &lt;div style=&#x27;margin: 0; background-color: black; color: white;&#x27;&gt;&lt;h4 style=&#x27;text-align:center;font-weight: bold&#x27;&gt;Ethiopia&lt;/h4&gt;&lt;hr style=&#x27;margin:10px;color: white;&#x27;&gt;&lt;ul style=&#x27;color: white;;list-style-type:circle;align-item:left;padding-left:20px;padding-right:20px&#x27;&gt;&lt;li&gt;Confirmed: 494578&lt;/li&gt;&lt;li&gt;Deaths:   2790&lt;/li&gt;&lt;li&gt;Death Rate: 0.56&lt;/li&gt;&lt;/ul&gt;&lt;/div&gt;\n",
       "                 &lt;/div&gt;`,\n",
       "                {&quot;sticky&quot;: true}\n",
       "            );\n",
       "        \n",
       "    \n",
       "            var circle_c214c488156910d9616deb13497a3ded = L.circle(\n",
       "                [-17.7134, 178.065],\n",
       "                {&quot;bubblingMouseEvents&quot;: true, &quot;color&quot;: &quot;red&quot;, &quot;dashArray&quot;: null, &quot;dashOffset&quot;: null, &quot;fill&quot;: true, &quot;fillColor&quot;: &quot;indigo&quot;, &quot;fillOpacity&quot;: 0.2, &quot;fillRule&quot;: &quot;evenodd&quot;, &quot;lineCap&quot;: &quot;round&quot;, &quot;lineJoin&quot;: &quot;round&quot;, &quot;opacity&quot;: 1.0, &quot;radius&quot;: 56000.0, &quot;stroke&quot;: true, &quot;weight&quot;: 3}\n",
       "            ).addTo(map_01f8206293aa103112e128106147057e);\n",
       "        \n",
       "    \n",
       "            circle_c214c488156910d9616deb13497a3ded.bindTooltip(\n",
       "                `&lt;div&gt;\n",
       "                     &lt;div style=&#x27;margin: 0; background-color: black; color: white;&#x27;&gt;&lt;h4 style=&#x27;text-align:center;font-weight: bold&#x27;&gt;Fiji&lt;/h4&gt;&lt;hr style=&#x27;margin:10px;color: white;&#x27;&gt;&lt;ul style=&#x27;color: white;;list-style-type:circle;align-item:left;padding-left:20px;padding-right:20px&#x27;&gt;&lt;li&gt;Confirmed: 68375&lt;/li&gt;&lt;li&gt;Deaths:   1422&lt;/li&gt;&lt;li&gt;Death Rate: 2.08&lt;/li&gt;&lt;/ul&gt;&lt;/div&gt;\n",
       "                 &lt;/div&gt;`,\n",
       "                {&quot;sticky&quot;: true}\n",
       "            );\n",
       "        \n",
       "    \n",
       "            var circle_e320eaaab01637c1f86f5be14b37e131 = L.circle(\n",
       "                [61.92411, 25.748151],\n",
       "                {&quot;bubblingMouseEvents&quot;: true, &quot;color&quot;: &quot;red&quot;, &quot;dashArray&quot;: null, &quot;dashOffset&quot;: null, &quot;fill&quot;: true, &quot;fillColor&quot;: &quot;indigo&quot;, &quot;fillOpacity&quot;: 0.2, &quot;fillRule&quot;: &quot;evenodd&quot;, &quot;lineCap&quot;: &quot;round&quot;, &quot;lineJoin&quot;: &quot;round&quot;, &quot;opacity&quot;: 1.0, &quot;radius&quot;: 71000.0, &quot;stroke&quot;: true, &quot;weight&quot;: 3}\n",
       "            ).addTo(map_01f8206293aa103112e128106147057e);\n",
       "        \n",
       "    \n",
       "            circle_e320eaaab01637c1f86f5be14b37e131.bindTooltip(\n",
       "                `&lt;div&gt;\n",
       "                     &lt;div style=&#x27;margin: 0; background-color: black; color: white;&#x27;&gt;&lt;h4 style=&#x27;text-align:center;font-weight: bold&#x27;&gt;Finland&lt;/h4&gt;&lt;hr style=&#x27;margin:10px;color: white;&#x27;&gt;&lt;ul style=&#x27;color: white;;list-style-type:circle;align-item:left;padding-left:20px;padding-right:20px&#x27;&gt;&lt;li&gt;Confirmed: 1394254&lt;/li&gt;&lt;li&gt;Deaths:   7572&lt;/li&gt;&lt;li&gt;Death Rate: 0.54&lt;/li&gt;&lt;/ul&gt;&lt;/div&gt;\n",
       "                 &lt;/div&gt;`,\n",
       "                {&quot;sticky&quot;: true}\n",
       "            );\n",
       "        \n",
       "    \n",
       "            var circle_b500c2cf3661360ce9cfcc0acd4eef33 = L.circle(\n",
       "                [3.9339, -53.1258],\n",
       "                {&quot;bubblingMouseEvents&quot;: true, &quot;color&quot;: &quot;red&quot;, &quot;dashArray&quot;: null, &quot;dashOffset&quot;: null, &quot;fill&quot;: true, &quot;fillColor&quot;: &quot;indigo&quot;, &quot;fillOpacity&quot;: 0.2, &quot;fillRule&quot;: &quot;evenodd&quot;, &quot;lineCap&quot;: &quot;round&quot;, &quot;lineJoin&quot;: &quot;round&quot;, &quot;opacity&quot;: 1.0, &quot;radius&quot;: 56000.0, &quot;stroke&quot;: true, &quot;weight&quot;: 3}\n",
       "            ).addTo(map_01f8206293aa103112e128106147057e);\n",
       "        \n",
       "    \n",
       "            circle_b500c2cf3661360ce9cfcc0acd4eef33.bindTooltip(\n",
       "                `&lt;div&gt;\n",
       "                     &lt;div style=&#x27;margin: 0; background-color: black; color: white;&#x27;&gt;&lt;h4 style=&#x27;text-align:center;font-weight: bold&#x27;&gt;France&lt;/h4&gt;&lt;hr style=&#x27;margin:10px;color: white;&#x27;&gt;&lt;ul style=&#x27;color: white;;list-style-type:circle;align-item:left;padding-left:20px;padding-right:20px&#x27;&gt;&lt;li&gt;Confirmed: 95451&lt;/li&gt;&lt;li&gt;Deaths:   878&lt;/li&gt;&lt;li&gt;Death Rate: 0.92&lt;/li&gt;&lt;/ul&gt;&lt;/div&gt;\n",
       "                 &lt;/div&gt;`,\n",
       "                {&quot;sticky&quot;: true}\n",
       "            );\n",
       "        \n",
       "    \n",
       "            var circle_de815a8b3e9f187c26586f39e297c17a = L.circle(\n",
       "                [-17.6797, 149.4068],\n",
       "                {&quot;bubblingMouseEvents&quot;: true, &quot;color&quot;: &quot;red&quot;, &quot;dashArray&quot;: null, &quot;dashOffset&quot;: null, &quot;fill&quot;: true, &quot;fillColor&quot;: &quot;indigo&quot;, &quot;fillOpacity&quot;: 0.2, &quot;fillRule&quot;: &quot;evenodd&quot;, &quot;lineCap&quot;: &quot;round&quot;, &quot;lineJoin&quot;: &quot;round&quot;, &quot;opacity&quot;: 1.0, &quot;radius&quot;: 56000.0, &quot;stroke&quot;: true, &quot;weight&quot;: 3}\n",
       "            ).addTo(map_01f8206293aa103112e128106147057e);\n",
       "        \n",
       "    \n",
       "            circle_de815a8b3e9f187c26586f39e297c17a.bindTooltip(\n",
       "                `&lt;div&gt;\n",
       "                     &lt;div style=&#x27;margin: 0; background-color: black; color: white;&#x27;&gt;&lt;h4 style=&#x27;text-align:center;font-weight: bold&#x27;&gt;France&lt;/h4&gt;&lt;hr style=&#x27;margin:10px;color: white;&#x27;&gt;&lt;ul style=&#x27;color: white;;list-style-type:circle;align-item:left;padding-left:20px;padding-right:20px&#x27;&gt;&lt;li&gt;Confirmed: 76985&lt;/li&gt;&lt;li&gt;Deaths:   7265&lt;/li&gt;&lt;li&gt;Death Rate: 9.44&lt;/li&gt;&lt;/ul&gt;&lt;/div&gt;\n",
       "                 &lt;/div&gt;`,\n",
       "                {&quot;sticky&quot;: true}\n",
       "            );\n",
       "        \n",
       "    \n",
       "            var circle_e5aafecaccd292871ba989a7952c55a9 = L.circle(\n",
       "                [16.265, -61.551],\n",
       "                {&quot;bubblingMouseEvents&quot;: true, &quot;color&quot;: &quot;red&quot;, &quot;dashArray&quot;: null, &quot;dashOffset&quot;: null, &quot;fill&quot;: true, &quot;fillColor&quot;: &quot;indigo&quot;, &quot;fillOpacity&quot;: 0.2, &quot;fillRule&quot;: &quot;evenodd&quot;, &quot;lineCap&quot;: &quot;round&quot;, &quot;lineJoin&quot;: &quot;round&quot;, &quot;opacity&quot;: 1.0, &quot;radius&quot;: 61000.0, &quot;stroke&quot;: true, &quot;weight&quot;: 3}\n",
       "            ).addTo(map_01f8206293aa103112e128106147057e);\n",
       "        \n",
       "    \n",
       "            circle_e5aafecaccd292871ba989a7952c55a9.bindTooltip(\n",
       "                `&lt;div&gt;\n",
       "                     &lt;div style=&#x27;margin: 0; background-color: black; color: white;&#x27;&gt;&lt;h4 style=&#x27;text-align:center;font-weight: bold&#x27;&gt;France&lt;/h4&gt;&lt;hr style=&#x27;margin:10px;color: white;&#x27;&gt;&lt;ul style=&#x27;color: white;;list-style-type:circle;align-item:left;padding-left:20px;padding-right:20px&#x27;&gt;&lt;li&gt;Confirmed: 197918&lt;/li&gt;&lt;li&gt;Deaths:   411&lt;/li&gt;&lt;li&gt;Death Rate: 0.21&lt;/li&gt;&lt;/ul&gt;&lt;/div&gt;\n",
       "                 &lt;/div&gt;`,\n",
       "                {&quot;sticky&quot;: true}\n",
       "            );\n",
       "        \n",
       "    \n",
       "            var circle_260a9670dc681afa7747c219ea43b827 = L.circle(\n",
       "                [14.6415, -61.0242],\n",
       "                {&quot;bubblingMouseEvents&quot;: true, &quot;color&quot;: &quot;red&quot;, &quot;dashArray&quot;: null, &quot;dashOffset&quot;: null, &quot;fill&quot;: true, &quot;fillColor&quot;: &quot;indigo&quot;, &quot;fillOpacity&quot;: 0.2, &quot;fillRule&quot;: &quot;evenodd&quot;, &quot;lineCap&quot;: &quot;round&quot;, &quot;lineJoin&quot;: &quot;round&quot;, &quot;opacity&quot;: 1.0, &quot;radius&quot;: 61000.0, &quot;stroke&quot;: true, &quot;weight&quot;: 3}\n",
       "            ).addTo(map_01f8206293aa103112e128106147057e);\n",
       "        \n",
       "    \n",
       "            circle_260a9670dc681afa7747c219ea43b827.bindTooltip(\n",
       "                `&lt;div&gt;\n",
       "                     &lt;div style=&#x27;margin: 0; background-color: black; color: white;&#x27;&gt;&lt;h4 style=&#x27;text-align:center;font-weight: bold&#x27;&gt;France&lt;/h4&gt;&lt;hr style=&#x27;margin:10px;color: white;&#x27;&gt;&lt;ul style=&#x27;color: white;;list-style-type:circle;align-item:left;padding-left:20px;padding-right:20px&#x27;&gt;&lt;li&gt;Confirmed: 224468&lt;/li&gt;&lt;li&gt;Deaths:   649&lt;/li&gt;&lt;li&gt;Death Rate: 0.29&lt;/li&gt;&lt;/ul&gt;&lt;/div&gt;\n",
       "                 &lt;/div&gt;`,\n",
       "                {&quot;sticky&quot;: true}\n",
       "            );\n",
       "        \n",
       "    \n",
       "            var circle_9bbb906177c825fc7800f15601a2d7ed = L.circle(\n",
       "                [-12.8275, 45.166244],\n",
       "                {&quot;bubblingMouseEvents&quot;: true, &quot;color&quot;: &quot;red&quot;, &quot;dashArray&quot;: null, &quot;dashOffset&quot;: null, &quot;fill&quot;: true, &quot;fillColor&quot;: &quot;indigo&quot;, &quot;fillOpacity&quot;: 0.2, &quot;fillRule&quot;: &quot;evenodd&quot;, &quot;lineCap&quot;: &quot;round&quot;, &quot;lineJoin&quot;: &quot;round&quot;, &quot;opacity&quot;: 1.0, &quot;radius&quot;: 51000.0, &quot;stroke&quot;: true, &quot;weight&quot;: 3}\n",
       "            ).addTo(map_01f8206293aa103112e128106147057e);\n",
       "        \n",
       "    \n",
       "            circle_9bbb906177c825fc7800f15601a2d7ed.bindTooltip(\n",
       "                `&lt;div&gt;\n",
       "                     &lt;div style=&#x27;margin: 0; background-color: black; color: white;&#x27;&gt;&lt;h4 style=&#x27;text-align:center;font-weight: bold&#x27;&gt;France&lt;/h4&gt;&lt;hr style=&#x27;margin:10px;color: white;&#x27;&gt;&lt;ul style=&#x27;color: white;;list-style-type:circle;align-item:left;padding-left:20px;padding-right:20px&#x27;&gt;&lt;li&gt;Confirmed: 41176&lt;/li&gt;&lt;li&gt;Deaths:   995&lt;/li&gt;&lt;li&gt;Death Rate: 2.42&lt;/li&gt;&lt;/ul&gt;&lt;/div&gt;\n",
       "                 &lt;/div&gt;`,\n",
       "                {&quot;sticky&quot;: true}\n",
       "            );\n",
       "        \n",
       "    \n",
       "            var circle_cc5c12438ce3a9e931480b9172d2c85c = L.circle(\n",
       "                [-20.904305, 165.618042],\n",
       "                {&quot;bubblingMouseEvents&quot;: true, &quot;color&quot;: &quot;red&quot;, &quot;dashArray&quot;: null, &quot;dashOffset&quot;: null, &quot;fill&quot;: true, &quot;fillColor&quot;: &quot;indigo&quot;, &quot;fillOpacity&quot;: 0.2, &quot;fillRule&quot;: &quot;evenodd&quot;, &quot;lineCap&quot;: &quot;round&quot;, &quot;lineJoin&quot;: &quot;round&quot;, &quot;opacity&quot;: 1.0, &quot;radius&quot;: 56000.0, &quot;stroke&quot;: true, &quot;weight&quot;: 3}\n",
       "            ).addTo(map_01f8206293aa103112e128106147057e);\n",
       "        \n",
       "    \n",
       "            circle_cc5c12438ce3a9e931480b9172d2c85c.bindTooltip(\n",
       "                `&lt;div&gt;\n",
       "                     &lt;div style=&#x27;margin: 0; background-color: black; color: white;&#x27;&gt;&lt;h4 style=&#x27;text-align:center;font-weight: bold&#x27;&gt;France&lt;/h4&gt;&lt;hr style=&#x27;margin:10px;color: white;&#x27;&gt;&lt;ul style=&#x27;color: white;;list-style-type:circle;align-item:left;padding-left:20px;padding-right:20px&#x27;&gt;&lt;li&gt;Confirmed: 76187&lt;/li&gt;&lt;li&gt;Deaths:   1071&lt;/li&gt;&lt;li&gt;Death Rate: 1.41&lt;/li&gt;&lt;/ul&gt;&lt;/div&gt;\n",
       "                 &lt;/div&gt;`,\n",
       "                {&quot;sticky&quot;: true}\n",
       "            );\n",
       "        \n",
       "    \n",
       "            var circle_3a18043929f24071c0d89f19dbdd7ebb = L.circle(\n",
       "                [-21.1151, 55.5364],\n",
       "                {&quot;bubblingMouseEvents&quot;: true, &quot;color&quot;: &quot;red&quot;, &quot;dashArray&quot;: null, &quot;dashOffset&quot;: null, &quot;fill&quot;: true, &quot;fillColor&quot;: &quot;indigo&quot;, &quot;fillOpacity&quot;: 0.2, &quot;fillRule&quot;: &quot;evenodd&quot;, &quot;lineCap&quot;: &quot;round&quot;, &quot;lineJoin&quot;: &quot;round&quot;, &quot;opacity&quot;: 1.0, &quot;radius&quot;: 66000.0, &quot;stroke&quot;: true, &quot;weight&quot;: 3}\n",
       "            ).addTo(map_01f8206293aa103112e128106147057e);\n",
       "        \n",
       "    \n",
       "            circle_3a18043929f24071c0d89f19dbdd7ebb.bindTooltip(\n",
       "                `&lt;div&gt;\n",
       "                     &lt;div style=&#x27;margin: 0; background-color: black; color: white;&#x27;&gt;&lt;h4 style=&#x27;text-align:center;font-weight: bold&#x27;&gt;France&lt;/h4&gt;&lt;hr style=&#x27;margin:10px;color: white;&#x27;&gt;&lt;ul style=&#x27;color: white;;list-style-type:circle;align-item:left;padding-left:20px;padding-right:20px&#x27;&gt;&lt;li&gt;Confirmed: 480323&lt;/li&gt;&lt;li&gt;Deaths:   187&lt;/li&gt;&lt;li&gt;Death Rate: 0.04&lt;/li&gt;&lt;/ul&gt;&lt;/div&gt;\n",
       "                 &lt;/div&gt;`,\n",
       "                {&quot;sticky&quot;: true}\n",
       "            );\n",
       "        \n",
       "    \n",
       "            var circle_e9d5f6204374381405a886a3a5823141 = L.circle(\n",
       "                [17.9, -62.8333],\n",
       "                {&quot;bubblingMouseEvents&quot;: true, &quot;color&quot;: &quot;red&quot;, &quot;dashArray&quot;: null, &quot;dashOffset&quot;: null, &quot;fill&quot;: true, &quot;fillColor&quot;: &quot;indigo&quot;, &quot;fillOpacity&quot;: 0.2, &quot;fillRule&quot;: &quot;evenodd&quot;, &quot;lineCap&quot;: &quot;round&quot;, &quot;lineJoin&quot;: &quot;round&quot;, &quot;opacity&quot;: 1.0, &quot;radius&quot;: 41000.0, &quot;stroke&quot;: true, &quot;weight&quot;: 3}\n",
       "            ).addTo(map_01f8206293aa103112e128106147057e);\n",
       "        \n",
       "    \n",
       "            circle_e9d5f6204374381405a886a3a5823141.bindTooltip(\n",
       "                `&lt;div&gt;\n",
       "                     &lt;div style=&#x27;margin: 0; background-color: black; color: white;&#x27;&gt;&lt;h4 style=&#x27;text-align:center;font-weight: bold&#x27;&gt;France&lt;/h4&gt;&lt;hr style=&#x27;margin:10px;color: white;&#x27;&gt;&lt;ul style=&#x27;color: white;;list-style-type:circle;align-item:left;padding-left:20px;padding-right:20px&#x27;&gt;&lt;li&gt;Confirmed: 5348&lt;/li&gt;&lt;li&gt;Deaths:   314&lt;/li&gt;&lt;li&gt;Death Rate: 5.87&lt;/li&gt;&lt;/ul&gt;&lt;/div&gt;\n",
       "                 &lt;/div&gt;`,\n",
       "                {&quot;sticky&quot;: true}\n",
       "            );\n",
       "        \n",
       "    \n",
       "            var circle_dfe1dc6ee162f212f44485a8ebe28a60 = L.circle(\n",
       "                [46.8852, -56.3159],\n",
       "                {&quot;bubblingMouseEvents&quot;: true, &quot;color&quot;: &quot;red&quot;, &quot;dashArray&quot;: null, &quot;dashOffset&quot;: null, &quot;fill&quot;: true, &quot;fillColor&quot;: &quot;indigo&quot;, &quot;fillOpacity&quot;: 0.2, &quot;fillRule&quot;: &quot;evenodd&quot;, &quot;lineCap&quot;: &quot;round&quot;, &quot;lineJoin&quot;: &quot;round&quot;, &quot;opacity&quot;: 1.0, &quot;radius&quot;: 41000.0, &quot;stroke&quot;: true, &quot;weight&quot;: 3}\n",
       "            ).addTo(map_01f8206293aa103112e128106147057e);\n",
       "        \n",
       "    \n",
       "            circle_dfe1dc6ee162f212f44485a8ebe28a60.bindTooltip(\n",
       "                `&lt;div&gt;\n",
       "                     &lt;div style=&#x27;margin: 0; background-color: black; color: white;&#x27;&gt;&lt;h4 style=&#x27;text-align:center;font-weight: bold&#x27;&gt;France&lt;/h4&gt;&lt;hr style=&#x27;margin:10px;color: white;&#x27;&gt;&lt;ul style=&#x27;color: white;;list-style-type:circle;align-item:left;padding-left:20px;padding-right:20px&#x27;&gt;&lt;li&gt;Confirmed: 3250&lt;/li&gt;&lt;li&gt;Deaths:   902&lt;/li&gt;&lt;li&gt;Death Rate: 27.75&lt;/li&gt;&lt;/ul&gt;&lt;/div&gt;\n",
       "                 &lt;/div&gt;`,\n",
       "                {&quot;sticky&quot;: true}\n",
       "            );\n",
       "        \n",
       "    \n",
       "            var circle_55701949e84386683acea1ff0ee9c1c0 = L.circle(\n",
       "                [18.0708, -63.0501],\n",
       "                {&quot;bubblingMouseEvents&quot;: true, &quot;color&quot;: &quot;red&quot;, &quot;dashArray&quot;: null, &quot;dashOffset&quot;: null, &quot;fill&quot;: true, &quot;fillColor&quot;: &quot;indigo&quot;, &quot;fillOpacity&quot;: 0.2, &quot;fillRule&quot;: &quot;evenodd&quot;, &quot;lineCap&quot;: &quot;round&quot;, &quot;lineJoin&quot;: &quot;round&quot;, &quot;opacity&quot;: 1.0, &quot;radius&quot;: 46000.0, &quot;stroke&quot;: true, &quot;weight&quot;: 3}\n",
       "            ).addTo(map_01f8206293aa103112e128106147057e);\n",
       "        \n",
       "    \n",
       "            circle_55701949e84386683acea1ff0ee9c1c0.bindTooltip(\n",
       "                `&lt;div&gt;\n",
       "                     &lt;div style=&#x27;margin: 0; background-color: black; color: white;&#x27;&gt;&lt;h4 style=&#x27;text-align:center;font-weight: bold&#x27;&gt;France&lt;/h4&gt;&lt;hr style=&#x27;margin:10px;color: white;&#x27;&gt;&lt;ul style=&#x27;color: white;;list-style-type:circle;align-item:left;padding-left:20px;padding-right:20px&#x27;&gt;&lt;li&gt;Confirmed: 12058&lt;/li&gt;&lt;li&gt;Deaths:   6&lt;/li&gt;&lt;li&gt;Death Rate: 0.05&lt;/li&gt;&lt;/ul&gt;&lt;/div&gt;\n",
       "                 &lt;/div&gt;`,\n",
       "                {&quot;sticky&quot;: true}\n",
       "            );\n",
       "        \n",
       "    \n",
       "            var circle_3cc175f03a33bcb3c84542a7adb8608f = L.circle(\n",
       "                [-14.2938, -178.1165],\n",
       "                {&quot;bubblingMouseEvents&quot;: true, &quot;color&quot;: &quot;red&quot;, &quot;dashArray&quot;: null, &quot;dashOffset&quot;: null, &quot;fill&quot;: true, &quot;fillColor&quot;: &quot;indigo&quot;, &quot;fillOpacity&quot;: 0.2, &quot;fillRule&quot;: &quot;evenodd&quot;, &quot;lineCap&quot;: &quot;round&quot;, &quot;lineJoin&quot;: &quot;round&quot;, &quot;opacity&quot;: 1.0, &quot;radius&quot;: 41000.0, &quot;stroke&quot;: true, &quot;weight&quot;: 3}\n",
       "            ).addTo(map_01f8206293aa103112e128106147057e);\n",
       "        \n",
       "    \n",
       "            circle_3cc175f03a33bcb3c84542a7adb8608f.bindTooltip(\n",
       "                `&lt;div&gt;\n",
       "                     &lt;div style=&#x27;margin: 0; background-color: black; color: white;&#x27;&gt;&lt;h4 style=&#x27;text-align:center;font-weight: bold&#x27;&gt;France&lt;/h4&gt;&lt;hr style=&#x27;margin:10px;color: white;&#x27;&gt;&lt;ul style=&#x27;color: white;;list-style-type:circle;align-item:left;padding-left:20px;padding-right:20px&#x27;&gt;&lt;li&gt;Confirmed: 3415&lt;/li&gt;&lt;li&gt;Deaths:   1&lt;/li&gt;&lt;li&gt;Death Rate: 0.03&lt;/li&gt;&lt;/ul&gt;&lt;/div&gt;\n",
       "                 &lt;/div&gt;`,\n",
       "                {&quot;sticky&quot;: true}\n",
       "            );\n",
       "        \n",
       "    \n",
       "            var circle_c341be559791bb42fbe61a2dd2f3bd96 = L.circle(\n",
       "                [46.2276, 2.2137],\n",
       "                {&quot;bubblingMouseEvents&quot;: true, &quot;color&quot;: &quot;red&quot;, &quot;dashArray&quot;: null, &quot;dashOffset&quot;: null, &quot;fill&quot;: true, &quot;fillColor&quot;: &quot;indigo&quot;, &quot;fillOpacity&quot;: 0.2, &quot;fillRule&quot;: &quot;evenodd&quot;, &quot;lineCap&quot;: &quot;round&quot;, &quot;lineJoin&quot;: &quot;round&quot;, &quot;opacity&quot;: 1.0, &quot;radius&quot;: 86000.0, &quot;stroke&quot;: true, &quot;weight&quot;: 3}\n",
       "            ).addTo(map_01f8206293aa103112e128106147057e);\n",
       "        \n",
       "    \n",
       "            circle_c341be559791bb42fbe61a2dd2f3bd96.bindTooltip(\n",
       "                `&lt;div&gt;\n",
       "                     &lt;div style=&#x27;margin: 0; background-color: black; color: white;&#x27;&gt;&lt;h4 style=&#x27;text-align:center;font-weight: bold&#x27;&gt;France&lt;/h4&gt;&lt;hr style=&#x27;margin:10px;color: white;&#x27;&gt;&lt;ul style=&#x27;color: white;;list-style-type:circle;align-item:left;padding-left:20px;padding-right:20px&#x27;&gt;&lt;li&gt;Confirmed: 36829869&lt;/li&gt;&lt;li&gt;Deaths:   63&lt;/li&gt;&lt;li&gt;Death Rate: 0.0&lt;/li&gt;&lt;/ul&gt;&lt;/div&gt;\n",
       "                 &lt;/div&gt;`,\n",
       "                {&quot;sticky&quot;: true}\n",
       "            );\n",
       "        \n",
       "    \n",
       "            var circle_f2b8f72edd06557516b2c192c6042f19 = L.circle(\n",
       "                [-0.8037, 11.6094],\n",
       "                {&quot;bubblingMouseEvents&quot;: true, &quot;color&quot;: &quot;red&quot;, &quot;dashArray&quot;: null, &quot;dashOffset&quot;: null, &quot;fill&quot;: true, &quot;fillColor&quot;: &quot;indigo&quot;, &quot;fillOpacity&quot;: 0.2, &quot;fillRule&quot;: &quot;evenodd&quot;, &quot;lineCap&quot;: &quot;round&quot;, &quot;lineJoin&quot;: &quot;round&quot;, &quot;opacity&quot;: 1.0, &quot;radius&quot;: 51000.0, &quot;stroke&quot;: true, &quot;weight&quot;: 3}\n",
       "            ).addTo(map_01f8206293aa103112e128106147057e);\n",
       "        \n",
       "    \n",
       "            circle_f2b8f72edd06557516b2c192c6042f19.bindTooltip(\n",
       "                `&lt;div&gt;\n",
       "                     &lt;div style=&#x27;margin: 0; background-color: black; color: white;&#x27;&gt;&lt;h4 style=&#x27;text-align:center;font-weight: bold&#x27;&gt;Gabon&lt;/h4&gt;&lt;hr style=&#x27;margin:10px;color: white;&#x27;&gt;&lt;ul style=&#x27;color: white;;list-style-type:circle;align-item:left;padding-left:20px;padding-right:20px&#x27;&gt;&lt;li&gt;Confirmed: 48973&lt;/li&gt;&lt;li&gt;Deaths:   7&lt;/li&gt;&lt;li&gt;Death Rate: 0.01&lt;/li&gt;&lt;/ul&gt;&lt;/div&gt;\n",
       "                 &lt;/div&gt;`,\n",
       "                {&quot;sticky&quot;: true}\n",
       "            );\n",
       "        \n",
       "    \n",
       "            var circle_afc1b67843c76882e2f7b3bac535ebce = L.circle(\n",
       "                [13.4432, -15.3101],\n",
       "                {&quot;bubblingMouseEvents&quot;: true, &quot;color&quot;: &quot;red&quot;, &quot;dashArray&quot;: null, &quot;dashOffset&quot;: null, &quot;fill&quot;: true, &quot;fillColor&quot;: &quot;indigo&quot;, &quot;fillOpacity&quot;: 0.2, &quot;fillRule&quot;: &quot;evenodd&quot;, &quot;lineCap&quot;: &quot;round&quot;, &quot;lineJoin&quot;: &quot;round&quot;, &quot;opacity&quot;: 1.0, &quot;radius&quot;: 46000.0, &quot;stroke&quot;: true, &quot;weight&quot;: 3}\n",
       "            ).addTo(map_01f8206293aa103112e128106147057e);\n",
       "        \n",
       "    \n",
       "            circle_afc1b67843c76882e2f7b3bac535ebce.bindTooltip(\n",
       "                `&lt;div&gt;\n",
       "                     &lt;div style=&#x27;margin: 0; background-color: black; color: white;&#x27;&gt;&lt;h4 style=&#x27;text-align:center;font-weight: bold&#x27;&gt;Gambia&lt;/h4&gt;&lt;hr style=&#x27;margin:10px;color: white;&#x27;&gt;&lt;ul style=&#x27;color: white;;list-style-type:circle;align-item:left;padding-left:20px;padding-right:20px&#x27;&gt;&lt;li&gt;Confirmed: 12586&lt;/li&gt;&lt;li&gt;Deaths:   155384&lt;/li&gt;&lt;li&gt;Death Rate: 1234.48&lt;/li&gt;&lt;/ul&gt;&lt;/div&gt;\n",
       "                 &lt;/div&gt;`,\n",
       "                {&quot;sticky&quot;: true}\n",
       "            );\n",
       "        \n",
       "    \n",
       "            var circle_289130741707d8f36076bdf160c2ac6a = L.circle(\n",
       "                [42.3154, 43.3569],\n",
       "                {&quot;bubblingMouseEvents&quot;: true, &quot;color&quot;: &quot;red&quot;, &quot;dashArray&quot;: null, &quot;dashOffset&quot;: null, &quot;fill&quot;: true, &quot;fillColor&quot;: &quot;indigo&quot;, &quot;fillOpacity&quot;: 0.2, &quot;fillRule&quot;: &quot;evenodd&quot;, &quot;lineCap&quot;: &quot;round&quot;, &quot;lineJoin&quot;: &quot;round&quot;, &quot;opacity&quot;: 1.0, &quot;radius&quot;: 71000.0, &quot;stroke&quot;: true, &quot;weight&quot;: 3}\n",
       "            ).addTo(map_01f8206293aa103112e128106147057e);\n",
       "        \n",
       "    \n",
       "            circle_289130741707d8f36076bdf160c2ac6a.bindTooltip(\n",
       "                `&lt;div&gt;\n",
       "                     &lt;div style=&#x27;margin: 0; background-color: black; color: white;&#x27;&gt;&lt;h4 style=&#x27;text-align:center;font-weight: bold&#x27;&gt;Georgia&lt;/h4&gt;&lt;hr style=&#x27;margin:10px;color: white;&#x27;&gt;&lt;ul style=&#x27;color: white;;list-style-type:circle;align-item:left;padding-left:20px;padding-right:20px&#x27;&gt;&lt;li&gt;Confirmed: 1805698&lt;/li&gt;&lt;li&gt;Deaths:   306&lt;/li&gt;&lt;li&gt;Death Rate: 0.02&lt;/li&gt;&lt;/ul&gt;&lt;/div&gt;\n",
       "                 &lt;/div&gt;`,\n",
       "                {&quot;sticky&quot;: true}\n",
       "            );\n",
       "        \n",
       "    \n",
       "            var circle_7591e1da5193812cd9fbf0060a41a8d7 = L.circle(\n",
       "                [51.165691, 10.451526],\n",
       "                {&quot;bubblingMouseEvents&quot;: true, &quot;color&quot;: &quot;red&quot;, &quot;dashArray&quot;: null, &quot;dashOffset&quot;: null, &quot;fill&quot;: true, &quot;fillColor&quot;: &quot;indigo&quot;, &quot;fillOpacity&quot;: 0.2, &quot;fillRule&quot;: &quot;evenodd&quot;, &quot;lineCap&quot;: &quot;round&quot;, &quot;lineJoin&quot;: &quot;round&quot;, &quot;opacity&quot;: 1.0, &quot;radius&quot;: 86000.0, &quot;stroke&quot;: true, &quot;weight&quot;: 3}\n",
       "            ).addTo(map_01f8206293aa103112e128106147057e);\n",
       "        \n",
       "    \n",
       "            circle_7591e1da5193812cd9fbf0060a41a8d7.bindTooltip(\n",
       "                `&lt;div&gt;\n",
       "                     &lt;div style=&#x27;margin: 0; background-color: black; color: white;&#x27;&gt;&lt;h4 style=&#x27;text-align:center;font-weight: bold&#x27;&gt;Germany&lt;/h4&gt;&lt;hr style=&#x27;margin:10px;color: white;&#x27;&gt;&lt;ul style=&#x27;color: white;;list-style-type:circle;align-item:left;padding-left:20px;padding-right:20px&#x27;&gt;&lt;li&gt;Confirmed: 36499600&lt;/li&gt;&lt;li&gt;Deaths:   372&lt;/li&gt;&lt;li&gt;Death Rate: 0.0&lt;/li&gt;&lt;/ul&gt;&lt;/div&gt;\n",
       "                 &lt;/div&gt;`,\n",
       "                {&quot;sticky&quot;: true}\n",
       "            );\n",
       "        \n",
       "    \n",
       "            var circle_56cd201281f0022824f5eb26dcb47cb0 = L.circle(\n",
       "                [7.9465, -1.0232],\n",
       "                {&quot;bubblingMouseEvents&quot;: true, &quot;color&quot;: &quot;red&quot;, &quot;dashArray&quot;: null, &quot;dashOffset&quot;: null, &quot;fill&quot;: true, &quot;fillColor&quot;: &quot;indigo&quot;, &quot;fillOpacity&quot;: 0.2, &quot;fillRule&quot;: &quot;evenodd&quot;, &quot;lineCap&quot;: &quot;round&quot;, &quot;lineJoin&quot;: &quot;round&quot;, &quot;opacity&quot;: 1.0, &quot;radius&quot;: 61000.0, &quot;stroke&quot;: true, &quot;weight&quot;: 3}\n",
       "            ).addTo(map_01f8206293aa103112e128106147057e);\n",
       "        \n",
       "    \n",
       "            circle_56cd201281f0022824f5eb26dcb47cb0.bindTooltip(\n",
       "                `&lt;div&gt;\n",
       "                     &lt;div style=&#x27;margin: 0; background-color: black; color: white;&#x27;&gt;&lt;h4 style=&#x27;text-align:center;font-weight: bold&#x27;&gt;Ghana&lt;/h4&gt;&lt;hr style=&#x27;margin:10px;color: white;&#x27;&gt;&lt;ul style=&#x27;color: white;;list-style-type:circle;align-item:left;padding-left:20px;padding-right:20px&#x27;&gt;&lt;li&gt;Confirmed: 171009&lt;/li&gt;&lt;li&gt;Deaths:   16881&lt;/li&gt;&lt;li&gt;Death Rate: 9.87&lt;/li&gt;&lt;/ul&gt;&lt;/div&gt;\n",
       "                 &lt;/div&gt;`,\n",
       "                {&quot;sticky&quot;: true}\n",
       "            );\n",
       "        \n",
       "    \n",
       "            var circle_46b6ae8e5d753dc10cf00137cc7b2b49 = L.circle(\n",
       "                [39.0742, 21.8243],\n",
       "                {&quot;bubblingMouseEvents&quot;: true, &quot;color&quot;: &quot;red&quot;, &quot;dashArray&quot;: null, &quot;dashOffset&quot;: null, &quot;fill&quot;: true, &quot;fillColor&quot;: &quot;indigo&quot;, &quot;fillOpacity&quot;: 0.2, &quot;fillRule&quot;: &quot;evenodd&quot;, &quot;lineCap&quot;: &quot;round&quot;, &quot;lineJoin&quot;: &quot;round&quot;, &quot;opacity&quot;: 1.0, &quot;radius&quot;: 76000.0, &quot;stroke&quot;: true, &quot;weight&quot;: 3}\n",
       "            ).addTo(map_01f8206293aa103112e128106147057e);\n",
       "        \n",
       "    \n",
       "            circle_46b6ae8e5d753dc10cf00137cc7b2b49.bindTooltip(\n",
       "                `&lt;div&gt;\n",
       "                     &lt;div style=&#x27;margin: 0; background-color: black; color: white;&#x27;&gt;&lt;h4 style=&#x27;text-align:center;font-weight: bold&#x27;&gt;Greece&lt;/h4&gt;&lt;hr style=&#x27;margin:10px;color: white;&#x27;&gt;&lt;ul style=&#x27;color: white;;list-style-type:circle;align-item:left;padding-left:20px;padding-right:20px&#x27;&gt;&lt;li&gt;Confirmed: 5404690&lt;/li&gt;&lt;li&gt;Deaths:   157943&lt;/li&gt;&lt;li&gt;Death Rate: 2.92&lt;/li&gt;&lt;/ul&gt;&lt;/div&gt;\n",
       "                 &lt;/div&gt;`,\n",
       "                {&quot;sticky&quot;: true}\n",
       "            );\n",
       "        \n",
       "    \n",
       "            var circle_d38f5f92436d6e8f208c3479423561d4 = L.circle(\n",
       "                [12.1165, -61.679],\n",
       "                {&quot;bubblingMouseEvents&quot;: true, &quot;color&quot;: &quot;red&quot;, &quot;dashArray&quot;: null, &quot;dashOffset&quot;: null, &quot;fill&quot;: true, &quot;fillColor&quot;: &quot;indigo&quot;, &quot;fillOpacity&quot;: 0.2, &quot;fillRule&quot;: &quot;evenodd&quot;, &quot;lineCap&quot;: &quot;round&quot;, &quot;lineJoin&quot;: &quot;round&quot;, &quot;opacity&quot;: 1.0, &quot;radius&quot;: 46000.0, &quot;stroke&quot;: true, &quot;weight&quot;: 3}\n",
       "            ).addTo(map_01f8206293aa103112e128106147057e);\n",
       "        \n",
       "    \n",
       "            circle_d38f5f92436d6e8f208c3479423561d4.bindTooltip(\n",
       "                `&lt;div&gt;\n",
       "                     &lt;div style=&#x27;margin: 0; background-color: black; color: white;&#x27;&gt;&lt;h4 style=&#x27;text-align:center;font-weight: bold&#x27;&gt;Grenada&lt;/h4&gt;&lt;hr style=&#x27;margin:10px;color: white;&#x27;&gt;&lt;ul style=&#x27;color: white;;list-style-type:circle;align-item:left;padding-left:20px;padding-right:20px&#x27;&gt;&lt;li&gt;Confirmed: 19631&lt;/li&gt;&lt;li&gt;Deaths:   1461&lt;/li&gt;&lt;li&gt;Death Rate: 7.44&lt;/li&gt;&lt;/ul&gt;&lt;/div&gt;\n",
       "                 &lt;/div&gt;`,\n",
       "                {&quot;sticky&quot;: true}\n",
       "            );\n",
       "        \n",
       "    \n",
       "            var circle_a586111043dc0a07ee423a4c9eeebd78 = L.circle(\n",
       "                [15.7835, -90.2308],\n",
       "                {&quot;bubblingMouseEvents&quot;: true, &quot;color&quot;: &quot;red&quot;, &quot;dashArray&quot;: null, &quot;dashOffset&quot;: null, &quot;fill&quot;: true, &quot;fillColor&quot;: &quot;indigo&quot;, &quot;fillOpacity&quot;: 0.2, &quot;fillRule&quot;: &quot;evenodd&quot;, &quot;lineCap&quot;: &quot;round&quot;, &quot;lineJoin&quot;: &quot;round&quot;, &quot;opacity&quot;: 1.0, &quot;radius&quot;: 66000.0, &quot;stroke&quot;: true, &quot;weight&quot;: 3}\n",
       "            ).addTo(map_01f8206293aa103112e128106147057e);\n",
       "        \n",
       "    \n",
       "            circle_a586111043dc0a07ee423a4c9eeebd78.bindTooltip(\n",
       "                `&lt;div&gt;\n",
       "                     &lt;div style=&#x27;margin: 0; background-color: black; color: white;&#x27;&gt;&lt;h4 style=&#x27;text-align:center;font-weight: bold&#x27;&gt;Guatemala&lt;/h4&gt;&lt;hr style=&#x27;margin:10px;color: white;&#x27;&gt;&lt;ul style=&#x27;color: white;;list-style-type:circle;align-item:left;padding-left:20px;padding-right:20px&#x27;&gt;&lt;li&gt;Confirmed: 1156468&lt;/li&gt;&lt;li&gt;Deaths:   34309&lt;/li&gt;&lt;li&gt;Death Rate: 2.97&lt;/li&gt;&lt;/ul&gt;&lt;/div&gt;\n",
       "                 &lt;/div&gt;`,\n",
       "                {&quot;sticky&quot;: true}\n",
       "            );\n",
       "        \n",
       "    \n",
       "            var circle_f76090e04bce43b60f806b26a74467e9 = L.circle(\n",
       "                [9.9456, -9.6966],\n",
       "                {&quot;bubblingMouseEvents&quot;: true, &quot;color&quot;: &quot;red&quot;, &quot;dashArray&quot;: null, &quot;dashOffset&quot;: null, &quot;fill&quot;: true, &quot;fillColor&quot;: &quot;indigo&quot;, &quot;fillOpacity&quot;: 0.2, &quot;fillRule&quot;: &quot;evenodd&quot;, &quot;lineCap&quot;: &quot;round&quot;, &quot;lineJoin&quot;: &quot;round&quot;, &quot;opacity&quot;: 1.0, &quot;radius&quot;: 51000.0, &quot;stroke&quot;: true, &quot;weight&quot;: 3}\n",
       "            ).addTo(map_01f8206293aa103112e128106147057e);\n",
       "        \n",
       "    \n",
       "            circle_f76090e04bce43b60f806b26a74467e9.bindTooltip(\n",
       "                `&lt;div&gt;\n",
       "                     &lt;div style=&#x27;margin: 0; background-color: black; color: white;&#x27;&gt;&lt;h4 style=&#x27;text-align:center;font-weight: bold&#x27;&gt;Guinea&lt;/h4&gt;&lt;hr style=&#x27;margin:10px;color: white;&#x27;&gt;&lt;ul style=&#x27;color: white;;list-style-type:circle;align-item:left;padding-left:20px;padding-right:20px&#x27;&gt;&lt;li&gt;Confirmed: 38153&lt;/li&gt;&lt;li&gt;Deaths:   237&lt;/li&gt;&lt;li&gt;Death Rate: 0.62&lt;/li&gt;&lt;/ul&gt;&lt;/div&gt;\n",
       "                 &lt;/div&gt;`,\n",
       "                {&quot;sticky&quot;: true}\n",
       "            );\n",
       "        \n",
       "    \n",
       "            var circle_9ec731a1bd0dadf064e110daf7d1cf0f = L.circle(\n",
       "                [11.8037, -15.1804],\n",
       "                {&quot;bubblingMouseEvents&quot;: true, &quot;color&quot;: &quot;red&quot;, &quot;dashArray&quot;: null, &quot;dashOffset&quot;: null, &quot;fill&quot;: true, &quot;fillColor&quot;: &quot;indigo&quot;, &quot;fillOpacity&quot;: 0.2, &quot;fillRule&quot;: &quot;evenodd&quot;, &quot;lineCap&quot;: &quot;round&quot;, &quot;lineJoin&quot;: &quot;round&quot;, &quot;opacity&quot;: 1.0, &quot;radius&quot;: 46000.0, &quot;stroke&quot;: true, &quot;weight&quot;: 3}\n",
       "            ).addTo(map_01f8206293aa103112e128106147057e);\n",
       "        \n",
       "    \n",
       "            circle_9ec731a1bd0dadf064e110daf7d1cf0f.bindTooltip(\n",
       "                `&lt;div&gt;\n",
       "                     &lt;div style=&#x27;margin: 0; background-color: black; color: white;&#x27;&gt;&lt;h4 style=&#x27;text-align:center;font-weight: bold&#x27;&gt;Guinea-Bissau&lt;/h4&gt;&lt;hr style=&#x27;margin:10px;color: white;&#x27;&gt;&lt;ul style=&#x27;color: white;;list-style-type:circle;align-item:left;padding-left:20px;padding-right:20px&#x27;&gt;&lt;li&gt;Confirmed: 8848&lt;/li&gt;&lt;li&gt;Deaths:   19951&lt;/li&gt;&lt;li&gt;Death Rate: 225.46&lt;/li&gt;&lt;/ul&gt;&lt;/div&gt;\n",
       "                 &lt;/div&gt;`,\n",
       "                {&quot;sticky&quot;: true}\n",
       "            );\n",
       "        \n",
       "    \n",
       "            var circle_51c1e0ee15f3426b2d0970562e87750c = L.circle(\n",
       "                [4.860416, -58.93018],\n",
       "                {&quot;bubblingMouseEvents&quot;: true, &quot;color&quot;: &quot;red&quot;, &quot;dashArray&quot;: null, &quot;dashOffset&quot;: null, &quot;fill&quot;: true, &quot;fillColor&quot;: &quot;indigo&quot;, &quot;fillOpacity&quot;: 0.2, &quot;fillRule&quot;: &quot;evenodd&quot;, &quot;lineCap&quot;: &quot;round&quot;, &quot;lineJoin&quot;: &quot;round&quot;, &quot;opacity&quot;: 1.0, &quot;radius&quot;: 56000.0, &quot;stroke&quot;: true, &quot;weight&quot;: 3}\n",
       "            ).addTo(map_01f8206293aa103112e128106147057e);\n",
       "        \n",
       "    \n",
       "            circle_51c1e0ee15f3426b2d0970562e87750c.bindTooltip(\n",
       "                `&lt;div&gt;\n",
       "                     &lt;div style=&#x27;margin: 0; background-color: black; color: white;&#x27;&gt;&lt;h4 style=&#x27;text-align:center;font-weight: bold&#x27;&gt;Guyana&lt;/h4&gt;&lt;hr style=&#x27;margin:10px;color: white;&#x27;&gt;&lt;ul style=&#x27;color: white;;list-style-type:circle;align-item:left;padding-left:20px;padding-right:20px&#x27;&gt;&lt;li&gt;Confirmed: 71620&lt;/li&gt;&lt;li&gt;Deaths:   464&lt;/li&gt;&lt;li&gt;Death Rate: 0.65&lt;/li&gt;&lt;/ul&gt;&lt;/div&gt;\n",
       "                 &lt;/div&gt;`,\n",
       "                {&quot;sticky&quot;: true}\n",
       "            );\n",
       "        \n",
       "    \n",
       "            var circle_43c1bc4475d078a1715e938739094c2f = L.circle(\n",
       "                [18.9712, -72.2852],\n",
       "                {&quot;bubblingMouseEvents&quot;: true, &quot;color&quot;: &quot;red&quot;, &quot;dashArray&quot;: null, &quot;dashOffset&quot;: null, &quot;fill&quot;: true, &quot;fillColor&quot;: &quot;indigo&quot;, &quot;fillOpacity&quot;: 0.2, &quot;fillRule&quot;: &quot;evenodd&quot;, &quot;lineCap&quot;: &quot;round&quot;, &quot;lineJoin&quot;: &quot;round&quot;, &quot;opacity&quot;: 1.0, &quot;radius&quot;: 51000.0, &quot;stroke&quot;: true, &quot;weight&quot;: 3}\n",
       "            ).addTo(map_01f8206293aa103112e128106147057e);\n",
       "        \n",
       "    \n",
       "            circle_43c1bc4475d078a1715e938739094c2f.bindTooltip(\n",
       "                `&lt;div&gt;\n",
       "                     &lt;div style=&#x27;margin: 0; background-color: black; color: white;&#x27;&gt;&lt;h4 style=&#x27;text-align:center;font-weight: bold&#x27;&gt;Haiti&lt;/h4&gt;&lt;hr style=&#x27;margin:10px;color: white;&#x27;&gt;&lt;ul style=&#x27;color: white;;list-style-type:circle;align-item:left;padding-left:20px;padding-right:20px&#x27;&gt;&lt;li&gt;Confirmed: 33846&lt;/li&gt;&lt;li&gt;Deaths:   176&lt;/li&gt;&lt;li&gt;Death Rate: 0.52&lt;/li&gt;&lt;/ul&gt;&lt;/div&gt;\n",
       "                 &lt;/div&gt;`,\n",
       "                {&quot;sticky&quot;: true}\n",
       "            );\n",
       "        \n",
       "    \n",
       "            var circle_4ec135c18067866da83014f95b45c9ab = L.circle(\n",
       "                [41.9029, 12.4534],\n",
       "                {&quot;bubblingMouseEvents&quot;: true, &quot;color&quot;: &quot;red&quot;, &quot;dashArray&quot;: null, &quot;dashOffset&quot;: null, &quot;fill&quot;: true, &quot;fillColor&quot;: &quot;indigo&quot;, &quot;fillOpacity&quot;: 0.2, &quot;fillRule&quot;: &quot;evenodd&quot;, &quot;lineCap&quot;: &quot;round&quot;, &quot;lineJoin&quot;: &quot;round&quot;, &quot;opacity&quot;: 1.0, &quot;radius&quot;: 16000.0, &quot;stroke&quot;: true, &quot;weight&quot;: 3}\n",
       "            ).addTo(map_01f8206293aa103112e128106147057e);\n",
       "        \n",
       "    \n",
       "            circle_4ec135c18067866da83014f95b45c9ab.bindTooltip(\n",
       "                `&lt;div&gt;\n",
       "                     &lt;div style=&#x27;margin: 0; background-color: black; color: white;&#x27;&gt;&lt;h4 style=&#x27;text-align:center;font-weight: bold&#x27;&gt;Holy See&lt;/h4&gt;&lt;hr style=&#x27;margin:10px;color: white;&#x27;&gt;&lt;ul style=&#x27;color: white;;list-style-type:circle;align-item:left;padding-left:20px;padding-right:20px&#x27;&gt;&lt;li&gt;Confirmed: 29&lt;/li&gt;&lt;li&gt;Deaths:   1285&lt;/li&gt;&lt;li&gt;Death Rate: 4283.33&lt;/li&gt;&lt;/ul&gt;&lt;/div&gt;\n",
       "                 &lt;/div&gt;`,\n",
       "                {&quot;sticky&quot;: true}\n",
       "            );\n",
       "        \n",
       "    \n",
       "            var circle_b5786394de217f03cb93945ba6d7f7c3 = L.circle(\n",
       "                [15.2, -86.2419],\n",
       "                {&quot;bubblingMouseEvents&quot;: true, &quot;color&quot;: &quot;red&quot;, &quot;dashArray&quot;: null, &quot;dashOffset&quot;: null, &quot;fill&quot;: true, &quot;fillColor&quot;: &quot;indigo&quot;, &quot;fillOpacity&quot;: 0.2, &quot;fillRule&quot;: &quot;evenodd&quot;, &quot;lineCap&quot;: &quot;round&quot;, &quot;lineJoin&quot;: &quot;round&quot;, &quot;opacity&quot;: 1.0, &quot;radius&quot;: 66000.0, &quot;stroke&quot;: true, &quot;weight&quot;: 3}\n",
       "            ).addTo(map_01f8206293aa103112e128106147057e);\n",
       "        \n",
       "    \n",
       "            circle_b5786394de217f03cb93945ba6d7f7c3.bindTooltip(\n",
       "                `&lt;div&gt;\n",
       "                     &lt;div style=&#x27;margin: 0; background-color: black; color: white;&#x27;&gt;&lt;h4 style=&#x27;text-align:center;font-weight: bold&#x27;&gt;Honduras&lt;/h4&gt;&lt;hr style=&#x27;margin:10px;color: white;&#x27;&gt;&lt;ul style=&#x27;color: white;;list-style-type:circle;align-item:left;padding-left:20px;padding-right:20px&#x27;&gt;&lt;li&gt;Confirmed: 458023&lt;/li&gt;&lt;li&gt;Deaths:   860&lt;/li&gt;&lt;li&gt;Death Rate: 0.19&lt;/li&gt;&lt;/ul&gt;&lt;/div&gt;\n",
       "                 &lt;/div&gt;`,\n",
       "                {&quot;sticky&quot;: true}\n",
       "            );\n",
       "        \n",
       "    \n",
       "            var circle_b21eee6c13fc4d6a0ffa6787321b7a20 = L.circle(\n",
       "                [47.1625, 19.5033],\n",
       "                {&quot;bubblingMouseEvents&quot;: true, &quot;color&quot;: &quot;red&quot;, &quot;dashArray&quot;: null, &quot;dashOffset&quot;: null, &quot;fill&quot;: true, &quot;fillColor&quot;: &quot;indigo&quot;, &quot;fillOpacity&quot;: 0.2, &quot;fillRule&quot;: &quot;evenodd&quot;, &quot;lineCap&quot;: &quot;round&quot;, &quot;lineJoin&quot;: &quot;round&quot;, &quot;opacity&quot;: 1.0, &quot;radius&quot;: 71000.0, &quot;stroke&quot;: true, &quot;weight&quot;: 3}\n",
       "            ).addTo(map_01f8206293aa103112e128106147057e);\n",
       "        \n",
       "    \n",
       "            circle_b21eee6c13fc4d6a0ffa6787321b7a20.bindTooltip(\n",
       "                `&lt;div&gt;\n",
       "                     &lt;div style=&#x27;margin: 0; background-color: black; color: white;&#x27;&gt;&lt;h4 style=&#x27;text-align:center;font-weight: bold&#x27;&gt;Hungary&lt;/h4&gt;&lt;hr style=&#x27;margin:10px;color: white;&#x27;&gt;&lt;ul style=&#x27;color: white;;list-style-type:circle;align-item:left;padding-left:20px;padding-right:20px&#x27;&gt;&lt;li&gt;Confirmed: 2166352&lt;/li&gt;&lt;li&gt;Deaths:   0&lt;/li&gt;&lt;li&gt;Death Rate: 0.0&lt;/li&gt;&lt;/ul&gt;&lt;/div&gt;\n",
       "                 &lt;/div&gt;`,\n",
       "                {&quot;sticky&quot;: true}\n",
       "            );\n",
       "        \n",
       "    \n",
       "            var circle_009a706fa68f84e37a92528b614451c4 = L.circle(\n",
       "                [64.9631, -19.0208],\n",
       "                {&quot;bubblingMouseEvents&quot;: true, &quot;color&quot;: &quot;red&quot;, &quot;dashArray&quot;: null, &quot;dashOffset&quot;: null, &quot;fill&quot;: true, &quot;fillColor&quot;: &quot;indigo&quot;, &quot;fillOpacity&quot;: 0.2, &quot;fillRule&quot;: &quot;evenodd&quot;, &quot;lineCap&quot;: &quot;round&quot;, &quot;lineJoin&quot;: &quot;round&quot;, &quot;opacity&quot;: 1.0, &quot;radius&quot;: 61000.0, &quot;stroke&quot;: true, &quot;weight&quot;: 3}\n",
       "            ).addTo(map_01f8206293aa103112e128106147057e);\n",
       "        \n",
       "    \n",
       "            circle_009a706fa68f84e37a92528b614451c4.bindTooltip(\n",
       "                `&lt;div&gt;\n",
       "                     &lt;div style=&#x27;margin: 0; background-color: black; color: white;&#x27;&gt;&lt;h4 style=&#x27;text-align:center;font-weight: bold&#x27;&gt;Iceland&lt;/h4&gt;&lt;hr style=&#x27;margin:10px;color: white;&#x27;&gt;&lt;ul style=&#x27;color: white;;list-style-type:circle;align-item:left;padding-left:20px;padding-right:20px&#x27;&gt;&lt;li&gt;Confirmed: 207101&lt;/li&gt;&lt;li&gt;Deaths:   11043&lt;/li&gt;&lt;li&gt;Death Rate: 5.33&lt;/li&gt;&lt;/ul&gt;&lt;/div&gt;\n",
       "                 &lt;/div&gt;`,\n",
       "                {&quot;sticky&quot;: true}\n",
       "            );\n",
       "        \n",
       "    \n",
       "            var circle_8264b8a6bef9e53cacfa9fc87a37025f = L.circle(\n",
       "                [20.593684, 78.96288],\n",
       "                {&quot;bubblingMouseEvents&quot;: true, &quot;color&quot;: &quot;red&quot;, &quot;dashArray&quot;: null, &quot;dashOffset&quot;: null, &quot;fill&quot;: true, &quot;fillColor&quot;: &quot;indigo&quot;, &quot;fillOpacity&quot;: 0.2, &quot;fillRule&quot;: &quot;evenodd&quot;, &quot;lineCap&quot;: &quot;round&quot;, &quot;lineJoin&quot;: &quot;round&quot;, &quot;opacity&quot;: 1.0, &quot;radius&quot;: 86000.0, &quot;stroke&quot;: true, &quot;weight&quot;: 3}\n",
       "            ).addTo(map_01f8206293aa103112e128106147057e);\n",
       "        \n",
       "    \n",
       "            circle_8264b8a6bef9e53cacfa9fc87a37025f.bindTooltip(\n",
       "                `&lt;div&gt;\n",
       "                     &lt;div style=&#x27;margin: 0; background-color: black; color: white;&#x27;&gt;&lt;h4 style=&#x27;text-align:center;font-weight: bold&#x27;&gt;India&lt;/h4&gt;&lt;hr style=&#x27;margin:10px;color: white;&#x27;&gt;&lt;ul style=&#x27;color: white;;list-style-type:circle;align-item:left;padding-left:20px;padding-right:20px&#x27;&gt;&lt;li&gt;Confirmed: 44673863&lt;/li&gt;&lt;li&gt;Deaths:   48287&lt;/li&gt;&lt;li&gt;Death Rate: 0.11&lt;/li&gt;&lt;/ul&gt;&lt;/div&gt;\n",
       "                 &lt;/div&gt;`,\n",
       "                {&quot;sticky&quot;: true}\n",
       "            );\n",
       "        \n",
       "    \n",
       "            var circle_b782866dd27a770913d1cc0f672323b0 = L.circle(\n",
       "                [-0.7893, 113.9213],\n",
       "                {&quot;bubblingMouseEvents&quot;: true, &quot;color&quot;: &quot;red&quot;, &quot;dashArray&quot;: null, &quot;dashOffset&quot;: null, &quot;fill&quot;: true, &quot;fillColor&quot;: &quot;indigo&quot;, &quot;fillOpacity&quot;: 0.2, &quot;fillRule&quot;: &quot;evenodd&quot;, &quot;lineCap&quot;: &quot;round&quot;, &quot;lineJoin&quot;: &quot;round&quot;, &quot;opacity&quot;: 1.0, &quot;radius&quot;: 76000.0, &quot;stroke&quot;: true, &quot;weight&quot;: 3}\n",
       "            ).addTo(map_01f8206293aa103112e128106147057e);\n",
       "        \n",
       "    \n",
       "            circle_b782866dd27a770913d1cc0f672323b0.bindTooltip(\n",
       "                `&lt;div&gt;\n",
       "                     &lt;div style=&#x27;margin: 0; background-color: black; color: white;&#x27;&gt;&lt;h4 style=&#x27;text-align:center;font-weight: bold&#x27;&gt;Indonesia&lt;/h4&gt;&lt;hr style=&#x27;margin:10px;color: white;&#x27;&gt;&lt;ul style=&#x27;color: white;;list-style-type:circle;align-item:left;padding-left:20px;padding-right:20px&#x27;&gt;&lt;li&gt;Confirmed: 6664844&lt;/li&gt;&lt;li&gt;Deaths:   219&lt;/li&gt;&lt;li&gt;Death Rate: 0.0&lt;/li&gt;&lt;/ul&gt;&lt;/div&gt;\n",
       "                 &lt;/div&gt;`,\n",
       "                {&quot;sticky&quot;: true}\n",
       "            );\n",
       "        \n",
       "    \n",
       "            var circle_bd9dd9ec311e211e446b6b9b048c3e83 = L.circle(\n",
       "                [32.427908, 53.688046],\n",
       "                {&quot;bubblingMouseEvents&quot;: true, &quot;color&quot;: &quot;red&quot;, &quot;dashArray&quot;: null, &quot;dashOffset&quot;: null, &quot;fill&quot;: true, &quot;fillColor&quot;: &quot;indigo&quot;, &quot;fillOpacity&quot;: 0.2, &quot;fillRule&quot;: &quot;evenodd&quot;, &quot;lineCap&quot;: &quot;round&quot;, &quot;lineJoin&quot;: &quot;round&quot;, &quot;opacity&quot;: 1.0, &quot;radius&quot;: 76000.0, &quot;stroke&quot;: true, &quot;weight&quot;: 3}\n",
       "            ).addTo(map_01f8206293aa103112e128106147057e);\n",
       "        \n",
       "    \n",
       "            circle_bd9dd9ec311e211e446b6b9b048c3e83.bindTooltip(\n",
       "                `&lt;div&gt;\n",
       "                     &lt;div style=&#x27;margin: 0; background-color: black; color: white;&#x27;&gt;&lt;h4 style=&#x27;text-align:center;font-weight: bold&#x27;&gt;Iran&lt;/h4&gt;&lt;hr style=&#x27;margin:10px;color: white;&#x27;&gt;&lt;ul style=&#x27;color: white;;list-style-type:circle;align-item:left;padding-left:20px;padding-right:20px&#x27;&gt;&lt;li&gt;Confirmed: 7559706&lt;/li&gt;&lt;li&gt;Deaths:   530622&lt;/li&gt;&lt;li&gt;Death Rate: 7.02&lt;/li&gt;&lt;/ul&gt;&lt;/div&gt;\n",
       "                 &lt;/div&gt;`,\n",
       "                {&quot;sticky&quot;: true}\n",
       "            );\n",
       "        \n",
       "    \n",
       "            var circle_f92dd36f36cfa024839b59b0ba10d741 = L.circle(\n",
       "                [33.223191, 43.679291],\n",
       "                {&quot;bubblingMouseEvents&quot;: true, &quot;color&quot;: &quot;red&quot;, &quot;dashArray&quot;: null, &quot;dashOffset&quot;: null, &quot;fill&quot;: true, &quot;fillColor&quot;: &quot;indigo&quot;, &quot;fillOpacity&quot;: 0.2, &quot;fillRule&quot;: &quot;evenodd&quot;, &quot;lineCap&quot;: &quot;round&quot;, &quot;lineJoin&quot;: &quot;round&quot;, &quot;opacity&quot;: 1.0, &quot;radius&quot;: 71000.0, &quot;stroke&quot;: true, &quot;weight&quot;: 3}\n",
       "            ).addTo(map_01f8206293aa103112e128106147057e);\n",
       "        \n",
       "    \n",
       "            circle_f92dd36f36cfa024839b59b0ba10d741.bindTooltip(\n",
       "                `&lt;div&gt;\n",
       "                     &lt;div style=&#x27;margin: 0; background-color: black; color: white;&#x27;&gt;&lt;h4 style=&#x27;text-align:center;font-weight: bold&#x27;&gt;Iraq&lt;/h4&gt;&lt;hr style=&#x27;margin:10px;color: white;&#x27;&gt;&lt;ul style=&#x27;color: white;;list-style-type:circle;align-item:left;padding-left:20px;padding-right:20px&#x27;&gt;&lt;li&gt;Confirmed: 2463724&lt;/li&gt;&lt;li&gt;Deaths:   159830&lt;/li&gt;&lt;li&gt;Death Rate: 6.49&lt;/li&gt;&lt;/ul&gt;&lt;/div&gt;\n",
       "                 &lt;/div&gt;`,\n",
       "                {&quot;sticky&quot;: true}\n",
       "            );\n",
       "        \n",
       "    \n",
       "            var circle_9c37cb382573b1ae0995c2e996336715 = L.circle(\n",
       "                [53.1424, -7.6921],\n",
       "                {&quot;bubblingMouseEvents&quot;: true, &quot;color&quot;: &quot;red&quot;, &quot;dashArray&quot;: null, &quot;dashOffset&quot;: null, &quot;fill&quot;: true, &quot;fillColor&quot;: &quot;indigo&quot;, &quot;fillOpacity&quot;: 0.2, &quot;fillRule&quot;: &quot;evenodd&quot;, &quot;lineCap&quot;: &quot;round&quot;, &quot;lineJoin&quot;: &quot;round&quot;, &quot;opacity&quot;: 1.0, &quot;radius&quot;: 71000.0, &quot;stroke&quot;: true, &quot;weight&quot;: 3}\n",
       "            ).addTo(map_01f8206293aa103112e128106147057e);\n",
       "        \n",
       "    \n",
       "            circle_9c37cb382573b1ae0995c2e996336715.bindTooltip(\n",
       "                `&lt;div&gt;\n",
       "                     &lt;div style=&#x27;margin: 0; background-color: black; color: white;&#x27;&gt;&lt;h4 style=&#x27;text-align:center;font-weight: bold&#x27;&gt;Ireland&lt;/h4&gt;&lt;hr style=&#x27;margin:10px;color: white;&#x27;&gt;&lt;ul style=&#x27;color: white;;list-style-type:circle;align-item:left;padding-left:20px;padding-right:20px&#x27;&gt;&lt;li&gt;Confirmed: 1680548&lt;/li&gt;&lt;li&gt;Deaths:   144633&lt;/li&gt;&lt;li&gt;Death Rate: 8.61&lt;/li&gt;&lt;/ul&gt;&lt;/div&gt;\n",
       "                 &lt;/div&gt;`,\n",
       "                {&quot;sticky&quot;: true}\n",
       "            );\n",
       "        \n",
       "    \n",
       "            var circle_ab3e66ca48caf44d035888b9f2a5d393 = L.circle(\n",
       "                [31.046051, 34.851612],\n",
       "                {&quot;bubblingMouseEvents&quot;: true, &quot;color&quot;: &quot;red&quot;, &quot;dashArray&quot;: null, &quot;dashOffset&quot;: null, &quot;fill&quot;: true, &quot;fillColor&quot;: &quot;indigo&quot;, &quot;fillOpacity&quot;: 0.2, &quot;fillRule&quot;: &quot;evenodd&quot;, &quot;lineCap&quot;: &quot;round&quot;, &quot;lineJoin&quot;: &quot;round&quot;, &quot;opacity&quot;: 1.0, &quot;radius&quot;: 76000.0, &quot;stroke&quot;: true, &quot;weight&quot;: 3}\n",
       "            ).addTo(map_01f8206293aa103112e128106147057e);\n",
       "        \n",
       "    \n",
       "            circle_ab3e66ca48caf44d035888b9f2a5d393.bindTooltip(\n",
       "                `&lt;div&gt;\n",
       "                     &lt;div style=&#x27;margin: 0; background-color: black; color: white;&#x27;&gt;&lt;h4 style=&#x27;text-align:center;font-weight: bold&#x27;&gt;Israel&lt;/h4&gt;&lt;hr style=&#x27;margin:10px;color: white;&#x27;&gt;&lt;ul style=&#x27;color: white;;list-style-type:circle;align-item:left;padding-left:20px;padding-right:20px&#x27;&gt;&lt;li&gt;Confirmed: 4722410&lt;/li&gt;&lt;li&gt;Deaths:   25364&lt;/li&gt;&lt;li&gt;Death Rate: 0.54&lt;/li&gt;&lt;/ul&gt;&lt;/div&gt;\n",
       "                 &lt;/div&gt;`,\n",
       "                {&quot;sticky&quot;: true}\n",
       "            );\n",
       "        \n",
       "    \n",
       "            var circle_4bf8f9c23263c06c24f7d5ffb3374636 = L.circle(\n",
       "                [41.87194, 12.56738],\n",
       "                {&quot;bubblingMouseEvents&quot;: true, &quot;color&quot;: &quot;red&quot;, &quot;dashArray&quot;: null, &quot;dashOffset&quot;: null, &quot;fill&quot;: true, &quot;fillColor&quot;: &quot;indigo&quot;, &quot;fillOpacity&quot;: 0.2, &quot;fillRule&quot;: &quot;evenodd&quot;, &quot;lineCap&quot;: &quot;round&quot;, &quot;lineJoin&quot;: &quot;round&quot;, &quot;opacity&quot;: 1.0, &quot;radius&quot;: 86000.0, &quot;stroke&quot;: true, &quot;weight&quot;: 3}\n",
       "            ).addTo(map_01f8206293aa103112e128106147057e);\n",
       "        \n",
       "    \n",
       "            circle_4bf8f9c23263c06c24f7d5ffb3374636.bindTooltip(\n",
       "                `&lt;div&gt;\n",
       "                     &lt;div style=&#x27;margin: 0; background-color: black; color: white;&#x27;&gt;&lt;h4 style=&#x27;text-align:center;font-weight: bold&#x27;&gt;Italy&lt;/h4&gt;&lt;hr style=&#x27;margin:10px;color: white;&#x27;&gt;&lt;ul style=&#x27;color: white;;list-style-type:circle;align-item:left;padding-left:20px;padding-right:20px&#x27;&gt;&lt;li&gt;Confirmed: 24260660&lt;/li&gt;&lt;li&gt;Deaths:   8197&lt;/li&gt;&lt;li&gt;Death Rate: 0.03&lt;/li&gt;&lt;/ul&gt;&lt;/div&gt;\n",
       "                 &lt;/div&gt;`,\n",
       "                {&quot;sticky&quot;: true}\n",
       "            );\n",
       "        \n",
       "    \n",
       "            var circle_1c05c2a4d60329552dc732daf2aac482 = L.circle(\n",
       "                [18.1096, -77.2975],\n",
       "                {&quot;bubblingMouseEvents&quot;: true, &quot;color&quot;: &quot;red&quot;, &quot;dashArray&quot;: null, &quot;dashOffset&quot;: null, &quot;fill&quot;: true, &quot;fillColor&quot;: &quot;indigo&quot;, &quot;fillOpacity&quot;: 0.2, &quot;fillRule&quot;: &quot;evenodd&quot;, &quot;lineCap&quot;: &quot;round&quot;, &quot;lineJoin&quot;: &quot;round&quot;, &quot;opacity&quot;: 1.0, &quot;radius&quot;: 56000.0, &quot;stroke&quot;: true, &quot;weight&quot;: 3}\n",
       "            ).addTo(map_01f8206293aa103112e128106147057e);\n",
       "        \n",
       "    \n",
       "            circle_1c05c2a4d60329552dc732daf2aac482.bindTooltip(\n",
       "                `&lt;div&gt;\n",
       "                     &lt;div style=&#x27;margin: 0; background-color: black; color: white;&#x27;&gt;&lt;h4 style=&#x27;text-align:center;font-weight: bold&#x27;&gt;Jamaica&lt;/h4&gt;&lt;hr style=&#x27;margin:10px;color: white;&#x27;&gt;&lt;ul style=&#x27;color: white;;list-style-type:circle;align-item:left;padding-left:20px;padding-right:20px&#x27;&gt;&lt;li&gt;Confirmed: 152517&lt;/li&gt;&lt;li&gt;Deaths:   11863&lt;/li&gt;&lt;li&gt;Death Rate: 7.78&lt;/li&gt;&lt;/ul&gt;&lt;/div&gt;\n",
       "                 &lt;/div&gt;`,\n",
       "                {&quot;sticky&quot;: true}\n",
       "            );\n",
       "        \n",
       "    \n",
       "            var circle_bb8c4fc46229fed9d9428212fdb5f2fa = L.circle(\n",
       "                [36.204824, 138.252924],\n",
       "                {&quot;bubblingMouseEvents&quot;: true, &quot;color&quot;: &quot;red&quot;, &quot;dashArray&quot;: null, &quot;dashOffset&quot;: null, &quot;fill&quot;: true, &quot;fillColor&quot;: &quot;indigo&quot;, &quot;fillOpacity&quot;: 0.2, &quot;fillRule&quot;: &quot;evenodd&quot;, &quot;lineCap&quot;: &quot;round&quot;, &quot;lineJoin&quot;: &quot;round&quot;, &quot;opacity&quot;: 1.0, &quot;radius&quot;: 86000.0, &quot;stroke&quot;: true, &quot;weight&quot;: 3}\n",
       "            ).addTo(map_01f8206293aa103112e128106147057e);\n",
       "        \n",
       "    \n",
       "            circle_bb8c4fc46229fed9d9428212fdb5f2fa.bindTooltip(\n",
       "                `&lt;div&gt;\n",
       "                     &lt;div style=&#x27;margin: 0; background-color: black; color: white;&#x27;&gt;&lt;h4 style=&#x27;text-align:center;font-weight: bold&#x27;&gt;Japan&lt;/h4&gt;&lt;hr style=&#x27;margin:10px;color: white;&#x27;&gt;&lt;ul style=&#x27;color: white;;list-style-type:circle;align-item:left;padding-left:20px;padding-right:20px&#x27;&gt;&lt;li&gt;Confirmed: 24815308&lt;/li&gt;&lt;li&gt;Deaths:   181098&lt;/li&gt;&lt;li&gt;Death Rate: 0.73&lt;/li&gt;&lt;/ul&gt;&lt;/div&gt;\n",
       "                 &lt;/div&gt;`,\n",
       "                {&quot;sticky&quot;: true}\n",
       "            );\n",
       "        \n",
       "    \n",
       "            var circle_b9fbb1b2cccb8bd437ffff4e542293d3 = L.circle(\n",
       "                [31.24, 36.51],\n",
       "                {&quot;bubblingMouseEvents&quot;: true, &quot;color&quot;: &quot;red&quot;, &quot;dashArray&quot;: null, &quot;dashOffset&quot;: null, &quot;fill&quot;: true, &quot;fillColor&quot;: &quot;indigo&quot;, &quot;fillOpacity&quot;: 0.2, &quot;fillRule&quot;: &quot;evenodd&quot;, &quot;lineCap&quot;: &quot;round&quot;, &quot;lineJoin&quot;: &quot;round&quot;, &quot;opacity&quot;: 1.0, &quot;radius&quot;: 71000.0, &quot;stroke&quot;: true, &quot;weight&quot;: 3}\n",
       "            ).addTo(map_01f8206293aa103112e128106147057e);\n",
       "        \n",
       "    \n",
       "            circle_b9fbb1b2cccb8bd437ffff4e542293d3.bindTooltip(\n",
       "                `&lt;div&gt;\n",
       "                     &lt;div style=&#x27;margin: 0; background-color: black; color: white;&#x27;&gt;&lt;h4 style=&#x27;text-align:center;font-weight: bold&#x27;&gt;Jordan&lt;/h4&gt;&lt;hr style=&#x27;margin:10px;color: white;&#x27;&gt;&lt;ul style=&#x27;color: white;;list-style-type:circle;align-item:left;padding-left:20px;padding-right:20px&#x27;&gt;&lt;li&gt;Confirmed: 1746997&lt;/li&gt;&lt;li&gt;Deaths:   3399&lt;/li&gt;&lt;li&gt;Death Rate: 0.19&lt;/li&gt;&lt;/ul&gt;&lt;/div&gt;\n",
       "                 &lt;/div&gt;`,\n",
       "                {&quot;sticky&quot;: true}\n",
       "            );\n",
       "        \n",
       "    \n",
       "            var circle_72e175c9f1ff9ecc0b0bcca16ad81870 = L.circle(\n",
       "                [48.0196, 66.9237],\n",
       "                {&quot;bubblingMouseEvents&quot;: true, &quot;color&quot;: &quot;red&quot;, &quot;dashArray&quot;: null, &quot;dashOffset&quot;: null, &quot;fill&quot;: true, &quot;fillColor&quot;: &quot;indigo&quot;, &quot;fillOpacity&quot;: 0.2, &quot;fillRule&quot;: &quot;evenodd&quot;, &quot;lineCap&quot;: &quot;round&quot;, &quot;lineJoin&quot;: &quot;round&quot;, &quot;opacity&quot;: 1.0, &quot;radius&quot;: 71000.0, &quot;stroke&quot;: true, &quot;weight&quot;: 3}\n",
       "            ).addTo(map_01f8206293aa103112e128106147057e);\n",
       "        \n",
       "    \n",
       "            circle_72e175c9f1ff9ecc0b0bcca16ad81870.bindTooltip(\n",
       "                `&lt;div&gt;\n",
       "                     &lt;div style=&#x27;margin: 0; background-color: black; color: white;&#x27;&gt;&lt;h4 style=&#x27;text-align:center;font-weight: bold&#x27;&gt;Kazakhstan&lt;/h4&gt;&lt;hr style=&#x27;margin:10px;color: white;&#x27;&gt;&lt;ul style=&#x27;color: white;;list-style-type:circle;align-item:left;padding-left:20px;padding-right:20px&#x27;&gt;&lt;li&gt;Confirmed: 1485635&lt;/li&gt;&lt;li&gt;Deaths:   49652&lt;/li&gt;&lt;li&gt;Death Rate: 3.34&lt;/li&gt;&lt;/ul&gt;&lt;/div&gt;\n",
       "                 &lt;/div&gt;`,\n",
       "                {&quot;sticky&quot;: true}\n",
       "            );\n",
       "        \n",
       "    \n",
       "            var circle_40365a9ff97d7015c7d867ad68040100 = L.circle(\n",
       "                [-0.0236, 37.9062],\n",
       "                {&quot;bubblingMouseEvents&quot;: true, &quot;color&quot;: &quot;red&quot;, &quot;dashArray&quot;: null, &quot;dashOffset&quot;: null, &quot;fill&quot;: true, &quot;fillColor&quot;: &quot;indigo&quot;, &quot;fillOpacity&quot;: 0.2, &quot;fillRule&quot;: &quot;evenodd&quot;, &quot;lineCap&quot;: &quot;round&quot;, &quot;lineJoin&quot;: &quot;round&quot;, &quot;opacity&quot;: 1.0, &quot;radius&quot;: 61000.0, &quot;stroke&quot;: true, &quot;weight&quot;: 3}\n",
       "            ).addTo(map_01f8206293aa103112e128106147057e);\n",
       "        \n",
       "    \n",
       "            circle_40365a9ff97d7015c7d867ad68040100.bindTooltip(\n",
       "                `&lt;div&gt;\n",
       "                     &lt;div style=&#x27;margin: 0; background-color: black; color: white;&#x27;&gt;&lt;h4 style=&#x27;text-align:center;font-weight: bold&#x27;&gt;Kenya&lt;/h4&gt;&lt;hr style=&#x27;margin:10px;color: white;&#x27;&gt;&lt;ul style=&#x27;color: white;;list-style-type:circle;align-item:left;padding-left:20px;padding-right:20px&#x27;&gt;&lt;li&gt;Confirmed: 341636&lt;/li&gt;&lt;li&gt;Deaths:   14122&lt;/li&gt;&lt;li&gt;Death Rate: 4.13&lt;/li&gt;&lt;/ul&gt;&lt;/div&gt;\n",
       "                 &lt;/div&gt;`,\n",
       "                {&quot;sticky&quot;: true}\n",
       "            );\n",
       "        \n",
       "    \n",
       "            var circle_f25d13f6e47a7a6a46e408ca2406189c = L.circle(\n",
       "                [-3.3704, -168.734],\n",
       "                {&quot;bubblingMouseEvents&quot;: true, &quot;color&quot;: &quot;red&quot;, &quot;dashArray&quot;: null, &quot;dashOffset&quot;: null, &quot;fill&quot;: true, &quot;fillColor&quot;: &quot;indigo&quot;, &quot;fillOpacity&quot;: 0.2, &quot;fillRule&quot;: &quot;evenodd&quot;, &quot;lineCap&quot;: &quot;round&quot;, &quot;lineJoin&quot;: &quot;round&quot;, &quot;opacity&quot;: 1.0, &quot;radius&quot;: 41000.0, &quot;stroke&quot;: true, &quot;weight&quot;: 3}\n",
       "            ).addTo(map_01f8206293aa103112e128106147057e);\n",
       "        \n",
       "    \n",
       "            circle_f25d13f6e47a7a6a46e408ca2406189c.bindTooltip(\n",
       "                `&lt;div&gt;\n",
       "                     &lt;div style=&#x27;margin: 0; background-color: black; color: white;&#x27;&gt;&lt;h4 style=&#x27;text-align:center;font-weight: bold&#x27;&gt;Kiribati&lt;/h4&gt;&lt;hr style=&#x27;margin:10px;color: white;&#x27;&gt;&lt;ul style=&#x27;color: white;;list-style-type:circle;align-item:left;padding-left:20px;padding-right:20px&#x27;&gt;&lt;li&gt;Confirmed: 3430&lt;/li&gt;&lt;li&gt;Deaths:   19053&lt;/li&gt;&lt;li&gt;Death Rate: 555.32&lt;/li&gt;&lt;/ul&gt;&lt;/div&gt;\n",
       "                 &lt;/div&gt;`,\n",
       "                {&quot;sticky&quot;: true}\n",
       "            );\n",
       "        \n",
       "    \n",
       "            var circle_dd23dd978a01dd7cc39da1f9b569084a = L.circle(\n",
       "                [40.3399, 127.5101],\n",
       "                {&quot;bubblingMouseEvents&quot;: true, &quot;color&quot;: &quot;red&quot;, &quot;dashArray&quot;: null, &quot;dashOffset&quot;: null, &quot;fill&quot;: true, &quot;fillColor&quot;: &quot;indigo&quot;, &quot;fillOpacity&quot;: 0.2, &quot;fillRule&quot;: &quot;evenodd&quot;, &quot;lineCap&quot;: &quot;round&quot;, &quot;lineJoin&quot;: &quot;round&quot;, &quot;opacity&quot;: 1.0, &quot;radius&quot;: 1000.0, &quot;stroke&quot;: true, &quot;weight&quot;: 3}\n",
       "            ).addTo(map_01f8206293aa103112e128106147057e);\n",
       "        \n",
       "    \n",
       "            circle_dd23dd978a01dd7cc39da1f9b569084a.bindTooltip(\n",
       "                `&lt;div&gt;\n",
       "                     &lt;div style=&#x27;margin: 0; background-color: black; color: white;&#x27;&gt;&lt;h4 style=&#x27;text-align:center;font-weight: bold&#x27;&gt;Korea, North&lt;/h4&gt;&lt;hr style=&#x27;margin:10px;color: white;&#x27;&gt;&lt;ul style=&#x27;color: white;;list-style-type:circle;align-item:left;padding-left:20px;padding-right:20px&#x27;&gt;&lt;li&gt;Confirmed: 1&lt;/li&gt;&lt;li&gt;Deaths:   5684&lt;/li&gt;&lt;li&gt;Death Rate: 284198.58&lt;/li&gt;&lt;/ul&gt;&lt;/div&gt;\n",
       "                 &lt;/div&gt;`,\n",
       "                {&quot;sticky&quot;: true}\n",
       "            );\n",
       "        \n",
       "    \n",
       "            var circle_4a00c1366ac2dbb261054371b0db9095 = L.circle(\n",
       "                [35.907757, 127.766922],\n",
       "                {&quot;bubblingMouseEvents&quot;: true, &quot;color&quot;: &quot;red&quot;, &quot;dashArray&quot;: null, &quot;dashOffset&quot;: null, &quot;fill&quot;: true, &quot;fillColor&quot;: &quot;indigo&quot;, &quot;fillOpacity&quot;: 0.2, &quot;fillRule&quot;: &quot;evenodd&quot;, &quot;lineCap&quot;: &quot;round&quot;, &quot;lineJoin&quot;: &quot;round&quot;, &quot;opacity&quot;: 1.0, &quot;radius&quot;: 86000.0, &quot;stroke&quot;: true, &quot;weight&quot;: 3}\n",
       "            ).addTo(map_01f8206293aa103112e128106147057e);\n",
       "        \n",
       "    \n",
       "            circle_4a00c1366ac2dbb261054371b0db9095.bindTooltip(\n",
       "                `&lt;div&gt;\n",
       "                     &lt;div style=&#x27;margin: 0; background-color: black; color: white;&#x27;&gt;&lt;h4 style=&#x27;text-align:center;font-weight: bold&#x27;&gt;Korea, South&lt;/h4&gt;&lt;hr style=&#x27;margin:10px;color: white;&#x27;&gt;&lt;ul style=&#x27;color: white;;list-style-type:circle;align-item:left;padding-left:20px;padding-right:20px&#x27;&gt;&lt;li&gt;Confirmed: 27155813&lt;/li&gt;&lt;li&gt;Deaths:   13&lt;/li&gt;&lt;li&gt;Death Rate: 0.0&lt;/li&gt;&lt;/ul&gt;&lt;/div&gt;\n",
       "                 &lt;/div&gt;`,\n",
       "                {&quot;sticky&quot;: true}\n",
       "            );\n",
       "        \n",
       "    \n",
       "            var circle_27e69e65225622a7414ada2670e92cfa = L.circle(\n",
       "                [42.602636, 20.902977],\n",
       "                {&quot;bubblingMouseEvents&quot;: true, &quot;color&quot;: &quot;red&quot;, &quot;dashArray&quot;: null, &quot;dashOffset&quot;: null, &quot;fill&quot;: true, &quot;fillColor&quot;: &quot;indigo&quot;, &quot;fillOpacity&quot;: 0.2, &quot;fillRule&quot;: &quot;evenodd&quot;, &quot;lineCap&quot;: &quot;round&quot;, &quot;lineJoin&quot;: &quot;round&quot;, &quot;opacity&quot;: 1.0, &quot;radius&quot;: 61000.0, &quot;stroke&quot;: true, &quot;weight&quot;: 3}\n",
       "            ).addTo(map_01f8206293aa103112e128106147057e);\n",
       "        \n",
       "    \n",
       "            circle_27e69e65225622a7414ada2670e92cfa.bindTooltip(\n",
       "                `&lt;div&gt;\n",
       "                     &lt;div style=&#x27;margin: 0; background-color: black; color: white;&#x27;&gt;&lt;h4 style=&#x27;text-align:center;font-weight: bold&#x27;&gt;Kosovo&lt;/h4&gt;&lt;hr style=&#x27;margin:10px;color: white;&#x27;&gt;&lt;ul style=&#x27;color: white;;list-style-type:circle;align-item:left;padding-left:20px;padding-right:20px&#x27;&gt;&lt;li&gt;Confirmed: 272209&lt;/li&gt;&lt;li&gt;Deaths:   6&lt;/li&gt;&lt;li&gt;Death Rate: 0.0&lt;/li&gt;&lt;/ul&gt;&lt;/div&gt;\n",
       "                 &lt;/div&gt;`,\n",
       "                {&quot;sticky&quot;: true}\n",
       "            );\n",
       "        \n",
       "    \n",
       "            var circle_26753fd9f2275a4820aa5743f4ebe390 = L.circle(\n",
       "                [29.31166, 47.481766],\n",
       "                {&quot;bubblingMouseEvents&quot;: true, &quot;color&quot;: &quot;red&quot;, &quot;dashArray&quot;: null, &quot;dashOffset&quot;: null, &quot;fill&quot;: true, &quot;fillColor&quot;: &quot;indigo&quot;, &quot;fillOpacity&quot;: 0.2, &quot;fillRule&quot;: &quot;evenodd&quot;, &quot;lineCap&quot;: &quot;round&quot;, &quot;lineJoin&quot;: &quot;round&quot;, &quot;opacity&quot;: 1.0, &quot;radius&quot;: 66000.0, &quot;stroke&quot;: true, &quot;weight&quot;: 3}\n",
       "            ).addTo(map_01f8206293aa103112e128106147057e);\n",
       "        \n",
       "    \n",
       "            circle_26753fd9f2275a4820aa5743f4ebe390.bindTooltip(\n",
       "                `&lt;div&gt;\n",
       "                     &lt;div style=&#x27;margin: 0; background-color: black; color: white;&#x27;&gt;&lt;h4 style=&#x27;text-align:center;font-weight: bold&#x27;&gt;Kuwait&lt;/h4&gt;&lt;hr style=&#x27;margin:10px;color: white;&#x27;&gt;&lt;ul style=&#x27;color: white;;list-style-type:circle;align-item:left;padding-left:20px;padding-right:20px&#x27;&gt;&lt;li&gt;Confirmed: 662672&lt;/li&gt;&lt;li&gt;Deaths:   30568&lt;/li&gt;&lt;li&gt;Death Rate: 4.61&lt;/li&gt;&lt;/ul&gt;&lt;/div&gt;\n",
       "                 &lt;/div&gt;`,\n",
       "                {&quot;sticky&quot;: true}\n",
       "            );\n",
       "        \n",
       "    \n",
       "            var circle_205a8fbc54fa8de2fce2ba9598dd1368 = L.circle(\n",
       "                [41.20438, 74.766098],\n",
       "                {&quot;bubblingMouseEvents&quot;: true, &quot;color&quot;: &quot;red&quot;, &quot;dashArray&quot;: null, &quot;dashOffset&quot;: null, &quot;fill&quot;: true, &quot;fillColor&quot;: &quot;indigo&quot;, &quot;fillOpacity&quot;: 0.2, &quot;fillRule&quot;: &quot;evenodd&quot;, &quot;lineCap&quot;: &quot;round&quot;, &quot;lineJoin&quot;: &quot;round&quot;, &quot;opacity&quot;: 1.0, &quot;radius&quot;: 61000.0, &quot;stroke&quot;: true, &quot;weight&quot;: 3}\n",
       "            ).addTo(map_01f8206293aa103112e128106147057e);\n",
       "        \n",
       "    \n",
       "            circle_205a8fbc54fa8de2fce2ba9598dd1368.bindTooltip(\n",
       "                `&lt;div&gt;\n",
       "                     &lt;div style=&#x27;margin: 0; background-color: black; color: white;&#x27;&gt;&lt;h4 style=&#x27;text-align:center;font-weight: bold&#x27;&gt;Kyrgyzstan&lt;/h4&gt;&lt;hr style=&#x27;margin:10px;color: white;&#x27;&gt;&lt;ul style=&#x27;color: white;;list-style-type:circle;align-item:left;padding-left:20px;padding-right:20px&#x27;&gt;&lt;li&gt;Confirmed: 206530&lt;/li&gt;&lt;li&gt;Deaths:   3202&lt;/li&gt;&lt;li&gt;Death Rate: 1.55&lt;/li&gt;&lt;/ul&gt;&lt;/div&gt;\n",
       "                 &lt;/div&gt;`,\n",
       "                {&quot;sticky&quot;: true}\n",
       "            );\n",
       "        \n",
       "    \n",
       "            var circle_9423944fbee9df870499af68dba335b3 = L.circle(\n",
       "                [19.85627, 102.495496],\n",
       "                {&quot;bubblingMouseEvents&quot;: true, &quot;color&quot;: &quot;red&quot;, &quot;dashArray&quot;: null, &quot;dashOffset&quot;: null, &quot;fill&quot;: true, &quot;fillColor&quot;: &quot;indigo&quot;, &quot;fillOpacity&quot;: 0.2, &quot;fillRule&quot;: &quot;evenodd&quot;, &quot;lineCap&quot;: &quot;round&quot;, &quot;lineJoin&quot;: &quot;round&quot;, &quot;opacity&quot;: 1.0, &quot;radius&quot;: 61000.0, &quot;stroke&quot;: true, &quot;weight&quot;: 3}\n",
       "            ).addTo(map_01f8206293aa103112e128106147057e);\n",
       "        \n",
       "    \n",
       "            circle_9423944fbee9df870499af68dba335b3.bindTooltip(\n",
       "                `&lt;div&gt;\n",
       "                     &lt;div style=&#x27;margin: 0; background-color: black; color: white;&#x27;&gt;&lt;h4 style=&#x27;text-align:center;font-weight: bold&#x27;&gt;Laos&lt;/h4&gt;&lt;hr style=&#x27;margin:10px;color: white;&#x27;&gt;&lt;ul style=&#x27;color: white;;list-style-type:circle;align-item:left;padding-left:20px;padding-right:20px&#x27;&gt;&lt;li&gt;Confirmed: 216744&lt;/li&gt;&lt;li&gt;Deaths:   2570&lt;/li&gt;&lt;li&gt;Death Rate: 1.19&lt;/li&gt;&lt;/ul&gt;&lt;/div&gt;\n",
       "                 &lt;/div&gt;`,\n",
       "                {&quot;sticky&quot;: true}\n",
       "            );\n",
       "        \n",
       "    \n",
       "            var circle_1d2b6ee35eb1322c9672ca4be916c245 = L.circle(\n",
       "                [56.8796, 24.6032],\n",
       "                {&quot;bubblingMouseEvents&quot;: true, &quot;color&quot;: &quot;red&quot;, &quot;dashArray&quot;: null, &quot;dashOffset&quot;: null, &quot;fill&quot;: true, &quot;fillColor&quot;: &quot;indigo&quot;, &quot;fillOpacity&quot;: 0.2, &quot;fillRule&quot;: &quot;evenodd&quot;, &quot;lineCap&quot;: &quot;round&quot;, &quot;lineJoin&quot;: &quot;round&quot;, &quot;opacity&quot;: 1.0, &quot;radius&quot;: 66000.0, &quot;stroke&quot;: true, &quot;weight&quot;: 3}\n",
       "            ).addTo(map_01f8206293aa103112e128106147057e);\n",
       "        \n",
       "    \n",
       "            circle_1d2b6ee35eb1322c9672ca4be916c245.bindTooltip(\n",
       "                `&lt;div&gt;\n",
       "                     &lt;div style=&#x27;margin: 0; background-color: black; color: white;&#x27;&gt;&lt;h4 style=&#x27;text-align:center;font-weight: bold&#x27;&gt;Latvia&lt;/h4&gt;&lt;hr style=&#x27;margin:10px;color: white;&#x27;&gt;&lt;ul style=&#x27;color: white;;list-style-type:circle;align-item:left;padding-left:20px;padding-right:20px&#x27;&gt;&lt;li&gt;Confirmed: 963451&lt;/li&gt;&lt;li&gt;Deaths:   2991&lt;/li&gt;&lt;li&gt;Death Rate: 0.31&lt;/li&gt;&lt;/ul&gt;&lt;/div&gt;\n",
       "                 &lt;/div&gt;`,\n",
       "                {&quot;sticky&quot;: true}\n",
       "            );\n",
       "        \n",
       "    \n",
       "            var circle_c50e359b9d3a559ae10fa9c516a3089f = L.circle(\n",
       "                [33.8547, 35.8623],\n",
       "                {&quot;bubblingMouseEvents&quot;: true, &quot;color&quot;: &quot;red&quot;, &quot;dashArray&quot;: null, &quot;dashOffset&quot;: null, &quot;fill&quot;: true, &quot;fillColor&quot;: &quot;indigo&quot;, &quot;fillOpacity&quot;: 0.2, &quot;fillRule&quot;: &quot;evenodd&quot;, &quot;lineCap&quot;: &quot;round&quot;, &quot;lineJoin&quot;: &quot;round&quot;, &quot;opacity&quot;: 1.0, &quot;radius&quot;: 71000.0, &quot;stroke&quot;: true, &quot;weight&quot;: 3}\n",
       "            ).addTo(map_01f8206293aa103112e128106147057e);\n",
       "        \n",
       "    \n",
       "            circle_c50e359b9d3a559ae10fa9c516a3089f.bindTooltip(\n",
       "                `&lt;div&gt;\n",
       "                     &lt;div style=&#x27;margin: 0; background-color: black; color: white;&#x27;&gt;&lt;h4 style=&#x27;text-align:center;font-weight: bold&#x27;&gt;Lebanon&lt;/h4&gt;&lt;hr style=&#x27;margin:10px;color: white;&#x27;&gt;&lt;ul style=&#x27;color: white;;list-style-type:circle;align-item:left;padding-left:20px;padding-right:20px&#x27;&gt;&lt;li&gt;Confirmed: 1220560&lt;/li&gt;&lt;li&gt;Deaths:   758&lt;/li&gt;&lt;li&gt;Death Rate: 0.06&lt;/li&gt;&lt;/ul&gt;&lt;/div&gt;\n",
       "                 &lt;/div&gt;`,\n",
       "                {&quot;sticky&quot;: true}\n",
       "            );\n",
       "        \n",
       "    \n",
       "            var circle_4cbeebd456372cbc2541f4b7beaadc7c = L.circle(\n",
       "                [-29.61, 28.2336],\n",
       "                {&quot;bubblingMouseEvents&quot;: true, &quot;color&quot;: &quot;red&quot;, &quot;dashArray&quot;: null, &quot;dashOffset&quot;: null, &quot;fill&quot;: true, &quot;fillColor&quot;: &quot;indigo&quot;, &quot;fillOpacity&quot;: 0.2, &quot;fillRule&quot;: &quot;evenodd&quot;, &quot;lineCap&quot;: &quot;round&quot;, &quot;lineJoin&quot;: &quot;round&quot;, &quot;opacity&quot;: 1.0, &quot;radius&quot;: 51000.0, &quot;stroke&quot;: true, &quot;weight&quot;: 3}\n",
       "            ).addTo(map_01f8206293aa103112e128106147057e);\n",
       "        \n",
       "    \n",
       "            circle_4cbeebd456372cbc2541f4b7beaadc7c.bindTooltip(\n",
       "                `&lt;div&gt;\n",
       "                     &lt;div style=&#x27;margin: 0; background-color: black; color: white;&#x27;&gt;&lt;h4 style=&#x27;text-align:center;font-weight: bold&#x27;&gt;Lesotho&lt;/h4&gt;&lt;hr style=&#x27;margin:10px;color: white;&#x27;&gt;&lt;ul style=&#x27;color: white;;list-style-type:circle;align-item:left;padding-left:20px;padding-right:20px&#x27;&gt;&lt;li&gt;Confirmed: 34490&lt;/li&gt;&lt;li&gt;Deaths:   6091&lt;/li&gt;&lt;li&gt;Death Rate: 17.66&lt;/li&gt;&lt;/ul&gt;&lt;/div&gt;\n",
       "                 &lt;/div&gt;`,\n",
       "                {&quot;sticky&quot;: true}\n",
       "            );\n",
       "        \n",
       "    \n",
       "            var circle_350ae5d3024a7345a7882b34ebd99e7c = L.circle(\n",
       "                [6.428055, -9.429499],\n",
       "                {&quot;bubblingMouseEvents&quot;: true, &quot;color&quot;: &quot;red&quot;, &quot;dashArray&quot;: null, &quot;dashOffset&quot;: null, &quot;fill&quot;: true, &quot;fillColor&quot;: &quot;indigo&quot;, &quot;fillOpacity&quot;: 0.2, &quot;fillRule&quot;: &quot;evenodd&quot;, &quot;lineCap&quot;: &quot;round&quot;, &quot;lineJoin&quot;: &quot;round&quot;, &quot;opacity&quot;: 1.0, &quot;radius&quot;: 41000.0, &quot;stroke&quot;: true, &quot;weight&quot;: 3}\n",
       "            ).addTo(map_01f8206293aa103112e128106147057e);\n",
       "        \n",
       "    \n",
       "            circle_350ae5d3024a7345a7882b34ebd99e7c.bindTooltip(\n",
       "                `&lt;div&gt;\n",
       "                     &lt;div style=&#x27;margin: 0; background-color: black; color: white;&#x27;&gt;&lt;h4 style=&#x27;text-align:center;font-weight: bold&#x27;&gt;Liberia&lt;/h4&gt;&lt;hr style=&#x27;margin:10px;color: white;&#x27;&gt;&lt;ul style=&#x27;color: white;;list-style-type:circle;align-item:left;padding-left:20px;padding-right:20px&#x27;&gt;&lt;li&gt;Confirmed: 8022&lt;/li&gt;&lt;li&gt;Deaths:   10737&lt;/li&gt;&lt;li&gt;Death Rate: 133.83&lt;/li&gt;&lt;/ul&gt;&lt;/div&gt;\n",
       "                 &lt;/div&gt;`,\n",
       "                {&quot;sticky&quot;: true}\n",
       "            );\n",
       "        \n",
       "    \n",
       "            var circle_923c536ec0e8fb1cc46730acd5feda32 = L.circle(\n",
       "                [26.3351, 17.228331],\n",
       "                {&quot;bubblingMouseEvents&quot;: true, &quot;color&quot;: &quot;red&quot;, &quot;dashArray&quot;: null, &quot;dashOffset&quot;: null, &quot;fill&quot;: true, &quot;fillColor&quot;: &quot;indigo&quot;, &quot;fillOpacity&quot;: 0.2, &quot;fillRule&quot;: &quot;evenodd&quot;, &quot;lineCap&quot;: &quot;round&quot;, &quot;lineJoin&quot;: &quot;round&quot;, &quot;opacity&quot;: 1.0, &quot;radius&quot;: 66000.0, &quot;stroke&quot;: true, &quot;weight&quot;: 3}\n",
       "            ).addTo(map_01f8206293aa103112e128106147057e);\n",
       "        \n",
       "    \n",
       "            circle_923c536ec0e8fb1cc46730acd5feda32.bindTooltip(\n",
       "                `&lt;div&gt;\n",
       "                     &lt;div style=&#x27;margin: 0; background-color: black; color: white;&#x27;&gt;&lt;h4 style=&#x27;text-align:center;font-weight: bold&#x27;&gt;Libya&lt;/h4&gt;&lt;hr style=&#x27;margin:10px;color: white;&#x27;&gt;&lt;ul style=&#x27;color: white;;list-style-type:circle;align-item:left;padding-left:20px;padding-right:20px&#x27;&gt;&lt;li&gt;Confirmed: 507084&lt;/li&gt;&lt;li&gt;Deaths:   706&lt;/li&gt;&lt;li&gt;Death Rate: 0.14&lt;/li&gt;&lt;/ul&gt;&lt;/div&gt;\n",
       "                 &lt;/div&gt;`,\n",
       "                {&quot;sticky&quot;: true}\n",
       "            );\n",
       "        \n",
       "    \n",
       "            var circle_9d3b97e0cbfcb18dc9b2185cd2514144 = L.circle(\n",
       "                [47.14, 9.55],\n",
       "                {&quot;bubblingMouseEvents&quot;: true, &quot;color&quot;: &quot;red&quot;, &quot;dashArray&quot;: null, &quot;dashOffset&quot;: null, &quot;fill&quot;: true, &quot;fillColor&quot;: &quot;indigo&quot;, &quot;fillOpacity&quot;: 0.2, &quot;fillRule&quot;: &quot;evenodd&quot;, &quot;lineCap&quot;: &quot;round&quot;, &quot;lineJoin&quot;: &quot;round&quot;, &quot;opacity&quot;: 1.0, &quot;radius&quot;: 46000.0, &quot;stroke&quot;: true, &quot;weight&quot;: 3}\n",
       "            ).addTo(map_01f8206293aa103112e128106147057e);\n",
       "        \n",
       "    \n",
       "            circle_9d3b97e0cbfcb18dc9b2185cd2514144.bindTooltip(\n",
       "                `&lt;div&gt;\n",
       "                     &lt;div style=&#x27;margin: 0; background-color: black; color: white;&#x27;&gt;&lt;h4 style=&#x27;text-align:center;font-weight: bold&#x27;&gt;Liechtenstein&lt;/h4&gt;&lt;hr style=&#x27;margin:10px;color: white;&#x27;&gt;&lt;ul style=&#x27;color: white;;list-style-type:circle;align-item:left;padding-left:20px;padding-right:20px&#x27;&gt;&lt;li&gt;Confirmed: 20935&lt;/li&gt;&lt;li&gt;Deaths:   294&lt;/li&gt;&lt;li&gt;Death Rate: 1.4&lt;/li&gt;&lt;/ul&gt;&lt;/div&gt;\n",
       "                 &lt;/div&gt;`,\n",
       "                {&quot;sticky&quot;: true}\n",
       "            );\n",
       "        \n",
       "    \n",
       "            var circle_02660201ecb348becdf0f3ebd50384d1 = L.circle(\n",
       "                [55.1694, 23.8813],\n",
       "                {&quot;bubblingMouseEvents&quot;: true, &quot;color&quot;: &quot;red&quot;, &quot;dashArray&quot;: null, &quot;dashOffset&quot;: null, &quot;fill&quot;: true, &quot;fillColor&quot;: &quot;indigo&quot;, &quot;fillOpacity&quot;: 0.2, &quot;fillRule&quot;: &quot;evenodd&quot;, &quot;lineCap&quot;: &quot;round&quot;, &quot;lineJoin&quot;: &quot;round&quot;, &quot;opacity&quot;: 1.0, &quot;radius&quot;: 71000.0, &quot;stroke&quot;: true, &quot;weight&quot;: 3}\n",
       "            ).addTo(map_01f8206293aa103112e128106147057e);\n",
       "        \n",
       "    \n",
       "            circle_02660201ecb348becdf0f3ebd50384d1.bindTooltip(\n",
       "                `&lt;div&gt;\n",
       "                     &lt;div style=&#x27;margin: 0; background-color: black; color: white;&#x27;&gt;&lt;h4 style=&#x27;text-align:center;font-weight: bold&#x27;&gt;Lithuania&lt;/h4&gt;&lt;hr style=&#x27;margin:10px;color: white;&#x27;&gt;&lt;ul style=&#x27;color: white;;list-style-type:circle;align-item:left;padding-left:20px;padding-right:20px&#x27;&gt;&lt;li&gt;Confirmed: 1276076&lt;/li&gt;&lt;li&gt;Deaths:   6437&lt;/li&gt;&lt;li&gt;Death Rate: 0.5&lt;/li&gt;&lt;/ul&gt;&lt;/div&gt;\n",
       "                 &lt;/div&gt;`,\n",
       "                {&quot;sticky&quot;: true}\n",
       "            );\n",
       "        \n",
       "    \n",
       "            var circle_77221e63674b5a4a8841e911c8980e67 = L.circle(\n",
       "                [49.8153, 6.1296],\n",
       "                {&quot;bubblingMouseEvents&quot;: true, &quot;color&quot;: &quot;red&quot;, &quot;dashArray&quot;: null, &quot;dashOffset&quot;: null, &quot;fill&quot;: true, &quot;fillColor&quot;: &quot;indigo&quot;, &quot;fillOpacity&quot;: 0.2, &quot;fillRule&quot;: &quot;evenodd&quot;, &quot;lineCap&quot;: &quot;round&quot;, &quot;lineJoin&quot;: &quot;round&quot;, &quot;opacity&quot;: 1.0, &quot;radius&quot;: 61000.0, &quot;stroke&quot;: true, &quot;weight&quot;: 3}\n",
       "            ).addTo(map_01f8206293aa103112e128106147057e);\n",
       "        \n",
       "    \n",
       "            circle_77221e63674b5a4a8841e911c8980e67.bindTooltip(\n",
       "                `&lt;div&gt;\n",
       "                     &lt;div style=&#x27;margin: 0; background-color: black; color: white;&#x27;&gt;&lt;h4 style=&#x27;text-align:center;font-weight: bold&#x27;&gt;Luxembourg&lt;/h4&gt;&lt;hr style=&#x27;margin:10px;color: white;&#x27;&gt;&lt;ul style=&#x27;color: white;;list-style-type:circle;align-item:left;padding-left:20px;padding-right:20px&#x27;&gt;&lt;li&gt;Confirmed: 306843&lt;/li&gt;&lt;li&gt;Deaths:   87&lt;/li&gt;&lt;li&gt;Death Rate: 0.03&lt;/li&gt;&lt;/ul&gt;&lt;/div&gt;\n",
       "                 &lt;/div&gt;`,\n",
       "                {&quot;sticky&quot;: true}\n",
       "            );\n",
       "        \n",
       "    \n",
       "            var circle_c69e3d9a11b4b35325999624a030ead1 = L.circle(\n",
       "                [0.0, 0.0],\n",
       "                {&quot;bubblingMouseEvents&quot;: true, &quot;color&quot;: &quot;red&quot;, &quot;dashArray&quot;: null, &quot;dashOffset&quot;: null, &quot;fill&quot;: true, &quot;fillColor&quot;: &quot;indigo&quot;, &quot;fillOpacity&quot;: 0.2, &quot;fillRule&quot;: &quot;evenodd&quot;, &quot;lineCap&quot;: &quot;round&quot;, &quot;lineJoin&quot;: &quot;round&quot;, &quot;opacity&quot;: 1.0, &quot;radius&quot;: 11000.0, &quot;stroke&quot;: true, &quot;weight&quot;: 3}\n",
       "            ).addTo(map_01f8206293aa103112e128106147057e);\n",
       "        \n",
       "    \n",
       "            circle_c69e3d9a11b4b35325999624a030ead1.bindTooltip(\n",
       "                `&lt;div&gt;\n",
       "                     &lt;div style=&#x27;margin: 0; background-color: black; color: white;&#x27;&gt;&lt;h4 style=&#x27;text-align:center;font-weight: bold&#x27;&gt;MS Zaandam&lt;/h4&gt;&lt;hr style=&#x27;margin:10px;color: white;&#x27;&gt;&lt;ul style=&#x27;color: white;;list-style-type:circle;align-item:left;padding-left:20px;padding-right:20px&#x27;&gt;&lt;li&gt;Confirmed: 9&lt;/li&gt;&lt;li&gt;Deaths:   9434&lt;/li&gt;&lt;li&gt;Death Rate: 94339.91&lt;/li&gt;&lt;/ul&gt;&lt;/div&gt;\n",
       "                 &lt;/div&gt;`,\n",
       "                {&quot;sticky&quot;: true}\n",
       "            );\n",
       "        \n",
       "    \n",
       "            var circle_a52bf12e5acb7beebc890a5337b70137 = L.circle(\n",
       "                [-18.766947, 46.869107],\n",
       "                {&quot;bubblingMouseEvents&quot;: true, &quot;color&quot;: &quot;red&quot;, &quot;dashArray&quot;: null, &quot;dashOffset&quot;: null, &quot;fill&quot;: true, &quot;fillColor&quot;: &quot;indigo&quot;, &quot;fillOpacity&quot;: 0.2, &quot;fillRule&quot;: &quot;evenodd&quot;, &quot;lineCap&quot;: &quot;round&quot;, &quot;lineJoin&quot;: &quot;round&quot;, &quot;opacity&quot;: 1.0, &quot;radius&quot;: 56000.0, &quot;stroke&quot;: true, &quot;weight&quot;: 3}\n",
       "            ).addTo(map_01f8206293aa103112e128106147057e);\n",
       "        \n",
       "    \n",
       "            circle_a52bf12e5acb7beebc890a5337b70137.bindTooltip(\n",
       "                `&lt;div&gt;\n",
       "                     &lt;div style=&#x27;margin: 0; background-color: black; color: white;&#x27;&gt;&lt;h4 style=&#x27;text-align:center;font-weight: bold&#x27;&gt;Madagascar&lt;/h4&gt;&lt;hr style=&#x27;margin:10px;color: white;&#x27;&gt;&lt;ul style=&#x27;color: white;;list-style-type:circle;align-item:left;padding-left:20px;padding-right:20px&#x27;&gt;&lt;li&gt;Confirmed: 67259&lt;/li&gt;&lt;li&gt;Deaths:   1162&lt;/li&gt;&lt;li&gt;Death Rate: 1.73&lt;/li&gt;&lt;/ul&gt;&lt;/div&gt;\n",
       "                 &lt;/div&gt;`,\n",
       "                {&quot;sticky&quot;: true}\n",
       "            );\n",
       "        \n",
       "    \n",
       "            var circle_e7af5147cb1aadb9a111251a3b1f5a00 = L.circle(\n",
       "                [-13.2543, 34.3015],\n",
       "                {&quot;bubblingMouseEvents&quot;: true, &quot;color&quot;: &quot;red&quot;, &quot;dashArray&quot;: null, &quot;dashOffset&quot;: null, &quot;fill&quot;: true, &quot;fillColor&quot;: &quot;indigo&quot;, &quot;fillOpacity&quot;: 0.2, &quot;fillRule&quot;: &quot;evenodd&quot;, &quot;lineCap&quot;: &quot;round&quot;, &quot;lineJoin&quot;: &quot;round&quot;, &quot;opacity&quot;: 1.0, &quot;radius&quot;: 56000.0, &quot;stroke&quot;: true, &quot;weight&quot;: 3}\n",
       "            ).addTo(map_01f8206293aa103112e128106147057e);\n",
       "        \n",
       "    \n",
       "            circle_e7af5147cb1aadb9a111251a3b1f5a00.bindTooltip(\n",
       "                `&lt;div&gt;\n",
       "                     &lt;div style=&#x27;margin: 0; background-color: black; color: white;&#x27;&gt;&lt;h4 style=&#x27;text-align:center;font-weight: bold&#x27;&gt;Malawi&lt;/h4&gt;&lt;hr style=&#x27;margin:10px;color: white;&#x27;&gt;&lt;ul style=&#x27;color: white;;list-style-type:circle;align-item:left;padding-left:20px;padding-right:20px&#x27;&gt;&lt;li&gt;Confirmed: 88086&lt;/li&gt;&lt;li&gt;Deaths:   2&lt;/li&gt;&lt;li&gt;Death Rate: 0.0&lt;/li&gt;&lt;/ul&gt;&lt;/div&gt;\n",
       "                 &lt;/div&gt;`,\n",
       "                {&quot;sticky&quot;: true}\n",
       "            );\n",
       "        \n",
       "    \n",
       "            var circle_53d6e06e84c4dd10d2a020446b03d791 = L.circle(\n",
       "                [4.210484, 101.975766],\n",
       "                {&quot;bubblingMouseEvents&quot;: true, &quot;color&quot;: &quot;red&quot;, &quot;dashArray&quot;: null, &quot;dashOffset&quot;: null, &quot;fill&quot;: true, &quot;fillColor&quot;: &quot;indigo&quot;, &quot;fillOpacity&quot;: 0.2, &quot;fillRule&quot;: &quot;evenodd&quot;, &quot;lineCap&quot;: &quot;round&quot;, &quot;lineJoin&quot;: &quot;round&quot;, &quot;opacity&quot;: 1.0, &quot;radius&quot;: 76000.0, &quot;stroke&quot;: true, &quot;weight&quot;: 3}\n",
       "            ).addTo(map_01f8206293aa103112e128106147057e);\n",
       "        \n",
       "    \n",
       "            circle_53d6e06e84c4dd10d2a020446b03d791.bindTooltip(\n",
       "                `&lt;div&gt;\n",
       "                     &lt;div style=&#x27;margin: 0; background-color: black; color: white;&#x27;&gt;&lt;h4 style=&#x27;text-align:center;font-weight: bold&#x27;&gt;Malaysia&lt;/h4&gt;&lt;hr style=&#x27;margin:10px;color: white;&#x27;&gt;&lt;ul style=&#x27;color: white;;list-style-type:circle;align-item:left;padding-left:20px;padding-right:20px&#x27;&gt;&lt;li&gt;Confirmed: 4992168&lt;/li&gt;&lt;li&gt;Deaths:   1412&lt;/li&gt;&lt;li&gt;Death Rate: 0.03&lt;/li&gt;&lt;/ul&gt;&lt;/div&gt;\n",
       "                 &lt;/div&gt;`,\n",
       "                {&quot;sticky&quot;: true}\n",
       "            );\n",
       "        \n",
       "    \n",
       "            var circle_aa79d970851da42f9d434646ef5a2615 = L.circle(\n",
       "                [3.2028, 73.2207],\n",
       "                {&quot;bubblingMouseEvents&quot;: true, &quot;color&quot;: &quot;red&quot;, &quot;dashArray&quot;: null, &quot;dashOffset&quot;: null, &quot;fill&quot;: true, &quot;fillColor&quot;: &quot;indigo&quot;, &quot;fillOpacity&quot;: 0.2, &quot;fillRule&quot;: &quot;evenodd&quot;, &quot;lineCap&quot;: &quot;round&quot;, &quot;lineJoin&quot;: &quot;round&quot;, &quot;opacity&quot;: 1.0, &quot;radius&quot;: 61000.0, &quot;stroke&quot;: true, &quot;weight&quot;: 3}\n",
       "            ).addTo(map_01f8206293aa103112e128106147057e);\n",
       "        \n",
       "    \n",
       "            circle_aa79d970851da42f9d434646ef5a2615.bindTooltip(\n",
       "                `&lt;div&gt;\n",
       "                     &lt;div style=&#x27;margin: 0; background-color: black; color: white;&#x27;&gt;&lt;h4 style=&#x27;text-align:center;font-weight: bold&#x27;&gt;Maldives&lt;/h4&gt;&lt;hr style=&#x27;margin:10px;color: white;&#x27;&gt;&lt;ul style=&#x27;color: white;;list-style-type:circle;align-item:left;padding-left:20px;padding-right:20px&#x27;&gt;&lt;li&gt;Confirmed: 185618&lt;/li&gt;&lt;li&gt;Deaths:   2685&lt;/li&gt;&lt;li&gt;Death Rate: 1.45&lt;/li&gt;&lt;/ul&gt;&lt;/div&gt;\n",
       "                 &lt;/div&gt;`,\n",
       "                {&quot;sticky&quot;: true}\n",
       "            );\n",
       "        \n",
       "    \n",
       "            var circle_016cf3737c4dd3b8171657186270fb4b = L.circle(\n",
       "                [17.570692, -3.996166],\n",
       "                {&quot;bubblingMouseEvents&quot;: true, &quot;color&quot;: &quot;red&quot;, &quot;dashArray&quot;: null, &quot;dashOffset&quot;: null, &quot;fill&quot;: true, &quot;fillColor&quot;: &quot;indigo&quot;, &quot;fillOpacity&quot;: 0.2, &quot;fillRule&quot;: &quot;evenodd&quot;, &quot;lineCap&quot;: &quot;round&quot;, &quot;lineJoin&quot;: &quot;round&quot;, &quot;opacity&quot;: 1.0, &quot;radius&quot;: 51000.0, &quot;stroke&quot;: true, &quot;weight&quot;: 3}\n",
       "            ).addTo(map_01f8206293aa103112e128106147057e);\n",
       "        \n",
       "    \n",
       "            circle_016cf3737c4dd3b8171657186270fb4b.bindTooltip(\n",
       "                `&lt;div&gt;\n",
       "                     &lt;div style=&#x27;margin: 0; background-color: black; color: white;&#x27;&gt;&lt;h4 style=&#x27;text-align:center;font-weight: bold&#x27;&gt;Mali&lt;/h4&gt;&lt;hr style=&#x27;margin:10px;color: white;&#x27;&gt;&lt;ul style=&#x27;color: white;;list-style-type:circle;align-item:left;padding-left:20px;padding-right:20px&#x27;&gt;&lt;li&gt;Confirmed: 32760&lt;/li&gt;&lt;li&gt;Deaths:   36684&lt;/li&gt;&lt;li&gt;Death Rate: 111.97&lt;/li&gt;&lt;/ul&gt;&lt;/div&gt;\n",
       "                 &lt;/div&gt;`,\n",
       "                {&quot;sticky&quot;: true}\n",
       "            );\n",
       "        \n",
       "    \n",
       "            var circle_d91a69bef263141db969da5b708b5b9f = L.circle(\n",
       "                [35.9375, 14.3754],\n",
       "                {&quot;bubblingMouseEvents&quot;: true, &quot;color&quot;: &quot;red&quot;, &quot;dashArray&quot;: null, &quot;dashOffset&quot;: null, &quot;fill&quot;: true, &quot;fillColor&quot;: &quot;indigo&quot;, &quot;fillOpacity&quot;: 0.2, &quot;fillRule&quot;: &quot;evenodd&quot;, &quot;lineCap&quot;: &quot;round&quot;, &quot;lineJoin&quot;: &quot;round&quot;, &quot;opacity&quot;: 1.0, &quot;radius&quot;: 56000.0, &quot;stroke&quot;: true, &quot;weight&quot;: 3}\n",
       "            ).addTo(map_01f8206293aa103112e128106147057e);\n",
       "        \n",
       "    \n",
       "            circle_d91a69bef263141db969da5b708b5b9f.bindTooltip(\n",
       "                `&lt;div&gt;\n",
       "                     &lt;div style=&#x27;margin: 0; background-color: black; color: white;&#x27;&gt;&lt;h4 style=&#x27;text-align:center;font-weight: bold&#x27;&gt;Malta&lt;/h4&gt;&lt;hr style=&#x27;margin:10px;color: white;&#x27;&gt;&lt;ul style=&#x27;color: white;;list-style-type:circle;align-item:left;padding-left:20px;padding-right:20px&#x27;&gt;&lt;li&gt;Confirmed: 115818&lt;/li&gt;&lt;li&gt;Deaths:   311&lt;/li&gt;&lt;li&gt;Death Rate: 0.27&lt;/li&gt;&lt;/ul&gt;&lt;/div&gt;\n",
       "                 &lt;/div&gt;`,\n",
       "                {&quot;sticky&quot;: true}\n",
       "            );\n",
       "        \n",
       "    \n",
       "            var circle_2ebc14dc0ebc31552b9c8134cdff5dde = L.circle(\n",
       "                [7.1315, 171.1845],\n",
       "                {&quot;bubblingMouseEvents&quot;: true, &quot;color&quot;: &quot;red&quot;, &quot;dashArray&quot;: null, &quot;dashOffset&quot;: null, &quot;fill&quot;: true, &quot;fillColor&quot;: &quot;indigo&quot;, &quot;fillOpacity&quot;: 0.2, &quot;fillRule&quot;: &quot;evenodd&quot;, &quot;lineCap&quot;: &quot;round&quot;, &quot;lineJoin&quot;: &quot;round&quot;, &quot;opacity&quot;: 1.0, &quot;radius&quot;: 46000.0, &quot;stroke&quot;: true, &quot;weight&quot;: 3}\n",
       "            ).addTo(map_01f8206293aa103112e128106147057e);\n",
       "        \n",
       "    \n",
       "            circle_2ebc14dc0ebc31552b9c8134cdff5dde.bindTooltip(\n",
       "                `&lt;div&gt;\n",
       "                     &lt;div style=&#x27;margin: 0; background-color: black; color: white;&#x27;&gt;&lt;h4 style=&#x27;text-align:center;font-weight: bold&#x27;&gt;Marshall Islands&lt;/h4&gt;&lt;hr style=&#x27;margin:10px;color: white;&#x27;&gt;&lt;ul style=&#x27;color: white;;list-style-type:circle;align-item:left;padding-left:20px;padding-right:20px&#x27;&gt;&lt;li&gt;Confirmed: 15541&lt;/li&gt;&lt;li&gt;Deaths:   742&lt;/li&gt;&lt;li&gt;Death Rate: 4.77&lt;/li&gt;&lt;/ul&gt;&lt;/div&gt;\n",
       "                 &lt;/div&gt;`,\n",
       "                {&quot;sticky&quot;: true}\n",
       "            );\n",
       "        \n",
       "    \n",
       "            var circle_2d490123f8ad4a229e5e2fa3cce72335 = L.circle(\n",
       "                [21.0079, -10.9408],\n",
       "                {&quot;bubblingMouseEvents&quot;: true, &quot;color&quot;: &quot;red&quot;, &quot;dashArray&quot;: null, &quot;dashOffset&quot;: null, &quot;fill&quot;: true, &quot;fillColor&quot;: &quot;indigo&quot;, &quot;fillOpacity&quot;: 0.2, &quot;fillRule&quot;: &quot;evenodd&quot;, &quot;lineCap&quot;: &quot;round&quot;, &quot;lineJoin&quot;: &quot;round&quot;, &quot;opacity&quot;: 1.0, &quot;radius&quot;: 56000.0, &quot;stroke&quot;: true, &quot;weight&quot;: 3}\n",
       "            ).addTo(map_01f8206293aa103112e128106147057e);\n",
       "        \n",
       "    \n",
       "            circle_2d490123f8ad4a229e5e2fa3cce72335.bindTooltip(\n",
       "                `&lt;div&gt;\n",
       "                     &lt;div style=&#x27;margin: 0; background-color: black; color: white;&#x27;&gt;&lt;h4 style=&#x27;text-align:center;font-weight: bold&#x27;&gt;Mauritania&lt;/h4&gt;&lt;hr style=&#x27;margin:10px;color: white;&#x27;&gt;&lt;ul style=&#x27;color: white;;list-style-type:circle;align-item:left;padding-left:20px;padding-right:20px&#x27;&gt;&lt;li&gt;Confirmed: 63420&lt;/li&gt;&lt;li&gt;Deaths:   809&lt;/li&gt;&lt;li&gt;Death Rate: 1.28&lt;/li&gt;&lt;/ul&gt;&lt;/div&gt;\n",
       "                 &lt;/div&gt;`,\n",
       "                {&quot;sticky&quot;: true}\n",
       "            );\n",
       "        \n",
       "    \n",
       "            var circle_d4f56958dcff74fea8555e59b145c42c = L.circle(\n",
       "                [-20.348404, 57.552152],\n",
       "                {&quot;bubblingMouseEvents&quot;: true, &quot;color&quot;: &quot;red&quot;, &quot;dashArray&quot;: null, &quot;dashOffset&quot;: null, &quot;fill&quot;: true, &quot;fillColor&quot;: &quot;indigo&quot;, &quot;fillOpacity&quot;: 0.2, &quot;fillRule&quot;: &quot;evenodd&quot;, &quot;lineCap&quot;: &quot;round&quot;, &quot;lineJoin&quot;: &quot;round&quot;, &quot;opacity&quot;: 1.0, &quot;radius&quot;: 61000.0, &quot;stroke&quot;: true, &quot;weight&quot;: 3}\n",
       "            ).addTo(map_01f8206293aa103112e128106147057e);\n",
       "        \n",
       "    \n",
       "            circle_d4f56958dcff74fea8555e59b145c42c.bindTooltip(\n",
       "                `&lt;div&gt;\n",
       "                     &lt;div style=&#x27;margin: 0; background-color: black; color: white;&#x27;&gt;&lt;h4 style=&#x27;text-align:center;font-weight: bold&#x27;&gt;Mauritius&lt;/h4&gt;&lt;hr style=&#x27;margin:10px;color: white;&#x27;&gt;&lt;ul style=&#x27;color: white;;list-style-type:circle;align-item:left;padding-left:20px;padding-right:20px&#x27;&gt;&lt;li&gt;Confirmed: 276456&lt;/li&gt;&lt;li&gt;Deaths:   17&lt;/li&gt;&lt;li&gt;Death Rate: 0.01&lt;/li&gt;&lt;/ul&gt;&lt;/div&gt;\n",
       "                 &lt;/div&gt;`,\n",
       "                {&quot;sticky&quot;: true}\n",
       "            );\n",
       "        \n",
       "    \n",
       "            var circle_6410d6408e5fede8a8c297a170e3f894 = L.circle(\n",
       "                [23.6345, -102.5528],\n",
       "                {&quot;bubblingMouseEvents&quot;: true, &quot;color&quot;: &quot;red&quot;, &quot;dashArray&quot;: null, &quot;dashOffset&quot;: null, &quot;fill&quot;: true, &quot;fillColor&quot;: &quot;indigo&quot;, &quot;fillOpacity&quot;: 0.2, &quot;fillRule&quot;: &quot;evenodd&quot;, &quot;lineCap&quot;: &quot;round&quot;, &quot;lineJoin&quot;: &quot;round&quot;, &quot;opacity&quot;: 1.0, &quot;radius&quot;: 76000.0, &quot;stroke&quot;: true, &quot;weight&quot;: 3}\n",
       "            ).addTo(map_01f8206293aa103112e128106147057e);\n",
       "        \n",
       "    \n",
       "            circle_6410d6408e5fede8a8c297a170e3f894.bindTooltip(\n",
       "                `&lt;div&gt;\n",
       "                     &lt;div style=&#x27;margin: 0; background-color: black; color: white;&#x27;&gt;&lt;h4 style=&#x27;text-align:center;font-weight: bold&#x27;&gt;Mexico&lt;/h4&gt;&lt;hr style=&#x27;margin:10px;color: white;&#x27;&gt;&lt;ul style=&#x27;color: white;;list-style-type:circle;align-item:left;padding-left:20px;padding-right:20px&#x27;&gt;&lt;li&gt;Confirmed: 7125176&lt;/li&gt;&lt;li&gt;Deaths:   997&lt;/li&gt;&lt;li&gt;Death Rate: 0.01&lt;/li&gt;&lt;/ul&gt;&lt;/div&gt;\n",
       "                 &lt;/div&gt;`,\n",
       "                {&quot;sticky&quot;: true}\n",
       "            );\n",
       "        \n",
       "    \n",
       "            var circle_f1aa5bbf8c4e5b63f250885f940ee30b = L.circle(\n",
       "                [7.4256, 150.5508],\n",
       "                {&quot;bubblingMouseEvents&quot;: true, &quot;color&quot;: &quot;red&quot;, &quot;dashArray&quot;: null, &quot;dashOffset&quot;: null, &quot;fill&quot;: true, &quot;fillColor&quot;: &quot;indigo&quot;, &quot;fillOpacity&quot;: 0.2, &quot;fillRule&quot;: &quot;evenodd&quot;, &quot;lineCap&quot;: &quot;round&quot;, &quot;lineJoin&quot;: &quot;round&quot;, &quot;opacity&quot;: 1.0, &quot;radius&quot;: 51000.0, &quot;stroke&quot;: true, &quot;weight&quot;: 3}\n",
       "            ).addTo(map_01f8206293aa103112e128106147057e);\n",
       "        \n",
       "    \n",
       "            circle_f1aa5bbf8c4e5b63f250885f940ee30b.bindTooltip(\n",
       "                `&lt;div&gt;\n",
       "                     &lt;div style=&#x27;margin: 0; background-color: black; color: white;&#x27;&gt;&lt;h4 style=&#x27;text-align:center;font-weight: bold&#x27;&gt;Micronesia&lt;/h4&gt;&lt;hr style=&#x27;margin:10px;color: white;&#x27;&gt;&lt;ul style=&#x27;color: white;;list-style-type:circle;align-item:left;padding-left:20px;padding-right:20px&#x27;&gt;&lt;li&gt;Confirmed: 22203&lt;/li&gt;&lt;li&gt;Deaths:   1034&lt;/li&gt;&lt;li&gt;Death Rate: 4.66&lt;/li&gt;&lt;/ul&gt;&lt;/div&gt;\n",
       "                 &lt;/div&gt;`,\n",
       "                {&quot;sticky&quot;: true}\n",
       "            );\n",
       "        \n",
       "    \n",
       "            var circle_275c8a56a36529e5b47ad1a5ef3df12f = L.circle(\n",
       "                [47.4116, 28.3699],\n",
       "                {&quot;bubblingMouseEvents&quot;: true, &quot;color&quot;: &quot;red&quot;, &quot;dashArray&quot;: null, &quot;dashOffset&quot;: null, &quot;fill&quot;: true, &quot;fillColor&quot;: &quot;indigo&quot;, &quot;fillOpacity&quot;: 0.2, &quot;fillRule&quot;: &quot;evenodd&quot;, &quot;lineCap&quot;: &quot;round&quot;, &quot;lineJoin&quot;: &quot;round&quot;, &quot;opacity&quot;: 1.0, &quot;radius&quot;: 66000.0, &quot;stroke&quot;: true, &quot;weight&quot;: 3}\n",
       "            ).addTo(map_01f8206293aa103112e128106147057e);\n",
       "        \n",
       "    \n",
       "            circle_275c8a56a36529e5b47ad1a5ef3df12f.bindTooltip(\n",
       "                `&lt;div&gt;\n",
       "                     &lt;div style=&#x27;margin: 0; background-color: black; color: white;&#x27;&gt;&lt;h4 style=&#x27;text-align:center;font-weight: bold&#x27;&gt;Moldova&lt;/h4&gt;&lt;hr style=&#x27;margin:10px;color: white;&#x27;&gt;&lt;ul style=&#x27;color: white;;list-style-type:circle;align-item:left;padding-left:20px;padding-right:20px&#x27;&gt;&lt;li&gt;Confirmed: 595073&lt;/li&gt;&lt;li&gt;Deaths:   330495&lt;/li&gt;&lt;li&gt;Death Rate: 55.54&lt;/li&gt;&lt;/ul&gt;&lt;/div&gt;\n",
       "                 &lt;/div&gt;`,\n",
       "                {&quot;sticky&quot;: true}\n",
       "            );\n",
       "        \n",
       "    \n",
       "            var circle_151d7474d0a0124ac274a68a447e8d3e = L.circle(\n",
       "                [43.7333, 7.4167],\n",
       "                {&quot;bubblingMouseEvents&quot;: true, &quot;color&quot;: &quot;red&quot;, &quot;dashArray&quot;: null, &quot;dashOffset&quot;: null, &quot;fill&quot;: true, &quot;fillColor&quot;: &quot;indigo&quot;, &quot;fillOpacity&quot;: 0.2, &quot;fillRule&quot;: &quot;evenodd&quot;, &quot;lineCap&quot;: &quot;round&quot;, &quot;lineJoin&quot;: &quot;round&quot;, &quot;opacity&quot;: 1.0, &quot;radius&quot;: 46000.0, &quot;stroke&quot;: true, &quot;weight&quot;: 3}\n",
       "            ).addTo(map_01f8206293aa103112e128106147057e);\n",
       "        \n",
       "    \n",
       "            circle_151d7474d0a0124ac274a68a447e8d3e.bindTooltip(\n",
       "                `&lt;div&gt;\n",
       "                     &lt;div style=&#x27;margin: 0; background-color: black; color: white;&#x27;&gt;&lt;h4 style=&#x27;text-align:center;font-weight: bold&#x27;&gt;Monaco&lt;/h4&gt;&lt;hr style=&#x27;margin:10px;color: white;&#x27;&gt;&lt;ul style=&#x27;color: white;;list-style-type:circle;align-item:left;padding-left:20px;padding-right:20px&#x27;&gt;&lt;li&gt;Confirmed: 15442&lt;/li&gt;&lt;li&gt;Deaths:   58&lt;/li&gt;&lt;li&gt;Death Rate: 0.38&lt;/li&gt;&lt;/ul&gt;&lt;/div&gt;\n",
       "                 &lt;/div&gt;`,\n",
       "                {&quot;sticky&quot;: true}\n",
       "            );\n",
       "        \n",
       "    \n",
       "            var circle_0b9fc7bd6fa9dc45e701eec59493ec78 = L.circle(\n",
       "                [46.8625, 103.8467],\n",
       "                {&quot;bubblingMouseEvents&quot;: true, &quot;color&quot;: &quot;red&quot;, &quot;dashArray&quot;: null, &quot;dashOffset&quot;: null, &quot;fill&quot;: true, &quot;fillColor&quot;: &quot;indigo&quot;, &quot;fillOpacity&quot;: 0.2, &quot;fillRule&quot;: &quot;evenodd&quot;, &quot;lineCap&quot;: &quot;round&quot;, &quot;lineJoin&quot;: &quot;round&quot;, &quot;opacity&quot;: 1.0, &quot;radius&quot;: 66000.0, &quot;stroke&quot;: true, &quot;weight&quot;: 3}\n",
       "            ).addTo(map_01f8206293aa103112e128106147057e);\n",
       "        \n",
       "    \n",
       "            circle_0b9fc7bd6fa9dc45e701eec59493ec78.bindTooltip(\n",
       "                `&lt;div&gt;\n",
       "                     &lt;div style=&#x27;margin: 0; background-color: black; color: white;&#x27;&gt;&lt;h4 style=&#x27;text-align:center;font-weight: bold&#x27;&gt;Mongolia&lt;/h4&gt;&lt;hr style=&#x27;margin:10px;color: white;&#x27;&gt;&lt;ul style=&#x27;color: white;;list-style-type:circle;align-item:left;padding-left:20px;padding-right:20px&#x27;&gt;&lt;li&gt;Confirmed: 992767&lt;/li&gt;&lt;li&gt;Deaths:   11918&lt;/li&gt;&lt;li&gt;Death Rate: 1.2&lt;/li&gt;&lt;/ul&gt;&lt;/div&gt;\n",
       "                 &lt;/div&gt;`,\n",
       "                {&quot;sticky&quot;: true}\n",
       "            );\n",
       "        \n",
       "    \n",
       "            var circle_446d3cd9ebc5becee91ce7ba1764d107 = L.circle(\n",
       "                [42.708678, 19.37439],\n",
       "                {&quot;bubblingMouseEvents&quot;: true, &quot;color&quot;: &quot;red&quot;, &quot;dashArray&quot;: null, &quot;dashOffset&quot;: null, &quot;fill&quot;: true, &quot;fillColor&quot;: &quot;indigo&quot;, &quot;fillOpacity&quot;: 0.2, &quot;fillRule&quot;: &quot;evenodd&quot;, &quot;lineCap&quot;: &quot;round&quot;, &quot;lineJoin&quot;: &quot;round&quot;, &quot;opacity&quot;: 1.0, &quot;radius&quot;: 61000.0, &quot;stroke&quot;: true, &quot;weight&quot;: 3}\n",
       "            ).addTo(map_01f8206293aa103112e128106147057e);\n",
       "        \n",
       "    \n",
       "            circle_446d3cd9ebc5becee91ce7ba1764d107.bindTooltip(\n",
       "                `&lt;div&gt;\n",
       "                     &lt;div style=&#x27;margin: 0; background-color: black; color: white;&#x27;&gt;&lt;h4 style=&#x27;text-align:center;font-weight: bold&#x27;&gt;Montenegro&lt;/h4&gt;&lt;hr style=&#x27;margin:10px;color: white;&#x27;&gt;&lt;ul style=&#x27;color: white;;list-style-type:circle;align-item:left;padding-left:20px;padding-right:20px&#x27;&gt;&lt;li&gt;Confirmed: 283719&lt;/li&gt;&lt;li&gt;Deaths:   65&lt;/li&gt;&lt;li&gt;Death Rate: 0.02&lt;/li&gt;&lt;/ul&gt;&lt;/div&gt;\n",
       "                 &lt;/div&gt;`,\n",
       "                {&quot;sticky&quot;: true}\n",
       "            );\n",
       "        \n",
       "    \n",
       "            var circle_70e2731b10126475203106002f2d20c0 = L.circle(\n",
       "                [31.7917, -7.0926],\n",
       "                {&quot;bubblingMouseEvents&quot;: true, &quot;color&quot;: &quot;red&quot;, &quot;dashArray&quot;: null, &quot;dashOffset&quot;: null, &quot;fill&quot;: true, &quot;fillColor&quot;: &quot;indigo&quot;, &quot;fillOpacity&quot;: 0.2, &quot;fillRule&quot;: &quot;evenodd&quot;, &quot;lineCap&quot;: &quot;round&quot;, &quot;lineJoin&quot;: &quot;round&quot;, &quot;opacity&quot;: 1.0, &quot;radius&quot;: 71000.0, &quot;stroke&quot;: true, &quot;weight&quot;: 3}\n",
       "            ).addTo(map_01f8206293aa103112e128106147057e);\n",
       "        \n",
       "    \n",
       "            circle_70e2731b10126475203106002f2d20c0.bindTooltip(\n",
       "                `&lt;div&gt;\n",
       "                     &lt;div style=&#x27;margin: 0; background-color: black; color: white;&#x27;&gt;&lt;h4 style=&#x27;text-align:center;font-weight: bold&#x27;&gt;Morocco&lt;/h4&gt;&lt;hr style=&#x27;margin:10px;color: white;&#x27;&gt;&lt;ul style=&#x27;color: white;;list-style-type:circle;align-item:left;padding-left:20px;padding-right:20px&#x27;&gt;&lt;li&gt;Confirmed: 1268823&lt;/li&gt;&lt;li&gt;Deaths:   2134&lt;/li&gt;&lt;li&gt;Death Rate: 0.17&lt;/li&gt;&lt;/ul&gt;&lt;/div&gt;\n",
       "                 &lt;/div&gt;`,\n",
       "                {&quot;sticky&quot;: true}\n",
       "            );\n",
       "        \n",
       "    \n",
       "            var circle_0956c70aff285814891da53f2c65398f = L.circle(\n",
       "                [-18.665695, 35.529562],\n",
       "                {&quot;bubblingMouseEvents&quot;: true, &quot;color&quot;: &quot;red&quot;, &quot;dashArray&quot;: null, &quot;dashOffset&quot;: null, &quot;fill&quot;: true, &quot;fillColor&quot;: &quot;indigo&quot;, &quot;fillOpacity&quot;: 0.2, &quot;fillRule&quot;: &quot;evenodd&quot;, &quot;lineCap&quot;: &quot;round&quot;, &quot;lineJoin&quot;: &quot;round&quot;, &quot;opacity&quot;: 1.0, &quot;radius&quot;: 61000.0, &quot;stroke&quot;: true, &quot;weight&quot;: 3}\n",
       "            ).addTo(map_01f8206293aa103112e128106147057e);\n",
       "        \n",
       "    \n",
       "            circle_0956c70aff285814891da53f2c65398f.bindTooltip(\n",
       "                `&lt;div&gt;\n",
       "                     &lt;div style=&#x27;margin: 0; background-color: black; color: white;&#x27;&gt;&lt;h4 style=&#x27;text-align:center;font-weight: bold&#x27;&gt;Mozambique&lt;/h4&gt;&lt;hr style=&#x27;margin:10px;color: white;&#x27;&gt;&lt;ul style=&#x27;color: white;;list-style-type:circle;align-item:left;padding-left:20px;padding-right:20px&#x27;&gt;&lt;li&gt;Confirmed: 230624&lt;/li&gt;&lt;li&gt;Deaths:   2790&lt;/li&gt;&lt;li&gt;Death Rate: 1.21&lt;/li&gt;&lt;/ul&gt;&lt;/div&gt;\n",
       "                 &lt;/div&gt;`,\n",
       "                {&quot;sticky&quot;: true}\n",
       "            );\n",
       "        \n",
       "    \n",
       "            var circle_4a8c82dd30ac94b2eb475a0ed8f3053a = L.circle(\n",
       "                [-22.9576, 18.4904],\n",
       "                {&quot;bubblingMouseEvents&quot;: true, &quot;color&quot;: &quot;red&quot;, &quot;dashArray&quot;: null, &quot;dashOffset&quot;: null, &quot;fill&quot;: true, &quot;fillColor&quot;: &quot;indigo&quot;, &quot;fillOpacity&quot;: 0.2, &quot;fillRule&quot;: &quot;evenodd&quot;, &quot;lineCap&quot;: &quot;round&quot;, &quot;lineJoin&quot;: &quot;round&quot;, &quot;opacity&quot;: 1.0, &quot;radius&quot;: 61000.0, &quot;stroke&quot;: true, &quot;weight&quot;: 3}\n",
       "            ).addTo(map_01f8206293aa103112e128106147057e);\n",
       "        \n",
       "    \n",
       "            circle_4a8c82dd30ac94b2eb475a0ed8f3053a.bindTooltip(\n",
       "                `&lt;div&gt;\n",
       "                     &lt;div style=&#x27;margin: 0; background-color: black; color: white;&#x27;&gt;&lt;h4 style=&#x27;text-align:center;font-weight: bold&#x27;&gt;Namibia&lt;/h4&gt;&lt;hr style=&#x27;margin:10px;color: white;&#x27;&gt;&lt;ul style=&#x27;color: white;;list-style-type:circle;align-item:left;padding-left:20px;padding-right:20px&#x27;&gt;&lt;li&gt;Confirmed: 169946&lt;/li&gt;&lt;li&gt;Deaths:   16284&lt;/li&gt;&lt;li&gt;Death Rate: 9.58&lt;/li&gt;&lt;/ul&gt;&lt;/div&gt;\n",
       "                 &lt;/div&gt;`,\n",
       "                {&quot;sticky&quot;: true}\n",
       "            );\n",
       "        \n",
       "    \n",
       "            var circle_ec66860ec15ed01c27f123e888a8b330 = L.circle(\n",
       "                [-0.5228, 166.9315],\n",
       "                {&quot;bubblingMouseEvents&quot;: true, &quot;color&quot;: &quot;red&quot;, &quot;dashArray&quot;: null, &quot;dashOffset&quot;: null, &quot;fill&quot;: true, &quot;fillColor&quot;: &quot;indigo&quot;, &quot;fillOpacity&quot;: 0.2, &quot;fillRule&quot;: &quot;evenodd&quot;, &quot;lineCap&quot;: &quot;round&quot;, &quot;lineJoin&quot;: &quot;round&quot;, &quot;opacity&quot;: 1.0, &quot;radius&quot;: 41000.0, &quot;stroke&quot;: true, &quot;weight&quot;: 3}\n",
       "            ).addTo(map_01f8206293aa103112e128106147057e);\n",
       "        \n",
       "    \n",
       "            circle_ec66860ec15ed01c27f123e888a8b330.bindTooltip(\n",
       "                `&lt;div&gt;\n",
       "                     &lt;div style=&#x27;margin: 0; background-color: black; color: white;&#x27;&gt;&lt;h4 style=&#x27;text-align:center;font-weight: bold&#x27;&gt;Nauru&lt;/h4&gt;&lt;hr style=&#x27;margin:10px;color: white;&#x27;&gt;&lt;ul style=&#x27;color: white;;list-style-type:circle;align-item:left;padding-left:20px;padding-right:20px&#x27;&gt;&lt;li&gt;Confirmed: 4621&lt;/li&gt;&lt;li&gt;Deaths:   2226&lt;/li&gt;&lt;li&gt;Death Rate: 48.16&lt;/li&gt;&lt;/ul&gt;&lt;/div&gt;\n",
       "                 &lt;/div&gt;`,\n",
       "                {&quot;sticky&quot;: true}\n",
       "            );\n",
       "        \n",
       "    \n",
       "            var circle_8a61d6df18b375367f037edf1dc5db16 = L.circle(\n",
       "                [28.1667, 84.25],\n",
       "                {&quot;bubblingMouseEvents&quot;: true, &quot;color&quot;: &quot;red&quot;, &quot;dashArray&quot;: null, &quot;dashOffset&quot;: null, &quot;fill&quot;: true, &quot;fillColor&quot;: &quot;indigo&quot;, &quot;fillOpacity&quot;: 0.2, &quot;fillRule&quot;: &quot;evenodd&quot;, &quot;lineCap&quot;: &quot;round&quot;, &quot;lineJoin&quot;: &quot;round&quot;, &quot;opacity&quot;: 1.0, &quot;radius&quot;: 66000.0, &quot;stroke&quot;: true, &quot;weight&quot;: 3}\n",
       "            ).addTo(map_01f8206293aa103112e128106147057e);\n",
       "        \n",
       "    \n",
       "            circle_8a61d6df18b375367f037edf1dc5db16.bindTooltip(\n",
       "                `&lt;div&gt;\n",
       "                     &lt;div style=&#x27;margin: 0; background-color: black; color: white;&#x27;&gt;&lt;h4 style=&#x27;text-align:center;font-weight: bold&#x27;&gt;Nepal&lt;/h4&gt;&lt;hr style=&#x27;margin:10px;color: white;&#x27;&gt;&lt;ul style=&#x27;color: white;;list-style-type:circle;align-item:left;padding-left:20px;padding-right:20px&#x27;&gt;&lt;li&gt;Confirmed: 1000889&lt;/li&gt;&lt;li&gt;Deaths:   4080&lt;/li&gt;&lt;li&gt;Death Rate: 0.41&lt;/li&gt;&lt;/ul&gt;&lt;/div&gt;\n",
       "                 &lt;/div&gt;`,\n",
       "                {&quot;sticky&quot;: true}\n",
       "            );\n",
       "        \n",
       "    \n",
       "            var circle_7227b4c5c4cf8bc3aad110609463ef58 = L.circle(\n",
       "                [12.5211, -69.9683],\n",
       "                {&quot;bubblingMouseEvents&quot;: true, &quot;color&quot;: &quot;red&quot;, &quot;dashArray&quot;: null, &quot;dashOffset&quot;: null, &quot;fill&quot;: true, &quot;fillColor&quot;: &quot;indigo&quot;, &quot;fillOpacity&quot;: 0.2, &quot;fillRule&quot;: &quot;evenodd&quot;, &quot;lineCap&quot;: &quot;round&quot;, &quot;lineJoin&quot;: &quot;round&quot;, &quot;opacity&quot;: 1.0, &quot;radius&quot;: 51000.0, &quot;stroke&quot;: true, &quot;weight&quot;: 3}\n",
       "            ).addTo(map_01f8206293aa103112e128106147057e);\n",
       "        \n",
       "    \n",
       "            circle_7227b4c5c4cf8bc3aad110609463ef58.bindTooltip(\n",
       "                `&lt;div&gt;\n",
       "                     &lt;div style=&#x27;margin: 0; background-color: black; color: white;&#x27;&gt;&lt;h4 style=&#x27;text-align:center;font-weight: bold&#x27;&gt;Netherlands&lt;/h4&gt;&lt;hr style=&#x27;margin:10px;color: white;&#x27;&gt;&lt;ul style=&#x27;color: white;;list-style-type:circle;align-item:left;padding-left:20px;padding-right:20px&#x27;&gt;&lt;li&gt;Confirmed: 43641&lt;/li&gt;&lt;li&gt;Deaths:   1&lt;/li&gt;&lt;li&gt;Death Rate: 0.0&lt;/li&gt;&lt;/ul&gt;&lt;/div&gt;\n",
       "                 &lt;/div&gt;`,\n",
       "                {&quot;sticky&quot;: true}\n",
       "            );\n",
       "        \n",
       "    \n",
       "            var circle_4b87b4bd6776200c54614a31ee1e222c = L.circle(\n",
       "                [12.1784, -68.2385],\n",
       "                {&quot;bubblingMouseEvents&quot;: true, &quot;color&quot;: &quot;red&quot;, &quot;dashArray&quot;: null, &quot;dashOffset&quot;: null, &quot;fill&quot;: true, &quot;fillColor&quot;: &quot;indigo&quot;, &quot;fillOpacity&quot;: 0.2, &quot;fillRule&quot;: &quot;evenodd&quot;, &quot;lineCap&quot;: &quot;round&quot;, &quot;lineJoin&quot;: &quot;round&quot;, &quot;opacity&quot;: 1.0, &quot;radius&quot;: 46000.0, &quot;stroke&quot;: true, &quot;weight&quot;: 3}\n",
       "            ).addTo(map_01f8206293aa103112e128106147057e);\n",
       "        \n",
       "    \n",
       "            circle_4b87b4bd6776200c54614a31ee1e222c.bindTooltip(\n",
       "                `&lt;div&gt;\n",
       "                     &lt;div style=&#x27;margin: 0; background-color: black; color: white;&#x27;&gt;&lt;h4 style=&#x27;text-align:center;font-weight: bold&#x27;&gt;Netherlands&lt;/h4&gt;&lt;hr style=&#x27;margin:10px;color: white;&#x27;&gt;&lt;ul style=&#x27;color: white;;list-style-type:circle;align-item:left;padding-left:20px;padding-right:20px&#x27;&gt;&lt;li&gt;Confirmed: 11555&lt;/li&gt;&lt;li&gt;Deaths:   12019&lt;/li&gt;&lt;li&gt;Death Rate: 104.01&lt;/li&gt;&lt;/ul&gt;&lt;/div&gt;\n",
       "                 &lt;/div&gt;`,\n",
       "                {&quot;sticky&quot;: true}\n",
       "            );\n",
       "        \n",
       "    \n",
       "            var circle_2e4e61e954907c18fd9629a79effd0f8 = L.circle(\n",
       "                [12.1696, -68.99],\n",
       "                {&quot;bubblingMouseEvents&quot;: true, &quot;color&quot;: &quot;red&quot;, &quot;dashArray&quot;: null, &quot;dashOffset&quot;: null, &quot;fill&quot;: true, &quot;fillColor&quot;: &quot;indigo&quot;, &quot;fillOpacity&quot;: 0.2, &quot;fillRule&quot;: &quot;evenodd&quot;, &quot;lineCap&quot;: &quot;round&quot;, &quot;lineJoin&quot;: &quot;round&quot;, &quot;opacity&quot;: 1.0, &quot;radius&quot;: 51000.0, &quot;stroke&quot;: true, &quot;weight&quot;: 3}\n",
       "            ).addTo(map_01f8206293aa103112e128106147057e);\n",
       "        \n",
       "    \n",
       "            circle_2e4e61e954907c18fd9629a79effd0f8.bindTooltip(\n",
       "                `&lt;div&gt;\n",
       "                     &lt;div style=&#x27;margin: 0; background-color: black; color: white;&#x27;&gt;&lt;h4 style=&#x27;text-align:center;font-weight: bold&#x27;&gt;Netherlands&lt;/h4&gt;&lt;hr style=&#x27;margin:10px;color: white;&#x27;&gt;&lt;ul style=&#x27;color: white;;list-style-type:circle;align-item:left;padding-left:20px;padding-right:20px&#x27;&gt;&lt;li&gt;Confirmed: 45986&lt;/li&gt;&lt;li&gt;Deaths:   236&lt;/li&gt;&lt;li&gt;Death Rate: 0.51&lt;/li&gt;&lt;/ul&gt;&lt;/div&gt;\n",
       "                 &lt;/div&gt;`,\n",
       "                {&quot;sticky&quot;: true}\n",
       "            );\n",
       "        \n",
       "    \n",
       "            var circle_032a80b20a4c86c2e74f978df6c65616 = L.circle(\n",
       "                [18.0425, -63.0548],\n",
       "                {&quot;bubblingMouseEvents&quot;: true, &quot;color&quot;: &quot;red&quot;, &quot;dashArray&quot;: null, &quot;dashOffset&quot;: null, &quot;fill&quot;: true, &quot;fillColor&quot;: &quot;indigo&quot;, &quot;fillOpacity&quot;: 0.2, &quot;fillRule&quot;: &quot;evenodd&quot;, &quot;lineCap&quot;: &quot;round&quot;, &quot;lineJoin&quot;: &quot;round&quot;, &quot;opacity&quot;: 1.0, &quot;radius&quot;: 46000.0, &quot;stroke&quot;: true, &quot;weight&quot;: 3}\n",
       "            ).addTo(map_01f8206293aa103112e128106147057e);\n",
       "        \n",
       "    \n",
       "            circle_032a80b20a4c86c2e74f978df6c65616.bindTooltip(\n",
       "                `&lt;div&gt;\n",
       "                     &lt;div style=&#x27;margin: 0; background-color: black; color: white;&#x27;&gt;&lt;h4 style=&#x27;text-align:center;font-weight: bold&#x27;&gt;Netherlands&lt;/h4&gt;&lt;hr style=&#x27;margin:10px;color: white;&#x27;&gt;&lt;ul style=&#x27;color: white;;list-style-type:circle;align-item:left;padding-left:20px;padding-right:20px&#x27;&gt;&lt;li&gt;Confirmed: 10954&lt;/li&gt;&lt;li&gt;Deaths:   38&lt;/li&gt;&lt;li&gt;Death Rate: 0.35&lt;/li&gt;&lt;/ul&gt;&lt;/div&gt;\n",
       "                 &lt;/div&gt;`,\n",
       "                {&quot;sticky&quot;: true}\n",
       "            );\n",
       "        \n",
       "    \n",
       "            var circle_d3c94a59675e52c90a8621168256d792 = L.circle(\n",
       "                [52.1326, 5.2913],\n",
       "                {&quot;bubblingMouseEvents&quot;: true, &quot;color&quot;: &quot;red&quot;, &quot;dashArray&quot;: null, &quot;dashOffset&quot;: null, &quot;fill&quot;: true, &quot;fillColor&quot;: &quot;indigo&quot;, &quot;fillOpacity&quot;: 0.2, &quot;fillRule&quot;: &quot;evenodd&quot;, &quot;lineCap&quot;: &quot;round&quot;, &quot;lineJoin&quot;: &quot;round&quot;, &quot;opacity&quot;: 1.0, &quot;radius&quot;: 76000.0, &quot;stroke&quot;: true, &quot;weight&quot;: 3}\n",
       "            ).addTo(map_01f8206293aa103112e128106147057e);\n",
       "        \n",
       "    \n",
       "            circle_d3c94a59675e52c90a8621168256d792.bindTooltip(\n",
       "                `&lt;div&gt;\n",
       "                     &lt;div style=&#x27;margin: 0; background-color: black; color: white;&#x27;&gt;&lt;h4 style=&#x27;text-align:center;font-weight: bold&#x27;&gt;Netherlands&lt;/h4&gt;&lt;hr style=&#x27;margin:10px;color: white;&#x27;&gt;&lt;ul style=&#x27;color: white;;list-style-type:circle;align-item:left;padding-left:20px;padding-right:20px&#x27;&gt;&lt;li&gt;Confirmed: 8541865&lt;/li&gt;&lt;li&gt;Deaths:   295&lt;/li&gt;&lt;li&gt;Death Rate: 0.0&lt;/li&gt;&lt;/ul&gt;&lt;/div&gt;\n",
       "                 &lt;/div&gt;`,\n",
       "                {&quot;sticky&quot;: true}\n",
       "            );\n",
       "        \n",
       "    \n",
       "            var circle_9e4018d914e2d015c7937473fb847d1a = L.circle(\n",
       "                [-21.2367, -159.7777],\n",
       "                {&quot;bubblingMouseEvents&quot;: true, &quot;color&quot;: &quot;red&quot;, &quot;dashArray&quot;: null, &quot;dashOffset&quot;: null, &quot;fill&quot;: true, &quot;fillColor&quot;: &quot;indigo&quot;, &quot;fillOpacity&quot;: 0.2, &quot;fillRule&quot;: &quot;evenodd&quot;, &quot;lineCap&quot;: &quot;round&quot;, &quot;lineJoin&quot;: &quot;round&quot;, &quot;opacity&quot;: 1.0, &quot;radius&quot;: 41000.0, &quot;stroke&quot;: true, &quot;weight&quot;: 3}\n",
       "            ).addTo(map_01f8206293aa103112e128106147057e);\n",
       "        \n",
       "    \n",
       "            circle_9e4018d914e2d015c7937473fb847d1a.bindTooltip(\n",
       "                `&lt;div&gt;\n",
       "                     &lt;div style=&#x27;margin: 0; background-color: black; color: white;&#x27;&gt;&lt;h4 style=&#x27;text-align:center;font-weight: bold&#x27;&gt;New Zealand&lt;/h4&gt;&lt;hr style=&#x27;margin:10px;color: white;&#x27;&gt;&lt;ul style=&#x27;color: white;;list-style-type:circle;align-item:left;padding-left:20px;padding-right:20px&#x27;&gt;&lt;li&gt;Confirmed: 6389&lt;/li&gt;&lt;li&gt;Deaths:   89&lt;/li&gt;&lt;li&gt;Death Rate: 1.39&lt;/li&gt;&lt;/ul&gt;&lt;/div&gt;\n",
       "                 &lt;/div&gt;`,\n",
       "                {&quot;sticky&quot;: true}\n",
       "            );\n",
       "        \n",
       "    \n",
       "            var circle_9ebf265eb30fa6a2696e90dae95aa0b1 = L.circle(\n",
       "                [-19.0544, -169.8672],\n",
       "                {&quot;bubblingMouseEvents&quot;: true, &quot;color&quot;: &quot;red&quot;, &quot;dashArray&quot;: null, &quot;dashOffset&quot;: null, &quot;fill&quot;: true, &quot;fillColor&quot;: &quot;indigo&quot;, &quot;fillOpacity&quot;: 0.2, &quot;fillRule&quot;: &quot;evenodd&quot;, &quot;lineCap&quot;: &quot;round&quot;, &quot;lineJoin&quot;: &quot;round&quot;, &quot;opacity&quot;: 1.0, &quot;radius&quot;: 21000.0, &quot;stroke&quot;: true, &quot;weight&quot;: 3}\n",
       "            ).addTo(map_01f8206293aa103112e128106147057e);\n",
       "        \n",
       "    \n",
       "            circle_9ebf265eb30fa6a2696e90dae95aa0b1.bindTooltip(\n",
       "                `&lt;div&gt;\n",
       "                     &lt;div style=&#x27;margin: 0; background-color: black; color: white;&#x27;&gt;&lt;h4 style=&#x27;text-align:center;font-weight: bold&#x27;&gt;New Zealand&lt;/h4&gt;&lt;hr style=&#x27;margin:10px;color: white;&#x27;&gt;&lt;ul style=&#x27;color: white;;list-style-type:circle;align-item:left;padding-left:20px;padding-right:20px&#x27;&gt;&lt;li&gt;Confirmed: 136&lt;/li&gt;&lt;li&gt;Deaths:   22910&lt;/li&gt;&lt;li&gt;Death Rate: 16722.63&lt;/li&gt;&lt;/ul&gt;&lt;/div&gt;\n",
       "                 &lt;/div&gt;`,\n",
       "                {&quot;sticky&quot;: true}\n",
       "            );\n",
       "        \n",
       "    \n",
       "            var circle_97c1ff7a665a6f0d35caf5d1e0dd0c25 = L.circle(\n",
       "                [-40.9006, 174.886],\n",
       "                {&quot;bubblingMouseEvents&quot;: true, &quot;color&quot;: &quot;red&quot;, &quot;dashArray&quot;: null, &quot;dashOffset&quot;: null, &quot;fill&quot;: true, &quot;fillColor&quot;: &quot;indigo&quot;, &quot;fillOpacity&quot;: 0.2, &quot;fillRule&quot;: &quot;evenodd&quot;, &quot;lineCap&quot;: &quot;round&quot;, &quot;lineJoin&quot;: &quot;round&quot;, &quot;opacity&quot;: 1.0, &quot;radius&quot;: 71000.0, &quot;stroke&quot;: true, &quot;weight&quot;: 3}\n",
       "            ).addTo(map_01f8206293aa103112e128106147057e);\n",
       "        \n",
       "    \n",
       "            circle_97c1ff7a665a6f0d35caf5d1e0dd0c25.bindTooltip(\n",
       "                `&lt;div&gt;\n",
       "                     &lt;div style=&#x27;margin: 0; background-color: black; color: white;&#x27;&gt;&lt;h4 style=&#x27;text-align:center;font-weight: bold&#x27;&gt;New Zealand&lt;/h4&gt;&lt;hr style=&#x27;margin:10px;color: white;&#x27;&gt;&lt;ul style=&#x27;color: white;;list-style-type:circle;align-item:left;padding-left:20px;padding-right:20px&#x27;&gt;&lt;li&gt;Confirmed: 1945117&lt;/li&gt;&lt;li&gt;Deaths:   1&lt;/li&gt;&lt;li&gt;Death Rate: 0.0&lt;/li&gt;&lt;/ul&gt;&lt;/div&gt;\n",
       "                 &lt;/div&gt;`,\n",
       "                {&quot;sticky&quot;: true}\n",
       "            );\n",
       "        \n",
       "    \n",
       "            var circle_ae116e013ec6f10602982c05cfdb5f67 = L.circle(\n",
       "                [12.865416, -85.207229],\n",
       "                {&quot;bubblingMouseEvents&quot;: true, &quot;color&quot;: &quot;red&quot;, &quot;dashArray&quot;: null, &quot;dashOffset&quot;: null, &quot;fill&quot;: true, &quot;fillColor&quot;: &quot;indigo&quot;, &quot;fillOpacity&quot;: 0.2, &quot;fillRule&quot;: &quot;evenodd&quot;, &quot;lineCap&quot;: &quot;round&quot;, &quot;lineJoin&quot;: &quot;round&quot;, &quot;opacity&quot;: 1.0, &quot;radius&quot;: 46000.0, &quot;stroke&quot;: true, &quot;weight&quot;: 3}\n",
       "            ).addTo(map_01f8206293aa103112e128106147057e);\n",
       "        \n",
       "    \n",
       "            circle_ae116e013ec6f10602982c05cfdb5f67.bindTooltip(\n",
       "                `&lt;div&gt;\n",
       "                     &lt;div style=&#x27;margin: 0; background-color: black; color: white;&#x27;&gt;&lt;h4 style=&#x27;text-align:center;font-weight: bold&#x27;&gt;Nicaragua&lt;/h4&gt;&lt;hr style=&#x27;margin:10px;color: white;&#x27;&gt;&lt;ul style=&#x27;color: white;;list-style-type:circle;align-item:left;padding-left:20px;padding-right:20px&#x27;&gt;&lt;li&gt;Confirmed: 15250&lt;/li&gt;&lt;li&gt;Deaths:   0&lt;/li&gt;&lt;li&gt;Death Rate: 0.0&lt;/li&gt;&lt;/ul&gt;&lt;/div&gt;\n",
       "                 &lt;/div&gt;`,\n",
       "                {&quot;sticky&quot;: true}\n",
       "            );\n",
       "        \n",
       "    \n",
       "            var circle_7e999eb12697f62ba14d9bc826628fe1 = L.circle(\n",
       "                [17.607789, 8.081666],\n",
       "                {&quot;bubblingMouseEvents&quot;: true, &quot;color&quot;: &quot;red&quot;, &quot;dashArray&quot;: null, &quot;dashOffset&quot;: null, &quot;fill&quot;: true, &quot;fillColor&quot;: &quot;indigo&quot;, &quot;fillOpacity&quot;: 0.2, &quot;fillRule&quot;: &quot;evenodd&quot;, &quot;lineCap&quot;: &quot;round&quot;, &quot;lineJoin&quot;: &quot;round&quot;, &quot;opacity&quot;: 1.0, &quot;radius&quot;: 46000.0, &quot;stroke&quot;: true, &quot;weight&quot;: 3}\n",
       "            ).addTo(map_01f8206293aa103112e128106147057e);\n",
       "        \n",
       "    \n",
       "            circle_7e999eb12697f62ba14d9bc826628fe1.bindTooltip(\n",
       "                `&lt;div&gt;\n",
       "                     &lt;div style=&#x27;margin: 0; background-color: black; color: white;&#x27;&gt;&lt;h4 style=&#x27;text-align:center;font-weight: bold&#x27;&gt;Niger&lt;/h4&gt;&lt;hr style=&#x27;margin:10px;color: white;&#x27;&gt;&lt;ul style=&#x27;color: white;;list-style-type:circle;align-item:left;padding-left:20px;padding-right:20px&#x27;&gt;&lt;li&gt;Confirmed: 9434&lt;/li&gt;&lt;li&gt;Deaths:   2212&lt;/li&gt;&lt;li&gt;Death Rate: 23.44&lt;/li&gt;&lt;/ul&gt;&lt;/div&gt;\n",
       "                 &lt;/div&gt;`,\n",
       "                {&quot;sticky&quot;: true}\n",
       "            );\n",
       "        \n",
       "    \n",
       "            var circle_add5877ae548af7e188266e96a2ad33a = L.circle(\n",
       "                [9.082, 8.6753],\n",
       "                {&quot;bubblingMouseEvents&quot;: true, &quot;color&quot;: &quot;red&quot;, &quot;dashArray&quot;: null, &quot;dashOffset&quot;: null, &quot;fill&quot;: true, &quot;fillColor&quot;: &quot;indigo&quot;, &quot;fillOpacity&quot;: 0.2, &quot;fillRule&quot;: &quot;evenodd&quot;, &quot;lineCap&quot;: &quot;round&quot;, &quot;lineJoin&quot;: &quot;round&quot;, &quot;opacity&quot;: 1.0, &quot;radius&quot;: 61000.0, &quot;stroke&quot;: true, &quot;weight&quot;: 3}\n",
       "            ).addTo(map_01f8206293aa103112e128106147057e);\n",
       "        \n",
       "    \n",
       "            circle_add5877ae548af7e188266e96a2ad33a.bindTooltip(\n",
       "                `&lt;div&gt;\n",
       "                     &lt;div style=&#x27;margin: 0; background-color: black; color: white;&#x27;&gt;&lt;h4 style=&#x27;text-align:center;font-weight: bold&#x27;&gt;Nigeria&lt;/h4&gt;&lt;hr style=&#x27;margin:10px;color: white;&#x27;&gt;&lt;ul style=&#x27;color: white;;list-style-type:circle;align-item:left;padding-left:20px;padding-right:20px&#x27;&gt;&lt;li&gt;Confirmed: 266283&lt;/li&gt;&lt;li&gt;Deaths:   245&lt;/li&gt;&lt;li&gt;Death Rate: 0.09&lt;/li&gt;&lt;/ul&gt;&lt;/div&gt;\n",
       "                 &lt;/div&gt;`,\n",
       "                {&quot;sticky&quot;: true}\n",
       "            );\n",
       "        \n",
       "    \n",
       "            var circle_00d2ecbe7117ef599de123e1553446e2 = L.circle(\n",
       "                [41.6086, 21.7453],\n",
       "                {&quot;bubblingMouseEvents&quot;: true, &quot;color&quot;: &quot;red&quot;, &quot;dashArray&quot;: null, &quot;dashOffset&quot;: null, &quot;fill&quot;: true, &quot;fillColor&quot;: &quot;indigo&quot;, &quot;fillOpacity&quot;: 0.2, &quot;fillRule&quot;: &quot;evenodd&quot;, &quot;lineCap&quot;: &quot;round&quot;, &quot;lineJoin&quot;: &quot;round&quot;, &quot;opacity&quot;: 1.0, &quot;radius&quot;: 61000.0, &quot;stroke&quot;: true, &quot;weight&quot;: 3}\n",
       "            ).addTo(map_01f8206293aa103112e128106147057e);\n",
       "        \n",
       "    \n",
       "            circle_00d2ecbe7117ef599de123e1553446e2.bindTooltip(\n",
       "                `&lt;div&gt;\n",
       "                     &lt;div style=&#x27;margin: 0; background-color: black; color: white;&#x27;&gt;&lt;h4 style=&#x27;text-align:center;font-weight: bold&#x27;&gt;North Macedonia&lt;/h4&gt;&lt;hr style=&#x27;margin:10px;color: white;&#x27;&gt;&lt;ul style=&#x27;color: white;;list-style-type:circle;align-item:left;padding-left:20px;padding-right:20px&#x27;&gt;&lt;li&gt;Confirmed: 344710&lt;/li&gt;&lt;li&gt;Deaths:   314&lt;/li&gt;&lt;li&gt;Death Rate: 0.09&lt;/li&gt;&lt;/ul&gt;&lt;/div&gt;\n",
       "                 &lt;/div&gt;`,\n",
       "                {&quot;sticky&quot;: true}\n",
       "            );\n",
       "        \n",
       "    \n",
       "            var circle_e1cf5a94bd7cad6dadd4fa4c84e1184f = L.circle(\n",
       "                [60.472, 8.4689],\n",
       "                {&quot;bubblingMouseEvents&quot;: true, &quot;color&quot;: &quot;red&quot;, &quot;dashArray&quot;: null, &quot;dashOffset&quot;: null, &quot;fill&quot;: true, &quot;fillColor&quot;: &quot;indigo&quot;, &quot;fillOpacity&quot;: 0.2, &quot;fillRule&quot;: &quot;evenodd&quot;, &quot;lineCap&quot;: &quot;round&quot;, &quot;lineJoin&quot;: &quot;round&quot;, &quot;opacity&quot;: 1.0, &quot;radius&quot;: 71000.0, &quot;stroke&quot;: true, &quot;weight&quot;: 3}\n",
       "            ).addTo(map_01f8206293aa103112e128106147057e);\n",
       "        \n",
       "    \n",
       "            circle_e1cf5a94bd7cad6dadd4fa4c84e1184f.bindTooltip(\n",
       "                `&lt;div&gt;\n",
       "                     &lt;div style=&#x27;margin: 0; background-color: black; color: white;&#x27;&gt;&lt;h4 style=&#x27;text-align:center;font-weight: bold&#x27;&gt;Norway&lt;/h4&gt;&lt;hr style=&#x27;margin:10px;color: white;&#x27;&gt;&lt;ul style=&#x27;color: white;;list-style-type:circle;align-item:left;padding-left:20px;padding-right:20px&#x27;&gt;&lt;li&gt;Confirmed: 1469061&lt;/li&gt;&lt;li&gt;Deaths:   3155&lt;/li&gt;&lt;li&gt;Death Rate: 0.21&lt;/li&gt;&lt;/ul&gt;&lt;/div&gt;\n",
       "                 &lt;/div&gt;`,\n",
       "                {&quot;sticky&quot;: true}\n",
       "            );\n",
       "        \n",
       "    \n",
       "            var circle_307da3d249cd24a91201f81e134191cf = L.circle(\n",
       "                [21.512583, 55.923255],\n",
       "                {&quot;bubblingMouseEvents&quot;: true, &quot;color&quot;: &quot;red&quot;, &quot;dashArray&quot;: null, &quot;dashOffset&quot;: null, &quot;fill&quot;: true, &quot;fillColor&quot;: &quot;indigo&quot;, &quot;fillOpacity&quot;: 0.2, &quot;fillRule&quot;: &quot;evenodd&quot;, &quot;lineCap&quot;: &quot;round&quot;, &quot;lineJoin&quot;: &quot;round&quot;, &quot;opacity&quot;: 1.0, &quot;radius&quot;: 61000.0, &quot;stroke&quot;: true, &quot;weight&quot;: 3}\n",
       "            ).addTo(map_01f8206293aa103112e128106147057e);\n",
       "        \n",
       "    \n",
       "            circle_307da3d249cd24a91201f81e134191cf.bindTooltip(\n",
       "                `&lt;div&gt;\n",
       "                     &lt;div style=&#x27;margin: 0; background-color: black; color: white;&#x27;&gt;&lt;h4 style=&#x27;text-align:center;font-weight: bold&#x27;&gt;Oman&lt;/h4&gt;&lt;hr style=&#x27;margin:10px;color: white;&#x27;&gt;&lt;ul style=&#x27;color: white;;list-style-type:circle;align-item:left;padding-left:20px;padding-right:20px&#x27;&gt;&lt;li&gt;Confirmed: 399119&lt;/li&gt;&lt;li&gt;Deaths:   9568&lt;/li&gt;&lt;li&gt;Death Rate: 2.4&lt;/li&gt;&lt;/ul&gt;&lt;/div&gt;\n",
       "                 &lt;/div&gt;`,\n",
       "                {&quot;sticky&quot;: true}\n",
       "            );\n",
       "        \n",
       "    \n",
       "            var circle_14c382f35fb99a7275722c13f51adcc6 = L.circle(\n",
       "                [30.3753, 69.3451],\n",
       "                {&quot;bubblingMouseEvents&quot;: true, &quot;color&quot;: &quot;red&quot;, &quot;dashArray&quot;: null, &quot;dashOffset&quot;: null, &quot;fill&quot;: true, &quot;fillColor&quot;: &quot;indigo&quot;, &quot;fillOpacity&quot;: 0.2, &quot;fillRule&quot;: &quot;evenodd&quot;, &quot;lineCap&quot;: &quot;round&quot;, &quot;lineJoin&quot;: &quot;round&quot;, &quot;opacity&quot;: 1.0, &quot;radius&quot;: 71000.0, &quot;stroke&quot;: true, &quot;weight&quot;: 3}\n",
       "            ).addTo(map_01f8206293aa103112e128106147057e);\n",
       "        \n",
       "    \n",
       "            circle_14c382f35fb99a7275722c13f51adcc6.bindTooltip(\n",
       "                `&lt;div&gt;\n",
       "                     &lt;div style=&#x27;margin: 0; background-color: black; color: white;&#x27;&gt;&lt;h4 style=&#x27;text-align:center;font-weight: bold&#x27;&gt;Pakistan&lt;/h4&gt;&lt;hr style=&#x27;margin:10px;color: white;&#x27;&gt;&lt;ul style=&#x27;color: white;;list-style-type:circle;align-item:left;padding-left:20px;padding-right:20px&#x27;&gt;&lt;li&gt;Confirmed: 1575225&lt;/li&gt;&lt;li&gt;Deaths:   4384&lt;/li&gt;&lt;li&gt;Death Rate: 0.28&lt;/li&gt;&lt;/ul&gt;&lt;/div&gt;\n",
       "                 &lt;/div&gt;`,\n",
       "                {&quot;sticky&quot;: true}\n",
       "            );\n",
       "        \n",
       "    \n",
       "            var circle_f7876e8cb233e194275b3f0038c32914 = L.circle(\n",
       "                [7.515, 134.5825],\n",
       "                {&quot;bubblingMouseEvents&quot;: true, &quot;color&quot;: &quot;red&quot;, &quot;dashArray&quot;: null, &quot;dashOffset&quot;: null, &quot;fill&quot;: true, &quot;fillColor&quot;: &quot;indigo&quot;, &quot;fillOpacity&quot;: 0.2, &quot;fillRule&quot;: &quot;evenodd&quot;, &quot;lineCap&quot;: &quot;round&quot;, &quot;lineJoin&quot;: &quot;round&quot;, &quot;opacity&quot;: 1.0, &quot;radius&quot;: 41000.0, &quot;stroke&quot;: true, &quot;weight&quot;: 3}\n",
       "            ).addTo(map_01f8206293aa103112e128106147057e);\n",
       "        \n",
       "    \n",
       "            circle_f7876e8cb233e194275b3f0038c32914.bindTooltip(\n",
       "                `&lt;div&gt;\n",
       "                     &lt;div style=&#x27;margin: 0; background-color: black; color: white;&#x27;&gt;&lt;h4 style=&#x27;text-align:center;font-weight: bold&#x27;&gt;Palau&lt;/h4&gt;&lt;hr style=&#x27;margin:10px;color: white;&#x27;&gt;&lt;ul style=&#x27;color: white;;list-style-type:circle;align-item:left;padding-left:20px;padding-right:20px&#x27;&gt;&lt;li&gt;Confirmed: 5785&lt;/li&gt;&lt;li&gt;Deaths:   4628&lt;/li&gt;&lt;li&gt;Death Rate: 79.99&lt;/li&gt;&lt;/ul&gt;&lt;/div&gt;\n",
       "                 &lt;/div&gt;`,\n",
       "                {&quot;sticky&quot;: true}\n",
       "            );\n",
       "        \n",
       "    \n",
       "            var circle_2548defc6e10c0e41348559d99414f16 = L.circle(\n",
       "                [8.538, -80.7821],\n",
       "                {&quot;bubblingMouseEvents&quot;: true, &quot;color&quot;: &quot;red&quot;, &quot;dashArray&quot;: null, &quot;dashOffset&quot;: null, &quot;fill&quot;: true, &quot;fillColor&quot;: &quot;indigo&quot;, &quot;fillOpacity&quot;: 0.2, &quot;fillRule&quot;: &quot;evenodd&quot;, &quot;lineCap&quot;: &quot;round&quot;, &quot;lineJoin&quot;: &quot;round&quot;, &quot;opacity&quot;: 1.0, &quot;radius&quot;: 66000.0, &quot;stroke&quot;: true, &quot;weight&quot;: 3}\n",
       "            ).addTo(map_01f8206293aa103112e128106147057e);\n",
       "        \n",
       "    \n",
       "            circle_2548defc6e10c0e41348559d99414f16.bindTooltip(\n",
       "                `&lt;div&gt;\n",
       "                     &lt;div style=&#x27;margin: 0; background-color: black; color: white;&#x27;&gt;&lt;h4 style=&#x27;text-align:center;font-weight: bold&#x27;&gt;Panama&lt;/h4&gt;&lt;hr style=&#x27;margin:10px;color: white;&#x27;&gt;&lt;ul style=&#x27;color: white;;list-style-type:circle;align-item:left;padding-left:20px;padding-right:20px&#x27;&gt;&lt;li&gt;Confirmed: 1002161&lt;/li&gt;&lt;li&gt;Deaths:   30632&lt;/li&gt;&lt;li&gt;Death Rate: 3.06&lt;/li&gt;&lt;/ul&gt;&lt;/div&gt;\n",
       "                 &lt;/div&gt;`,\n",
       "                {&quot;sticky&quot;: true}\n",
       "            );\n",
       "        \n",
       "    \n",
       "            var circle_4ad97e2426f81e223bce2457f9779a80 = L.circle(\n",
       "                [-6.314993, 143.95555],\n",
       "                {&quot;bubblingMouseEvents&quot;: true, &quot;color&quot;: &quot;red&quot;, &quot;dashArray&quot;: null, &quot;dashOffset&quot;: null, &quot;fill&quot;: true, &quot;fillColor&quot;: &quot;indigo&quot;, &quot;fillOpacity&quot;: 0.2, &quot;fillRule&quot;: &quot;evenodd&quot;, &quot;lineCap&quot;: &quot;round&quot;, &quot;lineJoin&quot;: &quot;round&quot;, &quot;opacity&quot;: 1.0, &quot;radius&quot;: 51000.0, &quot;stroke&quot;: true, &quot;weight&quot;: 3}\n",
       "            ).addTo(map_01f8206293aa103112e128106147057e);\n",
       "        \n",
       "    \n",
       "            circle_4ad97e2426f81e223bce2457f9779a80.bindTooltip(\n",
       "                `&lt;div&gt;\n",
       "                     &lt;div style=&#x27;margin: 0; background-color: black; color: white;&#x27;&gt;&lt;h4 style=&#x27;text-align:center;font-weight: bold&#x27;&gt;Papua New Guinea&lt;/h4&gt;&lt;hr style=&#x27;margin:10px;color: white;&#x27;&gt;&lt;ul style=&#x27;color: white;;list-style-type:circle;align-item:left;padding-left:20px;padding-right:20px&#x27;&gt;&lt;li&gt;Confirmed: 46146&lt;/li&gt;&lt;li&gt;Deaths:   7&lt;/li&gt;&lt;li&gt;Death Rate: 0.02&lt;/li&gt;&lt;/ul&gt;&lt;/div&gt;\n",
       "                 &lt;/div&gt;`,\n",
       "                {&quot;sticky&quot;: true}\n",
       "            );\n",
       "        \n",
       "    \n",
       "            var circle_c5ca4bf08b2207b19d6014d6b025ba65 = L.circle(\n",
       "                [-23.4425, -58.4438],\n",
       "                {&quot;bubblingMouseEvents&quot;: true, &quot;color&quot;: &quot;red&quot;, &quot;dashArray&quot;: null, &quot;dashOffset&quot;: null, &quot;fill&quot;: true, &quot;fillColor&quot;: &quot;indigo&quot;, &quot;fillOpacity&quot;: 0.2, &quot;fillRule&quot;: &quot;evenodd&quot;, &quot;lineCap&quot;: &quot;round&quot;, &quot;lineJoin&quot;: &quot;round&quot;, &quot;opacity&quot;: 1.0, &quot;radius&quot;: 66000.0, &quot;stroke&quot;: true, &quot;weight&quot;: 3}\n",
       "            ).addTo(map_01f8206293aa103112e128106147057e);\n",
       "        \n",
       "    \n",
       "            circle_c5ca4bf08b2207b19d6014d6b025ba65.bindTooltip(\n",
       "                `&lt;div&gt;\n",
       "                     &lt;div style=&#x27;margin: 0; background-color: black; color: white;&#x27;&gt;&lt;h4 style=&#x27;text-align:center;font-weight: bold&#x27;&gt;Paraguay&lt;/h4&gt;&lt;hr style=&#x27;margin:10px;color: white;&#x27;&gt;&lt;ul style=&#x27;color: white;;list-style-type:circle;align-item:left;padding-left:20px;padding-right:20px&#x27;&gt;&lt;li&gt;Confirmed: 718164&lt;/li&gt;&lt;li&gt;Deaths:   8526&lt;/li&gt;&lt;li&gt;Death Rate: 1.19&lt;/li&gt;&lt;/ul&gt;&lt;/div&gt;\n",
       "                 &lt;/div&gt;`,\n",
       "                {&quot;sticky&quot;: true}\n",
       "            );\n",
       "        \n",
       "    \n",
       "            var circle_12ae4c40621341dfd132d4c588b2709f = L.circle(\n",
       "                [-9.19, -75.0152],\n",
       "                {&quot;bubblingMouseEvents&quot;: true, &quot;color&quot;: &quot;red&quot;, &quot;dashArray&quot;: null, &quot;dashOffset&quot;: null, &quot;fill&quot;: true, &quot;fillColor&quot;: &quot;indigo&quot;, &quot;fillOpacity&quot;: 0.2, &quot;fillRule&quot;: &quot;evenodd&quot;, &quot;lineCap&quot;: &quot;round&quot;, &quot;lineJoin&quot;: &quot;round&quot;, &quot;opacity&quot;: 1.0, &quot;radius&quot;: 76000.0, &quot;stroke&quot;: true, &quot;weight&quot;: 3}\n",
       "            ).addTo(map_01f8206293aa103112e128106147057e);\n",
       "        \n",
       "    \n",
       "            circle_12ae4c40621341dfd132d4c588b2709f.bindTooltip(\n",
       "                `&lt;div&gt;\n",
       "                     &lt;div style=&#x27;margin: 0; background-color: black; color: white;&#x27;&gt;&lt;h4 style=&#x27;text-align:center;font-weight: bold&#x27;&gt;Peru&lt;/h4&gt;&lt;hr style=&#x27;margin:10px;color: white;&#x27;&gt;&lt;ul style=&#x27;color: white;;list-style-type:circle;align-item:left;padding-left:20px;padding-right:20px&#x27;&gt;&lt;li&gt;Confirmed: 4252383&lt;/li&gt;&lt;li&gt;Deaths:   668&lt;/li&gt;&lt;li&gt;Death Rate: 0.02&lt;/li&gt;&lt;/ul&gt;&lt;/div&gt;\n",
       "                 &lt;/div&gt;`,\n",
       "                {&quot;sticky&quot;: true}\n",
       "            );\n",
       "        \n",
       "    \n",
       "            var circle_f9119a1ded4a63e9a2a25ebccb685399 = L.circle(\n",
       "                [12.879721, 121.774017],\n",
       "                {&quot;bubblingMouseEvents&quot;: true, &quot;color&quot;: &quot;red&quot;, &quot;dashArray&quot;: null, &quot;dashOffset&quot;: null, &quot;fill&quot;: true, &quot;fillColor&quot;: &quot;indigo&quot;, &quot;fillOpacity&quot;: 0.2, &quot;fillRule&quot;: &quot;evenodd&quot;, &quot;lineCap&quot;: &quot;round&quot;, &quot;lineJoin&quot;: &quot;round&quot;, &quot;opacity&quot;: 1.0, &quot;radius&quot;: 76000.0, &quot;stroke&quot;: true, &quot;weight&quot;: 3}\n",
       "            ).addTo(map_01f8206293aa103112e128106147057e);\n",
       "        \n",
       "    \n",
       "            circle_f9119a1ded4a63e9a2a25ebccb685399.bindTooltip(\n",
       "                `&lt;div&gt;\n",
       "                     &lt;div style=&#x27;margin: 0; background-color: black; color: white;&#x27;&gt;&lt;h4 style=&#x27;text-align:center;font-weight: bold&#x27;&gt;Philippines&lt;/h4&gt;&lt;hr style=&#x27;margin:10px;color: white;&#x27;&gt;&lt;ul style=&#x27;color: white;;list-style-type:circle;align-item:left;padding-left:20px;padding-right:20px&#x27;&gt;&lt;li&gt;Confirmed: 4036277&lt;/li&gt;&lt;li&gt;Deaths:   19621&lt;/li&gt;&lt;li&gt;Death Rate: 0.49&lt;/li&gt;&lt;/ul&gt;&lt;/div&gt;\n",
       "                 &lt;/div&gt;`,\n",
       "                {&quot;sticky&quot;: true}\n",
       "            );\n",
       "        \n",
       "    \n",
       "            var circle_7ecd2df4b61b6a80497304a44d492170 = L.circle(\n",
       "                [51.9194, 19.1451],\n",
       "                {&quot;bubblingMouseEvents&quot;: true, &quot;color&quot;: &quot;red&quot;, &quot;dashArray&quot;: null, &quot;dashOffset&quot;: null, &quot;fill&quot;: true, &quot;fillColor&quot;: &quot;indigo&quot;, &quot;fillOpacity&quot;: 0.2, &quot;fillRule&quot;: &quot;evenodd&quot;, &quot;lineCap&quot;: &quot;round&quot;, &quot;lineJoin&quot;: &quot;round&quot;, &quot;opacity&quot;: 1.0, &quot;radius&quot;: 76000.0, &quot;stroke&quot;: true, &quot;weight&quot;: 3}\n",
       "            ).addTo(map_01f8206293aa103112e128106147057e);\n",
       "        \n",
       "    \n",
       "            circle_7ecd2df4b61b6a80497304a44d492170.bindTooltip(\n",
       "                `&lt;div&gt;\n",
       "                     &lt;div style=&#x27;margin: 0; background-color: black; color: white;&#x27;&gt;&lt;h4 style=&#x27;text-align:center;font-weight: bold&#x27;&gt;Poland&lt;/h4&gt;&lt;hr style=&#x27;margin:10px;color: white;&#x27;&gt;&lt;ul style=&#x27;color: white;;list-style-type:circle;align-item:left;padding-left:20px;padding-right:20px&#x27;&gt;&lt;li&gt;Confirmed: 6352755&lt;/li&gt;&lt;li&gt;Deaths:   217414&lt;/li&gt;&lt;li&gt;Death Rate: 3.42&lt;/li&gt;&lt;/ul&gt;&lt;/div&gt;\n",
       "                 &lt;/div&gt;`,\n",
       "                {&quot;sticky&quot;: true}\n",
       "            );\n",
       "        \n",
       "    \n",
       "            var circle_e7fcc26151ed4efcff63c3310f6ea8a8 = L.circle(\n",
       "                [39.3999, -8.2245],\n",
       "                {&quot;bubblingMouseEvents&quot;: true, &quot;color&quot;: &quot;red&quot;, &quot;dashArray&quot;: null, &quot;dashOffset&quot;: null, &quot;fill&quot;: true, &quot;fillColor&quot;: &quot;indigo&quot;, &quot;fillOpacity&quot;: 0.2, &quot;fillRule&quot;: &quot;evenodd&quot;, &quot;lineCap&quot;: &quot;round&quot;, &quot;lineJoin&quot;: &quot;round&quot;, &quot;opacity&quot;: 1.0, &quot;radius&quot;: 76000.0, &quot;stroke&quot;: true, &quot;weight&quot;: 3}\n",
       "            ).addTo(map_01f8206293aa103112e128106147057e);\n",
       "        \n",
       "    \n",
       "            circle_e7fcc26151ed4efcff63c3310f6ea8a8.bindTooltip(\n",
       "                `&lt;div&gt;\n",
       "                     &lt;div style=&#x27;margin: 0; background-color: black; color: white;&#x27;&gt;&lt;h4 style=&#x27;text-align:center;font-weight: bold&#x27;&gt;Portugal&lt;/h4&gt;&lt;hr style=&#x27;margin:10px;color: white;&#x27;&gt;&lt;ul style=&#x27;color: white;;list-style-type:circle;align-item:left;padding-left:20px;padding-right:20px&#x27;&gt;&lt;li&gt;Confirmed: 5542265&lt;/li&gt;&lt;li&gt;Deaths:   64641&lt;/li&gt;&lt;li&gt;Death Rate: 1.17&lt;/li&gt;&lt;/ul&gt;&lt;/div&gt;\n",
       "                 &lt;/div&gt;`,\n",
       "                {&quot;sticky&quot;: true}\n",
       "            );\n",
       "        \n",
       "    \n",
       "            var circle_8fe7560c21bcef208224b5ce348deb61 = L.circle(\n",
       "                [25.3548, 51.1839],\n",
       "                {&quot;bubblingMouseEvents&quot;: true, &quot;color&quot;: &quot;red&quot;, &quot;dashArray&quot;: null, &quot;dashOffset&quot;: null, &quot;fill&quot;: true, &quot;fillColor&quot;: &quot;indigo&quot;, &quot;fillOpacity&quot;: 0.2, &quot;fillRule&quot;: &quot;evenodd&quot;, &quot;lineCap&quot;: &quot;round&quot;, &quot;lineJoin&quot;: &quot;round&quot;, &quot;opacity&quot;: 1.0, &quot;radius&quot;: 66000.0, &quot;stroke&quot;: true, &quot;weight&quot;: 3}\n",
       "            ).addTo(map_01f8206293aa103112e128106147057e);\n",
       "        \n",
       "    \n",
       "            circle_8fe7560c21bcef208224b5ce348deb61.bindTooltip(\n",
       "                `&lt;div&gt;\n",
       "                     &lt;div style=&#x27;margin: 0; background-color: black; color: white;&#x27;&gt;&lt;h4 style=&#x27;text-align:center;font-weight: bold&#x27;&gt;Qatar&lt;/h4&gt;&lt;hr style=&#x27;margin:10px;color: white;&#x27;&gt;&lt;ul style=&#x27;color: white;;list-style-type:circle;align-item:left;padding-left:20px;padding-right:20px&#x27;&gt;&lt;li&gt;Confirmed: 478848&lt;/li&gt;&lt;li&gt;Deaths:   118319&lt;/li&gt;&lt;li&gt;Death Rate: 24.71&lt;/li&gt;&lt;/ul&gt;&lt;/div&gt;\n",
       "                 &lt;/div&gt;`,\n",
       "                {&quot;sticky&quot;: true}\n",
       "            );\n",
       "        \n",
       "    \n",
       "            var circle_265ce016618a387bd906410f62cc9945 = L.circle(\n",
       "                [45.9432, 24.9668],\n",
       "                {&quot;bubblingMouseEvents&quot;: true, &quot;color&quot;: &quot;red&quot;, &quot;dashArray&quot;: null, &quot;dashOffset&quot;: null, &quot;fill&quot;: true, &quot;fillColor&quot;: &quot;indigo&quot;, &quot;fillOpacity&quot;: 0.2, &quot;fillRule&quot;: &quot;evenodd&quot;, &quot;lineCap&quot;: &quot;round&quot;, &quot;lineJoin&quot;: &quot;round&quot;, &quot;opacity&quot;: 1.0, &quot;radius&quot;: 76000.0, &quot;stroke&quot;: true, &quot;weight&quot;: 3}\n",
       "            ).addTo(map_01f8206293aa103112e128106147057e);\n",
       "        \n",
       "    \n",
       "            circle_265ce016618a387bd906410f62cc9945.bindTooltip(\n",
       "                `&lt;div&gt;\n",
       "                     &lt;div style=&#x27;margin: 0; background-color: black; color: white;&#x27;&gt;&lt;h4 style=&#x27;text-align:center;font-weight: bold&#x27;&gt;Romania&lt;/h4&gt;&lt;hr style=&#x27;margin:10px;color: white;&#x27;&gt;&lt;ul style=&#x27;color: white;;list-style-type:circle;align-item:left;padding-left:20px;padding-right:20px&#x27;&gt;&lt;li&gt;Confirmed: 3296834&lt;/li&gt;&lt;li&gt;Deaths:   25450&lt;/li&gt;&lt;li&gt;Death Rate: 0.77&lt;/li&gt;&lt;/ul&gt;&lt;/div&gt;\n",
       "                 &lt;/div&gt;`,\n",
       "                {&quot;sticky&quot;: true}\n",
       "            );\n",
       "        \n",
       "    \n",
       "            var circle_a1db48ca4c8cf7a0b3a81cb4ba9dd3be = L.circle(\n",
       "                [61.52401, 105.318756],\n",
       "                {&quot;bubblingMouseEvents&quot;: true, &quot;color&quot;: &quot;red&quot;, &quot;dashArray&quot;: null, &quot;dashOffset&quot;: null, &quot;fill&quot;: true, &quot;fillColor&quot;: &quot;indigo&quot;, &quot;fillOpacity&quot;: 0.2, &quot;fillRule&quot;: &quot;evenodd&quot;, &quot;lineCap&quot;: &quot;round&quot;, &quot;lineJoin&quot;: &quot;round&quot;, &quot;opacity&quot;: 1.0, &quot;radius&quot;: 81000.0, &quot;stroke&quot;: true, &quot;weight&quot;: 3}\n",
       "            ).addTo(map_01f8206293aa103112e128106147057e);\n",
       "        \n",
       "    \n",
       "            circle_a1db48ca4c8cf7a0b3a81cb4ba9dd3be.bindTooltip(\n",
       "                `&lt;div&gt;\n",
       "                     &lt;div style=&#x27;margin: 0; background-color: black; color: white;&#x27;&gt;&lt;h4 style=&#x27;text-align:center;font-weight: bold&#x27;&gt;Russia&lt;/h4&gt;&lt;hr style=&#x27;margin:10px;color: white;&#x27;&gt;&lt;ul style=&#x27;color: white;;list-style-type:circle;align-item:left;padding-left:20px;padding-right:20px&#x27;&gt;&lt;li&gt;Confirmed: 21284476&lt;/li&gt;&lt;li&gt;Deaths:   685&lt;/li&gt;&lt;li&gt;Death Rate: 0.0&lt;/li&gt;&lt;/ul&gt;&lt;/div&gt;\n",
       "                 &lt;/div&gt;`,\n",
       "                {&quot;sticky&quot;: true}\n",
       "            );\n",
       "        \n",
       "    \n",
       "            var circle_296e80571f9748027f6bd67fa3accf7a = L.circle(\n",
       "                [-1.9403, 29.8739],\n",
       "                {&quot;bubblingMouseEvents&quot;: true, &quot;color&quot;: &quot;red&quot;, &quot;dashArray&quot;: null, &quot;dashOffset&quot;: null, &quot;fill&quot;: true, &quot;fillColor&quot;: &quot;indigo&quot;, &quot;fillOpacity&quot;: 0.2, &quot;fillRule&quot;: &quot;evenodd&quot;, &quot;lineCap&quot;: &quot;round&quot;, &quot;lineJoin&quot;: &quot;round&quot;, &quot;opacity&quot;: 1.0, &quot;radius&quot;: 56000.0, &quot;stroke&quot;: true, &quot;weight&quot;: 3}\n",
       "            ).addTo(map_01f8206293aa103112e128106147057e);\n",
       "        \n",
       "    \n",
       "            circle_296e80571f9748027f6bd67fa3accf7a.bindTooltip(\n",
       "                `&lt;div&gt;\n",
       "                     &lt;div style=&#x27;margin: 0; background-color: black; color: white;&#x27;&gt;&lt;h4 style=&#x27;text-align:center;font-weight: bold&#x27;&gt;Rwanda&lt;/h4&gt;&lt;hr style=&#x27;margin:10px;color: white;&#x27;&gt;&lt;ul style=&#x27;color: white;;list-style-type:circle;align-item:left;padding-left:20px;padding-right:20px&#x27;&gt;&lt;li&gt;Confirmed: 132762&lt;/li&gt;&lt;li&gt;Deaths:   67276&lt;/li&gt;&lt;li&gt;Death Rate: 50.67&lt;/li&gt;&lt;/ul&gt;&lt;/div&gt;\n",
       "                 &lt;/div&gt;`,\n",
       "                {&quot;sticky&quot;: true}\n",
       "            );\n",
       "        \n",
       "    \n",
       "            var circle_9dea0c852d77ef66c9dbd0a54f09b2ee = L.circle(\n",
       "                [17.357822, -62.782998],\n",
       "                {&quot;bubblingMouseEvents&quot;: true, &quot;color&quot;: &quot;red&quot;, &quot;dashArray&quot;: null, &quot;dashOffset&quot;: null, &quot;fill&quot;: true, &quot;fillColor&quot;: &quot;indigo&quot;, &quot;fillOpacity&quot;: 0.2, &quot;fillRule&quot;: &quot;evenodd&quot;, &quot;lineCap&quot;: &quot;round&quot;, &quot;lineJoin&quot;: &quot;round&quot;, &quot;opacity&quot;: 1.0, &quot;radius&quot;: 41000.0, &quot;stroke&quot;: true, &quot;weight&quot;: 3}\n",
       "            ).addTo(map_01f8206293aa103112e128106147057e);\n",
       "        \n",
       "    \n",
       "            circle_9dea0c852d77ef66c9dbd0a54f09b2ee.bindTooltip(\n",
       "                `&lt;div&gt;\n",
       "                     &lt;div style=&#x27;margin: 0; background-color: black; color: white;&#x27;&gt;&lt;h4 style=&#x27;text-align:center;font-weight: bold&#x27;&gt;Saint Kitts and Nevis&lt;/h4&gt;&lt;hr style=&#x27;margin:10px;color: white;&#x27;&gt;&lt;ul style=&#x27;color: white;;list-style-type:circle;align-item:left;padding-left:20px;padding-right:20px&#x27;&gt;&lt;li&gt;Confirmed: 6556&lt;/li&gt;&lt;li&gt;Deaths:   384103&lt;/li&gt;&lt;li&gt;Death Rate: 5857.91&lt;/li&gt;&lt;/ul&gt;&lt;/div&gt;\n",
       "                 &lt;/div&gt;`,\n",
       "                {&quot;sticky&quot;: true}\n",
       "            );\n",
       "        \n",
       "    \n",
       "            var circle_80e402591918139b9f34159ab27676e5 = L.circle(\n",
       "                [13.9094, -60.9789],\n",
       "                {&quot;bubblingMouseEvents&quot;: true, &quot;color&quot;: &quot;red&quot;, &quot;dashArray&quot;: null, &quot;dashOffset&quot;: null, &quot;fill&quot;: true, &quot;fillColor&quot;: &quot;indigo&quot;, &quot;fillOpacity&quot;: 0.2, &quot;fillRule&quot;: &quot;evenodd&quot;, &quot;lineCap&quot;: &quot;round&quot;, &quot;lineJoin&quot;: &quot;round&quot;, &quot;opacity&quot;: 1.0, &quot;radius&quot;: 51000.0, &quot;stroke&quot;: true, &quot;weight&quot;: 3}\n",
       "            ).addTo(map_01f8206293aa103112e128106147057e);\n",
       "        \n",
       "    \n",
       "            circle_80e402591918139b9f34159ab27676e5.bindTooltip(\n",
       "                `&lt;div&gt;\n",
       "                     &lt;div style=&#x27;margin: 0; background-color: black; color: white;&#x27;&gt;&lt;h4 style=&#x27;text-align:center;font-weight: bold&#x27;&gt;Saint Lucia&lt;/h4&gt;&lt;hr style=&#x27;margin:10px;color: white;&#x27;&gt;&lt;ul style=&#x27;color: white;;list-style-type:circle;align-item:left;padding-left:20px;padding-right:20px&#x27;&gt;&lt;li&gt;Confirmed: 29711&lt;/li&gt;&lt;li&gt;Deaths:   1467&lt;/li&gt;&lt;li&gt;Death Rate: 4.94&lt;/li&gt;&lt;/ul&gt;&lt;/div&gt;\n",
       "                 &lt;/div&gt;`,\n",
       "                {&quot;sticky&quot;: true}\n",
       "            );\n",
       "        \n",
       "    \n",
       "            var circle_9901f7ad004aad2f4b02ee764c611ea7 = L.circle(\n",
       "                [12.9843, -61.2872],\n",
       "                {&quot;bubblingMouseEvents&quot;: true, &quot;color&quot;: &quot;red&quot;, &quot;dashArray&quot;: null, &quot;dashOffset&quot;: null, &quot;fill&quot;: true, &quot;fillColor&quot;: &quot;indigo&quot;, &quot;fillOpacity&quot;: 0.2, &quot;fillRule&quot;: &quot;evenodd&quot;, &quot;lineCap&quot;: &quot;round&quot;, &quot;lineJoin&quot;: &quot;round&quot;, &quot;opacity&quot;: 1.0, &quot;radius&quot;: 46000.0, &quot;stroke&quot;: true, &quot;weight&quot;: 3}\n",
       "            ).addTo(map_01f8206293aa103112e128106147057e);\n",
       "        \n",
       "    \n",
       "            circle_9901f7ad004aad2f4b02ee764c611ea7.bindTooltip(\n",
       "                `&lt;div&gt;\n",
       "                     &lt;div style=&#x27;margin: 0; background-color: black; color: white;&#x27;&gt;&lt;h4 style=&#x27;text-align:center;font-weight: bold&#x27;&gt;Saint Vincent and the Grenadines&lt;/h4&gt;&lt;hr style=&#x27;margin:10px;color: white;&#x27;&gt;&lt;ul style=&#x27;color: white;;list-style-type:circle;align-item:left;padding-left:20px;padding-right:20px&#x27;&gt;&lt;li&gt;Confirmed: 9474&lt;/li&gt;&lt;li&gt;Deaths:   46&lt;/li&gt;&lt;li&gt;Death Rate: 0.49&lt;/li&gt;&lt;/ul&gt;&lt;/div&gt;\n",
       "                 &lt;/div&gt;`,\n",
       "                {&quot;sticky&quot;: true}\n",
       "            );\n",
       "        \n",
       "    \n",
       "            var circle_140952cf70d6d1b6d353b94d16a3f81a = L.circle(\n",
       "                [-13.759, -172.1046],\n",
       "                {&quot;bubblingMouseEvents&quot;: true, &quot;color&quot;: &quot;red&quot;, &quot;dashArray&quot;: null, &quot;dashOffset&quot;: null, &quot;fill&quot;: true, &quot;fillColor&quot;: &quot;indigo&quot;, &quot;fillOpacity&quot;: 0.2, &quot;fillRule&quot;: &quot;evenodd&quot;, &quot;lineCap&quot;: &quot;round&quot;, &quot;lineJoin&quot;: &quot;round&quot;, &quot;opacity&quot;: 1.0, &quot;radius&quot;: 46000.0, &quot;stroke&quot;: true, &quot;weight&quot;: 3}\n",
       "            ).addTo(map_01f8206293aa103112e128106147057e);\n",
       "        \n",
       "    \n",
       "            circle_140952cf70d6d1b6d353b94d16a3f81a.bindTooltip(\n",
       "                `&lt;div&gt;\n",
       "                     &lt;div style=&#x27;margin: 0; background-color: black; color: white;&#x27;&gt;&lt;h4 style=&#x27;text-align:center;font-weight: bold&#x27;&gt;Samoa&lt;/h4&gt;&lt;hr style=&#x27;margin:10px;color: white;&#x27;&gt;&lt;ul style=&#x27;color: white;;list-style-type:circle;align-item:left;padding-left:20px;padding-right:20px&#x27;&gt;&lt;li&gt;Confirmed: 15967&lt;/li&gt;&lt;li&gt;Deaths:   408&lt;/li&gt;&lt;li&gt;Death Rate: 2.56&lt;/li&gt;&lt;/ul&gt;&lt;/div&gt;\n",
       "                 &lt;/div&gt;`,\n",
       "                {&quot;sticky&quot;: true}\n",
       "            );\n",
       "        \n",
       "    \n",
       "            var circle_2986e0c4ebccbde7b06225cc324d53a0 = L.circle(\n",
       "                [43.9424, 12.4578],\n",
       "                {&quot;bubblingMouseEvents&quot;: true, &quot;color&quot;: &quot;red&quot;, &quot;dashArray&quot;: null, &quot;dashOffset&quot;: null, &quot;fill&quot;: true, &quot;fillColor&quot;: &quot;indigo&quot;, &quot;fillOpacity&quot;: 0.2, &quot;fillRule&quot;: &quot;evenodd&quot;, &quot;lineCap&quot;: &quot;round&quot;, &quot;lineJoin&quot;: &quot;round&quot;, &quot;opacity&quot;: 1.0, &quot;radius&quot;: 51000.0, &quot;stroke&quot;: true, &quot;weight&quot;: 3}\n",
       "            ).addTo(map_01f8206293aa103112e128106147057e);\n",
       "        \n",
       "    \n",
       "            circle_2986e0c4ebccbde7b06225cc324d53a0.bindTooltip(\n",
       "                `&lt;div&gt;\n",
       "                     &lt;div style=&#x27;margin: 0; background-color: black; color: white;&#x27;&gt;&lt;h4 style=&#x27;text-align:center;font-weight: bold&#x27;&gt;San Marino&lt;/h4&gt;&lt;hr style=&#x27;margin:10px;color: white;&#x27;&gt;&lt;ul style=&#x27;color: white;;list-style-type:circle;align-item:left;padding-left:20px;padding-right:20px&#x27;&gt;&lt;li&gt;Confirmed: 22167&lt;/li&gt;&lt;li&gt;Deaths:   116&lt;/li&gt;&lt;li&gt;Death Rate: 0.52&lt;/li&gt;&lt;/ul&gt;&lt;/div&gt;\n",
       "                 &lt;/div&gt;`,\n",
       "                {&quot;sticky&quot;: true}\n",
       "            );\n",
       "        \n",
       "    \n",
       "            var circle_974dd5f278c6b592aab6b9d8842f2376 = L.circle(\n",
       "                [0.1864, 6.6131],\n",
       "                {&quot;bubblingMouseEvents&quot;: true, &quot;color&quot;: &quot;red&quot;, &quot;dashArray&quot;: null, &quot;dashOffset&quot;: null, &quot;fill&quot;: true, &quot;fillColor&quot;: &quot;indigo&quot;, &quot;fillOpacity&quot;: 0.2, &quot;fillRule&quot;: &quot;evenodd&quot;, &quot;lineCap&quot;: &quot;round&quot;, &quot;lineJoin&quot;: &quot;round&quot;, &quot;opacity&quot;: 1.0, &quot;radius&quot;: 41000.0, &quot;stroke&quot;: true, &quot;weight&quot;: 3}\n",
       "            ).addTo(map_01f8206293aa103112e128106147057e);\n",
       "        \n",
       "    \n",
       "            circle_974dd5f278c6b592aab6b9d8842f2376.bindTooltip(\n",
       "                `&lt;div&gt;\n",
       "                     &lt;div style=&#x27;margin: 0; background-color: black; color: white;&#x27;&gt;&lt;h4 style=&#x27;text-align:center;font-weight: bold&#x27;&gt;Sao Tome and Principe&lt;/h4&gt;&lt;hr style=&#x27;margin:10px;color: white;&#x27;&gt;&lt;ul style=&#x27;color: white;;list-style-type:circle;align-item:left;padding-left:20px;padding-right:20px&#x27;&gt;&lt;li&gt;Confirmed: 6278&lt;/li&gt;&lt;li&gt;Deaths:   29&lt;/li&gt;&lt;li&gt;Death Rate: 0.46&lt;/li&gt;&lt;/ul&gt;&lt;/div&gt;\n",
       "                 &lt;/div&gt;`,\n",
       "                {&quot;sticky&quot;: true}\n",
       "            );\n",
       "        \n",
       "    \n",
       "            var circle_e31c06398006daaf6a98a4bb6ded49e4 = L.circle(\n",
       "                [23.885942, 45.079162],\n",
       "                {&quot;bubblingMouseEvents&quot;: true, &quot;color&quot;: &quot;red&quot;, &quot;dashArray&quot;: null, &quot;dashOffset&quot;: null, &quot;fill&quot;: true, &quot;fillColor&quot;: &quot;indigo&quot;, &quot;fillOpacity&quot;: 0.2, &quot;fillRule&quot;: &quot;evenodd&quot;, &quot;lineCap&quot;: &quot;round&quot;, &quot;lineJoin&quot;: &quot;round&quot;, &quot;opacity&quot;: 1.0, &quot;radius&quot;: 66000.0, &quot;stroke&quot;: true, &quot;weight&quot;: 3}\n",
       "            ).addTo(map_01f8206293aa103112e128106147057e);\n",
       "        \n",
       "    \n",
       "            circle_e31c06398006daaf6a98a4bb6ded49e4.bindTooltip(\n",
       "                `&lt;div&gt;\n",
       "                     &lt;div style=&#x27;margin: 0; background-color: black; color: white;&#x27;&gt;&lt;h4 style=&#x27;text-align:center;font-weight: bold&#x27;&gt;Saudi Arabia&lt;/h4&gt;&lt;hr style=&#x27;margin:10px;color: white;&#x27;&gt;&lt;ul style=&#x27;color: white;;list-style-type:circle;align-item:left;padding-left:20px;padding-right:20px&#x27;&gt;&lt;li&gt;Confirmed: 825597&lt;/li&gt;&lt;li&gt;Deaths:   119&lt;/li&gt;&lt;li&gt;Death Rate: 0.01&lt;/li&gt;&lt;/ul&gt;&lt;/div&gt;\n",
       "                 &lt;/div&gt;`,\n",
       "                {&quot;sticky&quot;: true}\n",
       "            );\n",
       "        \n",
       "    \n",
       "            var circle_18ee5b3b55dc8dbe567ec902aa5b1ffb = L.circle(\n",
       "                [14.4974, -14.4524],\n",
       "                {&quot;bubblingMouseEvents&quot;: true, &quot;color&quot;: &quot;red&quot;, &quot;dashArray&quot;: null, &quot;dashOffset&quot;: null, &quot;fill&quot;: true, &quot;fillColor&quot;: &quot;indigo&quot;, &quot;fillOpacity&quot;: 0.2, &quot;fillRule&quot;: &quot;evenodd&quot;, &quot;lineCap&quot;: &quot;round&quot;, &quot;lineJoin&quot;: &quot;round&quot;, &quot;opacity&quot;: 1.0, &quot;radius&quot;: 56000.0, &quot;stroke&quot;: true, &quot;weight&quot;: 3}\n",
       "            ).addTo(map_01f8206293aa103112e128106147057e);\n",
       "        \n",
       "    \n",
       "            circle_18ee5b3b55dc8dbe567ec902aa5b1ffb.bindTooltip(\n",
       "                `&lt;div&gt;\n",
       "                     &lt;div style=&#x27;margin: 0; background-color: black; color: white;&#x27;&gt;&lt;h4 style=&#x27;text-align:center;font-weight: bold&#x27;&gt;Senegal&lt;/h4&gt;&lt;hr style=&#x27;margin:10px;color: white;&#x27;&gt;&lt;ul style=&#x27;color: white;;list-style-type:circle;align-item:left;padding-left:20px;padding-right:20px&#x27;&gt;&lt;li&gt;Confirmed: 88873&lt;/li&gt;&lt;li&gt;Deaths:   77&lt;/li&gt;&lt;li&gt;Death Rate: 0.09&lt;/li&gt;&lt;/ul&gt;&lt;/div&gt;\n",
       "                 &lt;/div&gt;`,\n",
       "                {&quot;sticky&quot;: true}\n",
       "            );\n",
       "        \n",
       "    \n",
       "            var circle_162290230c2510702161a081e3040586 = L.circle(\n",
       "                [44.0165, 21.0059],\n",
       "                {&quot;bubblingMouseEvents&quot;: true, &quot;color&quot;: &quot;red&quot;, &quot;dashArray&quot;: null, &quot;dashOffset&quot;: null, &quot;fill&quot;: true, &quot;fillColor&quot;: &quot;indigo&quot;, &quot;fillOpacity&quot;: 0.2, &quot;fillRule&quot;: &quot;evenodd&quot;, &quot;lineCap&quot;: &quot;round&quot;, &quot;lineJoin&quot;: &quot;round&quot;, &quot;opacity&quot;: 1.0, &quot;radius&quot;: 71000.0, &quot;stroke&quot;: true, &quot;weight&quot;: 3}\n",
       "            ).addTo(map_01f8206293aa103112e128106147057e);\n",
       "        \n",
       "    \n",
       "            circle_162290230c2510702161a081e3040586.bindTooltip(\n",
       "                `&lt;div&gt;\n",
       "                     &lt;div style=&#x27;margin: 0; background-color: black; color: white;&#x27;&gt;&lt;h4 style=&#x27;text-align:center;font-weight: bold&#x27;&gt;Serbia&lt;/h4&gt;&lt;hr style=&#x27;margin:10px;color: white;&#x27;&gt;&lt;ul style=&#x27;color: white;;list-style-type:circle;align-item:left;padding-left:20px;padding-right:20px&#x27;&gt;&lt;li&gt;Confirmed: 2423385&lt;/li&gt;&lt;li&gt;Deaths:   9464&lt;/li&gt;&lt;li&gt;Death Rate: 0.39&lt;/li&gt;&lt;/ul&gt;&lt;/div&gt;\n",
       "                 &lt;/div&gt;`,\n",
       "                {&quot;sticky&quot;: true}\n",
       "            );\n",
       "        \n",
       "    \n",
       "            var circle_8ecdc3cf01176d3aaa71d228e1fd07ab = L.circle(\n",
       "                [-4.6796, 55.492],\n",
       "                {&quot;bubblingMouseEvents&quot;: true, &quot;color&quot;: &quot;red&quot;, &quot;dashArray&quot;: null, &quot;dashOffset&quot;: null, &quot;fill&quot;: true, &quot;fillColor&quot;: &quot;indigo&quot;, &quot;fillOpacity&quot;: 0.2, &quot;fillRule&quot;: &quot;evenodd&quot;, &quot;lineCap&quot;: &quot;round&quot;, &quot;lineJoin&quot;: &quot;round&quot;, &quot;opacity&quot;: 1.0, &quot;radius&quot;: 51000.0, &quot;stroke&quot;: true, &quot;weight&quot;: 3}\n",
       "            ).addTo(map_01f8206293aa103112e128106147057e);\n",
       "        \n",
       "    \n",
       "            circle_8ecdc3cf01176d3aaa71d228e1fd07ab.bindTooltip(\n",
       "                `&lt;div&gt;\n",
       "                     &lt;div style=&#x27;margin: 0; background-color: black; color: white;&#x27;&gt;&lt;h4 style=&#x27;text-align:center;font-weight: bold&#x27;&gt;Seychelles&lt;/h4&gt;&lt;hr style=&#x27;margin:10px;color: white;&#x27;&gt;&lt;ul style=&#x27;color: white;;list-style-type:circle;align-item:left;padding-left:20px;padding-right:20px&#x27;&gt;&lt;li&gt;Confirmed: 50068&lt;/li&gt;&lt;li&gt;Deaths:   1968&lt;/li&gt;&lt;li&gt;Death Rate: 3.93&lt;/li&gt;&lt;/ul&gt;&lt;/div&gt;\n",
       "                 &lt;/div&gt;`,\n",
       "                {&quot;sticky&quot;: true}\n",
       "            );\n",
       "        \n",
       "    \n",
       "            var circle_50f6131c78cacba15697c48c46ff490a = L.circle(\n",
       "                [8.460555, -11.779889],\n",
       "                {&quot;bubblingMouseEvents&quot;: true, &quot;color&quot;: &quot;red&quot;, &quot;dashArray&quot;: null, &quot;dashOffset&quot;: null, &quot;fill&quot;: true, &quot;fillColor&quot;: &quot;indigo&quot;, &quot;fillOpacity&quot;: 0.2, &quot;fillRule&quot;: &quot;evenodd&quot;, &quot;lineCap&quot;: &quot;round&quot;, &quot;lineJoin&quot;: &quot;round&quot;, &quot;opacity&quot;: 1.0, &quot;radius&quot;: 41000.0, &quot;stroke&quot;: true, &quot;weight&quot;: 3}\n",
       "            ).addTo(map_01f8206293aa103112e128106147057e);\n",
       "        \n",
       "    \n",
       "            circle_50f6131c78cacba15697c48c46ff490a.bindTooltip(\n",
       "                `&lt;div&gt;\n",
       "                     &lt;div style=&#x27;margin: 0; background-color: black; color: white;&#x27;&gt;&lt;h4 style=&#x27;text-align:center;font-weight: bold&#x27;&gt;Sierra Leone&lt;/h4&gt;&lt;hr style=&#x27;margin:10px;color: white;&#x27;&gt;&lt;ul style=&#x27;color: white;;list-style-type:circle;align-item:left;padding-left:20px;padding-right:20px&#x27;&gt;&lt;li&gt;Confirmed: 7759&lt;/li&gt;&lt;li&gt;Deaths:   17387&lt;/li&gt;&lt;li&gt;Death Rate: 224.06&lt;/li&gt;&lt;/ul&gt;&lt;/div&gt;\n",
       "                 &lt;/div&gt;`,\n",
       "                {&quot;sticky&quot;: true}\n",
       "            );\n",
       "        \n",
       "    \n",
       "            var circle_ba8e4d991db175ce6d138b87c174475c = L.circle(\n",
       "                [1.2833, 103.8333],\n",
       "                {&quot;bubblingMouseEvents&quot;: true, &quot;color&quot;: &quot;red&quot;, &quot;dashArray&quot;: null, &quot;dashOffset&quot;: null, &quot;fill&quot;: true, &quot;fillColor&quot;: &quot;indigo&quot;, &quot;fillOpacity&quot;: 0.2, &quot;fillRule&quot;: &quot;evenodd&quot;, &quot;lineCap&quot;: &quot;round&quot;, &quot;lineJoin&quot;: &quot;round&quot;, &quot;opacity&quot;: 1.0, &quot;radius&quot;: 71000.0, &quot;stroke&quot;: true, &quot;weight&quot;: 3}\n",
       "            ).addTo(map_01f8206293aa103112e128106147057e);\n",
       "        \n",
       "    \n",
       "            circle_ba8e4d991db175ce6d138b87c174475c.bindTooltip(\n",
       "                `&lt;div&gt;\n",
       "                     &lt;div style=&#x27;margin: 0; background-color: black; color: white;&#x27;&gt;&lt;h4 style=&#x27;text-align:center;font-weight: bold&#x27;&gt;Singapore&lt;/h4&gt;&lt;hr style=&#x27;margin:10px;color: white;&#x27;&gt;&lt;ul style=&#x27;color: white;;list-style-type:circle;align-item:left;padding-left:20px;padding-right:20px&#x27;&gt;&lt;li&gt;Confirmed: 2167897&lt;/li&gt;&lt;li&gt;Deaths:   171&lt;/li&gt;&lt;li&gt;Death Rate: 0.01&lt;/li&gt;&lt;/ul&gt;&lt;/div&gt;\n",
       "                 &lt;/div&gt;`,\n",
       "                {&quot;sticky&quot;: true}\n",
       "            );\n",
       "        \n",
       "    \n",
       "            var circle_7038737d74af83e29975ef7bbb6734c1 = L.circle(\n",
       "                [48.669, 19.699],\n",
       "                {&quot;bubblingMouseEvents&quot;: true, &quot;color&quot;: &quot;red&quot;, &quot;dashArray&quot;: null, &quot;dashOffset&quot;: null, &quot;fill&quot;: true, &quot;fillColor&quot;: &quot;indigo&quot;, &quot;fillOpacity&quot;: 0.2, &quot;fillRule&quot;: &quot;evenodd&quot;, &quot;lineCap&quot;: &quot;round&quot;, &quot;lineJoin&quot;: &quot;round&quot;, &quot;opacity&quot;: 1.0, &quot;radius&quot;: 71000.0, &quot;stroke&quot;: true, &quot;weight&quot;: 3}\n",
       "            ).addTo(map_01f8206293aa103112e128106147057e);\n",
       "        \n",
       "    \n",
       "            circle_7038737d74af83e29975ef7bbb6734c1.bindTooltip(\n",
       "                `&lt;div&gt;\n",
       "                     &lt;div style=&#x27;margin: 0; background-color: black; color: white;&#x27;&gt;&lt;h4 style=&#x27;text-align:center;font-weight: bold&#x27;&gt;Slovakia&lt;/h4&gt;&lt;hr style=&#x27;margin:10px;color: white;&#x27;&gt;&lt;ul style=&#x27;color: white;;list-style-type:circle;align-item:left;padding-left:20px;padding-right:20px&#x27;&gt;&lt;li&gt;Confirmed: 2650230&lt;/li&gt;&lt;li&gt;Deaths:   126&lt;/li&gt;&lt;li&gt;Death Rate: 0.0&lt;/li&gt;&lt;/ul&gt;&lt;/div&gt;\n",
       "                 &lt;/div&gt;`,\n",
       "                {&quot;sticky&quot;: true}\n",
       "            );\n",
       "        \n",
       "    \n",
       "            var circle_9335698338a38e1551c1561ca40fc8fe = L.circle(\n",
       "                [46.1512, 14.9955],\n",
       "                {&quot;bubblingMouseEvents&quot;: true, &quot;color&quot;: &quot;red&quot;, &quot;dashArray&quot;: null, &quot;dashOffset&quot;: null, &quot;fill&quot;: true, &quot;fillColor&quot;: &quot;indigo&quot;, &quot;fillOpacity&quot;: 0.2, &quot;fillRule&quot;: &quot;evenodd&quot;, &quot;lineCap&quot;: &quot;round&quot;, &quot;lineJoin&quot;: &quot;round&quot;, &quot;opacity&quot;: 1.0, &quot;radius&quot;: 71000.0, &quot;stroke&quot;: true, &quot;weight&quot;: 3}\n",
       "            ).addTo(map_01f8206293aa103112e128106147057e);\n",
       "        \n",
       "    \n",
       "            circle_9335698338a38e1551c1561ca40fc8fe.bindTooltip(\n",
       "                `&lt;div&gt;\n",
       "                     &lt;div style=&#x27;margin: 0; background-color: black; color: white;&#x27;&gt;&lt;h4 style=&#x27;text-align:center;font-weight: bold&#x27;&gt;Slovenia&lt;/h4&gt;&lt;hr style=&#x27;margin:10px;color: white;&#x27;&gt;&lt;ul style=&#x27;color: white;;list-style-type:circle;align-item:left;padding-left:20px;padding-right:20px&#x27;&gt;&lt;li&gt;Confirmed: 1258446&lt;/li&gt;&lt;li&gt;Deaths:   1703&lt;/li&gt;&lt;li&gt;Death Rate: 0.14&lt;/li&gt;&lt;/ul&gt;&lt;/div&gt;\n",
       "                 &lt;/div&gt;`,\n",
       "                {&quot;sticky&quot;: true}\n",
       "            );\n",
       "        \n",
       "    \n",
       "            var circle_9f94353a6ce3889ac1c2f41ea36e1c65 = L.circle(\n",
       "                [-9.6457, 160.1562],\n",
       "                {&quot;bubblingMouseEvents&quot;: true, &quot;color&quot;: &quot;red&quot;, &quot;dashArray&quot;: null, &quot;dashOffset&quot;: null, &quot;fill&quot;: true, &quot;fillColor&quot;: &quot;indigo&quot;, &quot;fillOpacity&quot;: 0.2, &quot;fillRule&quot;: &quot;evenodd&quot;, &quot;lineCap&quot;: &quot;round&quot;, &quot;lineJoin&quot;: &quot;round&quot;, &quot;opacity&quot;: 1.0, &quot;radius&quot;: 51000.0, &quot;stroke&quot;: true, &quot;weight&quot;: 3}\n",
       "            ).addTo(map_01f8206293aa103112e128106147057e);\n",
       "        \n",
       "    \n",
       "            circle_9f94353a6ce3889ac1c2f41ea36e1c65.bindTooltip(\n",
       "                `&lt;div&gt;\n",
       "                     &lt;div style=&#x27;margin: 0; background-color: black; color: white;&#x27;&gt;&lt;h4 style=&#x27;text-align:center;font-weight: bold&#x27;&gt;Solomon Islands&lt;/h4&gt;&lt;hr style=&#x27;margin:10px;color: white;&#x27;&gt;&lt;ul style=&#x27;color: white;;list-style-type:circle;align-item:left;padding-left:20px;padding-right:20px&#x27;&gt;&lt;li&gt;Confirmed: 24575&lt;/li&gt;&lt;li&gt;Deaths:   20733&lt;/li&gt;&lt;li&gt;Death Rate: 84.36&lt;/li&gt;&lt;/ul&gt;&lt;/div&gt;\n",
       "                 &lt;/div&gt;`,\n",
       "                {&quot;sticky&quot;: true}\n",
       "            );\n",
       "        \n",
       "    \n",
       "            var circle_945741957fca6ac3e2125636b9cb518d = L.circle(\n",
       "                [5.152149, 46.199616],\n",
       "                {&quot;bubblingMouseEvents&quot;: true, &quot;color&quot;: &quot;red&quot;, &quot;dashArray&quot;: null, &quot;dashOffset&quot;: null, &quot;fill&quot;: true, &quot;fillColor&quot;: &quot;indigo&quot;, &quot;fillOpacity&quot;: 0.2, &quot;fillRule&quot;: &quot;evenodd&quot;, &quot;lineCap&quot;: &quot;round&quot;, &quot;lineJoin&quot;: &quot;round&quot;, &quot;opacity&quot;: 1.0, &quot;radius&quot;: 51000.0, &quot;stroke&quot;: true, &quot;weight&quot;: 3}\n",
       "            ).addTo(map_01f8206293aa103112e128106147057e);\n",
       "        \n",
       "    \n",
       "            circle_945741957fca6ac3e2125636b9cb518d.bindTooltip(\n",
       "                `&lt;div&gt;\n",
       "                     &lt;div style=&#x27;margin: 0; background-color: black; color: white;&#x27;&gt;&lt;h4 style=&#x27;text-align:center;font-weight: bold&#x27;&gt;Somalia&lt;/h4&gt;&lt;hr style=&#x27;margin:10px;color: white;&#x27;&gt;&lt;ul style=&#x27;color: white;;list-style-type:circle;align-item:left;padding-left:20px;padding-right:20px&#x27;&gt;&lt;li&gt;Confirmed: 27286&lt;/li&gt;&lt;li&gt;Deaths:   6933&lt;/li&gt;&lt;li&gt;Death Rate: 25.41&lt;/li&gt;&lt;/ul&gt;&lt;/div&gt;\n",
       "                 &lt;/div&gt;`,\n",
       "                {&quot;sticky&quot;: true}\n",
       "            );\n",
       "        \n",
       "    \n",
       "            var circle_5445ea5a098744b37b135295e7362633 = L.circle(\n",
       "                [-30.5595, 22.9375],\n",
       "                {&quot;bubblingMouseEvents&quot;: true, &quot;color&quot;: &quot;red&quot;, &quot;dashArray&quot;: null, &quot;dashOffset&quot;: null, &quot;fill&quot;: true, &quot;fillColor&quot;: &quot;indigo&quot;, &quot;fillOpacity&quot;: 0.2, &quot;fillRule&quot;: &quot;evenodd&quot;, &quot;lineCap&quot;: &quot;round&quot;, &quot;lineJoin&quot;: &quot;round&quot;, &quot;opacity&quot;: 1.0, &quot;radius&quot;: 76000.0, &quot;stroke&quot;: true, &quot;weight&quot;: 3}\n",
       "            ).addTo(map_01f8206293aa103112e128106147057e);\n",
       "        \n",
       "    \n",
       "            circle_5445ea5a098744b37b135295e7362633.bindTooltip(\n",
       "                `&lt;div&gt;\n",
       "                     &lt;div style=&#x27;margin: 0; background-color: black; color: white;&#x27;&gt;&lt;h4 style=&#x27;text-align:center;font-weight: bold&#x27;&gt;South Africa&lt;/h4&gt;&lt;hr style=&#x27;margin:10px;color: white;&#x27;&gt;&lt;ul style=&#x27;color: white;;list-style-type:circle;align-item:left;padding-left:20px;padding-right:20px&#x27;&gt;&lt;li&gt;Confirmed: 4041890&lt;/li&gt;&lt;li&gt;Deaths:   153&lt;/li&gt;&lt;li&gt;Death Rate: 0.0&lt;/li&gt;&lt;/ul&gt;&lt;/div&gt;\n",
       "                 &lt;/div&gt;`,\n",
       "                {&quot;sticky&quot;: true}\n",
       "            );\n",
       "        \n",
       "    \n",
       "            var circle_e87d97a6cc371a7e1cc53a21a04135c8 = L.circle(\n",
       "                [6.877, 31.307],\n",
       "                {&quot;bubblingMouseEvents&quot;: true, &quot;color&quot;: &quot;red&quot;, &quot;dashArray&quot;: null, &quot;dashOffset&quot;: null, &quot;fill&quot;: true, &quot;fillColor&quot;: &quot;indigo&quot;, &quot;fillOpacity&quot;: 0.2, &quot;fillRule&quot;: &quot;evenodd&quot;, &quot;lineCap&quot;: &quot;round&quot;, &quot;lineJoin&quot;: &quot;round&quot;, &quot;opacity&quot;: 1.0, &quot;radius&quot;: 46000.0, &quot;stroke&quot;: true, &quot;weight&quot;: 3}\n",
       "            ).addTo(map_01f8206293aa103112e128106147057e);\n",
       "        \n",
       "    \n",
       "            circle_e87d97a6cc371a7e1cc53a21a04135c8.bindTooltip(\n",
       "                `&lt;div&gt;\n",
       "                     &lt;div style=&#x27;margin: 0; background-color: black; color: white;&#x27;&gt;&lt;h4 style=&#x27;text-align:center;font-weight: bold&#x27;&gt;South Sudan&lt;/h4&gt;&lt;hr style=&#x27;margin:10px;color: white;&#x27;&gt;&lt;ul style=&#x27;color: white;;list-style-type:circle;align-item:left;padding-left:20px;padding-right:20px&#x27;&gt;&lt;li&gt;Confirmed: 18350&lt;/li&gt;&lt;li&gt;Deaths:   1361&lt;/li&gt;&lt;li&gt;Death Rate: 7.42&lt;/li&gt;&lt;/ul&gt;&lt;/div&gt;\n",
       "                 &lt;/div&gt;`,\n",
       "                {&quot;sticky&quot;: true}\n",
       "            );\n",
       "        \n",
       "    \n",
       "            var circle_3e78e7300183f4289660b5c3b15d896c = L.circle(\n",
       "                [40.463667, -3.74922],\n",
       "                {&quot;bubblingMouseEvents&quot;: true, &quot;color&quot;: &quot;red&quot;, &quot;dashArray&quot;: null, &quot;dashOffset&quot;: null, &quot;fill&quot;: true, &quot;fillColor&quot;: &quot;indigo&quot;, &quot;fillOpacity&quot;: 0.2, &quot;fillRule&quot;: &quot;evenodd&quot;, &quot;lineCap&quot;: &quot;round&quot;, &quot;lineJoin&quot;: &quot;round&quot;, &quot;opacity&quot;: 1.0, &quot;radius&quot;: 81000.0, &quot;stroke&quot;: true, &quot;weight&quot;: 3}\n",
       "            ).addTo(map_01f8206293aa103112e128106147057e);\n",
       "        \n",
       "    \n",
       "            circle_3e78e7300183f4289660b5c3b15d896c.bindTooltip(\n",
       "                `&lt;div&gt;\n",
       "                     &lt;div style=&#x27;margin: 0; background-color: black; color: white;&#x27;&gt;&lt;h4 style=&#x27;text-align:center;font-weight: bold&#x27;&gt;Spain&lt;/h4&gt;&lt;hr style=&#x27;margin:10px;color: white;&#x27;&gt;&lt;ul style=&#x27;color: white;;list-style-type:circle;align-item:left;padding-left:20px;padding-right:20px&#x27;&gt;&lt;li&gt;Confirmed: 13595504&lt;/li&gt;&lt;li&gt;Deaths:   102428&lt;/li&gt;&lt;li&gt;Death Rate: 0.75&lt;/li&gt;&lt;/ul&gt;&lt;/div&gt;\n",
       "                 &lt;/div&gt;`,\n",
       "                {&quot;sticky&quot;: true}\n",
       "            );\n",
       "        \n",
       "    \n",
       "            var circle_63784f83633b304a8fab797500d41235 = L.circle(\n",
       "                [7.873054, 80.771797],\n",
       "                {&quot;bubblingMouseEvents&quot;: true, &quot;color&quot;: &quot;red&quot;, &quot;dashArray&quot;: null, &quot;dashOffset&quot;: null, &quot;fill&quot;: true, &quot;fillColor&quot;: &quot;indigo&quot;, &quot;fillOpacity&quot;: 0.2, &quot;fillRule&quot;: &quot;evenodd&quot;, &quot;lineCap&quot;: &quot;round&quot;, &quot;lineJoin&quot;: &quot;round&quot;, &quot;opacity&quot;: 1.0, &quot;radius&quot;: 66000.0, &quot;stroke&quot;: true, &quot;weight&quot;: 3}\n",
       "            ).addTo(map_01f8206293aa103112e128106147057e);\n",
       "        \n",
       "    \n",
       "            circle_63784f83633b304a8fab797500d41235.bindTooltip(\n",
       "                `&lt;div&gt;\n",
       "                     &lt;div style=&#x27;margin: 0; background-color: black; color: white;&#x27;&gt;&lt;h4 style=&#x27;text-align:center;font-weight: bold&#x27;&gt;Sri Lanka&lt;/h4&gt;&lt;hr style=&#x27;margin:10px;color: white;&#x27;&gt;&lt;ul style=&#x27;color: white;;list-style-type:circle;align-item:left;padding-left:20px;padding-right:20px&#x27;&gt;&lt;li&gt;Confirmed: 671682&lt;/li&gt;&lt;li&gt;Deaths:   138&lt;/li&gt;&lt;li&gt;Death Rate: 0.02&lt;/li&gt;&lt;/ul&gt;&lt;/div&gt;\n",
       "                 &lt;/div&gt;`,\n",
       "                {&quot;sticky&quot;: true}\n",
       "            );\n",
       "        \n",
       "    \n",
       "            var circle_ce2c94a7a67ffc8e6f4e011946c0a619 = L.circle(\n",
       "                [12.8628, 30.2176],\n",
       "                {&quot;bubblingMouseEvents&quot;: true, &quot;color&quot;: &quot;red&quot;, &quot;dashArray&quot;: null, &quot;dashOffset&quot;: null, &quot;fill&quot;: true, &quot;fillColor&quot;: &quot;indigo&quot;, &quot;fillOpacity&quot;: 0.2, &quot;fillRule&quot;: &quot;evenodd&quot;, &quot;lineCap&quot;: &quot;round&quot;, &quot;lineJoin&quot;: &quot;round&quot;, &quot;opacity&quot;: 1.0, &quot;radius&quot;: 56000.0, &quot;stroke&quot;: true, &quot;weight&quot;: 3}\n",
       "            ).addTo(map_01f8206293aa103112e128106147057e);\n",
       "        \n",
       "    \n",
       "            circle_ce2c94a7a67ffc8e6f4e011946c0a619.bindTooltip(\n",
       "                `&lt;div&gt;\n",
       "                     &lt;div style=&#x27;margin: 0; background-color: black; color: white;&#x27;&gt;&lt;h4 style=&#x27;text-align:center;font-weight: bold&#x27;&gt;Sudan&lt;/h4&gt;&lt;hr style=&#x27;margin:10px;color: white;&#x27;&gt;&lt;ul style=&#x27;color: white;;list-style-type:circle;align-item:left;padding-left:20px;padding-right:20px&#x27;&gt;&lt;li&gt;Confirmed: 63637&lt;/li&gt;&lt;li&gt;Deaths:   115901&lt;/li&gt;&lt;li&gt;Death Rate: 182.13&lt;/li&gt;&lt;/ul&gt;&lt;/div&gt;\n",
       "                 &lt;/div&gt;`,\n",
       "                {&quot;sticky&quot;: true}\n",
       "            );\n",
       "        \n",
       "    \n",
       "            var circle_964ec654310f6277c24b7ebb9e64a14a = L.circle(\n",
       "                [35.6491, 139.7737],\n",
       "                {&quot;bubblingMouseEvents&quot;: true, &quot;color&quot;: &quot;red&quot;, &quot;dashArray&quot;: null, &quot;dashOffset&quot;: null, &quot;fill&quot;: true, &quot;fillColor&quot;: &quot;indigo&quot;, &quot;fillOpacity&quot;: 0.2, &quot;fillRule&quot;: &quot;evenodd&quot;, &quot;lineCap&quot;: &quot;round&quot;, &quot;lineJoin&quot;: &quot;round&quot;, &quot;opacity&quot;: 1.0, &quot;radius&quot;: 31000.0, &quot;stroke&quot;: true, &quot;weight&quot;: 3}\n",
       "            ).addTo(map_01f8206293aa103112e128106147057e);\n",
       "        \n",
       "    \n",
       "            circle_964ec654310f6277c24b7ebb9e64a14a.bindTooltip(\n",
       "                `&lt;div&gt;\n",
       "                     &lt;div style=&#x27;margin: 0; background-color: black; color: white;&#x27;&gt;&lt;h4 style=&#x27;text-align:center;font-weight: bold&#x27;&gt;Summer Olympics 2020&lt;/h4&gt;&lt;hr style=&#x27;margin:10px;color: white;&#x27;&gt;&lt;ul style=&#x27;color: white;;list-style-type:circle;align-item:left;padding-left:20px;padding-right:20px&#x27;&gt;&lt;li&gt;Confirmed: 865&lt;/li&gt;&lt;li&gt;Deaths:   16803&lt;/li&gt;&lt;li&gt;Death Rate: 1940.3&lt;/li&gt;&lt;/ul&gt;&lt;/div&gt;\n",
       "                 &lt;/div&gt;`,\n",
       "                {&quot;sticky&quot;: true}\n",
       "            );\n",
       "        \n",
       "    \n",
       "            var circle_63d04e97a896cc6534b48cad9dda910b = L.circle(\n",
       "                [3.9193, -56.0278],\n",
       "                {&quot;bubblingMouseEvents&quot;: true, &quot;color&quot;: &quot;red&quot;, &quot;dashArray&quot;: null, &quot;dashOffset&quot;: null, &quot;fill&quot;: true, &quot;fillColor&quot;: &quot;indigo&quot;, &quot;fillOpacity&quot;: 0.2, &quot;fillRule&quot;: &quot;evenodd&quot;, &quot;lineCap&quot;: &quot;round&quot;, &quot;lineJoin&quot;: &quot;round&quot;, &quot;opacity&quot;: 1.0, &quot;radius&quot;: 56000.0, &quot;stroke&quot;: true, &quot;weight&quot;: 3}\n",
       "            ).addTo(map_01f8206293aa103112e128106147057e);\n",
       "        \n",
       "    \n",
       "            circle_63d04e97a896cc6534b48cad9dda910b.bindTooltip(\n",
       "                `&lt;div&gt;\n",
       "                     &lt;div style=&#x27;margin: 0; background-color: black; color: white;&#x27;&gt;&lt;h4 style=&#x27;text-align:center;font-weight: bold&#x27;&gt;Suriname&lt;/h4&gt;&lt;hr style=&#x27;margin:10px;color: white;&#x27;&gt;&lt;ul style=&#x27;color: white;;list-style-type:circle;align-item:left;padding-left:20px;padding-right:20px&#x27;&gt;&lt;li&gt;Confirmed: 81581&lt;/li&gt;&lt;li&gt;Deaths:   4990&lt;/li&gt;&lt;li&gt;Death Rate: 6.12&lt;/li&gt;&lt;/ul&gt;&lt;/div&gt;\n",
       "                 &lt;/div&gt;`,\n",
       "                {&quot;sticky&quot;: true}\n",
       "            );\n",
       "        \n",
       "    \n",
       "            var circle_66b403271b5fb1b6f8300ac582c184b4 = L.circle(\n",
       "                [60.128161, 18.643501],\n",
       "                {&quot;bubblingMouseEvents&quot;: true, &quot;color&quot;: &quot;red&quot;, &quot;dashArray&quot;: null, &quot;dashOffset&quot;: null, &quot;fill&quot;: true, &quot;fillColor&quot;: &quot;indigo&quot;, &quot;fillOpacity&quot;: 0.2, &quot;fillRule&quot;: &quot;evenodd&quot;, &quot;lineCap&quot;: &quot;round&quot;, &quot;lineJoin&quot;: &quot;round&quot;, &quot;opacity&quot;: 1.0, &quot;radius&quot;: 71000.0, &quot;stroke&quot;: true, &quot;weight&quot;: 3}\n",
       "            ).addTo(map_01f8206293aa103112e128106147057e);\n",
       "        \n",
       "    \n",
       "            circle_66b403271b5fb1b6f8300ac582c184b4.bindTooltip(\n",
       "                `&lt;div&gt;\n",
       "                     &lt;div style=&#x27;margin: 0; background-color: black; color: white;&#x27;&gt;&lt;h4 style=&#x27;text-align:center;font-weight: bold&#x27;&gt;Sweden&lt;/h4&gt;&lt;hr style=&#x27;margin:10px;color: white;&#x27;&gt;&lt;ul style=&#x27;color: white;;list-style-type:circle;align-item:left;padding-left:20px;padding-right:20px&#x27;&gt;&lt;li&gt;Confirmed: 2626686&lt;/li&gt;&lt;li&gt;Deaths:   0&lt;/li&gt;&lt;li&gt;Death Rate: 0.0&lt;/li&gt;&lt;/ul&gt;&lt;/div&gt;\n",
       "                 &lt;/div&gt;`,\n",
       "                {&quot;sticky&quot;: true}\n",
       "            );\n",
       "        \n",
       "    \n",
       "            var circle_41ca329a63fafd9a910090fb70d45c15 = L.circle(\n",
       "                [46.8182, 8.2275],\n",
       "                {&quot;bubblingMouseEvents&quot;: true, &quot;color&quot;: &quot;red&quot;, &quot;dashArray&quot;: null, &quot;dashOffset&quot;: null, &quot;fill&quot;: true, &quot;fillColor&quot;: &quot;indigo&quot;, &quot;fillOpacity&quot;: 0.2, &quot;fillRule&quot;: &quot;evenodd&quot;, &quot;lineCap&quot;: &quot;round&quot;, &quot;lineJoin&quot;: &quot;round&quot;, &quot;opacity&quot;: 1.0, &quot;radius&quot;: 76000.0, &quot;stroke&quot;: true, &quot;weight&quot;: 3}\n",
       "            ).addTo(map_01f8206293aa103112e128106147057e);\n",
       "        \n",
       "    \n",
       "            circle_41ca329a63fafd9a910090fb70d45c15.bindTooltip(\n",
       "                `&lt;div&gt;\n",
       "                     &lt;div style=&#x27;margin: 0; background-color: black; color: white;&#x27;&gt;&lt;h4 style=&#x27;text-align:center;font-weight: bold&#x27;&gt;Switzerland&lt;/h4&gt;&lt;hr style=&#x27;margin:10px;color: white;&#x27;&gt;&lt;ul style=&#x27;color: white;;list-style-type:circle;align-item:left;padding-left:20px;padding-right:20px&#x27;&gt;&lt;li&gt;Confirmed: 4337983&lt;/li&gt;&lt;li&gt;Deaths:   1393&lt;/li&gt;&lt;li&gt;Death Rate: 0.03&lt;/li&gt;&lt;/ul&gt;&lt;/div&gt;\n",
       "                 &lt;/div&gt;`,\n",
       "                {&quot;sticky&quot;: true}\n",
       "            );\n",
       "        \n",
       "    \n",
       "            var circle_1dd6494a0fb989899ce9874f704f85e7 = L.circle(\n",
       "                [34.802075, 38.996815],\n",
       "                {&quot;bubblingMouseEvents&quot;: true, &quot;color&quot;: &quot;red&quot;, &quot;dashArray&quot;: null, &quot;dashOffset&quot;: null, &quot;fill&quot;: true, &quot;fillColor&quot;: &quot;indigo&quot;, &quot;fillOpacity&quot;: 0.2, &quot;fillRule&quot;: &quot;evenodd&quot;, &quot;lineCap&quot;: &quot;round&quot;, &quot;lineJoin&quot;: &quot;round&quot;, &quot;opacity&quot;: 1.0, &quot;radius&quot;: 51000.0, &quot;stroke&quot;: true, &quot;weight&quot;: 3}\n",
       "            ).addTo(map_01f8206293aa103112e128106147057e);\n",
       "        \n",
       "    \n",
       "            circle_1dd6494a0fb989899ce9874f704f85e7.bindTooltip(\n",
       "                `&lt;div&gt;\n",
       "                     &lt;div style=&#x27;margin: 0; background-color: black; color: white;&#x27;&gt;&lt;h4 style=&#x27;text-align:center;font-weight: bold&#x27;&gt;Syria&lt;/h4&gt;&lt;hr style=&#x27;margin:10px;color: white;&#x27;&gt;&lt;ul style=&#x27;color: white;;list-style-type:circle;align-item:left;padding-left:20px;padding-right:20px&#x27;&gt;&lt;li&gt;Confirmed: 57399&lt;/li&gt;&lt;li&gt;Deaths:   21034&lt;/li&gt;&lt;li&gt;Death Rate: 36.64&lt;/li&gt;&lt;/ul&gt;&lt;/div&gt;\n",
       "                 &lt;/div&gt;`,\n",
       "                {&quot;sticky&quot;: true}\n",
       "            );\n",
       "        \n",
       "    \n",
       "            var circle_9b5f2fe2c5e1be92828e30304b05a958 = L.circle(\n",
       "                [23.7, 121.0],\n",
       "                {&quot;bubblingMouseEvents&quot;: true, &quot;color&quot;: &quot;red&quot;, &quot;dashArray&quot;: null, &quot;dashOffset&quot;: null, &quot;fill&quot;: true, &quot;fillColor&quot;: &quot;indigo&quot;, &quot;fillOpacity&quot;: 0.2, &quot;fillRule&quot;: &quot;evenodd&quot;, &quot;lineCap&quot;: &quot;round&quot;, &quot;lineJoin&quot;: &quot;round&quot;, &quot;opacity&quot;: 1.0, &quot;radius&quot;: 76000.0, &quot;stroke&quot;: true, &quot;weight&quot;: 3}\n",
       "            ).addTo(map_01f8206293aa103112e128106147057e);\n",
       "        \n",
       "    \n",
       "            circle_9b5f2fe2c5e1be92828e30304b05a958.bindTooltip(\n",
       "                `&lt;div&gt;\n",
       "                     &lt;div style=&#x27;margin: 0; background-color: black; color: white;&#x27;&gt;&lt;h4 style=&#x27;text-align:center;font-weight: bold&#x27;&gt;Taiwan*&lt;/h4&gt;&lt;hr style=&#x27;margin:10px;color: white;&#x27;&gt;&lt;ul style=&#x27;color: white;;list-style-type:circle;align-item:left;padding-left:20px;padding-right:20px&#x27;&gt;&lt;li&gt;Confirmed: 8313366&lt;/li&gt;&lt;li&gt;Deaths:   14137&lt;/li&gt;&lt;li&gt;Death Rate: 0.17&lt;/li&gt;&lt;/ul&gt;&lt;/div&gt;\n",
       "                 &lt;/div&gt;`,\n",
       "                {&quot;sticky&quot;: true}\n",
       "            );\n",
       "        \n",
       "    \n",
       "            var circle_ccee3ec97355e60622894f19c6450edc = L.circle(\n",
       "                [38.861, 71.2761],\n",
       "                {&quot;bubblingMouseEvents&quot;: true, &quot;color&quot;: &quot;red&quot;, &quot;dashArray&quot;: null, &quot;dashOffset&quot;: null, &quot;fill&quot;: true, &quot;fillColor&quot;: &quot;indigo&quot;, &quot;fillOpacity&quot;: 0.2, &quot;fillRule&quot;: &quot;evenodd&quot;, &quot;lineCap&quot;: &quot;round&quot;, &quot;lineJoin&quot;: &quot;round&quot;, &quot;opacity&quot;: 1.0, &quot;radius&quot;: 46000.0, &quot;stroke&quot;: true, &quot;weight&quot;: 3}\n",
       "            ).addTo(map_01f8206293aa103112e128106147057e);\n",
       "        \n",
       "    \n",
       "            circle_ccee3ec97355e60622894f19c6450edc.bindTooltip(\n",
       "                `&lt;div&gt;\n",
       "                     &lt;div style=&#x27;margin: 0; background-color: black; color: white;&#x27;&gt;&lt;h4 style=&#x27;text-align:center;font-weight: bold&#x27;&gt;Tajikistan&lt;/h4&gt;&lt;hr style=&#x27;margin:10px;color: white;&#x27;&gt;&lt;ul style=&#x27;color: white;;list-style-type:circle;align-item:left;padding-left:20px;padding-right:20px&#x27;&gt;&lt;li&gt;Confirmed: 17786&lt;/li&gt;&lt;li&gt;Deaths:   3163&lt;/li&gt;&lt;li&gt;Death Rate: 17.78&lt;/li&gt;&lt;/ul&gt;&lt;/div&gt;\n",
       "                 &lt;/div&gt;`,\n",
       "                {&quot;sticky&quot;: true}\n",
       "            );\n",
       "        \n",
       "    \n",
       "            var circle_1f748ca01deb0c84e2c5900f6613908b = L.circle(\n",
       "                [-6.369028, 34.888822],\n",
       "                {&quot;bubblingMouseEvents&quot;: true, &quot;color&quot;: &quot;red&quot;, &quot;dashArray&quot;: null, &quot;dashOffset&quot;: null, &quot;fill&quot;: true, &quot;fillColor&quot;: &quot;indigo&quot;, &quot;fillOpacity&quot;: 0.2, &quot;fillRule&quot;: &quot;evenodd&quot;, &quot;lineCap&quot;: &quot;round&quot;, &quot;lineJoin&quot;: &quot;round&quot;, &quot;opacity&quot;: 1.0, &quot;radius&quot;: 51000.0, &quot;stroke&quot;: true, &quot;weight&quot;: 3}\n",
       "            ).addTo(map_01f8206293aa103112e128106147057e);\n",
       "        \n",
       "    \n",
       "            circle_1f748ca01deb0c84e2c5900f6613908b.bindTooltip(\n",
       "                `&lt;div&gt;\n",
       "                     &lt;div style=&#x27;margin: 0; background-color: black; color: white;&#x27;&gt;&lt;h4 style=&#x27;text-align:center;font-weight: bold&#x27;&gt;Tanzania&lt;/h4&gt;&lt;hr style=&#x27;margin:10px;color: white;&#x27;&gt;&lt;ul style=&#x27;color: white;;list-style-type:circle;align-item:left;padding-left:20px;padding-right:20px&#x27;&gt;&lt;li&gt;Confirmed: 40656&lt;/li&gt;&lt;li&gt;Deaths:   14334&lt;/li&gt;&lt;li&gt;Death Rate: 35.26&lt;/li&gt;&lt;/ul&gt;&lt;/div&gt;\n",
       "                 &lt;/div&gt;`,\n",
       "                {&quot;sticky&quot;: true}\n",
       "            );\n",
       "        \n",
       "    \n",
       "            var circle_28679204290a2c6bb83d6cedfcb154b3 = L.circle(\n",
       "                [15.870032, 100.992541],\n",
       "                {&quot;bubblingMouseEvents&quot;: true, &quot;color&quot;: &quot;red&quot;, &quot;dashArray&quot;: null, &quot;dashOffset&quot;: null, &quot;fill&quot;: true, &quot;fillColor&quot;: &quot;indigo&quot;, &quot;fillOpacity&quot;: 0.2, &quot;fillRule&quot;: &quot;evenodd&quot;, &quot;lineCap&quot;: &quot;round&quot;, &quot;lineJoin&quot;: &quot;round&quot;, &quot;opacity&quot;: 1.0, &quot;radius&quot;: 76000.0, &quot;stroke&quot;: true, &quot;weight&quot;: 3}\n",
       "            ).addTo(map_01f8206293aa103112e128106147057e);\n",
       "        \n",
       "    \n",
       "            circle_28679204290a2c6bb83d6cedfcb154b3.bindTooltip(\n",
       "                `&lt;div&gt;\n",
       "                     &lt;div style=&#x27;margin: 0; background-color: black; color: white;&#x27;&gt;&lt;h4 style=&#x27;text-align:center;font-weight: bold&#x27;&gt;Thailand&lt;/h4&gt;&lt;hr style=&#x27;margin:10px;color: white;&#x27;&gt;&lt;ul style=&#x27;color: white;;list-style-type:circle;align-item:left;padding-left:20px;padding-right:20px&#x27;&gt;&lt;li&gt;Confirmed: 4707244&lt;/li&gt;&lt;li&gt;Deaths:   125&lt;/li&gt;&lt;li&gt;Death Rate: 0.0&lt;/li&gt;&lt;/ul&gt;&lt;/div&gt;\n",
       "                 &lt;/div&gt;`,\n",
       "                {&quot;sticky&quot;: true}\n",
       "            );\n",
       "        \n",
       "    \n",
       "            var circle_862418fa19f8d1733a28edf9acbd0416 = L.circle(\n",
       "                [-8.874217, 125.727539],\n",
       "                {&quot;bubblingMouseEvents&quot;: true, &quot;color&quot;: &quot;red&quot;, &quot;dashArray&quot;: null, &quot;dashOffset&quot;: null, &quot;fill&quot;: true, &quot;fillColor&quot;: &quot;indigo&quot;, &quot;fillOpacity&quot;: 0.2, &quot;fillRule&quot;: &quot;evenodd&quot;, &quot;lineCap&quot;: &quot;round&quot;, &quot;lineJoin&quot;: &quot;round&quot;, &quot;opacity&quot;: 1.0, &quot;radius&quot;: 51000.0, &quot;stroke&quot;: true, &quot;weight&quot;: 3}\n",
       "            ).addTo(map_01f8206293aa103112e128106147057e);\n",
       "        \n",
       "    \n",
       "            circle_862418fa19f8d1733a28edf9acbd0416.bindTooltip(\n",
       "                `&lt;div&gt;\n",
       "                     &lt;div style=&#x27;margin: 0; background-color: black; color: white;&#x27;&gt;&lt;h4 style=&#x27;text-align:center;font-weight: bold&#x27;&gt;Timor-Leste&lt;/h4&gt;&lt;hr style=&#x27;margin:10px;color: white;&#x27;&gt;&lt;ul style=&#x27;color: white;;list-style-type:circle;align-item:left;padding-left:20px;padding-right:20px&#x27;&gt;&lt;li&gt;Confirmed: 23343&lt;/li&gt;&lt;li&gt;Deaths:   845&lt;/li&gt;&lt;li&gt;Death Rate: 3.62&lt;/li&gt;&lt;/ul&gt;&lt;/div&gt;\n",
       "                 &lt;/div&gt;`,\n",
       "                {&quot;sticky&quot;: true}\n",
       "            );\n",
       "        \n",
       "    \n",
       "            var circle_196b02625325a9be274052fcdee7ef19 = L.circle(\n",
       "                [8.6195, 0.8248],\n",
       "                {&quot;bubblingMouseEvents&quot;: true, &quot;color&quot;: &quot;red&quot;, &quot;dashArray&quot;: null, &quot;dashOffset&quot;: null, &quot;fill&quot;: true, &quot;fillColor&quot;: &quot;indigo&quot;, &quot;fillOpacity&quot;: 0.2, &quot;fillRule&quot;: &quot;evenodd&quot;, &quot;lineCap&quot;: &quot;round&quot;, &quot;lineJoin&quot;: &quot;round&quot;, &quot;opacity&quot;: 1.0, &quot;radius&quot;: 51000.0, &quot;stroke&quot;: true, &quot;weight&quot;: 3}\n",
       "            ).addTo(map_01f8206293aa103112e128106147057e);\n",
       "        \n",
       "    \n",
       "            circle_196b02625325a9be274052fcdee7ef19.bindTooltip(\n",
       "                `&lt;div&gt;\n",
       "                     &lt;div style=&#x27;margin: 0; background-color: black; color: white;&#x27;&gt;&lt;h4 style=&#x27;text-align:center;font-weight: bold&#x27;&gt;Togo&lt;/h4&gt;&lt;hr style=&#x27;margin:10px;color: white;&#x27;&gt;&lt;ul style=&#x27;color: white;;list-style-type:circle;align-item:left;padding-left:20px;padding-right:20px&#x27;&gt;&lt;li&gt;Confirmed: 39328&lt;/li&gt;&lt;li&gt;Deaths:   33180&lt;/li&gt;&lt;li&gt;Death Rate: 84.37&lt;/li&gt;&lt;/ul&gt;&lt;/div&gt;\n",
       "                 &lt;/div&gt;`,\n",
       "                {&quot;sticky&quot;: true}\n",
       "            );\n",
       "        \n",
       "    \n",
       "            var circle_3971a614f7da25b28ae662c952db317c = L.circle(\n",
       "                [-21.179, -175.1982],\n",
       "                {&quot;bubblingMouseEvents&quot;: true, &quot;color&quot;: &quot;red&quot;, &quot;dashArray&quot;: null, &quot;dashOffset&quot;: null, &quot;fill&quot;: true, &quot;fillColor&quot;: &quot;indigo&quot;, &quot;fillOpacity&quot;: 0.2, &quot;fillRule&quot;: &quot;evenodd&quot;, &quot;lineCap&quot;: &quot;round&quot;, &quot;lineJoin&quot;: &quot;round&quot;, &quot;opacity&quot;: 1.0, &quot;radius&quot;: 46000.0, &quot;stroke&quot;: true, &quot;weight&quot;: 3}\n",
       "            ).addTo(map_01f8206293aa103112e128106147057e);\n",
       "        \n",
       "    \n",
       "            circle_3971a614f7da25b28ae662c952db317c.bindTooltip(\n",
       "                `&lt;div&gt;\n",
       "                     &lt;div style=&#x27;margin: 0; background-color: black; color: white;&#x27;&gt;&lt;h4 style=&#x27;text-align:center;font-weight: bold&#x27;&gt;Tonga&lt;/h4&gt;&lt;hr style=&#x27;margin:10px;color: white;&#x27;&gt;&lt;ul style=&#x27;color: white;;list-style-type:circle;align-item:left;padding-left:20px;padding-right:20px&#x27;&gt;&lt;li&gt;Confirmed: 16182&lt;/li&gt;&lt;li&gt;Deaths:   138&lt;/li&gt;&lt;li&gt;Death Rate: 0.85&lt;/li&gt;&lt;/ul&gt;&lt;/div&gt;\n",
       "                 &lt;/div&gt;`,\n",
       "                {&quot;sticky&quot;: true}\n",
       "            );\n",
       "        \n",
       "    \n",
       "            var circle_dd277c84618af21fb7f48a528aede57a = L.circle(\n",
       "                [10.6918, -61.2225],\n",
       "                {&quot;bubblingMouseEvents&quot;: true, &quot;color&quot;: &quot;red&quot;, &quot;dashArray&quot;: null, &quot;dashOffset&quot;: null, &quot;fill&quot;: true, &quot;fillColor&quot;: &quot;indigo&quot;, &quot;fillOpacity&quot;: 0.2, &quot;fillRule&quot;: &quot;evenodd&quot;, &quot;lineCap&quot;: &quot;round&quot;, &quot;lineJoin&quot;: &quot;round&quot;, &quot;opacity&quot;: 1.0, &quot;radius&quot;: 61000.0, &quot;stroke&quot;: true, &quot;weight&quot;: 3}\n",
       "            ).addTo(map_01f8206293aa103112e128106147057e);\n",
       "        \n",
       "    \n",
       "            circle_dd277c84618af21fb7f48a528aede57a.bindTooltip(\n",
       "                `&lt;div&gt;\n",
       "                     &lt;div style=&#x27;margin: 0; background-color: black; color: white;&#x27;&gt;&lt;h4 style=&#x27;text-align:center;font-weight: bold&#x27;&gt;Trinidad and Tobago&lt;/h4&gt;&lt;hr style=&#x27;margin:10px;color: white;&#x27;&gt;&lt;ul style=&#x27;color: white;;list-style-type:circle;align-item:left;padding-left:20px;padding-right:20px&#x27;&gt;&lt;li&gt;Confirmed: 185377&lt;/li&gt;&lt;li&gt;Deaths:   290&lt;/li&gt;&lt;li&gt;Death Rate: 0.16&lt;/li&gt;&lt;/ul&gt;&lt;/div&gt;\n",
       "                 &lt;/div&gt;`,\n",
       "                {&quot;sticky&quot;: true}\n",
       "            );\n",
       "        \n",
       "    \n",
       "            var circle_aca1674987865cb05c5202d25749bdbd = L.circle(\n",
       "                [33.886917, 9.537499],\n",
       "                {&quot;bubblingMouseEvents&quot;: true, &quot;color&quot;: &quot;red&quot;, &quot;dashArray&quot;: null, &quot;dashOffset&quot;: null, &quot;fill&quot;: true, &quot;fillColor&quot;: &quot;indigo&quot;, &quot;fillOpacity&quot;: 0.2, &quot;fillRule&quot;: &quot;evenodd&quot;, &quot;lineCap&quot;: &quot;round&quot;, &quot;lineJoin&quot;: &quot;round&quot;, &quot;opacity&quot;: 1.0, &quot;radius&quot;: 66000.0, &quot;stroke&quot;: true, &quot;weight&quot;: 3}\n",
       "            ).addTo(map_01f8206293aa103112e128106147057e);\n",
       "        \n",
       "    \n",
       "            circle_aca1674987865cb05c5202d25749bdbd.bindTooltip(\n",
       "                `&lt;div&gt;\n",
       "                     &lt;div style=&#x27;margin: 0; background-color: black; color: white;&#x27;&gt;&lt;h4 style=&#x27;text-align:center;font-weight: bold&#x27;&gt;Tunisia&lt;/h4&gt;&lt;hr style=&#x27;margin:10px;color: white;&#x27;&gt;&lt;ul style=&#x27;color: white;;list-style-type:circle;align-item:left;padding-left:20px;padding-right:20px&#x27;&gt;&lt;li&gt;Confirmed: 1147072&lt;/li&gt;&lt;li&gt;Deaths:   12&lt;/li&gt;&lt;li&gt;Death Rate: 0.0&lt;/li&gt;&lt;/ul&gt;&lt;/div&gt;\n",
       "                 &lt;/div&gt;`,\n",
       "                {&quot;sticky&quot;: true}\n",
       "            );\n",
       "        \n",
       "    \n",
       "            var circle_2557e3d5d51614391f1a082b16327b39 = L.circle(\n",
       "                [38.9637, 35.2433],\n",
       "                {&quot;bubblingMouseEvents&quot;: true, &quot;color&quot;: &quot;red&quot;, &quot;dashArray&quot;: null, &quot;dashOffset&quot;: null, &quot;fill&quot;: true, &quot;fillColor&quot;: &quot;indigo&quot;, &quot;fillOpacity&quot;: 0.2, &quot;fillRule&quot;: &quot;evenodd&quot;, &quot;lineCap&quot;: &quot;round&quot;, &quot;lineJoin&quot;: &quot;round&quot;, &quot;opacity&quot;: 1.0, &quot;radius&quot;: 81000.0, &quot;stroke&quot;: true, &quot;weight&quot;: 3}\n",
       "            ).addTo(map_01f8206293aa103112e128106147057e);\n",
       "        \n",
       "    \n",
       "            circle_2557e3d5d51614391f1a082b16327b39.bindTooltip(\n",
       "                `&lt;div&gt;\n",
       "                     &lt;div style=&#x27;margin: 0; background-color: black; color: white;&#x27;&gt;&lt;h4 style=&#x27;text-align:center;font-weight: bold&#x27;&gt;Turkey&lt;/h4&gt;&lt;hr style=&#x27;margin:10px;color: white;&#x27;&gt;&lt;ul style=&#x27;color: white;;list-style-type:circle;align-item:left;padding-left:20px;padding-right:20px&#x27;&gt;&lt;li&gt;Confirmed: 16919638&lt;/li&gt;&lt;li&gt;Deaths:   4267&lt;/li&gt;&lt;li&gt;Death Rate: 0.03&lt;/li&gt;&lt;/ul&gt;&lt;/div&gt;\n",
       "                 &lt;/div&gt;`,\n",
       "                {&quot;sticky&quot;: true}\n",
       "            );\n",
       "        \n",
       "    \n",
       "            var circle_b4c488f2ec4752e99a120f70086d384e = L.circle(\n",
       "                [-7.1095, 177.6493],\n",
       "                {&quot;bubblingMouseEvents&quot;: true, &quot;color&quot;: &quot;red&quot;, &quot;dashArray&quot;: null, &quot;dashOffset&quot;: null, &quot;fill&quot;: true, &quot;fillColor&quot;: &quot;indigo&quot;, &quot;fillOpacity&quot;: 0.2, &quot;fillRule&quot;: &quot;evenodd&quot;, &quot;lineCap&quot;: &quot;round&quot;, &quot;lineJoin&quot;: &quot;round&quot;, &quot;opacity&quot;: 1.0, &quot;radius&quot;: 36000.0, &quot;stroke&quot;: true, &quot;weight&quot;: 3}\n",
       "            ).addTo(map_01f8206293aa103112e128106147057e);\n",
       "        \n",
       "    \n",
       "            circle_b4c488f2ec4752e99a120f70086d384e.bindTooltip(\n",
       "                `&lt;div&gt;\n",
       "                     &lt;div style=&#x27;margin: 0; background-color: black; color: white;&#x27;&gt;&lt;h4 style=&#x27;text-align:center;font-weight: bold&#x27;&gt;Tuvalu&lt;/h4&gt;&lt;hr style=&#x27;margin:10px;color: white;&#x27;&gt;&lt;ul style=&#x27;color: white;;list-style-type:circle;align-item:left;padding-left:20px;padding-right:20px&#x27;&gt;&lt;li&gt;Confirmed: 2805&lt;/li&gt;&lt;li&gt;Deaths:   29268&lt;/li&gt;&lt;li&gt;Death Rate: 1043.05&lt;/li&gt;&lt;/ul&gt;&lt;/div&gt;\n",
       "                 &lt;/div&gt;`,\n",
       "                {&quot;sticky&quot;: true}\n",
       "            );\n",
       "        \n",
       "    \n",
       "            var circle_89ff34ce1d03d222c40a7865f77b2d13 = L.circle(\n",
       "                [40.0, -100.0],\n",
       "                {&quot;bubblingMouseEvents&quot;: true, &quot;color&quot;: &quot;red&quot;, &quot;dashArray&quot;: null, &quot;dashOffset&quot;: null, &quot;fill&quot;: true, &quot;fillColor&quot;: &quot;indigo&quot;, &quot;fillOpacity&quot;: 0.2, &quot;fillRule&quot;: &quot;evenodd&quot;, &quot;lineCap&quot;: &quot;round&quot;, &quot;lineJoin&quot;: &quot;round&quot;, &quot;opacity&quot;: 1.0, &quot;radius&quot;: 91000.0, &quot;stroke&quot;: true, &quot;weight&quot;: 3}\n",
       "            ).addTo(map_01f8206293aa103112e128106147057e);\n",
       "        \n",
       "    \n",
       "            circle_89ff34ce1d03d222c40a7865f77b2d13.bindTooltip(\n",
       "                `&lt;div&gt;\n",
       "                     &lt;div style=&#x27;margin: 0; background-color: black; color: white;&#x27;&gt;&lt;h4 style=&#x27;text-align:center;font-weight: bold&#x27;&gt;US&lt;/h4&gt;&lt;hr style=&#x27;margin:10px;color: white;&#x27;&gt;&lt;ul style=&#x27;color: white;;list-style-type:circle;align-item:left;padding-left:20px;padding-right:20px&#x27;&gt;&lt;li&gt;Confirmed: 98788140&lt;/li&gt;&lt;li&gt;Deaths:   101203&lt;/li&gt;&lt;li&gt;Death Rate: 0.1&lt;/li&gt;&lt;/ul&gt;&lt;/div&gt;\n",
       "                 &lt;/div&gt;`,\n",
       "                {&quot;sticky&quot;: true}\n",
       "            );\n",
       "        \n",
       "    \n",
       "            var circle_5fc4c9b7b3df68be4757deca53308d98 = L.circle(\n",
       "                [1.373333, 32.290275],\n",
       "                {&quot;bubblingMouseEvents&quot;: true, &quot;color&quot;: &quot;red&quot;, &quot;dashArray&quot;: null, &quot;dashOffset&quot;: null, &quot;fill&quot;: true, &quot;fillColor&quot;: &quot;indigo&quot;, &quot;fillOpacity&quot;: 0.2, &quot;fillRule&quot;: &quot;evenodd&quot;, &quot;lineCap&quot;: &quot;round&quot;, &quot;lineJoin&quot;: &quot;round&quot;, &quot;opacity&quot;: 1.0, &quot;radius&quot;: 61000.0, &quot;stroke&quot;: true, &quot;weight&quot;: 3}\n",
       "            ).addTo(map_01f8206293aa103112e128106147057e);\n",
       "        \n",
       "    \n",
       "            circle_5fc4c9b7b3df68be4757deca53308d98.bindTooltip(\n",
       "                `&lt;div&gt;\n",
       "                     &lt;div style=&#x27;margin: 0; background-color: black; color: white;&#x27;&gt;&lt;h4 style=&#x27;text-align:center;font-weight: bold&#x27;&gt;Uganda&lt;/h4&gt;&lt;hr style=&#x27;margin:10px;color: white;&#x27;&gt;&lt;ul style=&#x27;color: white;;list-style-type:circle;align-item:left;padding-left:20px;padding-right:20px&#x27;&gt;&lt;li&gt;Confirmed: 169733&lt;/li&gt;&lt;li&gt;Deaths:   0&lt;/li&gt;&lt;li&gt;Death Rate: 0.0&lt;/li&gt;&lt;/ul&gt;&lt;/div&gt;\n",
       "                 &lt;/div&gt;`,\n",
       "                {&quot;sticky&quot;: true}\n",
       "            );\n",
       "        \n",
       "    \n",
       "            var circle_83b3352102eff818c127155b9f9ec440 = L.circle(\n",
       "                [48.3794, 31.1656],\n",
       "                {&quot;bubblingMouseEvents&quot;: true, &quot;color&quot;: &quot;red&quot;, &quot;dashArray&quot;: null, &quot;dashOffset&quot;: null, &quot;fill&quot;: true, &quot;fillColor&quot;: &quot;indigo&quot;, &quot;fillOpacity&quot;: 0.2, &quot;fillRule&quot;: &quot;evenodd&quot;, &quot;lineCap&quot;: &quot;round&quot;, &quot;lineJoin&quot;: &quot;round&quot;, &quot;opacity&quot;: 1.0, &quot;radius&quot;: 76000.0, &quot;stroke&quot;: true, &quot;weight&quot;: 3}\n",
       "            ).addTo(map_01f8206293aa103112e128106147057e);\n",
       "        \n",
       "    \n",
       "            circle_83b3352102eff818c127155b9f9ec440.bindTooltip(\n",
       "                `&lt;div&gt;\n",
       "                     &lt;div style=&#x27;margin: 0; background-color: black; color: white;&#x27;&gt;&lt;h4 style=&#x27;text-align:center;font-weight: bold&#x27;&gt;Ukraine&lt;/h4&gt;&lt;hr style=&#x27;margin:10px;color: white;&#x27;&gt;&lt;ul style=&#x27;color: white;;list-style-type:circle;align-item:left;padding-left:20px;padding-right:20px&#x27;&gt;&lt;li&gt;Confirmed: 5642645&lt;/li&gt;&lt;li&gt;Deaths:   1080444&lt;/li&gt;&lt;li&gt;Death Rate: 19.15&lt;/li&gt;&lt;/ul&gt;&lt;/div&gt;\n",
       "                 &lt;/div&gt;`,\n",
       "                {&quot;sticky&quot;: true}\n",
       "            );\n",
       "        \n",
       "    \n",
       "            var circle_e0f5d6ddb07937eedc76c41d02ca0878 = L.circle(\n",
       "                [23.424076, 53.847818],\n",
       "                {&quot;bubblingMouseEvents&quot;: true, &quot;color&quot;: &quot;red&quot;, &quot;dashArray&quot;: null, &quot;dashOffset&quot;: null, &quot;fill&quot;: true, &quot;fillColor&quot;: &quot;indigo&quot;, &quot;fillOpacity&quot;: 0.2, &quot;fillRule&quot;: &quot;evenodd&quot;, &quot;lineCap&quot;: &quot;round&quot;, &quot;lineJoin&quot;: &quot;round&quot;, &quot;opacity&quot;: 1.0, &quot;radius&quot;: 66000.0, &quot;stroke&quot;: true, &quot;weight&quot;: 3}\n",
       "            ).addTo(map_01f8206293aa103112e128106147057e);\n",
       "        \n",
       "    \n",
       "            circle_e0f5d6ddb07937eedc76c41d02ca0878.bindTooltip(\n",
       "                `&lt;div&gt;\n",
       "                     &lt;div style=&#x27;margin: 0; background-color: black; color: white;&#x27;&gt;&lt;h4 style=&#x27;text-align:center;font-weight: bold&#x27;&gt;United Arab Emirates&lt;/h4&gt;&lt;hr style=&#x27;margin:10px;color: white;&#x27;&gt;&lt;ul style=&#x27;color: white;;list-style-type:circle;align-item:left;padding-left:20px;padding-right:20px&#x27;&gt;&lt;li&gt;Confirmed: 1044343&lt;/li&gt;&lt;li&gt;Deaths:   3630&lt;/li&gt;&lt;li&gt;Death Rate: 0.35&lt;/li&gt;&lt;/ul&gt;&lt;/div&gt;\n",
       "                 &lt;/div&gt;`,\n",
       "                {&quot;sticky&quot;: true}\n",
       "            );\n",
       "        \n",
       "    \n",
       "            var circle_719b37e673cd11e3054892ce2de44fac = L.circle(\n",
       "                [18.2206, -63.0686],\n",
       "                {&quot;bubblingMouseEvents&quot;: true, &quot;color&quot;: &quot;red&quot;, &quot;dashArray&quot;: null, &quot;dashOffset&quot;: null, &quot;fill&quot;: true, &quot;fillColor&quot;: &quot;indigo&quot;, &quot;fillOpacity&quot;: 0.2, &quot;fillRule&quot;: &quot;evenodd&quot;, &quot;lineCap&quot;: &quot;round&quot;, &quot;lineJoin&quot;: &quot;round&quot;, &quot;opacity&quot;: 1.0, &quot;radius&quot;: 41000.0, &quot;stroke&quot;: true, &quot;weight&quot;: 3}\n",
       "            ).addTo(map_01f8206293aa103112e128106147057e);\n",
       "        \n",
       "    \n",
       "            circle_719b37e673cd11e3054892ce2de44fac.bindTooltip(\n",
       "                `&lt;div&gt;\n",
       "                     &lt;div style=&#x27;margin: 0; background-color: black; color: white;&#x27;&gt;&lt;h4 style=&#x27;text-align:center;font-weight: bold&#x27;&gt;United Kingdom&lt;/h4&gt;&lt;hr style=&#x27;margin:10px;color: white;&#x27;&gt;&lt;ul style=&#x27;color: white;;list-style-type:circle;align-item:left;padding-left:20px;padding-right:20px&#x27;&gt;&lt;li&gt;Confirmed: 3904&lt;/li&gt;&lt;li&gt;Deaths:   118404&lt;/li&gt;&lt;li&gt;Death Rate: 3032.11&lt;/li&gt;&lt;/ul&gt;&lt;/div&gt;\n",
       "                 &lt;/div&gt;`,\n",
       "                {&quot;sticky&quot;: true}\n",
       "            );\n",
       "        \n",
       "    \n",
       "            var circle_2932099c3731e498b22f6ba029584462 = L.circle(\n",
       "                [32.3078, -64.7505],\n",
       "                {&quot;bubblingMouseEvents&quot;: true, &quot;color&quot;: &quot;red&quot;, &quot;dashArray&quot;: null, &quot;dashOffset&quot;: null, &quot;fill&quot;: true, &quot;fillColor&quot;: &quot;indigo&quot;, &quot;fillOpacity&quot;: 0.2, &quot;fillRule&quot;: &quot;evenodd&quot;, &quot;lineCap&quot;: &quot;round&quot;, &quot;lineJoin&quot;: &quot;round&quot;, &quot;opacity&quot;: 1.0, &quot;radius&quot;: 46000.0, &quot;stroke&quot;: true, &quot;weight&quot;: 3}\n",
       "            ).addTo(map_01f8206293aa103112e128106147057e);\n",
       "        \n",
       "    \n",
       "            circle_2932099c3731e498b22f6ba029584462.bindTooltip(\n",
       "                `&lt;div&gt;\n",
       "                     &lt;div style=&#x27;margin: 0; background-color: black; color: white;&#x27;&gt;&lt;h4 style=&#x27;text-align:center;font-weight: bold&#x27;&gt;United Kingdom&lt;/h4&gt;&lt;hr style=&#x27;margin:10px;color: white;&#x27;&gt;&lt;ul style=&#x27;color: white;;list-style-type:circle;align-item:left;padding-left:20px;padding-right:20px&#x27;&gt;&lt;li&gt;Confirmed: 18463&lt;/li&gt;&lt;li&gt;Deaths:   2348&lt;/li&gt;&lt;li&gt;Death Rate: 12.72&lt;/li&gt;&lt;/ul&gt;&lt;/div&gt;\n",
       "                 &lt;/div&gt;`,\n",
       "                {&quot;sticky&quot;: true}\n",
       "            );\n",
       "        \n",
       "    \n",
       "            var circle_b49daf15a5725e8ca8998a111ad10d88 = L.circle(\n",
       "                [18.4207, -64.64],\n",
       "                {&quot;bubblingMouseEvents&quot;: true, &quot;color&quot;: &quot;red&quot;, &quot;dashArray&quot;: null, &quot;dashOffset&quot;: null, &quot;fill&quot;: true, &quot;fillColor&quot;: &quot;indigo&quot;, &quot;fillOpacity&quot;: 0.2, &quot;fillRule&quot;: &quot;evenodd&quot;, &quot;lineCap&quot;: &quot;round&quot;, &quot;lineJoin&quot;: &quot;round&quot;, &quot;opacity&quot;: 1.0, &quot;radius&quot;: 41000.0, &quot;stroke&quot;: true, &quot;weight&quot;: 3}\n",
       "            ).addTo(map_01f8206293aa103112e128106147057e);\n",
       "        \n",
       "    \n",
       "            circle_b49daf15a5725e8ca8998a111ad10d88.bindTooltip(\n",
       "                `&lt;div&gt;\n",
       "                     &lt;div style=&#x27;margin: 0; background-color: black; color: white;&#x27;&gt;&lt;h4 style=&#x27;text-align:center;font-weight: bold&#x27;&gt;United Kingdom&lt;/h4&gt;&lt;hr style=&#x27;margin:10px;color: white;&#x27;&gt;&lt;ul style=&#x27;color: white;;list-style-type:circle;align-item:left;padding-left:20px;padding-right:20px&#x27;&gt;&lt;li&gt;Confirmed: 7305&lt;/li&gt;&lt;li&gt;Deaths:   12&lt;/li&gt;&lt;li&gt;Death Rate: 0.16&lt;/li&gt;&lt;/ul&gt;&lt;/div&gt;\n",
       "                 &lt;/div&gt;`,\n",
       "                {&quot;sticky&quot;: true}\n",
       "            );\n",
       "        \n",
       "    \n",
       "            var circle_aa803c6e8541a951110ba14acb9a7c1e = L.circle(\n",
       "                [19.3133, -81.2546],\n",
       "                {&quot;bubblingMouseEvents&quot;: true, &quot;color&quot;: &quot;red&quot;, &quot;dashArray&quot;: null, &quot;dashOffset&quot;: null, &quot;fill&quot;: true, &quot;fillColor&quot;: &quot;indigo&quot;, &quot;fillOpacity&quot;: 0.2, &quot;fillRule&quot;: &quot;evenodd&quot;, &quot;lineCap&quot;: &quot;round&quot;, &quot;lineJoin&quot;: &quot;round&quot;, &quot;opacity&quot;: 1.0, &quot;radius&quot;: 51000.0, &quot;stroke&quot;: true, &quot;weight&quot;: 3}\n",
       "            ).addTo(map_01f8206293aa103112e128106147057e);\n",
       "        \n",
       "    \n",
       "            circle_aa803c6e8541a951110ba14acb9a7c1e.bindTooltip(\n",
       "                `&lt;div&gt;\n",
       "                     &lt;div style=&#x27;margin: 0; background-color: black; color: white;&#x27;&gt;&lt;h4 style=&#x27;text-align:center;font-weight: bold&#x27;&gt;United Kingdom&lt;/h4&gt;&lt;hr style=&#x27;margin:10px;color: white;&#x27;&gt;&lt;ul style=&#x27;color: white;;list-style-type:circle;align-item:left;padding-left:20px;padding-right:20px&#x27;&gt;&lt;li&gt;Confirmed: 31359&lt;/li&gt;&lt;li&gt;Deaths:   151&lt;/li&gt;&lt;li&gt;Death Rate: 0.48&lt;/li&gt;&lt;/ul&gt;&lt;/div&gt;\n",
       "                 &lt;/div&gt;`,\n",
       "                {&quot;sticky&quot;: true}\n",
       "            );\n",
       "        \n",
       "    \n",
       "            var circle_515a318953392d696081728423fdc75e = L.circle(\n",
       "                [49.3723, -2.3644],\n",
       "                {&quot;bubblingMouseEvents&quot;: true, &quot;color&quot;: &quot;red&quot;, &quot;dashArray&quot;: null, &quot;dashOffset&quot;: null, &quot;fill&quot;: true, &quot;fillColor&quot;: &quot;indigo&quot;, &quot;fillOpacity&quot;: 0.2, &quot;fillRule&quot;: &quot;evenodd&quot;, &quot;lineCap&quot;: &quot;round&quot;, &quot;lineJoin&quot;: &quot;round&quot;, &quot;opacity&quot;: 1.0, &quot;radius&quot;: 1000.0, &quot;stroke&quot;: true, &quot;weight&quot;: 3}\n",
       "            ).addTo(map_01f8206293aa103112e128106147057e);\n",
       "        \n",
       "    \n",
       "            circle_515a318953392d696081728423fdc75e.bindTooltip(\n",
       "                `&lt;div&gt;\n",
       "                     &lt;div style=&#x27;margin: 0; background-color: black; color: white;&#x27;&gt;&lt;h4 style=&#x27;text-align:center;font-weight: bold&#x27;&gt;United Kingdom&lt;/h4&gt;&lt;hr style=&#x27;margin:10px;color: white;&#x27;&gt;&lt;ul style=&#x27;color: white;;list-style-type:circle;align-item:left;padding-left:20px;padding-right:20px&#x27;&gt;&lt;li&gt;Confirmed: 0&lt;/li&gt;&lt;li&gt;Deaths:   64&lt;/li&gt;&lt;li&gt;Death Rate: 6399.94&lt;/li&gt;&lt;/ul&gt;&lt;/div&gt;\n",
       "                 &lt;/div&gt;`,\n",
       "                {&quot;sticky&quot;: true}\n",
       "            );\n",
       "        \n",
       "    \n",
       "            var circle_d4a383fb856ef01e839b686d14c5a391 = L.circle(\n",
       "                [-51.7963, -59.5236],\n",
       "                {&quot;bubblingMouseEvents&quot;: true, &quot;color&quot;: &quot;red&quot;, &quot;dashArray&quot;: null, &quot;dashOffset&quot;: null, &quot;fill&quot;: true, &quot;fillColor&quot;: &quot;indigo&quot;, &quot;fillOpacity&quot;: 0.2, &quot;fillRule&quot;: &quot;evenodd&quot;, &quot;lineCap&quot;: &quot;round&quot;, &quot;lineJoin&quot;: &quot;round&quot;, &quot;opacity&quot;: 1.0, &quot;radius&quot;: 36000.0, &quot;stroke&quot;: true, &quot;weight&quot;: 3}\n",
       "            ).addTo(map_01f8206293aa103112e128106147057e);\n",
       "        \n",
       "    \n",
       "            circle_d4a383fb856ef01e839b686d14c5a391.bindTooltip(\n",
       "                `&lt;div&gt;\n",
       "                     &lt;div style=&#x27;margin: 0; background-color: black; color: white;&#x27;&gt;&lt;h4 style=&#x27;text-align:center;font-weight: bold&#x27;&gt;United Kingdom&lt;/h4&gt;&lt;hr style=&#x27;margin:10px;color: white;&#x27;&gt;&lt;ul style=&#x27;color: white;;list-style-type:circle;align-item:left;padding-left:20px;padding-right:20px&#x27;&gt;&lt;li&gt;Confirmed: 1930&lt;/li&gt;&lt;li&gt;Deaths:   36&lt;/li&gt;&lt;li&gt;Death Rate: 1.86&lt;/li&gt;&lt;/ul&gt;&lt;/div&gt;\n",
       "                 &lt;/div&gt;`,\n",
       "                {&quot;sticky&quot;: true}\n",
       "            );\n",
       "        \n",
       "    \n",
       "            var circle_8bc17eb243976bc1cfc6e0eb3af5b2f5 = L.circle(\n",
       "                [36.1408, -5.3536],\n",
       "                {&quot;bubblingMouseEvents&quot;: true, &quot;color&quot;: &quot;red&quot;, &quot;dashArray&quot;: null, &quot;dashOffset&quot;: null, &quot;fill&quot;: true, &quot;fillColor&quot;: &quot;indigo&quot;, &quot;fillOpacity&quot;: 0.2, &quot;fillRule&quot;: &quot;evenodd&quot;, &quot;lineCap&quot;: &quot;round&quot;, &quot;lineJoin&quot;: &quot;round&quot;, &quot;opacity&quot;: 1.0, &quot;radius&quot;: 46000.0, &quot;stroke&quot;: true, &quot;weight&quot;: 3}\n",
       "            ).addTo(map_01f8206293aa103112e128106147057e);\n",
       "        \n",
       "    \n",
       "            circle_8bc17eb243976bc1cfc6e0eb3af5b2f5.bindTooltip(\n",
       "                `&lt;div&gt;\n",
       "                     &lt;div style=&#x27;margin: 0; background-color: black; color: white;&#x27;&gt;&lt;h4 style=&#x27;text-align:center;font-weight: bold&#x27;&gt;United Kingdom&lt;/h4&gt;&lt;hr style=&#x27;margin:10px;color: white;&#x27;&gt;&lt;ul style=&#x27;color: white;;list-style-type:circle;align-item:left;padding-left:20px;padding-right:20px&#x27;&gt;&lt;li&gt;Confirmed: 20184&lt;/li&gt;&lt;li&gt;Deaths:   0&lt;/li&gt;&lt;li&gt;Death Rate: 0.0&lt;/li&gt;&lt;/ul&gt;&lt;/div&gt;\n",
       "                 &lt;/div&gt;`,\n",
       "                {&quot;sticky&quot;: true}\n",
       "            );\n",
       "        \n",
       "    \n",
       "            var circle_b8dedf987e7f809947ce9518d710832f = L.circle(\n",
       "                [49.448196, -2.58949],\n",
       "                {&quot;bubblingMouseEvents&quot;: true, &quot;color&quot;: &quot;red&quot;, &quot;dashArray&quot;: null, &quot;dashOffset&quot;: null, &quot;fill&quot;: true, &quot;fillColor&quot;: &quot;indigo&quot;, &quot;fillOpacity&quot;: 0.2, &quot;fillRule&quot;: &quot;evenodd&quot;, &quot;lineCap&quot;: &quot;round&quot;, &quot;lineJoin&quot;: &quot;round&quot;, &quot;opacity&quot;: 1.0, &quot;radius&quot;: 51000.0, &quot;stroke&quot;: true, &quot;weight&quot;: 3}\n",
       "            ).addTo(map_01f8206293aa103112e128106147057e);\n",
       "        \n",
       "    \n",
       "            circle_b8dedf987e7f809947ce9518d710832f.bindTooltip(\n",
       "                `&lt;div&gt;\n",
       "                     &lt;div style=&#x27;margin: 0; background-color: black; color: white;&#x27;&gt;&lt;h4 style=&#x27;text-align:center;font-weight: bold&#x27;&gt;United Kingdom&lt;/h4&gt;&lt;hr style=&#x27;margin:10px;color: white;&#x27;&gt;&lt;ul style=&#x27;color: white;;list-style-type:circle;align-item:left;padding-left:20px;padding-right:20px&#x27;&gt;&lt;li&gt;Confirmed: 32900&lt;/li&gt;&lt;li&gt;Deaths:   0&lt;/li&gt;&lt;li&gt;Death Rate: 0.0&lt;/li&gt;&lt;/ul&gt;&lt;/div&gt;\n",
       "                 &lt;/div&gt;`,\n",
       "                {&quot;sticky&quot;: true}\n",
       "            );\n",
       "        \n",
       "    \n",
       "            var circle_4023fb495a8658147f49178ebde216a2 = L.circle(\n",
       "                [54.2361, -4.5481],\n",
       "                {&quot;bubblingMouseEvents&quot;: true, &quot;color&quot;: &quot;red&quot;, &quot;dashArray&quot;: null, &quot;dashOffset&quot;: null, &quot;fill&quot;: true, &quot;fillColor&quot;: &quot;indigo&quot;, &quot;fillOpacity&quot;: 0.2, &quot;fillRule&quot;: &quot;evenodd&quot;, &quot;lineCap&quot;: &quot;round&quot;, &quot;lineJoin&quot;: &quot;round&quot;, &quot;opacity&quot;: 1.0, &quot;radius&quot;: 51000.0, &quot;stroke&quot;: true, &quot;weight&quot;: 3}\n",
       "            ).addTo(map_01f8206293aa103112e128106147057e);\n",
       "        \n",
       "    \n",
       "            circle_4023fb495a8658147f49178ebde216a2.bindTooltip(\n",
       "                `&lt;div&gt;\n",
       "                     &lt;div style=&#x27;margin: 0; background-color: black; color: white;&#x27;&gt;&lt;h4 style=&#x27;text-align:center;font-weight: bold&#x27;&gt;United Kingdom&lt;/h4&gt;&lt;hr style=&#x27;margin:10px;color: white;&#x27;&gt;&lt;ul style=&#x27;color: white;;list-style-type:circle;align-item:left;padding-left:20px;padding-right:20px&#x27;&gt;&lt;li&gt;Confirmed: 38008&lt;/li&gt;&lt;li&gt;Deaths:   110&lt;/li&gt;&lt;li&gt;Death Rate: 0.29&lt;/li&gt;&lt;/ul&gt;&lt;/div&gt;\n",
       "                 &lt;/div&gt;`,\n",
       "                {&quot;sticky&quot;: true}\n",
       "            );\n",
       "        \n",
       "    \n",
       "            var circle_e4edda4d324739344bb4526113f79dde = L.circle(\n",
       "                [49.2138, -2.1358],\n",
       "                {&quot;bubblingMouseEvents&quot;: true, &quot;color&quot;: &quot;red&quot;, &quot;dashArray&quot;: null, &quot;dashOffset&quot;: null, &quot;fill&quot;: true, &quot;fillColor&quot;: &quot;indigo&quot;, &quot;fillOpacity&quot;: 0.2, &quot;fillRule&quot;: &quot;evenodd&quot;, &quot;lineCap&quot;: &quot;round&quot;, &quot;lineJoin&quot;: &quot;round&quot;, &quot;opacity&quot;: 1.0, &quot;radius&quot;: 56000.0, &quot;stroke&quot;: true, &quot;weight&quot;: 3}\n",
       "            ).addTo(map_01f8206293aa103112e128106147057e);\n",
       "        \n",
       "    \n",
       "            circle_e4edda4d324739344bb4526113f79dde.bindTooltip(\n",
       "                `&lt;div&gt;\n",
       "                     &lt;div style=&#x27;margin: 0; background-color: black; color: white;&#x27;&gt;&lt;h4 style=&#x27;text-align:center;font-weight: bold&#x27;&gt;United Kingdom&lt;/h4&gt;&lt;hr style=&#x27;margin:10px;color: white;&#x27;&gt;&lt;ul style=&#x27;color: white;;list-style-type:circle;align-item:left;padding-left:20px;padding-right:20px&#x27;&gt;&lt;li&gt;Confirmed: 62826&lt;/li&gt;&lt;li&gt;Deaths:   65&lt;/li&gt;&lt;li&gt;Death Rate: 0.1&lt;/li&gt;&lt;/ul&gt;&lt;/div&gt;\n",
       "                 &lt;/div&gt;`,\n",
       "                {&quot;sticky&quot;: true}\n",
       "            );\n",
       "        \n",
       "    \n",
       "            var circle_257e63b8b1af4eba566a7df68631070d = L.circle(\n",
       "                [16.742498, -62.187366],\n",
       "                {&quot;bubblingMouseEvents&quot;: true, &quot;color&quot;: &quot;red&quot;, &quot;dashArray&quot;: null, &quot;dashOffset&quot;: null, &quot;fill&quot;: true, &quot;fillColor&quot;: &quot;indigo&quot;, &quot;fillOpacity&quot;: 0.2, &quot;fillRule&quot;: &quot;evenodd&quot;, &quot;lineCap&quot;: &quot;round&quot;, &quot;lineJoin&quot;: &quot;round&quot;, &quot;opacity&quot;: 1.0, &quot;radius&quot;: 36000.0, &quot;stroke&quot;: true, &quot;weight&quot;: 3}\n",
       "            ).addTo(map_01f8206293aa103112e128106147057e);\n",
       "        \n",
       "    \n",
       "            circle_257e63b8b1af4eba566a7df68631070d.bindTooltip(\n",
       "                `&lt;div&gt;\n",
       "                     &lt;div style=&#x27;margin: 0; background-color: black; color: white;&#x27;&gt;&lt;h4 style=&#x27;text-align:center;font-weight: bold&#x27;&gt;United Kingdom&lt;/h4&gt;&lt;hr style=&#x27;margin:10px;color: white;&#x27;&gt;&lt;ul style=&#x27;color: white;;list-style-type:circle;align-item:left;padding-left:20px;padding-right:20px&#x27;&gt;&lt;li&gt;Confirmed: 1403&lt;/li&gt;&lt;li&gt;Deaths:   116&lt;/li&gt;&lt;li&gt;Death Rate: 8.26&lt;/li&gt;&lt;/ul&gt;&lt;/div&gt;\n",
       "                 &lt;/div&gt;`,\n",
       "                {&quot;sticky&quot;: true}\n",
       "            );\n",
       "        \n",
       "    \n",
       "            var circle_f0263c56486e6139deca5dde514e2a6f = L.circle(\n",
       "                [-24.3768, -128.3242],\n",
       "                {&quot;bubblingMouseEvents&quot;: true, &quot;color&quot;: &quot;red&quot;, &quot;dashArray&quot;: null, &quot;dashOffset&quot;: null, &quot;fill&quot;: true, &quot;fillColor&quot;: &quot;indigo&quot;, &quot;fillOpacity&quot;: 0.2, &quot;fillRule&quot;: &quot;evenodd&quot;, &quot;lineCap&quot;: &quot;round&quot;, &quot;lineJoin&quot;: &quot;round&quot;, &quot;opacity&quot;: 1.0, &quot;radius&quot;: 6000.0, &quot;stroke&quot;: true, &quot;weight&quot;: 3}\n",
       "            ).addTo(map_01f8206293aa103112e128106147057e);\n",
       "        \n",
       "    \n",
       "            circle_f0263c56486e6139deca5dde514e2a6f.bindTooltip(\n",
       "                `&lt;div&gt;\n",
       "                     &lt;div style=&#x27;margin: 0; background-color: black; color: white;&#x27;&gt;&lt;h4 style=&#x27;text-align:center;font-weight: bold&#x27;&gt;United Kingdom&lt;/h4&gt;&lt;hr style=&#x27;margin:10px;color: white;&#x27;&gt;&lt;ul style=&#x27;color: white;;list-style-type:circle;align-item:left;padding-left:20px;padding-right:20px&#x27;&gt;&lt;li&gt;Confirmed: 4&lt;/li&gt;&lt;li&gt;Deaths:   142&lt;/li&gt;&lt;li&gt;Death Rate: 2839.99&lt;/li&gt;&lt;/ul&gt;&lt;/div&gt;\n",
       "                 &lt;/div&gt;`,\n",
       "                {&quot;sticky&quot;: true}\n",
       "            );\n",
       "        \n",
       "    \n",
       "            var circle_4a61018fe4052497c0b8f5d49ea0a742 = L.circle(\n",
       "                [-7.9467, -14.3559],\n",
       "                {&quot;bubblingMouseEvents&quot;: true, &quot;color&quot;: &quot;red&quot;, &quot;dashArray&quot;: null, &quot;dashOffset&quot;: null, &quot;fill&quot;: true, &quot;fillColor&quot;: &quot;indigo&quot;, &quot;fillOpacity&quot;: 0.2, &quot;fillRule&quot;: &quot;evenodd&quot;, &quot;lineCap&quot;: &quot;round&quot;, &quot;lineJoin&quot;: &quot;round&quot;, &quot;opacity&quot;: 1.0, &quot;radius&quot;: 36000.0, &quot;stroke&quot;: true, &quot;weight&quot;: 3}\n",
       "            ).addTo(map_01f8206293aa103112e128106147057e);\n",
       "        \n",
       "    \n",
       "            circle_4a61018fe4052497c0b8f5d49ea0a742.bindTooltip(\n",
       "                `&lt;div&gt;\n",
       "                     &lt;div style=&#x27;margin: 0; background-color: black; color: white;&#x27;&gt;&lt;h4 style=&#x27;text-align:center;font-weight: bold&#x27;&gt;United Kingdom&lt;/h4&gt;&lt;hr style=&#x27;margin:10px;color: white;&#x27;&gt;&lt;ul style=&#x27;color: white;;list-style-type:circle;align-item:left;padding-left:20px;padding-right:20px&#x27;&gt;&lt;li&gt;Confirmed: 2162&lt;/li&gt;&lt;li&gt;Deaths:   8&lt;/li&gt;&lt;li&gt;Death Rate: 0.37&lt;/li&gt;&lt;/ul&gt;&lt;/div&gt;\n",
       "                 &lt;/div&gt;`,\n",
       "                {&quot;sticky&quot;: true}\n",
       "            );\n",
       "        \n",
       "    \n",
       "            var circle_2fa221fda966483b7bd90aa812b9c0df = L.circle(\n",
       "                [21.694, -71.7979],\n",
       "                {&quot;bubblingMouseEvents&quot;: true, &quot;color&quot;: &quot;red&quot;, &quot;dashArray&quot;: null, &quot;dashOffset&quot;: null, &quot;fill&quot;: true, &quot;fillColor&quot;: &quot;indigo&quot;, &quot;fillOpacity&quot;: 0.2, &quot;fillRule&quot;: &quot;evenodd&quot;, &quot;lineCap&quot;: &quot;round&quot;, &quot;lineJoin&quot;: &quot;round&quot;, &quot;opacity&quot;: 1.0, &quot;radius&quot;: 41000.0, &quot;stroke&quot;: true, &quot;weight&quot;: 3}\n",
       "            ).addTo(map_01f8206293aa103112e128106147057e);\n",
       "        \n",
       "    \n",
       "            circle_2fa221fda966483b7bd90aa812b9c0df.bindTooltip(\n",
       "                `&lt;div&gt;\n",
       "                     &lt;div style=&#x27;margin: 0; background-color: black; color: white;&#x27;&gt;&lt;h4 style=&#x27;text-align:center;font-weight: bold&#x27;&gt;United Kingdom&lt;/h4&gt;&lt;hr style=&#x27;margin:10px;color: white;&#x27;&gt;&lt;ul style=&#x27;color: white;;list-style-type:circle;align-item:left;padding-left:20px;padding-right:20px&#x27;&gt;&lt;li&gt;Confirmed: 6446&lt;/li&gt;&lt;li&gt;Deaths:   0&lt;/li&gt;&lt;li&gt;Death Rate: 0.0&lt;/li&gt;&lt;/ul&gt;&lt;/div&gt;\n",
       "                 &lt;/div&gt;`,\n",
       "                {&quot;sticky&quot;: true}\n",
       "            );\n",
       "        \n",
       "    \n",
       "            var circle_2781bcc1933dc9a8475710e68c71e72b = L.circle(\n",
       "                [55.3781, -3.436],\n",
       "                {&quot;bubblingMouseEvents&quot;: true, &quot;color&quot;: &quot;red&quot;, &quot;dashArray&quot;: null, &quot;dashOffset&quot;: null, &quot;fill&quot;: true, &quot;fillColor&quot;: &quot;indigo&quot;, &quot;fillOpacity&quot;: 0.2, &quot;fillRule&quot;: &quot;evenodd&quot;, &quot;lineCap&quot;: &quot;round&quot;, &quot;lineJoin&quot;: &quot;round&quot;, &quot;opacity&quot;: 1.0, &quot;radius&quot;: 81000.0, &quot;stroke&quot;: true, &quot;weight&quot;: 3}\n",
       "            ).addTo(map_01f8206293aa103112e128106147057e);\n",
       "        \n",
       "    \n",
       "            circle_2781bcc1933dc9a8475710e68c71e72b.bindTooltip(\n",
       "                `&lt;div&gt;\n",
       "                     &lt;div style=&#x27;margin: 0; background-color: black; color: white;&#x27;&gt;&lt;h4 style=&#x27;text-align:center;font-weight: bold&#x27;&gt;United Kingdom&lt;/h4&gt;&lt;hr style=&#x27;margin:10px;color: white;&#x27;&gt;&lt;ul style=&#x27;color: white;;list-style-type:circle;align-item:left;padding-left:20px;padding-right:20px&#x27;&gt;&lt;li&gt;Confirmed: 23998168&lt;/li&gt;&lt;li&gt;Deaths:   0&lt;/li&gt;&lt;li&gt;Death Rate: 0.0&lt;/li&gt;&lt;/ul&gt;&lt;/div&gt;\n",
       "                 &lt;/div&gt;`,\n",
       "                {&quot;sticky&quot;: true}\n",
       "            );\n",
       "        \n",
       "    \n",
       "            var circle_c5150f9ea2e483212be9f75d386eaa0f = L.circle(\n",
       "                [-32.5228, -55.7658],\n",
       "                {&quot;bubblingMouseEvents&quot;: true, &quot;color&quot;: &quot;red&quot;, &quot;dashArray&quot;: null, &quot;dashOffset&quot;: null, &quot;fill&quot;: true, &quot;fillColor&quot;: &quot;indigo&quot;, &quot;fillOpacity&quot;: 0.2, &quot;fillRule&quot;: &quot;evenodd&quot;, &quot;lineCap&quot;: &quot;round&quot;, &quot;lineJoin&quot;: &quot;round&quot;, &quot;opacity&quot;: 1.0, &quot;radius&quot;: 66000.0, &quot;stroke&quot;: true, &quot;weight&quot;: 3}\n",
       "            ).addTo(map_01f8206293aa103112e128106147057e);\n",
       "        \n",
       "    \n",
       "            circle_c5150f9ea2e483212be9f75d386eaa0f.bindTooltip(\n",
       "                `&lt;div&gt;\n",
       "                     &lt;div style=&#x27;margin: 0; background-color: black; color: white;&#x27;&gt;&lt;h4 style=&#x27;text-align:center;font-weight: bold&#x27;&gt;Uruguay&lt;/h4&gt;&lt;hr style=&#x27;margin:10px;color: white;&#x27;&gt;&lt;ul style=&#x27;color: white;;list-style-type:circle;align-item:left;padding-left:20px;padding-right:20px&#x27;&gt;&lt;li&gt;Confirmed: 993875&lt;/li&gt;&lt;li&gt;Deaths:   36&lt;/li&gt;&lt;li&gt;Death Rate: 0.0&lt;/li&gt;&lt;/ul&gt;&lt;/div&gt;\n",
       "                 &lt;/div&gt;`,\n",
       "                {&quot;sticky&quot;: true}\n",
       "            );\n",
       "        \n",
       "    \n",
       "            var circle_5d8f34c428c77487c27aed8738c2d268 = L.circle(\n",
       "                [41.377491, 64.585262],\n",
       "                {&quot;bubblingMouseEvents&quot;: true, &quot;color&quot;: &quot;red&quot;, &quot;dashArray&quot;: null, &quot;dashOffset&quot;: null, &quot;fill&quot;: true, &quot;fillColor&quot;: &quot;indigo&quot;, &quot;fillOpacity&quot;: 0.2, &quot;fillRule&quot;: &quot;evenodd&quot;, &quot;lineCap&quot;: &quot;round&quot;, &quot;lineJoin&quot;: &quot;round&quot;, &quot;opacity&quot;: 1.0, &quot;radius&quot;: 61000.0, &quot;stroke&quot;: true, &quot;weight&quot;: 3}\n",
       "            ).addTo(map_01f8206293aa103112e128106147057e);\n",
       "        \n",
       "    \n",
       "            circle_5d8f34c428c77487c27aed8738c2d268.bindTooltip(\n",
       "                `&lt;div&gt;\n",
       "                     &lt;div style=&#x27;margin: 0; background-color: black; color: white;&#x27;&gt;&lt;h4 style=&#x27;text-align:center;font-weight: bold&#x27;&gt;Uzbekistan&lt;/h4&gt;&lt;hr style=&#x27;margin:10px;color: white;&#x27;&gt;&lt;ul style=&#x27;color: white;;list-style-type:circle;align-item:left;padding-left:20px;padding-right:20px&#x27;&gt;&lt;li&gt;Confirmed: 246520&lt;/li&gt;&lt;li&gt;Deaths:   211845&lt;/li&gt;&lt;li&gt;Death Rate: 85.93&lt;/li&gt;&lt;/ul&gt;&lt;/div&gt;\n",
       "                 &lt;/div&gt;`,\n",
       "                {&quot;sticky&quot;: true}\n",
       "            );\n",
       "        \n",
       "    \n",
       "            var circle_5095a8d9bb8d3f62a9195b69cee566b9 = L.circle(\n",
       "                [-15.3767, 166.9592],\n",
       "                {&quot;bubblingMouseEvents&quot;: true, &quot;color&quot;: &quot;red&quot;, &quot;dashArray&quot;: null, &quot;dashOffset&quot;: null, &quot;fill&quot;: true, &quot;fillColor&quot;: &quot;indigo&quot;, &quot;fillOpacity&quot;: 0.2, &quot;fillRule&quot;: &quot;evenodd&quot;, &quot;lineCap&quot;: &quot;round&quot;, &quot;lineJoin&quot;: &quot;round&quot;, &quot;opacity&quot;: 1.0, &quot;radius&quot;: 46000.0, &quot;stroke&quot;: true, &quot;weight&quot;: 3}\n",
       "            ).addTo(map_01f8206293aa103112e128106147057e);\n",
       "        \n",
       "    \n",
       "            circle_5095a8d9bb8d3f62a9195b69cee566b9.bindTooltip(\n",
       "                `&lt;div&gt;\n",
       "                     &lt;div style=&#x27;margin: 0; background-color: black; color: white;&#x27;&gt;&lt;h4 style=&#x27;text-align:center;font-weight: bold&#x27;&gt;Vanuatu&lt;/h4&gt;&lt;hr style=&#x27;margin:10px;color: white;&#x27;&gt;&lt;ul style=&#x27;color: white;;list-style-type:circle;align-item:left;padding-left:20px;padding-right:20px&#x27;&gt;&lt;li&gt;Confirmed: 11981&lt;/li&gt;&lt;li&gt;Deaths:   7537&lt;/li&gt;&lt;li&gt;Death Rate: 62.9&lt;/li&gt;&lt;/ul&gt;&lt;/div&gt;\n",
       "                 &lt;/div&gt;`,\n",
       "                {&quot;sticky&quot;: true}\n",
       "            );\n",
       "        \n",
       "    \n",
       "            var circle_0bc41e97fe2b309f78fa85c609c74d1c = L.circle(\n",
       "                [6.4238, -66.5897],\n",
       "                {&quot;bubblingMouseEvents&quot;: true, &quot;color&quot;: &quot;red&quot;, &quot;dashArray&quot;: null, &quot;dashOffset&quot;: null, &quot;fill&quot;: true, &quot;fillColor&quot;: &quot;indigo&quot;, &quot;fillOpacity&quot;: 0.2, &quot;fillRule&quot;: &quot;evenodd&quot;, &quot;lineCap&quot;: &quot;round&quot;, &quot;lineJoin&quot;: &quot;round&quot;, &quot;opacity&quot;: 1.0, &quot;radius&quot;: 66000.0, &quot;stroke&quot;: true, &quot;weight&quot;: 3}\n",
       "            ).addTo(map_01f8206293aa103112e128106147057e);\n",
       "        \n",
       "    \n",
       "            circle_0bc41e97fe2b309f78fa85c609c74d1c.bindTooltip(\n",
       "                `&lt;div&gt;\n",
       "                     &lt;div style=&#x27;margin: 0; background-color: black; color: white;&#x27;&gt;&lt;h4 style=&#x27;text-align:center;font-weight: bold&#x27;&gt;Venezuela&lt;/h4&gt;&lt;hr style=&#x27;margin:10px;color: white;&#x27;&gt;&lt;ul style=&#x27;color: white;;list-style-type:circle;align-item:left;padding-left:20px;padding-right:20px&#x27;&gt;&lt;li&gt;Confirmed: 547396&lt;/li&gt;&lt;li&gt;Deaths:   1637&lt;/li&gt;&lt;li&gt;Death Rate: 0.3&lt;/li&gt;&lt;/ul&gt;&lt;/div&gt;\n",
       "                 &lt;/div&gt;`,\n",
       "                {&quot;sticky&quot;: true}\n",
       "            );\n",
       "        \n",
       "    \n",
       "            var circle_8f233da9de91c4f5cb91179a50e8b2ef = L.circle(\n",
       "                [14.058324, 108.277199],\n",
       "                {&quot;bubblingMouseEvents&quot;: true, &quot;color&quot;: &quot;red&quot;, &quot;dashArray&quot;: null, &quot;dashOffset&quot;: null, &quot;fill&quot;: true, &quot;fillColor&quot;: &quot;indigo&quot;, &quot;fillOpacity&quot;: 0.2, &quot;fillRule&quot;: &quot;evenodd&quot;, &quot;lineCap&quot;: &quot;round&quot;, &quot;lineJoin&quot;: &quot;round&quot;, &quot;opacity&quot;: 1.0, &quot;radius&quot;: 81000.0, &quot;stroke&quot;: true, &quot;weight&quot;: 3}\n",
       "            ).addTo(map_01f8206293aa103112e128106147057e);\n",
       "        \n",
       "    \n",
       "            circle_8f233da9de91c4f5cb91179a50e8b2ef.bindTooltip(\n",
       "                `&lt;div&gt;\n",
       "                     &lt;div style=&#x27;margin: 0; background-color: black; color: white;&#x27;&gt;&lt;h4 style=&#x27;text-align:center;font-weight: bold&#x27;&gt;Vietnam&lt;/h4&gt;&lt;hr style=&#x27;margin:10px;color: white;&#x27;&gt;&lt;ul style=&#x27;color: white;;list-style-type:circle;align-item:left;padding-left:20px;padding-right:20px&#x27;&gt;&lt;li&gt;Confirmed: 11515908&lt;/li&gt;&lt;li&gt;Deaths:   14&lt;/li&gt;&lt;li&gt;Death Rate: 0.0&lt;/li&gt;&lt;/ul&gt;&lt;/div&gt;\n",
       "                 &lt;/div&gt;`,\n",
       "                {&quot;sticky&quot;: true}\n",
       "            );\n",
       "        \n",
       "    \n",
       "            var circle_d0df8a59701f93577dfb1370c07fe3c4 = L.circle(\n",
       "                [31.9522, 35.2332],\n",
       "                {&quot;bubblingMouseEvents&quot;: true, &quot;color&quot;: &quot;red&quot;, &quot;dashArray&quot;: null, &quot;dashOffset&quot;: null, &quot;fill&quot;: true, &quot;fillColor&quot;: &quot;indigo&quot;, &quot;fillOpacity&quot;: 0.2, &quot;fillRule&quot;: &quot;evenodd&quot;, &quot;lineCap&quot;: &quot;round&quot;, &quot;lineJoin&quot;: &quot;round&quot;, &quot;opacity&quot;: 1.0, &quot;radius&quot;: 66000.0, &quot;stroke&quot;: true, &quot;weight&quot;: 3}\n",
       "            ).addTo(map_01f8206293aa103112e128106147057e);\n",
       "        \n",
       "    \n",
       "            circle_d0df8a59701f93577dfb1370c07fe3c4.bindTooltip(\n",
       "                `&lt;div&gt;\n",
       "                     &lt;div style=&#x27;margin: 0; background-color: black; color: white;&#x27;&gt;&lt;h4 style=&#x27;text-align:center;font-weight: bold&#x27;&gt;West Bank and Gaza&lt;/h4&gt;&lt;hr style=&#x27;margin:10px;color: white;&#x27;&gt;&lt;ul style=&#x27;color: white;;list-style-type:circle;align-item:left;padding-left:20px;padding-right:20px&#x27;&gt;&lt;li&gt;Confirmed: 703036&lt;/li&gt;&lt;li&gt;Deaths:   5828&lt;/li&gt;&lt;li&gt;Death Rate: 0.83&lt;/li&gt;&lt;/ul&gt;&lt;/div&gt;\n",
       "                 &lt;/div&gt;`,\n",
       "                {&quot;sticky&quot;: true}\n",
       "            );\n",
       "        \n",
       "    \n",
       "            var circle_13636ba89568e844ce689073c47d0f2e = L.circle(\n",
       "                [39.9042, 116.4074],\n",
       "                {&quot;bubblingMouseEvents&quot;: true, &quot;color&quot;: &quot;red&quot;, &quot;dashArray&quot;: null, &quot;dashOffset&quot;: null, &quot;fill&quot;: true, &quot;fillColor&quot;: &quot;indigo&quot;, &quot;fillOpacity&quot;: 0.2, &quot;fillRule&quot;: &quot;evenodd&quot;, &quot;lineCap&quot;: &quot;round&quot;, &quot;lineJoin&quot;: &quot;round&quot;, &quot;opacity&quot;: 1.0, &quot;radius&quot;: 31000.0, &quot;stroke&quot;: true, &quot;weight&quot;: 3}\n",
       "            ).addTo(map_01f8206293aa103112e128106147057e);\n",
       "        \n",
       "    \n",
       "            circle_13636ba89568e844ce689073c47d0f2e.bindTooltip(\n",
       "                `&lt;div&gt;\n",
       "                     &lt;div style=&#x27;margin: 0; background-color: black; color: white;&#x27;&gt;&lt;h4 style=&#x27;text-align:center;font-weight: bold&#x27;&gt;Winter Olympics 2022&lt;/h4&gt;&lt;hr style=&#x27;margin:10px;color: white;&#x27;&gt;&lt;ul style=&#x27;color: white;;list-style-type:circle;align-item:left;padding-left:20px;padding-right:20px&#x27;&gt;&lt;li&gt;Confirmed: 535&lt;/li&gt;&lt;li&gt;Deaths:   43175&lt;/li&gt;&lt;li&gt;Death Rate: 8055.04&lt;/li&gt;&lt;/ul&gt;&lt;/div&gt;\n",
       "                 &lt;/div&gt;`,\n",
       "                {&quot;sticky&quot;: true}\n",
       "            );\n",
       "        \n",
       "    \n",
       "            var circle_bf38d124845010aee82c291c96e5d477 = L.circle(\n",
       "                [15.552727, 48.516388],\n",
       "                {&quot;bubblingMouseEvents&quot;: true, &quot;color&quot;: &quot;red&quot;, &quot;dashArray&quot;: null, &quot;dashOffset&quot;: null, &quot;fill&quot;: true, &quot;fillColor&quot;: &quot;indigo&quot;, &quot;fillOpacity&quot;: 0.2, &quot;fillRule&quot;: &quot;evenodd&quot;, &quot;lineCap&quot;: &quot;round&quot;, &quot;lineJoin&quot;: &quot;round&quot;, &quot;opacity&quot;: 1.0, &quot;radius&quot;: 46000.0, &quot;stroke&quot;: true, &quot;weight&quot;: 3}\n",
       "            ).addTo(map_01f8206293aa103112e128106147057e);\n",
       "        \n",
       "    \n",
       "            circle_bf38d124845010aee82c291c96e5d477.bindTooltip(\n",
       "                `&lt;div&gt;\n",
       "                     &lt;div style=&#x27;margin: 0; background-color: black; color: white;&#x27;&gt;&lt;h4 style=&#x27;text-align:center;font-weight: bold&#x27;&gt;Yemen&lt;/h4&gt;&lt;hr style=&#x27;margin:10px;color: white;&#x27;&gt;&lt;ul style=&#x27;color: white;;list-style-type:circle;align-item:left;padding-left:20px;padding-right:20px&#x27;&gt;&lt;li&gt;Confirmed: 11945&lt;/li&gt;&lt;li&gt;Deaths:   5708&lt;/li&gt;&lt;li&gt;Death Rate: 47.78&lt;/li&gt;&lt;/ul&gt;&lt;/div&gt;\n",
       "                 &lt;/div&gt;`,\n",
       "                {&quot;sticky&quot;: true}\n",
       "            );\n",
       "        \n",
       "    \n",
       "            var circle_0a96286f6b999f3bda62a0031635d079 = L.circle(\n",
       "                [-13.133897, 27.849332],\n",
       "                {&quot;bubblingMouseEvents&quot;: true, &quot;color&quot;: &quot;red&quot;, &quot;dashArray&quot;: null, &quot;dashOffset&quot;: null, &quot;fill&quot;: true, &quot;fillColor&quot;: &quot;indigo&quot;, &quot;fillOpacity&quot;: 0.2, &quot;fillRule&quot;: &quot;evenodd&quot;, &quot;lineCap&quot;: &quot;round&quot;, &quot;lineJoin&quot;: &quot;round&quot;, &quot;opacity&quot;: 1.0, &quot;radius&quot;: 61000.0, &quot;stroke&quot;: true, &quot;weight&quot;: 3}\n",
       "            ).addTo(map_01f8206293aa103112e128106147057e);\n",
       "        \n",
       "    \n",
       "            circle_0a96286f6b999f3bda62a0031635d079.bindTooltip(\n",
       "                `&lt;div&gt;\n",
       "                     &lt;div style=&#x27;margin: 0; background-color: black; color: white;&#x27;&gt;&lt;h4 style=&#x27;text-align:center;font-weight: bold&#x27;&gt;Zambia&lt;/h4&gt;&lt;hr style=&#x27;margin:10px;color: white;&#x27;&gt;&lt;ul style=&#x27;color: white;;list-style-type:circle;align-item:left;padding-left:20px;padding-right:20px&#x27;&gt;&lt;li&gt;Confirmed: 333746&lt;/li&gt;&lt;li&gt;Deaths:   0&lt;/li&gt;&lt;li&gt;Death Rate: 0.0&lt;/li&gt;&lt;/ul&gt;&lt;/div&gt;\n",
       "                 &lt;/div&gt;`,\n",
       "                {&quot;sticky&quot;: true}\n",
       "            );\n",
       "        \n",
       "    \n",
       "            var circle_378b2d1408f45fdc8f23db02771d6859 = L.circle(\n",
       "                [-19.015438, 29.154857],\n",
       "                {&quot;bubblingMouseEvents&quot;: true, &quot;color&quot;: &quot;red&quot;, &quot;dashArray&quot;: null, &quot;dashOffset&quot;: null, &quot;fill&quot;: true, &quot;fillColor&quot;: &quot;indigo&quot;, &quot;fillOpacity&quot;: 0.2, &quot;fillRule&quot;: &quot;evenodd&quot;, &quot;lineCap&quot;: &quot;round&quot;, &quot;lineJoin&quot;: &quot;round&quot;, &quot;opacity&quot;: 1.0, &quot;radius&quot;: 61000.0, &quot;stroke&quot;: true, &quot;weight&quot;: 3}\n",
       "            ).addTo(map_01f8206293aa103112e128106147057e);\n",
       "        \n",
       "    \n",
       "            circle_378b2d1408f45fdc8f23db02771d6859.bindTooltip(\n",
       "                `&lt;div&gt;\n",
       "                     &lt;div style=&#x27;margin: 0; background-color: black; color: white;&#x27;&gt;&lt;h4 style=&#x27;text-align:center;font-weight: bold&#x27;&gt;Zimbabwe&lt;/h4&gt;&lt;hr style=&#x27;margin:10px;color: white;&#x27;&gt;&lt;ul style=&#x27;color: white;;list-style-type:circle;align-item:left;padding-left:20px;padding-right:20px&#x27;&gt;&lt;li&gt;Confirmed: 259164&lt;/li&gt;&lt;li&gt;Deaths:   2159&lt;/li&gt;&lt;li&gt;Death Rate: 0.83&lt;/li&gt;&lt;/ul&gt;&lt;/div&gt;\n",
       "                 &lt;/div&gt;`,\n",
       "                {&quot;sticky&quot;: true}\n",
       "            );\n",
       "        \n",
       "&lt;/script&gt;\n",
       "&lt;/html&gt;\" style=\"position:absolute;width:100%;height:100%;left:0;top:0;border:none !important;\" allowfullscreen webkitallowfullscreen mozallowfullscreen></iframe></div></div>"
      ],
      "text/plain": [
       "<folium.folium.Map at 0x7f807c9d9bd0>"
      ]
     },
     "execution_count": 25,
     "metadata": {},
     "output_type": "execute_result"
    }
   ],
   "source": [
    "# Using Folium to spread of COVID-19 cases over the world\n",
    "world_map = folium.Map(location=[11,0],  tiles=\"cartodbpositron\", zoom_start=2, max_zoom=6, min_zoom=2)\n",
    "\n",
    "for i in range(0, len(confirmed_df)):\n",
    "    folium.Circle(\n",
    "        location=[confirmed_df.iloc[i]['lat'], confirmed_df.iloc[i]['long']],\n",
    "        fill=True,\n",
    "        radius=(int((np.log(confirmed_df.iloc[i,-1]+1.00001)))+0.2)*5000,\n",
    "        color='red',\n",
    "        fill_color='indigo',tooltip = \"<div style='margin: 0; background-color: black; color: white;'>\"+\n",
    "                    \"<h4 style='text-align:center;font-weight: bold'>\"+confirmed_df.iloc[i]['country'] + \"</h4>\"\n",
    "                    \"<hr style='margin:10px;color: white;'>\"+\n",
    "                    \"<ul style='color: white;;list-style-type:circle;align-item:left;padding-left:20px;padding-right:20px'>\"+\n",
    "                        \"<li>Confirmed: \"+str(confirmed_df.iloc[i,-1])+\"</li>\"+\n",
    "                        \"<li>Deaths:   \"+str(death_df.iloc[i,-1])+\"</li>\"+\n",
    "                        \"<li>Death Rate: \"+ str(np.round(death_df.iloc[i,-1]/(confirmed_df.iloc[i,-1]+1.00001)*100,2))+ \"</li>\"+\n",
    "                    \"</ul></div>\",\n",
    "\n",
    "    ).add_to(world_map)\n",
    "world_map"
   ]
  },
  {
   "cell_type": "markdown",
   "metadata": {},
   "source": [
    "### Global spread of COVID-19 using Plotly"
   ]
  },
  {
   "cell_type": "code",
   "execution_count": 26,
   "metadata": {},
   "outputs": [
    {
     "data": {
      "application/vnd.plotly.v1+json": {
       "config": {
        "plotlyServerURL": "https://plot.ly"
       },
       "data": [
        {
         "hovertemplate": "country=Afghanistan<br>lat=%{lat}<br>long=%{lon}<extra></extra>",
         "lat": [
          33.93911
         ],
         "legendgroup": "Afghanistan",
         "lon": [
          67.709953
         ],
         "marker": {
          "color": "#636efa"
         },
         "mode": "markers",
         "name": "Afghanistan",
         "showlegend": true,
         "subplot": "mapbox",
         "type": "scattermapbox"
        },
        {
         "hovertemplate": "country=Albania<br>lat=%{lat}<br>long=%{lon}<extra></extra>",
         "lat": [
          41.1533
         ],
         "legendgroup": "Albania",
         "lon": [
          20.1683
         ],
         "marker": {
          "color": "#EF553B"
         },
         "mode": "markers",
         "name": "Albania",
         "showlegend": true,
         "subplot": "mapbox",
         "type": "scattermapbox"
        },
        {
         "hovertemplate": "country=Algeria<br>lat=%{lat}<br>long=%{lon}<extra></extra>",
         "lat": [
          28.0339
         ],
         "legendgroup": "Algeria",
         "lon": [
          1.6596
         ],
         "marker": {
          "color": "#00cc96"
         },
         "mode": "markers",
         "name": "Algeria",
         "showlegend": true,
         "subplot": "mapbox",
         "type": "scattermapbox"
        },
        {
         "hovertemplate": "country=Andorra<br>lat=%{lat}<br>long=%{lon}<extra></extra>",
         "lat": [
          42.5063
         ],
         "legendgroup": "Andorra",
         "lon": [
          1.5218
         ],
         "marker": {
          "color": "#ab63fa"
         },
         "mode": "markers",
         "name": "Andorra",
         "showlegend": true,
         "subplot": "mapbox",
         "type": "scattermapbox"
        },
        {
         "hovertemplate": "country=Angola<br>lat=%{lat}<br>long=%{lon}<extra></extra>",
         "lat": [
          -11.2027
         ],
         "legendgroup": "Angola",
         "lon": [
          17.8739
         ],
         "marker": {
          "color": "#FFA15A"
         },
         "mode": "markers",
         "name": "Angola",
         "showlegend": true,
         "subplot": "mapbox",
         "type": "scattermapbox"
        },
        {
         "hovertemplate": "country=Antarctica<br>lat=%{lat}<br>long=%{lon}<extra></extra>",
         "lat": [
          -71.9499
         ],
         "legendgroup": "Antarctica",
         "lon": [
          23.347
         ],
         "marker": {
          "color": "#19d3f3"
         },
         "mode": "markers",
         "name": "Antarctica",
         "showlegend": true,
         "subplot": "mapbox",
         "type": "scattermapbox"
        },
        {
         "hovertemplate": "country=Antigua and Barbuda<br>lat=%{lat}<br>long=%{lon}<extra></extra>",
         "lat": [
          17.0608
         ],
         "legendgroup": "Antigua and Barbuda",
         "lon": [
          -61.7964
         ],
         "marker": {
          "color": "#FF6692"
         },
         "mode": "markers",
         "name": "Antigua and Barbuda",
         "showlegend": true,
         "subplot": "mapbox",
         "type": "scattermapbox"
        },
        {
         "hovertemplate": "country=Argentina<br>lat=%{lat}<br>long=%{lon}<extra></extra>",
         "lat": [
          -38.4161
         ],
         "legendgroup": "Argentina",
         "lon": [
          -63.6167
         ],
         "marker": {
          "color": "#B6E880"
         },
         "mode": "markers",
         "name": "Argentina",
         "showlegend": true,
         "subplot": "mapbox",
         "type": "scattermapbox"
        },
        {
         "hovertemplate": "country=Armenia<br>lat=%{lat}<br>long=%{lon}<extra></extra>",
         "lat": [
          40.0691
         ],
         "legendgroup": "Armenia",
         "lon": [
          45.0382
         ],
         "marker": {
          "color": "#FF97FF"
         },
         "mode": "markers",
         "name": "Armenia",
         "showlegend": true,
         "subplot": "mapbox",
         "type": "scattermapbox"
        },
        {
         "hovertemplate": "country=Australia<br>lat=%{lat}<br>long=%{lon}<extra></extra>",
         "lat": [
          -35.4735,
          -33.8688,
          -12.4634,
          -27.4698,
          -34.9285,
          -42.8821,
          -37.8136,
          -31.9505
         ],
         "legendgroup": "Australia",
         "lon": [
          149.0124,
          151.2093,
          130.8456,
          153.0251,
          138.6007,
          147.3272,
          144.9631,
          115.8605
         ],
         "marker": {
          "color": "#FECB52"
         },
         "mode": "markers",
         "name": "Australia",
         "showlegend": true,
         "subplot": "mapbox",
         "type": "scattermapbox"
        },
        {
         "hovertemplate": "country=Austria<br>lat=%{lat}<br>long=%{lon}<extra></extra>",
         "lat": [
          47.5162
         ],
         "legendgroup": "Austria",
         "lon": [
          14.5501
         ],
         "marker": {
          "color": "#636efa"
         },
         "mode": "markers",
         "name": "Austria",
         "showlegend": true,
         "subplot": "mapbox",
         "type": "scattermapbox"
        },
        {
         "hovertemplate": "country=Azerbaijan<br>lat=%{lat}<br>long=%{lon}<extra></extra>",
         "lat": [
          40.1431
         ],
         "legendgroup": "Azerbaijan",
         "lon": [
          47.5769
         ],
         "marker": {
          "color": "#EF553B"
         },
         "mode": "markers",
         "name": "Azerbaijan",
         "showlegend": true,
         "subplot": "mapbox",
         "type": "scattermapbox"
        },
        {
         "hovertemplate": "country=Bahamas<br>lat=%{lat}<br>long=%{lon}<extra></extra>",
         "lat": [
          25.025885
         ],
         "legendgroup": "Bahamas",
         "lon": [
          -78.035889
         ],
         "marker": {
          "color": "#00cc96"
         },
         "mode": "markers",
         "name": "Bahamas",
         "showlegend": true,
         "subplot": "mapbox",
         "type": "scattermapbox"
        },
        {
         "hovertemplate": "country=Bahrain<br>lat=%{lat}<br>long=%{lon}<extra></extra>",
         "lat": [
          26.0275
         ],
         "legendgroup": "Bahrain",
         "lon": [
          50.55
         ],
         "marker": {
          "color": "#ab63fa"
         },
         "mode": "markers",
         "name": "Bahrain",
         "showlegend": true,
         "subplot": "mapbox",
         "type": "scattermapbox"
        },
        {
         "hovertemplate": "country=Bangladesh<br>lat=%{lat}<br>long=%{lon}<extra></extra>",
         "lat": [
          23.685
         ],
         "legendgroup": "Bangladesh",
         "lon": [
          90.3563
         ],
         "marker": {
          "color": "#FFA15A"
         },
         "mode": "markers",
         "name": "Bangladesh",
         "showlegend": true,
         "subplot": "mapbox",
         "type": "scattermapbox"
        },
        {
         "hovertemplate": "country=Barbados<br>lat=%{lat}<br>long=%{lon}<extra></extra>",
         "lat": [
          13.1939
         ],
         "legendgroup": "Barbados",
         "lon": [
          -59.5432
         ],
         "marker": {
          "color": "#19d3f3"
         },
         "mode": "markers",
         "name": "Barbados",
         "showlegend": true,
         "subplot": "mapbox",
         "type": "scattermapbox"
        },
        {
         "hovertemplate": "country=Belarus<br>lat=%{lat}<br>long=%{lon}<extra></extra>",
         "lat": [
          53.7098
         ],
         "legendgroup": "Belarus",
         "lon": [
          27.9534
         ],
         "marker": {
          "color": "#FF6692"
         },
         "mode": "markers",
         "name": "Belarus",
         "showlegend": true,
         "subplot": "mapbox",
         "type": "scattermapbox"
        },
        {
         "hovertemplate": "country=Belgium<br>lat=%{lat}<br>long=%{lon}<extra></extra>",
         "lat": [
          50.8333
         ],
         "legendgroup": "Belgium",
         "lon": [
          4.469936
         ],
         "marker": {
          "color": "#B6E880"
         },
         "mode": "markers",
         "name": "Belgium",
         "showlegend": true,
         "subplot": "mapbox",
         "type": "scattermapbox"
        },
        {
         "hovertemplate": "country=Belize<br>lat=%{lat}<br>long=%{lon}<extra></extra>",
         "lat": [
          17.1899
         ],
         "legendgroup": "Belize",
         "lon": [
          -88.4976
         ],
         "marker": {
          "color": "#FF97FF"
         },
         "mode": "markers",
         "name": "Belize",
         "showlegend": true,
         "subplot": "mapbox",
         "type": "scattermapbox"
        },
        {
         "hovertemplate": "country=Benin<br>lat=%{lat}<br>long=%{lon}<extra></extra>",
         "lat": [
          9.3077
         ],
         "legendgroup": "Benin",
         "lon": [
          2.3158
         ],
         "marker": {
          "color": "#FECB52"
         },
         "mode": "markers",
         "name": "Benin",
         "showlegend": true,
         "subplot": "mapbox",
         "type": "scattermapbox"
        },
        {
         "hovertemplate": "country=Bhutan<br>lat=%{lat}<br>long=%{lon}<extra></extra>",
         "lat": [
          27.5142
         ],
         "legendgroup": "Bhutan",
         "lon": [
          90.4336
         ],
         "marker": {
          "color": "#636efa"
         },
         "mode": "markers",
         "name": "Bhutan",
         "showlegend": true,
         "subplot": "mapbox",
         "type": "scattermapbox"
        },
        {
         "hovertemplate": "country=Bolivia<br>lat=%{lat}<br>long=%{lon}<extra></extra>",
         "lat": [
          -16.2902
         ],
         "legendgroup": "Bolivia",
         "lon": [
          -63.5887
         ],
         "marker": {
          "color": "#EF553B"
         },
         "mode": "markers",
         "name": "Bolivia",
         "showlegend": true,
         "subplot": "mapbox",
         "type": "scattermapbox"
        },
        {
         "hovertemplate": "country=Bosnia and Herzegovina<br>lat=%{lat}<br>long=%{lon}<extra></extra>",
         "lat": [
          43.9159
         ],
         "legendgroup": "Bosnia and Herzegovina",
         "lon": [
          17.6791
         ],
         "marker": {
          "color": "#00cc96"
         },
         "mode": "markers",
         "name": "Bosnia and Herzegovina",
         "showlegend": true,
         "subplot": "mapbox",
         "type": "scattermapbox"
        },
        {
         "hovertemplate": "country=Botswana<br>lat=%{lat}<br>long=%{lon}<extra></extra>",
         "lat": [
          -22.3285
         ],
         "legendgroup": "Botswana",
         "lon": [
          24.6849
         ],
         "marker": {
          "color": "#ab63fa"
         },
         "mode": "markers",
         "name": "Botswana",
         "showlegend": true,
         "subplot": "mapbox",
         "type": "scattermapbox"
        },
        {
         "hovertemplate": "country=Brazil<br>lat=%{lat}<br>long=%{lon}<extra></extra>",
         "lat": [
          -14.235
         ],
         "legendgroup": "Brazil",
         "lon": [
          -51.9253
         ],
         "marker": {
          "color": "#FFA15A"
         },
         "mode": "markers",
         "name": "Brazil",
         "showlegend": true,
         "subplot": "mapbox",
         "type": "scattermapbox"
        },
        {
         "hovertemplate": "country=Brunei<br>lat=%{lat}<br>long=%{lon}<extra></extra>",
         "lat": [
          4.5353
         ],
         "legendgroup": "Brunei",
         "lon": [
          114.7277
         ],
         "marker": {
          "color": "#19d3f3"
         },
         "mode": "markers",
         "name": "Brunei",
         "showlegend": true,
         "subplot": "mapbox",
         "type": "scattermapbox"
        },
        {
         "hovertemplate": "country=Bulgaria<br>lat=%{lat}<br>long=%{lon}<extra></extra>",
         "lat": [
          42.7339
         ],
         "legendgroup": "Bulgaria",
         "lon": [
          25.4858
         ],
         "marker": {
          "color": "#FF6692"
         },
         "mode": "markers",
         "name": "Bulgaria",
         "showlegend": true,
         "subplot": "mapbox",
         "type": "scattermapbox"
        },
        {
         "hovertemplate": "country=Burkina Faso<br>lat=%{lat}<br>long=%{lon}<extra></extra>",
         "lat": [
          12.2383
         ],
         "legendgroup": "Burkina Faso",
         "lon": [
          -1.5616
         ],
         "marker": {
          "color": "#B6E880"
         },
         "mode": "markers",
         "name": "Burkina Faso",
         "showlegend": true,
         "subplot": "mapbox",
         "type": "scattermapbox"
        },
        {
         "hovertemplate": "country=Burma<br>lat=%{lat}<br>long=%{lon}<extra></extra>",
         "lat": [
          21.9162
         ],
         "legendgroup": "Burma",
         "lon": [
          95.956
         ],
         "marker": {
          "color": "#FF97FF"
         },
         "mode": "markers",
         "name": "Burma",
         "showlegend": true,
         "subplot": "mapbox",
         "type": "scattermapbox"
        },
        {
         "hovertemplate": "country=Burundi<br>lat=%{lat}<br>long=%{lon}<extra></extra>",
         "lat": [
          -3.3731
         ],
         "legendgroup": "Burundi",
         "lon": [
          29.9189
         ],
         "marker": {
          "color": "#FECB52"
         },
         "mode": "markers",
         "name": "Burundi",
         "showlegend": true,
         "subplot": "mapbox",
         "type": "scattermapbox"
        },
        {
         "hovertemplate": "country=Cabo Verde<br>lat=%{lat}<br>long=%{lon}<extra></extra>",
         "lat": [
          16.5388
         ],
         "legendgroup": "Cabo Verde",
         "lon": [
          -23.0418
         ],
         "marker": {
          "color": "#636efa"
         },
         "mode": "markers",
         "name": "Cabo Verde",
         "showlegend": true,
         "subplot": "mapbox",
         "type": "scattermapbox"
        },
        {
         "hovertemplate": "country=Cambodia<br>lat=%{lat}<br>long=%{lon}<extra></extra>",
         "lat": [
          11.55
         ],
         "legendgroup": "Cambodia",
         "lon": [
          104.9167
         ],
         "marker": {
          "color": "#EF553B"
         },
         "mode": "markers",
         "name": "Cambodia",
         "showlegend": true,
         "subplot": "mapbox",
         "type": "scattermapbox"
        },
        {
         "hovertemplate": "country=Cameroon<br>lat=%{lat}<br>long=%{lon}<extra></extra>",
         "lat": [
          3.848
         ],
         "legendgroup": "Cameroon",
         "lon": [
          11.5021
         ],
         "marker": {
          "color": "#00cc96"
         },
         "mode": "markers",
         "name": "Cameroon",
         "showlegend": true,
         "subplot": "mapbox",
         "type": "scattermapbox"
        },
        {
         "hovertemplate": "country=Canada<br>lat=%{lat}<br>long=%{lon}<extra></extra>",
         "lat": [
          53.9333,
          53.7267,
          0,
          0,
          53.7609,
          46.5653,
          53.1355,
          64.8255,
          44.682,
          70.2998,
          51.2538,
          46.5107,
          52.9399,
          52.9399,
          64.2823
         ],
         "legendgroup": "Canada",
         "lon": [
          -116.5765,
          -127.6476,
          0,
          0,
          -98.8139,
          -66.4619,
          -57.6604,
          -124.8457,
          -63.7443,
          -83.1076,
          -85.3232,
          -63.4168,
          -73.5491,
          -106.4509,
          -135
         ],
         "marker": {
          "color": "#ab63fa"
         },
         "mode": "markers",
         "name": "Canada",
         "showlegend": true,
         "subplot": "mapbox",
         "type": "scattermapbox"
        },
        {
         "hovertemplate": "country=Central African Republic<br>lat=%{lat}<br>long=%{lon}<extra></extra>",
         "lat": [
          6.6111
         ],
         "legendgroup": "Central African Republic",
         "lon": [
          20.9394
         ],
         "marker": {
          "color": "#FFA15A"
         },
         "mode": "markers",
         "name": "Central African Republic",
         "showlegend": true,
         "subplot": "mapbox",
         "type": "scattermapbox"
        },
        {
         "hovertemplate": "country=Chad<br>lat=%{lat}<br>long=%{lon}<extra></extra>",
         "lat": [
          15.4542
         ],
         "legendgroup": "Chad",
         "lon": [
          18.7322
         ],
         "marker": {
          "color": "#19d3f3"
         },
         "mode": "markers",
         "name": "Chad",
         "showlegend": true,
         "subplot": "mapbox",
         "type": "scattermapbox"
        },
        {
         "hovertemplate": "country=Chile<br>lat=%{lat}<br>long=%{lon}<extra></extra>",
         "lat": [
          -35.6751
         ],
         "legendgroup": "Chile",
         "lon": [
          -71.543
         ],
         "marker": {
          "color": "#FF6692"
         },
         "mode": "markers",
         "name": "Chile",
         "showlegend": true,
         "subplot": "mapbox",
         "type": "scattermapbox"
        },
        {
         "hovertemplate": "country=China<br>lat=%{lat}<br>long=%{lon}<extra></extra>",
         "lat": [
          31.8257,
          40.1824,
          30.0572,
          26.0789,
          35.7518,
          23.3417,
          23.8298,
          26.8154,
          19.1959,
          39.549,
          47.862,
          37.8957,
          22.3,
          30.9756,
          27.6104,
          44.0935,
          32.9711,
          27.614,
          43.6661,
          41.2956,
          22.1667,
          37.2692,
          35.7452,
          35.1917,
          36.3427,
          31.202,
          37.5777,
          30.6171,
          39.3054,
          31.6927,
          41.1129,
          24.974,
          29.1832
         ],
         "legendgroup": "China",
         "lon": [
          117.2264,
          116.4142,
          107.874,
          117.9874,
          104.2861,
          113.4244,
          108.7881,
          106.8748,
          109.7453,
          116.1306,
          127.7615,
          114.9042,
          114.2,
          112.2707,
          111.7088,
          113.9448,
          119.455,
          115.7221,
          126.1923,
          122.6085,
          113.55,
          106.1655,
          95.9956,
          108.8701,
          118.1498,
          121.4491,
          112.2922,
          102.7103,
          117.323,
          88.0924,
          85.2401,
          101.487,
          120.0934
         ],
         "marker": {
          "color": "#B6E880"
         },
         "mode": "markers",
         "name": "China",
         "showlegend": true,
         "subplot": "mapbox",
         "type": "scattermapbox"
        },
        {
         "hovertemplate": "country=Colombia<br>lat=%{lat}<br>long=%{lon}<extra></extra>",
         "lat": [
          4.5709
         ],
         "legendgroup": "Colombia",
         "lon": [
          -74.2973
         ],
         "marker": {
          "color": "#FF97FF"
         },
         "mode": "markers",
         "name": "Colombia",
         "showlegend": true,
         "subplot": "mapbox",
         "type": "scattermapbox"
        },
        {
         "hovertemplate": "country=Comoros<br>lat=%{lat}<br>long=%{lon}<extra></extra>",
         "lat": [
          -11.6455
         ],
         "legendgroup": "Comoros",
         "lon": [
          43.3333
         ],
         "marker": {
          "color": "#FECB52"
         },
         "mode": "markers",
         "name": "Comoros",
         "showlegend": true,
         "subplot": "mapbox",
         "type": "scattermapbox"
        },
        {
         "hovertemplate": "country=Congo (Brazzaville)<br>lat=%{lat}<br>long=%{lon}<extra></extra>",
         "lat": [
          -0.228
         ],
         "legendgroup": "Congo (Brazzaville)",
         "lon": [
          15.8277
         ],
         "marker": {
          "color": "#636efa"
         },
         "mode": "markers",
         "name": "Congo (Brazzaville)",
         "showlegend": true,
         "subplot": "mapbox",
         "type": "scattermapbox"
        },
        {
         "hovertemplate": "country=Congo (Kinshasa)<br>lat=%{lat}<br>long=%{lon}<extra></extra>",
         "lat": [
          -4.0383
         ],
         "legendgroup": "Congo (Kinshasa)",
         "lon": [
          21.7587
         ],
         "marker": {
          "color": "#EF553B"
         },
         "mode": "markers",
         "name": "Congo (Kinshasa)",
         "showlegend": true,
         "subplot": "mapbox",
         "type": "scattermapbox"
        },
        {
         "hovertemplate": "country=Costa Rica<br>lat=%{lat}<br>long=%{lon}<extra></extra>",
         "lat": [
          9.7489
         ],
         "legendgroup": "Costa Rica",
         "lon": [
          -83.7534
         ],
         "marker": {
          "color": "#00cc96"
         },
         "mode": "markers",
         "name": "Costa Rica",
         "showlegend": true,
         "subplot": "mapbox",
         "type": "scattermapbox"
        },
        {
         "hovertemplate": "country=Cote d'Ivoire<br>lat=%{lat}<br>long=%{lon}<extra></extra>",
         "lat": [
          7.54
         ],
         "legendgroup": "Cote d'Ivoire",
         "lon": [
          -5.5471
         ],
         "marker": {
          "color": "#ab63fa"
         },
         "mode": "markers",
         "name": "Cote d'Ivoire",
         "showlegend": true,
         "subplot": "mapbox",
         "type": "scattermapbox"
        },
        {
         "hovertemplate": "country=Croatia<br>lat=%{lat}<br>long=%{lon}<extra></extra>",
         "lat": [
          45.1
         ],
         "legendgroup": "Croatia",
         "lon": [
          15.2
         ],
         "marker": {
          "color": "#FFA15A"
         },
         "mode": "markers",
         "name": "Croatia",
         "showlegend": true,
         "subplot": "mapbox",
         "type": "scattermapbox"
        },
        {
         "hovertemplate": "country=Cuba<br>lat=%{lat}<br>long=%{lon}<extra></extra>",
         "lat": [
          21.521757
         ],
         "legendgroup": "Cuba",
         "lon": [
          -77.781167
         ],
         "marker": {
          "color": "#19d3f3"
         },
         "mode": "markers",
         "name": "Cuba",
         "showlegend": true,
         "subplot": "mapbox",
         "type": "scattermapbox"
        },
        {
         "hovertemplate": "country=Cyprus<br>lat=%{lat}<br>long=%{lon}<extra></extra>",
         "lat": [
          35.1264
         ],
         "legendgroup": "Cyprus",
         "lon": [
          33.4299
         ],
         "marker": {
          "color": "#FF6692"
         },
         "mode": "markers",
         "name": "Cyprus",
         "showlegend": true,
         "subplot": "mapbox",
         "type": "scattermapbox"
        },
        {
         "hovertemplate": "country=Czechia<br>lat=%{lat}<br>long=%{lon}<extra></extra>",
         "lat": [
          49.8175
         ],
         "legendgroup": "Czechia",
         "lon": [
          15.473
         ],
         "marker": {
          "color": "#B6E880"
         },
         "mode": "markers",
         "name": "Czechia",
         "showlegend": true,
         "subplot": "mapbox",
         "type": "scattermapbox"
        },
        {
         "hovertemplate": "country=Denmark<br>lat=%{lat}<br>long=%{lon}<extra></extra>",
         "lat": [
          61.8926,
          71.7069,
          56.2639
         ],
         "legendgroup": "Denmark",
         "lon": [
          -6.9118,
          -42.6043,
          9.5018
         ],
         "marker": {
          "color": "#FF97FF"
         },
         "mode": "markers",
         "name": "Denmark",
         "showlegend": true,
         "subplot": "mapbox",
         "type": "scattermapbox"
        },
        {
         "hovertemplate": "country=Diamond Princess<br>lat=%{lat}<br>long=%{lon}<extra></extra>",
         "lat": [
          0
         ],
         "legendgroup": "Diamond Princess",
         "lon": [
          0
         ],
         "marker": {
          "color": "#FECB52"
         },
         "mode": "markers",
         "name": "Diamond Princess",
         "showlegend": true,
         "subplot": "mapbox",
         "type": "scattermapbox"
        },
        {
         "hovertemplate": "country=Djibouti<br>lat=%{lat}<br>long=%{lon}<extra></extra>",
         "lat": [
          11.8251
         ],
         "legendgroup": "Djibouti",
         "lon": [
          42.5903
         ],
         "marker": {
          "color": "#636efa"
         },
         "mode": "markers",
         "name": "Djibouti",
         "showlegend": true,
         "subplot": "mapbox",
         "type": "scattermapbox"
        },
        {
         "hovertemplate": "country=Dominica<br>lat=%{lat}<br>long=%{lon}<extra></extra>",
         "lat": [
          15.415
         ],
         "legendgroup": "Dominica",
         "lon": [
          -61.371
         ],
         "marker": {
          "color": "#EF553B"
         },
         "mode": "markers",
         "name": "Dominica",
         "showlegend": true,
         "subplot": "mapbox",
         "type": "scattermapbox"
        },
        {
         "hovertemplate": "country=Dominican Republic<br>lat=%{lat}<br>long=%{lon}<extra></extra>",
         "lat": [
          18.7357
         ],
         "legendgroup": "Dominican Republic",
         "lon": [
          -70.1627
         ],
         "marker": {
          "color": "#00cc96"
         },
         "mode": "markers",
         "name": "Dominican Republic",
         "showlegend": true,
         "subplot": "mapbox",
         "type": "scattermapbox"
        },
        {
         "hovertemplate": "country=Ecuador<br>lat=%{lat}<br>long=%{lon}<extra></extra>",
         "lat": [
          -1.8312
         ],
         "legendgroup": "Ecuador",
         "lon": [
          -78.1834
         ],
         "marker": {
          "color": "#ab63fa"
         },
         "mode": "markers",
         "name": "Ecuador",
         "showlegend": true,
         "subplot": "mapbox",
         "type": "scattermapbox"
        },
        {
         "hovertemplate": "country=Egypt<br>lat=%{lat}<br>long=%{lon}<extra></extra>",
         "lat": [
          26.820553
         ],
         "legendgroup": "Egypt",
         "lon": [
          30.802498
         ],
         "marker": {
          "color": "#FFA15A"
         },
         "mode": "markers",
         "name": "Egypt",
         "showlegend": true,
         "subplot": "mapbox",
         "type": "scattermapbox"
        },
        {
         "hovertemplate": "country=El Salvador<br>lat=%{lat}<br>long=%{lon}<extra></extra>",
         "lat": [
          13.7942
         ],
         "legendgroup": "El Salvador",
         "lon": [
          -88.8965
         ],
         "marker": {
          "color": "#19d3f3"
         },
         "mode": "markers",
         "name": "El Salvador",
         "showlegend": true,
         "subplot": "mapbox",
         "type": "scattermapbox"
        },
        {
         "hovertemplate": "country=Equatorial Guinea<br>lat=%{lat}<br>long=%{lon}<extra></extra>",
         "lat": [
          1.6508
         ],
         "legendgroup": "Equatorial Guinea",
         "lon": [
          10.2679
         ],
         "marker": {
          "color": "#FF6692"
         },
         "mode": "markers",
         "name": "Equatorial Guinea",
         "showlegend": true,
         "subplot": "mapbox",
         "type": "scattermapbox"
        },
        {
         "hovertemplate": "country=Eritrea<br>lat=%{lat}<br>long=%{lon}<extra></extra>",
         "lat": [
          15.1794
         ],
         "legendgroup": "Eritrea",
         "lon": [
          39.7823
         ],
         "marker": {
          "color": "#B6E880"
         },
         "mode": "markers",
         "name": "Eritrea",
         "showlegend": true,
         "subplot": "mapbox",
         "type": "scattermapbox"
        },
        {
         "hovertemplate": "country=Estonia<br>lat=%{lat}<br>long=%{lon}<extra></extra>",
         "lat": [
          58.5953
         ],
         "legendgroup": "Estonia",
         "lon": [
          25.0136
         ],
         "marker": {
          "color": "#FF97FF"
         },
         "mode": "markers",
         "name": "Estonia",
         "showlegend": true,
         "subplot": "mapbox",
         "type": "scattermapbox"
        },
        {
         "hovertemplate": "country=Eswatini<br>lat=%{lat}<br>long=%{lon}<extra></extra>",
         "lat": [
          -26.5225
         ],
         "legendgroup": "Eswatini",
         "lon": [
          31.4659
         ],
         "marker": {
          "color": "#FECB52"
         },
         "mode": "markers",
         "name": "Eswatini",
         "showlegend": true,
         "subplot": "mapbox",
         "type": "scattermapbox"
        },
        {
         "hovertemplate": "country=Ethiopia<br>lat=%{lat}<br>long=%{lon}<extra></extra>",
         "lat": [
          9.145
         ],
         "legendgroup": "Ethiopia",
         "lon": [
          40.4897
         ],
         "marker": {
          "color": "#636efa"
         },
         "mode": "markers",
         "name": "Ethiopia",
         "showlegend": true,
         "subplot": "mapbox",
         "type": "scattermapbox"
        },
        {
         "hovertemplate": "country=Fiji<br>lat=%{lat}<br>long=%{lon}<extra></extra>",
         "lat": [
          -17.7134
         ],
         "legendgroup": "Fiji",
         "lon": [
          178.065
         ],
         "marker": {
          "color": "#EF553B"
         },
         "mode": "markers",
         "name": "Fiji",
         "showlegend": true,
         "subplot": "mapbox",
         "type": "scattermapbox"
        },
        {
         "hovertemplate": "country=Finland<br>lat=%{lat}<br>long=%{lon}<extra></extra>",
         "lat": [
          61.92411
         ],
         "legendgroup": "Finland",
         "lon": [
          25.748151
         ],
         "marker": {
          "color": "#00cc96"
         },
         "mode": "markers",
         "name": "Finland",
         "showlegend": true,
         "subplot": "mapbox",
         "type": "scattermapbox"
        },
        {
         "hovertemplate": "country=France<br>lat=%{lat}<br>long=%{lon}<extra></extra>",
         "lat": [
          3.9339,
          -17.6797,
          16.265,
          14.6415,
          -12.8275,
          -20.904305,
          -21.1151,
          17.9,
          46.8852,
          18.0708,
          -14.2938,
          46.2276
         ],
         "legendgroup": "France",
         "lon": [
          -53.1258,
          149.4068,
          -61.551,
          -61.0242,
          45.166244,
          165.618042,
          55.5364,
          -62.8333,
          -56.3159,
          -63.0501,
          -178.1165,
          2.2137
         ],
         "marker": {
          "color": "#ab63fa"
         },
         "mode": "markers",
         "name": "France",
         "showlegend": true,
         "subplot": "mapbox",
         "type": "scattermapbox"
        },
        {
         "hovertemplate": "country=Gabon<br>lat=%{lat}<br>long=%{lon}<extra></extra>",
         "lat": [
          -0.8037
         ],
         "legendgroup": "Gabon",
         "lon": [
          11.6094
         ],
         "marker": {
          "color": "#FFA15A"
         },
         "mode": "markers",
         "name": "Gabon",
         "showlegend": true,
         "subplot": "mapbox",
         "type": "scattermapbox"
        },
        {
         "hovertemplate": "country=Gambia<br>lat=%{lat}<br>long=%{lon}<extra></extra>",
         "lat": [
          13.4432
         ],
         "legendgroup": "Gambia",
         "lon": [
          -15.3101
         ],
         "marker": {
          "color": "#19d3f3"
         },
         "mode": "markers",
         "name": "Gambia",
         "showlegend": true,
         "subplot": "mapbox",
         "type": "scattermapbox"
        },
        {
         "hovertemplate": "country=Georgia<br>lat=%{lat}<br>long=%{lon}<extra></extra>",
         "lat": [
          42.3154
         ],
         "legendgroup": "Georgia",
         "lon": [
          43.3569
         ],
         "marker": {
          "color": "#FF6692"
         },
         "mode": "markers",
         "name": "Georgia",
         "showlegend": true,
         "subplot": "mapbox",
         "type": "scattermapbox"
        },
        {
         "hovertemplate": "country=Germany<br>lat=%{lat}<br>long=%{lon}<extra></extra>",
         "lat": [
          51.165691
         ],
         "legendgroup": "Germany",
         "lon": [
          10.451526
         ],
         "marker": {
          "color": "#B6E880"
         },
         "mode": "markers",
         "name": "Germany",
         "showlegend": true,
         "subplot": "mapbox",
         "type": "scattermapbox"
        },
        {
         "hovertemplate": "country=Ghana<br>lat=%{lat}<br>long=%{lon}<extra></extra>",
         "lat": [
          7.9465
         ],
         "legendgroup": "Ghana",
         "lon": [
          -1.0232
         ],
         "marker": {
          "color": "#FF97FF"
         },
         "mode": "markers",
         "name": "Ghana",
         "showlegend": true,
         "subplot": "mapbox",
         "type": "scattermapbox"
        },
        {
         "hovertemplate": "country=Greece<br>lat=%{lat}<br>long=%{lon}<extra></extra>",
         "lat": [
          39.0742
         ],
         "legendgroup": "Greece",
         "lon": [
          21.8243
         ],
         "marker": {
          "color": "#FECB52"
         },
         "mode": "markers",
         "name": "Greece",
         "showlegend": true,
         "subplot": "mapbox",
         "type": "scattermapbox"
        },
        {
         "hovertemplate": "country=Grenada<br>lat=%{lat}<br>long=%{lon}<extra></extra>",
         "lat": [
          12.1165
         ],
         "legendgroup": "Grenada",
         "lon": [
          -61.679
         ],
         "marker": {
          "color": "#636efa"
         },
         "mode": "markers",
         "name": "Grenada",
         "showlegend": true,
         "subplot": "mapbox",
         "type": "scattermapbox"
        },
        {
         "hovertemplate": "country=Guatemala<br>lat=%{lat}<br>long=%{lon}<extra></extra>",
         "lat": [
          15.7835
         ],
         "legendgroup": "Guatemala",
         "lon": [
          -90.2308
         ],
         "marker": {
          "color": "#EF553B"
         },
         "mode": "markers",
         "name": "Guatemala",
         "showlegend": true,
         "subplot": "mapbox",
         "type": "scattermapbox"
        },
        {
         "hovertemplate": "country=Guinea<br>lat=%{lat}<br>long=%{lon}<extra></extra>",
         "lat": [
          9.9456
         ],
         "legendgroup": "Guinea",
         "lon": [
          -9.6966
         ],
         "marker": {
          "color": "#00cc96"
         },
         "mode": "markers",
         "name": "Guinea",
         "showlegend": true,
         "subplot": "mapbox",
         "type": "scattermapbox"
        },
        {
         "hovertemplate": "country=Guinea-Bissau<br>lat=%{lat}<br>long=%{lon}<extra></extra>",
         "lat": [
          11.8037
         ],
         "legendgroup": "Guinea-Bissau",
         "lon": [
          -15.1804
         ],
         "marker": {
          "color": "#ab63fa"
         },
         "mode": "markers",
         "name": "Guinea-Bissau",
         "showlegend": true,
         "subplot": "mapbox",
         "type": "scattermapbox"
        },
        {
         "hovertemplate": "country=Guyana<br>lat=%{lat}<br>long=%{lon}<extra></extra>",
         "lat": [
          4.860416
         ],
         "legendgroup": "Guyana",
         "lon": [
          -58.93018
         ],
         "marker": {
          "color": "#FFA15A"
         },
         "mode": "markers",
         "name": "Guyana",
         "showlegend": true,
         "subplot": "mapbox",
         "type": "scattermapbox"
        },
        {
         "hovertemplate": "country=Haiti<br>lat=%{lat}<br>long=%{lon}<extra></extra>",
         "lat": [
          18.9712
         ],
         "legendgroup": "Haiti",
         "lon": [
          -72.2852
         ],
         "marker": {
          "color": "#19d3f3"
         },
         "mode": "markers",
         "name": "Haiti",
         "showlegend": true,
         "subplot": "mapbox",
         "type": "scattermapbox"
        },
        {
         "hovertemplate": "country=Holy See<br>lat=%{lat}<br>long=%{lon}<extra></extra>",
         "lat": [
          41.9029
         ],
         "legendgroup": "Holy See",
         "lon": [
          12.4534
         ],
         "marker": {
          "color": "#FF6692"
         },
         "mode": "markers",
         "name": "Holy See",
         "showlegend": true,
         "subplot": "mapbox",
         "type": "scattermapbox"
        },
        {
         "hovertemplate": "country=Honduras<br>lat=%{lat}<br>long=%{lon}<extra></extra>",
         "lat": [
          15.2
         ],
         "legendgroup": "Honduras",
         "lon": [
          -86.2419
         ],
         "marker": {
          "color": "#B6E880"
         },
         "mode": "markers",
         "name": "Honduras",
         "showlegend": true,
         "subplot": "mapbox",
         "type": "scattermapbox"
        },
        {
         "hovertemplate": "country=Hungary<br>lat=%{lat}<br>long=%{lon}<extra></extra>",
         "lat": [
          47.1625
         ],
         "legendgroup": "Hungary",
         "lon": [
          19.5033
         ],
         "marker": {
          "color": "#FF97FF"
         },
         "mode": "markers",
         "name": "Hungary",
         "showlegend": true,
         "subplot": "mapbox",
         "type": "scattermapbox"
        },
        {
         "hovertemplate": "country=Iceland<br>lat=%{lat}<br>long=%{lon}<extra></extra>",
         "lat": [
          64.9631
         ],
         "legendgroup": "Iceland",
         "lon": [
          -19.0208
         ],
         "marker": {
          "color": "#FECB52"
         },
         "mode": "markers",
         "name": "Iceland",
         "showlegend": true,
         "subplot": "mapbox",
         "type": "scattermapbox"
        },
        {
         "hovertemplate": "country=India<br>lat=%{lat}<br>long=%{lon}<extra></extra>",
         "lat": [
          20.593684
         ],
         "legendgroup": "India",
         "lon": [
          78.96288
         ],
         "marker": {
          "color": "#636efa"
         },
         "mode": "markers",
         "name": "India",
         "showlegend": true,
         "subplot": "mapbox",
         "type": "scattermapbox"
        },
        {
         "hovertemplate": "country=Indonesia<br>lat=%{lat}<br>long=%{lon}<extra></extra>",
         "lat": [
          -0.7893
         ],
         "legendgroup": "Indonesia",
         "lon": [
          113.9213
         ],
         "marker": {
          "color": "#EF553B"
         },
         "mode": "markers",
         "name": "Indonesia",
         "showlegend": true,
         "subplot": "mapbox",
         "type": "scattermapbox"
        },
        {
         "hovertemplate": "country=Iran<br>lat=%{lat}<br>long=%{lon}<extra></extra>",
         "lat": [
          32.427908
         ],
         "legendgroup": "Iran",
         "lon": [
          53.688046
         ],
         "marker": {
          "color": "#00cc96"
         },
         "mode": "markers",
         "name": "Iran",
         "showlegend": true,
         "subplot": "mapbox",
         "type": "scattermapbox"
        },
        {
         "hovertemplate": "country=Iraq<br>lat=%{lat}<br>long=%{lon}<extra></extra>",
         "lat": [
          33.223191
         ],
         "legendgroup": "Iraq",
         "lon": [
          43.679291
         ],
         "marker": {
          "color": "#ab63fa"
         },
         "mode": "markers",
         "name": "Iraq",
         "showlegend": true,
         "subplot": "mapbox",
         "type": "scattermapbox"
        },
        {
         "hovertemplate": "country=Ireland<br>lat=%{lat}<br>long=%{lon}<extra></extra>",
         "lat": [
          53.1424
         ],
         "legendgroup": "Ireland",
         "lon": [
          -7.6921
         ],
         "marker": {
          "color": "#FFA15A"
         },
         "mode": "markers",
         "name": "Ireland",
         "showlegend": true,
         "subplot": "mapbox",
         "type": "scattermapbox"
        },
        {
         "hovertemplate": "country=Israel<br>lat=%{lat}<br>long=%{lon}<extra></extra>",
         "lat": [
          31.046051
         ],
         "legendgroup": "Israel",
         "lon": [
          34.851612
         ],
         "marker": {
          "color": "#19d3f3"
         },
         "mode": "markers",
         "name": "Israel",
         "showlegend": true,
         "subplot": "mapbox",
         "type": "scattermapbox"
        },
        {
         "hovertemplate": "country=Italy<br>lat=%{lat}<br>long=%{lon}<extra></extra>",
         "lat": [
          41.87194
         ],
         "legendgroup": "Italy",
         "lon": [
          12.56738
         ],
         "marker": {
          "color": "#FF6692"
         },
         "mode": "markers",
         "name": "Italy",
         "showlegend": true,
         "subplot": "mapbox",
         "type": "scattermapbox"
        },
        {
         "hovertemplate": "country=Jamaica<br>lat=%{lat}<br>long=%{lon}<extra></extra>",
         "lat": [
          18.1096
         ],
         "legendgroup": "Jamaica",
         "lon": [
          -77.2975
         ],
         "marker": {
          "color": "#B6E880"
         },
         "mode": "markers",
         "name": "Jamaica",
         "showlegend": true,
         "subplot": "mapbox",
         "type": "scattermapbox"
        },
        {
         "hovertemplate": "country=Japan<br>lat=%{lat}<br>long=%{lon}<extra></extra>",
         "lat": [
          36.204824
         ],
         "legendgroup": "Japan",
         "lon": [
          138.252924
         ],
         "marker": {
          "color": "#FF97FF"
         },
         "mode": "markers",
         "name": "Japan",
         "showlegend": true,
         "subplot": "mapbox",
         "type": "scattermapbox"
        },
        {
         "hovertemplate": "country=Jordan<br>lat=%{lat}<br>long=%{lon}<extra></extra>",
         "lat": [
          31.24
         ],
         "legendgroup": "Jordan",
         "lon": [
          36.51
         ],
         "marker": {
          "color": "#FECB52"
         },
         "mode": "markers",
         "name": "Jordan",
         "showlegend": true,
         "subplot": "mapbox",
         "type": "scattermapbox"
        },
        {
         "hovertemplate": "country=Kazakhstan<br>lat=%{lat}<br>long=%{lon}<extra></extra>",
         "lat": [
          48.0196
         ],
         "legendgroup": "Kazakhstan",
         "lon": [
          66.9237
         ],
         "marker": {
          "color": "#636efa"
         },
         "mode": "markers",
         "name": "Kazakhstan",
         "showlegend": true,
         "subplot": "mapbox",
         "type": "scattermapbox"
        },
        {
         "hovertemplate": "country=Kenya<br>lat=%{lat}<br>long=%{lon}<extra></extra>",
         "lat": [
          -0.0236
         ],
         "legendgroup": "Kenya",
         "lon": [
          37.9062
         ],
         "marker": {
          "color": "#EF553B"
         },
         "mode": "markers",
         "name": "Kenya",
         "showlegend": true,
         "subplot": "mapbox",
         "type": "scattermapbox"
        },
        {
         "hovertemplate": "country=Kiribati<br>lat=%{lat}<br>long=%{lon}<extra></extra>",
         "lat": [
          -3.3704
         ],
         "legendgroup": "Kiribati",
         "lon": [
          -168.734
         ],
         "marker": {
          "color": "#00cc96"
         },
         "mode": "markers",
         "name": "Kiribati",
         "showlegend": true,
         "subplot": "mapbox",
         "type": "scattermapbox"
        },
        {
         "hovertemplate": "country=Korea, North<br>lat=%{lat}<br>long=%{lon}<extra></extra>",
         "lat": [
          40.3399
         ],
         "legendgroup": "Korea, North",
         "lon": [
          127.5101
         ],
         "marker": {
          "color": "#ab63fa"
         },
         "mode": "markers",
         "name": "Korea, North",
         "showlegend": true,
         "subplot": "mapbox",
         "type": "scattermapbox"
        },
        {
         "hovertemplate": "country=Korea, South<br>lat=%{lat}<br>long=%{lon}<extra></extra>",
         "lat": [
          35.907757
         ],
         "legendgroup": "Korea, South",
         "lon": [
          127.766922
         ],
         "marker": {
          "color": "#FFA15A"
         },
         "mode": "markers",
         "name": "Korea, South",
         "showlegend": true,
         "subplot": "mapbox",
         "type": "scattermapbox"
        },
        {
         "hovertemplate": "country=Kosovo<br>lat=%{lat}<br>long=%{lon}<extra></extra>",
         "lat": [
          42.602636
         ],
         "legendgroup": "Kosovo",
         "lon": [
          20.902977
         ],
         "marker": {
          "color": "#19d3f3"
         },
         "mode": "markers",
         "name": "Kosovo",
         "showlegend": true,
         "subplot": "mapbox",
         "type": "scattermapbox"
        },
        {
         "hovertemplate": "country=Kuwait<br>lat=%{lat}<br>long=%{lon}<extra></extra>",
         "lat": [
          29.31166
         ],
         "legendgroup": "Kuwait",
         "lon": [
          47.481766
         ],
         "marker": {
          "color": "#FF6692"
         },
         "mode": "markers",
         "name": "Kuwait",
         "showlegend": true,
         "subplot": "mapbox",
         "type": "scattermapbox"
        },
        {
         "hovertemplate": "country=Kyrgyzstan<br>lat=%{lat}<br>long=%{lon}<extra></extra>",
         "lat": [
          41.20438
         ],
         "legendgroup": "Kyrgyzstan",
         "lon": [
          74.766098
         ],
         "marker": {
          "color": "#B6E880"
         },
         "mode": "markers",
         "name": "Kyrgyzstan",
         "showlegend": true,
         "subplot": "mapbox",
         "type": "scattermapbox"
        },
        {
         "hovertemplate": "country=Laos<br>lat=%{lat}<br>long=%{lon}<extra></extra>",
         "lat": [
          19.85627
         ],
         "legendgroup": "Laos",
         "lon": [
          102.495496
         ],
         "marker": {
          "color": "#FF97FF"
         },
         "mode": "markers",
         "name": "Laos",
         "showlegend": true,
         "subplot": "mapbox",
         "type": "scattermapbox"
        },
        {
         "hovertemplate": "country=Latvia<br>lat=%{lat}<br>long=%{lon}<extra></extra>",
         "lat": [
          56.8796
         ],
         "legendgroup": "Latvia",
         "lon": [
          24.6032
         ],
         "marker": {
          "color": "#FECB52"
         },
         "mode": "markers",
         "name": "Latvia",
         "showlegend": true,
         "subplot": "mapbox",
         "type": "scattermapbox"
        },
        {
         "hovertemplate": "country=Lebanon<br>lat=%{lat}<br>long=%{lon}<extra></extra>",
         "lat": [
          33.8547
         ],
         "legendgroup": "Lebanon",
         "lon": [
          35.8623
         ],
         "marker": {
          "color": "#636efa"
         },
         "mode": "markers",
         "name": "Lebanon",
         "showlegend": true,
         "subplot": "mapbox",
         "type": "scattermapbox"
        },
        {
         "hovertemplate": "country=Lesotho<br>lat=%{lat}<br>long=%{lon}<extra></extra>",
         "lat": [
          -29.61
         ],
         "legendgroup": "Lesotho",
         "lon": [
          28.2336
         ],
         "marker": {
          "color": "#EF553B"
         },
         "mode": "markers",
         "name": "Lesotho",
         "showlegend": true,
         "subplot": "mapbox",
         "type": "scattermapbox"
        },
        {
         "hovertemplate": "country=Liberia<br>lat=%{lat}<br>long=%{lon}<extra></extra>",
         "lat": [
          6.428055
         ],
         "legendgroup": "Liberia",
         "lon": [
          -9.429499
         ],
         "marker": {
          "color": "#00cc96"
         },
         "mode": "markers",
         "name": "Liberia",
         "showlegend": true,
         "subplot": "mapbox",
         "type": "scattermapbox"
        },
        {
         "hovertemplate": "country=Libya<br>lat=%{lat}<br>long=%{lon}<extra></extra>",
         "lat": [
          26.3351
         ],
         "legendgroup": "Libya",
         "lon": [
          17.228331
         ],
         "marker": {
          "color": "#ab63fa"
         },
         "mode": "markers",
         "name": "Libya",
         "showlegend": true,
         "subplot": "mapbox",
         "type": "scattermapbox"
        },
        {
         "hovertemplate": "country=Liechtenstein<br>lat=%{lat}<br>long=%{lon}<extra></extra>",
         "lat": [
          47.14
         ],
         "legendgroup": "Liechtenstein",
         "lon": [
          9.55
         ],
         "marker": {
          "color": "#FFA15A"
         },
         "mode": "markers",
         "name": "Liechtenstein",
         "showlegend": true,
         "subplot": "mapbox",
         "type": "scattermapbox"
        },
        {
         "hovertemplate": "country=Lithuania<br>lat=%{lat}<br>long=%{lon}<extra></extra>",
         "lat": [
          55.1694
         ],
         "legendgroup": "Lithuania",
         "lon": [
          23.8813
         ],
         "marker": {
          "color": "#19d3f3"
         },
         "mode": "markers",
         "name": "Lithuania",
         "showlegend": true,
         "subplot": "mapbox",
         "type": "scattermapbox"
        },
        {
         "hovertemplate": "country=Luxembourg<br>lat=%{lat}<br>long=%{lon}<extra></extra>",
         "lat": [
          49.8153
         ],
         "legendgroup": "Luxembourg",
         "lon": [
          6.1296
         ],
         "marker": {
          "color": "#FF6692"
         },
         "mode": "markers",
         "name": "Luxembourg",
         "showlegend": true,
         "subplot": "mapbox",
         "type": "scattermapbox"
        },
        {
         "hovertemplate": "country=MS Zaandam<br>lat=%{lat}<br>long=%{lon}<extra></extra>",
         "lat": [
          0
         ],
         "legendgroup": "MS Zaandam",
         "lon": [
          0
         ],
         "marker": {
          "color": "#B6E880"
         },
         "mode": "markers",
         "name": "MS Zaandam",
         "showlegend": true,
         "subplot": "mapbox",
         "type": "scattermapbox"
        },
        {
         "hovertemplate": "country=Madagascar<br>lat=%{lat}<br>long=%{lon}<extra></extra>",
         "lat": [
          -18.766947
         ],
         "legendgroup": "Madagascar",
         "lon": [
          46.869107
         ],
         "marker": {
          "color": "#FF97FF"
         },
         "mode": "markers",
         "name": "Madagascar",
         "showlegend": true,
         "subplot": "mapbox",
         "type": "scattermapbox"
        },
        {
         "hovertemplate": "country=Malawi<br>lat=%{lat}<br>long=%{lon}<extra></extra>",
         "lat": [
          -13.2543
         ],
         "legendgroup": "Malawi",
         "lon": [
          34.3015
         ],
         "marker": {
          "color": "#FECB52"
         },
         "mode": "markers",
         "name": "Malawi",
         "showlegend": true,
         "subplot": "mapbox",
         "type": "scattermapbox"
        },
        {
         "hovertemplate": "country=Malaysia<br>lat=%{lat}<br>long=%{lon}<extra></extra>",
         "lat": [
          4.210484
         ],
         "legendgroup": "Malaysia",
         "lon": [
          101.975766
         ],
         "marker": {
          "color": "#636efa"
         },
         "mode": "markers",
         "name": "Malaysia",
         "showlegend": true,
         "subplot": "mapbox",
         "type": "scattermapbox"
        },
        {
         "hovertemplate": "country=Maldives<br>lat=%{lat}<br>long=%{lon}<extra></extra>",
         "lat": [
          3.2028
         ],
         "legendgroup": "Maldives",
         "lon": [
          73.2207
         ],
         "marker": {
          "color": "#EF553B"
         },
         "mode": "markers",
         "name": "Maldives",
         "showlegend": true,
         "subplot": "mapbox",
         "type": "scattermapbox"
        },
        {
         "hovertemplate": "country=Mali<br>lat=%{lat}<br>long=%{lon}<extra></extra>",
         "lat": [
          17.570692
         ],
         "legendgroup": "Mali",
         "lon": [
          -3.996166
         ],
         "marker": {
          "color": "#00cc96"
         },
         "mode": "markers",
         "name": "Mali",
         "showlegend": true,
         "subplot": "mapbox",
         "type": "scattermapbox"
        },
        {
         "hovertemplate": "country=Malta<br>lat=%{lat}<br>long=%{lon}<extra></extra>",
         "lat": [
          35.9375
         ],
         "legendgroup": "Malta",
         "lon": [
          14.3754
         ],
         "marker": {
          "color": "#ab63fa"
         },
         "mode": "markers",
         "name": "Malta",
         "showlegend": true,
         "subplot": "mapbox",
         "type": "scattermapbox"
        },
        {
         "hovertemplate": "country=Marshall Islands<br>lat=%{lat}<br>long=%{lon}<extra></extra>",
         "lat": [
          7.1315
         ],
         "legendgroup": "Marshall Islands",
         "lon": [
          171.1845
         ],
         "marker": {
          "color": "#FFA15A"
         },
         "mode": "markers",
         "name": "Marshall Islands",
         "showlegend": true,
         "subplot": "mapbox",
         "type": "scattermapbox"
        },
        {
         "hovertemplate": "country=Mauritania<br>lat=%{lat}<br>long=%{lon}<extra></extra>",
         "lat": [
          21.0079
         ],
         "legendgroup": "Mauritania",
         "lon": [
          -10.9408
         ],
         "marker": {
          "color": "#19d3f3"
         },
         "mode": "markers",
         "name": "Mauritania",
         "showlegend": true,
         "subplot": "mapbox",
         "type": "scattermapbox"
        },
        {
         "hovertemplate": "country=Mauritius<br>lat=%{lat}<br>long=%{lon}<extra></extra>",
         "lat": [
          -20.348404
         ],
         "legendgroup": "Mauritius",
         "lon": [
          57.552152
         ],
         "marker": {
          "color": "#FF6692"
         },
         "mode": "markers",
         "name": "Mauritius",
         "showlegend": true,
         "subplot": "mapbox",
         "type": "scattermapbox"
        },
        {
         "hovertemplate": "country=Mexico<br>lat=%{lat}<br>long=%{lon}<extra></extra>",
         "lat": [
          23.6345
         ],
         "legendgroup": "Mexico",
         "lon": [
          -102.5528
         ],
         "marker": {
          "color": "#B6E880"
         },
         "mode": "markers",
         "name": "Mexico",
         "showlegend": true,
         "subplot": "mapbox",
         "type": "scattermapbox"
        },
        {
         "hovertemplate": "country=Micronesia<br>lat=%{lat}<br>long=%{lon}<extra></extra>",
         "lat": [
          7.4256
         ],
         "legendgroup": "Micronesia",
         "lon": [
          150.5508
         ],
         "marker": {
          "color": "#FF97FF"
         },
         "mode": "markers",
         "name": "Micronesia",
         "showlegend": true,
         "subplot": "mapbox",
         "type": "scattermapbox"
        },
        {
         "hovertemplate": "country=Moldova<br>lat=%{lat}<br>long=%{lon}<extra></extra>",
         "lat": [
          47.4116
         ],
         "legendgroup": "Moldova",
         "lon": [
          28.3699
         ],
         "marker": {
          "color": "#FECB52"
         },
         "mode": "markers",
         "name": "Moldova",
         "showlegend": true,
         "subplot": "mapbox",
         "type": "scattermapbox"
        },
        {
         "hovertemplate": "country=Monaco<br>lat=%{lat}<br>long=%{lon}<extra></extra>",
         "lat": [
          43.7333
         ],
         "legendgroup": "Monaco",
         "lon": [
          7.4167
         ],
         "marker": {
          "color": "#636efa"
         },
         "mode": "markers",
         "name": "Monaco",
         "showlegend": true,
         "subplot": "mapbox",
         "type": "scattermapbox"
        },
        {
         "hovertemplate": "country=Mongolia<br>lat=%{lat}<br>long=%{lon}<extra></extra>",
         "lat": [
          46.8625
         ],
         "legendgroup": "Mongolia",
         "lon": [
          103.8467
         ],
         "marker": {
          "color": "#EF553B"
         },
         "mode": "markers",
         "name": "Mongolia",
         "showlegend": true,
         "subplot": "mapbox",
         "type": "scattermapbox"
        },
        {
         "hovertemplate": "country=Montenegro<br>lat=%{lat}<br>long=%{lon}<extra></extra>",
         "lat": [
          42.708678
         ],
         "legendgroup": "Montenegro",
         "lon": [
          19.37439
         ],
         "marker": {
          "color": "#00cc96"
         },
         "mode": "markers",
         "name": "Montenegro",
         "showlegend": true,
         "subplot": "mapbox",
         "type": "scattermapbox"
        },
        {
         "hovertemplate": "country=Morocco<br>lat=%{lat}<br>long=%{lon}<extra></extra>",
         "lat": [
          31.7917
         ],
         "legendgroup": "Morocco",
         "lon": [
          -7.0926
         ],
         "marker": {
          "color": "#ab63fa"
         },
         "mode": "markers",
         "name": "Morocco",
         "showlegend": true,
         "subplot": "mapbox",
         "type": "scattermapbox"
        },
        {
         "hovertemplate": "country=Mozambique<br>lat=%{lat}<br>long=%{lon}<extra></extra>",
         "lat": [
          -18.665695
         ],
         "legendgroup": "Mozambique",
         "lon": [
          35.529562
         ],
         "marker": {
          "color": "#FFA15A"
         },
         "mode": "markers",
         "name": "Mozambique",
         "showlegend": true,
         "subplot": "mapbox",
         "type": "scattermapbox"
        },
        {
         "hovertemplate": "country=Namibia<br>lat=%{lat}<br>long=%{lon}<extra></extra>",
         "lat": [
          -22.9576
         ],
         "legendgroup": "Namibia",
         "lon": [
          18.4904
         ],
         "marker": {
          "color": "#19d3f3"
         },
         "mode": "markers",
         "name": "Namibia",
         "showlegend": true,
         "subplot": "mapbox",
         "type": "scattermapbox"
        },
        {
         "hovertemplate": "country=Nauru<br>lat=%{lat}<br>long=%{lon}<extra></extra>",
         "lat": [
          -0.5228
         ],
         "legendgroup": "Nauru",
         "lon": [
          166.9315
         ],
         "marker": {
          "color": "#FF6692"
         },
         "mode": "markers",
         "name": "Nauru",
         "showlegend": true,
         "subplot": "mapbox",
         "type": "scattermapbox"
        },
        {
         "hovertemplate": "country=Nepal<br>lat=%{lat}<br>long=%{lon}<extra></extra>",
         "lat": [
          28.1667
         ],
         "legendgroup": "Nepal",
         "lon": [
          84.25
         ],
         "marker": {
          "color": "#B6E880"
         },
         "mode": "markers",
         "name": "Nepal",
         "showlegend": true,
         "subplot": "mapbox",
         "type": "scattermapbox"
        },
        {
         "hovertemplate": "country=Netherlands<br>lat=%{lat}<br>long=%{lon}<extra></extra>",
         "lat": [
          12.5211,
          12.1784,
          12.1696,
          18.0425,
          52.1326
         ],
         "legendgroup": "Netherlands",
         "lon": [
          -69.9683,
          -68.2385,
          -68.99,
          -63.0548,
          5.2913
         ],
         "marker": {
          "color": "#FF97FF"
         },
         "mode": "markers",
         "name": "Netherlands",
         "showlegend": true,
         "subplot": "mapbox",
         "type": "scattermapbox"
        },
        {
         "hovertemplate": "country=New Zealand<br>lat=%{lat}<br>long=%{lon}<extra></extra>",
         "lat": [
          -21.2367,
          -19.0544,
          -40.9006
         ],
         "legendgroup": "New Zealand",
         "lon": [
          -159.7777,
          -169.8672,
          174.886
         ],
         "marker": {
          "color": "#FECB52"
         },
         "mode": "markers",
         "name": "New Zealand",
         "showlegend": true,
         "subplot": "mapbox",
         "type": "scattermapbox"
        },
        {
         "hovertemplate": "country=Nicaragua<br>lat=%{lat}<br>long=%{lon}<extra></extra>",
         "lat": [
          12.865416
         ],
         "legendgroup": "Nicaragua",
         "lon": [
          -85.207229
         ],
         "marker": {
          "color": "#636efa"
         },
         "mode": "markers",
         "name": "Nicaragua",
         "showlegend": true,
         "subplot": "mapbox",
         "type": "scattermapbox"
        },
        {
         "hovertemplate": "country=Niger<br>lat=%{lat}<br>long=%{lon}<extra></extra>",
         "lat": [
          17.607789
         ],
         "legendgroup": "Niger",
         "lon": [
          8.081666
         ],
         "marker": {
          "color": "#EF553B"
         },
         "mode": "markers",
         "name": "Niger",
         "showlegend": true,
         "subplot": "mapbox",
         "type": "scattermapbox"
        },
        {
         "hovertemplate": "country=Nigeria<br>lat=%{lat}<br>long=%{lon}<extra></extra>",
         "lat": [
          9.082
         ],
         "legendgroup": "Nigeria",
         "lon": [
          8.6753
         ],
         "marker": {
          "color": "#00cc96"
         },
         "mode": "markers",
         "name": "Nigeria",
         "showlegend": true,
         "subplot": "mapbox",
         "type": "scattermapbox"
        },
        {
         "hovertemplate": "country=North Macedonia<br>lat=%{lat}<br>long=%{lon}<extra></extra>",
         "lat": [
          41.6086
         ],
         "legendgroup": "North Macedonia",
         "lon": [
          21.7453
         ],
         "marker": {
          "color": "#ab63fa"
         },
         "mode": "markers",
         "name": "North Macedonia",
         "showlegend": true,
         "subplot": "mapbox",
         "type": "scattermapbox"
        },
        {
         "hovertemplate": "country=Norway<br>lat=%{lat}<br>long=%{lon}<extra></extra>",
         "lat": [
          60.472
         ],
         "legendgroup": "Norway",
         "lon": [
          8.4689
         ],
         "marker": {
          "color": "#FFA15A"
         },
         "mode": "markers",
         "name": "Norway",
         "showlegend": true,
         "subplot": "mapbox",
         "type": "scattermapbox"
        },
        {
         "hovertemplate": "country=Oman<br>lat=%{lat}<br>long=%{lon}<extra></extra>",
         "lat": [
          21.512583
         ],
         "legendgroup": "Oman",
         "lon": [
          55.923255
         ],
         "marker": {
          "color": "#19d3f3"
         },
         "mode": "markers",
         "name": "Oman",
         "showlegend": true,
         "subplot": "mapbox",
         "type": "scattermapbox"
        },
        {
         "hovertemplate": "country=Pakistan<br>lat=%{lat}<br>long=%{lon}<extra></extra>",
         "lat": [
          30.3753
         ],
         "legendgroup": "Pakistan",
         "lon": [
          69.3451
         ],
         "marker": {
          "color": "#FF6692"
         },
         "mode": "markers",
         "name": "Pakistan",
         "showlegend": true,
         "subplot": "mapbox",
         "type": "scattermapbox"
        },
        {
         "hovertemplate": "country=Palau<br>lat=%{lat}<br>long=%{lon}<extra></extra>",
         "lat": [
          7.515
         ],
         "legendgroup": "Palau",
         "lon": [
          134.5825
         ],
         "marker": {
          "color": "#B6E880"
         },
         "mode": "markers",
         "name": "Palau",
         "showlegend": true,
         "subplot": "mapbox",
         "type": "scattermapbox"
        },
        {
         "hovertemplate": "country=Panama<br>lat=%{lat}<br>long=%{lon}<extra></extra>",
         "lat": [
          8.538
         ],
         "legendgroup": "Panama",
         "lon": [
          -80.7821
         ],
         "marker": {
          "color": "#FF97FF"
         },
         "mode": "markers",
         "name": "Panama",
         "showlegend": true,
         "subplot": "mapbox",
         "type": "scattermapbox"
        },
        {
         "hovertemplate": "country=Papua New Guinea<br>lat=%{lat}<br>long=%{lon}<extra></extra>",
         "lat": [
          -6.314993
         ],
         "legendgroup": "Papua New Guinea",
         "lon": [
          143.95555
         ],
         "marker": {
          "color": "#FECB52"
         },
         "mode": "markers",
         "name": "Papua New Guinea",
         "showlegend": true,
         "subplot": "mapbox",
         "type": "scattermapbox"
        },
        {
         "hovertemplate": "country=Paraguay<br>lat=%{lat}<br>long=%{lon}<extra></extra>",
         "lat": [
          -23.4425
         ],
         "legendgroup": "Paraguay",
         "lon": [
          -58.4438
         ],
         "marker": {
          "color": "#636efa"
         },
         "mode": "markers",
         "name": "Paraguay",
         "showlegend": true,
         "subplot": "mapbox",
         "type": "scattermapbox"
        },
        {
         "hovertemplate": "country=Peru<br>lat=%{lat}<br>long=%{lon}<extra></extra>",
         "lat": [
          -9.19
         ],
         "legendgroup": "Peru",
         "lon": [
          -75.0152
         ],
         "marker": {
          "color": "#EF553B"
         },
         "mode": "markers",
         "name": "Peru",
         "showlegend": true,
         "subplot": "mapbox",
         "type": "scattermapbox"
        },
        {
         "hovertemplate": "country=Philippines<br>lat=%{lat}<br>long=%{lon}<extra></extra>",
         "lat": [
          12.879721
         ],
         "legendgroup": "Philippines",
         "lon": [
          121.774017
         ],
         "marker": {
          "color": "#00cc96"
         },
         "mode": "markers",
         "name": "Philippines",
         "showlegend": true,
         "subplot": "mapbox",
         "type": "scattermapbox"
        },
        {
         "hovertemplate": "country=Poland<br>lat=%{lat}<br>long=%{lon}<extra></extra>",
         "lat": [
          51.9194
         ],
         "legendgroup": "Poland",
         "lon": [
          19.1451
         ],
         "marker": {
          "color": "#ab63fa"
         },
         "mode": "markers",
         "name": "Poland",
         "showlegend": true,
         "subplot": "mapbox",
         "type": "scattermapbox"
        },
        {
         "hovertemplate": "country=Portugal<br>lat=%{lat}<br>long=%{lon}<extra></extra>",
         "lat": [
          39.3999
         ],
         "legendgroup": "Portugal",
         "lon": [
          -8.2245
         ],
         "marker": {
          "color": "#FFA15A"
         },
         "mode": "markers",
         "name": "Portugal",
         "showlegend": true,
         "subplot": "mapbox",
         "type": "scattermapbox"
        },
        {
         "hovertemplate": "country=Qatar<br>lat=%{lat}<br>long=%{lon}<extra></extra>",
         "lat": [
          25.3548
         ],
         "legendgroup": "Qatar",
         "lon": [
          51.1839
         ],
         "marker": {
          "color": "#19d3f3"
         },
         "mode": "markers",
         "name": "Qatar",
         "showlegend": true,
         "subplot": "mapbox",
         "type": "scattermapbox"
        },
        {
         "hovertemplate": "country=Romania<br>lat=%{lat}<br>long=%{lon}<extra></extra>",
         "lat": [
          45.9432
         ],
         "legendgroup": "Romania",
         "lon": [
          24.9668
         ],
         "marker": {
          "color": "#FF6692"
         },
         "mode": "markers",
         "name": "Romania",
         "showlegend": true,
         "subplot": "mapbox",
         "type": "scattermapbox"
        },
        {
         "hovertemplate": "country=Russia<br>lat=%{lat}<br>long=%{lon}<extra></extra>",
         "lat": [
          61.52401
         ],
         "legendgroup": "Russia",
         "lon": [
          105.318756
         ],
         "marker": {
          "color": "#B6E880"
         },
         "mode": "markers",
         "name": "Russia",
         "showlegend": true,
         "subplot": "mapbox",
         "type": "scattermapbox"
        },
        {
         "hovertemplate": "country=Rwanda<br>lat=%{lat}<br>long=%{lon}<extra></extra>",
         "lat": [
          -1.9403
         ],
         "legendgroup": "Rwanda",
         "lon": [
          29.8739
         ],
         "marker": {
          "color": "#FF97FF"
         },
         "mode": "markers",
         "name": "Rwanda",
         "showlegend": true,
         "subplot": "mapbox",
         "type": "scattermapbox"
        },
        {
         "hovertemplate": "country=Saint Kitts and Nevis<br>lat=%{lat}<br>long=%{lon}<extra></extra>",
         "lat": [
          17.357822
         ],
         "legendgroup": "Saint Kitts and Nevis",
         "lon": [
          -62.782998
         ],
         "marker": {
          "color": "#FECB52"
         },
         "mode": "markers",
         "name": "Saint Kitts and Nevis",
         "showlegend": true,
         "subplot": "mapbox",
         "type": "scattermapbox"
        },
        {
         "hovertemplate": "country=Saint Lucia<br>lat=%{lat}<br>long=%{lon}<extra></extra>",
         "lat": [
          13.9094
         ],
         "legendgroup": "Saint Lucia",
         "lon": [
          -60.9789
         ],
         "marker": {
          "color": "#636efa"
         },
         "mode": "markers",
         "name": "Saint Lucia",
         "showlegend": true,
         "subplot": "mapbox",
         "type": "scattermapbox"
        },
        {
         "hovertemplate": "country=Saint Vincent and the Grenadines<br>lat=%{lat}<br>long=%{lon}<extra></extra>",
         "lat": [
          12.9843
         ],
         "legendgroup": "Saint Vincent and the Grenadines",
         "lon": [
          -61.2872
         ],
         "marker": {
          "color": "#EF553B"
         },
         "mode": "markers",
         "name": "Saint Vincent and the Grenadines",
         "showlegend": true,
         "subplot": "mapbox",
         "type": "scattermapbox"
        },
        {
         "hovertemplate": "country=Samoa<br>lat=%{lat}<br>long=%{lon}<extra></extra>",
         "lat": [
          -13.759
         ],
         "legendgroup": "Samoa",
         "lon": [
          -172.1046
         ],
         "marker": {
          "color": "#00cc96"
         },
         "mode": "markers",
         "name": "Samoa",
         "showlegend": true,
         "subplot": "mapbox",
         "type": "scattermapbox"
        },
        {
         "hovertemplate": "country=San Marino<br>lat=%{lat}<br>long=%{lon}<extra></extra>",
         "lat": [
          43.9424
         ],
         "legendgroup": "San Marino",
         "lon": [
          12.4578
         ],
         "marker": {
          "color": "#ab63fa"
         },
         "mode": "markers",
         "name": "San Marino",
         "showlegend": true,
         "subplot": "mapbox",
         "type": "scattermapbox"
        },
        {
         "hovertemplate": "country=Sao Tome and Principe<br>lat=%{lat}<br>long=%{lon}<extra></extra>",
         "lat": [
          0.1864
         ],
         "legendgroup": "Sao Tome and Principe",
         "lon": [
          6.6131
         ],
         "marker": {
          "color": "#FFA15A"
         },
         "mode": "markers",
         "name": "Sao Tome and Principe",
         "showlegend": true,
         "subplot": "mapbox",
         "type": "scattermapbox"
        },
        {
         "hovertemplate": "country=Saudi Arabia<br>lat=%{lat}<br>long=%{lon}<extra></extra>",
         "lat": [
          23.885942
         ],
         "legendgroup": "Saudi Arabia",
         "lon": [
          45.079162
         ],
         "marker": {
          "color": "#19d3f3"
         },
         "mode": "markers",
         "name": "Saudi Arabia",
         "showlegend": true,
         "subplot": "mapbox",
         "type": "scattermapbox"
        },
        {
         "hovertemplate": "country=Senegal<br>lat=%{lat}<br>long=%{lon}<extra></extra>",
         "lat": [
          14.4974
         ],
         "legendgroup": "Senegal",
         "lon": [
          -14.4524
         ],
         "marker": {
          "color": "#FF6692"
         },
         "mode": "markers",
         "name": "Senegal",
         "showlegend": true,
         "subplot": "mapbox",
         "type": "scattermapbox"
        },
        {
         "hovertemplate": "country=Serbia<br>lat=%{lat}<br>long=%{lon}<extra></extra>",
         "lat": [
          44.0165
         ],
         "legendgroup": "Serbia",
         "lon": [
          21.0059
         ],
         "marker": {
          "color": "#B6E880"
         },
         "mode": "markers",
         "name": "Serbia",
         "showlegend": true,
         "subplot": "mapbox",
         "type": "scattermapbox"
        },
        {
         "hovertemplate": "country=Seychelles<br>lat=%{lat}<br>long=%{lon}<extra></extra>",
         "lat": [
          -4.6796
         ],
         "legendgroup": "Seychelles",
         "lon": [
          55.492
         ],
         "marker": {
          "color": "#FF97FF"
         },
         "mode": "markers",
         "name": "Seychelles",
         "showlegend": true,
         "subplot": "mapbox",
         "type": "scattermapbox"
        },
        {
         "hovertemplate": "country=Sierra Leone<br>lat=%{lat}<br>long=%{lon}<extra></extra>",
         "lat": [
          8.460555
         ],
         "legendgroup": "Sierra Leone",
         "lon": [
          -11.779889
         ],
         "marker": {
          "color": "#FECB52"
         },
         "mode": "markers",
         "name": "Sierra Leone",
         "showlegend": true,
         "subplot": "mapbox",
         "type": "scattermapbox"
        },
        {
         "hovertemplate": "country=Singapore<br>lat=%{lat}<br>long=%{lon}<extra></extra>",
         "lat": [
          1.2833
         ],
         "legendgroup": "Singapore",
         "lon": [
          103.8333
         ],
         "marker": {
          "color": "#636efa"
         },
         "mode": "markers",
         "name": "Singapore",
         "showlegend": true,
         "subplot": "mapbox",
         "type": "scattermapbox"
        },
        {
         "hovertemplate": "country=Slovakia<br>lat=%{lat}<br>long=%{lon}<extra></extra>",
         "lat": [
          48.669
         ],
         "legendgroup": "Slovakia",
         "lon": [
          19.699
         ],
         "marker": {
          "color": "#EF553B"
         },
         "mode": "markers",
         "name": "Slovakia",
         "showlegend": true,
         "subplot": "mapbox",
         "type": "scattermapbox"
        },
        {
         "hovertemplate": "country=Slovenia<br>lat=%{lat}<br>long=%{lon}<extra></extra>",
         "lat": [
          46.1512
         ],
         "legendgroup": "Slovenia",
         "lon": [
          14.9955
         ],
         "marker": {
          "color": "#00cc96"
         },
         "mode": "markers",
         "name": "Slovenia",
         "showlegend": true,
         "subplot": "mapbox",
         "type": "scattermapbox"
        },
        {
         "hovertemplate": "country=Solomon Islands<br>lat=%{lat}<br>long=%{lon}<extra></extra>",
         "lat": [
          -9.6457
         ],
         "legendgroup": "Solomon Islands",
         "lon": [
          160.1562
         ],
         "marker": {
          "color": "#ab63fa"
         },
         "mode": "markers",
         "name": "Solomon Islands",
         "showlegend": true,
         "subplot": "mapbox",
         "type": "scattermapbox"
        },
        {
         "hovertemplate": "country=Somalia<br>lat=%{lat}<br>long=%{lon}<extra></extra>",
         "lat": [
          5.152149
         ],
         "legendgroup": "Somalia",
         "lon": [
          46.199616
         ],
         "marker": {
          "color": "#FFA15A"
         },
         "mode": "markers",
         "name": "Somalia",
         "showlegend": true,
         "subplot": "mapbox",
         "type": "scattermapbox"
        },
        {
         "hovertemplate": "country=South Africa<br>lat=%{lat}<br>long=%{lon}<extra></extra>",
         "lat": [
          -30.5595
         ],
         "legendgroup": "South Africa",
         "lon": [
          22.9375
         ],
         "marker": {
          "color": "#19d3f3"
         },
         "mode": "markers",
         "name": "South Africa",
         "showlegend": true,
         "subplot": "mapbox",
         "type": "scattermapbox"
        },
        {
         "hovertemplate": "country=South Sudan<br>lat=%{lat}<br>long=%{lon}<extra></extra>",
         "lat": [
          6.877
         ],
         "legendgroup": "South Sudan",
         "lon": [
          31.307
         ],
         "marker": {
          "color": "#FF6692"
         },
         "mode": "markers",
         "name": "South Sudan",
         "showlegend": true,
         "subplot": "mapbox",
         "type": "scattermapbox"
        },
        {
         "hovertemplate": "country=Spain<br>lat=%{lat}<br>long=%{lon}<extra></extra>",
         "lat": [
          40.463667
         ],
         "legendgroup": "Spain",
         "lon": [
          -3.74922
         ],
         "marker": {
          "color": "#B6E880"
         },
         "mode": "markers",
         "name": "Spain",
         "showlegend": true,
         "subplot": "mapbox",
         "type": "scattermapbox"
        },
        {
         "hovertemplate": "country=Sri Lanka<br>lat=%{lat}<br>long=%{lon}<extra></extra>",
         "lat": [
          7.873054
         ],
         "legendgroup": "Sri Lanka",
         "lon": [
          80.771797
         ],
         "marker": {
          "color": "#FF97FF"
         },
         "mode": "markers",
         "name": "Sri Lanka",
         "showlegend": true,
         "subplot": "mapbox",
         "type": "scattermapbox"
        },
        {
         "hovertemplate": "country=Sudan<br>lat=%{lat}<br>long=%{lon}<extra></extra>",
         "lat": [
          12.8628
         ],
         "legendgroup": "Sudan",
         "lon": [
          30.2176
         ],
         "marker": {
          "color": "#FECB52"
         },
         "mode": "markers",
         "name": "Sudan",
         "showlegend": true,
         "subplot": "mapbox",
         "type": "scattermapbox"
        },
        {
         "hovertemplate": "country=Summer Olympics 2020<br>lat=%{lat}<br>long=%{lon}<extra></extra>",
         "lat": [
          35.6491
         ],
         "legendgroup": "Summer Olympics 2020",
         "lon": [
          139.7737
         ],
         "marker": {
          "color": "#636efa"
         },
         "mode": "markers",
         "name": "Summer Olympics 2020",
         "showlegend": true,
         "subplot": "mapbox",
         "type": "scattermapbox"
        },
        {
         "hovertemplate": "country=Suriname<br>lat=%{lat}<br>long=%{lon}<extra></extra>",
         "lat": [
          3.9193
         ],
         "legendgroup": "Suriname",
         "lon": [
          -56.0278
         ],
         "marker": {
          "color": "#EF553B"
         },
         "mode": "markers",
         "name": "Suriname",
         "showlegend": true,
         "subplot": "mapbox",
         "type": "scattermapbox"
        },
        {
         "hovertemplate": "country=Sweden<br>lat=%{lat}<br>long=%{lon}<extra></extra>",
         "lat": [
          60.128161
         ],
         "legendgroup": "Sweden",
         "lon": [
          18.643501
         ],
         "marker": {
          "color": "#00cc96"
         },
         "mode": "markers",
         "name": "Sweden",
         "showlegend": true,
         "subplot": "mapbox",
         "type": "scattermapbox"
        },
        {
         "hovertemplate": "country=Switzerland<br>lat=%{lat}<br>long=%{lon}<extra></extra>",
         "lat": [
          46.8182
         ],
         "legendgroup": "Switzerland",
         "lon": [
          8.2275
         ],
         "marker": {
          "color": "#ab63fa"
         },
         "mode": "markers",
         "name": "Switzerland",
         "showlegend": true,
         "subplot": "mapbox",
         "type": "scattermapbox"
        },
        {
         "hovertemplate": "country=Syria<br>lat=%{lat}<br>long=%{lon}<extra></extra>",
         "lat": [
          34.802075
         ],
         "legendgroup": "Syria",
         "lon": [
          38.996815
         ],
         "marker": {
          "color": "#FFA15A"
         },
         "mode": "markers",
         "name": "Syria",
         "showlegend": true,
         "subplot": "mapbox",
         "type": "scattermapbox"
        },
        {
         "hovertemplate": "country=Taiwan*<br>lat=%{lat}<br>long=%{lon}<extra></extra>",
         "lat": [
          23.7
         ],
         "legendgroup": "Taiwan*",
         "lon": [
          121
         ],
         "marker": {
          "color": "#19d3f3"
         },
         "mode": "markers",
         "name": "Taiwan*",
         "showlegend": true,
         "subplot": "mapbox",
         "type": "scattermapbox"
        },
        {
         "hovertemplate": "country=Tajikistan<br>lat=%{lat}<br>long=%{lon}<extra></extra>",
         "lat": [
          38.861
         ],
         "legendgroup": "Tajikistan",
         "lon": [
          71.2761
         ],
         "marker": {
          "color": "#FF6692"
         },
         "mode": "markers",
         "name": "Tajikistan",
         "showlegend": true,
         "subplot": "mapbox",
         "type": "scattermapbox"
        },
        {
         "hovertemplate": "country=Tanzania<br>lat=%{lat}<br>long=%{lon}<extra></extra>",
         "lat": [
          -6.369028
         ],
         "legendgroup": "Tanzania",
         "lon": [
          34.888822
         ],
         "marker": {
          "color": "#B6E880"
         },
         "mode": "markers",
         "name": "Tanzania",
         "showlegend": true,
         "subplot": "mapbox",
         "type": "scattermapbox"
        },
        {
         "hovertemplate": "country=Thailand<br>lat=%{lat}<br>long=%{lon}<extra></extra>",
         "lat": [
          15.870032
         ],
         "legendgroup": "Thailand",
         "lon": [
          100.992541
         ],
         "marker": {
          "color": "#FF97FF"
         },
         "mode": "markers",
         "name": "Thailand",
         "showlegend": true,
         "subplot": "mapbox",
         "type": "scattermapbox"
        },
        {
         "hovertemplate": "country=Timor-Leste<br>lat=%{lat}<br>long=%{lon}<extra></extra>",
         "lat": [
          -8.874217
         ],
         "legendgroup": "Timor-Leste",
         "lon": [
          125.727539
         ],
         "marker": {
          "color": "#FECB52"
         },
         "mode": "markers",
         "name": "Timor-Leste",
         "showlegend": true,
         "subplot": "mapbox",
         "type": "scattermapbox"
        },
        {
         "hovertemplate": "country=Togo<br>lat=%{lat}<br>long=%{lon}<extra></extra>",
         "lat": [
          8.6195
         ],
         "legendgroup": "Togo",
         "lon": [
          0.8248
         ],
         "marker": {
          "color": "#636efa"
         },
         "mode": "markers",
         "name": "Togo",
         "showlegend": true,
         "subplot": "mapbox",
         "type": "scattermapbox"
        },
        {
         "hovertemplate": "country=Tonga<br>lat=%{lat}<br>long=%{lon}<extra></extra>",
         "lat": [
          -21.179
         ],
         "legendgroup": "Tonga",
         "lon": [
          -175.1982
         ],
         "marker": {
          "color": "#EF553B"
         },
         "mode": "markers",
         "name": "Tonga",
         "showlegend": true,
         "subplot": "mapbox",
         "type": "scattermapbox"
        },
        {
         "hovertemplate": "country=Trinidad and Tobago<br>lat=%{lat}<br>long=%{lon}<extra></extra>",
         "lat": [
          10.6918
         ],
         "legendgroup": "Trinidad and Tobago",
         "lon": [
          -61.2225
         ],
         "marker": {
          "color": "#00cc96"
         },
         "mode": "markers",
         "name": "Trinidad and Tobago",
         "showlegend": true,
         "subplot": "mapbox",
         "type": "scattermapbox"
        },
        {
         "hovertemplate": "country=Tunisia<br>lat=%{lat}<br>long=%{lon}<extra></extra>",
         "lat": [
          33.886917
         ],
         "legendgroup": "Tunisia",
         "lon": [
          9.537499
         ],
         "marker": {
          "color": "#ab63fa"
         },
         "mode": "markers",
         "name": "Tunisia",
         "showlegend": true,
         "subplot": "mapbox",
         "type": "scattermapbox"
        },
        {
         "hovertemplate": "country=Turkey<br>lat=%{lat}<br>long=%{lon}<extra></extra>",
         "lat": [
          38.9637
         ],
         "legendgroup": "Turkey",
         "lon": [
          35.2433
         ],
         "marker": {
          "color": "#FFA15A"
         },
         "mode": "markers",
         "name": "Turkey",
         "showlegend": true,
         "subplot": "mapbox",
         "type": "scattermapbox"
        },
        {
         "hovertemplate": "country=Tuvalu<br>lat=%{lat}<br>long=%{lon}<extra></extra>",
         "lat": [
          -7.1095
         ],
         "legendgroup": "Tuvalu",
         "lon": [
          177.6493
         ],
         "marker": {
          "color": "#19d3f3"
         },
         "mode": "markers",
         "name": "Tuvalu",
         "showlegend": true,
         "subplot": "mapbox",
         "type": "scattermapbox"
        },
        {
         "hovertemplate": "country=US<br>lat=%{lat}<br>long=%{lon}<extra></extra>",
         "lat": [
          40
         ],
         "legendgroup": "US",
         "lon": [
          -100
         ],
         "marker": {
          "color": "#FF6692"
         },
         "mode": "markers",
         "name": "US",
         "showlegend": true,
         "subplot": "mapbox",
         "type": "scattermapbox"
        },
        {
         "hovertemplate": "country=Uganda<br>lat=%{lat}<br>long=%{lon}<extra></extra>",
         "lat": [
          1.373333
         ],
         "legendgroup": "Uganda",
         "lon": [
          32.290275
         ],
         "marker": {
          "color": "#B6E880"
         },
         "mode": "markers",
         "name": "Uganda",
         "showlegend": true,
         "subplot": "mapbox",
         "type": "scattermapbox"
        },
        {
         "hovertemplate": "country=Ukraine<br>lat=%{lat}<br>long=%{lon}<extra></extra>",
         "lat": [
          48.3794
         ],
         "legendgroup": "Ukraine",
         "lon": [
          31.1656
         ],
         "marker": {
          "color": "#FF97FF"
         },
         "mode": "markers",
         "name": "Ukraine",
         "showlegend": true,
         "subplot": "mapbox",
         "type": "scattermapbox"
        },
        {
         "hovertemplate": "country=United Arab Emirates<br>lat=%{lat}<br>long=%{lon}<extra></extra>",
         "lat": [
          23.424076
         ],
         "legendgroup": "United Arab Emirates",
         "lon": [
          53.847818
         ],
         "marker": {
          "color": "#FECB52"
         },
         "mode": "markers",
         "name": "United Arab Emirates",
         "showlegend": true,
         "subplot": "mapbox",
         "type": "scattermapbox"
        },
        {
         "hovertemplate": "country=United Kingdom<br>lat=%{lat}<br>long=%{lon}<extra></extra>",
         "lat": [
          18.2206,
          32.3078,
          18.4207,
          19.3133,
          49.3723,
          -51.7963,
          36.1408,
          49.448196,
          54.2361,
          49.2138,
          16.742498,
          -24.3768,
          -7.9467,
          21.694,
          55.3781
         ],
         "legendgroup": "United Kingdom",
         "lon": [
          -63.0686,
          -64.7505,
          -64.64,
          -81.2546,
          -2.3644,
          -59.5236,
          -5.3536,
          -2.58949,
          -4.5481,
          -2.1358,
          -62.187366,
          -128.3242,
          -14.3559,
          -71.7979,
          -3.436
         ],
         "marker": {
          "color": "#636efa"
         },
         "mode": "markers",
         "name": "United Kingdom",
         "showlegend": true,
         "subplot": "mapbox",
         "type": "scattermapbox"
        },
        {
         "hovertemplate": "country=Uruguay<br>lat=%{lat}<br>long=%{lon}<extra></extra>",
         "lat": [
          -32.5228
         ],
         "legendgroup": "Uruguay",
         "lon": [
          -55.7658
         ],
         "marker": {
          "color": "#EF553B"
         },
         "mode": "markers",
         "name": "Uruguay",
         "showlegend": true,
         "subplot": "mapbox",
         "type": "scattermapbox"
        },
        {
         "hovertemplate": "country=Uzbekistan<br>lat=%{lat}<br>long=%{lon}<extra></extra>",
         "lat": [
          41.377491
         ],
         "legendgroup": "Uzbekistan",
         "lon": [
          64.585262
         ],
         "marker": {
          "color": "#00cc96"
         },
         "mode": "markers",
         "name": "Uzbekistan",
         "showlegend": true,
         "subplot": "mapbox",
         "type": "scattermapbox"
        },
        {
         "hovertemplate": "country=Vanuatu<br>lat=%{lat}<br>long=%{lon}<extra></extra>",
         "lat": [
          -15.3767
         ],
         "legendgroup": "Vanuatu",
         "lon": [
          166.9592
         ],
         "marker": {
          "color": "#ab63fa"
         },
         "mode": "markers",
         "name": "Vanuatu",
         "showlegend": true,
         "subplot": "mapbox",
         "type": "scattermapbox"
        },
        {
         "hovertemplate": "country=Venezuela<br>lat=%{lat}<br>long=%{lon}<extra></extra>",
         "lat": [
          6.4238
         ],
         "legendgroup": "Venezuela",
         "lon": [
          -66.5897
         ],
         "marker": {
          "color": "#FFA15A"
         },
         "mode": "markers",
         "name": "Venezuela",
         "showlegend": true,
         "subplot": "mapbox",
         "type": "scattermapbox"
        },
        {
         "hovertemplate": "country=Vietnam<br>lat=%{lat}<br>long=%{lon}<extra></extra>",
         "lat": [
          14.058324
         ],
         "legendgroup": "Vietnam",
         "lon": [
          108.277199
         ],
         "marker": {
          "color": "#19d3f3"
         },
         "mode": "markers",
         "name": "Vietnam",
         "showlegend": true,
         "subplot": "mapbox",
         "type": "scattermapbox"
        },
        {
         "hovertemplate": "country=West Bank and Gaza<br>lat=%{lat}<br>long=%{lon}<extra></extra>",
         "lat": [
          31.9522
         ],
         "legendgroup": "West Bank and Gaza",
         "lon": [
          35.2332
         ],
         "marker": {
          "color": "#FF6692"
         },
         "mode": "markers",
         "name": "West Bank and Gaza",
         "showlegend": true,
         "subplot": "mapbox",
         "type": "scattermapbox"
        },
        {
         "hovertemplate": "country=Winter Olympics 2022<br>lat=%{lat}<br>long=%{lon}<extra></extra>",
         "lat": [
          39.9042
         ],
         "legendgroup": "Winter Olympics 2022",
         "lon": [
          116.4074
         ],
         "marker": {
          "color": "#B6E880"
         },
         "mode": "markers",
         "name": "Winter Olympics 2022",
         "showlegend": true,
         "subplot": "mapbox",
         "type": "scattermapbox"
        },
        {
         "hovertemplate": "country=Yemen<br>lat=%{lat}<br>long=%{lon}<extra></extra>",
         "lat": [
          15.552727
         ],
         "legendgroup": "Yemen",
         "lon": [
          48.516388
         ],
         "marker": {
          "color": "#FF97FF"
         },
         "mode": "markers",
         "name": "Yemen",
         "showlegend": true,
         "subplot": "mapbox",
         "type": "scattermapbox"
        },
        {
         "hovertemplate": "country=Zambia<br>lat=%{lat}<br>long=%{lon}<extra></extra>",
         "lat": [
          -13.133897
         ],
         "legendgroup": "Zambia",
         "lon": [
          27.849332
         ],
         "marker": {
          "color": "#FECB52"
         },
         "mode": "markers",
         "name": "Zambia",
         "showlegend": true,
         "subplot": "mapbox",
         "type": "scattermapbox"
        },
        {
         "hovertemplate": "country=Zimbabwe<br>lat=%{lat}<br>long=%{lon}<extra></extra>",
         "lat": [
          -19.015438
         ],
         "legendgroup": "Zimbabwe",
         "lon": [
          29.154857
         ],
         "marker": {
          "color": "#636efa"
         },
         "mode": "markers",
         "name": "Zimbabwe",
         "showlegend": true,
         "subplot": "mapbox",
         "type": "scattermapbox"
        }
       ],
       "layout": {
        "legend": {
         "title": {
          "text": "country"
         },
         "tracegroupgap": 0
        },
        "mapbox": {
         "center": {
          "lat": 19.718718627177697,
          "lon": 22.182083707317073
         },
         "domain": {
          "x": [
           0,
           1
          ],
          "y": [
           0,
           1
          ]
         },
         "style": "carto-positron",
         "zoom": 0
        },
        "margin": {
         "t": 60
        },
        "template": {
         "data": {
          "bar": [
           {
            "error_x": {
             "color": "#2a3f5f"
            },
            "error_y": {
             "color": "#2a3f5f"
            },
            "marker": {
             "line": {
              "color": "#E5ECF6",
              "width": 0.5
             },
             "pattern": {
              "fillmode": "overlay",
              "size": 10,
              "solidity": 0.2
             }
            },
            "type": "bar"
           }
          ],
          "barpolar": [
           {
            "marker": {
             "line": {
              "color": "#E5ECF6",
              "width": 0.5
             },
             "pattern": {
              "fillmode": "overlay",
              "size": 10,
              "solidity": 0.2
             }
            },
            "type": "barpolar"
           }
          ],
          "carpet": [
           {
            "aaxis": {
             "endlinecolor": "#2a3f5f",
             "gridcolor": "white",
             "linecolor": "white",
             "minorgridcolor": "white",
             "startlinecolor": "#2a3f5f"
            },
            "baxis": {
             "endlinecolor": "#2a3f5f",
             "gridcolor": "white",
             "linecolor": "white",
             "minorgridcolor": "white",
             "startlinecolor": "#2a3f5f"
            },
            "type": "carpet"
           }
          ],
          "choropleth": [
           {
            "colorbar": {
             "outlinewidth": 0,
             "ticks": ""
            },
            "type": "choropleth"
           }
          ],
          "contour": [
           {
            "colorbar": {
             "outlinewidth": 0,
             "ticks": ""
            },
            "colorscale": [
             [
              0,
              "#0d0887"
             ],
             [
              0.1111111111111111,
              "#46039f"
             ],
             [
              0.2222222222222222,
              "#7201a8"
             ],
             [
              0.3333333333333333,
              "#9c179e"
             ],
             [
              0.4444444444444444,
              "#bd3786"
             ],
             [
              0.5555555555555556,
              "#d8576b"
             ],
             [
              0.6666666666666666,
              "#ed7953"
             ],
             [
              0.7777777777777778,
              "#fb9f3a"
             ],
             [
              0.8888888888888888,
              "#fdca26"
             ],
             [
              1,
              "#f0f921"
             ]
            ],
            "type": "contour"
           }
          ],
          "contourcarpet": [
           {
            "colorbar": {
             "outlinewidth": 0,
             "ticks": ""
            },
            "type": "contourcarpet"
           }
          ],
          "heatmap": [
           {
            "colorbar": {
             "outlinewidth": 0,
             "ticks": ""
            },
            "colorscale": [
             [
              0,
              "#0d0887"
             ],
             [
              0.1111111111111111,
              "#46039f"
             ],
             [
              0.2222222222222222,
              "#7201a8"
             ],
             [
              0.3333333333333333,
              "#9c179e"
             ],
             [
              0.4444444444444444,
              "#bd3786"
             ],
             [
              0.5555555555555556,
              "#d8576b"
             ],
             [
              0.6666666666666666,
              "#ed7953"
             ],
             [
              0.7777777777777778,
              "#fb9f3a"
             ],
             [
              0.8888888888888888,
              "#fdca26"
             ],
             [
              1,
              "#f0f921"
             ]
            ],
            "type": "heatmap"
           }
          ],
          "heatmapgl": [
           {
            "colorbar": {
             "outlinewidth": 0,
             "ticks": ""
            },
            "colorscale": [
             [
              0,
              "#0d0887"
             ],
             [
              0.1111111111111111,
              "#46039f"
             ],
             [
              0.2222222222222222,
              "#7201a8"
             ],
             [
              0.3333333333333333,
              "#9c179e"
             ],
             [
              0.4444444444444444,
              "#bd3786"
             ],
             [
              0.5555555555555556,
              "#d8576b"
             ],
             [
              0.6666666666666666,
              "#ed7953"
             ],
             [
              0.7777777777777778,
              "#fb9f3a"
             ],
             [
              0.8888888888888888,
              "#fdca26"
             ],
             [
              1,
              "#f0f921"
             ]
            ],
            "type": "heatmapgl"
           }
          ],
          "histogram": [
           {
            "marker": {
             "pattern": {
              "fillmode": "overlay",
              "size": 10,
              "solidity": 0.2
             }
            },
            "type": "histogram"
           }
          ],
          "histogram2d": [
           {
            "colorbar": {
             "outlinewidth": 0,
             "ticks": ""
            },
            "colorscale": [
             [
              0,
              "#0d0887"
             ],
             [
              0.1111111111111111,
              "#46039f"
             ],
             [
              0.2222222222222222,
              "#7201a8"
             ],
             [
              0.3333333333333333,
              "#9c179e"
             ],
             [
              0.4444444444444444,
              "#bd3786"
             ],
             [
              0.5555555555555556,
              "#d8576b"
             ],
             [
              0.6666666666666666,
              "#ed7953"
             ],
             [
              0.7777777777777778,
              "#fb9f3a"
             ],
             [
              0.8888888888888888,
              "#fdca26"
             ],
             [
              1,
              "#f0f921"
             ]
            ],
            "type": "histogram2d"
           }
          ],
          "histogram2dcontour": [
           {
            "colorbar": {
             "outlinewidth": 0,
             "ticks": ""
            },
            "colorscale": [
             [
              0,
              "#0d0887"
             ],
             [
              0.1111111111111111,
              "#46039f"
             ],
             [
              0.2222222222222222,
              "#7201a8"
             ],
             [
              0.3333333333333333,
              "#9c179e"
             ],
             [
              0.4444444444444444,
              "#bd3786"
             ],
             [
              0.5555555555555556,
              "#d8576b"
             ],
             [
              0.6666666666666666,
              "#ed7953"
             ],
             [
              0.7777777777777778,
              "#fb9f3a"
             ],
             [
              0.8888888888888888,
              "#fdca26"
             ],
             [
              1,
              "#f0f921"
             ]
            ],
            "type": "histogram2dcontour"
           }
          ],
          "mesh3d": [
           {
            "colorbar": {
             "outlinewidth": 0,
             "ticks": ""
            },
            "type": "mesh3d"
           }
          ],
          "parcoords": [
           {
            "line": {
             "colorbar": {
              "outlinewidth": 0,
              "ticks": ""
             }
            },
            "type": "parcoords"
           }
          ],
          "pie": [
           {
            "automargin": true,
            "type": "pie"
           }
          ],
          "scatter": [
           {
            "fillpattern": {
             "fillmode": "overlay",
             "size": 10,
             "solidity": 0.2
            },
            "type": "scatter"
           }
          ],
          "scatter3d": [
           {
            "line": {
             "colorbar": {
              "outlinewidth": 0,
              "ticks": ""
             }
            },
            "marker": {
             "colorbar": {
              "outlinewidth": 0,
              "ticks": ""
             }
            },
            "type": "scatter3d"
           }
          ],
          "scattercarpet": [
           {
            "marker": {
             "colorbar": {
              "outlinewidth": 0,
              "ticks": ""
             }
            },
            "type": "scattercarpet"
           }
          ],
          "scattergeo": [
           {
            "marker": {
             "colorbar": {
              "outlinewidth": 0,
              "ticks": ""
             }
            },
            "type": "scattergeo"
           }
          ],
          "scattergl": [
           {
            "marker": {
             "colorbar": {
              "outlinewidth": 0,
              "ticks": ""
             }
            },
            "type": "scattergl"
           }
          ],
          "scattermapbox": [
           {
            "marker": {
             "colorbar": {
              "outlinewidth": 0,
              "ticks": ""
             }
            },
            "type": "scattermapbox"
           }
          ],
          "scatterpolar": [
           {
            "marker": {
             "colorbar": {
              "outlinewidth": 0,
              "ticks": ""
             }
            },
            "type": "scatterpolar"
           }
          ],
          "scatterpolargl": [
           {
            "marker": {
             "colorbar": {
              "outlinewidth": 0,
              "ticks": ""
             }
            },
            "type": "scatterpolargl"
           }
          ],
          "scatterternary": [
           {
            "marker": {
             "colorbar": {
              "outlinewidth": 0,
              "ticks": ""
             }
            },
            "type": "scatterternary"
           }
          ],
          "surface": [
           {
            "colorbar": {
             "outlinewidth": 0,
             "ticks": ""
            },
            "colorscale": [
             [
              0,
              "#0d0887"
             ],
             [
              0.1111111111111111,
              "#46039f"
             ],
             [
              0.2222222222222222,
              "#7201a8"
             ],
             [
              0.3333333333333333,
              "#9c179e"
             ],
             [
              0.4444444444444444,
              "#bd3786"
             ],
             [
              0.5555555555555556,
              "#d8576b"
             ],
             [
              0.6666666666666666,
              "#ed7953"
             ],
             [
              0.7777777777777778,
              "#fb9f3a"
             ],
             [
              0.8888888888888888,
              "#fdca26"
             ],
             [
              1,
              "#f0f921"
             ]
            ],
            "type": "surface"
           }
          ],
          "table": [
           {
            "cells": {
             "fill": {
              "color": "#EBF0F8"
             },
             "line": {
              "color": "white"
             }
            },
            "header": {
             "fill": {
              "color": "#C8D4E3"
             },
             "line": {
              "color": "white"
             }
            },
            "type": "table"
           }
          ]
         },
         "layout": {
          "annotationdefaults": {
           "arrowcolor": "#2a3f5f",
           "arrowhead": 0,
           "arrowwidth": 1
          },
          "autotypenumbers": "strict",
          "coloraxis": {
           "colorbar": {
            "outlinewidth": 0,
            "ticks": ""
           }
          },
          "colorscale": {
           "diverging": [
            [
             0,
             "#8e0152"
            ],
            [
             0.1,
             "#c51b7d"
            ],
            [
             0.2,
             "#de77ae"
            ],
            [
             0.3,
             "#f1b6da"
            ],
            [
             0.4,
             "#fde0ef"
            ],
            [
             0.5,
             "#f7f7f7"
            ],
            [
             0.6,
             "#e6f5d0"
            ],
            [
             0.7,
             "#b8e186"
            ],
            [
             0.8,
             "#7fbc41"
            ],
            [
             0.9,
             "#4d9221"
            ],
            [
             1,
             "#276419"
            ]
           ],
           "sequential": [
            [
             0,
             "#0d0887"
            ],
            [
             0.1111111111111111,
             "#46039f"
            ],
            [
             0.2222222222222222,
             "#7201a8"
            ],
            [
             0.3333333333333333,
             "#9c179e"
            ],
            [
             0.4444444444444444,
             "#bd3786"
            ],
            [
             0.5555555555555556,
             "#d8576b"
            ],
            [
             0.6666666666666666,
             "#ed7953"
            ],
            [
             0.7777777777777778,
             "#fb9f3a"
            ],
            [
             0.8888888888888888,
             "#fdca26"
            ],
            [
             1,
             "#f0f921"
            ]
           ],
           "sequentialminus": [
            [
             0,
             "#0d0887"
            ],
            [
             0.1111111111111111,
             "#46039f"
            ],
            [
             0.2222222222222222,
             "#7201a8"
            ],
            [
             0.3333333333333333,
             "#9c179e"
            ],
            [
             0.4444444444444444,
             "#bd3786"
            ],
            [
             0.5555555555555556,
             "#d8576b"
            ],
            [
             0.6666666666666666,
             "#ed7953"
            ],
            [
             0.7777777777777778,
             "#fb9f3a"
            ],
            [
             0.8888888888888888,
             "#fdca26"
            ],
            [
             1,
             "#f0f921"
            ]
           ]
          },
          "colorway": [
           "#636efa",
           "#EF553B",
           "#00cc96",
           "#ab63fa",
           "#FFA15A",
           "#19d3f3",
           "#FF6692",
           "#B6E880",
           "#FF97FF",
           "#FECB52"
          ],
          "font": {
           "color": "#2a3f5f"
          },
          "geo": {
           "bgcolor": "white",
           "lakecolor": "white",
           "landcolor": "#E5ECF6",
           "showlakes": true,
           "showland": true,
           "subunitcolor": "white"
          },
          "hoverlabel": {
           "align": "left"
          },
          "hovermode": "closest",
          "mapbox": {
           "style": "light"
          },
          "paper_bgcolor": "white",
          "plot_bgcolor": "#E5ECF6",
          "polar": {
           "angularaxis": {
            "gridcolor": "white",
            "linecolor": "white",
            "ticks": ""
           },
           "bgcolor": "#E5ECF6",
           "radialaxis": {
            "gridcolor": "white",
            "linecolor": "white",
            "ticks": ""
           }
          },
          "scene": {
           "xaxis": {
            "backgroundcolor": "#E5ECF6",
            "gridcolor": "white",
            "gridwidth": 2,
            "linecolor": "white",
            "showbackground": true,
            "ticks": "",
            "zerolinecolor": "white"
           },
           "yaxis": {
            "backgroundcolor": "#E5ECF6",
            "gridcolor": "white",
            "gridwidth": 2,
            "linecolor": "white",
            "showbackground": true,
            "ticks": "",
            "zerolinecolor": "white"
           },
           "zaxis": {
            "backgroundcolor": "#E5ECF6",
            "gridcolor": "white",
            "gridwidth": 2,
            "linecolor": "white",
            "showbackground": true,
            "ticks": "",
            "zerolinecolor": "white"
           }
          },
          "shapedefaults": {
           "line": {
            "color": "#2a3f5f"
           }
          },
          "ternary": {
           "aaxis": {
            "gridcolor": "white",
            "linecolor": "white",
            "ticks": ""
           },
           "baxis": {
            "gridcolor": "white",
            "linecolor": "white",
            "ticks": ""
           },
           "bgcolor": "#E5ECF6",
           "caxis": {
            "gridcolor": "white",
            "linecolor": "white",
            "ticks": ""
           }
          },
          "title": {
           "x": 0.05
          },
          "xaxis": {
           "automargin": true,
           "gridcolor": "white",
           "linecolor": "white",
           "ticks": "",
           "title": {
            "standoff": 15
           },
           "zerolinecolor": "white",
           "zerolinewidth": 2
          },
          "yaxis": {
           "automargin": true,
           "gridcolor": "white",
           "linecolor": "white",
           "ticks": "",
           "title": {
            "standoff": 15
           },
           "zerolinecolor": "white",
           "zerolinewidth": 2
          }
         }
        },
        "title": {
         "text": "Global spread of COVID-19. (Last updated on 11/30/22)"
        }
       }
      }
     },
     "metadata": {},
     "output_type": "display_data"
    }
   ],
   "source": [
    "fig = px.scatter_mapbox(confirmed_df, lat=\"lat\", lon=\"long\", color=\"country\",\n",
    "                  color_continuous_scale=px.colors.cyclical.IceFire, size_max=15, zoom=0,\n",
    "                  mapbox_style=\"carto-positron\")\n",
    "\n",
    "fig.update_layout(\n",
    "    title=\"Global spread of COVID-19. (Last updated on \"+ confirmed_df.columns[-1] +\")\"\n",
    "    )\n",
    "    \n",
    "fig.show();"
   ]
  },
  {
   "cell_type": "code",
   "execution_count": null,
   "metadata": {},
   "outputs": [],
   "source": []
  }
 ],
 "metadata": {
  "kernelspec": {
   "display_name": "Python 3.7.9 ('venv': venv)",
   "language": "python",
   "name": "python3"
  },
  "language_info": {
   "codemirror_mode": {
    "name": "ipython",
    "version": 3
   },
   "file_extension": ".py",
   "mimetype": "text/x-python",
   "name": "python",
   "nbconvert_exporter": "python",
   "pygments_lexer": "ipython3",
   "version": "3.7.9"
  },
  "orig_nbformat": 4,
  "vscode": {
   "interpreter": {
    "hash": "47024b0f938547452f5cd3e2a2c0e3406c5a51f50183a5f3bf587b74d32c83c5"
   }
  }
 },
 "nbformat": 4,
 "nbformat_minor": 2
}
